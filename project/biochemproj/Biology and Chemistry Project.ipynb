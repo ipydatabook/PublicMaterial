{
 "cells": [
  {
   "cell_type": "markdown",
   "metadata": {},
   "source": [
    " #  <center> <span style = \"color:blue\">  Project </span>  </center>\n",
    "\n",
    "For this project, you'll be analyzing real data provided by professors and their research students in chemistry and biology.  Here's the story:\n",
    "\n",
    "Chemistry students synthesized three different derivatives of penicillin, and meanwhile other students in a microbiology class grew two different bacteria in petri dishes.  The synthesized derivatives of penicillin are supposed to possess antibacterial qualities, which is to say they act as antibiotics.  To test those qualities, the three derivatives were introduced into the petri dishes, by soaking a small disk of paper in the antibiotic then placing the disk in the petri dish.  The \"zone of inhibition\" is the circular region around the disk where the bacteria was not able to grow.  (This is also known as a Kirby-Bauer test.)  The diameters of these zones of inhibition were measured in decimeters and recorded, the data is available below.  The larger the zone of inhibition the more effective the antibiotic.    \n",
    "\n",
    "- Of the two bacteria, was one of the derivatives more effective than penicillin?  Or ampicillin?\n",
    "\n",
    "- Was the 5 parts per million or the 10 parts per million more effective?  (Parts per million will be abbreviated to ppm.)\n",
    "\n",
    "- Was any derivative more effective against the gram positive bacteria (*S. epidermidis*) or the the gram negative bacteria (*E. coli*)?\n",
    "\n",
    "- If one compound is effective against *E. coli* is it likely to be effective against *S. epidermidis*?"
   ]
  },
  {
   "cell_type": "code",
   "execution_count": null,
   "metadata": {},
   "outputs": [],
   "source": [
    "## This cell imports modules and functions used in the rest of the notebook\n",
    "\n",
    "from datascience import *\n",
    "import numpy as np\n",
    "%matplotlib inline\n",
    "import matplotlib.pyplot as plots\n",
    "plots.style.use('fivethirtyeight')\n",
    "\n",
    "from scipy.stats import ttest_ind as ttest2\n",
    "from scipy.stats import t\n",
    "import scipy.stats as stats\n",
    "\n",
    "def groupstats(table, group, data):\n",
    "    ### This function will find all the major descriptive stats you need ###\n",
    "    cut = table.select(group, data).sort(group)\n",
    "    favstats = cut.group(group, np.mean).sort(group)\n",
    "    words = [data, 'mean']\n",
    "    favstats = favstats.relabeled(' '.join(words), \"mean\")\n",
    "    groups = favstats.column(0)\n",
    "    q1=make_array()\n",
    "    for i in np.arange(len(groups)):\n",
    "        q1 = np.append(q1, np.percentile(table.where(group, groups.item(i)).column(data), 25))\n",
    "    q3=make_array()\n",
    "    for i in np.arange(len(groups)):\n",
    "        q3 = np.append(q3, np.percentile(table.where(group, groups.item(i)).column(data), 75))\n",
    "    favstats = favstats.with_column('std', cut.group(group, stats.tstd).sort(group).column(1) )\n",
    "    favstats = favstats.with_column('min', cut.group(group, min).sort(group).column(1) )\n",
    "    favstats = favstats.with_column('Q1', q1 )\n",
    "    favstats = favstats.with_column('median', cut.group(group, np.median).sort(group).column(1) )\n",
    "    favstats = favstats.with_column('Q3', q3 )\n",
    "    favstats = favstats.with_column('max', cut.group(group, max).sort(group).column(1) )\n",
    "    favstats = favstats.with_column('IQR', cut.group(group, stats.iqr).sort(group).column(1) )\n",
    "    favstats = favstats.with_column('n', cut.group(group ).sort(group).column(1) )\n",
    "    return favstats\n",
    "\n",
    "penicillin = Table.read_table(\"Penicillin measurements.csv\")\n",
    "\n",
    "penicillin = penicillin.relabel(1, \"E. coli\").relabel(2, \"S. epidermidis\").relabel(0,\"Compound\")"
   ]
  },
  {
   "cell_type": "code",
   "execution_count": null,
   "metadata": {},
   "outputs": [],
   "source": [
    "## To see a sample of the data, run this cell, otherwise skip it.\n",
    "penicillin.take(make_array(0,2,12,19,25,28,32,37,45))\n",
    "\n",
    "## To see all the data take the # off the line below\n",
    "#penicillin.show()"
   ]
  },
  {
   "cell_type": "markdown",
   "metadata": {},
   "source": [
    "## First Research Question\n",
    "\n",
    "Against *E. coli*, was one of the derivatives more effective than penicillin? Or ampicillin?"
   ]
  },
  {
   "cell_type": "markdown",
   "metadata": {},
   "source": [
    "**1.1** In the cell below, use the `groupstats` function to find the summary statistics split by \"Compound\" for the variable \"E. coli\"."
   ]
  },
  {
   "cell_type": "code",
   "execution_count": null,
   "metadata": {
    "scrolled": true
   },
   "outputs": [],
   "source": []
  },
  {
   "cell_type": "code",
   "execution_count": null,
   "metadata": {},
   "outputs": [],
   "source": [
    "## The next few lines prepares the data for an ANOVA ##\n",
    "## column 1 is the E. coli column.\n",
    "\n",
    "E_ag5 = penicillin.where(\"Compound\", \"AG (light blue) 5 ppm\").column(1)\n",
    "E_ag10 = penicillin.where(\"Compound\", \"AG (purple) 10 ppm\").column(1)\n",
    "E_ampic = penicillin.where(\"Compound\", \"Ampicillin\").column(1)\n",
    "E_er5 = penicillin.where(\"Compound\", \"ER (green) 5ppm\").column(1)\n",
    "E_er10 = penicillin.where(\"Compound\", \"ER (yellow) 10 ppm\").column(1)\n",
    "E_jh5 = penicillin.where(\"Compound\", \"JH (red) 5 ppm\").column(1)\n",
    "E_jh10 = penicillin.where(\"Compound\", \"JH (orange) 10 ppm\").column(1)\n",
    "E_penic = penicillin.where(\"Compound\", \"Penicillin\").column(1)\n",
    "E_h2o = penicillin.where(\"Compound\", \"Water\").column(1)\n",
    "\n",
    "## The next line actually runs the ANOVA ##\n",
    "stats.f_oneway(E_ag5, E_ag10, E_ampic, E_er5, E_er10, E_jh5, E_jh10, E_penic, E_h2o)"
   ]
  },
  {
   "cell_type": "markdown",
   "metadata": {},
   "source": [
    "**1.2** In the cell above, a one-way ANOVA test was run.  The null and alternative hypotheses for a such an ANOVA are as follows:\n",
    "\n",
    "$ H_o: $ *All groups have the same mean*\n",
    "    \n",
    "$ H_a: $ *At least one group has a different mean*\n",
    "        \n",
    "Which interpretation of the results is correct?\n",
    "\n",
    "\n",
    "a) The p-value is small, so all the means are approximately the same.\n",
    "\n",
    "b) The p-value is large, so all the means are approximately the same.\n",
    "\n",
    "c) The p-value is small, so at least one group mean is different.\n",
    "\n",
    "d) The p-value is large, so at least one group mean is different.  "
   ]
  },
  {
   "cell_type": "markdown",
   "metadata": {},
   "source": [
    "*Replace this text with your response.*"
   ]
  },
  {
   "cell_type": "markdown",
   "metadata": {},
   "source": [
    "**1.3** In the cell below, a set of side-by-side boxplots is prepared. Remembering, that higher is better for this measurement, which derivative was most effective?  Just based on the graph, does it appear to be more effective than penicillin and/or ampicillin?"
   ]
  },
  {
   "cell_type": "code",
   "execution_count": null,
   "metadata": {},
   "outputs": [],
   "source": [
    "ticks = make_array(1,2,3,4,5,6,7,8,9)\n",
    "labels = make_array(\"Amp.\", \"Pen.\", \"H2O\", \"ER 5ppm\",\"ER 10ppm\", \"JH 5ppm\", \"JH 10ppm\", \"AG 5ppm\", \"AG 10ppm\")\n",
    "\n",
    "plots.figure(figsize=(11, 11))\n",
    "plots.boxplot(E_ampic, widths=.5, positions=make_array(ticks.item(0)), showmeans=True)\n",
    "plots.boxplot(E_penic, widths=.5, positions=make_array(ticks.item(1)), showmeans=True)\n",
    "plots.boxplot(E_h2o, widths=.5, positions=make_array(ticks.item(2)), showmeans=True)\n",
    "plots.boxplot(E_er5, widths=.5, positions=make_array(ticks.item(3)), showmeans=True)\n",
    "plots.boxplot(E_er10, widths=.5, positions=make_array(ticks.item(4)), showmeans=True)\n",
    "plots.boxplot(E_jh5, widths=.5, positions=make_array(ticks.item(5)), showmeans=True)\n",
    "plots.boxplot(E_jh10, widths=.5, positions=make_array(ticks.item(6)), showmeans=True)\n",
    "plots.boxplot(E_ag5, widths=.5, positions=make_array(ticks.item(7)), showmeans=True)\n",
    "plots.boxplot(E_ag10, widths=.5, positions=make_array(ticks.item(8)), showmeans=True)\n",
    "plots.xticks(ticks, labels, size = 12)\n",
    "plots.title(\"E. coli\");"
   ]
  },
  {
   "cell_type": "markdown",
   "metadata": {},
   "source": [
    "*Replace this text with your answer.*"
   ]
  },
  {
   "cell_type": "markdown",
   "metadata": {},
   "source": [
    "**1.4** Run a two-sample t-test to compare the array named `E_jh5` to the array called `E_penic`.  Then interpret the results in the cell below that.  "
   ]
  },
  {
   "cell_type": "code",
   "execution_count": null,
   "metadata": {},
   "outputs": [],
   "source": []
  },
  {
   "cell_type": "markdown",
   "metadata": {},
   "source": [
    "*Replace this text with your interpretation of the results of your t-test*"
   ]
  },
  {
   "cell_type": "markdown",
   "metadata": {},
   "source": [
    "**1.5** Run a two-sample t-test to compare the array named `E_jh5` to the array called `E_ampic`.  Then interpret the results in the cell below that.  "
   ]
  },
  {
   "cell_type": "code",
   "execution_count": null,
   "metadata": {},
   "outputs": [],
   "source": []
  },
  {
   "cell_type": "markdown",
   "metadata": {},
   "source": [
    "*Replace this text with your interpretation of the results of your t-test*"
   ]
  },
  {
   "cell_type": "markdown",
   "metadata": {},
   "source": [
    "## Second Research Question\n",
    "\n",
    "Against *S. epidermidis*, was one of the derivatives more effective than penicillin? Or ampicillin?\n",
    "\n",
    "In the cell, below the data has been prepared for you but, this time you'll have to perform all the analyses without as much guidance.  Repeat the processes and analyses that were performed for the First Research Question in the empty cells below.  Include appropriate grapics and state your conclusions.  You should be able to accomplish all of this by copying, pasting and editing the cells above.\n",
    "\n",
    "**2.1** Using the dataset called penicillin2, create the variables you'll need.  Use the variable names provided in the cell below.  If you choose to use other variable names, instructions given to you later in this project may be confusing.  \n",
    "\n",
    "**2.2** Use the `groupstats` function to get a summary of this data split by \"Compound\" for \"S. epidermidis\".\n",
    "\n",
    "**2.3** Run the one-way ANOVA using these new variables.  \n",
    "\n",
    "**2.4** Make the box-plots that allow for visual comparison between these groups.  \n",
    "\n",
    "**2.5** For the most effective derivative/concentration, run two-sample t-tests comparing that group to penicillin.\n",
    "\n",
    "**2.6** For the most effective derivative/concentration, run two-sample t-tests comparing that group to ampicillin. \n",
    "\n",
    "For all of these parts, be sure to include a brief interpretation of your results.  "
   ]
  },
  {
   "cell_type": "code",
   "execution_count": null,
   "metadata": {},
   "outputs": [],
   "source": [
    "## These next few lines prepare the data that you'll need for this section and those that follow.\n",
    "## Don't change these lines\n",
    "\n",
    "penicillin2 = penicillin.where(\"S. epidermidis\", are.above(-1))\n",
    "\n",
    "## Do 2.1 in the rest of this cell \n",
    "\n",
    "S_ag5 = ...\n",
    "S_ag10 = ...\n",
    "S_ampic = ...\n",
    "S_er5 = ...\n",
    "S_er10 = ...\n",
    "S_jh5 = ...\n",
    "S_jh10 = ...\n",
    "S_penic = ...\n",
    "S_h2o = ..."
   ]
  },
  {
   "cell_type": "code",
   "execution_count": null,
   "metadata": {},
   "outputs": [],
   "source": [
    "## Do 2.2 in the rest of this cell \n"
   ]
  },
  {
   "cell_type": "code",
   "execution_count": null,
   "metadata": {},
   "outputs": [],
   "source": [
    "## Do 2.3 in the rest of this cell \n",
    "\n"
   ]
  },
  {
   "cell_type": "code",
   "execution_count": null,
   "metadata": {},
   "outputs": [],
   "source": [
    "## Do 2.4 in the rest of this cell \n",
    "\n"
   ]
  },
  {
   "cell_type": "code",
   "execution_count": null,
   "metadata": {},
   "outputs": [],
   "source": [
    "## Do 2.5 in the rest of this cell \n",
    "\n"
   ]
  },
  {
   "cell_type": "code",
   "execution_count": null,
   "metadata": {},
   "outputs": [],
   "source": [
    "## Do 2.6 in the rest of this cell \n",
    "\n"
   ]
  },
  {
   "cell_type": "markdown",
   "metadata": {},
   "source": [
    "## Third Research Question\n",
    "\n",
    "By now, you've observed that the JH compound was more effective against both *E. coli* and *S. epidermidis*.  Did the concentration of this compound matter?"
   ]
  },
  {
   "cell_type": "markdown",
   "metadata": {},
   "source": [
    "**3.1** For just *E. coli*, was there a significant difference between `E_jh5` and `E_jh10`?  Run a two-sample t-test in the cell below and interpret the results.  "
   ]
  },
  {
   "cell_type": "code",
   "execution_count": null,
   "metadata": {},
   "outputs": [],
   "source": []
  },
  {
   "cell_type": "markdown",
   "metadata": {},
   "source": [
    "*Replace this text with your response*"
   ]
  },
  {
   "cell_type": "markdown",
   "metadata": {},
   "source": [
    "**3.2** Repeat the analysis in the previous part, but this time use the *S. epidermidis* data, `S_jh5` and `S_jh10`."
   ]
  },
  {
   "cell_type": "code",
   "execution_count": null,
   "metadata": {},
   "outputs": [],
   "source": []
  },
  {
   "cell_type": "markdown",
   "metadata": {},
   "source": [
    "*Replace this text with your response*"
   ]
  },
  {
   "cell_type": "markdown",
   "metadata": {},
   "source": [
    "## Fourth Research Question ##\n",
    "\n",
    "**4.1** Using the data called `E_jh5`, and `S_jh5` test whether the 5 ppm concentration of the JH compound was more effective against *E. coli* or *S. epidermidis*."
   ]
  },
  {
   "cell_type": "code",
   "execution_count": null,
   "metadata": {},
   "outputs": [],
   "source": []
  },
  {
   "cell_type": "code",
   "execution_count": null,
   "metadata": {},
   "outputs": [],
   "source": [
    "ticks = make_array(1,2)\n",
    "labels = make_array(\"E_jh5\", \"S_jh5\")\n",
    "\n",
    "\n",
    "plots.boxplot(E_jh5, widths=.5, positions=make_array(ticks.item(0)), showmeans=True)\n",
    "plots.boxplot(S_jh5, widths=.5, positions=make_array(ticks.item(1)), showmeans=True)\n",
    "plots.xticks(ticks, labels, size = 12)\n",
    "plots.title(\"The JH Compound\");"
   ]
  },
  {
   "cell_type": "markdown",
   "metadata": {},
   "source": [
    "**4.2** Using the data called `E_jh10`, and `S_jh10` test whether the 10 ppm concentration of the JH compound was more effective against *E. coli* or *S. epidermidis*."
   ]
  },
  {
   "cell_type": "code",
   "execution_count": null,
   "metadata": {},
   "outputs": [],
   "source": [
    "stats.ttest_ind(E_jh10, S_jh10)"
   ]
  },
  {
   "cell_type": "markdown",
   "metadata": {},
   "source": [
    "**4.3** Make side-by-side boxplots of the \"E_jh10$\" and \"S_jh10\" data."
   ]
  },
  {
   "cell_type": "code",
   "execution_count": null,
   "metadata": {},
   "outputs": [],
   "source": []
  },
  {
   "cell_type": "markdown",
   "metadata": {},
   "source": [
    "## Final Research Question\n",
    "\n",
    "In general, if a compound was effective against *E. coli* is it most likely effective against *S. epidermidis*?\n",
    "\n",
    "To answer this question, perform a linear regression analysis, using the penicillin2 dataset and treating *E. coli* as the x-variable.  "
   ]
  },
  {
   "cell_type": "markdown",
   "metadata": {},
   "source": [
    "**5.1** What about the way this research question is stated implies the *E. coli* should be the x-variable?"
   ]
  },
  {
   "cell_type": "markdown",
   "metadata": {},
   "source": [
    "*Write your response here*"
   ]
  },
  {
   "cell_type": "markdown",
   "metadata": {},
   "source": [
    "**5.2** Create a scatterplot with *E. coli* on the horizontal axis and *S. epidermidis* on the vertical axis.  Use the fit_line <span style = \"color:darkmagenta\">=</span> <b><span style = \"color:green\" style=\"font:bold\">True</span></b> option to have the regression line superimposed on the graph.  "
   ]
  },
  {
   "cell_type": "code",
   "execution_count": null,
   "metadata": {},
   "outputs": [],
   "source": []
  },
  {
   "cell_type": "markdown",
   "metadata": {},
   "source": [
    "**5.3** The biology professor confided in us that she believes something was done incorrectly when the AG compound was tested against *E. coli*.  If that's true, it would be a reasonable justification for leaving that data out of this analysis.  \n",
    "\n",
    "Create a new dataset called penicillin3, that starts with penicillin2 and eliminates all the AG compounds.  Then recreate the scatterplot from above using penicillin3.  "
   ]
  },
  {
   "cell_type": "code",
   "execution_count": null,
   "metadata": {},
   "outputs": [],
   "source": [
    "penicillin3 = ...\n",
    "\n"
   ]
  },
  {
   "cell_type": "markdown",
   "metadata": {},
   "source": [
    "**5.4** Using `stats.linregress`, run a linear regression analysis using \"E. coli\" and \"S. epidermidis\" from the penicillin3 dataset.    "
   ]
  },
  {
   "cell_type": "code",
   "execution_count": null,
   "metadata": {},
   "outputs": [],
   "source": []
  },
  {
   "cell_type": "markdown",
   "metadata": {},
   "source": [
    "**5.5** Edit the LaTeX code below by replacing the word \"slope\" with the slope you just found and replacing the word \"intercept\" with the intercept you just found.  \n",
    "\n",
    "$$ \\hat{\\left.S. epidermidis\\right.} = slope \\cdot \\left(E. coli\\right) + intercept$$\n",
    "\n",
    "The above equation shows the relationship between the sizes of the zones of inhibition in *E. coli* and the sizes in *S. epidermidis*.  "
   ]
  },
  {
   "cell_type": "markdown",
   "metadata": {},
   "source": [
    "**5.6** Finally, answer the research question.  Does it appear that if one compound is effective against *E. coli* it might also be effective against *S. epidermidis*?  If there are any relevant statistics (correlation, p-value, etc) that you could quote, please do so.  "
   ]
  },
  {
   "cell_type": "markdown",
   "metadata": {},
   "source": [
    "*Write your response here*"
   ]
  },
  {
   "cell_type": "markdown",
   "metadata": {},
   "source": [
    "## Summary, Conclusions and Recommendations\n",
    "\n",
    "Imagine that the scientists that performed this experiment provided you with this data because they wanted a statisticians help.  With those scientists as the intended audience, write a professional-style (clear and concise) summary of what these analyses yielded.  Make sure you address each research question from above and provide recommendations grounded in statistics.  Also the 10 ppm concentration may be more expensive than the 5 ppm, so be certain your recommendations take this cost into consideration.  Feel free to use bullet points."
   ]
  },
  {
   "cell_type": "markdown",
   "metadata": {},
   "source": [
    "*Write your conclusions here*\n",
    "\n",
    "- If using bullet points, this would be the first one,\n",
    "\n",
    "- And this would be the second bullet point,\n",
    "\n",
    "- You may add others as needed."
   ]
  }
 ],
 "metadata": {
  "kernelspec": {
   "display_name": "Python 3",
   "language": "python",
   "name": "python3"
  },
  "language_info": {
   "codemirror_mode": {
    "name": "ipython",
    "version": 3
   },
   "file_extension": ".py",
   "mimetype": "text/x-python",
   "name": "python",
   "nbconvert_exporter": "python",
   "pygments_lexer": "ipython3",
   "version": "3.8.6"
  }
 },
 "nbformat": 4,
 "nbformat_minor": 2
}
