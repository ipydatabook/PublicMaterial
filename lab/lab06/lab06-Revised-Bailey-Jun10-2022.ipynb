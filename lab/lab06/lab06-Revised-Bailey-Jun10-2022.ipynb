{
 "cells": [
  {
   "cell_type": "code",
   "execution_count": null,
   "metadata": {
    "deletable": false
   },
   "outputs": [],
   "source": [
    "#import otter\n",
    "#grader = otter.Notebook()"
   ]
  },
  {
   "cell_type": "markdown",
   "metadata": {},
   "source": [
    "## Lab 6: Examining the Therapeutic Touch\n",
    "\n",
    "Welcome to Lab 6!\n",
    "\n",
    "After such an extensive introduction to programming for data science, we are finally moving into the section of the course where we can apply our new skils to answer real questions.  \n",
    "\n",
    "In this lab, we'll use testing techniques that were introduced in lecture to test the idea of the therapeutic touch, the idea that some practitioner can feel and massage your human energy field. \n",
    "\n",
    "Please complete this notebook by filling in the cells provided. The cell above with import the autograder. Each time you start your server, you will need to execute this cell again to load the tests.\n",
    "\n",
    "HOWEVER, the autograder files have not been integrated online and running the cell above will cause an error! Ignore this cell and cells of the form grader.check(\"qx.k\")."
   ]
  },
  {
   "cell_type": "code",
   "execution_count": null,
   "metadata": {},
   "outputs": [],
   "source": [
    "# Run this cell, but please don't change it.\n",
    "\n",
    "# These lines import the Numpy and Datascience modules.\n",
    "import numpy as np\n",
    "from datascience import *\n",
    "\n",
    "# These lines do some fancy plotting magic\n",
    "import matplotlib\n",
    "%matplotlib inline\n",
    "import matplotlib.pyplot as plt\n",
    "plt.style.use('fivethirtyeight')\n",
    "import warnings\n",
    "warnings.simplefilter('ignore', FutureWarning)\n",
    "from matplotlib import patches\n",
    "from ipywidgets import interact, interactive, fixed\n",
    "import ipywidgets as widgets\n",
    "\n",
    "import scipy.stats as stats\n",
    "\n",
    "# These lines load the tests.\n",
    "#import otter\n",
    "#grader = otter.Notebook()\n"
   ]
  },
  {
   "cell_type": "markdown",
   "metadata": {},
   "source": [
    "### What is the Therapeutic Touch\n",
    "\n",
    "The Therapeutic Touch (TT) is the idea that everyone can feel the Human Energy Field (HEF) around individuals.  Those who practice TT have described different people's HEFs as \"warm as Jell-O\" and \"tactile as taffy.\" \n",
    "\n",
    "TT was a popular technique used throughout the 20th century that was toted as a great way to bring balance to a person's health. Certain practitioners claim they have the ability to feel the HEF and can massage it in order to promote health and relaxation in individuals.\n",
    "\n",
    "### Emily Rosa\n",
    "\n",
    "[Emily Rosa](https://en.wikipedia.org/wiki/Emily_Rosa) was a 4th grade student who was very familiar with the world of TT, thanks to her parents, who were both medical practitioners and skeptics of TT.\n",
    "\n",
    "For her 4th grade science fair project, Emily decided to test whether or not TT practitioners could truly interact with a person's HEF. She later went on to publish her work in TT, becoming the youngest person to have a research paper published in a peer reviewed medical journal."
   ]
  },
  {
   "cell_type": "markdown",
   "metadata": {},
   "source": [
    "### Emily's Experiment\n",
    "\n",
    "Emily's experiment was clean, simple, and effective. Due to her parents' occupations in the medical field, she had wide access to people who claimed to be TT practitioners. \n",
    "\n",
    "Emily took 21 TT practitioners and used them for her science experiment. She would take a TT practitioner and ask them to extend their hands through a screen (which they can't see through). Emily would be on the other side and would flip a fair coin. Depending on how the coin landed, she would put out either her left hand or her right hand. The TT practitioner would then have to answer which hand Emily put out. If a pracitioner could truly interact with a person's HEF, it would be expected that they answered correctly.\n",
    "\n",
    "Overall, through 210 samples, the practitioner picked the correct hand 44% of the time. \n",
    "\n",
    "Emily's main goal here was to test whether or not the TT practicioners' guesses were random, like the flip of a coin. Imagine that she did not believe that the TT practicioners were really able to sense a HEF and she wanted to prove that they did *worse* than simple random guessing.  \n",
    "\n",
    "We will now begin to formulate this experiment in terms of the terminology we learned in this course. "
   ]
  },
  {
   "cell_type": "markdown",
   "metadata": {
    "deletable": false
   },
   "source": [
    "**Question 1**: Describe the null model for how likely the TT practitioners are to choose the correct hand. What alternative model is her model meant to discredit? Discuss with students around you to come to a conclusion. Check in with a TA or LA if you are stuck.\n",
    "\n",
    "If $\\pi$ represents the probability of picking the correct hand, specify the null and alternative hypotheses.  \n",
    "\n",
    "<!--\n",
    "BEGIN QUESTION\n",
    "name: q1_1\n",
    "-->"
   ]
  },
  {
   "cell_type": "markdown",
   "metadata": {
    "for_assignment_type": "solution"
   },
   "source": [
    "$H_o: \\pi$ ...\n",
    "\n",
    "$H_a: \\pi$ ..."
   ]
  },
  {
   "cell_type": "markdown",
   "metadata": {
    "deletable": false
   },
   "source": [
    "**Question 2:** Remember that the practitioner got the correct answer 44% (0.44) of the time. According to the null model, on average, what proportion of times do we expect the practitioner to guess the correct hand? Make sure your answer is between 0 and 1. \n",
    "\n",
    "<!--\n",
    "BEGIN QUESTION\n",
    "name: q1_2\n",
    "-->"
   ]
  },
  {
   "cell_type": "code",
   "execution_count": null,
   "metadata": {},
   "outputs": [],
   "source": [
    "expected_proportion_correct = ...\n",
    "\n",
    "model_proportions = make_array(expected_proportion_correct,  1 - expected_proportion_correct)\n",
    "model_proportions"
   ]
  },
  {
   "cell_type": "code",
   "execution_count": null,
   "metadata": {
    "deletable": false
   },
   "outputs": [],
   "source": [
    "#grader.check(\"q1_2\")"
   ]
  },
  {
   "cell_type": "markdown",
   "metadata": {
    "deletable": false
   },
   "source": [
    "**Question 3:** In the code cell below we will provide a simulation that will test whether the TT practitioners results are consistent with their claims that they can sense an HEF.  \n",
    "\n",
    "Just run the cell below.  \n",
    "\n",
    "\n",
    "<!--\n",
    "BEGIN QUESTION\n",
    "name: q1_3\n",
    "-->"
   ]
  },
  {
   "cell_type": "code",
   "execution_count": null,
   "metadata": {},
   "outputs": [],
   "source": [
    "actual_proportion = 0.44\n",
    "\n",
    "def statistic(expected_prop_correct, actual_prop):\n",
    "    return 100*(actual_prop - expected_prop_correct)\n",
    "\n",
    "observed_statistic = statistic(expected_proportion_correct, actual_proportion)\n",
    "\n",
    "def simulation_and_statistic(model_proportions, expected_prop_correct):\n",
    "    '''Simulates 210 TT hand choices under the null model. \n",
    "    Returns one statistic from the simulation.'''\n",
    "    simulation_proportion_correct = sample_proportions(210, model_proportions).item(0)\n",
    "    one_statistic = expected_prop_correct - 100*simulation_proportion_correct\n",
    "    return one_statistic\n",
    "\n",
    "num_repetitions = 5000\n",
    "\n",
    "simulated_statistics = make_array()\n",
    "\n",
    "for i in np.arange(num_repetitions):\n",
    "    simulated_statistics = np.append(simulated_statistics, simulation_and_statistic(make_array(0.5,0.5), 50))\n",
    "      \n",
    "p_value = sum(simulated_statistics<= -6.0)/num_reps\n",
    "\n",
    "print(f\"A single trial was 210 selections, and this simulation consisted of {num_reps} trials.  \\nThe p-value for this simulation is {p_value}.\")"
   ]
  },
  {
   "cell_type": "code",
   "execution_count": null,
   "metadata": {
    "deletable": false
   },
   "outputs": [],
   "source": [
    "#grader.check(\"q1_3\")"
   ]
  },
  {
   "cell_type": "markdown",
   "metadata": {},
   "source": [
    "**Question 4** We can make a visual argument as to whether we believe the observed statistic is consistent with the null model. Here, since larger values of the test statistic suggest the alternative model (where the chance of guessing the correct hand is something other than 50%), we can formalize our analysis by finding what proportion of simulated statistics were as large or larger than our observed test statistic (the area at or to the right of the observed test statistic). If this area is small enough, we’ll declare that the observed data are inconsistent with our simulated model.\n",
    "\n",
    "What percentage of the histogram below is shaded in yellow/gold?  \n",
    "\n",
    "a) Less than 5%\n",
    "\n",
    "b) More than 5%"
   ]
  },
  {
   "cell_type": "code",
   "execution_count": null,
   "metadata": {},
   "outputs": [],
   "source": [
    "t = Table().with_column('Simulated Statistics', simulated_statistics)\n",
    "bins = np.arange(-11, 11, 2.5)\n",
    "t.hist(right_end=observed_statistic, bins=bins)\n",
    "plt.ylim(-0.01, .11)\n",
    "plt.scatter(observed_statistic, -.001, color='red', s=50, zorder=3, marker= \"^\");"
   ]
  },
  {
   "cell_type": "markdown",
   "metadata": {},
   "source": [
    "*Write your reponse here, replacing this text*"
   ]
  },
  {
   "cell_type": "markdown",
   "metadata": {
    "deletable": false
   },
   "source": [
    "By convention, we often compare the proportion we just calculated to 0.05.  This cut-off value for the p-value is denoted by a lower case Greek letter alpha, $\\alpha$, and is also referred to as the *level of significance*.  If the proportion of simulated statistics greater than or equal to the observed statistic is sufficiently small (less than or equal to 0.05), then this is evidence against the null model. Otherwise, we don’t have any reason to doubt the null model. \n",
    "\n",
    "This should help you make your own conclusions about Emily Rosa's experiment.\n",
    "\n",
    "\n",
    "**Question 5:** If the *p-value* is smaller than 0.05, that is evidence against the null hypothesis.  The null hypothesis is that the TT practitioners really can feel a human energy field.  \n",
    "\n",
    "If the *p-value* is smaller than 0.05, that is also evidence in favor of the alternative hypothesis.  The alternative hypothesis is that the TT practitioners can not feel a human energy field.  This is Emily's *research hypothesis* that the TT practitioners are randomly guessing.  \n",
    "\n",
    "Based on the *p-value*, what is most likely true here?  Is this data more consistent with Emily's hypothesis, or more consistent with the practitioners claims that they can feel an HEF?\n",
    "\n",
    "<!--\n",
    "BEGIN QUESTION\n",
    "name: q1_4\n",
    "-->"
   ]
  },
  {
   "cell_type": "markdown",
   "metadata": {},
   "source": [
    "*Write your answer to Question 5 here*"
   ]
  },
  {
   "cell_type": "markdown",
   "metadata": {
    "scrolled": true
   },
   "source": [
    "Therapeutic touch fell out of use after this experiment, which was eventually accepted into one of the premier medical journals. TT practitioners hit back and accused Emily and her family of tampering with the results, while some claimed that Emily's bad spiritual mood towards therapeutic touch made it difficult to read her HEF. Whatever it may be, Emily's experiment is a classic example about how anyone, with the right resources, can test anything they want!"
   ]
  },
  {
   "cell_type": "code",
   "execution_count": null,
   "metadata": {
    "deletable": false
   },
   "outputs": [],
   "source": [
    "#grader.check(\"q1_9\")"
   ]
  },
  {
   "cell_type": "markdown",
   "metadata": {},
   "source": [
    "## Is there a built-in test for this?\n",
    "\n",
    "We can use the `binom_test` from the `scipy.stats` module.  It runs a hypothesis test called a *binomial test* and produces a single output, which is the p-value for the test.  \n",
    "\n",
    "In the cell below we run the test.  Unfortunately, this test does not operate on percentages, but on counts.  So we converted the 44% success rate to 92 successes in 210 trials.  \n",
    "\n",
    "**Question 6:** Using an $\\alpha$ of 0.05, draw a conclusion from this binomial test.   \n",
    "\n",
    "$H_o: \\pi = 0.5$\n",
    "\n",
    "$H_a: \\pi < 0.5$"
   ]
  },
  {
   "cell_type": "code",
   "execution_count": null,
   "metadata": {},
   "outputs": [],
   "source": [
    "stats.binom_test(92, 210, 0.5, alternative =\"less\")"
   ]
  },
  {
   "cell_type": "markdown",
   "metadata": {},
   "source": [
    "*Based on the p-value above, write your conclusions here.  They should be the same as what you concluded from the simulation.*"
   ]
  },
  {
   "cell_type": "markdown",
   "metadata": {},
   "source": [
    "\n",
    "## Another researcher\n",
    "\n",
    "Suppose another researcher, trying to disprove Emily's result, conducted a similar experiment with 210 trials and got 115 successes.  \n",
    "\n",
    "**Question 7:** Run the binom_test and state your conclusions in the cells below here.\n",
    "\n",
    "Remember, since this researcher is working to disprove Emily, the alternative hypothesis would be different.  \n",
    "\n",
    "$H_o: \\pi = 0.5$\n",
    "\n",
    "$H_a: \\pi > 0.5$"
   ]
  },
  {
   "cell_type": "code",
   "execution_count": null,
   "metadata": {},
   "outputs": [],
   "source": [
    "# Run the binom_test in this cell\n",
    "..."
   ]
  },
  {
   "cell_type": "markdown",
   "metadata": {},
   "source": [
    "*Write your conclusions here*"
   ]
  },
  {
   "cell_type": "markdown",
   "metadata": {},
   "source": [
    "**Question 8:** At the 5% level of significance, what is the least number of successes this second researcher must find in a sample of 210 trials in order for the `binom_test` to yield a p-value small enough to reject the null hypothesis?"
   ]
  },
  {
   "cell_type": "code",
   "execution_count": null,
   "metadata": {},
   "outputs": [],
   "source": [
    "# Let least_successes represent the answer to the question above.\n",
    "\n",
    "least_successes = ..."
   ]
  },
  {
   "cell_type": "code",
   "execution_count": null,
   "metadata": {},
   "outputs": [],
   "source": [
    "# If you've answered the above question right, this test should have a p-value below 0.05\n",
    "\n",
    "stats.binom_test(least_successes, 210, 0.5, alternative = \"greater\")"
   ]
  },
  {
   "cell_type": "markdown",
   "metadata": {},
   "source": [
    "Congratulations!  You're done with Lab 6.  Download this file in the format(s) your instructor requires and submit to the Lab 6 folder under Assignments.  "
   ]
  }
 ],
 "metadata": {
  "celltoolbar": "Edit Metadata",
  "kernelspec": {
   "display_name": "Python 3",
   "language": "python",
   "name": "python3"
  },
  "language_info": {
   "codemirror_mode": {
    "name": "ipython",
    "version": 3
   },
   "file_extension": ".py",
   "mimetype": "text/x-python",
   "name": "python",
   "nbconvert_exporter": "python",
   "pygments_lexer": "ipython3",
   "version": "3.6.5"
  }
 },
 "nbformat": 4,
 "nbformat_minor": 2
}
