{
 "cells": [
  {
   "cell_type": "markdown",
   "metadata": {},
   "source": [
    "# Logistic Lab"
   ]
  },
  {
   "cell_type": "code",
   "execution_count": 1,
   "metadata": {},
   "outputs": [],
   "source": [
    "from datascience import *\n",
    "import numpy as np\n",
    "import math\n",
    "\n",
    "%matplotlib inline\n",
    "import matplotlib.pyplot as plots\n",
    "plots.style.use('fivethirtyeight')\n",
    "from scipy import stats\n",
    "\n",
    "import pandas\n",
    "\n",
    "births = Table.read_table('baby.csv')\n",
    "\n",
    "def my_to_binary(x):\n",
    "    ### converts an array of Trues and Falses to 1's and 0's ###\n",
    "    return int(x)\n",
    "    \n",
    "births = births.with_column(\"Smoker Binary\", births.apply(my_to_binary, \"Maternal Smoker\"))\n",
    "births = births.where(\"Smoker Binary\", are.contained_in(make_array(0,1)))\n",
    "\n",
    "import statsmodels.formula.api as sfm\n",
    "\n",
    "np.warnings.filterwarnings('ignore', category=np.VisibleDeprecationWarning)"
   ]
  },
  {
   "cell_type": "markdown",
   "metadata": {},
   "source": [
    "In the cell below, we re-run a logistic regression that we ran in class.  We name the resulting model, `logistic_model`.  "
   ]
  },
  {
   "cell_type": "code",
   "execution_count": 2,
   "metadata": {},
   "outputs": [
    {
     "name": "stdout",
     "output_type": "stream",
     "text": [
      "Optimization terminated successfully.\n",
      "         Current function value: 0.637774\n",
      "         Iterations 5\n",
      "                           Logit Regression Results                           \n",
      "==============================================================================\n",
      "Dep. Variable:                 Smoker   No. Observations:                 1174\n",
      "Model:                          Logit   Df Residuals:                     1172\n",
      "Method:                           MLE   Df Model:                            1\n",
      "Date:                Tue, 28 Dec 2021   Pseudo R-squ.:                 0.04693\n",
      "Time:                        08:15:25   Log-Likelihood:                -748.75\n",
      "converged:                       True   LL-Null:                       -785.62\n",
      "                                        LLR p-value:                 8.900e-18\n",
      "===============================================================================\n",
      "                  coef    std err          z      P>|z|      [0.025      0.975]\n",
      "-------------------------------------------------------------------------------\n",
      "Intercept       3.0468      0.429      7.105      0.000       2.206       3.887\n",
      "Baby_Weight    -0.0294      0.004     -8.170      0.000      -0.037      -0.022\n",
      "===============================================================================\n"
     ]
    }
   ],
   "source": [
    "## Prepare the data in the necessary format over the next few lines\n",
    "\n",
    "Baby_weight = births.column(\"Birth Weight\")\n",
    "Smoker = births.column(\"Smoker Binary\")\n",
    "\n",
    "\n",
    "## On the next few lines, only edit the names of the arrays and variables\n",
    "logistic_model_data = pandas.DataFrame({'Baby_Weight': Baby_weight, \"Smoker\": Smoker})\n",
    "logistic_model = sfm.logit(\"Smoker~Baby_Weight\", data = logistic_model_data).fit()\n",
    "\n",
    "# Print the summary\n",
    "print(logistic_model.summary())"
   ]
  },
  {
   "cell_type": "markdown",
   "metadata": {},
   "source": [
    "In the next cell, we construct the confusion matrix, and call it `confusion_matrix`.  Note that for this confusion matrix, we use a threshold, or **T**, of 0.5.  \n",
    "    "
   ]
  },
  {
   "cell_type": "code",
   "execution_count": 3,
   "metadata": {},
   "outputs": [
    {
     "data": {
      "text/html": [
       "<table border=\"1\" class=\"dataframe\">\n",
       "    <thead>\n",
       "        <tr>\n",
       "            <th>Boolean Prediction</th> <th>False</th> <th>True</th>\n",
       "        </tr>\n",
       "    </thead>\n",
       "    <tbody>\n",
       "        <tr>\n",
       "            <td>False             </td> <td>635  </td> <td>319 </td>\n",
       "        </tr>\n",
       "        <tr>\n",
       "            <td>True              </td> <td>80   </td> <td>140 </td>\n",
       "        </tr>\n",
       "    </tbody>\n",
       "</table>"
      ],
      "text/plain": [
       "Boolean Prediction | False | True\n",
       "False              | 635   | 319\n",
       "True               | 80    | 140"
      ]
     },
     "execution_count": 3,
     "metadata": {},
     "output_type": "execute_result"
    }
   ],
   "source": [
    "births = births.with_column(\"Boolean Prediction\", logistic_model.predict() >= 0.5)\n",
    "births = births.with_column(\"Prediction\", births.apply(my_to_binary, \"Boolean Prediction\"))\n",
    "births = births.with_column(\"Agreement\", births.column(\"Smoker Binary\") == births.column(\"Prediction\"))\n",
    "\n",
    "confusion_matrix = births.select(\"Maternal Smoker\", \"Boolean Prediction\").pivot(\"Maternal Smoker\", \"Boolean Prediction\")\n",
    "\n",
    "confusion_matrix"
   ]
  },
  {
   "cell_type": "markdown",
   "metadata": {},
   "source": [
    "## Problem 1 \n",
    "\n",
    "Recall the following:\n",
    "\n",
    "*Sensitivity* is the true positive rate.  \n",
    "\n",
    "$$Sensitivity = \\frac{True\\ Positives}{All\\ Real\\ Positives} = \\frac{True\\ Positives}{True\\ Positives + False\\ Negatives}$$\n",
    "\n",
    "*Specificity* is the true negative rate.  \n",
    "\n",
    "$$Specificity = \\frac{True\\ Negatives}{All\\ Real\\ Negatives} = \\frac{True\\ Negatives}{True\\ Negatives + False\\ Positives}$$\n",
    "\n",
    "*Positive Predictive Value* If a prediction is positive, what is the probability the observation is really positive. \n",
    "\n",
    "$$PPV = \\frac{True\\ Positives}{True\\ Positives\\ + \\ False\\ Positives}$$\n",
    "\n",
    "*Negative Predictive Value* If a prediction is negative, what is the probability the observation is really negative.\n",
    "\n",
    "$$NPV = \\frac{True\\ Negatives}{True\\ Negatives\\ + \\ False\\ Negatives}$$\n",
    "\n",
    "### Sensitivity \n",
    "\n",
    "First, we compute the sensitivity from the confusion matrix using a threshold of 0.5 for the cut-off.  "
   ]
  },
  {
   "cell_type": "code",
   "execution_count": 4,
   "metadata": {},
   "outputs": [
    {
     "data": {
      "text/plain": [
       "0.30501089324618735"
      ]
     },
     "execution_count": 4,
     "metadata": {},
     "output_type": "execute_result"
    }
   ],
   "source": [
    "Sensitivity = (confusion_matrix.column(2).item(1))/(confusion_matrix.column(2).item(1) + confusion_matrix.column(2).item(0))\n",
    "Sensitivity"
   ]
  },
  {
   "cell_type": "markdown",
   "metadata": {},
   "source": [
    "## Problem 1.1 ##\n",
    "\n",
    "Follow the pattern for the Sensitivity calculation above to find the Specificity for `logistic_model` with the threshold set to 0.5.  "
   ]
  },
  {
   "cell_type": "code",
   "execution_count": 5,
   "metadata": {},
   "outputs": [
    {
     "data": {
      "text/plain": [
       "Ellipsis"
      ]
     },
     "execution_count": 5,
     "metadata": {},
     "output_type": "execute_result"
    }
   ],
   "source": [
    "Specificity = ...\n",
    "Specificity"
   ]
  },
  {
   "cell_type": "markdown",
   "metadata": {},
   "source": [
    "## Problem 1.2 ##\n",
    "\n",
    "Calculate the Positive Predictive Value, PPV, for `logistic_model` with the threshold set to 0.5.  "
   ]
  },
  {
   "cell_type": "code",
   "execution_count": 6,
   "metadata": {},
   "outputs": [
    {
     "data": {
      "text/plain": [
       "Ellipsis"
      ]
     },
     "execution_count": 6,
     "metadata": {},
     "output_type": "execute_result"
    }
   ],
   "source": [
    "PPV = ...\n",
    "PPV "
   ]
  },
  {
   "cell_type": "markdown",
   "metadata": {},
   "source": [
    "## Problem 1.3 ##\n",
    "\n",
    "Calculate the Negative Predictive Value, NPV, for `logistic_model` with the threshold set to 0.5.  "
   ]
  },
  {
   "cell_type": "code",
   "execution_count": 7,
   "metadata": {},
   "outputs": [
    {
     "data": {
      "text/plain": [
       "Ellipsis"
      ]
     },
     "execution_count": 7,
     "metadata": {},
     "output_type": "execute_result"
    }
   ],
   "source": [
    "NPV = ...\n",
    "NPV"
   ]
  },
  {
   "cell_type": "markdown",
   "metadata": {},
   "source": [
    "## Problem 2\n",
    "\n",
    "In this problem, we're going to experiment with changing the threshold for classifying a prediction as a 1.  \n",
    "\n",
    "In the cell below, we write a function called `sensitivity`.  We then also apply that function to a column called **T**, and we graph the Sensitivity vs P.  "
   ]
  },
  {
   "cell_type": "code",
   "execution_count": 8,
   "metadata": {},
   "outputs": [
    {
     "data": {
      "image/png": "[encoded data removed]",
      "text/plain": [
       "<Figure size 432x432 with 1 Axes>"
      ]
     },
     "metadata": {},
     "output_type": "display_data"
    }
   ],
   "source": [
    "def sensitivity(t):\n",
    "    ### Takes a threshold for p-hat, find the confusion matrix and uses it to compute sensitivity ###\n",
    "    \n",
    "    ## re-introducing and formatting the baby data\n",
    "    births = Table.read_table('baby.csv')\n",
    "    births = births.with_column(\"Smoker Binary\", births.apply(my_to_binary, \"Maternal Smoker\"))\n",
    "    births = births.where(\"Smoker Binary\", are.contained_in(make_array(0,1)))\n",
    "    births = births.with_column(\"Boolean Prediction\", logistic_model.predict() >=t)\n",
    "    births = births.with_column(\"Prediction\", births.apply(my_to_binary, \"Boolean Prediction\"))\n",
    "    births = births.with_column(\"Agreement\", births.column(\"Smoker Binary\") == births.column(\"Prediction\"))\n",
    "    \n",
    "    ## Using pivot to make the confusion matrix\n",
    "    confusion_matrix = births.select(\"Maternal Smoker\", \"Boolean Prediction\").pivot(\"Maternal Smoker\", \"Boolean Prediction\")\n",
    "    \n",
    "    ## We only need two of these four things for this function\n",
    "    ## but you'll find the rest useful for other parts of this lab\n",
    "    true_positives  = confusion_matrix.column(2).item(1)\n",
    "    true_negatives  = confusion_matrix.column(1).item(0)\n",
    "    false_positives = confusion_matrix.column(1).item(1)\n",
    "    false_negatives = confusion_matrix.column(2).item(0)\n",
    "    \n",
    "    return (true_positives)/(true_positives + false_negatives)\n",
    "\n",
    "\n",
    "model_assessment_table = Table().with_column(\"T\", np.arange(0.2, .8, 0.01, dtype=object))\n",
    "model_assessment_table = model_assessment_table.with_column(\"Sensitivity\", model_assessment_table.apply(sensitivity, \"T\"))\n",
    "model_assessment_table.plot(\"T\");"
   ]
  },
  {
   "cell_type": "markdown",
   "metadata": {},
   "source": [
    "## Problem 2.1 \n",
    "\n",
    "Write your own **Specificity** function, use the **Sensitivity** function above as a model.  "
   ]
  },
  {
   "cell_type": "code",
   "execution_count": 9,
   "metadata": {},
   "outputs": [],
   "source": [
    "def specificity(t):\n",
    "    ### Takes a threshold for p-hat, find the confusion matrix and uses it to compute specificity ###\n",
    "    return ..."
   ]
  },
  {
   "cell_type": "markdown",
   "metadata": {},
   "source": [
    "## Problem 2.2\n",
    "\n",
    "Starting with the `model_assessment_table` that we defined above, use `.apply` to add a new column for **Specificity**."
   ]
  },
  {
   "cell_type": "code",
   "execution_count": 10,
   "metadata": {},
   "outputs": [],
   "source": [
    "model_assessment_table = ..."
   ]
  },
  {
   "cell_type": "markdown",
   "metadata": {},
   "source": [
    "## Problem 2.3\n",
    "\n",
    "Plot both **Sensitivity** and **Specificity** with **P** on the x-axis.  "
   ]
  },
  {
   "cell_type": "code",
   "execution_count": null,
   "metadata": {},
   "outputs": [],
   "source": []
  },
  {
   "cell_type": "markdown",
   "metadata": {},
   "source": [
    "## Problem 2.4\n",
    "\n",
    "Write your own PPV function."
   ]
  },
  {
   "cell_type": "code",
   "execution_count": 11,
   "metadata": {},
   "outputs": [],
   "source": [
    "def ppv(t):\n",
    "    ### Takes a threshold for p-hat, find the confusion matrix and uses it to compute PPV ###\n",
    "    return ..."
   ]
  },
  {
   "cell_type": "markdown",
   "metadata": {},
   "source": [
    "## Problem 2.5\n",
    "\n",
    "Using `.apply` add a column to the `model_assessment_table` for PPV.  "
   ]
  },
  {
   "cell_type": "code",
   "execution_count": 13,
   "metadata": {},
   "outputs": [],
   "source": [
    "model_assessment_table = ..."
   ]
  },
  {
   "cell_type": "markdown",
   "metadata": {},
   "source": [
    "## Problem 2.6\n",
    "\n",
    "Write your own NPV function."
   ]
  },
  {
   "cell_type": "code",
   "execution_count": null,
   "metadata": {},
   "outputs": [],
   "source": [
    "def npv(t):\n",
    "    ### Takes a threshold for p-hat, find the confusion matrix and uses it to compute NPV ###\n",
    "    return ..."
   ]
  },
  {
   "cell_type": "markdown",
   "metadata": {},
   "source": [
    "\n",
    "## Problem 2.7\n",
    "\n",
    "Using `.apply` add a column to the `model_assessment_table` for NPV.  "
   ]
  },
  {
   "cell_type": "code",
   "execution_count": null,
   "metadata": {},
   "outputs": [],
   "source": [
    "model_assessment_table = ..."
   ]
  },
  {
   "cell_type": "markdown",
   "metadata": {},
   "source": [
    "## Problem 2.8\n",
    "\n",
    "Plot all four model assessments with **P** on the x-axis.  "
   ]
  },
  {
   "cell_type": "code",
   "execution_count": null,
   "metadata": {},
   "outputs": [],
   "source": []
  },
  {
   "cell_type": "markdown",
   "metadata": {},
   "source": [
    "## Problem 2.9\n",
    "\n",
    "Which value for **P** would do the most reasonable job of balancing all four of these model assessments, keeping them all close together and near the middle?\n",
    "\n",
    "    a) 0.2 \n",
    "\n",
    "    b) 0.4\n",
    "\n",
    "    c) 0.6\n",
    "\n",
    "    d) 0.8\n",
    "\n",
    "Write your answer in the next cell.  \n"
   ]
  },
  {
   "cell_type": "markdown",
   "metadata": {},
   "source": [
    "*Write your answer here* "
   ]
  }
 ],
 "metadata": {
  "kernelspec": {
   "display_name": "Python 3",
   "language": "python",
   "name": "python3"
  },
  "language_info": {
   "codemirror_mode": {
    "name": "ipython",
    "version": 3
   },
   "file_extension": ".py",
   "mimetype": "text/x-python",
   "name": "python",
   "nbconvert_exporter": "python",
   "pygments_lexer": "ipython3",
   "version": "3.6.5"
  }
 },
 "nbformat": 4,
 "nbformat_minor": 2
}
