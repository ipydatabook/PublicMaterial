{
 "cells": [
  {
   "cell_type": "markdown",
   "metadata": {},
   "source": [
    "# Multiple Regression Homework\n"
   ]
  },
  {
   "cell_type": "code",
   "execution_count": 2,
   "metadata": {},
   "outputs": [],
   "source": [
    "# Don't change this cell; just run it. \n",
    "\n",
    "import numpy as np\n",
    "from datascience import *\n",
    "\n",
    "# These lines do some fancy plotting magic.\n",
    "import matplotlib\n",
    "%matplotlib inline\n",
    "import matplotlib.pyplot as plt\n",
    "plt.style.use('fivethirtyeight')\n",
    "import warnings\n",
    "warnings.simplefilter('ignore', FutureWarning)\n",
    "\n",
    "import scipy.stats as stats\n",
    "\n",
    "import statsmodels.api as sm\n",
    "import statsmodels.formula.api as smf\n",
    "import pandas\n",
    "from scipy.stats import pearsonr as cor"
   ]
  },
  {
   "cell_type": "code",
   "execution_count": 15,
   "metadata": {},
   "outputs": [
    {
     "data": {
      "text/html": [
       "<table border=\"1\" class=\"dataframe\">\n",
       "    <thead>\n",
       "        <tr>\n",
       "            <th>fixed acidity</th> <th>volatile acidity</th> <th>citric acid</th> <th>residual sugar</th> <th>chlorides</th> <th>free sulfur dioxide</th> <th>total sulfur dioxide</th> <th>density</th> <th>pH</th> <th>sulphates</th> <th>alcohol</th> <th>quality</th> <th>kind</th>\n",
       "        </tr>\n",
       "    </thead>\n",
       "    <tbody>\n",
       "        <tr>\n",
       "            <td>7.4          </td> <td>0.7             </td> <td>0          </td> <td>1.9           </td> <td>0.076    </td> <td>11                 </td> <td>34                  </td> <td>0.9978 </td> <td>3.51</td> <td>0.56     </td> <td>9.4    </td> <td>5      </td> <td>red </td>\n",
       "        </tr>\n",
       "        <tr>\n",
       "            <td>7.8          </td> <td>0.88            </td> <td>0          </td> <td>2.6           </td> <td>0.098    </td> <td>25                 </td> <td>67                  </td> <td>0.9968 </td> <td>3.2 </td> <td>0.68     </td> <td>9.8    </td> <td>5      </td> <td>red </td>\n",
       "        </tr>\n",
       "        <tr>\n",
       "            <td>7.8          </td> <td>0.76            </td> <td>0.04       </td> <td>2.3           </td> <td>0.092    </td> <td>15                 </td> <td>54                  </td> <td>0.997  </td> <td>3.26</td> <td>0.65     </td> <td>9.8    </td> <td>5      </td> <td>red </td>\n",
       "        </tr>\n",
       "        <tr>\n",
       "            <td>11.2         </td> <td>0.28            </td> <td>0.56       </td> <td>1.9           </td> <td>0.075    </td> <td>17                 </td> <td>60                  </td> <td>0.998  </td> <td>3.16</td> <td>0.58     </td> <td>9.8    </td> <td>6      </td> <td>red </td>\n",
       "        </tr>\n",
       "        <tr>\n",
       "            <td>7.4          </td> <td>0.7             </td> <td>0          </td> <td>1.9           </td> <td>0.076    </td> <td>11                 </td> <td>34                  </td> <td>0.9978 </td> <td>3.51</td> <td>0.56     </td> <td>9.4    </td> <td>5      </td> <td>red </td>\n",
       "        </tr>\n",
       "        <tr>\n",
       "            <td>7.4          </td> <td>0.66            </td> <td>0          </td> <td>1.8           </td> <td>0.075    </td> <td>13                 </td> <td>40                  </td> <td>0.9978 </td> <td>3.51</td> <td>0.56     </td> <td>9.4    </td> <td>5      </td> <td>red </td>\n",
       "        </tr>\n",
       "        <tr>\n",
       "            <td>7.9          </td> <td>0.6             </td> <td>0.06       </td> <td>1.6           </td> <td>0.069    </td> <td>15                 </td> <td>59                  </td> <td>0.9964 </td> <td>3.3 </td> <td>0.46     </td> <td>9.4    </td> <td>5      </td> <td>red </td>\n",
       "        </tr>\n",
       "        <tr>\n",
       "            <td>7.3          </td> <td>0.65            </td> <td>0          </td> <td>1.2           </td> <td>0.065    </td> <td>15                 </td> <td>21                  </td> <td>0.9946 </td> <td>3.39</td> <td>0.47     </td> <td>10     </td> <td>7      </td> <td>red </td>\n",
       "        </tr>\n",
       "        <tr>\n",
       "            <td>7.8          </td> <td>0.58            </td> <td>0.02       </td> <td>2             </td> <td>0.073    </td> <td>9                  </td> <td>18                  </td> <td>0.9968 </td> <td>3.36</td> <td>0.57     </td> <td>9.5    </td> <td>7      </td> <td>red </td>\n",
       "        </tr>\n",
       "        <tr>\n",
       "            <td>7.5          </td> <td>0.5             </td> <td>0.36       </td> <td>6.1           </td> <td>0.071    </td> <td>17                 </td> <td>102                 </td> <td>0.9978 </td> <td>3.35</td> <td>0.8      </td> <td>10.5   </td> <td>5      </td> <td>red </td>\n",
       "        </tr>\n",
       "    </tbody>\n",
       "</table>\n",
       "<p>... (6487 rows omitted)</p>"
      ],
      "text/plain": [
       "fixed acidity | volatile acidity | citric acid | residual sugar | chlorides | free sulfur dioxide | total sulfur dioxide | density | pH   | sulphates | alcohol | quality | kind\n",
       "7.4           | 0.7              | 0           | 1.9            | 0.076     | 11                  | 34                   | 0.9978  | 3.51 | 0.56      | 9.4     | 5       | red\n",
       "7.8           | 0.88             | 0           | 2.6            | 0.098     | 25                  | 67                   | 0.9968  | 3.2  | 0.68      | 9.8     | 5       | red\n",
       "7.8           | 0.76             | 0.04        | 2.3            | 0.092     | 15                  | 54                   | 0.997   | 3.26 | 0.65      | 9.8     | 5       | red\n",
       "11.2          | 0.28             | 0.56        | 1.9            | 0.075     | 17                  | 60                   | 0.998   | 3.16 | 0.58      | 9.8     | 6       | red\n",
       "7.4           | 0.7              | 0           | 1.9            | 0.076     | 11                  | 34                   | 0.9978  | 3.51 | 0.56      | 9.4     | 5       | red\n",
       "7.4           | 0.66             | 0           | 1.8            | 0.075     | 13                  | 40                   | 0.9978  | 3.51 | 0.56      | 9.4     | 5       | red\n",
       "7.9           | 0.6              | 0.06        | 1.6            | 0.069     | 15                  | 59                   | 0.9964  | 3.3  | 0.46      | 9.4     | 5       | red\n",
       "7.3           | 0.65             | 0           | 1.2            | 0.065     | 15                  | 21                   | 0.9946  | 3.39 | 0.47      | 10      | 7       | red\n",
       "7.8           | 0.58             | 0.02        | 2              | 0.073     | 9                   | 18                   | 0.9968  | 3.36 | 0.57      | 9.5     | 7       | red\n",
       "7.5           | 0.5              | 0.36        | 6.1            | 0.071     | 17                  | 102                  | 0.9978  | 3.35 | 0.8       | 10.5    | 5       | red\n",
       "... (6487 rows omitted)"
      ]
     },
     "execution_count": 15,
     "metadata": {},
     "output_type": "execute_result"
    }
   ],
   "source": [
    "red = Table.read_table(\"winequality-red.csv\")\n",
    "Kind = make_array()\n",
    "\n",
    "for i in red.column(0):\n",
    "    Kind = np.append(Kind, \"red\")\n",
    "\n",
    "red = red.with_column(\"kind\", Kind)  \n",
    "    \n",
    "white = Table.read_table(\"winequality-white.csv\")\n",
    "\n",
    "Kind = make_array()\n",
    "\n",
    "for i in white.column(0):\n",
    "    Kind = np.append(Kind, \"white\")\n",
    "\n",
    "white = white.with_column(\"kind\", Kind)\n",
    "\n",
    "wine = red.append(white)\n",
    "wine"
   ]
  },
  {
   "cell_type": "markdown",
   "metadata": {},
   "source": [
    "## Wine Quality\n",
    "\n",
    "1.1 Using all the variables in the data set above, called `wine`, make a multiple regression model that predicts the ph of the wine.  \n",
    "\n",
    "There are both red and white wines in the final data set, the variable `kind` is set to \"red when the wine is red and \"white\" when it is white.  Don't include this in your regression (at first).  "
   ]
  },
  {
   "cell_type": "code",
   "execution_count": null,
   "metadata": {},
   "outputs": [],
   "source": [
    "f_acidity = wine.column(\"fixed acidity\")\n",
    "v_acidity = wine.column(\"volatile acidity\")\n",
    "citric = wine.column(\"citric acid\")\n",
    "sugar = wine.column(\"residual sugar\")\n",
    "chlorides = wine.column(\"chlorides\")\n",
    "f_sulfur = wine.column(\"free sulfur dioxide\")\n",
    "t_sulfur = wine.column(\"total sulfur dioxide\")\n",
    "density = wine.column(\"density\")\n",
    "ph = wine.column(\"pH\")\n",
    "sulphates = wine.column(\"sulphates\")\n",
    "alcohol = wine.column(\"alcohol\")\n",
    "quality = wine.column(\"quality\")\n",
    "red = wine.column(\"red\")\n",
    "\n",
    "wine_data = pandas.DataFrame({})\n",
    "\n",
    "wine_model1 = smf.ols(\"\", wine_data).fit()\n",
    "\n",
    "print(wine_model1.summary())"
   ]
  },
  {
   "cell_type": "markdown",
   "metadata": {},
   "source": [
    "1.2 Create a new variable, called `wine_type`.  Set it to 0 when the wine is white and 1 when it is red.  Include this in a new model, called wine_model2.  "
   ]
  },
  {
   "cell_type": "code",
   "execution_count": null,
   "metadata": {},
   "outputs": [],
   "source": [
    "wine_model2 = smf.ols(\"\", wine_data).fit()\n",
    "\n",
    "print(wine_model2.summary())"
   ]
  },
  {
   "cell_type": "markdown",
   "metadata": {},
   "source": [
    "## Section 2\n",
    "\n",
    "Check the assumptions of multiple regression.  Does your final model meet all these criteria?\n",
    "\n",
    "1. **Independence between predictor variables (no multicollinearity)**\n",
    "\n",
    "2. **Linear relationships between predictor and response**\n",
    "\n",
    "3. **Normality of residuals (with constant variance)**"
   ]
  },
  {
   "cell_type": "markdown",
   "metadata": {},
   "source": [
    "### 2.1 Check the VIF's"
   ]
  },
  {
   "cell_type": "code",
   "execution_count": null,
   "metadata": {},
   "outputs": [],
   "source": [
    "from statsmodels.stats.outliers_influence import variance_inflation_factor\n",
    "\n",
    "# just edit this to list the predictors, leave out the response\n",
    "predictor_data = wine_data[[]]\n",
    "  \n",
    "# VIF dataframe\n",
    "VIF_data = pandas.DataFrame()\n",
    "VIF_data[\"feature\"] = predictor_data.columns\n",
    "  \n",
    "# calculating VIF for each feature\n",
    "VIF_data[\"VIF\"] = [variance_inflation_factor(predictor_data.values, i)\n",
    "                          for i in range(len(predictor_data.columns))]\n",
    "  \n",
    "print(VIF_data)"
   ]
  },
  {
   "cell_type": "markdown",
   "metadata": {},
   "source": [
    "#### 2.1.2\n",
    "\n",
    "Several of the VIF's should be too high.  Eliminate *the fewest* predictors so that the VIF's are all below 5.  "
   ]
  },
  {
   "cell_type": "code",
   "execution_count": null,
   "metadata": {},
   "outputs": [],
   "source": [
    "# just edit this to list the predictors, leave out the response\n",
    "predictor_data = wine_data[[]]\n",
    "  \n",
    "# VIF dataframe\n",
    "VIF_data = pandas.DataFrame()\n",
    "VIF_data[\"feature\"] = predictor_data.columns\n",
    "  \n",
    "# calculating VIF for each feature\n",
    "VIF_data[\"VIF\"] = [variance_inflation_factor(predictor_data.values, i)\n",
    "                          for i in range(len(predictor_data.columns))]\n",
    "  \n",
    "print(VIF_data)"
   ]
  },
  {
   "cell_type": "markdown",
   "metadata": {},
   "source": [
    "#### 2.1.3 \n",
    "\n",
    "Make a new model that starts with the previous model, but eliminates the predictors that were driving up the VIF's.  Use the next available integer in the name of this model; for instance, if your previous model was `wine_model2` this new model should be `wine_model3`.  "
   ]
  },
  {
   "cell_type": "code",
   "execution_count": null,
   "metadata": {},
   "outputs": [],
   "source": [
    "wine_model3 = smf.ols(\"\", wine_data).fit()\n",
    "\n",
    "print(wine_model3.summary())"
   ]
  },
  {
   "cell_type": "markdown",
   "metadata": {},
   "source": [
    "### 2.2 Make scatterplots for each predictor\n",
    "\n",
    "Do this for just the predictors in the latest model that you just created.  "
   ]
  },
  {
   "cell_type": "code",
   "execution_count": null,
   "metadata": {},
   "outputs": [],
   "source": [
    "wine.scatter(, fit_line=True)"
   ]
  },
  {
   "cell_type": "code",
   "execution_count": null,
   "metadata": {},
   "outputs": [],
   "source": []
  },
  {
   "cell_type": "code",
   "execution_count": null,
   "metadata": {},
   "outputs": [],
   "source": []
  },
  {
   "cell_type": "code",
   "execution_count": null,
   "metadata": {},
   "outputs": [],
   "source": []
  },
  {
   "cell_type": "markdown",
   "metadata": {},
   "source": [
    "### 2.3 Check the qqplot for the residuals.  "
   ]
  },
  {
   "cell_type": "code",
   "execution_count": null,
   "metadata": {},
   "outputs": [],
   "source": [
    "sm.qqplot(wine_model3.resid);"
   ]
  },
  {
   "cell_type": "markdown",
   "metadata": {},
   "source": [
    "#### 2.3.2 \n",
    "\n",
    "Make the qqplot for the standardized residuals.  "
   ]
  },
  {
   "cell_type": "code",
   "execution_count": null,
   "metadata": {},
   "outputs": [],
   "source": [
    "std_res = ...\n",
    "sm.qqplot(std_res, line = \"q\");"
   ]
  },
  {
   "cell_type": "markdown",
   "metadata": {},
   "source": [
    "## 3 Residuals vs Predictors\n",
    "\n",
    "Make a series of scatter plots with the standardized residuals on the y-axis and a predictor on the x-axis.  Do this for each predictor in your last model."
   ]
  },
  {
   "cell_type": "code",
   "execution_count": null,
   "metadata": {},
   "outputs": [],
   "source": [
    "plt.scatter();"
   ]
  },
  {
   "cell_type": "code",
   "execution_count": null,
   "metadata": {},
   "outputs": [],
   "source": []
  },
  {
   "cell_type": "markdown",
   "metadata": {},
   "source": [
    "## 4 Check for Interactions\n",
    "\n",
    "Check to see if Red/White interacts with any of the other variables.  If it does, include those terms in your final model.  \n"
   ]
  },
  {
   "cell_type": "code",
   "execution_count": null,
   "metadata": {},
   "outputs": [],
   "source": []
  },
  {
   "cell_type": "markdown",
   "metadata": {},
   "source": [
    "## 5 Make a prediction\n",
    "\n",
    "Use your final model to predict the pH of a wine with these values.\n",
    "\n",
    "|fixed acidity |volatile acidity |citric acid | residual sugar| chlorides | free sulfur dioxide| total sulfur dioxide |density | sulphates| alcohol | quality| kind |\n",
    "|--------------|-----------------|------------|---------------|-----------|--------------------|----------------------|--------|----------|---------|--------|-------|\n",
    "|7.2           |0.835            |0           |2              |0.166      |4                   |11                    |0.99608 | 0.52     | 10      | 5    | white |"
   ]
  },
  {
   "cell_type": "code",
   "execution_count": null,
   "metadata": {},
   "outputs": [],
   "source": []
  },
  {
   "cell_type": "code",
   "execution_count": null,
   "metadata": {},
   "outputs": [],
   "source": []
  },
  {
   "cell_type": "code",
   "execution_count": null,
   "metadata": {},
   "outputs": [],
   "source": []
  }
 ],
 "metadata": {
  "kernelspec": {
   "display_name": "Python 3",
   "language": "python",
   "name": "python3"
  },
  "language_info": {
   "codemirror_mode": {
    "name": "ipython",
    "version": 3
   },
   "file_extension": ".py",
   "mimetype": "text/x-python",
   "name": "python",
   "nbconvert_exporter": "python",
   "pygments_lexer": "ipython3",
   "version": "3.6.5"
  }
 },
 "nbformat": 4,
 "nbformat_minor": 2
}
