{
 "cells": [
  {
   "cell_type": "markdown",
   "metadata": {},
   "source": [
    "# Multiple Regression Lab\n"
   ]
  },
  {
   "cell_type": "code",
   "execution_count": null,
   "metadata": {},
   "outputs": [],
   "source": [
    "# Don't change this cell; just run it. \n",
    "\n",
    "import numpy as np\n",
    "from datascience import *\n",
    "\n",
    "# These lines do some fancy plotting magic.\n",
    "import matplotlib\n",
    "%matplotlib inline\n",
    "import matplotlib.pyplot as plt\n",
    "plt.style.use('fivethirtyeight')\n",
    "import warnings\n",
    "warnings.simplefilter('ignore', FutureWarning)\n",
    "\n",
    "import scipy.stats as stats\n",
    "\n",
    "import statsmodels.api as sm\n",
    "import statsmodels.formula.api as smf\n",
    "import pandas\n",
    "from scipy.stats import pearsonr as cor"
   ]
  },
  {
   "cell_type": "code",
   "execution_count": null,
   "metadata": {},
   "outputs": [],
   "source": [
    "wine = Table.read_table(\"winequality-red.csv\")\n",
    "wine.show(3)"
   ]
  },
  {
   "cell_type": "markdown",
   "metadata": {},
   "source": [
    "## Wine Quality\n",
    "\n",
    "1.1 Using all the variables in the data set above, called `wine`, make a multiple regression model that predicts the quality of the wine.  "
   ]
  },
  {
   "cell_type": "code",
   "execution_count": null,
   "metadata": {},
   "outputs": [],
   "source": [
    "f_acidity = wine.column(\"fixed acidity\")\n",
    "v_acidity = wine.column(\"volatile acidity\")\n",
    "citric = wine.column(\"citric acid\")\n",
    "sugar = wine.column(\"residual sugar\")\n",
    "chlorides = wine.column(\"chlorides\")\n",
    "f_sulfur = wine.column(\"free sulfur dioxide\")\n",
    "t_sulfur = wine.column(\"total sulfur dioxide\")\n",
    "density = wine.column(\"density\")\n",
    "ph = wine.column(\"pH\")\n",
    "sulphates = wine.column(\"sulphates\")\n",
    "alcohol = wine.column(\"alcohol\")\n",
    "quality = wine.column(\"quality\")\n",
    "\n",
    "wine_data = pandas.DataFrame({})\n",
    "\n",
    "wine_model1 = smf.ols(\"\", wine_data).fit()\n",
    "\n",
    "print(wine_model1.summary())"
   ]
  },
  {
   "cell_type": "markdown",
   "metadata": {},
   "source": [
    "1.2 Using the method that is known as backward regression, one-by-one, eliminate predictors that are not significant at the 5% level.  Name the resulting models, wine_model2, wine_model3, and so on, until you reach a final model.  "
   ]
  },
  {
   "cell_type": "code",
   "execution_count": null,
   "metadata": {},
   "outputs": [],
   "source": [
    "wine_model2 = smf.ols(\"\", wine_data).fit()\n",
    "\n",
    "print(wine_model2.summary())"
   ]
  },
  {
   "cell_type": "markdown",
   "metadata": {},
   "source": [
    "## Section 2\n",
    "\n",
    "Check the assumptions of multiple regression.  Does your final model meet all these criteria?\n",
    "\n",
    "1. **Independence between predictor variables (no multicollinearity)**\n",
    "\n",
    "2. **Linear relationships between predictor and response**\n",
    "\n",
    "3. **Normality of residuals (with constant variance)**"
   ]
  },
  {
   "cell_type": "markdown",
   "metadata": {},
   "source": [
    "### 2.1 Check the VIF's"
   ]
  },
  {
   "cell_type": "code",
   "execution_count": null,
   "metadata": {},
   "outputs": [],
   "source": [
    "from statsmodels.stats.outliers_influence import variance_inflation_factor\n",
    "\n",
    "# just edit this to list the predictors, leave out the response\n",
    "predictor_data = wine_data[[]]\n",
    "  \n",
    "# VIF dataframe\n",
    "VIF_data = pandas.DataFrame()\n",
    "VIF_data[\"feature\"] = predictor_data.columns\n",
    "  \n",
    "# calculating VIF for each feature\n",
    "VIF_data[\"VIF\"] = [variance_inflation_factor(predictor_data.values, i)\n",
    "                          for i in range(len(predictor_data.columns))]\n",
    "  \n",
    "print(VIF_data)"
   ]
  },
  {
   "cell_type": "markdown",
   "metadata": {},
   "source": [
    "#### 2.1.2\n",
    "\n",
    "Several of the VIF's should be too high.  Eliminate *the fewest* predictors so that the VIF's are all below 5.  "
   ]
  },
  {
   "cell_type": "code",
   "execution_count": null,
   "metadata": {},
   "outputs": [],
   "source": [
    "# just edit this to list the predictors, leave out the response\n",
    "predictor_data = wine_data[[]]\n",
    "  \n",
    "# VIF dataframe\n",
    "VIF_data = pandas.DataFrame()\n",
    "VIF_data[\"feature\"] = predictor_data.columns\n",
    "  \n",
    "# calculating VIF for each feature\n",
    "VIF_data[\"VIF\"] = [variance_inflation_factor(predictor_data.values, i)\n",
    "                          for i in range(len(predictor_data.columns))]\n",
    "  \n",
    "print(VIF_data)"
   ]
  },
  {
   "cell_type": "markdown",
   "metadata": {},
   "source": [
    "#### 2.1.3 \n",
    "\n",
    "Make a new model that starts with the previous model, but eliminates the predictors that were driving up the VIF's.  Use the next available integer in the name of this model; for instance, if your previous model was `wine_model2` this new model should be `wine_model3`.  "
   ]
  },
  {
   "cell_type": "code",
   "execution_count": null,
   "metadata": {},
   "outputs": [],
   "source": [
    "wine_model3 = smf.ols(\"\", wine_data).fit()\n",
    "\n",
    "print(wine_model3.summary())"
   ]
  },
  {
   "cell_type": "markdown",
   "metadata": {},
   "source": [
    "### 2.2 Make scatterplots for each predictor\n",
    "\n",
    "Do this for just the predictors in the latest model that you just created.  "
   ]
  },
  {
   "cell_type": "code",
   "execution_count": null,
   "metadata": {},
   "outputs": [],
   "source": [
    "wine.scatter(, fit_line=True)"
   ]
  },
  {
   "cell_type": "code",
   "execution_count": null,
   "metadata": {},
   "outputs": [],
   "source": []
  },
  {
   "cell_type": "code",
   "execution_count": null,
   "metadata": {},
   "outputs": [],
   "source": []
  },
  {
   "cell_type": "code",
   "execution_count": null,
   "metadata": {},
   "outputs": [],
   "source": []
  },
  {
   "cell_type": "markdown",
   "metadata": {},
   "source": [
    "### 2.3 Check the qqplot for the residuals.  "
   ]
  },
  {
   "cell_type": "code",
   "execution_count": null,
   "metadata": {},
   "outputs": [],
   "source": [
    "sm.qqplot(wine_model3.resid);"
   ]
  },
  {
   "cell_type": "markdown",
   "metadata": {},
   "source": [
    "#### 2.3.2 \n",
    "\n",
    "Make the qqplot for the standardized residuals.  "
   ]
  },
  {
   "cell_type": "code",
   "execution_count": null,
   "metadata": {},
   "outputs": [],
   "source": [
    "std_res = ...\n",
    "sm.qqplot(std_res, line = \"q\");"
   ]
  },
  {
   "cell_type": "markdown",
   "metadata": {},
   "source": [
    "## 3 Residuals vs Predictors\n",
    "\n",
    "Make a series of scatter plots with the standardized residuals on the y-axis and a predictor on the x-axis.  Do this for each predictor in your last model."
   ]
  },
  {
   "cell_type": "code",
   "execution_count": null,
   "metadata": {},
   "outputs": [],
   "source": [
    "plt.scatter();"
   ]
  },
  {
   "cell_type": "code",
   "execution_count": null,
   "metadata": {},
   "outputs": [],
   "source": []
  },
  {
   "cell_type": "code",
   "execution_count": null,
   "metadata": {},
   "outputs": [],
   "source": []
  },
  {
   "cell_type": "code",
   "execution_count": null,
   "metadata": {},
   "outputs": [],
   "source": []
  },
  {
   "cell_type": "markdown",
   "metadata": {},
   "source": [
    "## 4 Make a prediction\n",
    "\n",
    "Use your final model to predict the pH of a wine with these values.\n",
    "\n",
    "|fixed acidity |volatile acidity |citric acid | residual sugar| chlorides | free sulfur dioxide| total sulfur dioxide |density | sulphates| alcohol | quality|\n",
    "|--------------|-----------------|------------|---------------|-----------|--------------------|----------------------|--------|----------|---------|--------|\n",
    "|7.2           |0.835            |0           |2              |0.166      |4                   |11                    |0.99608 | 0.52     | 10      | 5    |"
   ]
  },
  {
   "cell_type": "code",
   "execution_count": null,
   "metadata": {},
   "outputs": [],
   "source": []
  },
  {
   "cell_type": "code",
   "execution_count": null,
   "metadata": {},
   "outputs": [],
   "source": []
  }
 ],
 "metadata": {
  "kernelspec": {
   "display_name": "Python 3",
   "language": "python",
   "name": "python3"
  },
  "language_info": {
   "codemirror_mode": {
    "name": "ipython",
    "version": 3
   },
   "file_extension": ".py",
   "mimetype": "text/x-python",
   "name": "python",
   "nbconvert_exporter": "python",
   "pygments_lexer": "ipython3",
   "version": "3.6.5"
  }
 },
 "nbformat": 4,
 "nbformat_minor": 2
}
