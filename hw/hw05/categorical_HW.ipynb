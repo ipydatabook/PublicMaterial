{
 "cells": [
  {
   "cell_type": "markdown",
   "metadata": {},
   "source": [
    "# Categorical Visualizations Homework\n",
    "\n"
   ]
  },
  {
   "cell_type": "code",
   "execution_count": 1,
   "metadata": {},
   "outputs": [],
   "source": [
    "from datascience import *\n",
    "import numpy as np\n",
    "import warnings\n",
    "warnings.filterwarnings(\"ignore\")\n",
    "\n",
    "%matplotlib inline\n",
    "import matplotlib.pyplot as plots\n",
    "plots.style.use('fivethirtyeight')\n",
    "plots.rcParams[\"patch.force_edgecolor\"] = True\n",
    "\n",
    "import pandas as pd"
   ]
  },
  {
   "cell_type": "markdown",
   "metadata": {},
   "source": [
    "\n",
    "### The file 'farmers_markets.csv' contains data about farmers' markets across the US.\n",
    "#### Q1. Read in the data file and display 5 rows."
   ]
  },
  {
   "cell_type": "code",
   "execution_count": 2,
   "metadata": {},
   "outputs": [],
   "source": [
    "myData = ..."
   ]
  },
  {
   "cell_type": "markdown",
   "metadata": {},
   "source": [
    "#### Q2.  How many rows and columns are in the table?"
   ]
  },
  {
   "cell_type": "code",
   "execution_count": 3,
   "metadata": {},
   "outputs": [
    {
     "name": "stdout",
     "output_type": "stream",
     "text": [
      "myData contains  Ellipsis observations of  Ellipsis variables. \n"
     ]
    }
   ],
   "source": [
    "myCols = ...\n",
    "myRows = ...\n",
    "\n",
    "# do not change the following line of code\n",
    "print('myData contains ', myRows, 'observations of ',myCols, 'variables. ')\n",
    "\n"
   ]
  },
  {
   "cell_type": "markdown",
   "metadata": {},
   "source": [
    "#### Q2. What are the names of the colums?"
   ]
  },
  {
   "cell_type": "code",
   "execution_count": 4,
   "metadata": {},
   "outputs": [
    {
     "name": "stdout",
     "output_type": "stream",
     "text": [
      "myData column names \n",
      " Ellipsis\n"
     ]
    }
   ],
   "source": [
    "myData_variables = ...\n",
    "\n",
    "# do not change the following line of code\n",
    "print('myData column names \\n',myData_variables)"
   ]
  },
  {
   "cell_type": "markdown",
   "metadata": {},
   "source": [
    "### Before we start analyzing the data, we need to get a better understanding of the data.  It looks like most of the data are the names of products and a simple 'Y' if the market sells that product, and 'N' if they do not. \n",
    "\n",
    "#### Q3.  Drop the first 3  and the  last 15 columns from the table and call it myDataShort."
   ]
  },
  {
   "cell_type": "code",
   "execution_count": 5,
   "metadata": {},
   "outputs": [
    {
     "ename": "AttributeError",
     "evalue": "'ellipsis' object has no attribute 'num_columns'",
     "output_type": "error",
     "traceback": [
      "\u001b[0;31m---------------------------------------------------------------------------\u001b[0m",
      "\u001b[0;31mAttributeError\u001b[0m                            Traceback (most recent call last)",
      "\u001b[0;32m<ipython-input-5-cb93e2cf3ce2>\u001b[0m in \u001b[0;36m<module>\u001b[0;34m\u001b[0m\n\u001b[1;32m      2\u001b[0m \u001b[0;34m\u001b[0m\u001b[0m\n\u001b[1;32m      3\u001b[0m \u001b[0;31m# Do NOT change this code\u001b[0m\u001b[0;34m\u001b[0m\u001b[0;34m\u001b[0m\u001b[0;34m\u001b[0m\u001b[0m\n\u001b[0;32m----> 4\u001b[0;31m \u001b[0mprint\u001b[0m\u001b[0;34m(\u001b[0m\u001b[0;34m'The new table has '\u001b[0m\u001b[0;34m,\u001b[0m\u001b[0mmyData\u001b[0m\u001b[0;34m.\u001b[0m\u001b[0mnum_columns\u001b[0m \u001b[0;34m-\u001b[0m \u001b[0mmyDataShort\u001b[0m\u001b[0;34m.\u001b[0m\u001b[0mnum_columns\u001b[0m\u001b[0;34m,\u001b[0m \u001b[0;34m' columns'\u001b[0m\u001b[0;34m)\u001b[0m\u001b[0;34m\u001b[0m\u001b[0;34m\u001b[0m\u001b[0m\n\u001b[0m\u001b[1;32m      5\u001b[0m \u001b[0mmyDataShort\u001b[0m\u001b[0;34m.\u001b[0m\u001b[0mshow\u001b[0m\u001b[0;34m(\u001b[0m\u001b[0;36m5\u001b[0m\u001b[0;34m)\u001b[0m\u001b[0;34m\u001b[0m\u001b[0;34m\u001b[0m\u001b[0m\n",
      "\u001b[0;31mAttributeError\u001b[0m: 'ellipsis' object has no attribute 'num_columns'"
     ]
    }
   ],
   "source": [
    "myDataShort = ...\n",
    "\n",
    "# Do NOT change this code\n",
    "print('The new table has ',myData.num_columns - myDataShort.num_columns, ' columns')\n",
    "myDataShort.show(5)\n"
   ]
  },
  {
   "cell_type": "markdown",
   "metadata": {},
   "source": [
    "###  Which State has the most farmers markets ? \n",
    "#### Q4. Create a table called num_markets that has 2 columns. The first column 'State' has the name of each state and the second column 'count' has the number of markets in that state. Sort the table by 'count' in descending order.\n"
   ]
  },
  {
   "cell_type": "code",
   "execution_count": null,
   "metadata": {},
   "outputs": [],
   "source": [
    "num_markets = ...\n",
    "\n",
    "#  do not change this line of code\n",
    "print(most_markets, \"has the most farmer's markets. \\n\")"
   ]
  },
  {
   "cell_type": "markdown",
   "metadata": {},
   "source": [
    "#### Q5. How many rows are in the num_markets tables?\n"
   ]
  },
  {
   "cell_type": "code",
   "execution_count": null,
   "metadata": {},
   "outputs": [],
   "source": [
    "market_tally = ...\n",
    "\n",
    "#  do not change this line of code\n",
    "print(' There are ', market_tally, ' \"states\" in the table. \\n')"
   ]
  },
  {
   "cell_type": "markdown",
   "metadata": {},
   "source": [
    "\n",
    "#### Q6. Why aren't there 50 rows in the table?\n",
    "\n",
    "Write your answer here.\n",
    "\n",
    "\n",
    "\n",
    "---"
   ]
  },
  {
   "cell_type": "markdown",
   "metadata": {},
   "source": [
    "#### Q7. Add a column to the table called 'rank' that starts at 1 and counts by 1 for each row in the table.  Your table should look something like the one below.\n",
    "\n",
    "|   |    |    |\n",
    "|:---|:---|:---|\n",
    "|rank|state|count|\n",
    "|1|California|725|\n",
    "|2|New York|672|\n",
    "|3|Michigan|340|\n",
    "|.|...|...|\n"
   ]
  },
  {
   "cell_type": "code",
   "execution_count": null,
   "metadata": {},
   "outputs": [],
   "source": [
    "num_markets_ranked = ...\n",
    "num_markets_ranked"
   ]
  },
  {
   "cell_type": "markdown",
   "metadata": {},
   "source": [
    "#### Q7.  Make a horizontal bar chart of the number of markets for the top 10 states.\n"
   ]
  },
  {
   "cell_type": "code",
   "execution_count": 6,
   "metadata": {},
   "outputs": [],
   "source": [
    "# Insert your bar chart code here\n",
    "..."
   ]
  },
  {
   "cell_type": "markdown",
   "metadata": {},
   "source": [
    "#### Q8.  What rank is Georgia? Extract the rank for Georgia from the table.\n"
   ]
  },
  {
   "cell_type": "code",
   "execution_count": null,
   "metadata": {},
   "outputs": [],
   "source": [
    "GA_rank = ...\n",
    "\n",
    "# do not change this line of code\n",
    "print('There are ', GA_rank - 1, \" States that have more farmer's markets than Georgia\")"
   ]
  },
  {
   "cell_type": "markdown",
   "metadata": {},
   "source": [
    "#### Q9.  How many farmer's markets does Georgia have? Extract the count for Georgia from the table.\n"
   ]
  },
  {
   "cell_type": "code",
   "execution_count": null,
   "metadata": {},
   "outputs": [],
   "source": [
    "GA_count = ...\n",
    "\n",
    "# do not change this line of code\n",
    "print('Georgia has ', GA_count, \" farmer's markets.\")"
   ]
  },
  {
   "cell_type": "markdown",
   "metadata": {},
   "source": [
    "#### Q10. What is the distribution of the number of farmer's markets per state. Create an appropriate histogram. Use the bins provided.\n"
   ]
  },
  {
   "cell_type": "code",
   "execution_count": null,
   "metadata": {},
   "outputs": [],
   "source": [
    "# do not change this line of code\n",
    "myBins = np.arange(0,800,50)\n",
    "\n",
    "#  insert your histogram code here\n",
    "num_markets.hist('count', bins = myBins)"
   ]
  },
  {
   "cell_type": "markdown",
   "metadata": {},
   "source": [
    "#### Q11.  Is the distribution of markets symmetric or skewed? If it is skewed, what direction.\n",
    "\n",
    "1. Skewed Left\n",
    "2. Skewed Right\n",
    "3. Not Skewed\n"
   ]
  },
  {
   "cell_type": "code",
   "execution_count": null,
   "metadata": {},
   "outputs": [],
   "source": [
    "Q11_answer = ..."
   ]
  },
  {
   "cell_type": "markdown",
   "metadata": {},
   "source": [
    "#### Q12. Which of the following is true for the number of markets?\n",
    "1. The mean is lower than the median.\n",
    "2. The mean is higher than the median.\n",
    "3. the mean is the same as the median.\n"
   ]
  },
  {
   "cell_type": "code",
   "execution_count": null,
   "metadata": {},
   "outputs": [],
   "source": [
    "Q12_answer = ...\n"
   ]
  },
  {
   "cell_type": "markdown",
   "metadata": {},
   "source": [
    "#### Q13.  What percentage of  markets are in the second bar of the histogram (select the closest answer)?\n",
    "1. About 15%\n",
    "2. About 20%\n",
    "3. About 25%\n",
    "4. About 30%\n",
    "\n",
    "\n"
   ]
  },
  {
   "cell_type": "code",
   "execution_count": null,
   "metadata": {},
   "outputs": [],
   "source": [
    "Q13_answer = ..."
   ]
  },
  {
   "cell_type": "markdown",
   "metadata": {},
   "source": [
    "#### Q14. How many  markets are in the second bar of the histogram (select the closest answer)?\n",
    "1. About 1200\n",
    "2. About 2500\n",
    "3. About 1700\n",
    "4. About 2000"
   ]
  },
  {
   "cell_type": "code",
   "execution_count": null,
   "metadata": {},
   "outputs": [],
   "source": [
    "Q14_answer = ..."
   ]
  },
  {
   "cell_type": "markdown",
   "metadata": {},
   "source": [
    "#### Q15. Create a table called georgia_markets that has only Georgia farmers markets. Drop the column 'State' from georgia_markets.  Show the first 5 rows of georgia_markets."
   ]
  },
  {
   "cell_type": "code",
   "execution_count": null,
   "metadata": {},
   "outputs": [],
   "source": [
    "georgia_markets = ..."
   ]
  },
  {
   "cell_type": "markdown",
   "metadata": {},
   "source": [
    "#### Q16. Does Georgia sell more honey or baked goods?\n",
    "Count the number of markets that sell baked goods and the number that sell honey.\n"
   ]
  },
  {
   "cell_type": "code",
   "execution_count": null,
   "metadata": {},
   "outputs": [],
   "source": [
    "num_honey = ...\n",
    "num_bakedgoods = ...\n",
    "\n",
    "#  do not change the following lines of code\n",
    "print(num_honey,' Georgia markets sell Honey')\n",
    "print(num_bakedgoods,' Georgia markets sell Baked Goods')"
   ]
  },
  {
   "cell_type": "markdown",
   "metadata": {},
   "source": [
    "#### Q17. What percentage of Georgia farmers markets sell poultry? Use group and with_column to create a table that looks like:\n",
    "\n",
    "|   |    |    |\n",
    "|:---|:---|:---|\n",
    "|Poultry|count|pct|\n",
    "|N|6148|72|\n",
    "|Y|2398|28|"
   ]
  },
  {
   "cell_type": "code",
   "execution_count": null,
   "metadata": {},
   "outputs": [],
   "source": [
    "poultry_pct = ...\n",
    "poultry_pct"
   ]
  },
  {
   "cell_type": "markdown",
   "metadata": {},
   "source": [
    "#### Q18.  Make a Pie Chart of the poultry percentages."
   ]
  },
  {
   "cell_type": "code",
   "execution_count": null,
   "metadata": {},
   "outputs": [],
   "source": [
    "pct_N = ...\n",
    "pct_Y = ...\n"
   ]
  },
  {
   "cell_type": "markdown",
   "metadata": {},
   "source": [
    "### ALL FINISHED! Just submit :)"
   ]
  }
 ],
 "metadata": {
  "anaconda-cloud": {},
  "kernelspec": {
   "display_name": "Python 3",
   "language": "python",
   "name": "python3"
  },
  "language_info": {
   "codemirror_mode": {
    "name": "ipython",
    "version": 3
   },
   "file_extension": ".py",
   "mimetype": "text/x-python",
   "name": "python",
   "nbconvert_exporter": "python",
   "pygments_lexer": "ipython3",
   "version": "3.6.5"
  }
 },
 "nbformat": 4,
 "nbformat_minor": 4
}
