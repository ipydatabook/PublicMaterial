{
 "cells": [
  {
   "cell_type": "markdown",
   "metadata": {},
   "source": [
    "# Homework 5: Probability"
   ]
  },
  {
   "cell_type": "markdown",
   "metadata": {},
   "source": [
    "Please complete this notebook by filling in the cells provided. \n",
    "\n",
    "For all problems you **must** provide your answer in the designated space. Moreover, throughout this homework and all future ones, please be sure to not re-assign variables throughout the notebook! For example, if you use `max_temperature` in your answer to one question, do not reassign it later on."
   ]
  },
  {
   "cell_type": "code",
   "execution_count": null,
   "metadata": {},
   "outputs": [],
   "source": [
    "# Don't change this cell; just run it. \n",
    "\n",
    "import numpy as np\n",
    "from datascience import *\n",
    "\n",
    "import scipy.stats as stats\n",
    "\n",
    "# These lines do some fancy plotting magic.\n",
    "import matplotlib\n",
    "%matplotlib inline\n",
    "import matplotlib.pyplot as plt\n",
    "plt.style.use('fivethirtyeight')\n",
    "import warnings\n",
    "warnings.simplefilter('ignore', FutureWarning)\n",
    "\n",
    "#import otter\n",
    "#grader = otter.Notebook()\n"
   ]
  },
  {
   "cell_type": "markdown",
   "metadata": {},
   "source": [
    "## 1. Probability\n"
   ]
  },
  {
   "cell_type": "markdown",
   "metadata": {
    "deletable": false
   },
   "source": [
    "We will be testing some probability concepts that were introduced in lecture. For all of the following problems, we will introduce a problem statement and give you several proposed answers. You must assign the provided variable to your choice.\n",
    "\n",
    "\n",
    "\n",
    "You are more than welcome to create more cells across this notebook to use for arithmetic operations \n",
    "\n",
    "**Question 1.** You roll a 6-sided die 10 times. What is the chance of getting exactly 3 sixes?\n",
    "\n",
    "Use the `binom.pmf` function from the `scipy.stats` module, which we have imported as simply `stats`.  \n",
    "\n",
    "\n",
    "If you like, you can run this cell that contains a simulation of rolling a die 3 times and counting the number of 6's.  (Don't expect the result to be exactly right, simulations are often just approximately right.)"
   ]
  },
  {
   "cell_type": "code",
   "execution_count": null,
   "metadata": {},
   "outputs": [],
   "source": [
    "three_sixes_answer = ...\n",
    "three_sixes_answer"
   ]
  },
  {
   "cell_type": "code",
   "execution_count": null,
   "metadata": {},
   "outputs": [],
   "source": [
    "die = make_array(0,0,0,0,0,1)\n",
    "sixes_in_tenrolls = make_array()\n",
    "\n",
    "for i in np.arange(20000):\n",
    "    ten_rolls = np.random.choice(die, 10, replace=True)\n",
    "    sixes_in_tenrolls = np.append(sixes_in_tenrolls, sum(ten_rolls))\n",
    "\n",
    "round(sum(sixes_in_tenrolls == 3)/20000, 4)"
   ]
  },
  {
   "cell_type": "markdown",
   "metadata": {
    "deletable": false
   },
   "source": [
    "**Question 2.** Take the same problem set-up as before, rolling a fair dice 10 times. What is the chance that up to 3 sixes?\n",
    "\n",
    "Set your answer to `three_or_less_answer`.  \n",
    "\n",
    "Again, a simulation is provided to help you check your answer.  "
   ]
  },
  {
   "cell_type": "code",
   "execution_count": null,
   "metadata": {},
   "outputs": [],
   "source": [
    "three_or_less_answer = ...\n",
    "three_or_less_answer"
   ]
  },
  {
   "cell_type": "code",
   "execution_count": null,
   "metadata": {},
   "outputs": [],
   "source": [
    "die = make_array(0,0,0,0,0,1)\n",
    "sixes_in_three = make_array()\n",
    "\n",
    "for i in np.arange(10000):\n",
    "    three_rolls = np.random.choice(die, 10, replace=True)\n",
    "    sixes_in_three = np.append(sixes_in_three, sum(three_rolls))\n",
    "\n",
    "round(sum(sixes_in_three <= 3)/10000, 4)"
   ]
  },
  {
   "cell_type": "markdown",
   "metadata": {
    "deletable": false
   },
   "source": [
    "**Question 3.** Assume the number of mosquitos caught in a mosquito trap follows a Poisson distribution with a mean of 15.  What is the probability that a trap is found to contain 20 mosquitos?\n",
    "\n",
    "Use the `poisson.pmf` function from the `stats` module and set your answer equal to `twenty_mosquitos`."
   ]
  },
  {
   "cell_type": "code",
   "execution_count": null,
   "metadata": {},
   "outputs": [],
   "source": [
    "twenty_mosquitos = ...\n",
    "twenty_mosquitos"
   ]
  },
  {
   "cell_type": "markdown",
   "metadata": {},
   "source": [
    "**Question 4.** Assume the number of mosquitoes caught in a mosquito trap follows a Poisson distribution with a mean of 15.  \n",
    "\n",
    "**Question 4.1** What is the probability that such a mosquito trap would capture exactly 15 mosquitoes? \n",
    "\n",
    "Use the `poisson.pmf` function from the `stats` module and set your answer equal to `exactly_15`."
   ]
  },
  {
   "cell_type": "code",
   "execution_count": null,
   "metadata": {},
   "outputs": [],
   "source": [
    "exactly_15 = ...\n",
    "exactly_15"
   ]
  },
  {
   "cell_type": "markdown",
   "metadata": {},
   "source": [
    "**Question 4.2** What is the probability that such a mosquito trap would capture fewer than 15 mosquitoes? \n",
    "\n",
    "Use the `poisson.pmf` function from the `stats` module and set your answer equal to `fewer_than_15`. "
   ]
  },
  {
   "cell_type": "code",
   "execution_count": null,
   "metadata": {},
   "outputs": [],
   "source": [
    "fewer_than_15 = ...\n",
    "fewer_than_15"
   ]
  },
  {
   "cell_type": "markdown",
   "metadata": {},
   "source": [
    "**Question 4.3** What is the probability that a trap is found to contain 20 or more mosquitoes?\n",
    "\n",
    "Set your answer equal to `twenty_plus_mosquitoes`."
   ]
  },
  {
   "cell_type": "code",
   "execution_count": null,
   "metadata": {},
   "outputs": [],
   "source": [
    "twenty_plus_mosquitoes = ...\n",
    "twenty_plus_mosquitoes"
   ]
  },
  {
   "cell_type": "markdown",
   "metadata": {},
   "source": [
    "**Question 5** In a town with two bakeries, one bakery makes oatmeal raisin cookies with an average of 5 raisins per cookie.  The other bakery makes them with an average of 10 raisins per cookie.  A friend buys you an oatmeal raisin cookie, but won't tell you which bakery she got it from; she just says she flipped a coin to decide which bakery to go to.  \n",
    "\n",
    "**Question 5.1**  What's the probability your cookie has 12 raisins in it?\n",
    "\n",
    "Set your answer equal to `twelve_raisins`"
   ]
  },
  {
   "cell_type": "code",
   "execution_count": null,
   "metadata": {},
   "outputs": [],
   "source": [
    "twelve_raisins = ...\n",
    "twelve_raisins"
   ]
  },
  {
   "cell_type": "markdown",
   "metadata": {
    "deletable": false
   },
   "source": [
    "**Question 5.2** If you discover that your cookie does have 12 raisins, what's the probability that she bought it from the bakery that uses more raisins?\n",
    "\n",
    "Set your answer equal to `good_bakery`.  "
   ]
  },
  {
   "cell_type": "code",
   "execution_count": null,
   "metadata": {},
   "outputs": [],
   "source": [
    "good_bakery = ...\n",
    "good_bakery"
   ]
  },
  {
   "cell_type": "markdown",
   "metadata": {},
   "source": [
    "**Question 6**  Imagine that the average bone mass for a particular population of humans follows a normal distribution with a mean of 2 kg and a standard deviation of 0.17 kg.  \n",
    "\n",
    "**Question 6.1** What's the probability that a single individual, randomly selected from this population, would have a bone mass that exceeded 1.9 kg?\n",
    "\n",
    "Set your answer equal to `over_1p9kg` (This abbreviation is for *over 1 point 9 kg*)."
   ]
  },
  {
   "cell_type": "code",
   "execution_count": null,
   "metadata": {
    "deletable": false
   },
   "outputs": [],
   "source": [
    "over_1p9kg = ...\n",
    "over_1p9kg"
   ]
  },
  {
   "cell_type": "markdown",
   "metadata": {},
   "source": [
    "**Question 6.2** What's the probability that a sample of 15 individuals randomly selected from this population, would have an average bone mass that exceeded 1.9 kg?\n",
    "\n",
    "Set your answer equal to `mean_over_1p9kg`."
   ]
  },
  {
   "cell_type": "code",
   "execution_count": null,
   "metadata": {},
   "outputs": [],
   "source": [
    "mean_over_1p9kg = 1-stats.norm.cdf(1.9, 2, 0.17/15**0.5)\n",
    "mean_over_1p9kg"
   ]
  },
  {
   "cell_type": "markdown",
   "metadata": {},
   "source": [
    "**Question 7**  It's been said that if you had a million monkeys constantly typing on a million keyboards for a million years, one of those monkeys would probably produce at least one of Shakespeare's plays.  See the Infinite Monkey Theorem (<https://en.wikipedia.org/wiki/Infinite_monkey_theorem>).  If a special keyboard has only the 26 lower-case letters of the alphabet, and a monkey randomly hits any 5 keys, what is the probability the word produced is \"stats\"?\n",
    "\n",
    "Set your answer equal to `stats_probability`.  "
   ]
  },
  {
   "cell_type": "code",
   "execution_count": 37,
   "metadata": {},
   "outputs": [
    {
     "data": {
      "text/plain": [
       "8.416533573215762e-08"
      ]
     },
     "execution_count": 37,
     "metadata": {},
     "output_type": "execute_result"
    }
   ],
   "source": [
    "stats_probability = 26**(-5)\n",
    "stats_probability"
   ]
  },
  {
   "cell_type": "markdown",
   "metadata": {},
   "source": [
    "## Summary\n",
    "\n",
    "Don't change anything in the cell below, but **DO** run it."
   ]
  },
  {
   "cell_type": "code",
   "execution_count": 39,
   "metadata": {
    "deletable": false
   },
   "outputs": [
    {
     "name": "stdout",
     "output_type": "stream",
     "text": [
      "The answer to Question 1 is 0.155\n",
      "The answer to Question 2 is 0.93\n",
      "The answer to Question 3 is 0.042\n",
      "The answer to Question 4.1 is 0.102\n",
      "The answer to Question 4.2 is 0.466\n",
      "The answer to Question 4.3 is 0.125\n",
      "The answer to Question 5.1 is 0.049\n",
      "The answer to Question 5.2 is 0.965\n",
      "The answer to Question 6.1 is 0.722\n",
      "The answer to Question 6.2 is 0.989\n",
      "The answer to Question 7 is 8.4e-08\n"
     ]
    }
   ],
   "source": [
    "print(f\"The answer to Question 1 is {np.round(three_sixes_answer, 3)}\")\n",
    "\n",
    "print(f\"The answer to Question 2 is {np.round(three_or_less_answer, 3)}\")\n",
    "\n",
    "print(f\"The answer to Question 3 is {np.round(twenty_mosquitos, 3)}\")\n",
    "\n",
    "print(f\"The answer to Question 4.1 is {np.round(exactly_15, 3)}\")\n",
    "\n",
    "print(f\"The answer to Question 4.2 is {np.round(fewer_than_15, 3)}\")\n",
    "\n",
    "print(f\"The answer to Question 4.3 is {np.round(twenty_plus_mosquitoes, 3)}\")\n",
    "\n",
    "print(f\"The answer to Question 5.1 is {np.round(twelve_raisins, 3)}\")\n",
    "\n",
    "print(f\"The answer to Question 5.2 is {np.round(good_bakery, 3)}\")\n",
    "\n",
    "print(f\"The answer to Question 6.1 is {np.round(over_1p9kg, 3)}\")\n",
    "\n",
    "print(f\"The answer to Question 6.2 is {np.round(mean_over_1p9kg, 3)}\")\n",
    "\n",
    "print(f\"The answer to Question 7 is {np.round(stats_probability, 9)}\")"
   ]
  }
 ],
 "metadata": {
  "celltoolbar": "Edit Metadata",
  "kernelspec": {
   "display_name": "Python 3",
   "language": "python",
   "name": "python3"
  },
  "language_info": {
   "codemirror_mode": {
    "name": "ipython",
    "version": 3
   },
   "file_extension": ".py",
   "mimetype": "text/x-python",
   "name": "python",
   "nbconvert_exporter": "python",
   "pygments_lexer": "ipython3",
   "version": "3.6.5"
  }
 },
 "nbformat": 4,
 "nbformat_minor": 1
}
