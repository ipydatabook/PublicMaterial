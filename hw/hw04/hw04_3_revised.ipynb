{
 "cells": [
  {
   "cell_type": "markdown",
   "metadata": {},
   "source": [
    "# Homework 3 : Functions, Histograms, and Groups"
   ]
  },
  {
   "cell_type": "markdown",
   "metadata": {},
   "source": [
    "**Reading**: \n",
    "\n",
    "* [Visualizing Numerical Distributions](hhttps://ipydatabook.github.io//chapters/07/2/visualizing-numerical-distributions.html) \n",
    "* [Functions and Tables](https://ipydatabook.github.io//chapters/08/functions-and-tables.html)"
   ]
  },
  {
   "cell_type": "markdown",
   "metadata": {},
   "source": [
    "Please complete this notebook by filling in the cells provided.\n",
    "\n",
    "**Throughout this homework and all future ones, please be sure to not re-assign variables throughout the notebook!** For example, if you use `max_temperature` in your answer to one question, do not reassign it later on. Moreover, please be sure to only put your written answers in the provided cells. "
   ]
  },
  {
   "cell_type": "code",
   "execution_count": 1,
   "metadata": {},
   "outputs": [],
   "source": [
    "# Don't change this cell; just run it. \n",
    "\n",
    "import numpy as np\n",
    "from datascience import *\n",
    "\n",
    "# These lines do some fancy plotting magic.\\n\",\n",
    "import matplotlib\n",
    "%matplotlib inline\n",
    "import matplotlib.pyplot as plt\n",
    "plt.style.use('fivethirtyeight')\n",
    "\n"
   ]
  },
  {
   "cell_type": "markdown",
   "metadata": {},
   "source": [
    "Before continuing the assignment, select \"Save and Checkpoint\" in the File menu."
   ]
  },
  {
   "cell_type": "markdown",
   "metadata": {},
   "source": [
    "## Burrito-ful San Diego"
   ]
  },
  {
   "cell_type": "markdown",
   "metadata": {},
   "source": [
    "Tam, Margaret and Winifred are trying to use Data Science to find the best burritos in San Diego! Their friends Irene and Maya provided them with two comprehensive datasets on many burrito establishments in the San Diego area taken from (and cleaned from): https://www.kaggle.com/srcole/burritos-in-san-diego/data"
   ]
  },
  {
   "cell_type": "markdown",
   "metadata": {},
   "source": [
    "The following cell reads in a table called `ratings` which contains names of burrito restaurants, their Yelp rating, Google rating, as well as their Overall rating. It also reads in a table called `burritos_types` which contains names of burrito restaurants, their menu items, and the cost of the respective menu item at the restaurant."
   ]
  },
  {
   "cell_type": "code",
   "execution_count": 2,
   "metadata": {
    "deletable": false,
    "editable": false,
    "scrolled": true
   },
   "outputs": [
    {
     "data": {
      "text/html": [
       "<table border=\"1\" class=\"dataframe\">\n",
       "    <thead>\n",
       "        <tr>\n",
       "            <th>Name</th> <th>Yelp</th> <th>Google</th> <th>Overall</th>\n",
       "        </tr>\n",
       "    </thead>\n",
       "    <tbody>\n",
       "        <tr>\n",
       "            <td>Albertacos                </td> <td>3.5 </td> <td>3.9   </td> <td>3.45   </td>\n",
       "        </tr>\n",
       "        <tr>\n",
       "            <td>Burrito Factory           </td> <td>4.5 </td> <td>4.8   </td> <td>3.5    </td>\n",
       "        </tr>\n",
       "        <tr>\n",
       "            <td>Burros and Fries          </td> <td>3.5 </td> <td>4.1   </td> <td>3.575  </td>\n",
       "        </tr>\n",
       "        <tr>\n",
       "            <td>Caliente Mexican Food     </td> <td>3.5 </td> <td>4.4   </td> <td>3.25   </td>\n",
       "        </tr>\n",
       "        <tr>\n",
       "            <td>California Burrito Company</td> <td>3.5 </td> <td>4.4   </td> <td>3.2    </td>\n",
       "        </tr>\n",
       "    </tbody>\n",
       "</table>\n",
       "<p>... (77 rows omitted)</p>"
      ],
      "text/plain": [
       "<IPython.core.display.HTML object>"
      ]
     },
     "metadata": {},
     "output_type": "display_data"
    },
    {
     "data": {
      "text/html": [
       "<table border=\"1\" class=\"dataframe\">\n",
       "    <thead>\n",
       "        <tr>\n",
       "            <th>Name</th> <th>Menu_Item</th> <th>Cost</th>\n",
       "        </tr>\n",
       "    </thead>\n",
       "    <tbody>\n",
       "        <tr>\n",
       "            <td>Albertacos                                         </td> <td>California          </td> <td>5.7 </td>\n",
       "        </tr>\n",
       "        <tr>\n",
       "            <td>Albertacos                                         </td> <td>Carne asada         </td> <td>5.25</td>\n",
       "        </tr>\n",
       "        <tr>\n",
       "            <td>Alberto's 623 N Escondido Blvd, Escondido, CA 92025</td> <td>Carne Asada         </td> <td>4.59</td>\n",
       "        </tr>\n",
       "        <tr>\n",
       "            <td>Burrito Box                                        </td> <td>Steak with guacamole</td> <td>11.5</td>\n",
       "        </tr>\n",
       "        <tr>\n",
       "            <td>Burrito Factory                                    </td> <td>Steak everything    </td> <td>7.35</td>\n",
       "        </tr>\n",
       "    </tbody>\n",
       "</table>\n",
       "<p>... (244 rows omitted)</p>"
      ],
      "text/plain": [
       "<IPython.core.display.HTML object>"
      ]
     },
     "metadata": {},
     "output_type": "display_data"
    }
   ],
   "source": [
    "#Just run this cell\n",
    "ratings = Table.read_table(\"ratings.csv\")\n",
    "ratings.show(5)\n",
    "burritos_types = Table.read_table(\"burritos_types.csv\")\n",
    "burritos_types.show(5)"
   ]
  },
  {
   "cell_type": "markdown",
   "metadata": {
    "deletable": false,
    "editable": false
   },
   "source": [
    "**Question 1.** It would be easier if we could combine the information in both tables. Assign `burritos` to the result of joining the two tables together.\n",
    "\n",
    "*Hint: If you need refreshers on table methods, look at the [python reference](http://datasci.pythonanywhere.com/pythonreference).*\n",
    "\n",
    "<!--\n",
    "BEGIN QUESTION\n",
    "name: q1_1\n",
    "-->"
   ]
  },
  {
   "cell_type": "code",
   "execution_count": 4,
   "metadata": {
    "scrolled": true
   },
   "outputs": [
    {
     "data": {
      "text/html": [
       "<table border=\"1\" class=\"dataframe\">\n",
       "    <thead>\n",
       "        <tr>\n",
       "            <th>Name</th> <th>Yelp</th> <th>Google</th> <th>Overall</th> <th>Menu_Item</th> <th>Cost</th>\n",
       "        </tr>\n",
       "    </thead>\n",
       "    <tbody>\n",
       "        <tr>\n",
       "            <td>Albertacos      </td> <td>3.5 </td> <td>3.9   </td> <td>3.45   </td> <td>California       </td> <td>5.7 </td>\n",
       "        </tr>\n",
       "        <tr>\n",
       "            <td>Albertacos      </td> <td>3.5 </td> <td>3.9   </td> <td>3.45   </td> <td>Carne asada      </td> <td>5.25</td>\n",
       "        </tr>\n",
       "        <tr>\n",
       "            <td>Burrito Factory </td> <td>4.5 </td> <td>4.8   </td> <td>3.5    </td> <td>Steak everything </td> <td>7.35</td>\n",
       "        </tr>\n",
       "        <tr>\n",
       "            <td>Burros and Fries</td> <td>3.5 </td> <td>4.1   </td> <td>3.575  </td> <td>California       </td> <td>7.19</td>\n",
       "        </tr>\n",
       "        <tr>\n",
       "            <td>Burros and Fries</td> <td>3.5 </td> <td>4.1   </td> <td>3.575  </td> <td>Carne asada      </td> <td>6.89</td>\n",
       "        </tr>\n",
       "    </tbody>\n",
       "</table>\n",
       "<p>... (207 rows omitted)</p>"
      ],
      "text/plain": [
       "<IPython.core.display.HTML object>"
      ]
     },
     "metadata": {},
     "output_type": "display_data"
    }
   ],
   "source": [
    "burritos = ratings.join('Name',burritos_types)\n",
    "burritos.show(5)"
   ]
  },
  {
   "cell_type": "markdown",
   "metadata": {
    "deletable": false,
    "editable": false
   },
   "source": [
    "**Question 2.** Let's look at how the Yelp scores compare to the Google scores in the `burritos` table. First, assign `yelp_and_google` to a table only containing the columns `Yelp` and `Google`. Then, make a scatter plot with Yelp scores on the x-axis and the Google scores on the y-axis. \n",
    "\n",
    "<!--\n",
    "BEGIN QUESTION\n",
    "name: q1_2\n",
    "manual: True\n",
    "-->\n",
    "<!-- EXPORT TO PDF -->"
   ]
  },
  {
   "cell_type": "code",
   "execution_count": 9,
   "metadata": {
    "export_pdf": true
   },
   "outputs": [
    {
     "data": {
      "image/png": "[encoded data removed]",
      "text/plain": [
       "<Figure size 360x360 with 1 Axes>"
      ]
     },
     "metadata": {},
     "output_type": "display_data"
    }
   ],
   "source": [
    "yelp_and_google = burritos.select('Yelp', 'Google')\n",
    "yelp_and_google.scatter('Yelp','Google')\n",
    "# Don't change/edit/remove the following line.\n",
    "# To help you make conclusions, we have plotted a straight line on the graph (y=x)\n",
    "plt.plot(np.arange(2.5,5,.5), np.arange(2.5,5,.5));"
   ]
  },
  {
   "cell_type": "markdown",
   "metadata": {
    "deletable": false,
    "editable": false
   },
   "source": [
    "**Question 3.** Looking at the scatter plot you just made in Question 1.2, do you notice any pattern(s) (i.e. is one of the two types of scores consistently higher than the other one)? If so, describe them **briefly** in the cell below.\n",
    "\n",
    "<!--\n",
    "BEGIN QUESTION\n",
    "name: q1_3\n",
    "manual: True\n",
    "-->\n",
    "<!-- EXPORT TO PDF -->"
   ]
  },
  {
   "cell_type": "markdown",
   "metadata": {
    "export_pdf": true
   },
   "source": [
    "*Write your answer here, replacing this text.*"
   ]
  },
  {
   "cell_type": "markdown",
   "metadata": {},
   "source": [
    "Here's a refresher on how `.group` works! You can read how `.group` works in the [textbook](https://ipydatabook.github.io//chapters/08/2/Classifying_by_One_Variable.html), or you can view the video below. The video resource was made by a past staff member - Divyesh Chotai!"
   ]
  },
  {
   "cell_type": "code",
   "execution_count": null,
   "metadata": {},
   "outputs": [],
   "source": [
    "from IPython.display import YouTubeVideo\n",
    "YouTubeVideo(\"HLoYTCUP0fc\")"
   ]
  },
  {
   "cell_type": "markdown",
   "metadata": {
    "deletable": false,
    "editable": false
   },
   "source": [
    "**Question 4.** From the `burritos` table, some of the restaurant locations have multiple reviews. Winifred thinks California burritos are the best type of burritos, and wants to see the average overall rating for California burritos at each location. Create a table that has two columns: the name of the restaurant and the average overall rating of California burritos at each location.\n",
    "\n",
    "*Tip: Revisit the burritos table to see how California burritos are represented.*\n",
    "\n",
    "*Note: you can break up the solution into multiple lines, as long as you assign the final output table to `california_burritos`! For reference however, the staff solution only used one line.*\n",
    "\n",
    "<!--\n",
    "BEGIN QUESTION\n",
    "name: q1_4\n",
    "-->"
   ]
  },
  {
   "cell_type": "code",
   "execution_count": 24,
   "metadata": {},
   "outputs": [
    {
     "data": {
      "text/html": [
       "<table border=\"1\" class=\"dataframe\">\n",
       "    <thead>\n",
       "        <tr>\n",
       "            <th>Name</th> <th>Overall average</th>\n",
       "        </tr>\n",
       "    </thead>\n",
       "    <tbody>\n",
       "        <tr>\n",
       "            <td>Albertacos                </td> <td>3.45           </td>\n",
       "        </tr>\n",
       "        <tr>\n",
       "            <td>Burrito Factory           </td> <td>3.5            </td>\n",
       "        </tr>\n",
       "        <tr>\n",
       "            <td>Burros and Fries          </td> <td>3.575          </td>\n",
       "        </tr>\n",
       "        <tr>\n",
       "            <td>Caliente Mexican Food     </td> <td>3.25           </td>\n",
       "        </tr>\n",
       "        <tr>\n",
       "            <td>California Burrito Company</td> <td>3.2            </td>\n",
       "        </tr>\n",
       "        <tr>\n",
       "            <td>California Burritos       </td> <td>4.1            </td>\n",
       "        </tr>\n",
       "        <tr>\n",
       "            <td>Cancun Mexican & Seafood  </td> <td>4.1            </td>\n",
       "        </tr>\n",
       "        <tr>\n",
       "            <td>Carmen's Mexican Food     </td> <td>3.8            </td>\n",
       "        </tr>\n",
       "        <tr>\n",
       "            <td>Chipotle                  </td> <td>3.375          </td>\n",
       "        </tr>\n",
       "        <tr>\n",
       "            <td>Colima's Mexican Food     </td> <td>3.66667        </td>\n",
       "        </tr>\n",
       "    </tbody>\n",
       "</table>\n",
       "<p>... (65 rows omitted)</p>"
      ],
      "text/plain": [
       "Name                       | Overall average\n",
       "Albertacos                 | 3.45\n",
       "Burrito Factory            | 3.5\n",
       "Burros and Fries           | 3.575\n",
       "Caliente Mexican Food      | 3.25\n",
       "California Burrito Company | 3.2\n",
       "California Burritos        | 4.1\n",
       "Cancun Mexican & Seafood   | 4.1\n",
       "Carmen's Mexican Food      | 3.8\n",
       "Chipotle                   | 3.375\n",
       "Colima's Mexican Food      | 3.66667\n",
       "... (65 rows omitted)"
      ]
     },
     "execution_count": 24,
     "metadata": {},
     "output_type": "execute_result"
    }
   ],
   "source": [
    "california_burritos = burritos.group('Name',np.average).select('Name','Overall average')\n",
    "california_burritos"
   ]
  },
  {
   "cell_type": "markdown",
   "metadata": {
    "deletable": false,
    "editable": false
   },
   "source": [
    "**Question 5.** Given this new table `california_burritos`, Winifred can figure out the name of the restaurant with the highest overall average rating! Assign `best_restaurant` to a line of code that evaluates to a string that corresponds to the name of the restaurant with the highest overall average rating. \n",
    "\n",
    "<!--\n",
    "BEGIN QUESTION\n",
    "name: q1_5\n",
    "-->"
   ]
  },
  {
   "cell_type": "code",
   "execution_count": 28,
   "metadata": {},
   "outputs": [
    {
     "data": {
      "text/plain": [
       "'Mikes Taco Club'"
      ]
     },
     "execution_count": 28,
     "metadata": {},
     "output_type": "execute_result"
    }
   ],
   "source": [
    "best_restaurant = california_burritos.sort('Overall average', descending = True).column('Name')[0]\n",
    "best_restaurant"
   ]
  },
  {
   "cell_type": "markdown",
   "metadata": {
    "deletable": false,
    "editable": false
   },
   "source": [
    "**Question 6.** Using the `burritos` table, assign `menu_average` to a table that has three columns that uniquely pairs the name of the restaurant, the menu item featured in the review, and the average Overall score for that menu item at that restaurant.\n",
    "\n",
    "*Hint: Use .group, and remember that you can group by multiple columns. Here's an example from the [textbook](https://www.inferentialthinking.com/chapters/08/3/Cross-Classifying_by_More_than_One_Variable.html)*.\n",
    "\n",
    "<!--\n",
    "BEGIN QUESTION\n",
    "name: q1_6\n",
    "-->"
   ]
  },
  {
   "cell_type": "code",
   "execution_count": 34,
   "metadata": {},
   "outputs": [
    {
     "data": {
      "text/html": [
       "<table border=\"1\" class=\"dataframe\">\n",
       "    <thead>\n",
       "        <tr>\n",
       "            <th>Name</th> <th>Menu_Item</th> <th>Overall average</th>\n",
       "        </tr>\n",
       "    </thead>\n",
       "    <tbody>\n",
       "        <tr>\n",
       "            <td>Albertacos                </td> <td>California       </td> <td>3.45           </td>\n",
       "        </tr>\n",
       "        <tr>\n",
       "            <td>Albertacos                </td> <td>Carne asada      </td> <td>3.45           </td>\n",
       "        </tr>\n",
       "        <tr>\n",
       "            <td>Burrito Factory           </td> <td>Steak everything </td> <td>3.5            </td>\n",
       "        </tr>\n",
       "        <tr>\n",
       "            <td>Burros and Fries          </td> <td>California       </td> <td>3.575          </td>\n",
       "        </tr>\n",
       "        <tr>\n",
       "            <td>Burros and Fries          </td> <td>Carne asada      </td> <td>3.575          </td>\n",
       "        </tr>\n",
       "        <tr>\n",
       "            <td>Burros and Fries          </td> <td>Shrimp california</td> <td>3.575          </td>\n",
       "        </tr>\n",
       "        <tr>\n",
       "            <td>Caliente Mexican Food     </td> <td>California       </td> <td>3.25           </td>\n",
       "        </tr>\n",
       "        <tr>\n",
       "            <td>Caliente Mexican Food     </td> <td>carne asada      </td> <td>3.25           </td>\n",
       "        </tr>\n",
       "        <tr>\n",
       "            <td>Caliente Mexican Food     </td> <td>fried fish       </td> <td>3.25           </td>\n",
       "        </tr>\n",
       "        <tr>\n",
       "            <td>California Burrito Company</td> <td>California       </td> <td>3.2            </td>\n",
       "        </tr>\n",
       "    </tbody>\n",
       "</table>\n",
       "<p>... (196 rows omitted)</p>"
      ],
      "text/plain": [
       "Name                       | Menu_Item         | Overall average\n",
       "Albertacos                 | California        | 3.45\n",
       "Albertacos                 | Carne asada       | 3.45\n",
       "Burrito Factory            | Steak everything  | 3.5\n",
       "Burros and Fries           | California        | 3.575\n",
       "Burros and Fries           | Carne asada       | 3.575\n",
       "Burros and Fries           | Shrimp california | 3.575\n",
       "Caliente Mexican Food      | California        | 3.25\n",
       "Caliente Mexican Food      | carne asada       | 3.25\n",
       "Caliente Mexican Food      | fried fish        | 3.25\n",
       "California Burrito Company | California        | 3.2\n",
       "... (196 rows omitted)"
      ]
     },
     "execution_count": 34,
     "metadata": {},
     "output_type": "execute_result"
    }
   ],
   "source": [
    "menu_average = burritos.group(['Name','Menu_Item'],np.average).select('Name','Menu_Item','Overall average')\n",
    "menu_average"
   ]
  },
  {
   "cell_type": "markdown",
   "metadata": {
    "deletable": false,
    "editable": false
   },
   "source": [
    "**Question 7.** Tam thinks that burritos in San Diego are cheaper (and taste better) than the burritos in Berkeley. Plot a histogram that visualizes that distribution of the costs of the burritos from San Diego in the `burritos` table. Also use the provided `bins` variable when making your histogram, so that visually the histogram is more informative.\n",
    "\n",
    "<!--\n",
    "BEGIN QUESTION\n",
    "name: q1_7\n",
    "manual: True\n",
    "-->\n",
    "<!-- EXPORT TO PDF -->"
   ]
  },
  {
   "cell_type": "raw",
   "metadata": {},
   "source": []
  },
  {
   "cell_type": "code",
   "execution_count": 35,
   "metadata": {
    "export_pdf": true
   },
   "outputs": [
    {
     "data": {
      "text/plain": [
       "Ellipsis"
      ]
     },
     "execution_count": 35,
     "metadata": {},
     "output_type": "execute_result"
    },
    {
     "data": {
      "image/png": "[encoded data removed]",
      "text/plain": [
       "<Figure size 432x288 with 1 Axes>"
      ]
     },
     "metadata": {},
     "output_type": "display_data"
    }
   ],
   "source": [
    "bins = np.arange(0, 15, 1)\n",
    "# Please also use the provided bins\n",
    "burritos.hist('Cost', bins = bins)\n"
   ]
  },
  {
   "cell_type": "markdown",
   "metadata": {},
   "source": [
    "## 2. Faculty salaries\n"
   ]
  },
  {
   "cell_type": "markdown",
   "metadata": {},
   "source": [
    "This exercise is designed to give you practice using the Table methods `pivot` and `group`. [Here](http://datasci.pythonanywhere.com/pythonreference/) is a link to the Python reference page in case you need a quick refresher.\n",
    "\n",
    "Run the cell below to view a demo on how you can use pivot on a table. (Thank you to past staff Divyesh Chotai)"
   ]
  },
  {
   "cell_type": "code",
   "execution_count": 36,
   "metadata": {},
   "outputs": [
    {
     "data": {
      "image/jpeg": "[encoded data removed]",
      "text/html": [
       "\n",
       "        <iframe\n",
       "            width=\"400\"\n",
       "            height=\"300\"\n",
       "            src=\"https://www.youtube.com/embed/4WzXo8eKLAg\"\n",
       "            frameborder=\"0\"\n",
       "            allowfullscreen\n",
       "        ></iframe>\n",
       "        "
      ],
      "text/plain": [
       "<IPython.lib.display.YouTubeVideo at 0x7fb839e1e3a0>"
      ]
     },
     "execution_count": 36,
     "metadata": {},
     "output_type": "execute_result"
    }
   ],
   "source": [
    "from IPython.display import YouTubeVideo\n",
    "YouTubeVideo(\"4WzXo8eKLAg\")"
   ]
  },
  {
   "cell_type": "markdown",
   "metadata": {},
   "source": [
    "In the next cell, we load a dataset created by the [Daily Cal](http://projects.dailycal.org/paychecker/) which contains Berkeley faculty, their departments, their positions, and their gross salaries in 2015."
   ]
  },
  {
   "cell_type": "code",
   "execution_count": 37,
   "metadata": {},
   "outputs": [
    {
     "data": {
      "text/html": [
       "<table border=\"1\" class=\"dataframe\">\n",
       "    <thead>\n",
       "        <tr>\n",
       "            <th>name</th> <th>department</th> <th>position</th> <th>gross_salary</th>\n",
       "        </tr>\n",
       "    </thead>\n",
       "    <tbody>\n",
       "        <tr>\n",
       "            <td>CYNTHIA ABAN   </td> <td>South & Southeast Asian Studies</td> <td>lecturer           </td> <td>64450       </td>\n",
       "        </tr>\n",
       "        <tr>\n",
       "            <td>PIETER ABBEEL  </td> <td>Computer Science               </td> <td>associate professor</td> <td>184998      </td>\n",
       "        </tr>\n",
       "        <tr>\n",
       "            <td>SALLY ABEL     </td> <td>Law                            </td> <td>lecturer           </td> <td>3466        </td>\n",
       "        </tr>\n",
       "        <tr>\n",
       "            <td>ELIZABETH ABEL </td> <td>English                        </td> <td>professor          </td> <td>138775      </td>\n",
       "        </tr>\n",
       "        <tr>\n",
       "            <td>DOR ABRAHAMSON </td> <td>Education                      </td> <td>associate professor</td> <td>100300      </td>\n",
       "        </tr>\n",
       "        <tr>\n",
       "            <td>KATHRYN ABRAMS </td> <td>Law                            </td> <td>professor          </td> <td>319693      </td>\n",
       "        </tr>\n",
       "        <tr>\n",
       "            <td>BARBARA ABRAMS </td> <td>Public Health                  </td> <td>professor          </td> <td>191162      </td>\n",
       "        </tr>\n",
       "        <tr>\n",
       "            <td>SARAH ACCOMAZZO</td> <td>Social Welfare                 </td> <td>lecturer           </td> <td>14779       </td>\n",
       "        </tr>\n",
       "        <tr>\n",
       "            <td>CHARISMA ACEY  </td> <td>City and Regional Planning     </td> <td>assistant professor</td> <td>101567      </td>\n",
       "        </tr>\n",
       "        <tr>\n",
       "            <td>DAVID ACKERLY  </td> <td>Biology                        </td> <td>professor          </td> <td>182288      </td>\n",
       "        </tr>\n",
       "    </tbody>\n",
       "</table>\n",
       "<p>... (2049 rows omitted)</p>"
      ],
      "text/plain": [
       "name            | department                      | position            | gross_salary\n",
       "CYNTHIA ABAN    | South & Southeast Asian Studies | lecturer            | 64450\n",
       "PIETER ABBEEL   | Computer Science                | associate professor | 184998\n",
       "SALLY ABEL      | Law                             | lecturer            | 3466\n",
       "ELIZABETH ABEL  | English                         | professor           | 138775\n",
       "DOR ABRAHAMSON  | Education                       | associate professor | 100300\n",
       "KATHRYN ABRAMS  | Law                             | professor           | 319693\n",
       "BARBARA ABRAMS  | Public Health                   | professor           | 191162\n",
       "SARAH ACCOMAZZO | Social Welfare                  | lecturer            | 14779\n",
       "CHARISMA ACEY   | City and Regional Planning      | assistant professor | 101567\n",
       "DAVID ACKERLY   | Biology                         | professor           | 182288\n",
       "... (2049 rows omitted)"
      ]
     },
     "execution_count": 37,
     "metadata": {},
     "output_type": "execute_result"
    }
   ],
   "source": [
    "raw_profs = Table.read_table(\"faculty.csv\").where(\"year\", are.equal_to(2015)).drop(\"year\", \"title\")\n",
    "profs = raw_profs.relabeled(\"title_category\", \"position\")\n",
    "profs"
   ]
  },
  {
   "cell_type": "markdown",
   "metadata": {},
   "source": [
    "We want to use this table to generate arrays with the names of each professor in each department."
   ]
  },
  {
   "cell_type": "markdown",
   "metadata": {
    "deletable": false,
    "editable": false
   },
   "source": [
    "**Question 1.** Set `prof_names` to a table with two columns. The first column should be called `department` and have the name of every department once, and the second column should be called `faculty` with each row in that second column containing an *array* of the names of all faculty members in that department. \n",
    "\n",
    "*Hint:* Think about how ```group``` works: it collects values into an array and then applies a function to that array. We have defined two functions below for you, and you will need to use one of them in your call to ```group```.\n",
    "\n",
    "<!--\n",
    "BEGIN QUESTION\n",
    "name: q2_1\n",
    "-->"
   ]
  },
  {
   "cell_type": "code",
   "execution_count": 41,
   "metadata": {},
   "outputs": [
    {
     "data": {
      "text/html": [
       "<table border=\"1\" class=\"dataframe\">\n",
       "    <thead>\n",
       "        <tr>\n",
       "            <th>department</th> <th>name identity</th>\n",
       "        </tr>\n",
       "    </thead>\n",
       "    <tbody>\n",
       "        <tr>\n",
       "            <td>African American Studies                      </td> <td>['AYA DE LEON' 'CHIYUMA ELLIOTT' 'NIKKI JONES' 'DAVID KY ...</td>\n",
       "        </tr>\n",
       "        <tr>\n",
       "            <td>Agricultural and Resource Economics and Policy</td> <td>['MAXIMILIAN AUFFHAMMER' 'CHARLES GIBBONS' 'JEFFREY PERL ...</td>\n",
       "        </tr>\n",
       "        <tr>\n",
       "            <td>Anthroplogy                                   </td> <td>['SABRINA AGARWAL' 'STANLEY BRANDES' 'CHARLES BRIGGS'\n",
       " ' ...</td>\n",
       "        </tr>\n",
       "        <tr>\n",
       "            <td>Architecture                                  </td> <td>['MARK ANDERSON' 'JACOB ATHERTON' 'WILLIAM ATWOOD' 'R.GA ...</td>\n",
       "        </tr>\n",
       "        <tr>\n",
       "            <td>Art History                                   </td> <td>['DILIANA ANGELOVA' 'PATRICIA BERGER' 'JULIA BRYAN-WILSO ...</td>\n",
       "        </tr>\n",
       "        <tr>\n",
       "            <td>Art Practice                                  </td> <td>['ALLAN DESOUZA' 'AIDA GAMEZ' 'RANDY HUSSONG' 'JENNIFER  ...</td>\n",
       "        </tr>\n",
       "        <tr>\n",
       "            <td>Astronomy                                     </td> <td>['GIBOR BASRI' 'STEVEN BECKWITH' 'LEO BLITZ' 'EUGENE CHI ...</td>\n",
       "        </tr>\n",
       "        <tr>\n",
       "            <td>Bioengineering                                </td> <td>['ADAM ARKIN' 'IRINA CONBOY' 'STEVEN CONOLLY' 'JOHN DUEB ...</td>\n",
       "        </tr>\n",
       "        <tr>\n",
       "            <td>Biology                                       </td> <td>['DAVID ACKERLY' 'HILLEL ADESNIK' 'KELLY AGNEW' 'DORIS B ...</td>\n",
       "        </tr>\n",
       "        <tr>\n",
       "            <td>Buddhist Studies                              </td> <td>['JANN RONIS']                                              </td>\n",
       "        </tr>\n",
       "    </tbody>\n",
       "</table>\n",
       "<p>... (61 rows omitted)</p>"
      ],
      "text/plain": [
       "department                                     | name identity\n",
       "African American Studies                       | ['AYA DE LEON' 'CHIYUMA ELLIOTT' 'NIKKI JONES' 'DAVID KY ...\n",
       "Agricultural and Resource Economics and Policy | ['MAXIMILIAN AUFFHAMMER' 'CHARLES GIBBONS' 'JEFFREY PERL ...\n",
       "Anthroplogy                                    | ['SABRINA AGARWAL' 'STANLEY BRANDES' 'CHARLES BRIGGS'\n",
       " ' ...\n",
       "Architecture                                   | ['MARK ANDERSON' 'JACOB ATHERTON' 'WILLIAM ATWOOD' 'R.GA ...\n",
       "Art History                                    | ['DILIANA ANGELOVA' 'PATRICIA BERGER' 'JULIA BRYAN-WILSO ...\n",
       "Art Practice                                   | ['ALLAN DESOUZA' 'AIDA GAMEZ' 'RANDY HUSSONG' 'JENNIFER  ...\n",
       "Astronomy                                      | ['GIBOR BASRI' 'STEVEN BECKWITH' 'LEO BLITZ' 'EUGENE CHI ...\n",
       "Bioengineering                                 | ['ADAM ARKIN' 'IRINA CONBOY' 'STEVEN CONOLLY' 'JOHN DUEB ...\n",
       "Biology                                        | ['DAVID ACKERLY' 'HILLEL ADESNIK' 'KELLY AGNEW' 'DORIS B ...\n",
       "Buddhist Studies                               | ['JANN RONIS']\n",
       "... (61 rows omitted)"
      ]
     },
     "execution_count": 41,
     "metadata": {},
     "output_type": "execute_result"
    }
   ],
   "source": [
    "# Pick one of the two functions defined below in your call to group.\n",
    "def identity(array):\n",
    "    '''Returns the array that is passed through'''\n",
    "    return array \n",
    "\n",
    "def first(array):\n",
    "    '''Returns the first item'''\n",
    "    return array.item(0)\n",
    "\n",
    "# Make a call to group using one of the functions above when you define prof_names\n",
    "prof_names = profs.select('department','name').group('department',identity)\n",
    "prof_names"
   ]
  },
  {
   "cell_type": "markdown",
   "metadata": {},
   "source": [
    "#### Understanding the code you just wrote in 2.1 is important for moving forward with the class! If you made a lucky guess, take some time to look at the code, step by step."
   ]
  },
  {
   "cell_type": "markdown",
   "metadata": {
    "deletable": false,
    "editable": false
   },
   "source": [
    "**Question 2.** At the moment, the ```name``` column of the `profs` table is sorted by last name. Would the arrays you generated in the `faculty` column of the previous part be the same if we had sorted by first name instead before generating them? Two arrays are the **same** if they contain the same number of elements and the elements located at corresponding indexes in the two arrays are identical. An example of arrays that are NOT the same: `array([1,2]) != array([2,1])`. Explain your answer.  \n",
    "\n",
    "<!--\n",
    "BEGIN QUESTION\n",
    "name: q2_2\n",
    "manual: true\n",
    "-->\n",
    "<!-- EXPORT TO PDF -->"
   ]
  },
  {
   "cell_type": "markdown",
   "metadata": {
    "export_pdf": true,
    "manual_problem_id": "faculty_1"
   },
   "source": [
    "*Write your answer here, replacing this text.*"
   ]
  },
  {
   "cell_type": "markdown",
   "metadata": {
    "deletable": false,
    "editable": false
   },
   "source": [
    "**Question 3.** Set `department_ranges` to a table containing departments as the rows, and the position as the columns. The values in the rows should correspond to a salary range, where range is defined as the **difference between the highest salary and the lowest salary in the department for that position**. \n",
    "\n",
    "*Hint:* First you'll need to define a new function `salary_range` which takes in an array of salaries and returns the range of salaries in that array. \n",
    "\n",
    "<!--\n",
    "BEGIN QUESTION\n",
    "name: q2_3\n",
    "manual: false\n",
    "-->"
   ]
  },
  {
   "cell_type": "code",
   "execution_count": 55,
   "metadata": {},
   "outputs": [
    {
     "data": {
      "text/html": [
       "<table border=\"1\" class=\"dataframe\">\n",
       "    <thead>\n",
       "        <tr>\n",
       "            <th>position</th> <th>African American Studies</th> <th>Agricultural and Resource Economics and Policy</th> <th>Anthroplogy</th> <th>Architecture</th> <th>Art History</th> <th>Art Practice</th> <th>Astronomy</th> <th>Bioengineering</th> <th>Biology</th> <th>Buddhist Studies</th> <th>Business</th> <th>Chemical Engineering</th> <th>Chemistry</th> <th>City and Regional Planning</th> <th>Civil and Environmental Engineering</th> <th>Classics</th> <th>College Writing</th> <th>Comparative Literature</th> <th>Computer Science</th> <th>Demography</th> <th>Earth and Planetary Science</th> <th>East Asian Languages and Culture</th> <th>East Asian Studies</th> <th>Economics</th> <th>Education</th> <th>Electrical Engineering</th> <th>Electrical Engineering and Computer Science</th> <th>Energy and Resources Engineering</th> <th>English</th> <th>Environmental Design</th> <th>Environmental Science, Policy and Management</th> <th>Ethnic Studies</th> <th>Film and Media</th> <th>French</th> <th>Gender and Women's Studies</th> <th>Geography</th> <th>German</th> <th>History</th> <th>Industrial Engineering & Operations Research</th> <th>Information</th> <th>Interdisciplinary Studies</th> <th>International and Area Studies</th> <th>Italian</th> <th>Journalism</th> <th>Landscape Architecture & Environmental Planning</th> <th>Law</th> <th>Linguistics</th> <th>Material Science and Engineering</th> <th>Mathematics</th> <th>Mechanical Engineering</th> <th>Middle Eastern Studies</th> <th>Music</th> <th>Near Eastern Studies</th> <th>Nuclear Engineering</th> <th>Nutritional science</th> <th>Optometry</th> <th>Philosophy</th> <th>Physics</th> <th>Political Science</th> <th>Psychology</th> <th>Public Health</th> <th>Public Policy</th> <th>Rhetoric</th> <th>Scandinavian Languages</th> <th>Slavic Languages and Literature</th> <th>Social Welfare</th> <th>Sociology</th> <th>South & Southeast Asian Studies</th> <th>Spanish and Portuguese</th> <th>Statistics</th> <th>Theater, Dance and Performance Studies</th>\n",
       "        </tr>\n",
       "    </thead>\n",
       "    <tbody>\n",
       "        <tr>\n",
       "            <td>assistant professor</td> <td>128828                  </td> <td>0                                             </td> <td>11193      </td> <td>47675       </td> <td>57288      </td> <td>0           </td> <td>0        </td> <td>5513          </td> <td>209667 </td> <td>0               </td> <td>217211  </td> <td>50004               </td> <td>171193   </td> <td>6433                      </td> <td>88702                              </td> <td>0       </td> <td>0              </td> <td>0                     </td> <td>150924          </td> <td>0         </td> <td>26181                      </td> <td>45517                           </td> <td>0                 </td> <td>174568   </td> <td>74228    </td> <td>24445                 </td> <td>0                                          </td> <td>79175                           </td> <td>107475 </td> <td>0                   </td> <td>0                                           </td> <td>107327        </td> <td>48050         </td> <td>0     </td> <td>0                         </td> <td>0        </td> <td>0     </td> <td>100035 </td> <td>67968                                       </td> <td>0          </td> <td>0                        </td> <td>0                             </td> <td>0      </td> <td>0         </td> <td>3702                                           </td> <td>0     </td> <td>98519      </td> <td>77030                           </td> <td>64657      </td> <td>81168                 </td> <td>0                     </td> <td>0     </td> <td>18766               </td> <td>16357              </td> <td>0                  </td> <td>0        </td> <td>3822      </td> <td>114303 </td> <td>69015            </td> <td>10467     </td> <td>75303        </td> <td>167195       </td> <td>58735   </td> <td>44325                 </td> <td>0                              </td> <td>17576         </td> <td>6941     </td> <td>8809                           </td> <td>19509                 </td> <td>20474     </td> <td>0                                     </td>\n",
       "        </tr>\n",
       "        <tr>\n",
       "            <td>associate professor</td> <td>48814                   </td> <td>0                                             </td> <td>103271     </td> <td>103204      </td> <td>27439      </td> <td>26632       </td> <td>0        </td> <td>2794          </td> <td>113341 </td> <td>0               </td> <td>258216  </td> <td>0                   </td> <td>0        </td> <td>30339                     </td> <td>33286                              </td> <td>38342   </td> <td>0              </td> <td>57587                 </td> <td>56559           </td> <td>0         </td> <td>4798                       </td> <td>61196                           </td> <td>0                 </td> <td>150638   </td> <td>50667    </td> <td>47038                 </td> <td>0                                          </td> <td>0                               </td> <td>103961 </td> <td>0                   </td> <td>3530                                        </td> <td>41395         </td> <td>0             </td> <td>14484 </td> <td>12986                     </td> <td>61472    </td> <td>36237 </td> <td>104938 </td> <td>0                                           </td> <td>145575     </td> <td>0                        </td> <td>0                             </td> <td>61938  </td> <td>0         </td> <td>41677                                          </td> <td>0     </td> <td>13503      </td> <td>9375                            </td> <td>131178     </td> <td>38530                 </td> <td>0                     </td> <td>28961 </td> <td>28547               </td> <td>0                  </td> <td>0                  </td> <td>0        </td> <td>105406    </td> <td>65915  </td> <td>208134           </td> <td>34193     </td> <td>81951        </td> <td>196868       </td> <td>21414   </td> <td>0                     </td> <td>43048                          </td> <td>0             </td> <td>156579   </td> <td>36660                          </td> <td>47112                 </td> <td>54273     </td> <td>28684                                 </td>\n",
       "        </tr>\n",
       "        <tr>\n",
       "            <td>lecturer           </td> <td>83309                   </td> <td>0                                             </td> <td>11131      </td> <td>72977       </td> <td>31861      </td> <td>93923       </td> <td>0        </td> <td>69008         </td> <td>137087 </td> <td>0               </td> <td>272915  </td> <td>73642               </td> <td>176480   </td> <td>21742                     </td> <td>6969                               </td> <td>0       </td> <td>100307         </td> <td>53038                 </td> <td>161405          </td> <td>0         </td> <td>0                          </td> <td>98297                           </td> <td>0                 </td> <td>73535    </td> <td>73010    </td> <td>0                     </td> <td>0                                          </td> <td>0                               </td> <td>98513  </td> <td>34000               </td> <td>40851                                       </td> <td>66356         </td> <td>0             </td> <td>111904</td> <td>36047                     </td> <td>0        </td> <td>62628 </td> <td>38692  </td> <td>61672                                       </td> <td>41282      </td> <td>123626                   </td> <td>105824                        </td> <td>52587  </td> <td>135071    </td> <td>30046                                          </td> <td>126765</td> <td>0          </td> <td>0                               </td> <td>28354      </td> <td>83508                 </td> <td>0                     </td> <td>81758 </td> <td>89599               </td> <td>0                  </td> <td>40747              </td> <td>0        </td> <td>49198     </td> <td>43465  </td> <td>93836            </td> <td>0         </td> <td>62848        </td> <td>72624        </td> <td>98407   </td> <td>68714                 </td> <td>79142                          </td> <td>48821         </td> <td>73611    </td> <td>97726                          </td> <td>76168                 </td> <td>90973     </td> <td>58571                                 </td>\n",
       "        </tr>\n",
       "        <tr>\n",
       "            <td>professor          </td> <td>0                       </td> <td>29650                                         </td> <td>166527     </td> <td>167892      </td> <td>100894     </td> <td>0           </td> <td>138346   </td> <td>134739        </td> <td>288554 </td> <td>0               </td> <td>346587  </td> <td>135781              </td> <td>327896   </td> <td>156928                    </td> <td>168074                             </td> <td>68436   </td> <td>0              </td> <td>171513                </td> <td>339684          </td> <td>0         </td> <td>259211                     </td> <td>117941                          </td> <td>0                 </td> <td>438064   </td> <td>204794   </td> <td>191716                </td> <td>68694                                      </td> <td>44422                           </td> <td>199986 </td> <td>0                   </td> <td>54730                                       </td> <td>97916         </td> <td>137258        </td> <td>127249</td> <td>72596                     </td> <td>161638   </td> <td>112958</td> <td>234990 </td> <td>153467                                      </td> <td>85059      </td> <td>0                        </td> <td>0                             </td> <td>40600  </td> <td>126281    </td> <td>34659                                          </td> <td>417007</td> <td>111188     </td> <td>259472                          </td> <td>220708     </td> <td>304893                </td> <td>0                     </td> <td>177649</td> <td>83842               </td> <td>64608              </td> <td>190403             </td> <td>151186   </td> <td>167356    </td> <td>408149 </td> <td>330712           </td> <td>276741    </td> <td>451029       </td> <td>183736       </td> <td>57406   </td> <td>62504                 </td> <td>54653                          </td> <td>139993        </td> <td>255159   </td> <td>58317                          </td> <td>168275                </td> <td>254566    </td> <td>118698                                </td>\n",
       "        </tr>\n",
       "    </tbody>\n",
       "</table>"
      ],
      "text/plain": [
       "position            | African American Studies | Agricultural and Resource Economics and Policy | Anthroplogy | Architecture | Art History | Art Practice | Astronomy | Bioengineering | Biology | Buddhist Studies | Business | Chemical Engineering | Chemistry | City and Regional Planning | Civil and Environmental Engineering | Classics | College Writing | Comparative Literature | Computer Science | Demography | Earth and Planetary Science | East Asian Languages and Culture | East Asian Studies | Economics | Education | Electrical Engineering | Electrical Engineering and Computer Science | Energy and Resources Engineering | English | Environmental Design | Environmental Science, Policy and Management | Ethnic Studies | Film and Media | French | Gender and Women's Studies | Geography | German | History | Industrial Engineering & Operations Research | Information | Interdisciplinary Studies | International and Area Studies | Italian | Journalism | Landscape Architecture & Environmental Planning | Law    | Linguistics | Material Science and Engineering | Mathematics | Mechanical Engineering | Middle Eastern Studies | Music  | Near Eastern Studies | Nuclear Engineering | Nutritional science | Optometry | Philosophy | Physics | Political Science | Psychology | Public Health | Public Policy | Rhetoric | Scandinavian Languages | Slavic Languages and Literature | Social Welfare | Sociology | South & Southeast Asian Studies | Spanish and Portuguese | Statistics | Theater, Dance and Performance Studies\n",
       "assistant professor | 128828                   | 0                                              | 11193       | 47675        | 57288       | 0            | 0         | 5513           | 209667  | 0                | 217211   | 50004                | 171193    | 6433                       | 88702                               | 0        | 0               | 0                      | 150924           | 0          | 26181                       | 45517                            | 0                  | 174568    | 74228     | 24445                  | 0                                           | 79175                            | 107475  | 0                    | 0                                            | 107327         | 48050          | 0      | 0                          | 0         | 0      | 100035  | 67968                                        | 0           | 0                         | 0                              | 0       | 0          | 3702                                            | 0      | 98519       | 77030                            | 64657       | 81168                  | 0                      | 0      | 18766                | 16357               | 0                   | 0         | 3822       | 114303  | 69015             | 10467      | 75303         | 167195        | 58735    | 44325                  | 0                               | 17576          | 6941      | 8809                            | 19509                  | 20474      | 0\n",
       "associate professor | 48814                    | 0                                              | 103271      | 103204       | 27439       | 26632        | 0         | 2794           | 113341  | 0                | 258216   | 0                    | 0         | 30339                      | 33286                               | 38342    | 0               | 57587                  | 56559            | 0          | 4798                        | 61196                            | 0                  | 150638    | 50667     | 47038                  | 0                                           | 0                                | 103961  | 0                    | 3530                                         | 41395          | 0              | 14484  | 12986                      | 61472     | 36237  | 104938  | 0                                            | 145575      | 0                         | 0                              | 61938   | 0          | 41677                                           | 0      | 13503       | 9375                             | 131178      | 38530                  | 0                      | 28961  | 28547                | 0                   | 0                   | 0         | 105406     | 65915   | 208134            | 34193      | 81951         | 196868        | 21414    | 0                      | 43048                           | 0              | 156579    | 36660                           | 47112                  | 54273      | 28684\n",
       "lecturer            | 83309                    | 0                                              | 11131       | 72977        | 31861       | 93923        | 0         | 69008          | 137087  | 0                | 272915   | 73642                | 176480    | 21742                      | 6969                                | 0        | 100307          | 53038                  | 161405           | 0          | 0                           | 98297                            | 0                  | 73535     | 73010     | 0                      | 0                                           | 0                                | 98513   | 34000                | 40851                                        | 66356          | 0              | 111904 | 36047                      | 0         | 62628  | 38692   | 61672                                        | 41282       | 123626                    | 105824                         | 52587   | 135071     | 30046                                           | 126765 | 0           | 0                                | 28354       | 83508                  | 0                      | 81758  | 89599                | 0                   | 40747               | 0         | 49198      | 43465   | 93836             | 0          | 62848         | 72624         | 98407    | 68714                  | 79142                           | 48821          | 73611     | 97726                           | 76168                  | 90973      | 58571\n",
       "professor           | 0                        | 29650                                          | 166527      | 167892       | 100894      | 0            | 138346    | 134739         | 288554  | 0                | 346587   | 135781               | 327896    | 156928                     | 168074                              | 68436    | 0               | 171513                 | 339684           | 0          | 259211                      | 117941                           | 0                  | 438064    | 204794    | 191716                 | 68694                                       | 44422                            | 199986  | 0                    | 54730                                        | 97916          | 137258         | 127249 | 72596                      | 161638    | 112958 | 234990  | 153467                                       | 85059       | 0                         | 0                              | 40600   | 126281     | 34659                                           | 417007 | 111188      | 259472                           | 220708      | 304893                 | 0                      | 177649 | 83842                | 64608               | 190403              | 151186    | 167356     | 408149  | 330712            | 276741     | 451029        | 183736        | 57406    | 62504                  | 54653                           | 139993         | 255159    | 58317                           | 168275                 | 254566     | 118698"
      ]
     },
     "execution_count": 55,
     "metadata": {},
     "output_type": "execute_result"
    }
   ],
   "source": [
    "# Define salary_range first\n",
    "def salary_range(array):\n",
    "    '''Computes diff between max and min in array'''\n",
    "    diff = np.max(array) - np.min(array)\n",
    "    return diff\n",
    "\n",
    "department_ranges = profs.select('department', 'position', 'gross_salary').pivot('department','position', 'gross_salary', collect = salary_range)\n",
    "department_ranges"
   ]
  },
  {
   "cell_type": "markdown",
   "metadata": {
    "deletable": false,
    "editable": false
   },
   "source": [
    "**Question 4.** Give an explanation as to why some of the row values are `0` in the `department_ranges` table from the previous question.\n",
    "\n",
    "<!--\n",
    "BEGIN QUESTION\n",
    "name: q2_3\n",
    "manual: True\n",
    "-->\n",
    "<!-- EXPORT TO PDF -->"
   ]
  },
  {
   "cell_type": "markdown",
   "metadata": {
    "export_pdf": true
   },
   "source": [
    "*Write your answer here, replacing this text.*"
   ]
  },
  {
   "cell_type": "markdown",
   "metadata": {},
   "source": [
    "#### Which department gets paid the most?\n"
   ]
  },
  {
   "cell_type": "code",
   "execution_count": 66,
   "metadata": {},
   "outputs": [
    {
     "data": {
      "text/html": [
       "<table border=\"1\" class=\"dataframe\">\n",
       "    <thead>\n",
       "        <tr>\n",
       "            <th>department</th> <th>count</th>\n",
       "        </tr>\n",
       "    </thead>\n",
       "    <tbody>\n",
       "        <tr>\n",
       "            <td>Business     </td> <td>192  </td>\n",
       "        </tr>\n",
       "        <tr>\n",
       "            <td>Law          </td> <td>157  </td>\n",
       "        </tr>\n",
       "        <tr>\n",
       "            <td>Biology      </td> <td>110  </td>\n",
       "        </tr>\n",
       "        <tr>\n",
       "            <td>Public Health</td> <td>79   </td>\n",
       "        </tr>\n",
       "        <tr>\n",
       "            <td>History      </td> <td>57   </td>\n",
       "        </tr>\n",
       "        <tr>\n",
       "            <td>Physics      </td> <td>57   </td>\n",
       "        </tr>\n",
       "        <tr>\n",
       "            <td>English      </td> <td>56   </td>\n",
       "        </tr>\n",
       "        <tr>\n",
       "            <td>Mathematics  </td> <td>48   </td>\n",
       "        </tr>\n",
       "        <tr>\n",
       "            <td>Education    </td> <td>47   </td>\n",
       "        </tr>\n",
       "        <tr>\n",
       "            <td>Architecture </td> <td>46   </td>\n",
       "        </tr>\n",
       "    </tbody>\n",
       "</table>\n",
       "<p>... (61 rows omitted)</p>"
      ],
      "text/plain": [
       "<IPython.core.display.HTML object>"
      ]
     },
     "metadata": {},
     "output_type": "display_data"
    },
    {
     "data": {
      "text/html": [
       "<table border=\"1\" class=\"dataframe\">\n",
       "    <thead>\n",
       "        <tr>\n",
       "            <th>department</th> <th>gross_salary average</th>\n",
       "        </tr>\n",
       "    </thead>\n",
       "    <tbody>\n",
       "        <tr>\n",
       "            <td>Economics                                  </td> <td>230522              </td>\n",
       "        </tr>\n",
       "        <tr>\n",
       "            <td>Demography                                 </td> <td>223880              </td>\n",
       "        </tr>\n",
       "        <tr>\n",
       "            <td>Astronomy                                  </td> <td>197954              </td>\n",
       "        </tr>\n",
       "        <tr>\n",
       "            <td>Electrical Engineering and Computer Science</td> <td>193299              </td>\n",
       "        </tr>\n",
       "        <tr>\n",
       "            <td>Electrical Engineering                     </td> <td>187538              </td>\n",
       "        </tr>\n",
       "        <tr>\n",
       "            <td>Chemistry                                  </td> <td>187087              </td>\n",
       "        </tr>\n",
       "        <tr>\n",
       "            <td>Mathematics                                </td> <td>177789              </td>\n",
       "        </tr>\n",
       "        <tr>\n",
       "            <td>Bioengineering                             </td> <td>174390              </td>\n",
       "        </tr>\n",
       "        <tr>\n",
       "            <td>Optometry                                  </td> <td>170343              </td>\n",
       "        </tr>\n",
       "        <tr>\n",
       "            <td>Psychology                                 </td> <td>169876              </td>\n",
       "        </tr>\n",
       "    </tbody>\n",
       "</table>\n",
       "<p>... (61 rows omitted)</p>"
      ],
      "text/plain": [
       "<IPython.core.display.HTML object>"
      ]
     },
     "metadata": {},
     "output_type": "display_data"
    }
   ],
   "source": [
    "department_count = profs.select('department', 'gross_salary').group('department').sort('count', descending = True)\n",
    "department_count.show(10)\n",
    "highest = profs.select('department', 'gross_salary').group('department', np.average).sort('gross_salary average', descending = True)\n",
    "highest.show(10)\n",
    "lowest = profs.select('department', 'gross_salary').group('department', np.average).sort('gross_salary average')\n",
    "lowest.show(10)\n"
   ]
  }
 ],
 "metadata": {
  "kernelspec": {
   "display_name": "Python 3",
   "language": "python",
   "name": "python3"
  },
  "language_info": {
   "codemirror_mode": {
    "name": "ipython",
    "version": 3
   },
   "file_extension": ".py",
   "mimetype": "text/x-python",
   "name": "python",
   "nbconvert_exporter": "python",
   "pygments_lexer": "ipython3",
   "version": "3.8.6"
  }
 },
 "nbformat": 4,
 "nbformat_minor": 1
}
