{
 "cells": [
  {
   "cell_type": "markdown",
   "metadata": {},
   "source": [
    "# Homework 6\n",
    "\n",
    "Make sure you run the two code blocks below. The first initializes key Python tools. The second imports the dataset which includes personality variables collected from UNG students."
   ]
  },
  {
   "cell_type": "code",
   "execution_count": 2,
   "metadata": {},
   "outputs": [],
   "source": [
    "from datascience import *\n",
    "import numpy as np\n",
    "\n",
    "%matplotlib inline\n",
    "\n",
    "import matplotlib.pyplot as plots\n",
    "plots.style.use('fivethirtyeight')\n",
    "\n",
    "from scipy import stats"
   ]
  },
  {
   "cell_type": "code",
   "execution_count": 13,
   "metadata": {},
   "outputs": [
    {
     "data": {
      "text/html": [
       "<table border=\"1\" class=\"dataframe\">\n",
       "    <thead>\n",
       "        <tr>\n",
       "            <th>Age</th> <th>Yr</th> <th>Sex</th> <th>G21</th> <th>Corps</th> <th>Res</th> <th>Greek</th> <th>VarsAth</th> <th>Honor</th> <th>GPA</th> <th>Sleep</th> <th>Caff</th> <th>SitClass</th> <th>AccDate</th> <th>Friends</th> <th>TxRel</th> <th>Stress1</th> <th>Stress2</th> <th>CHS</th> <th>Thrill</th> <th>Eat</th> <th>TypeA</th> <th>Anx</th> <th>Opt</th> <th>SE</th> <th>Neuro</th> <th>Perf</th> <th>OCD</th> <th>Play</th> <th>Extro</th> <th>Narc</th> <th>HSAF</th> <th>HSSE</th> <th>HSAG</th> <th>HSSD</th> <th>PHS</th>\n",
       "        </tr>\n",
       "    </thead>\n",
       "    <tbody>\n",
       "        <tr>\n",
       "            <td>21  </td> <td>2   </td> <td>M   </td> <td>Y   </td> <td>Y    </td> <td>1   </td> <td>N    </td> <td>N      </td> <td>N    </td> <td>3.23</td> <td>3.5  </td> <td>2   </td> <td>F       </td> <td>N      </td> <td>O      </td> <td>25   </td> <td>15     </td> <td>10     </td> <td>28  </td> <td>23    </td> <td>45  </td> <td>31   </td> <td>30  </td> <td>27  </td> <td>61  </td> <td>29   </td> <td>105 </td> <td>10  </td> <td>142 </td> <td>8    </td> <td>11  </td> <td>41  </td> <td>40  </td> <td>26  </td> <td>27  </td> <td>SE  </td>\n",
       "        </tr>\n",
       "        <tr>\n",
       "            <td>20  </td> <td>3   </td> <td>F   </td> <td>N   </td> <td>N    </td> <td>2   </td> <td>Y    </td> <td>N      </td> <td>Y    </td> <td>3.95</td> <td>5.5  </td> <td>1   </td> <td>M       </td> <td>Y      </td> <td>E      </td> <td>15   </td> <td>13     </td> <td>11     </td> <td>29  </td> <td>25    </td> <td>32  </td> <td>32   </td> <td>37  </td> <td>23  </td> <td>60  </td> <td>44   </td> <td>105 </td> <td>3   </td> <td>172 </td> <td>16   </td> <td>11  </td> <td>46  </td> <td>52  </td> <td>26  </td> <td>33  </td> <td>SE  </td>\n",
       "        </tr>\n",
       "        <tr>\n",
       "            <td>22  </td> <td>3   </td> <td>M   </td> <td>Y   </td> <td>N    </td> <td>2   </td> <td>N    </td> <td>N      </td> <td>N    </td> <td>3.06</td> <td>8.5  </td> <td>1   </td> <td>B       </td> <td>Y      </td> <td>E      </td> <td>23   </td> <td>8      </td> <td>15     </td> <td>30  </td> <td>27    </td> <td>14  </td> <td>25   </td> <td>24  </td> <td>27  </td> <td>62  </td> <td>17   </td> <td>73  </td> <td>1   </td> <td>134 </td> <td>15   </td> <td>11  </td> <td>48  </td> <td>42  </td> <td>44  </td> <td>29  </td> <td>AG  </td>\n",
       "        </tr>\n",
       "        <tr>\n",
       "            <td>27  </td> <td>3   </td> <td>F   </td> <td>Y   </td> <td>N    </td> <td>3   </td> <td>N    </td> <td>N      </td> <td>N    </td> <td>2.84</td> <td>7    </td> <td>1   </td> <td>M       </td> <td>N      </td> <td>E      </td> <td>20   </td> <td>6      </td> <td>13     </td> <td>27  </td> <td>21    </td> <td>33  </td> <td>29   </td> <td>35  </td> <td>26  </td> <td>65  </td> <td>18   </td> <td>90  </td> <td>9   </td> <td>160 </td> <td>16   </td> <td>10  </td> <td>51  </td> <td>51  </td> <td>23  </td> <td>19  </td> <td>SE  </td>\n",
       "        </tr>\n",
       "        <tr>\n",
       "            <td>24  </td> <td>3   </td> <td>M   </td> <td>Y   </td> <td>N    </td> <td>2   </td> <td>N    </td> <td>N      </td> <td>N    </td> <td>2.39</td> <td>6    </td> <td>1   </td> <td>F       </td> <td>N      </td> <td>E      </td> <td>25   </td> <td>6      </td> <td>18     </td> <td>24  </td> <td>30    </td> <td>43  </td> <td>31   </td> <td>27  </td> <td>29  </td> <td>65  </td> <td>11   </td> <td>95  </td> <td>5   </td> <td>166 </td> <td>14   </td> <td>10  </td> <td>56  </td> <td>46  </td> <td>27  </td> <td>20  </td> <td>AF  </td>\n",
       "        </tr>\n",
       "    </tbody>\n",
       "</table>\n",
       "<p>... (124 rows omitted)</p>"
      ],
      "text/plain": [
       "<IPython.core.display.HTML object>"
      ]
     },
     "metadata": {},
     "output_type": "display_data"
    }
   ],
   "source": [
    "pers = Table.read_table('personality.csv')\n",
    "pers.show(5)"
   ]
  },
  {
   "cell_type": "markdown",
   "metadata": {},
   "source": [
    "For details about all the variables in the dataset, you may download the following PDF:\n",
    "     [Personality_Variables](http://faculty.ung.edu/rsinn/personality_variables.pdf)"
   ]
  },
  {
   "cell_type": "markdown",
   "metadata": {},
   "source": [
    "## A/B Testing"
   ]
  },
  {
   "cell_type": "markdown",
   "metadata": {},
   "source": [
    "At UNG, are males more narcisstic than females? If we have the correct data, we can answer this question with an $\\text{A/B Test}$. We need a numeric variable and a grouping variable. The A/B refers to two different groups. In this dataset, biological sex has two options: male or female. Narcissism is the numeric variable. Our textbook covers A/B testing in Chapter 18. \n",
    "\n",
    "In statistics, the same test is called an $\\text{independent samples t-test}$.\n",
    "\n",
    "If you are unfamiliar with the personality trait of narcissism, [Psychology Today](https://www.psychologytoday.com/us/basics/narcissism) has an overview in the first three paragraphs."
   ]
  },
  {
   "cell_type": "markdown",
   "metadata": {},
   "source": [
    "### Question 1. Select answer choice 1, 2 or 3.\n",
    "\n",
    "1. There will be no difference in the levels of narcissism between males and females.\n",
    "2. Males will exhibit higher levels of narcissism.\n",
    "3. Females will exhibit higher levels of narcissism.\n",
    "\n",
    "In the cell below, indicate your answer choice of 1, 2 or 3 follwed by an explanation of your reasoning."
   ]
  },
  {
   "cell_type": "markdown",
   "metadata": {},
   "source": [
    "1, 2 or 3 ..."
   ]
  },
  {
   "cell_type": "markdown",
   "metadata": {},
   "source": [
    "## Tools\n",
    "\n",
    "Here is a toolkit to help you. We need three programs:\n",
    "\n",
    "* ab_diff\n",
    "* ab_shuff\n",
    "* ab_hist\n",
    "\n",
    "The first finds differences between the means for groups $A$ and $B$. The second shuffles the grouping variable column. The third shows a picture of the results.\n",
    "\n",
    "### ab_diff"
   ]
  },
  {
   "cell_type": "code",
   "execution_count": 3,
   "metadata": {},
   "outputs": [],
   "source": [
    "def ab_diff(tab):\n",
    "    tab.group(0,np.average)\n",
    "    a_mean = tab.group(0,np.average).column(1).item(0)\n",
    "    b_mean = tab.group(0,np.average).column(1).item(1)\n",
    "    return a_mean - b_mean"
   ]
  },
  {
   "cell_type": "markdown",
   "metadata": {},
   "source": [
    "*Notes*\n",
    "- The input for our `ab_diff` function is a table.\n",
    "- The function finds the difference in A/B group means.\n",
    "- The function expects the first column to be the grouping variable.\n",
    "- The function expects the second column to be the numeric variable.\n",
    "- The output of the function is a number indicating the mean difference between groups A and B.\n",
    "\n",
    "To demonstrate how it works, let's create a 2-column table called `narc` where narcissism is the numeric variable and biological sex is the grouping variable."
   ]
  },
  {
   "cell_type": "code",
   "execution_count": 4,
   "metadata": {},
   "outputs": [
    {
     "data": {
      "text/html": [
       "<table border=\"1\" class=\"dataframe\">\n",
       "    <thead>\n",
       "        <tr>\n",
       "            <th>Sex</th> <th>Narc</th>\n",
       "        </tr>\n",
       "    </thead>\n",
       "    <tbody>\n",
       "        <tr>\n",
       "            <td>M   </td> <td>11  </td>\n",
       "        </tr>\n",
       "        <tr>\n",
       "            <td>F   </td> <td>11  </td>\n",
       "        </tr>\n",
       "        <tr>\n",
       "            <td>M   </td> <td>11  </td>\n",
       "        </tr>\n",
       "        <tr>\n",
       "            <td>F   </td> <td>10  </td>\n",
       "        </tr>\n",
       "        <tr>\n",
       "            <td>M   </td> <td>10  </td>\n",
       "        </tr>\n",
       "    </tbody>\n",
       "</table>\n",
       "<p>... (124 rows omitted)</p>"
      ],
      "text/plain": [
       "<IPython.core.display.HTML object>"
      ]
     },
     "metadata": {},
     "output_type": "display_data"
    }
   ],
   "source": [
    "narc = pers.select('Sex','Narc')\n",
    "narc.show(5)"
   ]
  },
  {
   "cell_type": "markdown",
   "metadata": {},
   "source": [
    "Now, let's apply `ab_diff` to our new table."
   ]
  },
  {
   "cell_type": "code",
   "execution_count": 5,
   "metadata": {},
   "outputs": [
    {
     "data": {
      "text/plain": [
       "-1.7449631449631444"
      ]
     },
     "execution_count": 5,
     "metadata": {},
     "output_type": "execute_result"
    }
   ],
   "source": [
    "ab_diff(narc)"
   ]
  },
  {
   "cell_type": "markdown",
   "metadata": {},
   "source": [
    "Notice that `ab_diff` proceeds alphabetically and that this takes \"female mean\" minus \"male mean\"."
   ]
  },
  {
   "cell_type": "markdown",
   "metadata": {},
   "source": [
    "## ab_shuffle\n",
    "\n",
    "Let's create the `ab_shuffle` function. Simply execute the code block below."
   ]
  },
  {
   "cell_type": "code",
   "execution_count": 6,
   "metadata": {},
   "outputs": [],
   "source": [
    "def ab_shuffle(tab):\n",
    "    shuffle_group = tab.sample(with_replacement = False).column(0)\n",
    "    shuffled_tab = tab.with_column(\"Shuffled Grouping\",shuffle_group).select(2,1)\n",
    "    return shuffled_tab"
   ]
  },
  {
   "cell_type": "markdown",
   "metadata": {},
   "source": [
    "*Notes*\n",
    "- The input for our $\\text{ab-shuffle}$ function is a table.\n",
    "- The function shuffles the first column.\n",
    "- The function then returns a table with two columns.\n",
    "- The returned table's first column is the grouping variable.\n",
    "- The returned table's second column should be the numeric variable.\n",
    "\n",
    "To illustrate, let's create a table called 'narc' using the 'personality' dataset. Execute the code block below with no changes."
   ]
  },
  {
   "cell_type": "markdown",
   "metadata": {},
   "source": [
    "Now, we can apply our `ab_shuffle` function to our new table `narc`."
   ]
  },
  {
   "cell_type": "code",
   "execution_count": 9,
   "metadata": {},
   "outputs": [
    {
     "data": {
      "text/html": [
       "<table border=\"1\" class=\"dataframe\">\n",
       "    <thead>\n",
       "        <tr>\n",
       "            <th>Shuffled Grouping</th> <th>Narc</th>\n",
       "        </tr>\n",
       "    </thead>\n",
       "    <tbody>\n",
       "        <tr>\n",
       "            <td>F                </td> <td>11  </td>\n",
       "        </tr>\n",
       "        <tr>\n",
       "            <td>M                </td> <td>11  </td>\n",
       "        </tr>\n",
       "        <tr>\n",
       "            <td>M                </td> <td>11  </td>\n",
       "        </tr>\n",
       "        <tr>\n",
       "            <td>F                </td> <td>10  </td>\n",
       "        </tr>\n",
       "        <tr>\n",
       "            <td>M                </td> <td>10  </td>\n",
       "        </tr>\n",
       "    </tbody>\n",
       "</table>\n",
       "<p>... (124 rows omitted)</p>"
      ],
      "text/plain": [
       "<IPython.core.display.HTML object>"
      ]
     },
     "metadata": {},
     "output_type": "display_data"
    }
   ],
   "source": [
    "ab_shuffle(narc).show(5)"
   ]
  },
  {
   "cell_type": "markdown",
   "metadata": {},
   "source": [
    "Note that the Grouping variable column is shuffled. Try executing the code block several times, and notice how the shuffling of the first column labels is different each time. The data in the second column is unchanged."
   ]
  },
  {
   "cell_type": "markdown",
   "metadata": {},
   "source": [
    "We can use both of our new functions at once to find the difference in means in our shuffled table. Execute the code block below to see that in action."
   ]
  },
  {
   "cell_type": "code",
   "execution_count": 12,
   "metadata": {},
   "outputs": [
    {
     "data": {
      "text/plain": [
       "-0.16019656019656026"
      ]
     },
     "execution_count": 12,
     "metadata": {},
     "output_type": "execute_result"
    }
   ],
   "source": [
    "ab_diff(ab_shuffle(narc))"
   ]
  },
  {
   "cell_type": "markdown",
   "metadata": {},
   "source": [
    "Run the code block several times and note how the output changes."
   ]
  },
  {
   "cell_type": "markdown",
   "metadata": {},
   "source": [
    "## ab_hist\n",
    "\n",
    "Let's create our last function, one that will display a visual representation of our results from the A/B test. Execute the code block below."
   ]
  },
  {
   "cell_type": "code",
   "execution_count": 13,
   "metadata": {},
   "outputs": [],
   "source": [
    "def ab_hist(myArray, observed_value):\n",
    "    tab = Table().with_column('A/B Differencs',myArray)\n",
    "    tab.hist(0)\n",
    "    _ = plots.plot([observed_value, observed_value], [0, 0.1], color='red', lw=2)"
   ]
  },
  {
   "cell_type": "markdown",
   "metadata": {},
   "source": [
    "Notes\n",
    "- The function input requires two things, an array and an observed value.\n",
    "- We run a \"for loop\" to generate the array.\n",
    "- The observed value is the `ab_diff` from the original data in `narc`."
   ]
  },
  {
   "cell_type": "markdown",
   "metadata": {},
   "source": [
    "## The `for` loop\n",
    "\n",
    "First, let's create a variable `observed_diff` which will be the difference in groups A and B in the original `narc` dataset."
   ]
  },
  {
   "cell_type": "markdown",
   "metadata": {},
   "source": [
    "### Question 2\n",
    "\n",
    "In the code block below, define `observed_diff`. Hint, use `ab_diff` to make life easy."
   ]
  },
  {
   "cell_type": "code",
   "execution_count": 16,
   "metadata": {},
   "outputs": [],
   "source": [
    "observed_diff = ..."
   ]
  },
  {
   "cell_type": "code",
   "execution_count": 17,
   "metadata": {},
   "outputs": [
    {
     "data": {
      "text/plain": [
       "-1.7449631449631444"
      ]
     },
     "execution_count": 17,
     "metadata": {},
     "output_type": "execute_result"
    }
   ],
   "source": [
    "# showing what we expect students to code\n",
    "# this code block will be deleted in final Homework file\n",
    "observed_diff = ab_diff(narc)\n",
    "observed_diff"
   ]
  },
  {
   "cell_type": "markdown",
   "metadata": {},
   "source": [
    "Now, we need to create an array of output values. We want to shuffle the grouping variable over and over, and the array will record the results of the mean difference each time. The code block below is our `for` loop. You will need to set the reps variable based on your computer and your internet connection."
   ]
  },
  {
   "cell_type": "code",
   "execution_count": 18,
   "metadata": {},
   "outputs": [],
   "source": [
    "narc_diffs = make_array()\n",
    "\n",
    "# Set reps at 1,000 or less especially if running this in the cloud.\n",
    "reps = 2500\n",
    "\n",
    "for i in range(reps):\n",
    "    new_diff = ab_diff(ab_shuffle(narc))\n",
    "    narc_diffs = np.append(narc_diffs, new_diff)"
   ]
  },
  {
   "cell_type": "markdown",
   "metadata": {},
   "source": [
    "To use the above code on another data set, change the variable name `narc_diffs` and change the table from `narc` to the table you wish to read data from. "
   ]
  },
  {
   "cell_type": "code",
   "execution_count": 19,
   "metadata": {},
   "outputs": [
    {
     "data": {
      "image/png": "[encoded data removed]",
      "text/plain": [
       "<Figure size 432x288 with 1 Axes>"
      ]
     },
     "metadata": {},
     "output_type": "display_data"
    }
   ],
   "source": [
    "ab_hist(narc_diffs,observed_diff)"
   ]
  },
  {
   "cell_type": "markdown",
   "metadata": {},
   "source": [
    "View the output above. The red vertical line shows the observed value. The histogram shows the distribution of the shuffled differences.\n",
    "\n",
    "### Question 3\n",
    "\n",
    "What is the probability that the red line is a value in the distribution? Estimate the likelihood for a value like this one to appear at random in the distribution shown in the histogram. Write your answer and a brief justification below."
   ]
  },
  {
   "cell_type": "markdown",
   "metadata": {},
   "source": [
    "My estimate of the probability is ..."
   ]
  },
  {
   "cell_type": "markdown",
   "metadata": {},
   "source": [
    "We can calculate the exact probability. Execute the two code blocks below."
   ]
  },
  {
   "cell_type": "code",
   "execution_count": 20,
   "metadata": {},
   "outputs": [
    {
     "data": {
      "text/plain": [
       "0"
      ]
     },
     "execution_count": 20,
     "metadata": {},
     "output_type": "execute_result"
    }
   ],
   "source": [
    "sum(narc_diffs <= observed_diff)"
   ]
  },
  {
   "cell_type": "code",
   "execution_count": 21,
   "metadata": {},
   "outputs": [
    {
     "data": {
      "text/plain": [
       "0.0"
      ]
     },
     "execution_count": 21,
     "metadata": {},
     "output_type": "execute_result"
    }
   ],
   "source": [
    "p_value = sum(narc_diffs <= observed_diff) / reps \n",
    "p_value"
   ]
  },
  {
   "cell_type": "markdown",
   "metadata": {},
   "source": [
    "We check to see how often the values in the `narc_diffs` distribution are at least as low as the `observed_diff`. The sum function counts how many values meet the criteria. The first code block shows this evaluation. The second code block calculates the p-value. Notice that the probability is $p \\approx 0$."
   ]
  },
  {
   "cell_type": "markdown",
   "metadata": {},
   "source": [
    "### Question 4\n",
    "\n",
    "Where do you think the red line would fall in the histogram if the p-value were $p = 0.25$ ? What if $p = 0.8$ or $p = 0.9$ ? Explain your reasoning in the block below."
   ]
  },
  {
   "cell_type": "markdown",
   "metadata": {},
   "source": [
    "If the p-value were $p = 0.25$, I believe ..."
   ]
  },
  {
   "cell_type": "markdown",
   "metadata": {},
   "source": [
    "### Question 5\n",
    "Given the p-value, what do you think of your guess in Question 1? Is there a difference in the levels of narcissism between males and females? Why do you think so? Are males or females (or neither) more narcissistic?"
   ]
  },
  {
   "cell_type": "markdown",
   "metadata": {},
   "source": [
    "After seeing the results of A/B testing, I believe that ..."
   ]
  },
  {
   "cell_type": "markdown",
   "metadata": {},
   "source": [
    "## Practice Problems\n",
    "\n",
    "Pick at least one of the following practice problems. In the code blocks below, run the indicated independent samples t-test. Calculate an exact p-value, and say what you think the output means in the real world.\n",
    "\n",
    "1. Using the exact same procedure, test for a difference between male and female `perfectionsim` scores. The following code will help extract the table you need to work with.\n",
    "\n",
    "```{code}\n",
    "perf = personality.select('Sex','Perf')\n",
    "perf.show(5)\n",
    "```\n",
    "\n",
    "2. Use an A/B test to determine if older students drink more caffeine than younger students. The `G21` variable has Yes/No responses to the question, \"Are you 21 years old or older?\" The following code will help get the needed table.\n",
    "\n",
    "```{code}\n",
    "caff = personality.select('Sex','Caffeine')\n",
    "caff.show(5)\n",
    "```\n",
    "\n",
    "3. Use an A/B test to determine if older students are less naive about relationships. The variable `TxRel` is based on the \"Toxic Relationship Beliefs\" scale. The `G21` variable has Yes/No responses to the question, \"Are you 21 years old or older?\" Higher `TxRel` scores indicate the person is more naive aobut relationships. Determine if younger students are more naive about relationships. The following code will help get the needed table.\n",
    "\n",
    "```{code}\n",
    "rel = personality.select('Sex','TxRel')\n",
    "rel.show(5)\n",
    "```\n",
    "\n",
    "4. Use an A/B test to determine if the thrill-seeking behaviors of males and females is different. The numeric variable `Thrill` indicates a person's interesting thrill-seeking behaviors with higher scores indicating more interest. The following code will help get the needed table.\n",
    "\n",
    "```{code}\n",
    "thrill = personality.select('Sex','Thrill')\n",
    "thrill.show(5)\n",
    "```"
   ]
  },
  {
   "cell_type": "code",
   "execution_count": null,
   "metadata": {},
   "outputs": [],
   "source": []
  },
  {
   "cell_type": "code",
   "execution_count": null,
   "metadata": {},
   "outputs": [],
   "source": []
  },
  {
   "cell_type": "code",
   "execution_count": null,
   "metadata": {},
   "outputs": [],
   "source": []
  },
  {
   "cell_type": "code",
   "execution_count": null,
   "metadata": {},
   "outputs": [],
   "source": []
  },
  {
   "cell_type": "code",
   "execution_count": null,
   "metadata": {},
   "outputs": [],
   "source": []
  }
 ],
 "metadata": {
  "kernelspec": {
   "display_name": "Python 3",
   "language": "python",
   "name": "python3"
  },
  "language_info": {
   "codemirror_mode": {
    "name": "ipython",
    "version": 3
   },
   "file_extension": ".py",
   "mimetype": "text/x-python",
   "name": "python",
   "nbconvert_exporter": "python",
   "pygments_lexer": "ipython3",
   "version": "3.6.5"
  }
 },
 "nbformat": 4,
 "nbformat_minor": 5
}
