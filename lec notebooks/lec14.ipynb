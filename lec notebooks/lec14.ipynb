{
 "cells": [
  {
   "cell_type": "code",
   "execution_count": 3,
   "metadata": {},
   "outputs": [],
   "source": [
    "from datascience import *\n",
    "import numpy as np\n",
    "\n",
    "%matplotlib inline\n",
    "import matplotlib.pyplot as plots\n",
    "plots.style.use('fivethirtyeight')"
   ]
  },
  {
   "cell_type": "markdown",
   "metadata": {},
   "source": [
    "## Simulation"
   ]
  },
  {
   "cell_type": "code",
   "execution_count": 5,
   "metadata": {},
   "outputs": [
    {
     "data": {
      "text/plain": [
       "array(['heads', 'tails'], dtype='<U5')"
      ]
     },
     "execution_count": 5,
     "metadata": {},
     "output_type": "execute_result"
    }
   ],
   "source": [
    "outcomes = make_array('heads', 'tails')\n",
    "outcomes\n",
    "# Here we have encoding heads and tails "
   ]
  },
  {
   "cell_type": "code",
   "execution_count": null,
   "metadata": {},
   "outputs": [],
   "source": [
    "np.random.choice(outcomes)\n",
    "#np.random.choice - chooses a random element from an array"
   ]
  },
  {
   "cell_type": "code",
   "execution_count": 6,
   "metadata": {},
   "outputs": [
    {
     "data": {
      "text/plain": [
       "array(['heads', 'tails', 'heads', 'heads', 'tails', 'heads', 'heads',\n",
       "       'tails', 'heads', 'heads'], dtype='<U5')"
      ]
     },
     "execution_count": 6,
     "metadata": {},
     "output_type": "execute_result"
    }
   ],
   "source": [
    "np.random.choice(outcomes, 10)\n",
    "#np.random has an optional arguement \n",
    "#it allows you to pick as many elements from an array\n",
    "#with replacement\n",
    "\n",
    "# here we obtain the results from 10 random coin glips"
   ]
  },
  {
   "cell_type": "code",
   "execution_count": 7,
   "metadata": {},
   "outputs": [
    {
     "data": {
      "text/plain": [
       "array([False, False,  True,  True,  True, False,  True, False, False,\n",
       "        True])"
      ]
     },
     "execution_count": 7,
     "metadata": {},
     "output_type": "execute_result"
    }
   ],
   "source": [
    "np.random.choice(outcomes, 10) == 'heads'\n",
    "# remember that arrays are comparable using operations\n",
    "# This returns true if are match is equal to each other"
   ]
  },
  {
   "cell_type": "code",
   "execution_count": 50,
   "metadata": {},
   "outputs": [
    {
     "data": {
      "text/plain": [
       "49"
      ]
     },
     "execution_count": 50,
     "metadata": {},
     "output_type": "execute_result"
    }
   ],
   "source": [
    "# lets make two functions\n",
    "\n",
    "# Function Flip a coin n number of times and return the result\n",
    "\n",
    "# Lets make a function first flips a coin n times \n",
    "\n",
    "def nflips(number):\n",
    "    flipsarray=np.random.choice(outcomes, number)\n",
    "    return flipsarray\n",
    "\n",
    "\n",
    "# then counts the number of heads or tails depending on the input\n",
    "\n",
    "\n",
    "def countarray(flipsarray,face):\n",
    "    if face == 'heads':\n",
    "        facearray = flipsarray == face\n",
    "        countheads=np.count_nonzero(facearray)\n",
    "        return countheads #list\n",
    "    if face == \"tails\":\n",
    "        facearray = flipsarray == face\n",
    "        counttails=np.count_nonzero(facearray)\n",
    "        return counttails #list\n",
    "    else:\n",
    "        print('No such face exists!')\n",
    "\n",
    "        \n",
    "    \n",
    "hold=nflips(100)\n",
    "countarray(hold,'heads')\n",
    "    \n",
    "    "
   ]
  },
  {
   "cell_type": "code",
   "execution_count": 79,
   "metadata": {},
   "outputs": [
    {
     "data": {
      "image/png": "[encoded data removed]",
      "text/plain": [
       "<Figure size 432x288 with 1 Axes>"
      ]
     },
     "metadata": {},
     "output_type": "display_data"
    }
   ],
   "source": [
    "results = make_array() # make array\n",
    "\n",
    "#now suppose we wanted to run the experiment 100 times or more w\n",
    "#we can use for loops to do this as below\n",
    "\n",
    "for i in np.arange(10000): \n",
    "    hold=nflips(100) # experiment result\n",
    "    results = np.append(results, countarray(hold,'heads'))\n",
    "    #append adds new element at the end of the array resutls\n",
    "    #\n",
    "\n",
    "    \n",
    "results# here is our array of resutls\n",
    "\n",
    "heads = Table().with_columns('Heads', results)\n",
    "heads # we can add this to a table \n",
    "heads.hist('Heads', bins=np.arange(24.5, 76.5))\n",
    "\n",
    "#as the number of simulatiosn occur the more the distrubtion\n",
    "#matches a ppetern\n",
    "#The more flips are 50 percen heads and 50 percent tails"
   ]
  },
  {
   "cell_type": "code",
   "execution_count": null,
   "metadata": {},
   "outputs": [],
   "source": []
  },
  {
   "cell_type": "code",
   "execution_count": 46,
   "metadata": {},
   "outputs": [
    {
     "data": {
      "text/plain": [
       "7"
      ]
     },
     "execution_count": 46,
     "metadata": {},
     "output_type": "execute_result"
    }
   ],
   "source": [
    "sum(np.random.choice(outcomes, 10) == 'tails')"
   ]
  },
  {
   "cell_type": "code",
   "execution_count": 10,
   "metadata": {},
   "outputs": [],
   "source": [
    "flips = np.random.choice(outcomes, 10)"
   ]
  },
  {
   "cell_type": "code",
   "execution_count": 11,
   "metadata": {},
   "outputs": [
    {
     "data": {
      "text/plain": [
       "4"
      ]
     },
     "execution_count": 11,
     "metadata": {},
     "output_type": "execute_result"
    }
   ],
   "source": [
    "sum(flips == 'heads')"
   ]
  },
  {
   "cell_type": "code",
   "execution_count": 12,
   "metadata": {},
   "outputs": [
    {
     "data": {
      "text/plain": [
       "6"
      ]
     },
     "execution_count": 12,
     "metadata": {},
     "output_type": "execute_result"
    }
   ],
   "source": [
    "sum(flips == 'tails')"
   ]
  },
  {
   "cell_type": "code",
   "execution_count": 13,
   "metadata": {},
   "outputs": [],
   "source": [
    "def heads_in_100_tosses():\n",
    "    return sum(np.random.choice(outcomes, 100) == 'heads')"
   ]
  },
  {
   "cell_type": "code",
   "execution_count": 14,
   "metadata": {
    "scrolled": true
   },
   "outputs": [
    {
     "data": {
      "text/plain": [
       "array([49., 51., 42., ..., 39., 47., 46.])"
      ]
     },
     "execution_count": 14,
     "metadata": {},
     "output_type": "execute_result"
    }
   ],
   "source": [
    "results = make_array()\n",
    "\n",
    "for i in np.arange(10000):\n",
    "    results = np.append(results, heads_in_100_tosses())\n",
    "    \n",
    "results"
   ]
  },
  {
   "cell_type": "code",
   "execution_count": 15,
   "metadata": {},
   "outputs": [
    {
     "data": {
      "text/html": [
       "<table border=\"1\" class=\"dataframe\">\n",
       "    <thead>\n",
       "        <tr>\n",
       "            <th>Heads</th>\n",
       "        </tr>\n",
       "    </thead>\n",
       "    <tbody>\n",
       "        <tr>\n",
       "            <td>49   </td>\n",
       "        </tr>\n",
       "        <tr>\n",
       "            <td>51   </td>\n",
       "        </tr>\n",
       "        <tr>\n",
       "            <td>42   </td>\n",
       "        </tr>\n",
       "        <tr>\n",
       "            <td>54   </td>\n",
       "        </tr>\n",
       "        <tr>\n",
       "            <td>48   </td>\n",
       "        </tr>\n",
       "        <tr>\n",
       "            <td>46   </td>\n",
       "        </tr>\n",
       "        <tr>\n",
       "            <td>52   </td>\n",
       "        </tr>\n",
       "        <tr>\n",
       "            <td>46   </td>\n",
       "        </tr>\n",
       "        <tr>\n",
       "            <td>51   </td>\n",
       "        </tr>\n",
       "        <tr>\n",
       "            <td>61   </td>\n",
       "        </tr>\n",
       "    </tbody>\n",
       "</table>\n",
       "<p>... (9990 rows omitted)</p>"
      ],
      "text/plain": [
       "Heads\n",
       "49\n",
       "51\n",
       "42\n",
       "54\n",
       "48\n",
       "46\n",
       "52\n",
       "46\n",
       "51\n",
       "61\n",
       "... (9990 rows omitted)"
      ]
     },
     "execution_count": 15,
     "metadata": {},
     "output_type": "execute_result"
    }
   ],
   "source": [
    "heads = Table().with_columns('Heads', results)\n",
    "heads"
   ]
  },
  {
   "cell_type": "code",
   "execution_count": 60,
   "metadata": {},
   "outputs": [
    {
     "data": {
      "image/png": "[encoded data removed]",
      "text/plain": [
       "<Figure size 432x288 with 1 Axes>"
      ]
     },
     "metadata": {},
     "output_type": "display_data"
    }
   ],
   "source": [
    "heads.hist('Heads', bins=np.arange(24.5, 76.5))"
   ]
  },
  {
   "cell_type": "code",
   "execution_count": null,
   "metadata": {},
   "outputs": [],
   "source": [
    "#Suppose you are given the following function \n",
    "\n",
    "def count_evens(n_array):\n",
    "    num_evens = 0\n",
    "    for i in n_array:\n",
    "        if i%2 == 0:\n",
    "            num_evens = num_evens + 1\n",
    "    return num_evens\n",
    "\n",
    "#Complete the function separate_numbers, which takes in an array of numbers \n",
    "#and a boolean value. It should return the number of even values in the array \n",
    "#if the argument return_even is True, or the number of odd values in the array\n",
    "#if return_even is False. \n",
    "\n",
    "def separate_numbers(n_array, boolean_here):\n",
    "    #You complete the rest !\n"
   ]
  },
  {
   "cell_type": "markdown",
   "metadata": {},
   "source": [
    "## Monty Hall"
   ]
  },
  {
   "cell_type": "code",
   "execution_count": null,
   "metadata": {},
   "outputs": [],
   "source": [
    "doors = make_array('car', 'first goat', 'second goat')"
   ]
  },
  {
   "cell_type": "code",
   "execution_count": null,
   "metadata": {},
   "outputs": [],
   "source": [
    "goats = make_array('first goat', 'second goat')\n",
    "\n",
    "def other_goat(a_goat):\n",
    "    if a_goat == 'first goat':\n",
    "        return 'second goat'\n",
    "    elif a_goat == 'second goat':\n",
    "        return 'first goat'\n"
   ]
  },
  {
   "cell_type": "code",
   "execution_count": null,
   "metadata": {},
   "outputs": [],
   "source": [
    "other_goat('first goat')"
   ]
  },
  {
   "cell_type": "code",
   "execution_count": null,
   "metadata": {},
   "outputs": [],
   "source": [
    "other_goat('wheeler hall')"
   ]
  },
  {
   "cell_type": "code",
   "execution_count": null,
   "metadata": {},
   "outputs": [],
   "source": [
    "def monty_hall():\n",
    "    \n",
    "    contestant_choice = np.random.choice(doors)\n",
    "    \n",
    "    if contestant_choice == 'first goat':\n",
    "        monty_choice = 'second goat'\n",
    "        remaining_door = 'car'\n",
    "        \n",
    "    elif contestant_choice == 'second goat':\n",
    "        monty_choice = 'first goat'\n",
    "        remaining_door = 'car'\n",
    "        \n",
    "    elif contestant_choice == 'car':\n",
    "        monty_choice = np.random.choice(goats)\n",
    "        remaining_door = other_goat(monty_choice)\n",
    "        \n",
    "    return [contestant_choice, monty_choice, remaining_door]"
   ]
  },
  {
   "cell_type": "code",
   "execution_count": null,
   "metadata": {},
   "outputs": [],
   "source": [
    "monty_hall()"
   ]
  },
  {
   "cell_type": "code",
   "execution_count": null,
   "metadata": {},
   "outputs": [],
   "source": [
    "games = Table(['Guess', 'Revealed', 'Remaining'])"
   ]
  },
  {
   "cell_type": "code",
   "execution_count": null,
   "metadata": {},
   "outputs": [],
   "source": [
    "games.append(monty_hall())"
   ]
  },
  {
   "cell_type": "code",
   "execution_count": null,
   "metadata": {},
   "outputs": [],
   "source": [
    "games = Table(['Guess', 'Revealed', 'Remaining'])\n",
    "for i in range(3000):\n",
    "    games.append(monty_hall())\n",
    "    \n",
    "games"
   ]
  },
  {
   "cell_type": "code",
   "execution_count": null,
   "metadata": {},
   "outputs": [],
   "source": [
    "games.group('Remaining')"
   ]
  },
  {
   "cell_type": "code",
   "execution_count": null,
   "metadata": {
    "scrolled": true
   },
   "outputs": [],
   "source": [
    "games.group('Guess')"
   ]
  }
 ],
 "metadata": {
  "kernelspec": {
   "display_name": "Python 3",
   "language": "python",
   "name": "python3"
  },
  "language_info": {
   "codemirror_mode": {
    "name": "ipython",
    "version": 3
   },
   "file_extension": ".py",
   "mimetype": "text/x-python",
   "name": "python",
   "nbconvert_exporter": "python",
   "pygments_lexer": "ipython3",
   "version": "3.7.3"
  }
 },
 "nbformat": 4,
 "nbformat_minor": 2
}
