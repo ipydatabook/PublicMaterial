{
 "cells": [
  {
   "cell_type": "code",
   "execution_count": 1,
   "metadata": {},
   "outputs": [
    {
     "ename": "ModuleNotFoundError",
     "evalue": "No module named 'BeautifulSoup'",
     "output_type": "error",
     "traceback": [
      "\u001b[1;31m---------------------------------------------------------------------------\u001b[0m",
      "\u001b[1;31mModuleNotFoundError\u001b[0m                       Traceback (most recent call last)",
      "\u001b[1;32m<ipython-input-1-ad1a75b85793>\u001b[0m in \u001b[0;36m<module>\u001b[1;34m\u001b[0m\n\u001b[1;32m----> 1\u001b[1;33m \u001b[1;32mimport\u001b[0m \u001b[0mBeautifulSoup\u001b[0m\u001b[1;33m\u001b[0m\u001b[1;33m\u001b[0m\u001b[0m\n\u001b[0m",
      "\u001b[1;31mModuleNotFoundError\u001b[0m: No module named 'BeautifulSoup'"
     ]
    }
   ],
   "source": [
    "import BeautifulSoup"
   ]
  },
  {
   "cell_type": "code",
   "execution_count": 2,
   "metadata": {},
   "outputs": [],
   "source": [
    "import codecs"
   ]
  },
  {
   "cell_type": "code",
   "execution_count": 8,
   "metadata": {},
   "outputs": [],
   "source": [
    "path=\"C:\\\\Users\\\\Abra\\Downloads\\Lab01\\Doan_Jessica_lab01.html\" \n",
    "file=codecs.open(path,\"rb\")\n",
    "file1=file.read()\n",
    "file1=str(file1)"
   ]
  },
  {
   "cell_type": "code",
   "execution_count": 20,
   "metadata": {},
   "outputs": [],
   "source": [
    "import re\n",
    "\n",
    "mo= re.split('Question \\d.\\d',file1)"
   ]
  },
  {
   "cell_type": "code",
   "execution_count": 24,
   "metadata": {},
   "outputs": [
    {
     "data": {
      "text/plain": [
       "'.1.</strong> Write a Python expression in this next cell that\\\\\\'s equal to $5 \\\\\\\\times (3 \\\\\\\\frac{10}{11}) - 50 \\\\\\\\frac{1}{3} + 2^{.5 \\\\\\\\times 22} - \\\\\\\\frac{7}{33} + 3$.  That\\\\\\'s five times three and ten elevenths, minus fifty and a third, plus two to the power of half twenty-two, minus seven thirty-thirds plus three.  By \"$3 \\\\\\\\frac{10}{11}$\" we mean $3+\\\\\\\\frac{10}{11}$, not $3 \\\\\\\\times \\\\\\\\frac{10}{11}$.</p>\\\\n<p>Replace the ellipses (<code>...</code>) with your expression.  Try to use parentheses only when necessary.</p>\\\\n<p><em>Hint:</em> The correct output should start with a familiar number.</p>\\\\n\\\\n</div>\\\\n</div><div class=\"jp-Cell jp-CodeCell jp-Notebook-cell   \">\\\\n<div class=\"jp-Cell-inputWrapper\">\\\\n<div class=\"jp-InputArea jp-Cell-inputArea\">\\\\n<div class=\"jp-InputPrompt jp-InputArea-prompt\">In&nbsp;[37]:</div>\\\\n<div class=\"jp-CodeMirrorEditor jp-Editor jp-InputArea-editor\" data-type=\"inline\">\\\\n     <div class=\"CodeMirror cm-s-jupyter\">\\\\n<div class=\" highlight hl-ipython3\"><pre><span></span><span class=\"mi\">5</span><span class=\"o\">*</span><span class=\"p\">(</span><span class=\"mi\">3</span><span class=\"o\">+</span><span class=\"mi\">10</span><span class=\"o\">/</span><span class=\"mi\">11</span><span class=\"p\">)</span><span class=\"o\">-</span><span class=\"p\">(</span><span class=\"mi\">50</span><span class=\"o\">+</span><span class=\"mi\">1</span><span class=\"o\">/</span><span class=\"mi\">3</span><span class=\"p\">)</span><span class=\"o\">+</span><span class=\"mi\">2</span><span class=\"o\">**</span><span class=\"p\">(</span><span class=\"o\">.</span><span class=\"mi\">5</span><span class=\"o\">*</span><span class=\"mi\">22</span><span class=\"p\">)</span><span class=\"o\">-</span><span class=\"p\">(</span><span class=\"mi\">7</span><span class=\"o\">/</span><span class=\"mi\">33</span><span class=\"p\">)</span><span class=\"o\">+</span><span class=\"mi\">3</span>\\\\n</pre></div>\\\\n\\\\n     </div>\\\\n</div>\\\\n</div>\\\\n</div>\\\\n\\\\n<div class=\"jp-Cell-outputWrapper\">\\\\n\\\\n\\\\n<div class=\"jp-OutputArea jp-Cell-outputArea\">\\\\n\\\\n<div class=\"jp-OutputArea-child\">\\\\n\\\\n    \\\\n    <div class=\"jp-OutputPrompt jp-OutputArea-prompt\">Out[37]:</div>\\\\n\\\\n\\\\n\\\\n\\\\n<div class=\"jp-RenderedText jp-OutputArea-output jp-OutputArea-executeResult\" data-mime-type=\"text/plain\">\\\\n<pre>2020.0</pre>\\\\n</div>\\\\n\\\\n</div>\\\\n\\\\n</div>\\\\n\\\\n</div>\\\\n\\\\n</div>\\\\n<div class=\"jp-Cell-inputWrapper\"><div class=\"jp-InputPrompt jp-InputArea-prompt\">\\\\n</div><div class=\"jp-RenderedHTMLCommon jp-RenderedMarkdown jp-MarkdownOutput \" data-mime-type=\"text/markdown\">\\\\n<h1 id=\"3.-Names\">3. Names<a class=\"anchor-link\" href=\"#3.-Names\">&#182;</a></h1><p>In natural language, we have terminology that lets us quickly reference very complicated concepts.  We don\\\\\\'t say, \"That\\\\\\'s a large mammal with brown fur and sharp teeth!\"  Instead, we just say, \"Bear!\"</p>\\\\n<p>In Python, we do this with <em>assignment statements</em>. An assignment statement has a name on the left side of an <code>=</code> sign and an expression to be evaluated on the right.</p>\\\\n\\\\n</div>\\\\n</div><div class=\"jp-Cell jp-CodeCell jp-Notebook-cell jp-mod-noOutputs  \">\\\\n<div class=\"jp-Cell-inputWrapper\">\\\\n<div class=\"jp-InputArea jp-Cell-inputArea\">\\\\n<div class=\"jp-InputPrompt jp-InputArea-prompt\">In&nbsp;[18]:</div>\\\\n<div class=\"jp-CodeMirrorEditor jp-Editor jp-InputArea-editor\" data-type=\"inline\">\\\\n     <div class=\"CodeMirror cm-s-jupyter\">\\\\n<div class=\" highlight hl-ipython3\"><pre><span></span><span class=\"n\">ten</span> <span class=\"o\">=</span> <span class=\"mi\">3</span> <span class=\"o\">*</span> <span class=\"mi\">2</span> <span class=\"o\">+</span> <span class=\"mi\">4</span><span class=\"o\">-</span><span class=\"mi\">55</span>\\\\n</pre></div>\\\\n\\\\n     </div>\\\\n</div>\\\\n</div>\\\\n</div>\\\\n\\\\n</div>\\\\n<div class=\"jp-Cell-inputWrapper\"><div class=\"jp-InputPrompt jp-InputArea-prompt\">\\\\n</div><div class=\"jp-RenderedHTMLCommon jp-RenderedMarkdown jp-MarkdownOutput \" data-mime-type=\"text/markdown\">\\\\n<p>When you run that cell, Python first computes the value of the expression on the right-hand side, <code>3 * 2 + 4</code>, which is the number 10.  Then it assigns that value to the name <code>ten</code>.  At that point, the code in the cell is done running.</p>\\\\n<p>After you run that cell, the value 10 is bound to the name <code>ten</code>:</p>\\\\n\\\\n</div>\\\\n</div><div class=\"jp-Cell jp-CodeCell jp-Notebook-cell   \">\\\\n<div class=\"jp-Cell-inputWrapper\">\\\\n<div class=\"jp-InputArea jp-Cell-inputArea\">\\\\n<div class=\"jp-InputPrompt jp-InputArea-prompt\">In&nbsp;[19]:</div>\\\\n<div class=\"jp-CodeMirrorEditor jp-Editor jp-InputArea-editor\" data-type=\"inline\">\\\\n     <div class=\"CodeMirror cm-s-jupyter\">\\\\n<div class=\" highlight hl-ipython3\"><pre><span></span><span class=\"n\">ten</span>\\\\n</pre></div>\\\\n\\\\n     </div>\\\\n</div>\\\\n</div>\\\\n</div>\\\\n\\\\n<div class=\"jp-Cell-outputWrapper\">\\\\n\\\\n\\\\n<div class=\"jp-OutputArea jp-Cell-outputArea\">\\\\n\\\\n<div class=\"jp-OutputArea-child\">\\\\n\\\\n    \\\\n    <div class=\"jp-OutputPrompt jp-OutputArea-prompt\">Out[19]:</div>\\\\n\\\\n\\\\n\\\\n\\\\n<div class=\"jp-RenderedText jp-OutputArea-output jp-OutputArea-executeResult\" data-mime-type=\"text/plain\">\\\\n<pre>-45</pre>\\\\n</div>\\\\n\\\\n</div>\\\\n\\\\n</div>\\\\n\\\\n</div>\\\\n\\\\n</div>\\\\n<div class=\"jp-Cell-inputWrapper\"><div class=\"jp-InputPrompt jp-InputArea-prompt\">\\\\n</div><div class=\"jp-RenderedHTMLCommon jp-RenderedMarkdown jp-MarkdownOutput \" data-mime-type=\"text/markdown\">\\\\n<p>The statement <code>ten = 3 * 2 + 4</code> is not asserting that <code>ten</code> is already equal to <code>3 * 2 + 4</code>, as we might expect by analogy with math notation.  Rather, that line of code changes what <code>ten</code> means; it now refers to the value 10, whereas before it meant nothing at all.</p>\\\\n<p>If the designers of Python had been ruthlessly pedantic, they might have made us write</p>\\\\n\\\\n<pre><code>define the name ten to hereafter have the value of 3 * 2 + 4 \\\\n\\\\n</code></pre>\\\\n<p>instead.  You will probably appreciate the brevity of \"<code>=</code>\"!  But keep in mind that this is the real meaning.</p>\\\\n<p><strong>'"
      ]
     },
     "execution_count": 24,
     "metadata": {},
     "output_type": "execute_result"
    }
   ],
   "source": [
    "mo[4]"
   ]
  },
  {
   "cell_type": "code",
   "execution_count": 25,
   "metadata": {},
   "outputs": [],
   "source": [
    "from io import StringIO\n",
    "from html.parser import HTMLParser\n",
    "\n",
    "class MLStripper(HTMLParser):\n",
    "    def __init__(self):\n",
    "        super().__init__()\n",
    "        self.reset()\n",
    "        self.strict = False\n",
    "        self.convert_charrefs= True\n",
    "        self.text = StringIO()\n",
    "    def handle_data(self, d):\n",
    "        self.text.write(d)\n",
    "    def get_data(self):\n",
    "        return self.text.getvalue()\n",
    "\n",
    "def strip_tags(html):\n",
    "    s = MLStripper()\n",
    "    s.feed(html)\n",
    "    return s.get_data()"
   ]
  },
  {
   "cell_type": "code",
   "execution_count": 31,
   "metadata": {},
   "outputs": [
    {
     "data": {
      "text/plain": [
       "\".2. Now, complete the code in the next cell to compute the difference between the predicted and estimated distances (in meters) that the hammer fell in this experiment.\\\\nThis just means translating the formula above ($\\\\\\\\frac{1}{2}G\\\\\\\\frac{M}{R^2}t^2$) into Python code.  You\\\\'ll have to replace each variable in the math formula with the name we gave that number in Python code.\\\\nHint: Try to use variables you\\\\'ve already defined in question 3.3.1\\\\n\\\\n\\\\n\\\\n\\\\n\\\\nIn\\xa0[7]:\\\\n\\\\n     \\\\n# First, we've written down the values of the 3 universal constants \\\\n# that show up in Newton's formula.\\\\n\\\\n# G, the universal constant measuring the strength of gravity.\\\\ngravity_constant = 6.674 * 10**-11\\\\n\\\\n# M, the moon's mass, in kilograms.\\\\nmoon_mass_kg = 7.34767309 * 10**22\\\\n\\\\n# R, the radius of the moon, in meters.\\\\nmoon_radius_m = 1.737 * 10**6\\\\n\\\\n#g(m/r^2)*t^2\\\\n\\\\nalmost_solution = gravity_constant * (moon_mass_kg/(moon_radius_m)**2)*(time**2)\\\\n\\\\n# The distance the hammer should have fallen \\\\n# over the duration of the fall, in meters, \\\\n# according to Newton's law of gravity.  \\\\n# The text above describes the formula\\\\n# for this distance given by Newton's law.\\\\n# **YOU FILL THIS PART IN.**\\\\npredicted_distance_m = 2*almost_solution\\\\n\\\\n# Here we've computed the difference \\\\n# between the predicted fall distance and the distance we actually measured.\\\\n# If you've filled in the above code, this should just work.\\\\ndifference = predicted_distance_m - estimated_distance_m\\\\ndifference\\\\n\\\\n\\\\n     \\\\n\\\\n\\\\n\\\\n\\\\n\\\\n\\\\n\\\\n\\\\n\\\\n\\\\n\\\\n    \\\\n    Out[7]:\\\\n\\\\n\\\\n\\\\n\\\\n\\\\n3.550894778637219\\\\n\\\\n\\\\n\\\\n\\\\n\\\\n\\\\n\\\\n\\\\n\\\\n\\\\n\\\\n4. Calling functions¶The most common way to combine or manipulate values in Python is by calling functions. Python comes with many built-in functions that perform common operations.\\\\nFor example, the abs function takes a single number as its argument and returns the absolute value of that number. Run the next two cells and see if you understand the output.\\\\n\\\\n\\\\n\\\\n\\\\n\\\\nIn\\xa0[8]:\\\\n\\\\n     \\\\nabs(5)\\\\n\\\\n\\\\n     \\\\n\\\\n\\\\n\\\\n\\\\n\\\\n\\\\n\\\\n\\\\n\\\\n\\\\n\\\\n    \\\\n    Out[8]:\\\\n\\\\n\\\\n\\\\n\\\\n\\\\n5\\\\n\\\\n\\\\n\\\\n\\\\n\\\\n\\\\n\\\\n\\\\n\\\\n\\\\n\\\\nIn\\xa0[9]:\\\\n\\\\n     \\\\nabs(-5)\\\\n\\\\n\\\\n     \\\\n\\\\n\\\\n\\\\n\\\\n\\\\n\\\\n\\\\n\\\\n\\\\n\\\\n\\\\n    \\\\n    Out[9]:\\\\n\\\\n\\\\n\\\\n\\\\n\\\\n5\\\\n\\\\n\\\\n\\\\n\\\\n\\\\n\\\\n\\\\n\\\\n\\\\n\\\\n\\\\n4.1. Application: Computing walking distances¶Chunhua is on the corner of 7th Avenue and 42nd Street in Midtown Manhattan, and she wants to know far she\\\\'d have to walk to get to Gramercy School on the corner of 10th Avenue and 34th Street.\\\\nShe can\\\\'t cut across blocks diagonally, since there are buildings in the way.  She has to walk along the sidewalks.  Using the map below, she sees she\\\\'d have to walk 3 avenues (long blocks) and 8 streets (short blocks).  In terms of the given numbers, she computed 3 as the difference between 7 and 10, in absolute value, and 8 similarly.\\\\nChunhua also knows that blocks in Manhattan are all about 80m by 274m (avenues are farther apart than streets).  So in total, she\\\\'d have to walk $(80 \\\\\\\\times |42 - 34| + 274 \\\\\\\\times |7 - 10|)$ meters to get to the park.\\\\n\\\\n\""
      ]
     },
     "execution_count": 31,
     "metadata": {},
     "output_type": "execute_result"
    }
   ],
   "source": [
    "strip_tags(mo[9])"
   ]
  },
  {
   "cell_type": "code",
   "execution_count": null,
   "metadata": {},
   "outputs": [],
   "source": []
  }
 ],
 "metadata": {
  "kernelspec": {
   "display_name": "Python 3",
   "language": "python",
   "name": "python3"
  },
  "language_info": {
   "codemirror_mode": {
    "name": "ipython",
    "version": 3
   },
   "file_extension": ".py",
   "mimetype": "text/x-python",
   "name": "python",
   "nbconvert_exporter": "python",
   "pygments_lexer": "ipython3",
   "version": "3.7.3"
  }
 },
 "nbformat": 4,
 "nbformat_minor": 2
}
