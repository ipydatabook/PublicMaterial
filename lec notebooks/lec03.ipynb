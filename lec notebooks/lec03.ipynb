{
 "cells": [
  {
   "cell_type": "code",
   "execution_count": 1,
   "metadata": {},
   "outputs": [],
   "source": [
    "from datascience import *\n",
    "import numpy as np\n",
    "\n",
    "%matplotlib inline\n",
    "import matplotlib.pyplot as plots\n",
    "plots.style.use('fivethirtyeight')"
   ]
  },
  {
   "cell_type": "markdown",
   "metadata": {},
   "source": [
    "## Words of Caution ##\n",
    "- Remember to run the cell above. It's for setting up the environment so you can have access to what's needed for this lecture. For now, don't worry about what it means: we'll learn more about what's inside of it in the next few lectures.\n",
    "- Data science is not just about code, so please don't go over this notebook by itself. Have the relevant textbook sections or lecture video at hand so that you can go over the discussion along with the code. Thank you! "
   ]
  },
  {
   "cell_type": "markdown",
   "metadata": {},
   "source": [
    "## Python ##"
   ]
  },
  {
   "cell_type": "code",
   "execution_count": null,
   "metadata": {
    "scrolled": true
   },
   "outputs": [],
   "source": [
    "2 + 9"
   ]
  },
  {
   "cell_type": "code",
   "execution_count": null,
   "metadata": {},
   "outputs": [],
   "source": [
    "2 * 9"
   ]
  },
  {
   "cell_type": "code",
   "execution_count": null,
   "metadata": {},
   "outputs": [],
   "source": [
    "2 / 9"
   ]
  },
  {
   "cell_type": "code",
   "execution_count": null,
   "metadata": {},
   "outputs": [],
   "source": [
    "2 + 3 * 9"
   ]
  },
  {
   "cell_type": "code",
   "execution_count": null,
   "metadata": {},
   "outputs": [],
   "source": [
    "(2 + 3) * 9"
   ]
  },
  {
   "cell_type": "code",
   "execution_count": null,
   "metadata": {},
   "outputs": [],
   "source": [
    "# two to the power of four: 2 * 2 * 2 * 2\n",
    "2 ** 4"
   ]
  },
  {
   "cell_type": "code",
   "execution_count": null,
   "metadata": {},
   "outputs": [],
   "source": [
    "'hello'"
   ]
  },
  {
   "cell_type": "markdown",
   "metadata": {},
   "source": [
    "## Names ##"
   ]
  },
  {
   "cell_type": "code",
   "execution_count": null,
   "metadata": {},
   "outputs": [],
   "source": [
    "a = 4"
   ]
  },
  {
   "cell_type": "code",
   "execution_count": null,
   "metadata": {},
   "outputs": [],
   "source": [
    "a"
   ]
  },
  {
   "cell_type": "code",
   "execution_count": null,
   "metadata": {},
   "outputs": [],
   "source": [
    "b = 9"
   ]
  },
  {
   "cell_type": "code",
   "execution_count": null,
   "metadata": {},
   "outputs": [],
   "source": [
    "b"
   ]
  },
  {
   "cell_type": "code",
   "execution_count": null,
   "metadata": {},
   "outputs": [],
   "source": [
    "a * 3"
   ]
  },
  {
   "cell_type": "code",
   "execution_count": null,
   "metadata": {},
   "outputs": [],
   "source": [
    "total = a + b"
   ]
  },
  {
   "cell_type": "code",
   "execution_count": null,
   "metadata": {
    "scrolled": true
   },
   "outputs": [],
   "source": [
    "total"
   ]
  },
  {
   "cell_type": "code",
   "execution_count": null,
   "metadata": {},
   "outputs": [],
   "source": [
    "a = 10"
   ]
  },
  {
   "cell_type": "code",
   "execution_count": null,
   "metadata": {},
   "outputs": [],
   "source": [
    "total"
   ]
  },
  {
   "cell_type": "code",
   "execution_count": null,
   "metadata": {},
   "outputs": [],
   "source": [
    "total = a + b"
   ]
  },
  {
   "cell_type": "code",
   "execution_count": null,
   "metadata": {},
   "outputs": [],
   "source": [
    "total"
   ]
  },
  {
   "cell_type": "code",
   "execution_count": null,
   "metadata": {},
   "outputs": [],
   "source": [
    "'total'"
   ]
  },
  {
   "cell_type": "markdown",
   "metadata": {},
   "source": [
    "### Why Names?"
   ]
  },
  {
   "cell_type": "code",
   "execution_count": null,
   "metadata": {},
   "outputs": [],
   "source": [
    "hours_per_week = 40\n",
    "weeks_per_year = 52"
   ]
  },
  {
   "cell_type": "code",
   "execution_count": null,
   "metadata": {},
   "outputs": [],
   "source": [
    "hours_per_year = hours_per_week * weeks_per_year"
   ]
  },
  {
   "cell_type": "code",
   "execution_count": null,
   "metadata": {},
   "outputs": [],
   "source": [
    "hours_per_year"
   ]
  },
  {
   "cell_type": "code",
   "execution_count": null,
   "metadata": {},
   "outputs": [],
   "source": [
    "# Minimum wage for businesses w/26 or more employees\n",
    "# Goes up by $1/hr until 2022\n",
    "ca_hourly_minimum_wage = 13.00"
   ]
  },
  {
   "cell_type": "code",
   "execution_count": null,
   "metadata": {},
   "outputs": [],
   "source": [
    "weekly_wages = hours_per_week * ca_hourly_minimum_wage\n",
    "weekly_wages"
   ]
  },
  {
   "cell_type": "code",
   "execution_count": null,
   "metadata": {},
   "outputs": [],
   "source": [
    "yearly_wages = hours_per_year * ca_hourly_minimum_wage\n",
    "yearly_wages"
   ]
  },
  {
   "cell_type": "code",
   "execution_count": null,
   "metadata": {},
   "outputs": [],
   "source": [
    "40 * 13.00"
   ]
  },
  {
   "cell_type": "code",
   "execution_count": null,
   "metadata": {},
   "outputs": [],
   "source": [
    "40 * 52 * 13.00"
   ]
  },
  {
   "cell_type": "markdown",
   "metadata": {},
   "source": [
    "## Functions and Call Expressions"
   ]
  },
  {
   "cell_type": "code",
   "execution_count": null,
   "metadata": {},
   "outputs": [],
   "source": [
    "abs(-5)"
   ]
  },
  {
   "cell_type": "code",
   "execution_count": null,
   "metadata": {},
   "outputs": [],
   "source": [
    "abs(1 - 3)"
   ]
  },
  {
   "cell_type": "code",
   "execution_count": null,
   "metadata": {},
   "outputs": [],
   "source": [
    "day_temp = 52\n",
    "night_temp = 47\n",
    "abs(night_temp - day_temp)"
   ]
  },
  {
   "cell_type": "code",
   "execution_count": null,
   "metadata": {},
   "outputs": [],
   "source": [
    "min(14, 15)"
   ]
  },
  {
   "cell_type": "code",
   "execution_count": null,
   "metadata": {},
   "outputs": [],
   "source": [
    "round(123.456)"
   ]
  },
  {
   "cell_type": "code",
   "execution_count": null,
   "metadata": {},
   "outputs": [],
   "source": [
    "round(123.456, 1)"
   ]
  },
  {
   "cell_type": "code",
   "execution_count": null,
   "metadata": {},
   "outputs": [],
   "source": [
    "round(123.456, ndigits=1)"
   ]
  },
  {
   "cell_type": "markdown",
   "metadata": {},
   "source": [
    "## Tables ##"
   ]
  },
  {
   "cell_type": "code",
   "execution_count": 2,
   "metadata": {},
   "outputs": [
    {
     "data": {
      "text/html": [
       "<table border=\"1\" class=\"dataframe\">\n",
       "    <thead>\n",
       "        <tr>\n",
       "            <th>Flavor</th> <th>Color</th> <th>Price</th>\n",
       "        </tr>\n",
       "    </thead>\n",
       "    <tbody>\n",
       "        <tr>\n",
       "            <td>strawberry</td> <td>pink       </td> <td>3.55 </td>\n",
       "        </tr>\n",
       "        <tr>\n",
       "            <td>chocolate </td> <td>light brown</td> <td>4.75 </td>\n",
       "        </tr>\n",
       "        <tr>\n",
       "            <td>chocolate </td> <td>dark brown </td> <td>5.25 </td>\n",
       "        </tr>\n",
       "        <tr>\n",
       "            <td>strawberry</td> <td>pink       </td> <td>5.25 </td>\n",
       "        </tr>\n",
       "        <tr>\n",
       "            <td>chocolate </td> <td>dark brown </td> <td>5.25 </td>\n",
       "        </tr>\n",
       "        <tr>\n",
       "            <td>bubblegum </td> <td>pink       </td> <td>4.75 </td>\n",
       "        </tr>\n",
       "    </tbody>\n",
       "</table>"
      ],
      "text/plain": [
       "Flavor     | Color       | Price\n",
       "strawberry | pink        | 3.55\n",
       "chocolate  | light brown | 4.75\n",
       "chocolate  | dark brown  | 5.25\n",
       "strawberry | pink        | 5.25\n",
       "chocolate  | dark brown  | 5.25\n",
       "bubblegum  | pink        | 4.75"
      ]
     },
     "execution_count": 2,
     "metadata": {},
     "output_type": "execute_result"
    }
   ],
   "source": [
    "cones = Table.read_table('cones.csv')\n",
    "cones"
   ]
  },
  {
   "cell_type": "code",
   "execution_count": 3,
   "metadata": {},
   "outputs": [
    {
     "data": {
      "text/html": [
       "<table border=\"1\" class=\"dataframe\">\n",
       "    <thead>\n",
       "        <tr>\n",
       "            <th>Flavor</th> <th>Color</th> <th>Price</th>\n",
       "        </tr>\n",
       "    </thead>\n",
       "    <tbody>\n",
       "        <tr>\n",
       "            <td>strawberry</td> <td>pink       </td> <td>3.55 </td>\n",
       "        </tr>\n",
       "        <tr>\n",
       "            <td>chocolate </td> <td>light brown</td> <td>4.75 </td>\n",
       "        </tr>\n",
       "        <tr>\n",
       "            <td>chocolate </td> <td>dark brown </td> <td>5.25 </td>\n",
       "        </tr>\n",
       "    </tbody>\n",
       "</table>\n",
       "<p>... (3 rows omitted)</p>"
      ],
      "text/plain": [
       "<IPython.core.display.HTML object>"
      ]
     },
     "metadata": {},
     "output_type": "display_data"
    }
   ],
   "source": [
    "cones.show(3)"
   ]
  },
  {
   "cell_type": "code",
   "execution_count": 4,
   "metadata": {},
   "outputs": [
    {
     "data": {
      "text/html": [
       "<table border=\"1\" class=\"dataframe\">\n",
       "    <thead>\n",
       "        <tr>\n",
       "            <th>Flavor</th> <th>Color</th> <th>Price</th>\n",
       "        </tr>\n",
       "    </thead>\n",
       "    <tbody>\n",
       "        <tr>\n",
       "            <td>strawberry</td> <td>pink       </td> <td>3.55 </td>\n",
       "        </tr>\n",
       "        <tr>\n",
       "            <td>chocolate </td> <td>light brown</td> <td>4.75 </td>\n",
       "        </tr>\n",
       "        <tr>\n",
       "            <td>chocolate </td> <td>dark brown </td> <td>5.25 </td>\n",
       "        </tr>\n",
       "        <tr>\n",
       "            <td>strawberry</td> <td>pink       </td> <td>5.25 </td>\n",
       "        </tr>\n",
       "        <tr>\n",
       "            <td>chocolate </td> <td>dark brown </td> <td>5.25 </td>\n",
       "        </tr>\n",
       "        <tr>\n",
       "            <td>bubblegum </td> <td>pink       </td> <td>4.75 </td>\n",
       "        </tr>\n",
       "    </tbody>\n",
       "</table>"
      ],
      "text/plain": [
       "<IPython.core.display.HTML object>"
      ]
     },
     "metadata": {},
     "output_type": "display_data"
    }
   ],
   "source": [
    "cones.show()"
   ]
  },
  {
   "cell_type": "code",
   "execution_count": 5,
   "metadata": {},
   "outputs": [
    {
     "data": {
      "text/html": [
       "<table border=\"1\" class=\"dataframe\">\n",
       "    <thead>\n",
       "        <tr>\n",
       "            <th>Flavor</th>\n",
       "        </tr>\n",
       "    </thead>\n",
       "    <tbody>\n",
       "        <tr>\n",
       "            <td>strawberry</td>\n",
       "        </tr>\n",
       "        <tr>\n",
       "            <td>chocolate </td>\n",
       "        </tr>\n",
       "        <tr>\n",
       "            <td>chocolate </td>\n",
       "        </tr>\n",
       "        <tr>\n",
       "            <td>strawberry</td>\n",
       "        </tr>\n",
       "        <tr>\n",
       "            <td>chocolate </td>\n",
       "        </tr>\n",
       "        <tr>\n",
       "            <td>bubblegum </td>\n",
       "        </tr>\n",
       "    </tbody>\n",
       "</table>"
      ],
      "text/plain": [
       "Flavor\n",
       "strawberry\n",
       "chocolate\n",
       "chocolate\n",
       "strawberry\n",
       "chocolate\n",
       "bubblegum"
      ]
     },
     "execution_count": 5,
     "metadata": {},
     "output_type": "execute_result"
    }
   ],
   "source": [
    "cones.select('Flavor')"
   ]
  },
  {
   "cell_type": "code",
   "execution_count": 6,
   "metadata": {},
   "outputs": [
    {
     "data": {
      "text/html": [
       "<table border=\"1\" class=\"dataframe\">\n",
       "    <thead>\n",
       "        <tr>\n",
       "            <th>Flavor</th> <th>Price</th>\n",
       "        </tr>\n",
       "    </thead>\n",
       "    <tbody>\n",
       "        <tr>\n",
       "            <td>strawberry</td> <td>3.55 </td>\n",
       "        </tr>\n",
       "        <tr>\n",
       "            <td>chocolate </td> <td>4.75 </td>\n",
       "        </tr>\n",
       "        <tr>\n",
       "            <td>chocolate </td> <td>5.25 </td>\n",
       "        </tr>\n",
       "        <tr>\n",
       "            <td>strawberry</td> <td>5.25 </td>\n",
       "        </tr>\n",
       "        <tr>\n",
       "            <td>chocolate </td> <td>5.25 </td>\n",
       "        </tr>\n",
       "        <tr>\n",
       "            <td>bubblegum </td> <td>4.75 </td>\n",
       "        </tr>\n",
       "    </tbody>\n",
       "</table>"
      ],
      "text/plain": [
       "Flavor     | Price\n",
       "strawberry | 3.55\n",
       "chocolate  | 4.75\n",
       "chocolate  | 5.25\n",
       "strawberry | 5.25\n",
       "chocolate  | 5.25\n",
       "bubblegum  | 4.75"
      ]
     },
     "execution_count": 6,
     "metadata": {},
     "output_type": "execute_result"
    }
   ],
   "source": [
    "cones.select('Flavor', 'Price')"
   ]
  },
  {
   "cell_type": "code",
   "execution_count": 7,
   "metadata": {},
   "outputs": [
    {
     "ename": "NameError",
     "evalue": "name 'Flavor' is not defined",
     "output_type": "error",
     "traceback": [
      "\u001b[1;31m---------------------------------------------------------------------------\u001b[0m",
      "\u001b[1;31mNameError\u001b[0m                                 Traceback (most recent call last)",
      "\u001b[1;32m<ipython-input-7-90b78adc5c4e>\u001b[0m in \u001b[0;36m<module>\u001b[1;34m\u001b[0m\n\u001b[1;32m----> 1\u001b[1;33m \u001b[0mcones\u001b[0m\u001b[1;33m.\u001b[0m\u001b[0mselect\u001b[0m\u001b[1;33m(\u001b[0m\u001b[0mFlavor\u001b[0m\u001b[1;33m,\u001b[0m \u001b[1;34m'Price'\u001b[0m\u001b[1;33m)\u001b[0m\u001b[1;33m\u001b[0m\u001b[1;33m\u001b[0m\u001b[0m\n\u001b[0m",
      "\u001b[1;31mNameError\u001b[0m: name 'Flavor' is not defined"
     ]
    }
   ],
   "source": [
    "cones.select(Flavor, 'Price')"
   ]
  },
  {
   "cell_type": "code",
   "execution_count": 8,
   "metadata": {},
   "outputs": [
    {
     "data": {
      "text/html": [
       "<table border=\"1\" class=\"dataframe\">\n",
       "    <thead>\n",
       "        <tr>\n",
       "            <th>Flavor</th> <th>Color</th>\n",
       "        </tr>\n",
       "    </thead>\n",
       "    <tbody>\n",
       "        <tr>\n",
       "            <td>strawberry</td> <td>pink       </td>\n",
       "        </tr>\n",
       "        <tr>\n",
       "            <td>chocolate </td> <td>light brown</td>\n",
       "        </tr>\n",
       "        <tr>\n",
       "            <td>chocolate </td> <td>dark brown </td>\n",
       "        </tr>\n",
       "        <tr>\n",
       "            <td>strawberry</td> <td>pink       </td>\n",
       "        </tr>\n",
       "        <tr>\n",
       "            <td>chocolate </td> <td>dark brown </td>\n",
       "        </tr>\n",
       "        <tr>\n",
       "            <td>bubblegum </td> <td>pink       </td>\n",
       "        </tr>\n",
       "    </tbody>\n",
       "</table>"
      ],
      "text/plain": [
       "Flavor     | Color\n",
       "strawberry | pink\n",
       "chocolate  | light brown\n",
       "chocolate  | dark brown\n",
       "strawberry | pink\n",
       "chocolate  | dark brown\n",
       "bubblegum  | pink"
      ]
     },
     "execution_count": 8,
     "metadata": {},
     "output_type": "execute_result"
    }
   ],
   "source": [
    "cones.drop('Price')"
   ]
  },
  {
   "cell_type": "code",
   "execution_count": 9,
   "metadata": {},
   "outputs": [
    {
     "data": {
      "text/html": [
       "<table border=\"1\" class=\"dataframe\">\n",
       "    <thead>\n",
       "        <tr>\n",
       "            <th>Flavor</th> <th>Color</th> <th>Price</th>\n",
       "        </tr>\n",
       "    </thead>\n",
       "    <tbody>\n",
       "        <tr>\n",
       "            <td>strawberry</td> <td>pink       </td> <td>3.55 </td>\n",
       "        </tr>\n",
       "        <tr>\n",
       "            <td>chocolate </td> <td>light brown</td> <td>4.75 </td>\n",
       "        </tr>\n",
       "        <tr>\n",
       "            <td>chocolate </td> <td>dark brown </td> <td>5.25 </td>\n",
       "        </tr>\n",
       "        <tr>\n",
       "            <td>strawberry</td> <td>pink       </td> <td>5.25 </td>\n",
       "        </tr>\n",
       "        <tr>\n",
       "            <td>chocolate </td> <td>dark brown </td> <td>5.25 </td>\n",
       "        </tr>\n",
       "        <tr>\n",
       "            <td>bubblegum </td> <td>pink       </td> <td>4.75 </td>\n",
       "        </tr>\n",
       "    </tbody>\n",
       "</table>"
      ],
      "text/plain": [
       "Flavor     | Color       | Price\n",
       "strawberry | pink        | 3.55\n",
       "chocolate  | light brown | 4.75\n",
       "chocolate  | dark brown  | 5.25\n",
       "strawberry | pink        | 5.25\n",
       "chocolate  | dark brown  | 5.25\n",
       "bubblegum  | pink        | 4.75"
      ]
     },
     "execution_count": 9,
     "metadata": {},
     "output_type": "execute_result"
    }
   ],
   "source": [
    "cones"
   ]
  },
  {
   "cell_type": "code",
   "execution_count": 10,
   "metadata": {},
   "outputs": [
    {
     "data": {
      "text/html": [
       "<table border=\"1\" class=\"dataframe\">\n",
       "    <thead>\n",
       "        <tr>\n",
       "            <th>Flavor</th> <th>Color</th>\n",
       "        </tr>\n",
       "    </thead>\n",
       "    <tbody>\n",
       "        <tr>\n",
       "            <td>strawberry</td> <td>pink       </td>\n",
       "        </tr>\n",
       "        <tr>\n",
       "            <td>chocolate </td> <td>light brown</td>\n",
       "        </tr>\n",
       "        <tr>\n",
       "            <td>chocolate </td> <td>dark brown </td>\n",
       "        </tr>\n",
       "        <tr>\n",
       "            <td>strawberry</td> <td>pink       </td>\n",
       "        </tr>\n",
       "        <tr>\n",
       "            <td>chocolate </td> <td>dark brown </td>\n",
       "        </tr>\n",
       "        <tr>\n",
       "            <td>bubblegum </td> <td>pink       </td>\n",
       "        </tr>\n",
       "    </tbody>\n",
       "</table>"
      ],
      "text/plain": [
       "Flavor     | Color\n",
       "strawberry | pink\n",
       "chocolate  | light brown\n",
       "chocolate  | dark brown\n",
       "strawberry | pink\n",
       "chocolate  | dark brown\n",
       "bubblegum  | pink"
      ]
     },
     "execution_count": 10,
     "metadata": {},
     "output_type": "execute_result"
    }
   ],
   "source": [
    "cones_without_price = cones.drop('Price')\n",
    "cones_without_price"
   ]
  },
  {
   "cell_type": "code",
   "execution_count": 11,
   "metadata": {
    "scrolled": true
   },
   "outputs": [
    {
     "data": {
      "text/html": [
       "<table border=\"1\" class=\"dataframe\">\n",
       "    <thead>\n",
       "        <tr>\n",
       "            <th>Flavor</th> <th>Color</th> <th>Price</th>\n",
       "        </tr>\n",
       "    </thead>\n",
       "    <tbody>\n",
       "        <tr>\n",
       "            <td>chocolate</td> <td>light brown</td> <td>4.75 </td>\n",
       "        </tr>\n",
       "        <tr>\n",
       "            <td>chocolate</td> <td>dark brown </td> <td>5.25 </td>\n",
       "        </tr>\n",
       "        <tr>\n",
       "            <td>chocolate</td> <td>dark brown </td> <td>5.25 </td>\n",
       "        </tr>\n",
       "    </tbody>\n",
       "</table>"
      ],
      "text/plain": [
       "Flavor    | Color       | Price\n",
       "chocolate | light brown | 4.75\n",
       "chocolate | dark brown  | 5.25\n",
       "chocolate | dark brown  | 5.25"
      ]
     },
     "execution_count": 11,
     "metadata": {},
     "output_type": "execute_result"
    }
   ],
   "source": [
    "cones.where('Flavor', 'chocolate')"
   ]
  },
  {
   "cell_type": "code",
   "execution_count": 12,
   "metadata": {},
   "outputs": [
    {
     "data": {
      "text/html": [
       "<table border=\"1\" class=\"dataframe\">\n",
       "    <thead>\n",
       "        <tr>\n",
       "            <th>Flavor</th> <th>Color</th> <th>Price</th>\n",
       "        </tr>\n",
       "    </thead>\n",
       "    <tbody>\n",
       "        <tr>\n",
       "            <td>strawberry</td> <td>pink       </td> <td>3.55 </td>\n",
       "        </tr>\n",
       "        <tr>\n",
       "            <td>chocolate </td> <td>light brown</td> <td>4.75 </td>\n",
       "        </tr>\n",
       "        <tr>\n",
       "            <td>bubblegum </td> <td>pink       </td> <td>4.75 </td>\n",
       "        </tr>\n",
       "        <tr>\n",
       "            <td>chocolate </td> <td>dark brown </td> <td>5.25 </td>\n",
       "        </tr>\n",
       "        <tr>\n",
       "            <td>strawberry</td> <td>pink       </td> <td>5.25 </td>\n",
       "        </tr>\n",
       "        <tr>\n",
       "            <td>chocolate </td> <td>dark brown </td> <td>5.25 </td>\n",
       "        </tr>\n",
       "    </tbody>\n",
       "</table>"
      ],
      "text/plain": [
       "Flavor     | Color       | Price\n",
       "strawberry | pink        | 3.55\n",
       "chocolate  | light brown | 4.75\n",
       "bubblegum  | pink        | 4.75\n",
       "chocolate  | dark brown  | 5.25\n",
       "strawberry | pink        | 5.25\n",
       "chocolate  | dark brown  | 5.25"
      ]
     },
     "execution_count": 12,
     "metadata": {},
     "output_type": "execute_result"
    }
   ],
   "source": [
    "cones.sort('Price')"
   ]
  },
  {
   "cell_type": "code",
   "execution_count": 13,
   "metadata": {
    "scrolled": true
   },
   "outputs": [
    {
     "data": {
      "text/html": [
       "<table border=\"1\" class=\"dataframe\">\n",
       "    <thead>\n",
       "        <tr>\n",
       "            <th>Flavor</th> <th>Color</th> <th>Price</th>\n",
       "        </tr>\n",
       "    </thead>\n",
       "    <tbody>\n",
       "        <tr>\n",
       "            <td>chocolate </td> <td>dark brown </td> <td>5.25 </td>\n",
       "        </tr>\n",
       "        <tr>\n",
       "            <td>strawberry</td> <td>pink       </td> <td>5.25 </td>\n",
       "        </tr>\n",
       "        <tr>\n",
       "            <td>chocolate </td> <td>dark brown </td> <td>5.25 </td>\n",
       "        </tr>\n",
       "        <tr>\n",
       "            <td>chocolate </td> <td>light brown</td> <td>4.75 </td>\n",
       "        </tr>\n",
       "        <tr>\n",
       "            <td>bubblegum </td> <td>pink       </td> <td>4.75 </td>\n",
       "        </tr>\n",
       "        <tr>\n",
       "            <td>strawberry</td> <td>pink       </td> <td>3.55 </td>\n",
       "        </tr>\n",
       "    </tbody>\n",
       "</table>"
      ],
      "text/plain": [
       "Flavor     | Color       | Price\n",
       "chocolate  | dark brown  | 5.25\n",
       "strawberry | pink        | 5.25\n",
       "chocolate  | dark brown  | 5.25\n",
       "chocolate  | light brown | 4.75\n",
       "bubblegum  | pink        | 4.75\n",
       "strawberry | pink        | 3.55"
      ]
     },
     "execution_count": 13,
     "metadata": {},
     "output_type": "execute_result"
    }
   ],
   "source": [
    "cones.sort('Price', descending=True)"
   ]
  },
  {
   "cell_type": "code",
   "execution_count": 14,
   "metadata": {},
   "outputs": [
    {
     "data": {
      "text/html": [
       "<table border=\"1\" class=\"dataframe\">\n",
       "    <thead>\n",
       "        <tr>\n",
       "            <th>Flavor</th> <th>Color</th> <th>Price</th>\n",
       "        </tr>\n",
       "    </thead>\n",
       "    <tbody>\n",
       "        <tr>\n",
       "            <td>bubblegum </td> <td>pink       </td> <td>4.75 </td>\n",
       "        </tr>\n",
       "        <tr>\n",
       "            <td>chocolate </td> <td>light brown</td> <td>4.75 </td>\n",
       "        </tr>\n",
       "        <tr>\n",
       "            <td>chocolate </td> <td>dark brown </td> <td>5.25 </td>\n",
       "        </tr>\n",
       "        <tr>\n",
       "            <td>chocolate </td> <td>dark brown </td> <td>5.25 </td>\n",
       "        </tr>\n",
       "        <tr>\n",
       "            <td>strawberry</td> <td>pink       </td> <td>3.55 </td>\n",
       "        </tr>\n",
       "        <tr>\n",
       "            <td>strawberry</td> <td>pink       </td> <td>5.25 </td>\n",
       "        </tr>\n",
       "    </tbody>\n",
       "</table>"
      ],
      "text/plain": [
       "Flavor     | Color       | Price\n",
       "bubblegum  | pink        | 4.75\n",
       "chocolate  | light brown | 4.75\n",
       "chocolate  | dark brown  | 5.25\n",
       "chocolate  | dark brown  | 5.25\n",
       "strawberry | pink        | 3.55\n",
       "strawberry | pink        | 5.25"
      ]
     },
     "execution_count": 14,
     "metadata": {},
     "output_type": "execute_result"
    }
   ],
   "source": [
    "cones.sort('Flavor')"
   ]
  },
  {
   "cell_type": "markdown",
   "metadata": {},
   "source": [
    "### A more interesting table"
   ]
  },
  {
   "cell_type": "code",
   "execution_count": 15,
   "metadata": {},
   "outputs": [
    {
     "data": {
      "text/html": [
       "<table border=\"1\" class=\"dataframe\">\n",
       "    <thead>\n",
       "        <tr>\n",
       "            <th>name</th> <th>material</th> <th>city</th> <th>height</th> <th>completed</th>\n",
       "        </tr>\n",
       "    </thead>\n",
       "    <tbody>\n",
       "        <tr>\n",
       "            <td>One World Trade Center           </td> <td>composite</td> <td>New York City</td> <td>541.3 </td> <td>2014     </td>\n",
       "        </tr>\n",
       "        <tr>\n",
       "            <td>Willis Tower                     </td> <td>steel    </td> <td>Chicago      </td> <td>442.14</td> <td>1974     </td>\n",
       "        </tr>\n",
       "        <tr>\n",
       "            <td>432 Park Avenue                  </td> <td>concrete </td> <td>New York City</td> <td>425.5 </td> <td>2015     </td>\n",
       "        </tr>\n",
       "        <tr>\n",
       "            <td>Trump International Hotel & Tower</td> <td>concrete </td> <td>Chicago      </td> <td>423.22</td> <td>2009     </td>\n",
       "        </tr>\n",
       "        <tr>\n",
       "            <td>Empire State Building            </td> <td>steel    </td> <td>New York City</td> <td>381   </td> <td>1931     </td>\n",
       "        </tr>\n",
       "        <tr>\n",
       "            <td>Bank of America Tower            </td> <td>composite</td> <td>New York City</td> <td>365.8 </td> <td>2009     </td>\n",
       "        </tr>\n",
       "        <tr>\n",
       "            <td>Stratosphere Tower               </td> <td>concrete </td> <td>Las Vegas    </td> <td>350.22</td> <td>1996     </td>\n",
       "        </tr>\n",
       "        <tr>\n",
       "            <td>Aon Center                       </td> <td>steel    </td> <td>Chicago      </td> <td>346.26</td> <td>1973     </td>\n",
       "        </tr>\n",
       "        <tr>\n",
       "            <td>John Hancock Center              </td> <td>steel    </td> <td>Chicago      </td> <td>343.69</td> <td>1969     </td>\n",
       "        </tr>\n",
       "        <tr>\n",
       "            <td>WITI TV Tower                    </td> <td>steel    </td> <td>Shorewood    </td> <td>329   </td> <td>1962     </td>\n",
       "        </tr>\n",
       "    </tbody>\n",
       "</table>\n",
       "<p>... (190 rows omitted)</p>"
      ],
      "text/plain": [
       "name                              | material  | city          | height | completed\n",
       "One World Trade Center            | composite | New York City | 541.3  | 2014\n",
       "Willis Tower                      | steel     | Chicago       | 442.14 | 1974\n",
       "432 Park Avenue                   | concrete  | New York City | 425.5  | 2015\n",
       "Trump International Hotel & Tower | concrete  | Chicago       | 423.22 | 2009\n",
       "Empire State Building             | steel     | New York City | 381    | 1931\n",
       "Bank of America Tower             | composite | New York City | 365.8  | 2009\n",
       "Stratosphere Tower                | concrete  | Las Vegas     | 350.22 | 1996\n",
       "Aon Center                        | steel     | Chicago       | 346.26 | 1973\n",
       "John Hancock Center               | steel     | Chicago       | 343.69 | 1969\n",
       "WITI TV Tower                     | steel     | Shorewood     | 329    | 1962\n",
       "... (190 rows omitted)"
      ]
     },
     "execution_count": 15,
     "metadata": {},
     "output_type": "execute_result"
    }
   ],
   "source": [
    "skyscrapers = Table.read_table('skyscrapers.csv')\n",
    "skyscrapers"
   ]
  },
  {
   "cell_type": "code",
   "execution_count": 16,
   "metadata": {},
   "outputs": [
    {
     "data": {
      "text/html": [
       "<table border=\"1\" class=\"dataframe\">\n",
       "    <thead>\n",
       "        <tr>\n",
       "            <th>name</th> <th>material</th> <th>city</th> <th>height</th> <th>completed</th>\n",
       "        </tr>\n",
       "    </thead>\n",
       "    <tbody>\n",
       "        <tr>\n",
       "            <td>U.S. Bank Tower      </td> <td>steel   </td> <td>Los Angeles</td> <td>310.29</td> <td>1990     </td>\n",
       "        </tr>\n",
       "        <tr>\n",
       "            <td>Aon Center           </td> <td>steel   </td> <td>Los Angeles</td> <td>261.52</td> <td>1974     </td>\n",
       "        </tr>\n",
       "        <tr>\n",
       "            <td>Two California Plaza </td> <td>steel   </td> <td>Los Angeles</td> <td>228.6 </td> <td>1992     </td>\n",
       "        </tr>\n",
       "        <tr>\n",
       "            <td>Gas Company Tower    </td> <td>steel   </td> <td>Los Angeles</td> <td>228.3 </td> <td>1991     </td>\n",
       "        </tr>\n",
       "        <tr>\n",
       "            <td>Bank of America Plaza</td> <td>steel   </td> <td>Los Angeles</td> <td>224.03</td> <td>1975     </td>\n",
       "        </tr>\n",
       "        <tr>\n",
       "            <td>777 Tower            </td> <td>steel   </td> <td>Los Angeles</td> <td>221   </td> <td>1991     </td>\n",
       "        </tr>\n",
       "        <tr>\n",
       "            <td>Wells Fargo Tower    </td> <td>steel   </td> <td>Los Angeles</td> <td>220.37</td> <td>1983     </td>\n",
       "        </tr>\n",
       "        <tr>\n",
       "            <td>Figueroa at Wilshire </td> <td>steel   </td> <td>Los Angeles</td> <td>218.54</td> <td>1989     </td>\n",
       "        </tr>\n",
       "        <tr>\n",
       "            <td>City National Tower  </td> <td>steel   </td> <td>Los Angeles</td> <td>213.06</td> <td>1971     </td>\n",
       "        </tr>\n",
       "        <tr>\n",
       "            <td>Paul Hastings Tower  </td> <td>steel   </td> <td>Los Angeles</td> <td>213.06</td> <td>1971     </td>\n",
       "        </tr>\n",
       "    </tbody>\n",
       "</table>\n",
       "<p>... (1 rows omitted)</p>"
      ],
      "text/plain": [
       "name                  | material | city        | height | completed\n",
       "U.S. Bank Tower       | steel    | Los Angeles | 310.29 | 1990\n",
       "Aon Center            | steel    | Los Angeles | 261.52 | 1974\n",
       "Two California Plaza  | steel    | Los Angeles | 228.6  | 1992\n",
       "Gas Company Tower     | steel    | Los Angeles | 228.3  | 1991\n",
       "Bank of America Plaza | steel    | Los Angeles | 224.03 | 1975\n",
       "777 Tower             | steel    | Los Angeles | 221    | 1991\n",
       "Wells Fargo Tower     | steel    | Los Angeles | 220.37 | 1983\n",
       "Figueroa at Wilshire  | steel    | Los Angeles | 218.54 | 1989\n",
       "City National Tower   | steel    | Los Angeles | 213.06 | 1971\n",
       "Paul Hastings Tower   | steel    | Los Angeles | 213.06 | 1971\n",
       "... (1 rows omitted)"
      ]
     },
     "execution_count": 16,
     "metadata": {},
     "output_type": "execute_result"
    }
   ],
   "source": [
    "skyscrapers.where('city', 'Los Angeles')"
   ]
  },
  {
   "cell_type": "code",
   "execution_count": 18,
   "metadata": {},
   "outputs": [
    {
     "data": {
      "text/html": [
       "<table border=\"1\" class=\"dataframe\">\n",
       "    <thead>\n",
       "        <tr>\n",
       "            <th>name</th> <th>material</th> <th>city</th> <th>height</th> <th>completed</th>\n",
       "        </tr>\n",
       "    </thead>\n",
       "    <tbody>\n",
       "        <tr>\n",
       "            <td>Empire State Building</td> <td>steel   </td> <td>New York City</td> <td>381   </td> <td>1931     </td>\n",
       "        </tr>\n",
       "    </tbody>\n",
       "</table>"
      ],
      "text/plain": [
       "name                  | material | city          | height | completed\n",
       "Empire State Building | steel    | New York City | 381    | 1931"
      ]
     },
     "execution_count": 18,
     "metadata": {},
     "output_type": "execute_result"
    }
   ],
   "source": [
    "skyscrapers.where('name', 'Empire State Building')"
   ]
  },
  {
   "cell_type": "code",
   "execution_count": 22,
   "metadata": {},
   "outputs": [
    {
     "data": {
      "text/html": [
       "<table border=\"1\" class=\"dataframe\">\n",
       "    <thead>\n",
       "        <tr>\n",
       "            <th>name</th> <th>material</th> <th>city</th> <th>height</th> <th>completed</th>\n",
       "        </tr>\n",
       "    </thead>\n",
       "    <tbody>\n",
       "        <tr>\n",
       "            <td>Metropolitan Life Tower       </td> <td>steel         </td> <td>New York City</td> <td>213.36</td> <td>1909     </td>\n",
       "        </tr>\n",
       "        <tr>\n",
       "            <td>Woolworth Building            </td> <td>steel         </td> <td>New York City</td> <td>241.4 </td> <td>1913     </td>\n",
       "        </tr>\n",
       "        <tr>\n",
       "            <td>Chanin Building               </td> <td>steel         </td> <td>New York City</td> <td>197.8 </td> <td>1929     </td>\n",
       "        </tr>\n",
       "        <tr>\n",
       "            <td>Mercantile Building           </td> <td>steel         </td> <td>New York City</td> <td>192.6 </td> <td>1929     </td>\n",
       "        </tr>\n",
       "        <tr>\n",
       "            <td>Chrysler Building             </td> <td>steel         </td> <td>New York City</td> <td>318.9 </td> <td>1930     </td>\n",
       "        </tr>\n",
       "        <tr>\n",
       "            <td>The Trump Building            </td> <td>steel         </td> <td>New York City</td> <td>282.55</td> <td>1930     </td>\n",
       "        </tr>\n",
       "        <tr>\n",
       "            <td>One Grand Central Place       </td> <td>steel         </td> <td>New York City</td> <td>205.13</td> <td>1930     </td>\n",
       "        </tr>\n",
       "        <tr>\n",
       "            <td>Empire State Building         </td> <td>steel         </td> <td>New York City</td> <td>381   </td> <td>1931     </td>\n",
       "        </tr>\n",
       "        <tr>\n",
       "            <td>Twenty Exchange               </td> <td>steel         </td> <td>New York City</td> <td>225.86</td> <td>1931     </td>\n",
       "        </tr>\n",
       "        <tr>\n",
       "            <td>500 Fifth Avenue              </td> <td>steel         </td> <td>New York City</td> <td>212.45</td> <td>1931     </td>\n",
       "        </tr>\n",
       "        <tr>\n",
       "            <td>570 Lexington Avenue          </td> <td>steel         </td> <td>New York City</td> <td>196   </td> <td>1931     </td>\n",
       "        </tr>\n",
       "        <tr>\n",
       "            <td>70 Pine                       </td> <td>steel         </td> <td>New York City</td> <td>290.17</td> <td>1932     </td>\n",
       "        </tr>\n",
       "        <tr>\n",
       "            <td>One Wall Street               </td> <td>steel         </td> <td>New York City</td> <td>199.34</td> <td>1932     </td>\n",
       "        </tr>\n",
       "        <tr>\n",
       "            <td>Comcast Building              </td> <td>steel         </td> <td>New York City</td> <td>259.08</td> <td>1933     </td>\n",
       "        </tr>\n",
       "        <tr>\n",
       "            <td>JPMorgan Chase Tower          </td> <td>steel         </td> <td>New York City</td> <td>215.5 </td> <td>1960     </td>\n",
       "        </tr>\n",
       "        <tr>\n",
       "            <td>28 Liberty                    </td> <td>steel         </td> <td>New York City</td> <td>247.81</td> <td>1961     </td>\n",
       "        </tr>\n",
       "        <tr>\n",
       "            <td>MetLife Building              </td> <td>steel         </td> <td>New York City</td> <td>246.28</td> <td>1963     </td>\n",
       "        </tr>\n",
       "        <tr>\n",
       "            <td>277 Park Avenue               </td> <td>steel         </td> <td>New York City</td> <td>209.4 </td> <td>1963     </td>\n",
       "        </tr>\n",
       "        <tr>\n",
       "            <td>HSBC Bank Building            </td> <td>steel         </td> <td>New York City</td> <td>209.71</td> <td>1967     </td>\n",
       "        </tr>\n",
       "        <tr>\n",
       "            <td>245 Park Avenue               </td> <td>steel         </td> <td>New York City</td> <td>197.51</td> <td>1967     </td>\n",
       "        </tr>\n",
       "        <tr>\n",
       "            <td>General Motors Building       </td> <td>steel         </td> <td>New York City</td> <td>214.89</td> <td>1968     </td>\n",
       "        </tr>\n",
       "        <tr>\n",
       "            <td>1 New York Plaza              </td> <td>steel         </td> <td>New York City</td> <td>195.07</td> <td>1969     </td>\n",
       "        </tr>\n",
       "        <tr>\n",
       "            <td>345 Park Avenue               </td> <td>steel         </td> <td>New York City</td> <td>193.25</td> <td>1969     </td>\n",
       "        </tr>\n",
       "        <tr>\n",
       "            <td>Paramount Plaza               </td> <td>steel         </td> <td>New York City</td> <td>204.22</td> <td>1970     </td>\n",
       "        </tr>\n",
       "        <tr>\n",
       "            <td>One Penn Plaza                </td> <td>steel         </td> <td>New York City</td> <td>228.6 </td> <td>1972     </td>\n",
       "        </tr>\n",
       "        <tr>\n",
       "            <td>1251 Avenue of the Americas   </td> <td>steel         </td> <td>New York City</td> <td>228.6 </td> <td>1972     </td>\n",
       "        </tr>\n",
       "        <tr>\n",
       "            <td>One Astor Plaza               </td> <td>composite     </td> <td>New York City</td> <td>227.08</td> <td>1972     </td>\n",
       "        </tr>\n",
       "        <tr>\n",
       "            <td>One Liberty Plaza             </td> <td>steel         </td> <td>New York City</td> <td>226.47</td> <td>1972     </td>\n",
       "        </tr>\n",
       "        <tr>\n",
       "            <td>55 Water Street               </td> <td>steel         </td> <td>New York City</td> <td>209.4 </td> <td>1972     </td>\n",
       "        </tr>\n",
       "        <tr>\n",
       "            <td>McGraw-Hill Building          </td> <td>steel         </td> <td>New York City</td> <td>205.44</td> <td>1972     </td>\n",
       "        </tr>\n",
       "        <tr>\n",
       "            <td>Solow Building                </td> <td>steel         </td> <td>New York City</td> <td>210   </td> <td>1974     </td>\n",
       "        </tr>\n",
       "        <tr>\n",
       "            <td>Citigroup Center              </td> <td>steel         </td> <td>New York City</td> <td>278.9 </td> <td>1977     </td>\n",
       "        </tr>\n",
       "        <tr>\n",
       "            <td>Trump Tower                   </td> <td>concrete      </td> <td>New York City</td> <td>202.39</td> <td>1982     </td>\n",
       "        </tr>\n",
       "        <tr>\n",
       "            <td>550 Madison Avenue            </td> <td>steel         </td> <td>New York City</td> <td>197.32</td> <td>1983     </td>\n",
       "        </tr>\n",
       "        <tr>\n",
       "            <td>AXA Center                    </td> <td>steel         </td> <td>New York City</td> <td>229.21</td> <td>1985     </td>\n",
       "        </tr>\n",
       "        <tr>\n",
       "            <td>Metropolitan Tower            </td> <td>concrete      </td> <td>New York City</td> <td>218.24</td> <td>1985     </td>\n",
       "        </tr>\n",
       "        <tr>\n",
       "            <td>Three World Financial Center  </td> <td>steel         </td> <td>New York City</td> <td>225.2 </td> <td>1986     </td>\n",
       "        </tr>\n",
       "        <tr>\n",
       "            <td>599 Lexington Avenue          </td> <td>steel         </td> <td>New York City</td> <td>199.04</td> <td>1986     </td>\n",
       "        </tr>\n",
       "        <tr>\n",
       "            <td>Two World Financial Center    </td> <td>steel         </td> <td>New York City</td> <td>196.6 </td> <td>1986     </td>\n",
       "        </tr>\n",
       "        <tr>\n",
       "            <td>CitySpire                     </td> <td>concrete      </td> <td>New York City</td> <td>248.11</td> <td>1987     </td>\n",
       "        </tr>\n",
       "        <tr>\n",
       "            <td>1 Worldwide Plaza             </td> <td>steel         </td> <td>New York City</td> <td>237.14</td> <td>1989     </td>\n",
       "        </tr>\n",
       "        <tr>\n",
       "            <td>60 Wall Street                </td> <td>steel         </td> <td>New York City</td> <td>227.08</td> <td>1989     </td>\n",
       "        </tr>\n",
       "        <tr>\n",
       "            <td>Citigroup Building            </td> <td>steel         </td> <td>New York City</td> <td>205.13</td> <td>1990     </td>\n",
       "        </tr>\n",
       "        <tr>\n",
       "            <td>712 5th Avenue                </td> <td>steel         </td> <td>New York City</td> <td>198.12</td> <td>1990     </td>\n",
       "        </tr>\n",
       "        <tr>\n",
       "            <td>Carnegie Hall Tower           </td> <td>concrete      </td> <td>New York City</td> <td>230.74</td> <td>1991     </td>\n",
       "        </tr>\n",
       "        <tr>\n",
       "            <td>Americas Tower                </td> <td>steel         </td> <td>New York City</td> <td>210.92</td> <td>1992     </td>\n",
       "        </tr>\n",
       "        <tr>\n",
       "            <td>Four Seasons Hotel            </td> <td>concrete      </td> <td>New York City</td> <td>207.88</td> <td>1993     </td>\n",
       "        </tr>\n",
       "        <tr>\n",
       "            <td>4 Times Square                </td> <td>steel         </td> <td>New York City</td> <td>246.54</td> <td>1999     </td>\n",
       "        </tr>\n",
       "        <tr>\n",
       "            <td>Trump World Tower             </td> <td>concrete      </td> <td>New York City</td> <td>262.44</td> <td>2001     </td>\n",
       "        </tr>\n",
       "        <tr>\n",
       "            <td>383 Madison Avenue            </td> <td>steel         </td> <td>New York City</td> <td>230.25</td> <td>2001     </td>\n",
       "        </tr>\n",
       "        <tr>\n",
       "            <td>Random House Tower            </td> <td>steel         </td> <td>New York City</td> <td>208.49</td> <td>2003     </td>\n",
       "        </tr>\n",
       "        <tr>\n",
       "            <td>Bloomberg Tower               </td> <td>concrete/steel</td> <td>New York City</td> <td>245.62</td> <td>2004     </td>\n",
       "        </tr>\n",
       "        <tr>\n",
       "            <td>Time Warner Center North Tower</td> <td>concrete/steel</td> <td>New York City</td> <td>228.32</td> <td>2004     </td>\n",
       "        </tr>\n",
       "        <tr>\n",
       "            <td>Time Warner Center South Tower</td> <td>concrete/steel</td> <td>New York City</td> <td>228.32</td> <td>2004     </td>\n",
       "        </tr>\n",
       "        <tr>\n",
       "            <td>Times Square Tower            </td> <td>steel         </td> <td>New York City</td> <td>221.29</td> <td>2004     </td>\n",
       "        </tr>\n",
       "        <tr>\n",
       "            <td>7 World Trade Center          </td> <td>steel/concrete</td> <td>New York City</td> <td>226.5 </td> <td>2006     </td>\n",
       "        </tr>\n",
       "        <tr>\n",
       "            <td>New York Times Tower          </td> <td>steel         </td> <td>New York City</td> <td>318.77</td> <td>2007     </td>\n",
       "        </tr>\n",
       "        <tr>\n",
       "            <td>Barclay Tower                 </td> <td>concrete      </td> <td>New York City</td> <td>205.06</td> <td>2007     </td>\n",
       "        </tr>\n",
       "        <tr>\n",
       "            <td>1095 Avenue of the Americas   </td> <td>steel         </td> <td>New York City</td> <td>196.44</td> <td>2007     </td>\n",
       "        </tr>\n",
       "        <tr>\n",
       "            <td>Bank of America Tower         </td> <td>composite     </td> <td>New York City</td> <td>365.8 </td> <td>2009     </td>\n",
       "        </tr>\n",
       "        <tr>\n",
       "            <td>Silver Towers East            </td> <td>concrete      </td> <td>New York City</td> <td>199.17</td> <td>2009     </td>\n",
       "        </tr>\n",
       "        <tr>\n",
       "            <td>Silver Towers West            </td> <td>concrete      </td> <td>New York City</td> <td>199.17</td> <td>2009     </td>\n",
       "        </tr>\n",
       "        <tr>\n",
       "            <td>Goldman Sachs Headquarters    </td> <td>steel         </td> <td>New York City</td> <td>228.3 </td> <td>2010     </td>\n",
       "        </tr>\n",
       "    </tbody>\n",
       "</table>\n",
       "<p>... (10 rows omitted)</p>"
      ],
      "text/plain": [
       "<IPython.core.display.HTML object>"
      ]
     },
     "metadata": {},
     "output_type": "display_data"
    }
   ],
   "source": [
    "newyork=skyscrapers.where('city', 'New York City')\n",
    "newyorkcompleted=newyork.sort('completed')\n",
    "newyorkcompleted.show(63)"
   ]
  },
  {
   "cell_type": "code",
   "execution_count": 23,
   "metadata": {},
   "outputs": [
    {
     "data": {
      "text/html": [
       "<table border=\"1\" class=\"dataframe\">\n",
       "    <thead>\n",
       "        <tr>\n",
       "            <th>name</th> <th>material</th> <th>city</th> <th>height</th> <th>completed</th>\n",
       "        </tr>\n",
       "    </thead>\n",
       "    <tbody>\n",
       "        <tr>\n",
       "            <td>432 Park Avenue                                 </td> <td>concrete      </td> <td>New York City</td> <td>425.5 </td> <td>2015     </td>\n",
       "        </tr>\n",
       "        <tr>\n",
       "            <td>Sky                                             </td> <td>concrete      </td> <td>New York City</td> <td>206   </td> <td>2015     </td>\n",
       "        </tr>\n",
       "        <tr>\n",
       "            <td>One World Trade Center                          </td> <td>composite     </td> <td>New York City</td> <td>541.3 </td> <td>2014     </td>\n",
       "        </tr>\n",
       "        <tr>\n",
       "            <td>One57                                           </td> <td>steel/concrete</td> <td>New York City</td> <td>306.07</td> <td>2014     </td>\n",
       "        </tr>\n",
       "        <tr>\n",
       "            <td>4 World Trade Center                            </td> <td>composite     </td> <td>New York City</td> <td>297.73</td> <td>2014     </td>\n",
       "        </tr>\n",
       "        <tr>\n",
       "            <td>Courtyard & Residence Inn Manhattan/Central Park</td> <td>concrete      </td> <td>New York City</td> <td>229.62</td> <td>2013     </td>\n",
       "        </tr>\n",
       "        <tr>\n",
       "            <td>Eight Spruce Street                             </td> <td>concrete      </td> <td>New York City</td> <td>265.18</td> <td>2011     </td>\n",
       "        </tr>\n",
       "        <tr>\n",
       "            <td>1 MiMA Tower                                    </td> <td>concrete      </td> <td>New York City</td> <td>194.55</td> <td>2011     </td>\n",
       "        </tr>\n",
       "        <tr>\n",
       "            <td>Goldman Sachs Headquarters                      </td> <td>steel         </td> <td>New York City</td> <td>228.3 </td> <td>2010     </td>\n",
       "        </tr>\n",
       "        <tr>\n",
       "            <td>Langham Place                                   </td> <td>concrete      </td> <td>New York City</td> <td>192.58</td> <td>2010     </td>\n",
       "        </tr>\n",
       "    </tbody>\n",
       "</table>\n",
       "<p>... (63 rows omitted)</p>"
      ],
      "text/plain": [
       "name                                             | material       | city          | height | completed\n",
       "432 Park Avenue                                  | concrete       | New York City | 425.5  | 2015\n",
       "Sky                                              | concrete       | New York City | 206    | 2015\n",
       "One World Trade Center                           | composite      | New York City | 541.3  | 2014\n",
       "One57                                            | steel/concrete | New York City | 306.07 | 2014\n",
       "4 World Trade Center                             | composite      | New York City | 297.73 | 2014\n",
       "Courtyard & Residence Inn Manhattan/Central Park | concrete       | New York City | 229.62 | 2013\n",
       "Eight Spruce Street                              | concrete       | New York City | 265.18 | 2011\n",
       "1 MiMA Tower                                     | concrete       | New York City | 194.55 | 2011\n",
       "Goldman Sachs Headquarters                       | steel          | New York City | 228.3  | 2010\n",
       "Langham Place                                    | concrete       | New York City | 192.58 | 2010\n",
       "... (63 rows omitted)"
      ]
     },
     "execution_count": 23,
     "metadata": {},
     "output_type": "execute_result"
    }
   ],
   "source": [
    "skyscrapers.where('city', 'New York City').sort('completed', descending=True)"
   ]
  },
  {
   "cell_type": "code",
   "execution_count": null,
   "metadata": {},
   "outputs": [],
   "source": []
  }
 ],
 "metadata": {
  "anaconda-cloud": {},
  "kernelspec": {
   "display_name": "Python 3",
   "language": "python",
   "name": "python3"
  },
  "language_info": {
   "codemirror_mode": {
    "name": "ipython",
    "version": 3
   },
   "file_extension": ".py",
   "mimetype": "text/x-python",
   "name": "python",
   "nbconvert_exporter": "python",
   "pygments_lexer": "ipython3",
   "version": "3.7.3"
  }
 },
 "nbformat": 4,
 "nbformat_minor": 1
}
