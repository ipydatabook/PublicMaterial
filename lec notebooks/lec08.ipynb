{
 "cells": [
  {
   "cell_type": "code",
   "execution_count": 4,
   "metadata": {},
   "outputs": [],
   "source": [
    "from datascience import *\n",
    "import numpy as np\n",
    "import warnings\n",
    "warnings.filterwarnings(\"ignore\")\n",
    "\n",
    "%matplotlib inline\n",
    "import matplotlib.pyplot as plots\n",
    "plots.style.use('fivethirtyeight')\n",
    "plots.rcParams[\"patch.force_edgecolor\"] = True"
   ]
  },
  {
   "cell_type": "markdown",
   "metadata": {},
   "source": [
    "1.Tables are a powerful way of organizing and visualizing data\n",
    "2.However they can be difficult to interpret data.\n",
    "3.Last time we introduced how to make 3 types of graphs\n",
    "4.This class we will look at how to interpret data usinh  graphs\n",
    "\n"
   ]
  },
  {
   "cell_type": "markdown",
   "metadata": {},
   "source": [
    "Terminology\n",
    "\n",
    "1. Indiviuals - object that has associated data\n",
    "\n",
    " \n",
    "A indiviuals is a formal name for an object that has associated data\n",
    "For example last time we saw census data and the indivuals\u000b",
    "where population of males and females\n",
    "\n",
    "2. Variables - the associated data of an individual\n",
    "\n",
    "-Variables are a feature or the associated data of an individual\n",
    "-Typically variables are the columns in a table\n",
    "-And they generally ave different values \n",
    "-We saw also that theres two types of data numerial and \u000b",
    "catergoical \n",
    "-Remember that numerical values are ordered sets like ages or times\n",
    "-And catergorical data is like data that can be placed in groups with no ---particular order \n",
    "-Its important to note that all variables take only one value\n",
    "For example the amount of money a movie grossed one year is fixed\n",
    "Variables cannot take multiple values\n",
    "\n",
    "3. Distributions -Counting the unique values and how many indivuals have that\n",
    "value\n",
    "\n",
    "-Finally we get to the topic of the day which is distributaion!\n",
    "What is distribution?\n",
    "-Welll dsitrinution isessentially when you take eachinuq values of a the vraible an conu up homw many indivuals that have thos unqie vlues\n",
    "-we will also look at two types of distributions! Catergoircal and numerical\n"
   ]
  },
  {
   "cell_type": "markdown",
   "metadata": {},
   "source": [
    "## Lecture 8 ##"
   ]
  },
  {
   "cell_type": "markdown",
   "metadata": {},
   "source": [
    "## Categorical Distribution ##"
   ]
  },
  {
   "cell_type": "code",
   "execution_count": 5,
   "metadata": {},
   "outputs": [
    {
     "data": {
      "text/html": [
       "<table border=\"1\" class=\"dataframe\">\n",
       "    <thead>\n",
       "        <tr>\n",
       "            <th>Title</th> <th>Studio</th> <th>Gross</th> <th>Gross (Adjusted)</th> <th>Year</th>\n",
       "        </tr>\n",
       "    </thead>\n",
       "    <tbody>\n",
       "        <tr>\n",
       "            <td>Gone with the Wind              </td> <td>MGM            </td> <td>198676459</td> <td>1796176700      </td> <td>1939</td>\n",
       "        </tr>\n",
       "        <tr>\n",
       "            <td>Star Wars                       </td> <td>Fox            </td> <td>460998007</td> <td>1583483200      </td> <td>1977</td>\n",
       "        </tr>\n",
       "        <tr>\n",
       "            <td>The Sound of Music              </td> <td>Fox            </td> <td>158671368</td> <td>1266072700      </td> <td>1965</td>\n",
       "        </tr>\n",
       "        <tr>\n",
       "            <td>E.T.: The Extra-Terrestrial     </td> <td>Universal      </td> <td>435110554</td> <td>1261085000      </td> <td>1982</td>\n",
       "        </tr>\n",
       "        <tr>\n",
       "            <td>Titanic                         </td> <td>Paramount      </td> <td>658672302</td> <td>1204368000      </td> <td>1997</td>\n",
       "        </tr>\n",
       "        <tr>\n",
       "            <td>The Ten Commandments            </td> <td>Paramount      </td> <td>65500000 </td> <td>1164590000      </td> <td>1956</td>\n",
       "        </tr>\n",
       "        <tr>\n",
       "            <td>Jaws                            </td> <td>Universal      </td> <td>260000000</td> <td>1138620700      </td> <td>1975</td>\n",
       "        </tr>\n",
       "        <tr>\n",
       "            <td>Doctor Zhivago                  </td> <td>MGM            </td> <td>111721910</td> <td>1103564200      </td> <td>1965</td>\n",
       "        </tr>\n",
       "        <tr>\n",
       "            <td>The Exorcist                    </td> <td>Warner Brothers</td> <td>232906145</td> <td>983226600       </td> <td>1973</td>\n",
       "        </tr>\n",
       "        <tr>\n",
       "            <td>Snow White and the Seven Dwarves</td> <td>Disney         </td> <td>184925486</td> <td>969010000       </td> <td>1937</td>\n",
       "        </tr>\n",
       "    </tbody>\n",
       "</table>\n",
       "<p>... (190 rows omitted)</p>"
      ],
      "text/plain": [
       "Title                            | Studio          | Gross     | Gross (Adjusted) | Year\n",
       "Gone with the Wind               | MGM             | 198676459 | 1796176700       | 1939\n",
       "Star Wars                        | Fox             | 460998007 | 1583483200       | 1977\n",
       "The Sound of Music               | Fox             | 158671368 | 1266072700       | 1965\n",
       "E.T.: The Extra-Terrestrial      | Universal       | 435110554 | 1261085000       | 1982\n",
       "Titanic                          | Paramount       | 658672302 | 1204368000       | 1997\n",
       "The Ten Commandments             | Paramount       | 65500000  | 1164590000       | 1956\n",
       "Jaws                             | Universal       | 260000000 | 1138620700       | 1975\n",
       "Doctor Zhivago                   | MGM             | 111721910 | 1103564200       | 1965\n",
       "The Exorcist                     | Warner Brothers | 232906145 | 983226600        | 1973\n",
       "Snow White and the Seven Dwarves | Disney          | 184925486 | 969010000        | 1937\n",
       "... (190 rows omitted)"
      ]
     },
     "execution_count": 5,
     "metadata": {},
     "output_type": "execute_result"
    }
   ],
   "source": [
    "top_movies = Table.read_table('top_movies_2017.csv')\n",
    "top_movies\n",
    "\n",
    "# we want to look at how many "
   ]
  },
  {
   "cell_type": "code",
   "execution_count": 15,
   "metadata": {},
   "outputs": [
    {
     "data": {
      "image/png": "[encoded data removed]",
      "text/plain": [
       "<Figure size 432x360 with 1 Axes>"
      ]
     },
     "metadata": {},
     "output_type": "display_data"
    }
   ],
   "source": [
    "top_movies = top_movies.with_column('Millions', np.round(top_movies.column('Gross')/1000000,3))\n",
    "top_movies.take(np.arange(10)).barh('Title', 'Millions')\n",
    "\n",
    "# What does this line Produce? \n",
    "# Juts a adds  a comun converting gross into readable infor!\n",
    "\n",
    "# How would you make a barchat with top ten grossingfiles?\n",
    "#top=top_movies.sort('Millions',descending = True)\n",
    "\n",
    "#top.take(np.arange(10)).barh('Title', 'Millions')\n"
   ]
  },
  {
   "cell_type": "code",
   "execution_count": 17,
   "metadata": {},
   "outputs": [
    {
     "data": {
      "text/html": [
       "<table border=\"1\" class=\"dataframe\">\n",
       "    <thead>\n",
       "        <tr>\n",
       "            <th>Studio</th>\n",
       "        </tr>\n",
       "    </thead>\n",
       "    <tbody>\n",
       "        <tr>\n",
       "            <td>MGM            </td>\n",
       "        </tr>\n",
       "        <tr>\n",
       "            <td>Fox            </td>\n",
       "        </tr>\n",
       "        <tr>\n",
       "            <td>Fox            </td>\n",
       "        </tr>\n",
       "        <tr>\n",
       "            <td>Universal      </td>\n",
       "        </tr>\n",
       "        <tr>\n",
       "            <td>Paramount      </td>\n",
       "        </tr>\n",
       "        <tr>\n",
       "            <td>Paramount      </td>\n",
       "        </tr>\n",
       "        <tr>\n",
       "            <td>Universal      </td>\n",
       "        </tr>\n",
       "        <tr>\n",
       "            <td>MGM            </td>\n",
       "        </tr>\n",
       "        <tr>\n",
       "            <td>Warner Brothers</td>\n",
       "        </tr>\n",
       "        <tr>\n",
       "            <td>Disney         </td>\n",
       "        </tr>\n",
       "    </tbody>\n",
       "</table>\n",
       "<p>... (190 rows omitted)</p>"
      ],
      "text/plain": [
       "Studio\n",
       "MGM\n",
       "Fox\n",
       "Fox\n",
       "Universal\n",
       "Paramount\n",
       "Paramount\n",
       "Universal\n",
       "MGM\n",
       "Warner Brothers\n",
       "Disney\n",
       "... (190 rows omitted)"
      ]
     },
     "execution_count": 17,
     "metadata": {},
     "output_type": "execute_result"
    }
   ],
   "source": [
    "#The Distribution of a variable describes the frequeinces of differetn values\n",
    "\n",
    "\n",
    "\n",
    "# Now Question we want to dind the top 10 movie studios that produce\n",
    "#the highest nummber of movies \n",
    "\n",
    "\n",
    "#Question: Find the top 10 movie producing studios!\n",
    "\n",
    "studios = top_movies.select('Studio')\n",
    "studios\n",
    "\n",
    "#Step 1 select thee column\n",
    "#Step 2 he number of times each name appears\n",
    "#Step 3 Rank the top 10 names\n",
    "#Step 4 Graph using histogram"
   ]
  },
  {
   "cell_type": "code",
   "execution_count": 20,
   "metadata": {},
   "outputs": [],
   "source": [
    "studio_distribution = studios.group('Studio')\n",
    "#tbl.group(column_or_columns) ->new table with counts\n",
    "#Do not worry to much about all the functionallity we will discuss this\n",
    "#over the next wfew weeks\n",
    "\n",
    "#But this is a very cool and useful Function!\n",
    "\n"
   ]
  },
  {
   "cell_type": "code",
   "execution_count": 19,
   "metadata": {},
   "outputs": [
    {
     "data": {
      "text/html": [
       "<table border=\"1\" class=\"dataframe\">\n",
       "    <thead>\n",
       "        <tr>\n",
       "            <th>Studio</th> <th>count</th>\n",
       "        </tr>\n",
       "    </thead>\n",
       "    <tbody>\n",
       "        <tr>\n",
       "            <td>AVCO       </td> <td>1    </td>\n",
       "        </tr>\n",
       "        <tr>\n",
       "            <td>Buena Vista</td> <td>35   </td>\n",
       "        </tr>\n",
       "        <tr>\n",
       "            <td>Columbia   </td> <td>9    </td>\n",
       "        </tr>\n",
       "        <tr>\n",
       "            <td>Disney     </td> <td>11   </td>\n",
       "        </tr>\n",
       "        <tr>\n",
       "            <td>Dreamworks </td> <td>3    </td>\n",
       "        </tr>\n",
       "        <tr>\n",
       "            <td>Fox        </td> <td>24   </td>\n",
       "        </tr>\n",
       "        <tr>\n",
       "            <td>IFC        </td> <td>1    </td>\n",
       "        </tr>\n",
       "        <tr>\n",
       "            <td>Lionsgate  </td> <td>3    </td>\n",
       "        </tr>\n",
       "        <tr>\n",
       "            <td>MGM        </td> <td>7    </td>\n",
       "        </tr>\n",
       "        <tr>\n",
       "            <td>Metro      </td> <td>1    </td>\n",
       "        </tr>\n",
       "    </tbody>\n",
       "</table>\n",
       "<p>... (13 rows omitted)</p>"
      ],
      "text/plain": [
       "Studio      | count\n",
       "AVCO        | 1\n",
       "Buena Vista | 35\n",
       "Columbia    | 9\n",
       "Disney      | 11\n",
       "Dreamworks  | 3\n",
       "Fox         | 24\n",
       "IFC         | 1\n",
       "Lionsgate   | 3\n",
       "MGM         | 7\n",
       "Metro       | 1\n",
       "... (13 rows omitted)"
      ]
     },
     "execution_count": 19,
     "metadata": {},
     "output_type": "execute_result"
    }
   ],
   "source": [
    "studio_distribution\n",
    "\n",
    "# We call this a distribution table. A distribution shows\n",
    "#all the values of a variable, along with the frequency of each one.\n",
    "\n",
    "\n",
    "\n",
    "#Bar Chart \n",
    "\n",
    "# Now we will visualize this using a Barchart \n",
    "#since these are caterigocial variables@\n",
    "\n"
   ]
  },
  {
   "cell_type": "code",
   "execution_count": 7,
   "metadata": {},
   "outputs": [
    {
     "data": {
      "text/plain": [
       "200"
      ]
     },
     "execution_count": 7,
     "metadata": {},
     "output_type": "execute_result"
    }
   ],
   "source": [
    "sum(studio_distribution.column('count'))\n",
    "\n",
    "# lets go ahead and find the top 10 movie producers using sort!"
   ]
  },
  {
   "cell_type": "markdown",
   "metadata": {},
   "source": [
    "## Bar Charts ##"
   ]
  },
  {
   "cell_type": "code",
   "execution_count": 8,
   "metadata": {},
   "outputs": [
    {
     "data": {
      "image/png": "[encoded data removed]",
      "text/plain": [
       "<Figure size 432x828 with 1 Axes>"
      ]
     },
     "metadata": {},
     "output_type": "display_data"
    }
   ],
   "source": [
    "# NoteS\n",
    "\n",
    "#1. If you have a catergoical variable the distribution is categorical\n",
    "#2. Barcharts are again used for categorical information\n",
    "#3. One axis is catergical variable like movie names the other \n",
    "#is numberical like gross income\n",
    "\n",
    "studio_distribution.barh('Studio')\n",
    "# Recall we are still producing a barchart herer\n",
    "#This is a little easier to read then a chart of numbers "
   ]
  },
  {
   "cell_type": "code",
   "execution_count": 24,
   "metadata": {},
   "outputs": [
    {
     "data": {
      "image/png": "[encoded data removed]",
      "text/plain": [
       "<Figure size 432x828 with 1 Axes>"
      ]
     },
     "metadata": {},
     "output_type": "display_data"
    }
   ],
   "source": [
    "studio_distribution.sort('count', descending=True).barh('Studio')\n",
    "\n",
    "# notice is that these bars are all equally wide\n",
    "#this is so we can easy to compare different categories,\n"
   ]
  },
  {
   "cell_type": "markdown",
   "metadata": {},
   "source": [
    "## Numerical Distribution ##"
   ]
  },
  {
   "cell_type": "markdown",
   "metadata": {},
   "source": [
    "1. So now we will talk about numerical variables and distributations\n",
    "\n",
    "2. remember distribution is looking at the unique values and the frequency of how many times each one comes up\n",
    "\n",
    "3. When you have something numerical you may have each value it only comes out one time because there's like infinitely many value\n",
    "\n",
    "4.An example of this the money made by movies: maybee one film gross 30 millions where another one gorsse 45 millino\n",
    "\n",
    "5. If you were to visualize this using a barchart you would have an inifite number of bars\n",
    "\n",
    "6.  to fix this we will find where most of these values actually are and how often they're coming up. \n",
    "\n",
    "7.So, with numerical variables we're going to bin them and what that means is we're going to basically count the number of values that lie within specific ranges.\n",
    "\n",
    "\n",
    "DEF - Binning -count the number of values that lie within specific ranges.\n",
    "\n",
    "In this next example we will use binning to group movies on their age then present the number of movies using a histogram \n"
   ]
  },
  {
   "cell_type": "code",
   "execution_count": 25,
   "metadata": {},
   "outputs": [],
   "source": [
    "ages = 2021 - top_movies.column('Year')\n",
    "# here we need t o chang e this to 2021\n",
    "# What does this first column do?\n",
    "top_movies = top_movies.with_column('Age', ages)\n",
    "\n",
    "\n"
   ]
  },
  {
   "cell_type": "code",
   "execution_count": 26,
   "metadata": {},
   "outputs": [
    {
     "data": {
      "text/html": [
       "<table border=\"1\" class=\"dataframe\">\n",
       "    <thead>\n",
       "        <tr>\n",
       "            <th>Title</th> <th>Studio</th> <th>Gross</th> <th>Gross (Adjusted)</th> <th>Year</th> <th>Millions</th> <th>Age</th>\n",
       "        </tr>\n",
       "    </thead>\n",
       "    <tbody>\n",
       "        <tr>\n",
       "            <td>Gone with the Wind              </td> <td>MGM            </td> <td>198676459</td> <td>1796176700      </td> <td>1939</td> <td>198.676 </td> <td>82  </td>\n",
       "        </tr>\n",
       "        <tr>\n",
       "            <td>Star Wars                       </td> <td>Fox            </td> <td>460998007</td> <td>1583483200      </td> <td>1977</td> <td>460.998 </td> <td>44  </td>\n",
       "        </tr>\n",
       "        <tr>\n",
       "            <td>The Sound of Music              </td> <td>Fox            </td> <td>158671368</td> <td>1266072700      </td> <td>1965</td> <td>158.671 </td> <td>56  </td>\n",
       "        </tr>\n",
       "        <tr>\n",
       "            <td>E.T.: The Extra-Terrestrial     </td> <td>Universal      </td> <td>435110554</td> <td>1261085000      </td> <td>1982</td> <td>435.111 </td> <td>39  </td>\n",
       "        </tr>\n",
       "        <tr>\n",
       "            <td>Titanic                         </td> <td>Paramount      </td> <td>658672302</td> <td>1204368000      </td> <td>1997</td> <td>658.672 </td> <td>24  </td>\n",
       "        </tr>\n",
       "        <tr>\n",
       "            <td>The Ten Commandments            </td> <td>Paramount      </td> <td>65500000 </td> <td>1164590000      </td> <td>1956</td> <td>65.5    </td> <td>65  </td>\n",
       "        </tr>\n",
       "        <tr>\n",
       "            <td>Jaws                            </td> <td>Universal      </td> <td>260000000</td> <td>1138620700      </td> <td>1975</td> <td>260     </td> <td>46  </td>\n",
       "        </tr>\n",
       "        <tr>\n",
       "            <td>Doctor Zhivago                  </td> <td>MGM            </td> <td>111721910</td> <td>1103564200      </td> <td>1965</td> <td>111.722 </td> <td>56  </td>\n",
       "        </tr>\n",
       "        <tr>\n",
       "            <td>The Exorcist                    </td> <td>Warner Brothers</td> <td>232906145</td> <td>983226600       </td> <td>1973</td> <td>232.906 </td> <td>48  </td>\n",
       "        </tr>\n",
       "        <tr>\n",
       "            <td>Snow White and the Seven Dwarves</td> <td>Disney         </td> <td>184925486</td> <td>969010000       </td> <td>1937</td> <td>184.925 </td> <td>84  </td>\n",
       "        </tr>\n",
       "    </tbody>\n",
       "</table>\n",
       "<p>... (190 rows omitted)</p>"
      ],
      "text/plain": [
       "Title                            | Studio          | Gross     | Gross (Adjusted) | Year | Millions | Age\n",
       "Gone with the Wind               | MGM             | 198676459 | 1796176700       | 1939 | 198.676  | 82\n",
       "Star Wars                        | Fox             | 460998007 | 1583483200       | 1977 | 460.998  | 44\n",
       "The Sound of Music               | Fox             | 158671368 | 1266072700       | 1965 | 158.671  | 56\n",
       "E.T.: The Extra-Terrestrial      | Universal       | 435110554 | 1261085000       | 1982 | 435.111  | 39\n",
       "Titanic                          | Paramount       | 658672302 | 1204368000       | 1997 | 658.672  | 24\n",
       "The Ten Commandments             | Paramount       | 65500000  | 1164590000       | 1956 | 65.5     | 65\n",
       "Jaws                             | Universal       | 260000000 | 1138620700       | 1975 | 260      | 46\n",
       "Doctor Zhivago                   | MGM             | 111721910 | 1103564200       | 1965 | 111.722  | 56\n",
       "The Exorcist                     | Warner Brothers | 232906145 | 983226600        | 1973 | 232.906  | 48\n",
       "Snow White and the Seven Dwarves | Disney          | 184925486 | 969010000        | 1937 | 184.925  | 84\n",
       "... (190 rows omitted)"
      ]
     },
     "execution_count": 26,
     "metadata": {},
     "output_type": "execute_result"
    }
   ],
   "source": [
    "top_movies"
   ]
  },
  {
   "cell_type": "markdown",
   "metadata": {},
   "source": [
    "## Binning ##"
   ]
  },
  {
   "cell_type": "code",
   "execution_count": 12,
   "metadata": {},
   "outputs": [
    {
     "data": {
      "text/plain": [
       "(2, 98)"
      ]
     },
     "execution_count": 12,
     "metadata": {},
     "output_type": "execute_result"
    }
   ],
   "source": [
    "min(ages), max(ages)\n",
    "#Now we are going 'place' movies into bins !"
   ]
  },
  {
   "cell_type": "code",
   "execution_count": 2,
   "metadata": {},
   "outputs": [
    {
     "ename": "NameError",
     "evalue": "name 'make_array' is not defined",
     "output_type": "error",
     "traceback": [
      "\u001b[1;31m---------------------------------------------------------------------------\u001b[0m",
      "\u001b[1;31mNameError\u001b[0m                                 Traceback (most recent call last)",
      "\u001b[1;32m<ipython-input-2-47ed6f722049>\u001b[0m in \u001b[0;36m<module>\u001b[1;34m\u001b[0m\n\u001b[1;32m----> 1\u001b[1;33m \u001b[0mmy_bins\u001b[0m \u001b[1;33m=\u001b[0m \u001b[0mmake_array\u001b[0m\u001b[1;33m(\u001b[0m\u001b[1;36m0\u001b[0m\u001b[1;33m,\u001b[0m \u001b[1;36m5\u001b[0m\u001b[1;33m,\u001b[0m \u001b[1;36m10\u001b[0m\u001b[1;33m,\u001b[0m \u001b[1;36m15\u001b[0m\u001b[1;33m,\u001b[0m \u001b[1;36m25\u001b[0m\u001b[1;33m,\u001b[0m \u001b[1;36m40\u001b[0m\u001b[1;33m,\u001b[0m \u001b[1;36m65\u001b[0m\u001b[1;33m,\u001b[0m \u001b[1;36m100\u001b[0m\u001b[1;33m)\u001b[0m\u001b[1;33m\u001b[0m\u001b[1;33m\u001b[0m\u001b[0m\n\u001b[0m\u001b[0;32m      2\u001b[0m \u001b[1;31m# here we have the 'age' of movies\u001b[0m\u001b[1;33m\u001b[0m\u001b[1;33m\u001b[0m\u001b[1;33m\u001b[0m\u001b[0m\n\u001b[0;32m      3\u001b[0m \u001b[1;31m#this will be our bins where we count the moives age\u001b[0m\u001b[1;33m\u001b[0m\u001b[1;33m\u001b[0m\u001b[1;33m\u001b[0m\u001b[0m\n",
      "\u001b[1;31mNameError\u001b[0m: name 'make_array' is not defined"
     ]
    }
   ],
   "source": [
    "my_bins = make_array(0, 5, 10, 15, 25, 40, 65, 100)\n",
    "# here we have the 'age' of movies\n",
    "#this will be our bins where we count the moives age"
   ]
  },
  {
   "cell_type": "code",
   "execution_count": 30,
   "metadata": {},
   "outputs": [
    {
     "data": {
      "text/html": [
       "<table border=\"1\" class=\"dataframe\">\n",
       "    <thead>\n",
       "        <tr>\n",
       "            <th>bin</th> <th>Age count</th>\n",
       "        </tr>\n",
       "    </thead>\n",
       "    <tbody>\n",
       "        <tr>\n",
       "            <td>0   </td> <td>3        </td>\n",
       "        </tr>\n",
       "        <tr>\n",
       "            <td>5   </td> <td>25       </td>\n",
       "        </tr>\n",
       "        <tr>\n",
       "            <td>10  </td> <td>18       </td>\n",
       "        </tr>\n",
       "        <tr>\n",
       "            <td>15  </td> <td>39       </td>\n",
       "        </tr>\n",
       "        <tr>\n",
       "            <td>25  </td> <td>42       </td>\n",
       "        </tr>\n",
       "        <tr>\n",
       "            <td>40  </td> <td>53       </td>\n",
       "        </tr>\n",
       "        <tr>\n",
       "            <td>65  </td> <td>20       </td>\n",
       "        </tr>\n",
       "        <tr>\n",
       "            <td>100 </td> <td>0        </td>\n",
       "        </tr>\n",
       "    </tbody>\n",
       "</table>"
      ],
      "text/plain": [
       "bin  | Age count\n",
       "0    | 3\n",
       "5    | 25\n",
       "10   | 18\n",
       "15   | 39\n",
       "25   | 42\n",
       "40   | 53\n",
       "65   | 20\n",
       "100  | 0"
      ]
     },
     "execution_count": 30,
     "metadata": {},
     "output_type": "execute_result"
    }
   ],
   "source": [
    "# now wer are going count the number of movies that are of each age or bin\n",
    "# we are using a new function .bin\n",
    "\n",
    "#table().bin('Column_name'=variable we want to bin on, bins= 'how you want to bin' )\n",
    "#note this creates a new Table!\n",
    "\n",
    "binned_data = top_movies.bin('Age', bins = my_bins)\n",
    "binned_data\n",
    "top_movies.bin('Age', bins = my_bins)\n",
    "\n",
    "\n",
    "# Note group method counts the number of tims 1 object appears\n",
    "# bin counts the number of times objects appear in a certain range"
   ]
  },
  {
   "cell_type": "code",
   "execution_count": 15,
   "metadata": {},
   "outputs": [
    {
     "data": {
      "text/plain": [
       "200"
      ]
     },
     "execution_count": 15,
     "metadata": {},
     "output_type": "execute_result"
    }
   ],
   "source": [
    "#note - left number is start of bin 0-5 , 5-10 ....\n",
    "\n",
    "sum(binned_data.column('Age count'))"
   ]
  },
  {
   "cell_type": "code",
   "execution_count": 33,
   "metadata": {},
   "outputs": [
    {
     "data": {
      "text/html": [
       "<table border=\"1\" class=\"dataframe\">\n",
       "    <thead>\n",
       "        <tr>\n",
       "            <th>bin</th> <th>Age count</th>\n",
       "        </tr>\n",
       "    </thead>\n",
       "    <tbody>\n",
       "        <tr>\n",
       "            <td>0   </td> <td>0        </td>\n",
       "        </tr>\n",
       "        <tr>\n",
       "            <td>2   </td> <td>0        </td>\n",
       "        </tr>\n",
       "        <tr>\n",
       "            <td>4   </td> <td>12       </td>\n",
       "        </tr>\n",
       "        <tr>\n",
       "            <td>6   </td> <td>9        </td>\n",
       "        </tr>\n",
       "        <tr>\n",
       "            <td>8   </td> <td>7        </td>\n",
       "        </tr>\n",
       "        <tr>\n",
       "            <td>10  </td> <td>5        </td>\n",
       "        </tr>\n",
       "        <tr>\n",
       "            <td>12  </td> <td>8        </td>\n",
       "        </tr>\n",
       "        <tr>\n",
       "            <td>14  </td> <td>6        </td>\n",
       "        </tr>\n",
       "        <tr>\n",
       "            <td>16  </td> <td>9        </td>\n",
       "        </tr>\n",
       "        <tr>\n",
       "            <td>18  </td> <td>16       </td>\n",
       "        </tr>\n",
       "    </tbody>\n",
       "</table>\n",
       "<p>... (1 rows omitted)</p>"
      ],
      "text/plain": [
       "bin  | Age count\n",
       "0    | 0\n",
       "2    | 0\n",
       "4    | 12\n",
       "6    | 9\n",
       "8    | 7\n",
       "10   | 5\n",
       "12   | 8\n",
       "14   | 6\n",
       "16   | 9\n",
       "18   | 16\n",
       "... (1 rows omitted)"
      ]
     },
     "execution_count": 33,
     "metadata": {},
     "output_type": "execute_result"
    }
   ],
   "source": [
    "#Find the count of all movies over the last 20 years binned into intervals of\n",
    "#2 years\n",
    "\n",
    "top_movies.bin('Age', bins = np.arange(0, 21, 2))"
   ]
  },
  {
   "cell_type": "code",
   "execution_count": 17,
   "metadata": {},
   "outputs": [
    {
     "data": {
      "text/html": [
       "<table border=\"1\" class=\"dataframe\">\n",
       "    <thead>\n",
       "        <tr>\n",
       "            <th>bin</th> <th>Age count</th>\n",
       "        </tr>\n",
       "    </thead>\n",
       "    <tbody>\n",
       "        <tr>\n",
       "            <td>0   </td> <td>91       </td>\n",
       "        </tr>\n",
       "        <tr>\n",
       "            <td>25  </td> <td>68       </td>\n",
       "        </tr>\n",
       "        <tr>\n",
       "            <td>50  </td> <td>0        </td>\n",
       "        </tr>\n",
       "    </tbody>\n",
       "</table>"
      ],
      "text/plain": [
       "bin  | Age count\n",
       "0    | 91\n",
       "25   | 68\n",
       "50   | 0"
      ]
     },
     "execution_count": 17,
     "metadata": {},
     "output_type": "execute_result"
    }
   ],
   "source": [
    "top_movies.bin('Age', bins = np.arange(0, 60, 25))"
   ]
  },
  {
   "cell_type": "code",
   "execution_count": 18,
   "metadata": {},
   "outputs": [
    {
     "data": {
      "text/html": [
       "<table border=\"1\" class=\"dataframe\">\n",
       "    <thead>\n",
       "        <tr>\n",
       "            <th>Title</th> <th>Studio</th> <th>Gross</th> <th>Gross (Adjusted)</th> <th>Year</th> <th>Millions</th> <th>Age</th>\n",
       "        </tr>\n",
       "    </thead>\n",
       "    <tbody>\n",
       "        <tr>\n",
       "            <td>Butch Cassidy and the Sundance Kid</td> <td>Fox   </td> <td>102308889</td> <td>627259300       </td> <td>1969</td> <td>102.309 </td> <td>50  </td>\n",
       "        </tr>\n",
       "    </tbody>\n",
       "</table>"
      ],
      "text/plain": [
       "Title                              | Studio | Gross     | Gross (Adjusted) | Year | Millions | Age\n",
       "Butch Cassidy and the Sundance Kid | Fox    | 102308889 | 627259300        | 1969 | 102.309  | 50"
      ]
     },
     "execution_count": 18,
     "metadata": {},
     "output_type": "execute_result"
    }
   ],
   "source": [
    "top_movies.where('Age', 50)"
   ]
  },
  {
   "cell_type": "markdown",
   "metadata": {},
   "source": [
    "## Histograms ##"
   ]
  },
  {
   "cell_type": "markdown",
   "metadata": {},
   "source": [
    "1.  We are now going to use a to displays a distribution of numerical variables\n",
    "\n",
    "2.  This is like a barch except each bar corresponds to a bin\n",
    "\n",
    "3. The area of each bar represents the precenta of indiviudals in the \n",
    "corrosponding bin \n"
   ]
  },
  {
   "cell_type": "code",
   "execution_count": 1,
   "metadata": {},
   "outputs": [
    {
     "ename": "NameError",
     "evalue": "name 'my_bins' is not defined",
     "output_type": "error",
     "traceback": [
      "\u001b[1;31m---------------------------------------------------------------------------\u001b[0m",
      "\u001b[1;31mNameError\u001b[0m                                 Traceback (most recent call last)",
      "\u001b[1;32m<ipython-input-1-4796658e2eef>\u001b[0m in \u001b[0;36m<module>\u001b[1;34m\u001b[0m\n\u001b[1;32m----> 1\u001b[1;33m \u001b[0mmy_bins\u001b[0m\u001b[1;33m\u001b[0m\u001b[1;33m\u001b[0m\u001b[0m\n\u001b[0m",
      "\u001b[1;31mNameError\u001b[0m: name 'my_bins' is not defined"
     ]
    }
   ],
   "source": [
    "my_bins"
   ]
  },
  {
   "cell_type": "code",
   "execution_count": 38,
   "metadata": {},
   "outputs": [
    {
     "data": {
      "text/html": [
       "<table border=\"1\" class=\"dataframe\">\n",
       "    <thead>\n",
       "        <tr>\n",
       "            <th>bin</th> <th>Age count</th> <th>Percentage</th>\n",
       "        </tr>\n",
       "    </thead>\n",
       "    <tbody>\n",
       "        <tr>\n",
       "            <td>0   </td> <td>3        </td> <td>1.5       </td>\n",
       "        </tr>\n",
       "        <tr>\n",
       "            <td>5   </td> <td>25       </td> <td>12.5      </td>\n",
       "        </tr>\n",
       "        <tr>\n",
       "            <td>10  </td> <td>18       </td> <td>9         </td>\n",
       "        </tr>\n",
       "        <tr>\n",
       "            <td>15  </td> <td>39       </td> <td>19.5      </td>\n",
       "        </tr>\n",
       "        <tr>\n",
       "            <td>25  </td> <td>42       </td> <td>21        </td>\n",
       "        </tr>\n",
       "        <tr>\n",
       "            <td>40  </td> <td>53       </td> <td>26.5      </td>\n",
       "        </tr>\n",
       "        <tr>\n",
       "            <td>65  </td> <td>20       </td> <td>10        </td>\n",
       "        </tr>\n",
       "        <tr>\n",
       "            <td>100 </td> <td>0        </td> <td>0         </td>\n",
       "        </tr>\n",
       "    </tbody>\n",
       "</table>"
      ],
      "text/plain": [
       "bin  | Age count | Percentage\n",
       "0    | 3         | 1.5\n",
       "5    | 25        | 12.5\n",
       "10   | 18        | 9\n",
       "15   | 39        | 19.5\n",
       "25   | 42        | 21\n",
       "40   | 53        | 26.5\n",
       "65   | 20        | 10\n",
       "100  | 0         | 0"
      ]
     },
     "execution_count": 38,
     "metadata": {},
     "output_type": "execute_result"
    }
   ],
   "source": [
    "binned_data # here is our bin infor\n",
    "\n",
    "#before we viusalize this lets find the percentage of each bin\n",
    "\n",
    "#step 1 compute total number of movies\n",
    "sum(binned_data.column('Age count'))\n",
    "\n",
    "#step 2 divide bins by total number of movies\n",
    "binned_data.column('Age count')/200*100\n",
    "\n",
    "#step 3 add to table\n",
    "\n",
    "binned_data=binned_data.with_column('Percentage',binned_data.column('Age count')/200*100\n",
    ")\n",
    "\n",
    "binned_data"
   ]
  },
  {
   "cell_type": "code",
   "execution_count": 39,
   "metadata": {},
   "outputs": [
    {
     "data": {
      "image/png": "[encoded data removed]",
      "text/plain": [
       "<Figure size 432x288 with 1 Axes>"
      ]
     },
     "metadata": {},
     "output_type": "display_data"
    }
   ],
   "source": [
    "# Let's make our first histogram!\n",
    "top_movies.hist('Age', bins = my_bins, unit = 'Year')\n",
    "#The input for our hist method are\n",
    "#table('Column name'-column to be binned,bins = bin_array, units - percentperunit)\n",
    "#the area of the bins are equal to the percenage of the overall data"
   ]
  },
  {
   "cell_type": "code",
   "execution_count": 43,
   "metadata": {},
   "outputs": [
    {
     "data": {
      "image/png": "[encoded data removed]",
      "text/plain": [
       "<Figure size 432x288 with 1 Axes>"
      ]
     },
     "metadata": {},
     "output_type": "display_data"
    }
   ],
   "source": [
    "# Let's try equally spaced bins instead.\n",
    "top_movies.hist('Age', bins = np.arange(0, 110, 2), unit = 'Year')"
   ]
  },
  {
   "cell_type": "code",
   "execution_count": 44,
   "metadata": {},
   "outputs": [
    {
     "data": {
      "image/png": "[encoded data removed]",
      "text/plain": [
       "<Figure size 432x288 with 1 Axes>"
      ]
     },
     "metadata": {},
     "output_type": "display_data"
    }
   ],
   "source": [
    "# Let's try not specifying any bins!\n",
    "top_movies.hist('Age', unit='Year')"
   ]
  },
  {
   "cell_type": "code",
   "execution_count": 24,
   "metadata": {},
   "outputs": [],
   "source": [
    "# Add a column containing what percent of movies are in each bin\n",
    "binned_data = binned_data.with_column(\n",
    "    'Percent', 100*binned_data.column('Age count')/200)"
   ]
  },
  {
   "cell_type": "code",
   "execution_count": 25,
   "metadata": {},
   "outputs": [
    {
     "data": {
      "text/html": [
       "<table border=\"1\" class=\"dataframe\">\n",
       "    <thead>\n",
       "        <tr>\n",
       "            <th>bin</th> <th>Age count</th> <th>Percent</th>\n",
       "        </tr>\n",
       "    </thead>\n",
       "    <tbody>\n",
       "        <tr>\n",
       "            <td>0   </td> <td>18       </td> <td>9      </td>\n",
       "        </tr>\n",
       "        <tr>\n",
       "            <td>5   </td> <td>15       </td> <td>7.5    </td>\n",
       "        </tr>\n",
       "        <tr>\n",
       "            <td>10  </td> <td>17       </td> <td>8.5    </td>\n",
       "        </tr>\n",
       "        <tr>\n",
       "            <td>15  </td> <td>41       </td> <td>20.5   </td>\n",
       "        </tr>\n",
       "        <tr>\n",
       "            <td>25  </td> <td>41       </td> <td>20.5   </td>\n",
       "        </tr>\n",
       "        <tr>\n",
       "            <td>40  </td> <td>51       </td> <td>25.5   </td>\n",
       "        </tr>\n",
       "        <tr>\n",
       "            <td>65  </td> <td>17       </td> <td>8.5    </td>\n",
       "        </tr>\n",
       "        <tr>\n",
       "            <td>100 </td> <td>0        </td> <td>0      </td>\n",
       "        </tr>\n",
       "    </tbody>\n",
       "</table>"
      ],
      "text/plain": [
       "bin  | Age count | Percent\n",
       "0    | 18        | 9\n",
       "5    | 15        | 7.5\n",
       "10   | 17        | 8.5\n",
       "15   | 41        | 20.5\n",
       "25   | 41        | 20.5\n",
       "40   | 51        | 25.5\n",
       "65   | 17        | 8.5\n",
       "100  | 0         | 0"
      ]
     },
     "execution_count": 25,
     "metadata": {},
     "output_type": "execute_result"
    }
   ],
   "source": [
    "binned_data"
   ]
  },
  {
   "cell_type": "markdown",
   "metadata": {},
   "source": [
    "## Height ##\n",
    "\n",
    "### Question: What is the height of the [40, 65] bin?"
   ]
  },
  {
   "cell_type": "code",
   "execution_count": 26,
   "metadata": {},
   "outputs": [],
   "source": [
    "# Step 1: Calculate % of movies in the [40, 65) bin\n",
    "percent = binned_data.where('bin', 40).column('Percent').item(0)"
   ]
  },
  {
   "cell_type": "code",
   "execution_count": 27,
   "metadata": {},
   "outputs": [],
   "source": [
    "# Step 2: Calculate the width of the 40-65 bin\n",
    "width = 65 - 40"
   ]
  },
  {
   "cell_type": "code",
   "execution_count": 28,
   "metadata": {},
   "outputs": [
    {
     "data": {
      "text/plain": [
       "1.02"
      ]
     },
     "execution_count": 28,
     "metadata": {},
     "output_type": "execute_result"
    }
   ],
   "source": [
    "# Step 3: Area of rectangle = height * width\n",
    "#         --> height = percent / width\n",
    "height = percent / width\n",
    "height"
   ]
  },
  {
   "cell_type": "markdown",
   "metadata": {},
   "source": [
    "### What are the heights of the rest of the bins?"
   ]
  },
  {
   "cell_type": "code",
   "execution_count": 29,
   "metadata": {},
   "outputs": [],
   "source": [
    "# Get the bin lefts\n",
    "bin_lefts = binned_data.take(np.arange(binned_data.num_rows - 1))"
   ]
  },
  {
   "cell_type": "code",
   "execution_count": 30,
   "metadata": {},
   "outputs": [],
   "source": [
    "# Get the bin widths\n",
    "bin_widths = np.diff(binned_data.column('bin'))\n",
    "bin_lefts = bin_lefts.with_column('Width', bin_widths)"
   ]
  },
  {
   "cell_type": "code",
   "execution_count": 32,
   "metadata": {},
   "outputs": [],
   "source": [
    "# Get the bin heights\n",
    "bin_heights = bin_lefts.column('Percent') / bin_widths\n",
    "bin_lefts = bin_lefts.with_column('Height', bin_heights)"
   ]
  },
  {
   "cell_type": "code",
   "execution_count": 33,
   "metadata": {},
   "outputs": [
    {
     "data": {
      "text/html": [
       "<table border=\"1\" class=\"dataframe\">\n",
       "    <thead>\n",
       "        <tr>\n",
       "            <th>bin</th> <th>Age count</th> <th>Percent</th> <th>Width</th> <th>Height</th>\n",
       "        </tr>\n",
       "    </thead>\n",
       "    <tbody>\n",
       "        <tr>\n",
       "            <td>0   </td> <td>18       </td> <td>9      </td> <td>5    </td> <td>1.8     </td>\n",
       "        </tr>\n",
       "        <tr>\n",
       "            <td>5   </td> <td>15       </td> <td>7.5    </td> <td>5    </td> <td>1.5     </td>\n",
       "        </tr>\n",
       "        <tr>\n",
       "            <td>10  </td> <td>17       </td> <td>8.5    </td> <td>5    </td> <td>1.7     </td>\n",
       "        </tr>\n",
       "        <tr>\n",
       "            <td>15  </td> <td>41       </td> <td>20.5   </td> <td>10   </td> <td>2.05    </td>\n",
       "        </tr>\n",
       "        <tr>\n",
       "            <td>25  </td> <td>41       </td> <td>20.5   </td> <td>15   </td> <td>1.36667 </td>\n",
       "        </tr>\n",
       "        <tr>\n",
       "            <td>40  </td> <td>51       </td> <td>25.5   </td> <td>25   </td> <td>1.02    </td>\n",
       "        </tr>\n",
       "        <tr>\n",
       "            <td>65  </td> <td>17       </td> <td>8.5    </td> <td>35   </td> <td>0.242857</td>\n",
       "        </tr>\n",
       "    </tbody>\n",
       "</table>"
      ],
      "text/plain": [
       "bin  | Age count | Percent | Width | Height\n",
       "0    | 18        | 9       | 5     | 1.8\n",
       "5    | 15        | 7.5     | 5     | 1.5\n",
       "10   | 17        | 8.5     | 5     | 1.7\n",
       "15   | 41        | 20.5    | 10    | 2.05\n",
       "25   | 41        | 20.5    | 15    | 1.36667\n",
       "40   | 51        | 25.5    | 25    | 1.02\n",
       "65   | 17        | 8.5     | 35    | 0.242857"
      ]
     },
     "execution_count": 33,
     "metadata": {},
     "output_type": "execute_result"
    }
   ],
   "source": [
    "bin_lefts"
   ]
  },
  {
   "cell_type": "code",
   "execution_count": 34,
   "metadata": {},
   "outputs": [
    {
     "data": {
      "image/png": "[encoded data removed]",
      "text/plain": [
       "<Figure size 432x288 with 1 Axes>"
      ]
     },
     "metadata": {},
     "output_type": "display_data"
    }
   ],
   "source": [
    "top_movies.hist('Age', bins = my_bins, unit = 'Year')"
   ]
  }
 ],
 "metadata": {
  "anaconda-cloud": {},
  "kernelspec": {
   "display_name": "Python 3",
   "language": "python",
   "name": "python3"
  },
  "language_info": {
   "codemirror_mode": {
    "name": "ipython",
    "version": 3
   },
   "file_extension": ".py",
   "mimetype": "text/x-python",
   "name": "python",
   "nbconvert_exporter": "python",
   "pygments_lexer": "ipython3",
   "version": "3.7.3"
  }
 },
 "nbformat": 4,
 "nbformat_minor": 1
}
