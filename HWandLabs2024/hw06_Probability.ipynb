{
 "cells": [
  {
   "cell_type": "markdown",
   "metadata": {},
   "source": [
    "# Homework 6: Probability, Simulation, Estimation, and Assessing Models"
   ]
  },
  {
   "cell_type": "markdown",
   "metadata": {},
   "source": [
    "**Reading**: \n",
    "* [Randomness](https://www.inferentialthinking.com/chapters/09/randomness.html) \n",
    "* [Sampling and Empirical Distributions](https://www.inferentialthinking.com/chapters/10/sampling-and-empirical-distributions.html)\n",
    "* [Testing Hypotheses](https://www.inferentialthinking.com/chapters/11/testing-hypotheses.html)"
   ]
  },
  {
   "cell_type": "markdown",
   "metadata": {},
   "source": [
    "Please complete this notebook by filling in the cells provided. The cell above with import the autograder. Each time you start your server, you will need to execute this cell again to load the tests.\n",
    "\n",
    "For all problems that you must write our explanations and sentences for, you **must** provide your answer in the designated space. Moreover, throughout this homework and all future ones, please be sure to not re-assign variables throughout the notebook! For example, if you use `max_temperature` in your answer to one question, do not reassign it later on."
   ]
  },
  {
   "cell_type": "code",
   "execution_count": 2,
   "metadata": {},
   "outputs": [],
   "source": [
    "# Don't change this cell; just run it. \n",
    "\n",
    "import numpy as np\n",
    "from datascience import *\n",
    "\n",
    "# These lines do some fancy plotting magic.\n",
    "import matplotlib\n",
    "%matplotlib inline\n",
    "import matplotlib.pyplot as plt\n",
    "plt.style.use('fivethirtyeight')\n",
    "import warnings\n",
    "warnings.simplefilter('ignore', FutureWarning)\n",
    "\n",
    "#import otter\n",
    "#grader = otter.Notebook()\n"
   ]
  },
  {
   "cell_type": "markdown",
   "metadata": {},
   "source": [
    "## 1. Probability\n"
   ]
  },
  {
   "cell_type": "markdown",
   "metadata": {
    "deletable": false
   },
   "source": [
    "We will be testing some probability concepts that were introduced in lecture. For all of the following problems, we will introduce a problem statement and give you several proposed answers. You must assign the provided variable to your choice.\n",
    "\n",
    "\n",
    "\n",
    "You are more than welcome to create more cells across this notebook to use for arithmetic operations \n",
    "\n",
    "**Question 1.** You roll a 6-sided die 3 times. What is the chance of getting 3 sixes?\n",
    "\n",
    "1. $\\displaystyle 1-\\left(\\frac{1}{6}\\right)^{3}$\n",
    "\n",
    "2. $\\displaystyle \\left(\\frac{5}{6}\\right)^{3}$\n",
    "\n",
    "3. $\\displaystyle \\left(\\frac{1}{6}\\right)^{3}$\n",
    "\n",
    "Below, enter a, b or c, according to your selection.  \n",
    "\n",
    "<!--\n",
    "BEGIN QUESTION\n",
    "name: q1_1\n",
    "manual: false\n",
    "-->\n",
    "\n",
    "If you like, you can run this cell that contains a simulation of rolling a die 3 times and counting the number of 6's.  (Don't expect the result to be exactly right, simulations are often just approximately right.)\n"
   ]
  },
  {
   "cell_type": "code",
   "execution_count": 25,
   "metadata": {},
   "outputs": [
    {
     "data": {
      "text/plain": [
       "0.0045"
      ]
     },
     "execution_count": 25,
     "metadata": {},
     "output_type": "execute_result"
    }
   ],
   "source": [
    "die = make_array(0,0,0,0,0,1)\n",
    "sixes_in_three = make_array()\n",
    "\n",
    "for i in np.arange(10000):\n",
    "    three_rolls = np.random.choice(die, 3, replace=True)\n",
    "    sixes_in_three = np.append(sixes_in_three, sum(three_rolls))\n",
    "\n",
    "round(sum(sixes_in_three == 3)/10000, 4)\n"
   ]
  },
  {
   "cell_type": "code",
   "execution_count": 26,
   "metadata": {},
   "outputs": [
    {
     "data": {
      "text/plain": [
       "Ellipsis"
      ]
     },
     "execution_count": 26,
     "metadata": {},
     "output_type": "execute_result"
    }
   ],
   "source": [
    "three_sixes = ...\n",
    "three_sixes"
   ]
  },
  {
   "cell_type": "markdown",
   "metadata": {
    "deletable": false
   },
   "source": [
    "**Question 2.** Take the same problem set-up as before, rolling a fair dice 3 times. What is the chance that every roll is less than or equal to 5?\n",
    "\n",
    "1. $\\displaystyle 1-\\left(\\frac{1}{6}\\right)^{3}$\n",
    "\n",
    "2. $\\displaystyle \\left(\\frac{5}{6}\\right)^{3}$\n",
    "\n",
    "3. $\\displaystyle \\left(\\frac{1}{6}\\right)^{3}$\n",
    "\n",
    "Assign `five_or_less` to either 1, 2, or 1. \n",
    "\n",
    "<!--\n",
    "BEGIN QUESTION\n",
    "name: q1_2\n",
    "manual: false\n",
    "-->\n",
    "\n",
    "Again, a simulation is provided to help you make the right decision.  "
   ]
  },
  {
   "cell_type": "code",
   "execution_count": 27,
   "metadata": {},
   "outputs": [
    {
     "data": {
      "text/plain": [
       "0.5684"
      ]
     },
     "execution_count": 27,
     "metadata": {},
     "output_type": "execute_result"
    }
   ],
   "source": [
    "die = make_array(0,0,0,0,0,1)\n",
    "sixes_in_three = make_array()\n",
    "\n",
    "for i in np.arange(10000):\n",
    "    three_rolls = np.random.choice(die, 3, replace=True)\n",
    "    sixes_in_three = np.append(sixes_in_three, sum(three_rolls))\n",
    "\n",
    "round(sum(sixes_in_three == 0)/10000, 4)"
   ]
  },
  {
   "cell_type": "code",
   "execution_count": 28,
   "metadata": {},
   "outputs": [
    {
     "data": {
      "text/plain": [
       "Ellipsis"
      ]
     },
     "execution_count": 28,
     "metadata": {},
     "output_type": "execute_result"
    }
   ],
   "source": [
    "five_or_less = ...\n",
    "five_or_less"
   ]
  },
  {
   "cell_type": "markdown",
   "metadata": {
    "deletable": false
   },
   "source": [
    "**Question 3.** Assume we are picking a lottery ticket. We must choose three distinct numbers from 1 to 20 and write them on a ticket. Next, someone picks three numbers one by one from a bowl with numbers from 1 to 20 each time without putting the previous number back in. We win if our numbers are all called *any* in order. \n",
    "\n",
    "If we decide to play the game and pick our numbers as 12, 14, and 18, what is the chance that we win? \n",
    "\n",
    "Our proposed answers: \n",
    "\n",
    "1. $\\displaystyle \\left(\\frac{3}{20}\\right)^3$\n",
    "\n",
    "2. $\\displaystyle \\left(\\frac{6}{20 \\cdot 19 \\cdot 18}\\right)$\n",
    "\n",
    "3. $\\displaystyle \\left(\\frac{12\\cdot14\\cdot18}{20 \\cdot 19 \\cdot 18}\\right)$\n",
    "\n",
    "Assign `lottery` to either 1, 2, or 3. \n",
    "\n",
    "<!--\n",
    "BEGIN QUESTION\n",
    "name: q1_3\n",
    "manual: false\n",
    "-->"
   ]
  },
  {
   "cell_type": "code",
   "execution_count": 29,
   "metadata": {},
   "outputs": [
    {
     "data": {
      "text/plain": [
       "0.000778"
      ]
     },
     "execution_count": 29,
     "metadata": {},
     "output_type": "execute_result"
    }
   ],
   "source": [
    "wins = 0\n",
    "reps = 500000\n",
    "\n",
    "for i in np.arange(reps):\n",
    "    picks= [np.random.choice(np.arange(1,21)), np.random.choice(np.arange(1,21)), np.random.choice(np.arange(1,21))]\n",
    "    if   picks == [12, 14, 18]:\n",
    "        wins = wins + 1\n",
    "    elif picks == [12, 18, 14]:\n",
    "        wins = wins + 1\n",
    "    elif picks == [14, 12, 18]:\n",
    "        wins = wins + 1\n",
    "    elif picks == [14, 18, 12]:\n",
    "        wins = wins + 1\n",
    "    elif picks == [18, 12, 14]:\n",
    "        wins = wins + 1\n",
    "    elif picks == [18, 14, 12]:\n",
    "        wins = wins + 1\n",
    "\n",
    "wins/reps\n"
   ]
  },
  {
   "cell_type": "code",
   "execution_count": 30,
   "metadata": {},
   "outputs": [],
   "source": [
    "lottery = ..."
   ]
  },
  {
   "cell_type": "markdown",
   "metadata": {},
   "source": [
    "**Question 3.2.** How would the probability change if the numbers HAD to be in ORDER for us to win?\n",
    "\n",
    "1. The probability goes down.\n",
    "\n",
    "2. The probability is actually the same.\n",
    "\n",
    "3. The probability goes up."
   ]
  },
  {
   "cell_type": "code",
   "execution_count": 31,
   "metadata": {},
   "outputs": [],
   "source": [
    "lottery_with_order = ..."
   ]
  },
  {
   "cell_type": "markdown",
   "metadata": {
    "deletable": false
   },
   "source": [
    "**Question 4.** Assume we have two lists, list A and list B. List A contains the numbers [20,10,30], while list B contains the numbers [10,30,20,40,30]. We choose one number from list A randomly and one number from list B randomly. What is the chance that the number we drew from list A is larger than or equal to the number we drew from list B?\n",
    "\n",
    "Our proposed solutions: \n",
    "\n",
    "1. $\\displaystyle \\frac{7}{15}$\n",
    "\n",
    "2. $\\displaystyle \\frac{3}{5}$\n",
    "\n",
    "4. $\\displaystyle \\frac{1}{5}$\n",
    "\n",
    "Assign `list_chances` to either 1, 2, or 3. \n",
    "\n",
    "*Hint: Consider the different possible ways that the items in List A can be greater than or equal to items in List B. Try working out your thoughts with a pencil and paper, what do you think the correct solutions will be close to?*\n",
    "\n",
    "<!--\n",
    "BEGIN QUESTION\n",
    "name: q1_4\n",
    "manual: false\n",
    "-->"
   ]
  },
  {
   "cell_type": "code",
   "execution_count": 32,
   "metadata": {},
   "outputs": [
    {
     "data": {
      "text/plain": [
       "0.467242"
      ]
     },
     "execution_count": 32,
     "metadata": {},
     "output_type": "execute_result"
    }
   ],
   "source": [
    "listA = make_array(10, 20, 30)\n",
    "listB = make_array(10, 20, 30, 30, 40)\n",
    "greater_or_equal_count = 0\n",
    "\n",
    "for i in np.arange(reps):\n",
    "    pickA = np.random.choice(listA)\n",
    "    pickB = np.random.choice(listB)\n",
    "    if pickA >= pickB:\n",
    "        greater_or_equal_count = greater_or_equal_count + 1\n",
    "        \n",
    "greater_or_equal_count/reps\n"
   ]
  },
  {
   "cell_type": "code",
   "execution_count": 33,
   "metadata": {},
   "outputs": [],
   "source": [
    "list_chances = ..."
   ]
  },
  {
   "cell_type": "markdown",
   "metadata": {},
   "source": [
    "## 2. Monkeys Typing Shakespeare\n",
    "##### (...or at least the string \"datascience\")"
   ]
  },
  {
   "cell_type": "markdown",
   "metadata": {
    "deletable": false
   },
   "source": [
    "A monkey is banging repeatedly on the keys of a special keyboard. Each time, the monkey is equally likely to hit any of the 26 lowercase letters of the English alphabet and any number between 0-9 (inclusive), regardless of what it has hit before. There are no other keys on the keyboard.\n",
    "\n",
    "This question is inspired by a mathematical theorem called the Infinite monkey theorem (<https://en.wikipedia.org/wiki/Infinite_monkey_theorem>), which postulates that if you put a monkey in the situation described above for an infinite time, they will eventually type out all of Shakespeare’s works.\n",
    "\n",
    "**Question 1.** Suppose the monkey hits the keyboard 4 times.  Compute the chance that the monkey types the sequence `data`.  (Call this `data_chance`.) Use algebra and type in an arithmetic equation that Python can evalute.\n",
    "\n",
    "<!--\n",
    "BEGIN QUESTION\n",
    "name: q2_1\n",
    "manual: false\n",
    "-->"
   ]
  },
  {
   "cell_type": "code",
   "execution_count": 34,
   "metadata": {},
   "outputs": [
    {
     "data": {
      "text/plain": [
       "5.953741807651273e-07"
      ]
     },
     "execution_count": 34,
     "metadata": {},
     "output_type": "execute_result"
    }
   ],
   "source": [
    "data_chance = 1/36**4\n",
    "data_chance"
   ]
  },
  {
   "cell_type": "code",
   "execution_count": 35,
   "metadata": {
    "deletable": false,
    "editable": false
   },
   "outputs": [],
   "source": [
    "# We have provided the code below to compute a list called keys,\n",
    "# containing all the lower-case English letters, upper-case English letters, and the digits 0-9 (inclusive).  Print it if you\n",
    "# want to verify what it contains.\n",
    "import string\n",
    "keys = list(string.ascii_lowercase + string.digits)\n",
    "\n",
    "def simulate_key_strike():\n",
    "    \"\"\"Simulates one random key strike.\"\"\"\n",
    "    return np.random.choice(keys)\n",
    "\n",
    "def simulate_several_key_strikes(num_strikes):\n",
    "    \"\"\"Simulates one random key strike.\"\"\"\n",
    "    return \"\".join(np.random.choice(keys, num_strikes, replace = True))"
   ]
  },
  {
   "cell_type": "markdown",
   "metadata": {
    "deletable": false
   },
   "source": [
    "**Question 2.** Run `simulate_several_key_strikes(4)` in the cell below.\n",
    "\n"
   ]
  },
  {
   "cell_type": "code",
   "execution_count": 12,
   "metadata": {},
   "outputs": [
    {
     "data": {
      "text/plain": [
       "'ofdy'"
      ]
     },
     "execution_count": 12,
     "metadata": {},
     "output_type": "execute_result"
    }
   ],
   "source": [
    "simulate_several_key_strikes(4)"
   ]
  },
  {
   "cell_type": "markdown",
   "metadata": {
    "deletable": false
   },
   "source": [
    "**Question 3.** Complete the code for the simulation below. \n",
    "\n",
    "+ Set reps equal to 500000.\n",
    "\n",
    "+ Set `num_keys` equal to the number of letters in the word *data*.\n",
    "\n",
    "+ Set your target equal to <span style=\"color:#BA2121\" style=\"font:bold\">\"data\"</span>\n",
    "\n",
    "The <span style=\"color:#008000\" style=\"font:bold\"><b>for</b></span> statement calls `simulate_several_key_strikes` reps times, each time simulating the monkey striking num_keys times. Using the <span style=\"color:#008000\" style=\"font:bold\"><b>if</b></span> statement, count the number of times the result is whatever you set the target equal to.  Finally, it computes the proportion of times the monkey types the target, then calls that proportion `data_proportion`.\n",
    "\n",
    "\n"
   ]
  },
  {
   "cell_type": "code",
   "execution_count": 40,
   "metadata": {},
   "outputs": [
    {
     "ename": "TypeError",
     "evalue": "unsupported operand type(s) for -: 'ellipsis' and 'int'",
     "output_type": "error",
     "traceback": [
      "\u001b[0;31m---------------------------------------------------------------------------\u001b[0m",
      "\u001b[0;31mTypeError\u001b[0m                                 Traceback (most recent call last)",
      "\u001b[0;32m<ipython-input-40-babfad7e4a90>\u001b[0m in \u001b[0;36m<module>\u001b[0;34m\u001b[0m\n\u001b[1;32m      7\u001b[0m \u001b[0;31m## Change nothing below this line\u001b[0m\u001b[0;34m\u001b[0m\u001b[0;34m\u001b[0m\u001b[0;34m\u001b[0m\u001b[0m\n\u001b[1;32m      8\u001b[0m \u001b[0mcount\u001b[0m \u001b[0;34m=\u001b[0m \u001b[0;36m0\u001b[0m\u001b[0;34m\u001b[0m\u001b[0;34m\u001b[0m\u001b[0m\n\u001b[0;32m----> 9\u001b[0;31m \u001b[0;32mfor\u001b[0m \u001b[0mi\u001b[0m \u001b[0;32min\u001b[0m \u001b[0mnp\u001b[0m\u001b[0;34m.\u001b[0m\u001b[0marange\u001b[0m\u001b[0;34m(\u001b[0m\u001b[0mreps\u001b[0m\u001b[0;34m)\u001b[0m\u001b[0;34m:\u001b[0m\u001b[0;34m\u001b[0m\u001b[0;34m\u001b[0m\u001b[0m\n\u001b[0m\u001b[1;32m     10\u001b[0m     \u001b[0;32mif\u001b[0m \u001b[0msimulate_several_key_strikes\u001b[0m\u001b[0;34m(\u001b[0m\u001b[0mnum_keys\u001b[0m\u001b[0;34m)\u001b[0m \u001b[0;34m==\u001b[0m \u001b[0mtarget\u001b[0m\u001b[0;34m:\u001b[0m\u001b[0;34m\u001b[0m\u001b[0;34m\u001b[0m\u001b[0m\n\u001b[1;32m     11\u001b[0m         \u001b[0mcount\u001b[0m \u001b[0;34m=\u001b[0m \u001b[0mcount\u001b[0m \u001b[0;34m+\u001b[0m \u001b[0;36m1\u001b[0m\u001b[0;34m\u001b[0m\u001b[0;34m\u001b[0m\u001b[0m\n",
      "\u001b[0;31mTypeError\u001b[0m: unsupported operand type(s) for -: 'ellipsis' and 'int'"
     ]
    }
   ],
   "source": [
    "num_keys = ...\n",
    "\n",
    "target = ...\n",
    "\n",
    "reps = ...\n",
    "\n",
    "## Change nothing below this line\n",
    "count = 0\n",
    "for i in np.arange(reps):\n",
    "    if simulate_several_key_strikes(num_keys) == target:\n",
    "        count = count + 1\n",
    "        \n",
    "data_proportion = count / reps \n",
    "data_proportion"
   ]
  },
  {
   "cell_type": "markdown",
   "metadata": {
    "deletable": false
   },
   "source": [
    "**Question 4.** Check the value your simulation computed for `data_proportion`.  Is your simulation a good way to estimate the chance that the monkey types `\"data\"` in 4 strikes (the answer to question 1)?  Why or why not?  If you rerun it, do you get consistent answers?\n",
    "\n",
    "<!--\n",
    "BEGIN QUESTION\n",
    "name: q2_5\n",
    "manual: true\n",
    "-->\n",
    "<!-- EXPORT TO PDF -->"
   ]
  },
  {
   "cell_type": "markdown",
   "metadata": {
    "export_pdf": true,
    "manual_grade": true,
    "manual_problem_id": "monkeys_5"
   },
   "source": [
    "*Write your answer here, replacing this text.*"
   ]
  },
  {
   "cell_type": "markdown",
   "metadata": {
    "deletable": false
   },
   "source": [
    "**Question 5.** Compute the chance that the monkey types the letter `\"t\"` at least once in the 5 strikes.  Call it `t_chance`. Use algebra and type in an arithmetic equation that Python can evalute. \n",
    "\n",
    "<!--\n",
    "BEGIN QUESTION\n",
    "name: q2_6\n",
    "manual: false\n",
    "-->"
   ]
  },
  {
   "cell_type": "code",
   "execution_count": 39,
   "metadata": {},
   "outputs": [
    {
     "data": {
      "text/plain": [
       "0.10656661998933092"
      ]
     },
     "execution_count": 39,
     "metadata": {},
     "output_type": "execute_result"
    }
   ],
   "source": [
    "t_chance = 1 - (35/36)**4\n",
    "t_chance"
   ]
  },
  {
   "cell_type": "markdown",
   "metadata": {
    "deletable": false
   },
   "source": [
    "**Question 6.** Do you think that a computer simulation is more or less effective to estimate `t_chance` compared to when we tried to estimate `data_chance` this way? Why or why not? (You don't need to write a simulation, but you can run ours several times and you should see that the probability is pretty close to the one you calculated earlier.)\n",
    "\n"
   ]
  },
  {
   "cell_type": "code",
   "execution_count": 37,
   "metadata": {},
   "outputs": [
    {
     "data": {
      "text/plain": [
       "0.1076"
      ]
     },
     "execution_count": 37,
     "metadata": {},
     "output_type": "execute_result"
    }
   ],
   "source": [
    "## t_chance simulation\n",
    "\n",
    "count = 0\n",
    "for i in np.arange(5000):\n",
    "    draws = 0\n",
    "    while draws < 4:\n",
    "        draws = draws + 1\n",
    "        if simulate_key_strike() == 't':\n",
    "            count = count + 1\n",
    "            draws = 4\n",
    "\n",
    "count/5000            "
   ]
  },
  {
   "cell_type": "markdown",
   "metadata": {
    "export_pdf": true,
    "manual_grade": true,
    "manual_problem_id": "monkeys_7"
   },
   "source": [
    "*Write your answer here, replacing this text.*"
   ]
  },
  {
   "cell_type": "markdown",
   "metadata": {},
   "source": [
    "## 3. Sampling Basketball Players\n"
   ]
  },
  {
   "cell_type": "markdown",
   "metadata": {},
   "source": [
    "This exercise uses salary data and game statistics for basketball players from the 2019-2020 NBA season. The data was collected from [Basketball-Reference](http://www.basketball-reference.com).\n",
    "\n",
    "Run the next cell to load the two datasets."
   ]
  },
  {
   "cell_type": "code",
   "execution_count": 4,
   "metadata": {
    "deletable": false,
    "editable": false
   },
   "outputs": [
    {
     "data": {
      "text/html": [
       "<table border=\"1\" class=\"dataframe\">\n",
       "    <thead>\n",
       "        <tr>\n",
       "            <th>Player</th> <th>3P</th> <th>2P</th> <th>PTS</th>\n",
       "        </tr>\n",
       "    </thead>\n",
       "    <tbody>\n",
       "        <tr>\n",
       "            <td>Steven Adams     </td> <td>0   </td> <td>4.4 </td> <td>10.7</td>\n",
       "        </tr>\n",
       "        <tr>\n",
       "            <td>Bam Adebayo      </td> <td>0   </td> <td>6.2 </td> <td>15.8</td>\n",
       "        </tr>\n",
       "        <tr>\n",
       "            <td>LaMarcus Aldridge</td> <td>1.2 </td> <td>6.3 </td> <td>19.1</td>\n",
       "        </tr>\n",
       "    </tbody>\n",
       "</table>\n",
       "<p>... (585 rows omitted)</p>"
      ],
      "text/plain": [
       "<IPython.core.display.HTML object>"
      ]
     },
     "metadata": {},
     "output_type": "display_data"
    },
    {
     "data": {
      "text/html": [
       "<table border=\"1\" class=\"dataframe\">\n",
       "    <thead>\n",
       "        <tr>\n",
       "            <th>Name</th> <th>Salary</th>\n",
       "        </tr>\n",
       "    </thead>\n",
       "    <tbody>\n",
       "        <tr>\n",
       "            <td>Stephen Curry    </td> <td>40231758</td>\n",
       "        </tr>\n",
       "        <tr>\n",
       "            <td>Chris Paul       </td> <td>38506482</td>\n",
       "        </tr>\n",
       "        <tr>\n",
       "            <td>Russell Westbrook</td> <td>38178000</td>\n",
       "        </tr>\n",
       "    </tbody>\n",
       "</table>\n",
       "<p>... (522 rows omitted)</p>"
      ],
      "text/plain": [
       "<IPython.core.display.HTML object>"
      ]
     },
     "metadata": {},
     "output_type": "display_data"
    }
   ],
   "source": [
    "player_data = Table.read_table('player_data.csv')\n",
    "salary_data = Table.read_table('salary_data.csv')\n",
    "player_data.show(3)\n",
    "salary_data.show(3)"
   ]
  },
  {
   "cell_type": "markdown",
   "metadata": {
    "deletable": false
   },
   "source": [
    "**Question 1**  Using `.join` method we merged these two tables into one by matching information in a specified column.  In case you ever have to do this, the format is this:\n",
    "\n",
    "first_table.join(<span style=\"color:#BA2121\" >\"First Variable Name\" </span>, second_table, <span style=\"color:#BA2121\" >\"Second Variable Name\" </span>)\n",
    "\n",
    "However, this was done for you for this problem.  The dataset is called *player_salary_data.csv*.  Use `Table.read_table` to read this in and name it `full_data`.  \n"
   ]
  },
  {
   "cell_type": "code",
   "execution_count": null,
   "metadata": {
    "scrolled": false
   },
   "outputs": [],
   "source": [
    "full_data = Table.read_table(\"player_salary_data.csv\")\n",
    "\n",
    "full_data"
   ]
  },
  {
   "cell_type": "markdown",
   "metadata": {
    "deletable": false
   },
   "source": [
    "Basketball team managers would like to hire players who perform well but don't command high salaries.  From this perspective, a very crude measure of a player's *value* to their team is the number of 3 pointers and free throws the player scored in a season for every **\\$100000 of salary** (*Note*: the `Salary` column is in dollars, not hundreds of thousands of dollars). For example, Al Horford scored an average of 5.2 points for 3 pointers and free throws combined, and has a salary of **\\$28 million.** This is equivalent to 280 thousands of dollars, so his value is $\\frac{5.2}{280}$. The formula is:\n",
    "\n",
    "$$\\frac{\\text{\"PTS\"} - 2 * \\text{\"2P\"}}{\\text{\"Salary\"}\\ / \\ 100000}$$\n",
    "\n",
    "**Question 2.** Create a table called `full_data_with_value` that's a copy of `full_data`, with an extra column called `\"Value\"` containing each player's value (according to our crude measure).  Then make a histogram of players' values.  **Specify bins that make the histogram informative and don't forget your units!** Remember that `hist()` takes in an optional third argument that allows you to specify the units, such as unit <span style=\"color:#AA22FF\" ><b>=</b></span> <span style=\"color:#BA2121\" > \"Pts / $100K\" </span>. Refer to the python reference to look at `tbl.hist(...)` if necessary.\n",
    "\n",
    "*Just so you know:* Informative histograms contain a majority of the data and **exclude outliers**\n",
    "\n"
   ]
  },
  {
   "cell_type": "code",
   "execution_count": 52,
   "metadata": {
    "export_pdf": true,
    "manual_grade": true,
    "manual_problem_id": "sampling_players_2"
   },
   "outputs": [
    {
     "data": {
      "image/png": "[encoded data removed]",
      "text/plain": [
       "<Figure size 432x288 with 1 Axes>"
      ]
     },
     "metadata": {},
     "output_type": "display_data"
    }
   ],
   "source": [
    "bins = np.arange(0, 0.7, .1) # Use this provided bins when you make your histogram\n",
    "\n",
    "value = ...\n",
    "\n",
    "full_data_with_value = ...\n",
    "\n"
   ]
  },
  {
   "cell_type": "markdown",
   "metadata": {},
   "source": [
    "Now suppose we weren't able to find out every player's salary (perhaps it was too costly to interview each player).  Instead, we have gathered a *simple random sample* of 50 players' salaries.  The cell below loads those data."
   ]
  },
  {
   "cell_type": "code",
   "execution_count": 8,
   "metadata": {
    "scrolled": true
   },
   "outputs": [
    {
     "data": {
      "text/html": [
       "<table border=\"1\" class=\"dataframe\">\n",
       "    <thead>\n",
       "        <tr>\n",
       "            <th>Player</th> <th>3P</th> <th>2P</th> <th>PTS</th> <th>Salary</th>\n",
       "        </tr>\n",
       "    </thead>\n",
       "    <tbody>\n",
       "        <tr>\n",
       "            <td>Abdel Nader   </td> <td>0.7 </td> <td>1.3 </td> <td>5.7 </td> <td>1618520 </td>\n",
       "        </tr>\n",
       "        <tr>\n",
       "            <td>Alize Johnson </td> <td>0   </td> <td>0.6 </td> <td>1.6 </td> <td>1416852 </td>\n",
       "        </tr>\n",
       "        <tr>\n",
       "            <td>Andre Drummond</td> <td>0.1 </td> <td>7.3 </td> <td>17.7</td> <td>27093019</td>\n",
       "        </tr>\n",
       "    </tbody>\n",
       "</table>\n",
       "<p>... (48 rows omitted)</p>"
      ],
      "text/plain": [
       "<IPython.core.display.HTML object>"
      ]
     },
     "metadata": {},
     "output_type": "display_data"
    }
   ],
   "source": [
    "sample_data = Table.read_table(\"sample_player_salary_data.csv\")\n",
    "sample_data.show(3)"
   ]
  },
  {
   "cell_type": "markdown",
   "metadata": {
    "deletable": false
   },
   "source": [
    "**Question 3.** Make a histogram of the values of the players in `sample_salary_data`.  \n",
    "\n",
    "Then compute value, using the same method for measuring value we used in question 2. Make sure to specify the units again in the histogram as stated in the previous problem. **Use the same bins, too.**  "
   ]
  },
  {
   "cell_type": "code",
   "execution_count": 9,
   "metadata": {
    "export_pdf": true
   },
   "outputs": [
    {
     "data": {
      "image/png": "[encoded data removed]",
      "text/plain": [
       "<Figure size 432x288 with 1 Axes>"
      ]
     },
     "metadata": {},
     "output_type": "display_data"
    }
   ],
   "source": [
    "bins = np.arange(0, 0.7, .1) # Use this provided bins when you make your histogram\n",
    "\n",
    "value = ...\n",
    "\n",
    "sample_data_with_value = ...\n",
    "\n"
   ]
  },
  {
   "cell_type": "markdown",
   "metadata": {
    "deletable": false,
    "editable": false
   },
   "source": [
    "Now let us summarize what we have seen.  To guide you, we have written most of the summary already.\n",
    "\n",
    "**Question 4.** Complete the statements below by setting each relevant variable name to the value that correctly fills the blank.\n",
    "\n",
    "* The plot in question 2 displayed a(n) [`distribution_1`] distribution of the population of [`player_count_1`] players.  The areas of the bars in the plot sum to [`area_total_1`].\n",
    "\n",
    "* The plot in question 3 displayed a(n) [`distribution_2`] distribution of the sample of [`player_count_2`] players.  The areas of the bars in the plot sum to [`area_total_2`].\n",
    "\n",
    "`distribution_1` and `distribution_2` should be set to one of the following strings: `\"empirical\"` or `\"probability\"`. \n",
    "\n",
    "`player_count_1`, `area_total_1`, `player_count_2`, and `area_total_2` should be set to integers.\n",
    "\n",
    "Remember that areas are represented in terms of percentages.\n",
    "\n",
    "*Hint 1:* For a refresher on distribution types, check out [Section 10.1](https://www.inferentialthinking.com/chapters/10/1/empirical-distributions.html)\n",
    "\n",
    "*Hint 2:* The `hist()` table method ignores data points outside the range of its bins, but you may ignore this fact and calculate the areas of the bars using what you know about histograms from lecture.\n",
    "\n",
    "<!--\n",
    "BEGIN QUESTION\n",
    "name: q3_4\n",
    "-->"
   ]
  },
  {
   "cell_type": "code",
   "execution_count": 41,
   "metadata": {},
   "outputs": [],
   "source": [
    "distribution_1 = ...\n",
    "player_count_1 = ...\n",
    "area_total_1 = ...\n",
    "\n",
    "distribution_2 = ...\n",
    "player_count_2 = ...\n",
    "area_total_2 = ..."
   ]
  },
  {
   "cell_type": "markdown",
   "metadata": {
    "deletable": false,
    "editable": false
   },
   "source": [
    "**Question 5.** For which range of values does the plot in question 3 better depict the distribution of the **population's player values**: 0 to 0.3, or above 0.3? Explain your answer. \n",
    "\n",
    "<!--\n",
    "BEGIN QUESTION\n",
    "name: q3_5\n",
    "manual: true\n",
    "-->\n",
    "<!-- EXPORT TO PDF -->"
   ]
  },
  {
   "cell_type": "markdown",
   "metadata": {
    "export_pdf": true,
    "manual_grade": true,
    "manual_problem_id": "sampling_players_5"
   },
   "source": [
    "*Write your answer here, replacing this text.*"
   ]
  },
  {
   "cell_type": "markdown",
   "metadata": {},
   "source": [
    "## 4. Assessing Jade's Models\n",
    "#### Games with Jade"
   ]
  },
  {
   "cell_type": "markdown",
   "metadata": {},
   "source": [
    "Our friend Jade comes over and asks us to play a game with her. The game works like this: \n",
    "\n",
    "> We each place 10 one dollar bills on the table.  Then Jade flips a coin.  If it comes up heads, she picks up a dollar and if it's tails,  I pick up a dollar.  We keep playing until all 20 of the dollars have been claimed. \n",
    "> \n",
    "> Jade wins 15 times, thus gaining \\$5.\n",
    "\n",
    "We later learn that Jade has been studying close-up magic, and has been learning to toss and catch a coin so as to produce a certain outcome.  We confront Jade about cheating and she claims that she did not use her skills as a prestidigitator during our contest.  She tries to convince us that the coin was fair and had an equal chance of landing on heads or tails.  "
   ]
  },
  {
   "cell_type": "markdown",
   "metadata": {
    "deletable": false
   },
   "source": [
    "#### Question 1\n",
    "Assign `model_probabilities` to a two-item array containing the chance of head as the first element, and the chance of tails as the second element under Jade's model. Since we're working with probabilities, make sure your values are between 0 and 1, and sum to 1.  \n",
    "\n",
    "<!--\n",
    "BEGIN QUESTION\n",
    "name: q5_1\n",
    "manual: false\n",
    "-->"
   ]
  },
  {
   "cell_type": "code",
   "execution_count": 57,
   "metadata": {},
   "outputs": [
    {
     "data": {
      "text/plain": [
       "array([0.5, 0.5])"
      ]
     },
     "execution_count": 57,
     "metadata": {},
     "output_type": "execute_result"
    }
   ],
   "source": [
    "model_probabilities = ...\n",
    "model_probabilities"
   ]
  },
  {
   "cell_type": "markdown",
   "metadata": {
    "deletable": false
   },
   "source": [
    "**Question 2**\n",
    "\n",
    "Before you accuse a friend of cheating, we should have strong evidence.  Instead of the usual $\\alpha$ of 0.05 we will adjust our level of significance.  If we want to be more sure that our evidence is strong, which direction should we adjust our $\\alpha$, up or down?  To make this simple, we'll choose between two possible values of $\\alpha$.  Should we set it to 0.03 or 0.07?"
   ]
  },
  {
   "cell_type": "code",
   "execution_count": 58,
   "metadata": {},
   "outputs": [],
   "source": [
    "## If you think alpha should go down, set it to 0.03\n",
    "## If you think alpha should go up, set it to 0.07\n",
    "\n",
    "alpha = ..."
   ]
  },
  {
   "cell_type": "markdown",
   "metadata": {
    "deletable": false
   },
   "source": [
    "**Question 3**\n",
    "\n",
    "We believe Jade's model is incorrect. In particular, we believe there to be a  larger chance of getting a heads.  Which of the following statistics is the simplest logical choice for a statistic we could use in this simulation.  Assign `statistic_choice` to the correct answer. \n",
    "\n",
    "1. The actual number of heads we get in 20 flips.\n",
    "2. The difference between the actual number of heads in 20 flips and the expected number of heads in 10 flips (10).\n",
    "3. The distance (absolute value of difference) between the actual number of heads in 20 flips and the expected number of heads in 20 flips (10).\n",
    "4. The expected number of heads in 20 flips (10).\n"
   ]
  },
  {
   "cell_type": "code",
   "execution_count": 59,
   "metadata": {},
   "outputs": [
    {
     "data": {
      "text/plain": [
       "1"
      ]
     },
     "execution_count": 59,
     "metadata": {},
     "output_type": "execute_result"
    }
   ],
   "source": [
    "statistic_choice = ...\n",
    "\n",
    "statistic_choice"
   ]
  },
  {
   "attachments": {
    "approx_normal_hist.png": {
     "image/png": "[encoded data removed]"
    }
   },
   "cell_type": "markdown",
   "metadata": {},
   "source": [
    "**Question 4**\n",
    "\n",
    "In the next two cells, we are going to define and run a simulation to assess whether Jade is most likely cheating.  First, you must decide how many repetitions the simulation should include.  Set `repetitions` to an amount that results in a histogram that appears approximately normal. For reference, the histogram below appears approximately normal.  \n",
    "\n",
    "\n",
    "![approx_normal_hist.png](attachment:approx_normal_hist.png)\n",
    "\n",
    "\n",
    "\n",
    "*There are many possible reasonable answers, and you can change your answer if your histogram doesn't look appropriate.*\n",
    "\n",
    "For now, it is set to 5, which is **NOT** a reasonable amount. "
   ]
  },
  {
   "cell_type": "code",
   "execution_count": 66,
   "metadata": {},
   "outputs": [],
   "source": [
    "repetitions = 5"
   ]
  },
  {
   "cell_type": "code",
   "execution_count": 67,
   "metadata": {
    "deletable": false
   },
   "outputs": [
    {
     "data": {
      "image/png": "[encoded data removed]",
      "text/plain": [
       "<Figure size 432x288 with 1 Axes>"
      ]
     },
     "metadata": {},
     "output_type": "display_data"
    }
   ],
   "source": [
    "## Run this cell\n",
    "\n",
    "coin_statistics = make_array()\n",
    "\n",
    "def simulation_and_statistic(sample_size, model_proportions):\n",
    "    return sample_size * sample_proportions(sample_size, model_proportions).item(0)\n",
    "\n",
    "for i in np.arange(repetitions):\n",
    "    coin_statistics =(np.append(coin_statistics, \n",
    "                simulation_and_statistic(20, model_probabilities)))\n",
    "\n",
    "if statistic_choice == 4:\n",
    "    print(\"This is the wrong statistic_choice.  Go back and try Question 2 again.\")\n",
    "elif statistic_choice == 3:\n",
    "    print(\"This is a bad choice for your statistic_choice, why?\")\n",
    "    coin_statistics = np.abs(coin_statistics - 10)\n",
    "    bins = np.arange(0, 11)\n",
    "    obs = 5\n",
    "    stat = sum(coin_statistics >= obs)/repetitions\n",
    "    Table().with_column('Coin Statistics', coin_statistics).hist('Coin Statistics', bins = bins, left_end=obs)\n",
    "    plt.ylim(-0.01, .35)\n",
    "    plt.scatter(obs, -0.003, marker = '^', color = \"red\")\n",
    "    plt.text(obs, 0.055, \"$p = $\"+ str(np.round(stat, 4)))\n",
    "    plt.text(obs, 0.035, r\"$\\alpha = $\" + str(alpha));\n",
    "elif statistic_choice == 2:\n",
    "    print(\"This choice is not the best, but it is acceptable.\")\n",
    "    coin_statistics = coin_statistics - 10\n",
    "    bins = np.arange(-11, 11)\n",
    "    obs = 5\n",
    "    stat = sum(coin_statistics >= obs)/repetitions\n",
    "    Table().with_column('Coin Statistics', coin_statistics).hist('Coin Statistics', bins = bins, left_end=obs)\n",
    "    plt.ylim(-0.01, .19)\n",
    "    plt.scatter(obs, -0.003, marker = '^', color = \"red\")\n",
    "    plt.text(obs, 0.045, f\"$p = ${np.round(stat, 4)}\")\n",
    "    plt.text(obs, 0.025, r\"$\\alpha = $\" + str(alpha));\n",
    "elif statistic_choice == 1:\n",
    "    bins = np.arange(0, 21)\n",
    "    obs = 15\n",
    "    stat = sum(coin_statistics >= obs)/repetitions\n",
    "    Table().with_column('Coin Statistics', coin_statistics).hist('Coin Statistics', bins = bins, left_end=obs)\n",
    "    plt.ylim(-0.01, .19)\n",
    "    plt.scatter(obs, -0.003, marker = '^', color = \"red\")\n",
    "    plt.text(obs, 0.045, f\"$p = ${np.round(stat, 4)}\")\n",
    "    plt.text(obs, 0.025, r\"$\\alpha = $\" + str(alpha));\n",
    "else:\n",
    "    print(\"You did not enter a valid choice.  Try Question 2 again.\")"
   ]
  },
  {
   "cell_type": "markdown",
   "metadata": {
    "deletable": false
   },
   "source": [
    "#### Question 5\n",
    "Quoting a p-value, state in context whether you believe Jade was cheating or not.  "
   ]
  },
  {
   "cell_type": "markdown",
   "metadata": {
    "export_pdf": true,
    "manual_problem_id": "dice_and_coins_5"
   },
   "source": [
    "*Write your answer here, replacing this text.*"
   ]
  }
 ],
 "metadata": {
  "celltoolbar": "Edit Metadata",
  "kernelspec": {
   "display_name": "Python 3",
   "language": "python",
   "name": "python3"
  },
  "language_info": {
   "codemirror_mode": {
    "name": "ipython",
    "version": 3
   },
   "file_extension": ".py",
   "mimetype": "text/x-python",
   "name": "python",
   "nbconvert_exporter": "python",
   "pygments_lexer": "ipython3",
   "version": "3.8.6"
  }
 },
 "nbformat": 4,
 "nbformat_minor": 1
}
