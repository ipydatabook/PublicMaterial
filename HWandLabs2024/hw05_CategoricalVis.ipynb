{
 "cells": [
  {
   "cell_type": "markdown",
   "metadata": {},
   "source": [
    "# Categorical Visualizations Homework\n",
    "\n",
    "\n",
    "\n"
   ]
  },
  {
   "cell_type": "code",
   "execution_count": null,
   "metadata": {},
   "outputs": [],
   "source": [
    "from datascience import *\n",
    "import numpy as np\n",
    "import warnings\n",
    "warnings.filterwarnings(\"ignore\")\n",
    "\n",
    "%matplotlib inline\n",
    "import matplotlib.pyplot as plots\n",
    "plots.style.use('fivethirtyeight')\n",
    "plots.rcParams[\"patch.force_edgecolor\"] = True\n",
    "\n",
    "import pandas as pd"
   ]
  },
  {
   "cell_type": "markdown",
   "metadata": {},
   "source": [
    "**Question 1.** The file 'farmers_markets.csv' contains data about farmers' markets across the US. Read in the data file, name it `farmers` and display 5 rows."
   ]
  },
  {
   "cell_type": "code",
   "execution_count": null,
   "metadata": {},
   "outputs": [],
   "source": [
    "farmers = ...\n",
    "\n"
   ]
  },
  {
   "cell_type": "markdown",
   "metadata": {},
   "source": [
    "**Question 2.**  How many rows and columns are in the table?"
   ]
  },
  {
   "cell_type": "code",
   "execution_count": null,
   "metadata": {},
   "outputs": [],
   "source": [
    "farmers_cols = ...\n",
    "farmers_rows = ...\n",
    "\n",
    "# do not change the following line of code\n",
    "print('The table farmers contains ', farmers_rows, 'observations of ', farmers_cols, 'variables. ')\n",
    "\n"
   ]
  },
  {
   "cell_type": "markdown",
   "metadata": {},
   "source": [
    "**Question 3.** What are the names of the columns?"
   ]
  },
  {
   "cell_type": "code",
   "execution_count": null,
   "metadata": {},
   "outputs": [],
   "source": [
    "farmers_variables = ...\n",
    "\n",
    "# do not change the following line of code\n",
    "print('farmers column names \\n',farmers_variables)"
   ]
  },
  {
   "cell_type": "markdown",
   "metadata": {},
   "source": [
    "### Before we start analyzing the data, we need to get a better understanding of the data.  It looks like most of the data are the names of products and a simple 'Y' if the market sells that product, and 'N' if they do not. \n",
    "\n",
    "**Question 4.**  Drop the first 3  and the  last 15 columns from the table and call it farmers_short."
   ]
  },
  {
   "cell_type": "code",
   "execution_count": null,
   "metadata": {},
   "outputs": [],
   "source": [
    "farmers_short = ...\n",
    "\n",
    "\n",
    "# Do NOT change this code\n",
    "print('The new table has', farmers_short.num_columns, 'columns')\n",
    "farmers_short.show(5)\n"
   ]
  },
  {
   "cell_type": "markdown",
   "metadata": {},
   "source": [
    "###  Which State has the most farmers markets ? \n",
    "\n",
    "**Question 5.** Create a table called *num_markets* that has 2 columns. The first column 'State' has the name of each state and the second column 'count' has the number of markets in that state. That table should also be sorted by 'count' in descending order.\n"
   ]
  },
  {
   "cell_type": "code",
   "execution_count": null,
   "metadata": {},
   "outputs": [],
   "source": [
    "num_markets = ...\n",
    "\n",
    "\n",
    "# do not change this line of code\n",
    "most_markets = num_markets.column(\"State\").item(0)\n",
    "print(most_markets, \"has the most farmer's markets. \\n\")"
   ]
  },
  {
   "cell_type": "markdown",
   "metadata": {},
   "source": [
    "**Question 6.** How many rows are in the num_markets tables?\n"
   ]
  },
  {
   "cell_type": "code",
   "execution_count": null,
   "metadata": {},
   "outputs": [],
   "source": [
    "market_tally = ...\n",
    "\n",
    "#  do not change this line of code\n",
    "print(' There are ', market_tally, ' \"states\" in the table. \\n')"
   ]
  },
  {
   "cell_type": "markdown",
   "metadata": {},
   "source": [
    "**Question 7.** Why aren't there 50 rows in the table?"
   ]
  },
  {
   "cell_type": "markdown",
   "metadata": {},
   "source": [
    "*Write your answer here.*\n",
    "\n"
   ]
  },
  {
   "cell_type": "markdown",
   "metadata": {},
   "source": [
    "**Question 8.** Add a column to the table called 'rank' that starts at 1 and counts by 1 for each row in the table.  Your table should look something like the one below.\n",
    "\n",
    "|   |    |    |\n",
    "|---|---|---|\n",
    "|rank|state|count|\n",
    "|1|California|755|\n",
    "|2|New York|672|\n",
    "|3|Michigan|340|\n",
    "|.|...|...|\n"
   ]
  },
  {
   "cell_type": "code",
   "execution_count": null,
   "metadata": {},
   "outputs": [],
   "source": [
    "num_markets_ranked = ...\n",
    "\n",
    "num_markets_ranked"
   ]
  },
  {
   "cell_type": "markdown",
   "metadata": {},
   "source": [
    "**Question 9.**  Make a horizontal bar chart of the number of markets for the top 10 states.\n"
   ]
  },
  {
   "cell_type": "code",
   "execution_count": null,
   "metadata": {},
   "outputs": [],
   "source": [
    "# Insert your bar chart code here\n",
    "\n",
    "\n"
   ]
  },
  {
   "cell_type": "markdown",
   "metadata": {},
   "source": [
    "**Question 10.**  What rank is Georgia? Extract the rank for Georgia from the table.\n"
   ]
  },
  {
   "cell_type": "code",
   "execution_count": null,
   "metadata": {},
   "outputs": [],
   "source": [
    "GA_rank = ...\n",
    "\n",
    "\n",
    "\n",
    "\n",
    "# do not change this line of code\n",
    "print('There are ', GA_rank - 1, \" States that have more farmer's markets than Georgia\")"
   ]
  },
  {
   "cell_type": "markdown",
   "metadata": {},
   "source": [
    "**Question 11.**  How many farmer's markets does Georgia have? Extract the count for Georgia from the table.\n"
   ]
  },
  {
   "cell_type": "code",
   "execution_count": null,
   "metadata": {},
   "outputs": [],
   "source": [
    "GA_count = ...\n",
    "\n",
    "# \n",
    "\n",
    "# do not change this line of code\n",
    "print('Georgia has', GA_count, \"farmer's markets.\")"
   ]
  },
  {
   "cell_type": "markdown",
   "metadata": {},
   "source": [
    "**Question 12.** What is the distribution of the number of farmer's markets per state. Create an appropriate histogram. Use the bins provided.\n"
   ]
  },
  {
   "cell_type": "code",
   "execution_count": null,
   "metadata": {},
   "outputs": [],
   "source": [
    "# do not change this line of code\n",
    "myBins = np.arange(0,800,50)\n",
    "\n",
    "#  insert your histogram code here\n",
    "\n"
   ]
  },
  {
   "cell_type": "markdown",
   "metadata": {},
   "source": [
    "**Question 13**.  Is the distribution of markets symmetric or skewed? If it is skewed, what direction.\n",
    "\n",
    "1. Skewed Left\n",
    "2. Skewed Right\n",
    "3. Not Skewed\n"
   ]
  },
  {
   "cell_type": "code",
   "execution_count": null,
   "metadata": {},
   "outputs": [],
   "source": [
    "Q13_answer = ..."
   ]
  },
  {
   "cell_type": "markdown",
   "metadata": {},
   "source": [
    "**Question 14.** Which of the following is true for the number of markets?\n",
    "\n",
    "1. The mean is lower than the median.\n",
    "2. The mean is higher than the median.\n",
    "3. the mean is the same as the median.\n"
   ]
  },
  {
   "cell_type": "code",
   "execution_count": null,
   "metadata": {},
   "outputs": [],
   "source": [
    "Q14_answer = ...\n"
   ]
  },
  {
   "cell_type": "markdown",
   "metadata": {},
   "source": [
    "**Question 15.**  What percentage of  markets are in the second bar of the histogram (select the closest answer)?\n",
    "1. About 15%\n",
    "2. About 20%\n",
    "3. About 25%\n",
    "4. About 30%\n",
    "\n",
    "\n"
   ]
  },
  {
   "cell_type": "code",
   "execution_count": null,
   "metadata": {},
   "outputs": [],
   "source": [
    "Q15_answer = ..."
   ]
  },
  {
   "cell_type": "markdown",
   "metadata": {},
   "source": [
    "**Question 16.** How many  markets are in the second bar of the histogram (select the closest answer)?\n",
    "\n",
    "1. About 1200\n",
    "2. About 2500\n",
    "3. About 1700\n",
    "4. About 2000"
   ]
  },
  {
   "cell_type": "code",
   "execution_count": null,
   "metadata": {},
   "outputs": [],
   "source": [
    "Q16_answer = ..."
   ]
  },
  {
   "cell_type": "markdown",
   "metadata": {},
   "source": [
    "**Question 17.** Start with `farmers_short` and create a table called `georgia_markets` that has only Georgia farmers markets. Drop the column 'State' from `georgia_markets`.  Show the first 5 rows of `georgia_markets`."
   ]
  },
  {
   "cell_type": "code",
   "execution_count": null,
   "metadata": {},
   "outputs": [],
   "source": [
    "georgia_markets = \n",
    "georgia_markets.show(5)"
   ]
  },
  {
   "cell_type": "markdown",
   "metadata": {},
   "source": [
    "**Question 18.** Does Georgia sell more honey or baked goods?\n",
    "Count the number of markets that sell baked goods and the number that sell honey.\n"
   ]
  },
  {
   "cell_type": "code",
   "execution_count": null,
   "metadata": {},
   "outputs": [],
   "source": [
    "num_honey = ...\n",
    "num_bakedgoods = ...\n",
    "\n",
    "#  do not change the following lines of code\n",
    "print(num_honey,' Georgia markets sell Honey')\n",
    "print(num_bakedgoods,' Georgia markets sell Baked Goods')"
   ]
  },
  {
   "cell_type": "markdown",
   "metadata": {},
   "source": [
    "**Question 19.** What percentage of Georgia farmers markets sell poultry? Use group and with_column to create a table that looks like:\n",
    "\n",
    "|   |    |    |\n",
    "|:---|:---|:---|\n",
    "|Poultry|count|pct|\n",
    "|N|102|71|\n",
    "|Y|42|29|"
   ]
  },
  {
   "cell_type": "code",
   "execution_count": null,
   "metadata": {},
   "outputs": [],
   "source": [
    "poultry_pct = ...\n",
    "poultry_pct"
   ]
  },
  {
   "cell_type": "markdown",
   "metadata": {},
   "source": [
    "**Question 20.**  Make a Pie Chart of the poultry percentages."
   ]
  },
  {
   "cell_type": "code",
   "execution_count": null,
   "metadata": {},
   "outputs": [],
   "source": [
    "pct_N = ...\n",
    "pct_Y = ...\n",
    "\n",
    "\n",
    "## The code to make the pie chart is below this\n",
    "plots.pie(make_array(29,71), labels = make_array(\"Yes\", \"No\"), autopct = '%1.0f%%');\n",
    "plots.title(\"Poultry Sold\");\n"
   ]
  },
  {
   "cell_type": "markdown",
   "metadata": {},
   "source": [
    "### ALL FINISHED!\n",
    "\n",
    "Download as pdf and submit this to the appropriate folder in D2L.  "
   ]
  }
 ],
 "metadata": {
  "anaconda-cloud": {},
  "kernelspec": {
   "display_name": "Python 3",
   "language": "python",
   "name": "python3"
  },
  "language_info": {
   "codemirror_mode": {
    "name": "ipython",
    "version": 3
   },
   "file_extension": ".py",
   "mimetype": "text/x-python",
   "name": "python",
   "nbconvert_exporter": "python",
   "pygments_lexer": "ipython3",
   "version": "3.8.6"
  }
 },
 "nbformat": 4,
 "nbformat_minor": 4
}
