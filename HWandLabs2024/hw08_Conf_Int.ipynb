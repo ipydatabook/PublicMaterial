{
 "cells": [
  {
   "cell_type": "markdown",
   "metadata": {},
   "source": [
    "# Homework 8: Confidence Intervals"
   ]
  },
  {
   "cell_type": "markdown",
   "metadata": {},
   "source": [
    "**Reading**: \n",
    "* [Estimation](https://www.inferentialthinking.com/chapters/13/estimation.html)"
   ]
  },
  {
   "cell_type": "markdown",
   "metadata": {
    "deletable": false,
    "editable": false
   },
   "source": [
    "Directly sharing answers is not okay, but discussing problems with the course staff or with other students is encouraged. Refer to the policies page to learn more about how to learn cooperatively.\n",
    "\n",
    "For all problems that you must write our explanations and sentences for, you **must** provide your answer in the designated space. Moreover, throughout this homework and all future ones, please be sure to not re-assign variables throughout the notebook! For example, if you use `max_temperature` in your answer to one question, do not reassign it later on."
   ]
  },
  {
   "cell_type": "code",
   "execution_count": null,
   "metadata": {
    "deletable": false,
    "editable": false
   },
   "outputs": [],
   "source": [
    "# Don't change this cell; just run it. \n",
    "\n",
    "import numpy as np\n",
    "from datascience import *\n",
    "\n",
    "# These lines do some fancy plotting magic.\n",
    "import matplotlib\n",
    "%matplotlib inline\n",
    "import matplotlib.pyplot as plt\n",
    "plt.style.use('fivethirtyeight')\n",
    "import warnings\n",
    "warnings.simplefilter('ignore', FutureWarning)\n",
    "\n"
   ]
  },
  {
   "cell_type": "markdown",
   "metadata": {
    "deletable": false,
    "editable": false
   },
   "source": [
    "## 1. Thai Restaurants\n"
   ]
  },
  {
   "cell_type": "markdown",
   "metadata": {
    "deletable": false,
    "editable": false
   },
   "source": [
    "Ben and Frank are trying see what the best Thai restaurant in Berkeley is. They survey 1500 UC Berkeley students selected uniformly at random, and ask each student what Thai restaurant is the best (*Note: this data is fabricated for the purposes of this homework*). The choices of Thai restaurant are Lucky House, Imm Thai, Thai Temple, and Thai Basil. After compiling the results, Ben and Frank release the following percentages from their sample:\n",
    "\n",
    "|Thai Restaurant  | Percentage|\n",
    "|:------------:|:------------:|\n",
    "|Lucky House | 8% |\n",
    "|Imm Thai | 52% |\n",
    "|Thai Temple | 25% |\n",
    "|Thai Basil | 15% |\n",
    "\n",
    "These percentages represent a **uniform random sample** of the population of UC Berkeley students. We will attempt to estimate the corresponding *parameters*, or the percentage of the votes that each restaurant will receive from the entire population (the entire population is all UC Berkeley students). We will use confidence intervals to compute a range of values that reflects the uncertainty of our estimates.\n",
    "\n",
    "The table `votes` contains the results of the survey."
   ]
  },
  {
   "cell_type": "code",
   "execution_count": null,
   "metadata": {
    "deletable": false,
    "editable": false
   },
   "outputs": [],
   "source": [
    "# Just run this cell\n",
    "votes = Table.read_table('votes.csv')\n",
    "votes"
   ]
  },
  {
   "cell_type": "markdown",
   "metadata": {
    "deletable": false,
    "editable": false
   },
   "source": [
    "We are trying to estimate a population parameter, in this case, the mean percentage of votes for Imm Thai. The problem is that all we have is a sample. If we were able to get another sample, it would not be the same as our first sample and the number of votes for Imm Thai would not be the same. This would be true for all samples that we might collect. \n",
    "\n",
    "#### So, how do we deal with the uncertainty that is inherent in the sampling process?\n",
    "If we could collect more samples, we could look at the distribution of votes for Imm Thai across all samples and quantify the amount of uncertainty in the sampling process. However, in real life, collecting more samples is not an option. If it were, we would probably just get a larger sample to begin with.\n",
    "\n"
   ]
  },
  {
   "cell_type": "markdown",
   "metadata": {
    "deletable": false,
    "editable": false
   },
   "source": [
    "The tbl.sample() method samples from the table named tbl with replacement, meaning that an observation can be selected more than once from tbl. Unless otherwise specified, it will draw the same number of samples as there are observations in the original table. The table 'votes' has 1500 observations, so votes.sample() will create a new table with 1500 rows."
   ]
  },
  {
   "cell_type": "markdown",
   "metadata": {
    "deletable": false,
    "editable": false
   },
   "source": [
    "The big idea here is that if the original sample is both\n",
    "- large enough\n",
    "- representative of the population\n",
    "\n",
    "then the new table we made by sampling the original sample  **could have** been drawn from the poulation.  We call this new sample (which we invented from the original sample) a **bootstrap** sample.\n",
    "\n",
    "Run the cell below and note that the new table has the same number of rows as the original table, but it is not the same as the original table. If you run it several times you will see that each new bootstarp sample is not the same as the previous bootstrap samples. Each of these is treated as a sample that we might have collected from the population of interest."
   ]
  },
  {
   "cell_type": "code",
   "execution_count": null,
   "metadata": {
    "deletable": false,
    "editable": false
   },
   "outputs": [],
   "source": [
    "votes.sample()"
   ]
  },
  {
   "cell_type": "markdown",
   "metadata": {
    "deletable": false,
    "editable": false
   },
   "source": [
    "Lets count the number of votes for Imm Thai in the bootstrap sample. Run the cell several times to get a look at the variability across different samples."
   ]
  },
  {
   "cell_type": "code",
   "execution_count": null,
   "metadata": {
    "deletable": false,
    "editable": false
   },
   "outputs": [],
   "source": [
    "votes.sample().where('Vote','Imm Thai').num_rows"
   ]
  },
  {
   "cell_type": "markdown",
   "metadata": {
    "deletable": false,
    "editable": false
   },
   "source": [
    "The function `one_resampled_percentage` below returns Imm Thai's **percentage** of votes after simulating one bootstrap sample of `tbl`.\n",
    "\n",
    "**Note:** `tbl` will always be in the same format as `votes`.\n"
   ]
  },
  {
   "cell_type": "code",
   "execution_count": null,
   "metadata": {
    "deletable": false,
    "editable": false
   },
   "outputs": [],
   "source": [
    "np.random.seed(12345)\n",
    "def one_resampled_percentage(tbl):\n",
    "    new_sample = tbl.sample()\n",
    "    return new_sample.where('Vote','Imm Thai').num_rows/tbl.num_rows*100\n",
    "\n",
    "one_resampled_percentage(votes)"
   ]
  },
  {
   "cell_type": "markdown",
   "metadata": {
    "deletable": false
   },
   "source": [
    "The `percentages_in_resamples` function returns an array of 2500 bootstrapped estimates of the percentage of voters who will vote for Imm Thai. It uses the `one_resampled_percentage` function above.\n"
   ]
  },
  {
   "cell_type": "code",
   "execution_count": null,
   "metadata": {
    "deletable": false,
    "editable": false
   },
   "outputs": [],
   "source": [
    "def percentages_in_resamples():\n",
    "    percentage_imm = make_array()\n",
    "    for i in np.arange(2500):\n",
    "        new_pct = one_resampled_percentage(votes)\n",
    "        percentage_imm = np.append(percentage_imm,new_pct)\n",
    "    return percentage_imm\n",
    "    \n",
    "results = percentages_in_resamples()\n",
    "results"
   ]
  },
  {
   "cell_type": "markdown",
   "metadata": {
    "deletable": false
   },
   "source": [
    "In the following cell, we run the function, `percentages_in_resamples`, and create a histogram of the calculated statistic for the 2,500 bootstrap estimates of the percentage of voters who voted for Imm Thai. Based on what the original Thai restaurant percentages were, does the graph seem reasonable? Talk to a friend or ask your professor if you are unsure!"
   ]
  },
  {
   "cell_type": "code",
   "execution_count": null,
   "metadata": {
    "deletable": false,
    "editable": false,
    "scrolled": true
   },
   "outputs": [],
   "source": [
    "resampled_percentages = percentages_in_resamples()\n",
    "Table().with_column('Estimated Percentage', resampled_percentages).hist(\"Estimated Percentage\")"
   ]
  },
  {
   "cell_type": "markdown",
   "metadata": {
    "deletable": false,
    "editable": false
   },
   "source": [
    "The histogram above shows the amount of uncertainty that we would we expect in samples of size 1500 collected from the population. It appears that the middle is about 52 %, but some samples may be as low as 48 % or as high as 56 %. Keep in mind, all we have to work with is one sample, and we don't know where it might fall in this distribution.\n",
    "\n",
    "At this point, we could say that we believe that the parameter that we are trying to estimate, (Imm Thai's percentage of votes) is between 48 and 56 percent. However, we can't be completely certain since some samples may be outside of that range.\n",
    "\n",
    "mathematically, we could say that $\\mu = 52 \\pm 4 $ percent.\n",
    "\n",
    "**However, we can not be completely certain that the population parameter is within 4% of 52%. How certain can we be?** \n",
    "\n",
    "Since we cannot be 100% certain, maybe being 95% certain that we've captured the population parameter is good enough.\n"
   ]
  },
  {
   "cell_type": "markdown",
   "metadata": {
    "deletable": false,
    "editable": false
   },
   "source": [
    "**Q1.** Using the array `resampled_percentages`, find the values at the two edges of the **middle 95%** of the bootstrapped percentage estimates. (Compute the lower and upper ends of the interval, named `imm_lower_bound` and `imm_upper_bound`, respectively.) Round the lower and upper bounds to 1 decimal place.\n",
    "\n",
    "hint: you may find the 'percentile()' function useful here."
   ]
  },
  {
   "cell_type": "code",
   "execution_count": null,
   "metadata": {},
   "outputs": [],
   "source": [
    "imm_lower_bound = ...\n",
    "imm_upper_bound = ...\n",
    "print(\"Bootstrapped 95% confidence interval for the percentage of Imm Thai voters in the population: [{:2.1f}, {:2.1f}]\".format(imm_lower_bound, imm_upper_bound))"
   ]
  },
  {
   "cell_type": "markdown",
   "metadata": {
    "deletable": false,
    "editable": false
   },
   "source": [
    "#### What does this mean?\n",
    "\n",
    "We believe that the parameter we are trying to estimate (The average percentage of votes that Imm Thai would receive from the population) is between the lower bound and the upper bound.\n"
   ]
  },
  {
   "cell_type": "code",
   "execution_count": null,
   "metadata": {
    "deletable": false,
    "editable": false
   },
   "outputs": [],
   "source": [
    "print(\"The percentage of Imm Thai's percentage of votes from the population is within the interval: [{:2.1f}, {:2.1f}]\".format(imm_lower_bound, imm_upper_bound))\n"
   ]
  },
  {
   "cell_type": "markdown",
   "metadata": {
    "deletable": false,
    "editable": false
   },
   "source": [
    "We are 95 % certain (confident) that we have captured the parameter in this range. There is a 5% chance that we did not capture the population mean for Imm Thai's votes \""
   ]
  },
  {
   "cell_type": "markdown",
   "metadata": {
    "deletable": false,
    "editable": false
   },
   "source": [
    "**Question 2.** Based on the above analysis, which of the following statements are true ? Put your selections in an array called myAnswers2.\n",
    "\n",
    "1. If all of the students at Berkeley voted, Imm Thai's percentage of votes would be 52 %.\n",
    "2. If all of the students at Berkeley voted, Imm Thai's percentage of votes could be 55 %.\n",
    "3. If all of the students at Berkeley voted, Imm Thai's percentage of votes could be 50 %.\n",
    "4. We know that the population average for Imm Thai is between 49.5 and 54.5 %\n",
    "5. We know that the population average for Imm Thai is likely to be between 49.5 and 54.5 %\n",
    "\n",
    "\n"
   ]
  },
  {
   "cell_type": "code",
   "execution_count": null,
   "metadata": {},
   "outputs": [],
   "source": [
    "myAnswers2 = ...\n",
    "myAnswers2"
   ]
  },
  {
   "cell_type": "markdown",
   "metadata": {
    "deleteable": false,
    "editable": false
   },
   "source": [
    "#### The next 3 cells are used to generate a plot below. You only need to run these cells."
   ]
  },
  {
   "cell_type": "code",
   "execution_count": null,
   "metadata": {
    "deleteable": false,
    "editable": false
   },
   "outputs": [],
   "source": [
    "def confidence(tbl, confidence_level, sample_size, num_bootstraps):\n",
    "    np.random.seed(12345)\n",
    "    percentage_imm = make_array()\n",
    "    for i in  np.arange(num_bootstraps):\n",
    "        new_sample = tbl.sample(sample_size)\n",
    "        vote_pct = new_sample.where('Vote','Imm Thai').num_rows/sample_size*100\n",
    "        percentage_imm = np.append(percentage_imm,vote_pct)\n",
    "    lower_pctile = (100 - confidence_level)/2\n",
    "    upper_pctile = 100 - lower_pctile\n",
    "    lower_bound = percentile(lower_pctile,percentage_imm).round(1)\n",
    "    upper_bound = percentile(upper_pctile,percentage_imm).round(1)\n",
    "    middle = np.mean(percentage_imm).round(1)\n",
    "    interval = [lower_bound ,middle, upper_bound]\n",
    "    return interval\n",
    "    \n",
    "results = confidence(votes,95,150,2500)\n",
    "results"
   ]
  },
  {
   "cell_type": "code",
   "execution_count": null,
   "metadata": {
    "deleteable": false,
    "editable": false
   },
   "outputs": [],
   "source": [
    "def plot_ci(x,results):\n",
    "    color='#2187bb'\n",
    "    middle = results[1]\n",
    "    horizontal_line_width = 0.25\n",
    "    left = x - horizontal_line_width / 2\n",
    "    top = results[2]\n",
    "    right = x + horizontal_line_width / 2\n",
    "    bottom = results[0]\n",
    "    plt.plot([x, x], [top, bottom], color=color)\n",
    "    plt.plot([left, right], [top, top], color=color)\n",
    "    plt.plot([left, right], [bottom, bottom], color=color)\n",
    "    plt.plot(x, middle, 'o', color='#f44336')\n",
    "    return\n",
    "\n"
   ]
  },
  {
   "cell_type": "code",
   "execution_count": null,
   "metadata": {
    "deleteable": false,
    "editable": false
   },
   "outputs": [],
   "source": [
    "x_ticks = [1,2,3,4]\n",
    "x_lbls = ['80', '90','95', '99']\n",
    "\n",
    "plt.xticks(x_ticks, x_lbls)\n",
    "plt.title('Confidence Intervals vs Confidence Levels')\n",
    "\n",
    "for i in np.arange(len(x_ticks)):\n",
    "    cl = float(x_lbls[i])\n",
    "    results = confidence(votes,cl,1500,2500)\n",
    "    plot_ci(x_ticks[i],results)"
   ]
  },
  {
   "cell_type": "markdown",
   "metadata": {
    "deleteable": false,
    "editable": false
   },
   "source": [
    "The plot above shows confidence intervals for Imm Thai's voting percentage. Confidence intervals are shown for 80%, 90%, 95%, and 99% confidence levels. The red dots indicate the mean of the bootstrap samples for each confidence level.\n",
    "\n",
    "**Question 3.**  Based on the above plot, which of the following statements are true ? Put your selections in an array called myAnswers3.\n",
    "\n",
    "1. As the confidence level decreases, the interval gets larger.\n",
    "2. As the confidence level increases, the interval gets larger.\n",
    "3. As the confidence level decreases, the margin of error gets smaller.\n",
    "4. As the confidence level decreases, the margin of error gets larger.\n",
    "\n"
   ]
  },
  {
   "cell_type": "code",
   "execution_count": null,
   "metadata": {},
   "outputs": [],
   "source": [
    "myAnswers3 = ...\n",
    "myAnswers3"
   ]
  },
  {
   "cell_type": "markdown",
   "metadata": {
    "deleteable": false,
    "editable": false
   },
   "source": [
    "A confidence interval can be represented in two ways:\n",
    "\n",
    "$[lower bound, upper bound]$, or $estimate \\pm \\text{margin of error}$\n",
    "\n",
    "for example, these 2 representations of a confidence interval are equivalent:\n",
    "\n",
    "$[2,10]$ or $6 \\pm 4$\n",
    "\n",
    "**Question 4.**  which of the following statements are true ? Put your selections in an array called myAnswers4.\n",
    "\n",
    "Using the $estimate \\pm \\text{margin of error}$ representation,\n",
    "\n",
    "1. the estimate increases as the confidence level increases.\n",
    "2. the estimate decreases as the confidence level increases.\n",
    "3. the estimate stays the same as the confidence level increases.\n",
    "4. the margin of error increases as the confidence level increases.\n",
    "5. the margin of error decreases as the confidence level increases.\n",
    "4. the margin of error stayes the same as the confidence level increases.\n"
   ]
  },
  {
   "cell_type": "code",
   "execution_count": null,
   "metadata": {},
   "outputs": [],
   "source": [
    "myAnswers4 = ...\n",
    "myAnswers4"
   ]
  },
  {
   "cell_type": "markdown",
   "metadata": {
    "deletable": false,
    "editable": false
   },
   "source": [
    "#### How is the margin of error affected by sample size?\n",
    "\n",
    "Run the cell below to visualize the impact of sample size on margin of error"
   ]
  },
  {
   "cell_type": "code",
   "execution_count": null,
   "metadata": {
    "deletable": false,
    "editable": false
   },
   "outputs": [],
   "source": [
    "x_ticks = [1,2,3,4]\n",
    "x_lbls = ['20', '80','320', '1280']\n",
    "cl = 95\n",
    "plt.xticks(x_ticks, x_lbls)\n",
    "plt.title('Confidence Intervals (95%) vs Sample Size')\n",
    "\n",
    "for i in np.arange(len(x_ticks)):\n",
    "    samp_size = int(x_lbls[i])\n",
    "    \n",
    "    \n",
    "    results = confidence(votes,cl,samp_size,2500)\n",
    "    me = round((results[2] - results[0])/2,1)\n",
    "    print('samp_size = ', samp_size, ', margin of error = ',me)\n",
    "    plot_ci(x_ticks[i],results)"
   ]
  },
  {
   "cell_type": "markdown",
   "metadata": {
    "deleteable": false,
    "editable": false
   },
   "source": [
    "**Question 5.** Which of the following statements are true ? Put your selections in an array called myAnswers5.\n",
    "\n",
    "Using the  $\\text{estimate} \\pm \\text{margin of error}$  representation,\n",
    "\n",
    "1. the estimate increases as the sample size increases.\n",
    "2. the estimate decreases as the sample size increases.\n",
    "3. the estimate stays the same as the sample size increases.\n",
    "4. the margin of error increases as the sample size increases.\n",
    "5. the margin of error decreases as the sample size increases.\n",
    "6. the margin of error stays the same as the sample size increases."
   ]
  },
  {
   "cell_type": "code",
   "execution_count": null,
   "metadata": {},
   "outputs": [],
   "source": [
    "myAnswers5= ...\n",
    "myAnswers5"
   ]
  },
  {
   "cell_type": "markdown",
   "metadata": {
    "deleteable": false,
    "editable": false
   },
   "source": [
    "**Question 6.** Which of the following statements are true ? Put your selections in an array called myAnswers6.\n",
    "\n",
    "Using the  $\\text{estimate} \\pm \\text{margin of error}$  representation,\n",
    "\n",
    "1. increasing the confidence level will result in a beter estimate of the population parameter.\n",
    "2. decreasing the confidence level will result in a beter estimate of the population parameter.\n",
    "3. increasing the sample size  will result in a beter estimate of the population parameter.\n",
    "4. decreasing the sample size will result in a beter estimate of the population parameter.\n",
    "5. the best result would have high confidence and low margin of error.\n",
    "6. the best result would have low confidence and low margin of error."
   ]
  },
  {
   "cell_type": "code",
   "execution_count": null,
   "metadata": {},
   "outputs": [],
   "source": [
    "myAnswers6 = ...\n",
    "myAnswers6"
   ]
  },
  {
   "cell_type": "markdown",
   "metadata": {
    "deleteable": false,
    "editable": false
   },
   "source": [
    "**Question 7.** Read in the 'baby.csv' data set and create 2 tables: smokers and nonsmokers. smokers should contain only the rows where 'Maternal Smoker' = True, and nonsmokers should contain only the rows where 'Maternal Smoker' = False.\n",
    "\n",
    "\n"
   ]
  },
  {
   "cell_type": "code",
   "execution_count": null,
   "metadata": {},
   "outputs": [],
   "source": [
    "smokers = ...\n",
    "nonsmokers = ...\n",
    "smokers.show(5)\n",
    "nonsmokers.show(5)"
   ]
  },
  {
   "cell_type": "markdown",
   "metadata": {
    "deleteable": false,
    "editable": false
   },
   "source": [
    "#### The function make_boots() creates bootstrap sample means from the column 'column_name' from the table 'tbl'.\n",
    "\n",
    "For example, \n",
    "\n",
    "make_boots(nonsmokers, 'Gestational Days', 500)\n",
    "\n",
    "will create an array of 500 bootstrap sample means from the column 'Gestational Days' in the table nonsmokers."
   ]
  },
  {
   "cell_type": "code",
   "execution_count": null,
   "metadata": {
    "editable": false
   },
   "outputs": [],
   "source": [
    "def make_boots(tbl, column_name, num_boots = 1000):\n",
    "    results = []\n",
    "    for i in np.arange(num_boots):\n",
    "        \n",
    "        newBoot = tbl.sample()\n",
    "        newMean = np.mean(newBoot.column(column_name))\n",
    "        results = np.append(results,newMean)\n",
    "    return results\n",
    "\n"
   ]
  },
  {
   "cell_type": "markdown",
   "metadata": {
    "deletable": false,
    "editable": false
   },
   "source": [
    "**Question 8.** Create an array called smoking_weights that contains 1000 bootstrap sample means of birthweigths for smokers using the function make_boots()."
   ]
  },
  {
   "cell_type": "code",
   "execution_count": null,
   "metadata": {},
   "outputs": [],
   "source": [
    "smoking_weights = make_boots(smokers,'Birth Weight', 1000)\n",
    "smoking_weights"
   ]
  },
  {
   "cell_type": "markdown",
   "metadata": {
    "deletable": false,
    "editable": false
   },
   "source": [
    "**Question 9.** Create an array called nonsmoking_weights that contains 1000 bootstrap sample means of birthweigths for smokers using the function make_boots()."
   ]
  },
  {
   "cell_type": "code",
   "execution_count": null,
   "metadata": {},
   "outputs": [],
   "source": [
    "nonsmoking_weights = ..."
   ]
  },
  {
   "cell_type": "markdown",
   "metadata": {
    "deletable": false,
    "editable": false
   },
   "source": [
    "**Question 10.** Create a table called baby_weights that has 2 columns:\n",
    "\n",
    "1. 'smoking' contains the array smoking_boot_means\n",
    "2. 'nonsmoking' contains the array nonsmoking_boot_means\n"
   ]
  },
  {
   "cell_type": "code",
   "execution_count": null,
   "metadata": {},
   "outputs": [],
   "source": [
    "baby_weights = ...\n",
    "baby_weights.show(5)"
   ]
  },
  {
   "cell_type": "markdown",
   "metadata": {
    "deletable": false,
    "editable": false
   },
   "source": [
    "The following cell will create a histograms of the bootstrap sample means for smoking and nonsmoking baby weights."
   ]
  },
  {
   "cell_type": "code",
   "execution_count": null,
   "metadata": {
    "deletable": false,
    "editable": false
   },
   "outputs": [],
   "source": [
    "baby_weights.hist()\n",
    "plt.title('Estimates of Baby Weights')"
   ]
  },
  {
   "cell_type": "markdown",
   "metadata": {
    "deleteable": false,
    "editable": false
   },
   "source": [
    "**Q11.** Do the histograms above provide any evidence that there is difference in bay weights for moms that smoked and moms that did not smoke? Select all that apply and put your selection in myAnswers11.\n",
    "\n",
    "1. Yes there is a difference, but due to sampling uncertainty, we can't say which group has the higher average weight. \n",
    "2. Yes there is a difference, babies born to smoking moms are likely to weigh more.\n",
    "3. Yes there is a difference, babies born to smoking moms are likely to weigh less.\n",
    "4. Yes there is a difference, babies born to non smoking moms are likely to weigh more.\n",
    "5. Yes there is a difference, babies born to non smoking moms are likely to weigh less.\n"
   ]
  },
  {
   "cell_type": "code",
   "execution_count": null,
   "metadata": {},
   "outputs": [],
   "source": [
    "myAnswers11 = ...\n",
    "myAnswers11"
   ]
  },
  {
   "cell_type": "markdown",
   "metadata": {
    "deleteable": false
   },
   "source": [
    "**Q12.** Create a 90% confidence interval for the average weight of babies born to smoking moms (find the middle 90% of the bootstrap means). Put the low and high estimates into an array called smoking90_ci"
   ]
  },
  {
   "cell_type": "code",
   "execution_count": null,
   "metadata": {},
   "outputs": [],
   "source": [
    "smoking90_ci =...\n",
    "smoking90_ci"
   ]
  },
  {
   "cell_type": "markdown",
   "metadata": {
    "deleteable": false
   },
   "source": [
    "**Q13.** Create a 90% confidence interval for the average weight of babies born to non-smoking moms (find the middle 90% of the bootstrap means. Put the low and high estimates into an array called nonsmoking90_ci"
   ]
  },
  {
   "cell_type": "code",
   "execution_count": null,
   "metadata": {},
   "outputs": [],
   "source": [
    "nonsmoking90_ci = ...\n",
    "nonsmoking90_ci"
   ]
  },
  {
   "cell_type": "markdown",
   "metadata": {
    "deletable": false,
    "editable": false
   },
   "source": [
    "#### Is there a difference in the average weight of babies between smoking and non-smoking moms?\n",
    "\n",
    "Run the cell below to create boxplots of the 2 groups."
   ]
  },
  {
   "cell_type": "code",
   "execution_count": null,
   "metadata": {
    "deleteable": false,
    "editable": false
   },
   "outputs": [],
   "source": [
    "x_ticks = [1,2]\n",
    "x_lbls = ['smoking', 'non smoking']\n",
    "plt.xticks(x_ticks, x_lbls)\n",
    "plt.title('Baby Weights 90% CI')\n",
    "\n",
    "\n",
    "color='#2187bb'\n",
    "horizontal_line_width = 0.25\n",
    "x = x_ticks[0]\n",
    "left = x - horizontal_line_width / 2\n",
    "top = smoking90_ci[1]\n",
    "right = x + horizontal_line_width / 2\n",
    "bottom = smoking90_ci[0]\n",
    "plt.plot([x, x], [top, bottom], color=color)\n",
    "plt.plot([left, right], [top, top], color=color)\n",
    "plt.plot([left, right], [bottom, bottom], color=color)\n",
    "\n",
    "x = x_ticks[1]\n",
    "left = x - horizontal_line_width / 2\n",
    "top = nonsmoking90_ci[1]\n",
    "right = x + horizontal_line_width / 2\n",
    "bottom = nonsmoking90_ci[0]\n",
    "plt.plot([x, x], [top, bottom], color=color)\n",
    "plt.plot([left, right], [top, top], color=color)\n",
    "plt.plot([left, right], [bottom, bottom], color=color)\n"
   ]
  },
  {
   "cell_type": "markdown",
   "metadata": {
    "deletable": false,
    "editable": false
   },
   "source": [
    "**Q14.** Do the confidence intervals above provide any evidence that there is difference in baby weights for moms that smoked and moms that did not smoke? Select all that apply and put your selection in myAnswers14.\n",
    "\n",
    "1. Yes there is a difference, but because the confidence level is only 90%, we can't say which group has the higher average weight. \n",
    "2. Maybe there is a difference, but we should increase the confidence level to be more certain.\n",
    "3. Yes there is a difference, babies born to smoking moms are likely to weigh more.\n",
    "4. Yes there is a difference, babies born to smoking moms are likely to weigh less.\n",
    "5. Because the lowest estimate for babies born to non smoking moms is higher than the highest estimate for babies born to smoking moms, the average weight of babies born to non smoking moms are be higher.\n",
    "6. A baby born to a smoking mom will not weigh more than about 115 ounces"
   ]
  },
  {
   "cell_type": "code",
   "execution_count": null,
   "metadata": {},
   "outputs": [],
   "source": [
    "myAnswers14 = ..."
   ]
  },
  {
   "cell_type": "markdown",
   "metadata": {
    "deletable": false,
    "editable": false
   },
   "source": [
    "#### Is there another way to do this? \n",
    "\n",
    "So far, we have used bootstrap samples to investigate sampling variation and craete confidence intervals.\n",
    "\n",
    "However, it turns out that sample averages tend to follow a **t - distribution.** Remember that a t - distribution's variation is the **same as long as the sample size is the same.** In other words, the distribution of average baby weights from a 1000 samples follows a known distribution. So, we can use this idea to find the middle 90% (for a 90% confidence level) of the t - distribution.\n",
    "\n",
    "python can do this easily for us.  We need the t.interval function in the package scipy.stats\n",
    "\n",
    "the t.interval function needs 3 arguments, the confidence level, the degrees of freedom (sample size - 1), and the sample mean\n",
    "\n",
    "create 95% confidence interval for population mean \n",
    "\n",
    "        *import scipy.stats as stats*\n",
    "\n",
    "        *stats.t.interval(alpha=0.95, df=len(data)-1, loc=np.mean(data))*\n",
    "\n",
    "First, we'll import the package we need"
   ]
  },
  {
   "cell_type": "code",
   "execution_count": null,
   "metadata": {
    "deleteable": false
   },
   "outputs": [],
   "source": [
    "import scipy.stats as stats"
   ]
  },
  {
   "cell_type": "markdown",
   "metadata": {
    "deletable": false,
    "editable": false
   },
   "source": [
    "#### Run the cell below to create a 90% confidence interval for smoking moms' babies weights"
   ]
  },
  {
   "cell_type": "code",
   "execution_count": null,
   "metadata": {
    "deletable": false,
    "editable": false
   },
   "outputs": [],
   "source": [
    "data = smokers.column('Birth Weight')\n",
    "df = len(data)-1\n",
    "data_mean = np.mean(data)\n",
    "cl = 0.9\n",
    "ci = stats.t.interval(alpha=cl, df=df, loc = data_mean)\n",
    "\n",
    "print(ci)\n",
    "ci_lo = round(ci[0],1)\n",
    "ci_hi = round(ci[1],1)\n",
    "\n",
    "print('The average weight of babies born to smoking moms is estimated to be between ', ci_lo,' and', ci_hi,' ounces' )\n",
    "print(cl*100, '% confidence')"
   ]
  },
  {
   "cell_type": "markdown",
   "metadata": {
    "deletable": false,
    "editable": false
   },
   "source": [
    " #### Is there a difference in gestational days between smoking and non-smoking moms ? "
   ]
  },
  {
   "cell_type": "markdown",
   "metadata": {
    "deletable": false,
    "editable": false
   },
   "source": [
    "#### Question 15\n",
    "\n",
    "Create a 95% confidence interval for the gestational days of smoking  moms. Name the interval gd_smoking_95.\n"
   ]
  },
  {
   "cell_type": "code",
   "execution_count": null,
   "metadata": {},
   "outputs": [],
   "source": [
    "gd_smoking_95 =...\n",
    "gd_smoking_95"
   ]
  },
  {
   "cell_type": "code",
   "execution_count": null,
   "metadata": {
    "deletable": false,
    "editable": false
   },
   "outputs": [],
   "source": [
    "ci_lo = round(gd_smoking_95[0],1)\n",
    "ci_hi = round(gd_smoking_95[1],1)\n",
    "\n",
    "print('The gestational period for smoking moms is estimated to be between ', ci_lo,' and', ci_hi,' days' )\n",
    "print(cl*100, '% confidence')"
   ]
  },
  {
   "cell_type": "markdown",
   "metadata": {
    "deleteable": false
   },
   "source": [
    "#### Question 16\n",
    "\n",
    "Create a 95% confidence interval for the gestational days of non smoking  moms. Name the interval gd_nonsmoking_95."
   ]
  },
  {
   "cell_type": "code",
   "execution_count": null,
   "metadata": {},
   "outputs": [],
   "source": [
    "gd_nonsmoking_95 = ..."
   ]
  },
  {
   "cell_type": "code",
   "execution_count": null,
   "metadata": {
    "deletable": false,
    "editable": false
   },
   "outputs": [],
   "source": [
    "ci_lo = round(gd_nonsmoking_95[0],1)\n",
    "ci_hi = round(gd_nonsmoking_95[1],1)\n",
    "\n",
    "print('The gestational period for non smoking moms is estimated to be between ', ci_lo,' and', ci_hi,' days' )\n",
    "print(cl*100, '% confidence')"
   ]
  },
  {
   "cell_type": "markdown",
   "metadata": {
    "deletable": false,
    "editable": false
   },
   "source": [
    "#### Run the cell below to visualize the confidence intervals for gestational days."
   ]
  },
  {
   "cell_type": "code",
   "execution_count": null,
   "metadata": {
    "editable": false
   },
   "outputs": [],
   "source": [
    "x_ticks = [1,2]\n",
    "x_lbls = ['smoking', 'non smoking']\n",
    "plt.xticks(x_ticks, x_lbls)\n",
    "plt.title('Gestational Days 95% CI')\n",
    "\n",
    "\n",
    "color='#2187bb'\n",
    "horizontal_line_width = 0.25\n",
    "x = x_ticks[0]\n",
    "left = x - horizontal_line_width / 2\n",
    "top = gd_smoking_95[1]\n",
    "right = x + horizontal_line_width / 2\n",
    "bottom = gd_smoking_95[0]\n",
    "plt.plot([x, x], [top, bottom], color=color)\n",
    "plt.plot([left, right], [top, top], color=color)\n",
    "plt.plot([left, right], [bottom, bottom], color=color)\n",
    "\n",
    "x = x_ticks[1]\n",
    "left = x - horizontal_line_width / 2\n",
    "top = gd_nonsmoking_95[1]\n",
    "right = x + horizontal_line_width / 2\n",
    "bottom = gd_nonsmoking_95[0]\n",
    "plt.plot([x, x], [top, bottom], color=color)\n",
    "plt.plot([left, right], [top, top], color=color)\n",
    "plt.plot([left, right], [bottom, bottom], color=color)"
   ]
  },
  {
   "cell_type": "markdown",
   "metadata": {
    "deleteable": false,
    "editable": false
   },
   "source": [
    "**Q17.** Based on your confidence intervals, is there evidence that the average gestational period for smoking moms is less than non smoking moms? Select all that apply and put your selection in myAnswers16.\n",
    "\n",
    "1. Yes, because smoking moms could have a gestational period as low as about 276 days.\n",
    "2. Yes, because non smoking moms could have a gestational period as high as about 282 days.\n",
    "3. No, because smoking and nonsmoking moms could have a gestational periods of 279 days.\n",
    "4. No because there is a range of days which are the same for both smoking and non smoking moms."
   ]
  },
  {
   "cell_type": "code",
   "execution_count": null,
   "metadata": {},
   "outputs": [],
   "source": [
    "myAnswers17 = ...\n",
    "myAnswers17"
   ]
  },
  {
   "cell_type": "markdown",
   "metadata": {
    "deleteable": false,
    "editable": false
   },
   "source": [
    "### Congrats!!! You finished homework 8."
   ]
  },
  {
   "cell_type": "code",
   "execution_count": null,
   "metadata": {
    "deleteable": false,
    "editable": false
   },
   "outputs": [],
   "source": [
    "print(\"Q1: [{:2.1f}, {:2.1f}]\".format(imm_lower_bound, imm_upper_bound))\n",
    "print('myAnswers2 = ', myAnswers2)\n",
    "print('myAnswers3 = ', myAnswers3)\n",
    "print('myAnswers4 = ', myAnswers4)\n",
    "print('myAnswers5 = ', myAnswers5)\n",
    "print('myAnswers6 = ', myAnswers6)\n",
    "print('myAnswers11 = ', myAnswers11)\n",
    "print('Q12: confidence interval', smoking90_ci)\n",
    "print('Q13: confidence interval', nonsmoking90_ci)\n",
    "print('myAnswers14 = ', myAnswers14)\n",
    "print('Q15: confidence interval', gd_smoking_95)\n",
    "print('Q16: confidence interval', gd_nonsmoking_95)\n",
    "print('myAnswers17 = ', myAnswers17)"
   ]
  }
 ],
 "metadata": {
  "celltoolbar": "Edit Metadata",
  "kernelspec": {
   "display_name": "Python 3",
   "language": "python",
   "name": "python3"
  },
  "language_info": {
   "codemirror_mode": {
    "name": "ipython",
    "version": 3
   },
   "file_extension": ".py",
   "mimetype": "text/x-python",
   "name": "python",
   "nbconvert_exporter": "python",
   "pygments_lexer": "ipython3",
   "version": "3.8.6"
  }
 },
 "nbformat": 4,
 "nbformat_minor": 1
}
