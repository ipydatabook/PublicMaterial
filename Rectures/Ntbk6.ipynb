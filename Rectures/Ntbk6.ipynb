{
 "cells": [
  {
   "cell_type": "markdown",
   "metadata": {},
   "source": [
    "# Table Tools\n",
    "## Part 2\n",
    "\n",
    "In this notebook we will learn:\n",
    "\n",
    "- About lists\n",
    "- The `with_row` and `with_rows` functions\n",
    "- The `group` and `pivot` functions, and the differences between them\n",
    "- The use of statistical functions with group and pivot to compute stats by groups"
   ]
  },
  {
   "cell_type": "code",
   "execution_count": 103,
   "metadata": {},
   "outputs": [],
   "source": [
    "from datascience import *\n",
    "import numpy as np\n",
    "\n",
    "%matplotlib inline\n",
    "import matplotlib.pyplot as plots\n",
    "plots.style.use('fivethirtyeight')\n",
    "\n",
    "import warnings\n",
    "warnings.filterwarnings(\"ignore\", category=np.VisibleDeprecationWarning) \n",
    "\n",
    "warnings.filterwarnings(\"ignore\", category=UserWarning) \n",
    "\n"
   ]
  },
  {
   "cell_type": "markdown",
   "metadata": {},
   "source": [
    "## Lists"
   ]
  },
  {
   "cell_type": "code",
   "execution_count": 76,
   "metadata": {},
   "outputs": [
    {
     "data": {
      "text/plain": [
       "['hello', 7, 3.14, True]"
      ]
     },
     "execution_count": 76,
     "metadata": {},
     "output_type": "execute_result"
    }
   ],
   "source": [
    "simple_list = ['hello', 7, 3.14, True]\n",
    "simple_list"
   ]
  },
  {
   "cell_type": "code",
   "execution_count": 77,
   "metadata": {},
   "outputs": [
    {
     "data": {
      "text/plain": [
       "[array([1, 2, 3], dtype=int64), 'What is going on?', -10]"
      ]
     },
     "execution_count": 77,
     "metadata": {},
     "output_type": "execute_result"
    }
   ],
   "source": [
    "my_array = make_array(1, 2, 3)\n",
    "\n",
    "crowded_list = [my_array, 'What is going on?', -10]\n",
    "crowded_list"
   ]
  },
  {
   "cell_type": "markdown",
   "metadata": {},
   "source": [
    "### Rows of Tables *are* Lists ###\n",
    "\n",
    "Remember, columns of tables are arrays.  Arrays require that everything in them be of the same data type.  Lists don't have that requirement, which is good because a *row* of a table very likely should have different data types, whereas each individual column should be of only one type (most of the time).  "
   ]
  },
  {
   "cell_type": "code",
   "execution_count": 78,
   "metadata": {},
   "outputs": [
    {
     "data": {
      "text/html": [
       "<table border=\"1\" class=\"dataframe\">\n",
       "    <thead>\n",
       "        <tr>\n",
       "            <th>Numbers</th>\n",
       "        </tr>\n",
       "    </thead>\n",
       "    <tbody>\n",
       "        <tr>\n",
       "            <td>1      </td>\n",
       "        </tr>\n",
       "        <tr>\n",
       "            <td>2      </td>\n",
       "        </tr>\n",
       "        <tr>\n",
       "            <td>3      </td>\n",
       "        </tr>\n",
       "    </tbody>\n",
       "</table>"
      ],
      "text/plain": [
       "Numbers\n",
       "1\n",
       "2\n",
       "3"
      ]
     },
     "execution_count": 78,
     "metadata": {},
     "output_type": "execute_result"
    }
   ],
   "source": [
    "Table().with_columns('Numbers', make_array(1, 2, 3))"
   ]
  },
  {
   "cell_type": "code",
   "execution_count": 79,
   "metadata": {},
   "outputs": [
    {
     "data": {
      "text/html": [
       "<table border=\"1\" class=\"dataframe\">\n",
       "    <thead>\n",
       "        <tr>\n",
       "            <th>Drink</th> <th>Cafe</th> <th>Price</th>\n",
       "        </tr>\n",
       "    </thead>\n",
       "    <tbody>\n",
       "    </tbody>\n",
       "</table>"
      ],
      "text/plain": [
       "Drink | Cafe | Price"
      ]
     },
     "execution_count": 79,
     "metadata": {},
     "output_type": "execute_result"
    }
   ],
   "source": [
    "drinks = Table(['Drink', 'Cafe', 'Price'])\n",
    "drinks"
   ]
  },
  {
   "cell_type": "code",
   "execution_count": 80,
   "metadata": {},
   "outputs": [
    {
     "data": {
      "text/html": [
       "<table border=\"1\" class=\"dataframe\">\n",
       "    <thead>\n",
       "        <tr>\n",
       "            <th>Drink</th> <th>Cafe</th> <th>Price</th>\n",
       "        </tr>\n",
       "    </thead>\n",
       "    <tbody>\n",
       "        <tr>\n",
       "            <td>Milk Tea</td> <td>Asha  </td> <td>5.5  </td>\n",
       "        </tr>\n",
       "        <tr>\n",
       "            <td>Espresso</td> <td>Strada</td> <td>1.75 </td>\n",
       "        </tr>\n",
       "        <tr>\n",
       "            <td>Latte   </td> <td>Strada</td> <td>3.25 </td>\n",
       "        </tr>\n",
       "        <tr>\n",
       "            <td>Espresso</td> <td>FSM   </td> <td>2    </td>\n",
       "        </tr>\n",
       "    </tbody>\n",
       "</table>"
      ],
      "text/plain": [
       "Drink    | Cafe   | Price\n",
       "Milk Tea | Asha   | 5.5\n",
       "Espresso | Strada | 1.75\n",
       "Latte    | Strada | 3.25\n",
       "Espresso | FSM    | 2"
      ]
     },
     "execution_count": 80,
     "metadata": {},
     "output_type": "execute_result"
    }
   ],
   "source": [
    "drinks = drinks.with_rows([\n",
    "    ['Milk Tea', 'Asha', 5.5],\n",
    "    ['Espresso', 'Strada',  1.75],\n",
    "    ['Latte',    'Strada',  3.25],\n",
    "    ['Espresso', \"FSM\",   2]\n",
    "])\n",
    "drinks"
   ]
  },
  {
   "cell_type": "markdown",
   "metadata": {},
   "source": [
    "## Grouping by one column"
   ]
  },
  {
   "cell_type": "code",
   "execution_count": 81,
   "metadata": {},
   "outputs": [
    {
     "data": {
      "text/html": [
       "<table border=\"1\" class=\"dataframe\">\n",
       "    <thead>\n",
       "        <tr>\n",
       "            <th>Year</th> <th>Extraversion</th> <th>Number of textees</th> <th>Hours of sleep</th> <th>Handedness</th> <th>Sleep position</th>\n",
       "        </tr>\n",
       "    </thead>\n",
       "    <tbody>\n",
       "        <tr>\n",
       "            <td>Second</td> <td>6           </td> <td>10               </td> <td>7             </td> <td>Right-handed</td> <td>On your back  </td>\n",
       "        </tr>\n",
       "    </tbody>\n",
       "</table>\n",
       "<p>... (1321 rows omitted)</p>"
      ],
      "text/plain": [
       "<IPython.core.display.HTML object>"
      ]
     },
     "metadata": {},
     "output_type": "display_data"
    }
   ],
   "source": [
    "survey = Table.read_table('welcome_survey_v4.csv')\n",
    "survey.show(1)"
   ]
  },
  {
   "cell_type": "code",
   "execution_count": 82,
   "metadata": {},
   "outputs": [
    {
     "data": {
      "text/html": [
       "<table border=\"1\" class=\"dataframe\">\n",
       "    <thead>\n",
       "        <tr>\n",
       "            <th>Sleep position</th> <th>count</th>\n",
       "        </tr>\n",
       "    </thead>\n",
       "    <tbody>\n",
       "        <tr>\n",
       "            <td>On your back      </td> <td>302  </td>\n",
       "        </tr>\n",
       "        <tr>\n",
       "            <td>On your left side </td> <td>374  </td>\n",
       "        </tr>\n",
       "        <tr>\n",
       "            <td>On your right side</td> <td>434  </td>\n",
       "        </tr>\n",
       "        <tr>\n",
       "            <td>On your stomach   </td> <td>212  </td>\n",
       "        </tr>\n",
       "    </tbody>\n",
       "</table>"
      ],
      "text/plain": [
       "<IPython.core.display.HTML object>"
      ]
     },
     "metadata": {},
     "output_type": "display_data"
    }
   ],
   "source": [
    "survey.group('Sleep position').show()"
   ]
  },
  {
   "cell_type": "code",
   "execution_count": 83,
   "metadata": {},
   "outputs": [
    {
     "data": {
      "text/html": [
       "<table border=\"1\" class=\"dataframe\">\n",
       "    <thead>\n",
       "        <tr>\n",
       "            <th>Sleep position</th> <th>Year average</th> <th>Extraversion average</th> <th>Number of textees average</th> <th>Hours of sleep average</th> <th>Handedness average</th>\n",
       "        </tr>\n",
       "    </thead>\n",
       "    <tbody>\n",
       "        <tr>\n",
       "            <td>On your back      </td> <td>            </td> <td>5.57947             </td> <td>6.60596                  </td> <td>7.11175               </td> <td>                  </td>\n",
       "        </tr>\n",
       "        <tr>\n",
       "            <td>On your left side </td> <td>            </td> <td>5.66845             </td> <td>7.46791                  </td> <td>7.00535               </td> <td>                  </td>\n",
       "        </tr>\n",
       "        <tr>\n",
       "            <td>On your right side</td> <td>            </td> <td>5.89401             </td> <td>7.50922                  </td> <td>7.05645               </td> <td>                  </td>\n",
       "        </tr>\n",
       "        <tr>\n",
       "            <td>On your stomach   </td> <td>            </td> <td>5.96226             </td> <td>7.58491                  </td> <td>7.15094               </td> <td>                  </td>\n",
       "        </tr>\n",
       "    </tbody>\n",
       "</table>"
      ],
      "text/plain": [
       "Sleep position     | Year average | Extraversion average | Number of textees average | Hours of sleep average | Handedness average\n",
       "On your back       |              | 5.57947              | 6.60596                   | 7.11175                |\n",
       "On your left side  |              | 5.66845              | 7.46791                   | 7.00535                |\n",
       "On your right side |              | 5.89401              | 7.50922                   | 7.05645                |\n",
       "On your stomach    |              | 5.96226              | 7.58491                   | 7.15094                |"
      ]
     },
     "execution_count": 83,
     "metadata": {},
     "output_type": "execute_result"
    }
   ],
   "source": [
    "survey.group('Sleep position', np.average)"
   ]
  },
  {
   "cell_type": "code",
   "execution_count": 84,
   "metadata": {
    "scrolled": true
   },
   "outputs": [
    {
     "data": {
      "text/html": [
       "<table border=\"1\" class=\"dataframe\">\n",
       "    <thead>\n",
       "        <tr>\n",
       "            <th>Year</th> <th>Hours of sleep average</th>\n",
       "        </tr>\n",
       "    </thead>\n",
       "    <tbody>\n",
       "        <tr>\n",
       "            <td>First          </td> <td>7.12524               </td>\n",
       "        </tr>\n",
       "        <tr>\n",
       "            <td>Fourth or above</td> <td>7.14662               </td>\n",
       "        </tr>\n",
       "        <tr>\n",
       "            <td>Second         </td> <td>7.04623               </td>\n",
       "        </tr>\n",
       "        <tr>\n",
       "            <td>Third          </td> <td>6.95913               </td>\n",
       "        </tr>\n",
       "    </tbody>\n",
       "</table>"
      ],
      "text/plain": [
       "Year            | Hours of sleep average\n",
       "First           | 7.12524\n",
       "Fourth or above | 7.14662\n",
       "Second          | 7.04623\n",
       "Third           | 6.95913"
      ]
     },
     "execution_count": 84,
     "metadata": {},
     "output_type": "execute_result"
    }
   ],
   "source": [
    "survey.select('Year', 'Hours of sleep').group('Year', np.average)"
   ]
  },
  {
   "cell_type": "markdown",
   "metadata": {},
   "source": [
    "## Cross-classification: grouping by two columns"
   ]
  },
  {
   "cell_type": "code",
   "execution_count": 90,
   "metadata": {},
   "outputs": [
    {
     "data": {
      "text/html": [
       "<table border=\"1\" class=\"dataframe\">\n",
       "    <thead>\n",
       "        <tr>\n",
       "            <th>Handedness</th> <th>Sleep position</th> <th>count</th>\n",
       "        </tr>\n",
       "    </thead>\n",
       "    <tbody>\n",
       "        <tr>\n",
       "            <td>Both        </td> <td>On your back      </td> <td>4    </td>\n",
       "        </tr>\n",
       "        <tr>\n",
       "            <td>Both        </td> <td>On your left side </td> <td>5    </td>\n",
       "        </tr>\n",
       "        <tr>\n",
       "            <td>Both        </td> <td>On your right side</td> <td>7    </td>\n",
       "        </tr>\n",
       "        <tr>\n",
       "            <td>Both        </td> <td>On your stomach   </td> <td>1    </td>\n",
       "        </tr>\n",
       "        <tr>\n",
       "            <td>Left-handed </td> <td>On your back      </td> <td>31   </td>\n",
       "        </tr>\n",
       "        <tr>\n",
       "            <td>Left-handed </td> <td>On your left side </td> <td>27   </td>\n",
       "        </tr>\n",
       "        <tr>\n",
       "            <td>Left-handed </td> <td>On your right side</td> <td>30   </td>\n",
       "        </tr>\n",
       "        <tr>\n",
       "            <td>Left-handed </td> <td>On your stomach   </td> <td>12   </td>\n",
       "        </tr>\n",
       "        <tr>\n",
       "            <td>Right-handed</td> <td>On your back      </td> <td>267  </td>\n",
       "        </tr>\n",
       "        <tr>\n",
       "            <td>Right-handed</td> <td>On your left side </td> <td>342  </td>\n",
       "        </tr>\n",
       "        <tr>\n",
       "            <td>Right-handed</td> <td>On your right side</td> <td>397  </td>\n",
       "        </tr>\n",
       "        <tr>\n",
       "            <td>Right-handed</td> <td>On your stomach   </td> <td>199  </td>\n",
       "        </tr>\n",
       "    </tbody>\n",
       "</table>"
      ],
      "text/plain": [
       "<IPython.core.display.HTML object>"
      ]
     },
     "metadata": {},
     "output_type": "display_data"
    }
   ],
   "source": [
    "survey.group(['Handedness','Sleep position']).show()"
   ]
  },
  {
   "cell_type": "code",
   "execution_count": 91,
   "metadata": {},
   "outputs": [
    {
     "data": {
      "text/html": [
       "<table border=\"1\" class=\"dataframe\">\n",
       "    <thead>\n",
       "        <tr>\n",
       "            <th>Handedness</th> <th>On your back</th> <th>On your left side</th> <th>On your right side</th> <th>On your stomach</th>\n",
       "        </tr>\n",
       "    </thead>\n",
       "    <tbody>\n",
       "        <tr>\n",
       "            <td>Both        </td> <td>4           </td> <td>5                </td> <td>7                 </td> <td>1              </td>\n",
       "        </tr>\n",
       "        <tr>\n",
       "            <td>Left-handed </td> <td>31          </td> <td>27               </td> <td>30                </td> <td>12             </td>\n",
       "        </tr>\n",
       "        <tr>\n",
       "            <td>Right-handed</td> <td>267         </td> <td>342              </td> <td>397               </td> <td>199            </td>\n",
       "        </tr>\n",
       "    </tbody>\n",
       "</table>"
      ],
      "text/plain": [
       "Handedness   | On your back | On your left side | On your right side | On your stomach\n",
       "Both         | 4            | 5                 | 7                  | 1\n",
       "Left-handed  | 31           | 27                | 30                 | 12\n",
       "Right-handed | 267          | 342               | 397                | 199"
      ]
     },
     "execution_count": 91,
     "metadata": {},
     "output_type": "execute_result"
    }
   ],
   "source": [
    "survey.pivot('Sleep position', 'Handedness')"
   ]
  },
  {
   "cell_type": "code",
   "execution_count": 92,
   "metadata": {},
   "outputs": [
    {
     "data": {
      "text/html": [
       "<table border=\"1\" class=\"dataframe\">\n",
       "    <thead>\n",
       "        <tr>\n",
       "            <th>Handedness</th> <th>On your back</th> <th>On your left side</th> <th>On your right side</th> <th>On your stomach</th>\n",
       "        </tr>\n",
       "    </thead>\n",
       "    <tbody>\n",
       "        <tr>\n",
       "            <td>Both        </td> <td>6.125       </td> <td>6.6              </td> <td>7.42857           </td> <td>6              </td>\n",
       "        </tr>\n",
       "        <tr>\n",
       "            <td>Left-handed </td> <td>7.1371      </td> <td>7.11111          </td> <td>7.03333           </td> <td>6.70833        </td>\n",
       "        </tr>\n",
       "        <tr>\n",
       "            <td>Right-handed</td> <td>7.1236      </td> <td>7.00292          </td> <td>7.05164           </td> <td>7.18342        </td>\n",
       "        </tr>\n",
       "    </tbody>\n",
       "</table>"
      ],
      "text/plain": [
       "Handedness   | On your back | On your left side | On your right side | On your stomach\n",
       "Both         | 6.125        | 6.6               | 7.42857            | 6\n",
       "Left-handed  | 7.1371       | 7.11111           | 7.03333            | 6.70833\n",
       "Right-handed | 7.1236       | 7.00292           | 7.05164            | 7.18342"
      ]
     },
     "execution_count": 92,
     "metadata": {},
     "output_type": "execute_result"
    }
   ],
   "source": [
    "survey.pivot('Sleep position', 'Handedness', values='Hours of sleep', collect = np.average)"
   ]
  },
  {
   "cell_type": "code",
   "execution_count": 93,
   "metadata": {},
   "outputs": [
    {
     "data": {
      "text/html": [
       "<table border=\"1\" class=\"dataframe\">\n",
       "    <thead>\n",
       "        <tr>\n",
       "            <th>Handedness</th> <th>Sleep position</th> <th>Hours of sleep average</th>\n",
       "        </tr>\n",
       "    </thead>\n",
       "    <tbody>\n",
       "        <tr>\n",
       "            <td>Both        </td> <td>On your back      </td> <td>6.125                 </td>\n",
       "        </tr>\n",
       "        <tr>\n",
       "            <td>Both        </td> <td>On your left side </td> <td>6.6                   </td>\n",
       "        </tr>\n",
       "        <tr>\n",
       "            <td>Both        </td> <td>On your right side</td> <td>7.42857               </td>\n",
       "        </tr>\n",
       "        <tr>\n",
       "            <td>Both        </td> <td>On your stomach   </td> <td>6                     </td>\n",
       "        </tr>\n",
       "        <tr>\n",
       "            <td>Left-handed </td> <td>On your back      </td> <td>7.1371                </td>\n",
       "        </tr>\n",
       "        <tr>\n",
       "            <td>Left-handed </td> <td>On your left side </td> <td>7.11111               </td>\n",
       "        </tr>\n",
       "        <tr>\n",
       "            <td>Left-handed </td> <td>On your right side</td> <td>7.03333               </td>\n",
       "        </tr>\n",
       "        <tr>\n",
       "            <td>Left-handed </td> <td>On your stomach   </td> <td>6.70833               </td>\n",
       "        </tr>\n",
       "        <tr>\n",
       "            <td>Right-handed</td> <td>On your back      </td> <td>7.1236                </td>\n",
       "        </tr>\n",
       "        <tr>\n",
       "            <td>Right-handed</td> <td>On your left side </td> <td>7.00292               </td>\n",
       "        </tr>\n",
       "        <tr>\n",
       "            <td>Right-handed</td> <td>On your right side</td> <td>7.05164               </td>\n",
       "        </tr>\n",
       "        <tr>\n",
       "            <td>Right-handed</td> <td>On your stomach   </td> <td>7.18342               </td>\n",
       "        </tr>\n",
       "    </tbody>\n",
       "</table>"
      ],
      "text/plain": [
       "<IPython.core.display.HTML object>"
      ]
     },
     "metadata": {},
     "output_type": "display_data"
    }
   ],
   "source": [
    "(survey.select('Handedness', 'Sleep position', 'Hours of sleep')\n",
    "       .group(['Handedness','Sleep position'], np.average)).show()"
   ]
  },
  {
   "cell_type": "code",
   "execution_count": 94,
   "metadata": {},
   "outputs": [],
   "source": [
    "# Here, pivot doesn't know how to combine all the hours of sleep\n",
    "# for each subgroup of students\n",
    "#survey.pivot('Sleep position', 'Handedness', 'Hours of sleep')"
   ]
  },
  {
   "cell_type": "markdown",
   "metadata": {},
   "source": [
    "## Challenge Questions ##\n",
    "\n",
    "1. For each city, what’s the tallest building for each material?\n",
    "\n",
    "2. For each city, what’s the height difference between the tallest steel building and the tallest concrete building?"
   ]
  },
  {
   "cell_type": "code",
   "execution_count": 95,
   "metadata": {},
   "outputs": [
    {
     "data": {
      "text/html": [
       "<table border=\"1\" class=\"dataframe\">\n",
       "    <thead>\n",
       "        <tr>\n",
       "            <th>name</th> <th>material</th> <th>city</th> <th>height</th> <th>age</th>\n",
       "        </tr>\n",
       "    </thead>\n",
       "    <tbody>\n",
       "        <tr>\n",
       "            <td>One World Trade Center</td> <td>mixed/composite</td> <td>New York City</td> <td>541.3 </td> <td>6   </td>\n",
       "        </tr>\n",
       "        <tr>\n",
       "            <td>Willis Tower          </td> <td>steel          </td> <td>Chicago      </td> <td>442.14</td> <td>46  </td>\n",
       "        </tr>\n",
       "        <tr>\n",
       "            <td>432 Park Avenue       </td> <td>concrete       </td> <td>New York City</td> <td>425.5 </td> <td>5   </td>\n",
       "        </tr>\n",
       "    </tbody>\n",
       "</table>\n",
       "<p>... (1778 rows omitted)</p>"
      ],
      "text/plain": [
       "<IPython.core.display.HTML object>"
      ]
     },
     "metadata": {},
     "output_type": "display_data"
    }
   ],
   "source": [
    "sky = Table.read_table('skyscrapers_v2.csv')\n",
    "sky = (sky.with_column('age', 2020 - sky.column('completed'))\n",
    "          .drop('completed'))\n",
    "sky.show(3)"
   ]
  },
  {
   "cell_type": "code",
   "execution_count": 96,
   "metadata": {},
   "outputs": [
    {
     "data": {
      "text/html": [
       "<table border=\"1\" class=\"dataframe\">\n",
       "    <thead>\n",
       "        <tr>\n",
       "            <th>city</th> <th>concrete</th> <th>mixed/composite</th> <th>steel</th>\n",
       "        </tr>\n",
       "    </thead>\n",
       "    <tbody>\n",
       "        <tr>\n",
       "            <td>Atlanta          </td> <td>264.25  </td> <td>311.8          </td> <td>169.47</td>\n",
       "        </tr>\n",
       "        <tr>\n",
       "            <td>Austin           </td> <td>208.15  </td> <td>0              </td> <td>93.6  </td>\n",
       "        </tr>\n",
       "        <tr>\n",
       "            <td>Baltimore        </td> <td>161.24  </td> <td>0              </td> <td>155.15</td>\n",
       "        </tr>\n",
       "        <tr>\n",
       "            <td>Boston           </td> <td>121.92  </td> <td>139            </td> <td>240.79</td>\n",
       "        </tr>\n",
       "        <tr>\n",
       "            <td>Charlotte        </td> <td>265.48  </td> <td>239.7          </td> <td>179.23</td>\n",
       "        </tr>\n",
       "        <tr>\n",
       "            <td>Chicago          </td> <td>423.22  </td> <td>306.94         </td> <td>442.14</td>\n",
       "        </tr>\n",
       "        <tr>\n",
       "            <td>Cincinnati       </td> <td>125     </td> <td>202.69         </td> <td>175   </td>\n",
       "        </tr>\n",
       "        <tr>\n",
       "            <td>Cleveland        </td> <td>125     </td> <td>288.65         </td> <td>215.8 </td>\n",
       "        </tr>\n",
       "        <tr>\n",
       "            <td>Columbus         </td> <td>79.25   </td> <td>0              </td> <td>169.3 </td>\n",
       "        </tr>\n",
       "        <tr>\n",
       "            <td>Dallas           </td> <td>176.48  </td> <td>280.72         </td> <td>270.06</td>\n",
       "        </tr>\n",
       "        <tr>\n",
       "            <td>Denver           </td> <td>194.75  </td> <td>212.75         </td> <td>217.63</td>\n",
       "        </tr>\n",
       "        <tr>\n",
       "            <td>Detroit          </td> <td>221.49  </td> <td>0              </td> <td>173.26</td>\n",
       "        </tr>\n",
       "        <tr>\n",
       "            <td>Honolulu         </td> <td>129.8   </td> <td>0              </td> <td>130.75</td>\n",
       "        </tr>\n",
       "        <tr>\n",
       "            <td>Houston          </td> <td>217.63  </td> <td>305.41         </td> <td>302.37</td>\n",
       "        </tr>\n",
       "        <tr>\n",
       "            <td>Indianapolis     </td> <td>128.17  </td> <td>0              </td> <td>213.67</td>\n",
       "        </tr>\n",
       "        <tr>\n",
       "            <td>Jersey City      </td> <td>162.16  </td> <td>0              </td> <td>238.05</td>\n",
       "        </tr>\n",
       "        <tr>\n",
       "            <td>Kansas City      </td> <td>189.89  </td> <td>0              </td> <td>146.61</td>\n",
       "        </tr>\n",
       "        <tr>\n",
       "            <td>Las Vegas        </td> <td>350.22  </td> <td>195.68         </td> <td>164.6 </td>\n",
       "        </tr>\n",
       "        <tr>\n",
       "            <td>Los Angeles      </td> <td>145.7   </td> <td>118.26         </td> <td>310.29</td>\n",
       "        </tr>\n",
       "        <tr>\n",
       "            <td>Miami            </td> <td>240.41  </td> <td>232.8          </td> <td>147.52</td>\n",
       "        </tr>\n",
       "        <tr>\n",
       "            <td>Miami Beach      </td> <td>170.39  </td> <td>0              </td> <td>0     </td>\n",
       "        </tr>\n",
       "        <tr>\n",
       "            <td>Milwaukee        </td> <td>136     </td> <td>0              </td> <td>183.19</td>\n",
       "        </tr>\n",
       "        <tr>\n",
       "            <td>Minneapolis      </td> <td>203.58  </td> <td>241.38         </td> <td>144.64</td>\n",
       "        </tr>\n",
       "        <tr>\n",
       "            <td>New York City    </td> <td>425.5   </td> <td>541.3          </td> <td>381   </td>\n",
       "        </tr>\n",
       "        <tr>\n",
       "            <td>Philadelphia     </td> <td>157.89  </td> <td>296.73         </td> <td>288.04</td>\n",
       "        </tr>\n",
       "        <tr>\n",
       "            <td>Phoenix          </td> <td>124.1   </td> <td>114            </td> <td>147.22</td>\n",
       "        </tr>\n",
       "        <tr>\n",
       "            <td>Pittsburgh       </td> <td>89.3    </td> <td>172            </td> <td>256.34</td>\n",
       "        </tr>\n",
       "        <tr>\n",
       "            <td>Portland         </td> <td>155.15  </td> <td>127.4          </td> <td>166.42</td>\n",
       "        </tr>\n",
       "        <tr>\n",
       "            <td>Sacramento       </td> <td>106.98  </td> <td>115.82         </td> <td>122.6 </td>\n",
       "        </tr>\n",
       "        <tr>\n",
       "            <td>Salt Lake City   </td> <td>114.91  </td> <td>0              </td> <td>128.63</td>\n",
       "        </tr>\n",
       "        <tr>\n",
       "            <td>San Diego        </td> <td>151.49  </td> <td>144.78         </td> <td>152.4 </td>\n",
       "        </tr>\n",
       "        <tr>\n",
       "            <td>San Francisco    </td> <td>196.6   </td> <td>260            </td> <td>237.44</td>\n",
       "        </tr>\n",
       "        <tr>\n",
       "            <td>Seattle          </td> <td>138.69  </td> <td>284.38         </td> <td>235.31</td>\n",
       "        </tr>\n",
       "        <tr>\n",
       "            <td>St. Louis        </td> <td>100.66  </td> <td>180.75         </td> <td>147.6 </td>\n",
       "        </tr>\n",
       "        <tr>\n",
       "            <td>Sunny Isles Beach</td> <td>196     </td> <td>0              </td> <td>0     </td>\n",
       "        </tr>\n",
       "    </tbody>\n",
       "</table>"
      ],
      "text/plain": [
       "<IPython.core.display.HTML object>"
      ]
     },
     "metadata": {},
     "output_type": "display_data"
    }
   ],
   "source": [
    "# 1. For each city, what’s the tallest building for each material?\n",
    "\n",
    "sky.pivot('material', 'city', 'height', max).show()\n",
    "\n",
    "#sky.select('city','material','height').group(['city', 'material' ], max)\n",
    "\n"
   ]
  },
  {
   "cell_type": "code",
   "execution_count": 97,
   "metadata": {},
   "outputs": [
    {
     "data": {
      "text/html": [
       "<table border=\"1\" class=\"dataframe\">\n",
       "    <thead>\n",
       "        <tr>\n",
       "            <th>city</th> <th>concrete</th> <th>mixed/composite</th> <th>steel</th> <th>Diff</th>\n",
       "        </tr>\n",
       "    </thead>\n",
       "    <tbody>\n",
       "        <tr>\n",
       "            <td>Atlanta   </td> <td>264.25  </td> <td>311.8          </td> <td>169.47</td> <td>94.78  </td>\n",
       "        </tr>\n",
       "        <tr>\n",
       "            <td>Austin    </td> <td>208.15  </td> <td>0              </td> <td>93.6  </td> <td>114.55 </td>\n",
       "        </tr>\n",
       "        <tr>\n",
       "            <td>Baltimore </td> <td>161.24  </td> <td>0              </td> <td>155.15</td> <td>6.09001</td>\n",
       "        </tr>\n",
       "        <tr>\n",
       "            <td>Boston    </td> <td>121.92  </td> <td>139            </td> <td>240.79</td> <td>118.87 </td>\n",
       "        </tr>\n",
       "        <tr>\n",
       "            <td>Charlotte </td> <td>265.48  </td> <td>239.7          </td> <td>179.23</td> <td>86.25  </td>\n",
       "        </tr>\n",
       "        <tr>\n",
       "            <td>Chicago   </td> <td>423.22  </td> <td>306.94         </td> <td>442.14</td> <td>18.92  </td>\n",
       "        </tr>\n",
       "        <tr>\n",
       "            <td>Cincinnati</td> <td>125     </td> <td>202.69         </td> <td>175   </td> <td>50     </td>\n",
       "        </tr>\n",
       "        <tr>\n",
       "            <td>Cleveland </td> <td>125     </td> <td>288.65         </td> <td>215.8 </td> <td>90.8   </td>\n",
       "        </tr>\n",
       "        <tr>\n",
       "            <td>Columbus  </td> <td>79.25   </td> <td>0              </td> <td>169.3 </td> <td>90.05  </td>\n",
       "        </tr>\n",
       "        <tr>\n",
       "            <td>Dallas    </td> <td>176.48  </td> <td>280.72         </td> <td>270.06</td> <td>93.58  </td>\n",
       "        </tr>\n",
       "    </tbody>\n",
       "</table>\n",
       "<p>... (25 rows omitted)</p>"
      ],
      "text/plain": [
       "city       | concrete | mixed/composite | steel  | Diff\n",
       "Atlanta    | 264.25   | 311.8           | 169.47 | 94.78\n",
       "Austin     | 208.15   | 0               | 93.6   | 114.55\n",
       "Baltimore  | 161.24   | 0               | 155.15 | 6.09001\n",
       "Boston     | 121.92   | 139             | 240.79 | 118.87\n",
       "Charlotte  | 265.48   | 239.7           | 179.23 | 86.25\n",
       "Chicago    | 423.22   | 306.94          | 442.14 | 18.92\n",
       "Cincinnati | 125      | 202.69          | 175    | 50\n",
       "Cleveland  | 125      | 288.65          | 215.8  | 90.8\n",
       "Columbus   | 79.25    | 0               | 169.3  | 90.05\n",
       "Dallas     | 176.48   | 280.72          | 270.06 | 93.58\n",
       "... (25 rows omitted)"
      ]
     },
     "execution_count": 97,
     "metadata": {},
     "output_type": "execute_result"
    }
   ],
   "source": [
    "# 2. For each city, what’s the height difference between the tallest \n",
    "#    steel building and the tallest concrete building?\n",
    "\n",
    "mytable = sky.pivot('material','city', 'height', max)\n",
    "\n",
    "mytable = mytable.with_column('Diff', abs(mytable.column(3)-mytable.column(1)))\n",
    "mytable"
   ]
  },
  {
   "cell_type": "markdown",
   "metadata": {},
   "source": [
    "Don't read ahead until you try the challenge questions yourself first!"
   ]
  },
  {
   "cell_type": "code",
   "execution_count": 98,
   "metadata": {
    "scrolled": false
   },
   "outputs": [
    {
     "data": {
      "text/html": [
       "<table border=\"1\" class=\"dataframe\">\n",
       "    <thead>\n",
       "        <tr>\n",
       "            <th>city</th> <th>material</th> <th>height max</th>\n",
       "        </tr>\n",
       "    </thead>\n",
       "    <tbody>\n",
       "        <tr>\n",
       "            <td>Atlanta  </td> <td>concrete       </td> <td>264.25    </td>\n",
       "        </tr>\n",
       "        <tr>\n",
       "            <td>Atlanta  </td> <td>mixed/composite</td> <td>311.8     </td>\n",
       "        </tr>\n",
       "        <tr>\n",
       "            <td>Atlanta  </td> <td>steel          </td> <td>169.47    </td>\n",
       "        </tr>\n",
       "        <tr>\n",
       "            <td>Austin   </td> <td>concrete       </td> <td>208.15    </td>\n",
       "        </tr>\n",
       "        <tr>\n",
       "            <td>Austin   </td> <td>steel          </td> <td>93.6      </td>\n",
       "        </tr>\n",
       "        <tr>\n",
       "            <td>Baltimore</td> <td>concrete       </td> <td>161.24    </td>\n",
       "        </tr>\n",
       "        <tr>\n",
       "            <td>Baltimore</td> <td>steel          </td> <td>155.15    </td>\n",
       "        </tr>\n",
       "        <tr>\n",
       "            <td>Boston   </td> <td>concrete       </td> <td>121.92    </td>\n",
       "        </tr>\n",
       "        <tr>\n",
       "            <td>Boston   </td> <td>mixed/composite</td> <td>139       </td>\n",
       "        </tr>\n",
       "        <tr>\n",
       "            <td>Boston   </td> <td>steel          </td> <td>240.79    </td>\n",
       "        </tr>\n",
       "    </tbody>\n",
       "</table>\n",
       "<p>... (81 rows omitted)</p>"
      ],
      "text/plain": [
       "city      | material        | height max\n",
       "Atlanta   | concrete        | 264.25\n",
       "Atlanta   | mixed/composite | 311.8\n",
       "Atlanta   | steel           | 169.47\n",
       "Austin    | concrete        | 208.15\n",
       "Austin    | steel           | 93.6\n",
       "Baltimore | concrete        | 161.24\n",
       "Baltimore | steel           | 155.15\n",
       "Boston    | concrete        | 121.92\n",
       "Boston    | mixed/composite | 139\n",
       "Boston    | steel           | 240.79\n",
       "... (81 rows omitted)"
      ]
     },
     "execution_count": 98,
     "metadata": {},
     "output_type": "execute_result"
    }
   ],
   "source": [
    "sky.select('material', 'city', 'height').group(['city', 'material'], max)"
   ]
  },
  {
   "cell_type": "code",
   "execution_count": 99,
   "metadata": {},
   "outputs": [
    {
     "data": {
      "text/html": [
       "<table border=\"1\" class=\"dataframe\">\n",
       "    <thead>\n",
       "        <tr>\n",
       "            <th>city</th> <th>concrete</th> <th>mixed/composite</th> <th>steel</th>\n",
       "        </tr>\n",
       "    </thead>\n",
       "    <tbody>\n",
       "        <tr>\n",
       "            <td>Atlanta          </td> <td>264.25  </td> <td>311.8          </td> <td>169.47</td>\n",
       "        </tr>\n",
       "        <tr>\n",
       "            <td>Austin           </td> <td>208.15  </td> <td>0              </td> <td>93.6  </td>\n",
       "        </tr>\n",
       "        <tr>\n",
       "            <td>Baltimore        </td> <td>161.24  </td> <td>0              </td> <td>155.15</td>\n",
       "        </tr>\n",
       "        <tr>\n",
       "            <td>Boston           </td> <td>121.92  </td> <td>139            </td> <td>240.79</td>\n",
       "        </tr>\n",
       "        <tr>\n",
       "            <td>Charlotte        </td> <td>265.48  </td> <td>239.7          </td> <td>179.23</td>\n",
       "        </tr>\n",
       "        <tr>\n",
       "            <td>Chicago          </td> <td>423.22  </td> <td>306.94         </td> <td>442.14</td>\n",
       "        </tr>\n",
       "        <tr>\n",
       "            <td>Cincinnati       </td> <td>125     </td> <td>202.69         </td> <td>175   </td>\n",
       "        </tr>\n",
       "        <tr>\n",
       "            <td>Cleveland        </td> <td>125     </td> <td>288.65         </td> <td>215.8 </td>\n",
       "        </tr>\n",
       "        <tr>\n",
       "            <td>Columbus         </td> <td>79.25   </td> <td>0              </td> <td>169.3 </td>\n",
       "        </tr>\n",
       "        <tr>\n",
       "            <td>Dallas           </td> <td>176.48  </td> <td>280.72         </td> <td>270.06</td>\n",
       "        </tr>\n",
       "        <tr>\n",
       "            <td>Denver           </td> <td>194.75  </td> <td>212.75         </td> <td>217.63</td>\n",
       "        </tr>\n",
       "        <tr>\n",
       "            <td>Detroit          </td> <td>221.49  </td> <td>0              </td> <td>173.26</td>\n",
       "        </tr>\n",
       "        <tr>\n",
       "            <td>Honolulu         </td> <td>129.8   </td> <td>0              </td> <td>130.75</td>\n",
       "        </tr>\n",
       "        <tr>\n",
       "            <td>Houston          </td> <td>217.63  </td> <td>305.41         </td> <td>302.37</td>\n",
       "        </tr>\n",
       "        <tr>\n",
       "            <td>Indianapolis     </td> <td>128.17  </td> <td>0              </td> <td>213.67</td>\n",
       "        </tr>\n",
       "        <tr>\n",
       "            <td>Jersey City      </td> <td>162.16  </td> <td>0              </td> <td>238.05</td>\n",
       "        </tr>\n",
       "        <tr>\n",
       "            <td>Kansas City      </td> <td>189.89  </td> <td>0              </td> <td>146.61</td>\n",
       "        </tr>\n",
       "        <tr>\n",
       "            <td>Las Vegas        </td> <td>350.22  </td> <td>195.68         </td> <td>164.6 </td>\n",
       "        </tr>\n",
       "        <tr>\n",
       "            <td>Los Angeles      </td> <td>145.7   </td> <td>118.26         </td> <td>310.29</td>\n",
       "        </tr>\n",
       "        <tr>\n",
       "            <td>Miami            </td> <td>240.41  </td> <td>232.8          </td> <td>147.52</td>\n",
       "        </tr>\n",
       "        <tr>\n",
       "            <td>Miami Beach      </td> <td>170.39  </td> <td>0              </td> <td>0     </td>\n",
       "        </tr>\n",
       "        <tr>\n",
       "            <td>Milwaukee        </td> <td>136     </td> <td>0              </td> <td>183.19</td>\n",
       "        </tr>\n",
       "        <tr>\n",
       "            <td>Minneapolis      </td> <td>203.58  </td> <td>241.38         </td> <td>144.64</td>\n",
       "        </tr>\n",
       "        <tr>\n",
       "            <td>New York City    </td> <td>425.5   </td> <td>541.3          </td> <td>381   </td>\n",
       "        </tr>\n",
       "        <tr>\n",
       "            <td>Philadelphia     </td> <td>157.89  </td> <td>296.73         </td> <td>288.04</td>\n",
       "        </tr>\n",
       "        <tr>\n",
       "            <td>Phoenix          </td> <td>124.1   </td> <td>114            </td> <td>147.22</td>\n",
       "        </tr>\n",
       "        <tr>\n",
       "            <td>Pittsburgh       </td> <td>89.3    </td> <td>172            </td> <td>256.34</td>\n",
       "        </tr>\n",
       "        <tr>\n",
       "            <td>Portland         </td> <td>155.15  </td> <td>127.4          </td> <td>166.42</td>\n",
       "        </tr>\n",
       "        <tr>\n",
       "            <td>Sacramento       </td> <td>106.98  </td> <td>115.82         </td> <td>122.6 </td>\n",
       "        </tr>\n",
       "        <tr>\n",
       "            <td>Salt Lake City   </td> <td>114.91  </td> <td>0              </td> <td>128.63</td>\n",
       "        </tr>\n",
       "        <tr>\n",
       "            <td>San Diego        </td> <td>151.49  </td> <td>144.78         </td> <td>152.4 </td>\n",
       "        </tr>\n",
       "        <tr>\n",
       "            <td>San Francisco    </td> <td>196.6   </td> <td>260            </td> <td>237.44</td>\n",
       "        </tr>\n",
       "        <tr>\n",
       "            <td>Seattle          </td> <td>138.69  </td> <td>284.38         </td> <td>235.31</td>\n",
       "        </tr>\n",
       "        <tr>\n",
       "            <td>St. Louis        </td> <td>100.66  </td> <td>180.75         </td> <td>147.6 </td>\n",
       "        </tr>\n",
       "        <tr>\n",
       "            <td>Sunny Isles Beach</td> <td>196     </td> <td>0              </td> <td>0     </td>\n",
       "        </tr>\n",
       "    </tbody>\n",
       "</table>"
      ],
      "text/plain": [
       "<IPython.core.display.HTML object>"
      ]
     },
     "metadata": {},
     "output_type": "display_data"
    }
   ],
   "source": [
    "sky_p = sky.pivot('material', 'city', values='height', collect=max)\n",
    "sky_p.show()"
   ]
  },
  {
   "cell_type": "code",
   "execution_count": 28,
   "metadata": {},
   "outputs": [
    {
     "data": {
      "text/html": [
       "<table border=\"1\" class=\"dataframe\">\n",
       "    <thead>\n",
       "        <tr>\n",
       "            <th>city</th> <th>concrete</th> <th>mixed/composite</th> <th>steel</th> <th>difference</th>\n",
       "        </tr>\n",
       "    </thead>\n",
       "    <tbody>\n",
       "        <tr>\n",
       "            <td>Atlanta   </td> <td>264.25  </td> <td>311.8          </td> <td>169.47</td> <td>94.78     </td>\n",
       "        </tr>\n",
       "        <tr>\n",
       "            <td>Austin    </td> <td>208.15  </td> <td>0              </td> <td>93.6  </td> <td>114.55    </td>\n",
       "        </tr>\n",
       "        <tr>\n",
       "            <td>Baltimore </td> <td>161.24  </td> <td>0              </td> <td>155.15</td> <td>6.09001   </td>\n",
       "        </tr>\n",
       "        <tr>\n",
       "            <td>Boston    </td> <td>121.92  </td> <td>139            </td> <td>240.79</td> <td>118.87    </td>\n",
       "        </tr>\n",
       "        <tr>\n",
       "            <td>Charlotte </td> <td>265.48  </td> <td>239.7          </td> <td>179.23</td> <td>86.25     </td>\n",
       "        </tr>\n",
       "        <tr>\n",
       "            <td>Chicago   </td> <td>423.22  </td> <td>306.94         </td> <td>442.14</td> <td>18.92     </td>\n",
       "        </tr>\n",
       "        <tr>\n",
       "            <td>Cincinnati</td> <td>125     </td> <td>202.69         </td> <td>175   </td> <td>50        </td>\n",
       "        </tr>\n",
       "        <tr>\n",
       "            <td>Cleveland </td> <td>125     </td> <td>288.65         </td> <td>215.8 </td> <td>90.8      </td>\n",
       "        </tr>\n",
       "        <tr>\n",
       "            <td>Columbus  </td> <td>79.25   </td> <td>0              </td> <td>169.3 </td> <td>90.05     </td>\n",
       "        </tr>\n",
       "        <tr>\n",
       "            <td>Dallas    </td> <td>176.48  </td> <td>280.72         </td> <td>270.06</td> <td>93.58     </td>\n",
       "        </tr>\n",
       "    </tbody>\n",
       "</table>\n",
       "<p>... (25 rows omitted)</p>"
      ],
      "text/plain": [
       "city       | concrete | mixed/composite | steel  | difference\n",
       "Atlanta    | 264.25   | 311.8           | 169.47 | 94.78\n",
       "Austin     | 208.15   | 0               | 93.6   | 114.55\n",
       "Baltimore  | 161.24   | 0               | 155.15 | 6.09001\n",
       "Boston     | 121.92   | 139             | 240.79 | 118.87\n",
       "Charlotte  | 265.48   | 239.7           | 179.23 | 86.25\n",
       "Chicago    | 423.22   | 306.94          | 442.14 | 18.92\n",
       "Cincinnati | 125      | 202.69          | 175    | 50\n",
       "Cleveland  | 125      | 288.65          | 215.8  | 90.8\n",
       "Columbus   | 79.25    | 0               | 169.3  | 90.05\n",
       "Dallas     | 176.48   | 280.72          | 270.06 | 93.58\n",
       "... (25 rows omitted)"
      ]
     },
     "execution_count": 28,
     "metadata": {},
     "output_type": "execute_result"
    }
   ],
   "source": [
    "sky_p = sky_p.with_column(\n",
    "    'difference', \n",
    "    abs(sky_p.column('steel') - sky_p.column('concrete'))\n",
    ")\n",
    "sky_p"
   ]
  },
  {
   "cell_type": "code",
   "execution_count": 29,
   "metadata": {},
   "outputs": [
    {
     "data": {
      "text/html": [
       "<table border=\"1\" class=\"dataframe\">\n",
       "    <thead>\n",
       "        <tr>\n",
       "            <th>city</th> <th>concrete</th> <th>mixed/composite</th> <th>steel</th> <th>difference</th>\n",
       "        </tr>\n",
       "    </thead>\n",
       "    <tbody>\n",
       "        <tr>\n",
       "            <td>Sunny Isles Beach</td> <td>196     </td> <td>0              </td> <td>0     </td> <td>196       </td>\n",
       "        </tr>\n",
       "        <tr>\n",
       "            <td>Las Vegas        </td> <td>350.22  </td> <td>195.68         </td> <td>164.6 </td> <td>185.62    </td>\n",
       "        </tr>\n",
       "        <tr>\n",
       "            <td>Miami Beach      </td> <td>170.39  </td> <td>0              </td> <td>0     </td> <td>170.39    </td>\n",
       "        </tr>\n",
       "        <tr>\n",
       "            <td>Pittsburgh       </td> <td>89.3    </td> <td>172            </td> <td>256.34</td> <td>167.04    </td>\n",
       "        </tr>\n",
       "        <tr>\n",
       "            <td>Los Angeles      </td> <td>145.7   </td> <td>118.26         </td> <td>310.29</td> <td>164.59    </td>\n",
       "        </tr>\n",
       "        <tr>\n",
       "            <td>Philadelphia     </td> <td>157.89  </td> <td>296.73         </td> <td>288.04</td> <td>130.15    </td>\n",
       "        </tr>\n",
       "        <tr>\n",
       "            <td>Boston           </td> <td>121.92  </td> <td>139            </td> <td>240.79</td> <td>118.87    </td>\n",
       "        </tr>\n",
       "        <tr>\n",
       "            <td>Austin           </td> <td>208.15  </td> <td>0              </td> <td>93.6  </td> <td>114.55    </td>\n",
       "        </tr>\n",
       "        <tr>\n",
       "            <td>Seattle          </td> <td>138.69  </td> <td>284.38         </td> <td>235.31</td> <td>96.62     </td>\n",
       "        </tr>\n",
       "        <tr>\n",
       "            <td>Atlanta          </td> <td>264.25  </td> <td>311.8          </td> <td>169.47</td> <td>94.78     </td>\n",
       "        </tr>\n",
       "    </tbody>\n",
       "</table>\n",
       "<p>... (25 rows omitted)</p>"
      ],
      "text/plain": [
       "city              | concrete | mixed/composite | steel  | difference\n",
       "Sunny Isles Beach | 196      | 0               | 0      | 196\n",
       "Las Vegas         | 350.22   | 195.68          | 164.6  | 185.62\n",
       "Miami Beach       | 170.39   | 0               | 0      | 170.39\n",
       "Pittsburgh        | 89.3     | 172             | 256.34 | 167.04\n",
       "Los Angeles       | 145.7    | 118.26          | 310.29 | 164.59\n",
       "Philadelphia      | 157.89   | 296.73          | 288.04 | 130.15\n",
       "Boston            | 121.92   | 139             | 240.79 | 118.87\n",
       "Austin            | 208.15   | 0               | 93.6   | 114.55\n",
       "Seattle           | 138.69   | 284.38          | 235.31 | 96.62\n",
       "Atlanta           | 264.25   | 311.8           | 169.47 | 94.78\n",
       "... (25 rows omitted)"
      ]
     },
     "execution_count": 29,
     "metadata": {},
     "output_type": "execute_result"
    }
   ],
   "source": [
    "sky_p.sort('difference', True)"
   ]
  },
  {
   "cell_type": "markdown",
   "metadata": {},
   "source": [
    "### Take-home question: try it here!"
   ]
  },
  {
   "cell_type": "code",
   "execution_count": 30,
   "metadata": {},
   "outputs": [],
   "source": [
    "# Generate a table of the names of the oldest buildings for each \n",
    "# material for each city:\n",
    "\n"
   ]
  },
  {
   "cell_type": "markdown",
   "metadata": {},
   "source": [
    "## Joins ##"
   ]
  },
  {
   "cell_type": "code",
   "execution_count": 31,
   "metadata": {},
   "outputs": [
    {
     "data": {
      "text/html": [
       "<table border=\"1\" class=\"dataframe\">\n",
       "    <thead>\n",
       "        <tr>\n",
       "            <th>Drink</th> <th>Cafe</th> <th>Price</th>\n",
       "        </tr>\n",
       "    </thead>\n",
       "    <tbody>\n",
       "        <tr>\n",
       "            <td>Milk Tea</td> <td>Asha  </td> <td>5.5  </td>\n",
       "        </tr>\n",
       "        <tr>\n",
       "            <td>Espresso</td> <td>Strada</td> <td>1.75 </td>\n",
       "        </tr>\n",
       "        <tr>\n",
       "            <td>Latte   </td> <td>Strada</td> <td>3.25 </td>\n",
       "        </tr>\n",
       "        <tr>\n",
       "            <td>Espresso</td> <td>FSM   </td> <td>2    </td>\n",
       "        </tr>\n",
       "    </tbody>\n",
       "</table>"
      ],
      "text/plain": [
       "Drink    | Cafe   | Price\n",
       "Milk Tea | Asha   | 5.5\n",
       "Espresso | Strada | 1.75\n",
       "Latte    | Strada | 3.25\n",
       "Espresso | FSM    | 2"
      ]
     },
     "execution_count": 31,
     "metadata": {},
     "output_type": "execute_result"
    }
   ],
   "source": [
    "drinks"
   ]
  },
  {
   "cell_type": "code",
   "execution_count": 32,
   "metadata": {},
   "outputs": [
    {
     "data": {
      "text/html": [
       "<table border=\"1\" class=\"dataframe\">\n",
       "    <thead>\n",
       "        <tr>\n",
       "            <th>Coupon % off</th> <th>Location</th>\n",
       "        </tr>\n",
       "    </thead>\n",
       "    <tbody>\n",
       "        <tr>\n",
       "            <td>10          </td> <td>Asha    </td>\n",
       "        </tr>\n",
       "        <tr>\n",
       "            <td>25          </td> <td>Strada  </td>\n",
       "        </tr>\n",
       "        <tr>\n",
       "            <td>5           </td> <td>Asha    </td>\n",
       "        </tr>\n",
       "    </tbody>\n",
       "</table>"
      ],
      "text/plain": [
       "Coupon % off | Location\n",
       "10           | Asha\n",
       "25           | Strada\n",
       "5            | Asha"
      ]
     },
     "execution_count": 32,
     "metadata": {},
     "output_type": "execute_result"
    }
   ],
   "source": [
    "discounts = Table().with_columns(\n",
    "    'Coupon % off', make_array(10, 25, 5),\n",
    "    'Location', make_array('Asha', 'Strada', 'Asha')\n",
    ")\n",
    "discounts"
   ]
  },
  {
   "cell_type": "code",
   "execution_count": 33,
   "metadata": {
    "scrolled": true
   },
   "outputs": [
    {
     "data": {
      "text/html": [
       "<table border=\"1\" class=\"dataframe\">\n",
       "    <thead>\n",
       "        <tr>\n",
       "            <th>Cafe</th> <th>Drink</th> <th>Price</th> <th>Coupon % off</th>\n",
       "        </tr>\n",
       "    </thead>\n",
       "    <tbody>\n",
       "        <tr>\n",
       "            <td>Asha  </td> <td>Milk Tea</td> <td>5.5  </td> <td>10          </td>\n",
       "        </tr>\n",
       "        <tr>\n",
       "            <td>Asha  </td> <td>Milk Tea</td> <td>5.5  </td> <td>5           </td>\n",
       "        </tr>\n",
       "        <tr>\n",
       "            <td>Strada</td> <td>Espresso</td> <td>1.75 </td> <td>25          </td>\n",
       "        </tr>\n",
       "        <tr>\n",
       "            <td>Strada</td> <td>Latte   </td> <td>3.25 </td> <td>25          </td>\n",
       "        </tr>\n",
       "    </tbody>\n",
       "</table>"
      ],
      "text/plain": [
       "<IPython.core.display.HTML object>"
      ]
     },
     "metadata": {},
     "output_type": "display_data"
    },
    {
     "data": {
      "text/html": [
       "<table border=\"1\" class=\"dataframe\">\n",
       "    <thead>\n",
       "        <tr>\n",
       "            <th>Location</th> <th>Coupon % off</th> <th>Drink</th> <th>Price</th>\n",
       "        </tr>\n",
       "    </thead>\n",
       "    <tbody>\n",
       "        <tr>\n",
       "            <td>Asha    </td> <td>10          </td> <td>Milk Tea</td> <td>5.5  </td>\n",
       "        </tr>\n",
       "        <tr>\n",
       "            <td>Asha    </td> <td>5           </td> <td>Milk Tea</td> <td>5.5  </td>\n",
       "        </tr>\n",
       "        <tr>\n",
       "            <td>Strada  </td> <td>25          </td> <td>Espresso</td> <td>1.75 </td>\n",
       "        </tr>\n",
       "        <tr>\n",
       "            <td>Strada  </td> <td>25          </td> <td>Latte   </td> <td>3.25 </td>\n",
       "        </tr>\n",
       "    </tbody>\n",
       "</table>"
      ],
      "text/plain": [
       "Location | Coupon % off | Drink    | Price\n",
       "Asha     | 10           | Milk Tea | 5.5\n",
       "Asha     | 5            | Milk Tea | 5.5\n",
       "Strada   | 25           | Espresso | 1.75\n",
       "Strada   | 25           | Latte    | 3.25"
      ]
     },
     "execution_count": 33,
     "metadata": {},
     "output_type": "execute_result"
    }
   ],
   "source": [
    "combined = drinks.join('Cafe', discounts, 'Location')\n",
    "combined.show()\n",
    "\n",
    "combined2 = discounts.join('Location', drinks, 'Cafe')\n",
    "combined2\n"
   ]
  },
  {
   "cell_type": "code",
   "execution_count": 34,
   "metadata": {},
   "outputs": [
    {
     "data": {
      "text/html": [
       "<table border=\"1\" class=\"dataframe\">\n",
       "    <thead>\n",
       "        <tr>\n",
       "            <th>Cafe</th> <th>Drink</th> <th>Price</th> <th>Coupon % off</th> <th>Discounted Price</th>\n",
       "        </tr>\n",
       "    </thead>\n",
       "    <tbody>\n",
       "        <tr>\n",
       "            <td>Asha  </td> <td>Milk Tea</td> <td>5.5  </td> <td>10          </td> <td>4.95            </td>\n",
       "        </tr>\n",
       "        <tr>\n",
       "            <td>Asha  </td> <td>Milk Tea</td> <td>5.5  </td> <td>5           </td> <td>5.225           </td>\n",
       "        </tr>\n",
       "        <tr>\n",
       "            <td>Strada</td> <td>Espresso</td> <td>1.75 </td> <td>25          </td> <td>1.3125          </td>\n",
       "        </tr>\n",
       "        <tr>\n",
       "            <td>Strada</td> <td>Latte   </td> <td>3.25 </td> <td>25          </td> <td>2.4375          </td>\n",
       "        </tr>\n",
       "    </tbody>\n",
       "</table>"
      ],
      "text/plain": [
       "Cafe   | Drink    | Price | Coupon % off | Discounted Price\n",
       "Asha   | Milk Tea | 5.5   | 10           | 4.95\n",
       "Asha   | Milk Tea | 5.5   | 5            | 5.225\n",
       "Strada | Espresso | 1.75  | 25           | 1.3125\n",
       "Strada | Latte    | 3.25  | 25           | 2.4375"
      ]
     },
     "execution_count": 34,
     "metadata": {},
     "output_type": "execute_result"
    }
   ],
   "source": [
    "discounted_frac = 1 - combined.column('Coupon % off') / 100\n",
    "combined.with_column(\n",
    "    'Discounted Price', \n",
    "    combined.column('Price') * discounted_frac\n",
    ")"
   ]
  },
  {
   "cell_type": "code",
   "execution_count": 35,
   "metadata": {},
   "outputs": [
    {
     "data": {
      "text/html": [
       "<table border=\"1\" class=\"dataframe\">\n",
       "    <thead>\n",
       "        <tr>\n",
       "            <th>Cafe</th> <th>Drink</th> <th>Price</th> <th>Drink_2</th> <th>Price_2</th>\n",
       "        </tr>\n",
       "    </thead>\n",
       "    <tbody>\n",
       "        <tr>\n",
       "            <td>Asha  </td> <td>Milk Tea</td> <td>5.5  </td> <td>Milk Tea</td> <td>5.5    </td>\n",
       "        </tr>\n",
       "        <tr>\n",
       "            <td>FSM   </td> <td>Espresso</td> <td>2    </td> <td>Espresso</td> <td>2      </td>\n",
       "        </tr>\n",
       "        <tr>\n",
       "            <td>Strada</td> <td>Espresso</td> <td>1.75 </td> <td>Espresso</td> <td>1.75   </td>\n",
       "        </tr>\n",
       "        <tr>\n",
       "            <td>Strada</td> <td>Espresso</td> <td>1.75 </td> <td>Latte   </td> <td>3.25   </td>\n",
       "        </tr>\n",
       "        <tr>\n",
       "            <td>Strada</td> <td>Latte   </td> <td>3.25 </td> <td>Espresso</td> <td>1.75   </td>\n",
       "        </tr>\n",
       "        <tr>\n",
       "            <td>Strada</td> <td>Latte   </td> <td>3.25 </td> <td>Latte   </td> <td>3.25   </td>\n",
       "        </tr>\n",
       "    </tbody>\n",
       "</table>"
      ],
      "text/plain": [
       "Cafe   | Drink    | Price | Drink_2  | Price_2\n",
       "Asha   | Milk Tea | 5.5   | Milk Tea | 5.5\n",
       "FSM    | Espresso | 2     | Espresso | 2\n",
       "Strada | Espresso | 1.75  | Espresso | 1.75\n",
       "Strada | Espresso | 1.75  | Latte    | 3.25\n",
       "Strada | Latte    | 3.25  | Espresso | 1.75\n",
       "Strada | Latte    | 3.25  | Latte    | 3.25"
      ]
     },
     "execution_count": 35,
     "metadata": {},
     "output_type": "execute_result"
    }
   ],
   "source": [
    "drinks.join('Cafe', drinks, 'Cafe')"
   ]
  },
  {
   "cell_type": "markdown",
   "metadata": {},
   "source": [
    "## Billionaires ##"
   ]
  },
  {
   "cell_type": "code",
   "execution_count": 55,
   "metadata": {},
   "outputs": [
    {
     "data": {
      "text/html": [
       "<table border=\"1\" class=\"dataframe\">\n",
       "    <thead>\n",
       "        <tr>\n",
       "            <th>citizenship</th> <th>name</th> <th>net worth</th> <th>industry</th> <th>Continent</th>\n",
       "        </tr>\n",
       "    </thead>\n",
       "    <tbody>\n",
       "        <tr>\n",
       "            <td>Australia  </td> <td>Gina Rinehart      </td> <td>19984845036</td> <td>Commodities    </td> <td>Oceania      </td>\n",
       "        </tr>\n",
       "        <tr>\n",
       "            <td>Australia  </td> <td>Andrew Forrest     </td> <td>10221458789</td> <td>Commodities    </td> <td>Oceania      </td>\n",
       "        </tr>\n",
       "        <tr>\n",
       "            <td>Australia  </td> <td>Harry Triguboff    </td> <td>9467000000 </td> <td>Real Estate    </td> <td>Oceania      </td>\n",
       "        </tr>\n",
       "        <tr>\n",
       "            <td>Australia  </td> <td>Scott Farquhar     </td> <td>9335988154 </td> <td>Technology     </td> <td>Oceania      </td>\n",
       "        </tr>\n",
       "        <tr>\n",
       "            <td>Australia  </td> <td>Mike Cannon-Brookes</td> <td>9335988154 </td> <td>Technology     </td> <td>Oceania      </td>\n",
       "        </tr>\n",
       "        <tr>\n",
       "            <td>Australia  </td> <td>Frank Lowy         </td> <td>6655432824 </td> <td>Real Estate    </td> <td>Oceania      </td>\n",
       "        </tr>\n",
       "        <tr>\n",
       "            <td>Australia  </td> <td>Anthony Pratt      </td> <td>6566000000 </td> <td>Industrial     </td> <td>Oceania      </td>\n",
       "        </tr>\n",
       "        <tr>\n",
       "            <td>Austria    </td> <td>Dietrich Mateschitz</td> <td>12251315379</td> <td>Food & Beverage</td> <td>Europe       </td>\n",
       "        </tr>\n",
       "        <tr>\n",
       "            <td>Austria    </td> <td>Johann Graf        </td> <td>6509183360 </td> <td>Entertainment  </td> <td>Europe       </td>\n",
       "        </tr>\n",
       "        <tr>\n",
       "            <td>Brazil     </td> <td>Jorge Paulo Lemann </td> <td>23056345424</td> <td>Food & Beverage</td> <td>South America</td>\n",
       "        </tr>\n",
       "    </tbody>\n",
       "</table>\n",
       "<p>... (490 rows omitted)</p>"
      ],
      "text/plain": [
       "citizenship | name                | net worth   | industry        | Continent\n",
       "Australia   | Gina Rinehart       | 19984845036 | Commodities     | Oceania\n",
       "Australia   | Andrew Forrest      | 10221458789 | Commodities     | Oceania\n",
       "Australia   | Harry Triguboff     | 9467000000  | Real Estate     | Oceania\n",
       "Australia   | Scott Farquhar      | 9335988154  | Technology      | Oceania\n",
       "Australia   | Mike Cannon-Brookes | 9335988154  | Technology      | Oceania\n",
       "Australia   | Frank Lowy          | 6655432824  | Real Estate     | Oceania\n",
       "Australia   | Anthony Pratt       | 6566000000  | Industrial      | Oceania\n",
       "Austria     | Dietrich Mateschitz | 12251315379 | Food & Beverage | Europe\n",
       "Austria     | Johann Graf         | 6509183360  | Entertainment   | Europe\n",
       "Brazil      | Jorge Paulo Lemann  | 23056345424 | Food & Beverage | South America\n",
       "... (490 rows omitted)"
      ]
     },
     "execution_count": 55,
     "metadata": {},
     "output_type": "execute_result"
    }
   ],
   "source": [
    "billionaires = Table.read_table('billionaires2.csv')\n",
    "billionaires"
   ]
  },
  {
   "cell_type": "code",
   "execution_count": 56,
   "metadata": {},
   "outputs": [
    {
     "data": {
      "image/png": "[encoded data removed]",
      "text/plain": [
       "<Figure size 432x1692 with 1 Axes>"
      ]
     },
     "metadata": {},
     "output_type": "display_data"
    }
   ],
   "source": [
    "(billionaires.group('citizenship')\n",
    "             .sort(1, descending=True)\n",
    "             .barh('citizenship'))"
   ]
  },
  {
   "cell_type": "code",
   "execution_count": 38,
   "metadata": {},
   "outputs": [
    {
     "data": {
      "image/png": "[encoded data removed]",
      "text/plain": [
       "<Figure size 432x504 with 1 Axes>"
      ]
     },
     "metadata": {},
     "output_type": "display_data"
    }
   ],
   "source": [
    "(billionaires.group('industry')\n",
    "             .sort(1, descending=True)\n",
    "             .barh('industry'))"
   ]
  },
  {
   "cell_type": "code",
   "execution_count": 100,
   "metadata": {},
   "outputs": [
    {
     "data": {
      "text/html": [
       "<table border=\"1\" class=\"dataframe\">\n",
       "    <thead>\n",
       "        <tr>\n",
       "            <th>citizenship</th> <th>Commodities</th> <th>Consumer</th> <th>Diversified</th> <th>Energy</th> <th>Entertainment</th> <th>Finance</th> <th>Food & Beverage</th> <th>Health Care</th> <th>Industrial</th> <th>Media & Telecom</th> <th>Real Estate</th> <th>Retail</th> <th>Services</th> <th>Technology</th>\n",
       "        </tr>\n",
       "    </thead>\n",
       "    <tbody>\n",
       "        <tr>\n",
       "            <td>Australia     </td> <td>2          </td> <td>0       </td> <td>0          </td> <td>0     </td> <td>0            </td> <td>0      </td> <td>0              </td> <td>0          </td> <td>1         </td> <td>0              </td> <td>2          </td> <td>0     </td> <td>0       </td> <td>2         </td>\n",
       "        </tr>\n",
       "        <tr>\n",
       "            <td>Austria       </td> <td>0          </td> <td>0       </td> <td>0          </td> <td>0     </td> <td>1            </td> <td>0      </td> <td>1              </td> <td>0          </td> <td>0         </td> <td>0              </td> <td>0          </td> <td>0     </td> <td>0       </td> <td>0         </td>\n",
       "        </tr>\n",
       "        <tr>\n",
       "            <td>Brazil        </td> <td>1          </td> <td>0       </td> <td>0          </td> <td>0     </td> <td>0            </td> <td>5      </td> <td>3              </td> <td>0          </td> <td>1         </td> <td>0              </td> <td>0          </td> <td>0     </td> <td>0       </td> <td>1         </td>\n",
       "        </tr>\n",
       "        <tr>\n",
       "            <td>Canada        </td> <td>1          </td> <td>0       </td> <td>0          </td> <td>1     </td> <td>0            </td> <td>0      </td> <td>1              </td> <td>0          </td> <td>0         </td> <td>7              </td> <td>0          </td> <td>3     </td> <td>0       </td> <td>1         </td>\n",
       "        </tr>\n",
       "        <tr>\n",
       "            <td>Cayman Islands</td> <td>0          </td> <td>0       </td> <td>0          </td> <td>0     </td> <td>0            </td> <td>1      </td> <td>0              </td> <td>0          </td> <td>0         </td> <td>0              </td> <td>0          </td> <td>0     </td> <td>0       </td> <td>0         </td>\n",
       "        </tr>\n",
       "    </tbody>\n",
       "</table>\n",
       "<p>... (42 rows omitted)</p>"
      ],
      "text/plain": [
       "<IPython.core.display.HTML object>"
      ]
     },
     "metadata": {},
     "output_type": "display_data"
    }
   ],
   "source": [
    "billionaires.pivot('industry', 'citizenship').show(5)"
   ]
  },
  {
   "cell_type": "code",
   "execution_count": 41,
   "metadata": {},
   "outputs": [
    {
     "data": {
      "text/html": [
       "<table border=\"1\" class=\"dataframe\">\n",
       "    <thead>\n",
       "        <tr>\n",
       "            <th>Continent</th> <th>Country</th>\n",
       "        </tr>\n",
       "    </thead>\n",
       "    <tbody>\n",
       "        <tr>\n",
       "            <td>North America</td> <td>Antigua and Barbuda</td>\n",
       "        </tr>\n",
       "        <tr>\n",
       "            <td>North America</td> <td>Bahamas            </td>\n",
       "        </tr>\n",
       "        <tr>\n",
       "            <td>North America</td> <td>Barbados           </td>\n",
       "        </tr>\n",
       "        <tr>\n",
       "            <td>North America</td> <td>Belize             </td>\n",
       "        </tr>\n",
       "        <tr>\n",
       "            <td>North America</td> <td>Canada             </td>\n",
       "        </tr>\n",
       "        <tr>\n",
       "            <td>North America</td> <td>Cayman Islands     </td>\n",
       "        </tr>\n",
       "        <tr>\n",
       "            <td>North America</td> <td>Costa Rica         </td>\n",
       "        </tr>\n",
       "        <tr>\n",
       "            <td>North America</td> <td>Cuba               </td>\n",
       "        </tr>\n",
       "        <tr>\n",
       "            <td>North America</td> <td>Dominica           </td>\n",
       "        </tr>\n",
       "        <tr>\n",
       "            <td>North America</td> <td>Dominican Republic </td>\n",
       "        </tr>\n",
       "    </tbody>\n",
       "</table>\n",
       "<p>... (14 rows omitted)</p>"
      ],
      "text/plain": [
       "Continent     | Country\n",
       "North America | Antigua and Barbuda\n",
       "North America | Bahamas\n",
       "North America | Barbados\n",
       "North America | Belize\n",
       "North America | Canada\n",
       "North America | Cayman Islands\n",
       "North America | Costa Rica\n",
       "North America | Cuba\n",
       "North America | Dominica\n",
       "North America | Dominican Republic\n",
       "... (14 rows omitted)"
      ]
     },
     "execution_count": 41,
     "metadata": {},
     "output_type": "execute_result"
    }
   ],
   "source": [
    "countries.where('Continent', 'North America')"
   ]
  },
  {
   "cell_type": "code",
   "execution_count": 101,
   "metadata": {},
   "outputs": [
    {
     "data": {
      "text/html": [
       "<table border=\"1\" class=\"dataframe\">\n",
       "    <thead>\n",
       "        <tr>\n",
       "            <th>Continent</th> <th>Commodities</th> <th>Consumer</th> <th>Diversified</th> <th>Energy</th> <th>Entertainment</th> <th>Finance</th> <th>Food & Beverage</th> <th>Health Care</th> <th>Industrial</th> <th>Media & Telecom</th> <th>Real Estate</th> <th>Retail</th> <th>Services</th> <th>Technology</th>\n",
       "        </tr>\n",
       "    </thead>\n",
       "    <tbody>\n",
       "        <tr>\n",
       "            <td>Africa       </td> <td>0          </td> <td>0       </td> <td>2          </td> <td>0     </td> <td>0            </td> <td>0      </td> <td>1              </td> <td>0          </td> <td>2         </td> <td>2              </td> <td>0          </td> <td>0     </td> <td>0       </td> <td>0         </td>\n",
       "        </tr>\n",
       "        <tr>\n",
       "            <td>Asia         </td> <td>7          </td> <td>10      </td> <td>27         </td> <td>12    </td> <td>4            </td> <td>4      </td> <td>11             </td> <td>11         </td> <td>21        </td> <td>3              </td> <td>23         </td> <td>8     </td> <td>6       </td> <td>21        </td>\n",
       "        </tr>\n",
       "        <tr>\n",
       "            <td>Europe       </td> <td>1          </td> <td>17      </td> <td>13         </td> <td>1     </td> <td>4            </td> <td>1      </td> <td>9              </td> <td>10         </td> <td>21        </td> <td>4              </td> <td>5          </td> <td>15    </td> <td>4       </td> <td>6         </td>\n",
       "        </tr>\n",
       "        <tr>\n",
       "            <td>North America</td> <td>6          </td> <td>14      </td> <td>10         </td> <td>17    </td> <td>9            </td> <td>29     </td> <td>14             </td> <td>6          </td> <td>4         </td> <td>19             </td> <td>12         </td> <td>17    </td> <td>2       </td> <td>33        </td>\n",
       "        </tr>\n",
       "        <tr>\n",
       "            <td>Oceania      </td> <td>2          </td> <td>0       </td> <td>0          </td> <td>0     </td> <td>0            </td> <td>1      </td> <td>0              </td> <td>0          </td> <td>1         </td> <td>0              </td> <td>2          </td> <td>0     </td> <td>0       </td> <td>2         </td>\n",
       "        </tr>\n",
       "        <tr>\n",
       "            <td>South America</td> <td>2          </td> <td>0       </td> <td>0          </td> <td>0     </td> <td>0            </td> <td>6      </td> <td>4              </td> <td>0          </td> <td>1         </td> <td>0              </td> <td>0          </td> <td>0     </td> <td>0       </td> <td>1         </td>\n",
       "        </tr>\n",
       "    </tbody>\n",
       "</table>"
      ],
      "text/plain": [
       "Continent     | Commodities | Consumer | Diversified | Energy | Entertainment | Finance | Food & Beverage | Health Care | Industrial | Media & Telecom | Real Estate | Retail | Services | Technology\n",
       "Africa        | 0           | 0        | 2           | 0      | 0             | 0       | 1               | 0           | 2          | 2               | 0           | 0      | 0        | 0\n",
       "Asia          | 7           | 10       | 27          | 12     | 4             | 4       | 11              | 11          | 21         | 3               | 23          | 8      | 6        | 21\n",
       "Europe        | 1           | 17       | 13          | 1      | 4             | 1       | 9               | 10          | 21         | 4               | 5           | 15     | 4        | 6\n",
       "North America | 6           | 14       | 10          | 17     | 9             | 29      | 14              | 6           | 4          | 19              | 12          | 17     | 2        | 33\n",
       "Oceania       | 2           | 0        | 0           | 0      | 0             | 1       | 0               | 0           | 1          | 0               | 2           | 0      | 0        | 2\n",
       "South America | 2           | 0        | 0           | 0      | 0             | 6       | 4               | 0           | 1          | 0               | 0           | 0      | 0        | 1"
      ]
     },
     "execution_count": 101,
     "metadata": {},
     "output_type": "execute_result"
    }
   ],
   "source": [
    "billionaires.pivot('industry', 'Continent')"
   ]
  },
  {
   "cell_type": "code",
   "execution_count": 70,
   "metadata": {},
   "outputs": [
    {
     "data": {
      "text/html": [
       "<table border=\"1\" class=\"dataframe\">\n",
       "    <thead>\n",
       "        <tr>\n",
       "            <th>name</th> <th>citizenship</th> <th>net worth</th> <th>industry</th> <th>Continent</th> <th>company</th> <th>party</th> <th>amount</th> <th>Contribution%</th>\n",
       "        </tr>\n",
       "    </thead>\n",
       "    <tbody>\n",
       "        <tr>\n",
       "            <td>Sheldon Adelson</td> <td>United States</td> <td>38008857087 </td> <td>Entertainment  </td> <td>North America</td> <td>Las Vegas Sands       </td> <td>200  </td> <td>6.20425e+06</td> <td>0.000163232  </td>\n",
       "        </tr>\n",
       "        <tr>\n",
       "            <td>Charles Schwab </td> <td>United States</td> <td>9063879795  </td> <td>Finance        </td> <td>North America</td> <td>Charles Schwab Corp   </td> <td>200  </td> <td>1.2364e+06 </td> <td>0.00013641   </td>\n",
       "        </tr>\n",
       "        <tr>\n",
       "            <td>Charles Johnson</td> <td>United States</td> <td>4587892463  </td> <td>Finance        </td> <td>North America</td> <td>Franklin Resources    </td> <td>200  </td> <td>858000     </td> <td>0.000187014  </td>\n",
       "        </tr>\n",
       "        <tr>\n",
       "            <td>Kelcy Warren   </td> <td>United States</td> <td>4595072119  </td> <td>Energy         </td> <td>North America</td> <td>Energy Transfer       </td> <td>200  </td> <td>529886     </td> <td>0.000115316  </td>\n",
       "        </tr>\n",
       "        <tr>\n",
       "            <td>Jim Walton     </td> <td>United States</td> <td>52493506006 </td> <td>Retail         </td> <td>North America</td> <td>Wal-Mart Stores Inc   </td> <td>200  </td> <td>444700     </td> <td>8.47152e-06  </td>\n",
       "        </tr>\n",
       "        <tr>\n",
       "            <td>Ray Hunt       </td> <td>United States</td> <td>5421192714  </td> <td>Energy         </td> <td>North America</td> <td>PepsiCo Inc           </td> <td>200  </td> <td>442364     </td> <td>8.1599e-05   </td>\n",
       "        </tr>\n",
       "        <tr>\n",
       "            <td>Richard Kinder </td> <td>United States</td> <td>8398076785  </td> <td>Energy         </td> <td>North America</td> <td>Kinder Morgan         </td> <td>200  </td> <td>368000     </td> <td>4.38195e-05  </td>\n",
       "        </tr>\n",
       "        <tr>\n",
       "            <td>John Malone    </td> <td>United States</td> <td>8069296402  </td> <td>Media & Telecom</td> <td>North America</td> <td>Liberty Global        </td> <td>200  </td> <td>280050     </td> <td>3.47056e-05  </td>\n",
       "        </tr>\n",
       "        <tr>\n",
       "            <td>Eric Schmidt   </td> <td>United States</td> <td>16579148665 </td> <td>Technology     </td> <td>North America</td> <td>google                </td> <td>100  </td> <td>257300     </td> <td>1.55195e-05  </td>\n",
       "        </tr>\n",
       "        <tr>\n",
       "            <td>Reed Hastings  </td> <td>United States</td> <td>4569628489  </td> <td>Technology     </td> <td>North America</td> <td>Facebook              </td> <td>100  </td> <td>241700     </td> <td>5.28927e-05  </td>\n",
       "        </tr>\n",
       "        <tr>\n",
       "            <td>Carl Icahn     </td> <td>United States</td> <td>20515698449 </td> <td>Diversified    </td> <td>North America</td> <td>CVR Energy            </td> <td>200  </td> <td>225900     </td> <td>1.10111e-05  </td>\n",
       "        </tr>\n",
       "        <tr>\n",
       "            <td>Warren Buffett </td> <td>United States</td> <td>89408278188 </td> <td>Diversified    </td> <td>North America</td> <td>Berkshire Hatahway    </td> <td>100  </td> <td>208700     </td> <td>2.33424e-06  </td>\n",
       "        </tr>\n",
       "        <tr>\n",
       "            <td>Henry Kravis   </td> <td>United States</td> <td>7280344087  </td> <td>Finance        </td> <td>North America</td> <td>First Data Corporation</td> <td>200  </td> <td>206349     </td> <td>2.83433e-05  </td>\n",
       "        </tr>\n",
       "        <tr>\n",
       "            <td>Walter Scott   </td> <td>United States</td> <td>5253083416  </td> <td>Energy         </td> <td>North America</td> <td>Berkshire Hathaway Inc</td> <td>200  </td> <td>138400     </td> <td>2.63464e-05  </td>\n",
       "        </tr>\n",
       "        <tr>\n",
       "            <td>Barry Diller   </td> <td>United States</td> <td>5479965153  </td> <td>Technology     </td> <td>North America</td> <td>Coca-Cola Co          </td> <td>100  </td> <td>107500     </td> <td>1.96169e-05  </td>\n",
       "        </tr>\n",
       "        <tr>\n",
       "            <td>Charles Dolan  </td> <td>United States</td> <td>5387774353  </td> <td>Media & Telecom</td> <td>North America</td> <td>Cablevision           </td> <td>200  </td> <td>107000     </td> <td>1.98598e-05  </td>\n",
       "        </tr>\n",
       "        <tr>\n",
       "            <td>Howard Schultz </td> <td>United States</td> <td>4875359022  </td> <td>Food & Beverage</td> <td>North America</td> <td>starbucks             </td> <td>100  </td> <td>79050      </td> <td>1.62142e-05  </td>\n",
       "        </tr>\n",
       "        <tr>\n",
       "            <td>John Brown     </td> <td>United States</td> <td>4463648749  </td> <td>Technology     </td> <td>North America</td> <td>St. Jude Medical Inc  </td> <td>100  </td> <td>77900      </td> <td>1.74521e-05  </td>\n",
       "        </tr>\n",
       "        <tr>\n",
       "            <td>Ralph Lauren   </td> <td>United States</td> <td>7243211707  </td> <td>Consumer       </td> <td>North America</td> <td>Ralph Lauren          </td> <td>100  </td> <td>71600      </td> <td>9.88512e-06  </td>\n",
       "        </tr>\n",
       "        <tr>\n",
       "            <td>Sergey Brin    </td> <td>United States</td> <td>67825250468 </td> <td>Technology     </td> <td>North America</td> <td>google                </td> <td>100  </td> <td>71600      </td> <td>1.05565e-06  </td>\n",
       "        </tr>\n",
       "        <tr>\n",
       "            <td>Eric Schmidt   </td> <td>United States</td> <td>16579148665 </td> <td>Technology     </td> <td>North America</td> <td>google                </td> <td>200  </td> <td>55500      </td> <td>3.34758e-06  </td>\n",
       "        </tr>\n",
       "        <tr>\n",
       "            <td>David Bonderman</td> <td>United States</td> <td>4966912311  </td> <td>Finance        </td> <td>North America</td> <td>Caesars Entertainment </td> <td>200  </td> <td>54050      </td> <td>1.0882e-05   </td>\n",
       "        </tr>\n",
       "        <tr>\n",
       "            <td>Michael Dell   </td> <td>United States</td> <td>30492123849 </td> <td>Technology     </td> <td>North America</td> <td>Dell Inc              </td> <td>200  </td> <td>44000      </td> <td>1.443e-06    </td>\n",
       "        </tr>\n",
       "        <tr>\n",
       "            <td>David Bonderman</td> <td>United States</td> <td>4966912311  </td> <td>Finance        </td> <td>North America</td> <td>Caesars Entertainment </td> <td>100  </td> <td>42500      </td> <td>8.55662e-06  </td>\n",
       "        </tr>\n",
       "        <tr>\n",
       "            <td>Charles Dolan  </td> <td>United States</td> <td>5387774353  </td> <td>Media & Telecom</td> <td>North America</td> <td>Cablevision           </td> <td>100  </td> <td>39400      </td> <td>7.31285e-06  </td>\n",
       "        </tr>\n",
       "        <tr>\n",
       "            <td>Ronda Stryker  </td> <td>United States</td> <td>6645102614  </td> <td>Health Care    </td> <td>North America</td> <td>Stryker               </td> <td>100  </td> <td>38000      </td> <td>5.7185e-06   </td>\n",
       "        </tr>\n",
       "        <tr>\n",
       "            <td>Jim Walton     </td> <td>United States</td> <td>52493506006 </td> <td>Retail         </td> <td>North America</td> <td>Wal-Mart Stores Inc   </td> <td>100  </td> <td>34500      </td> <td>6.57224e-07  </td>\n",
       "        </tr>\n",
       "        <tr>\n",
       "            <td>Sam Zell       </td> <td>United States</td> <td>5241983302  </td> <td>Real Estate    </td> <td>North America</td> <td>Anixter International </td> <td>200  </td> <td>31500      </td> <td>6.00918e-06  </td>\n",
       "        </tr>\n",
       "        <tr>\n",
       "            <td>Charles Koch   </td> <td>United States</td> <td>61046822719 </td> <td>Industrial     </td> <td>North America</td> <td>Assurant              </td> <td>200  </td> <td>25400      </td> <td>4.16074e-07  </td>\n",
       "        </tr>\n",
       "        <tr>\n",
       "            <td>Jeff Bezos     </td> <td>United States</td> <td>115739645754</td> <td>Technology     </td> <td>North America</td> <td>Amazon.com Inc        </td> <td>200  </td> <td>25000      </td> <td>2.16002e-07  </td>\n",
       "        </tr>\n",
       "        <tr>\n",
       "            <td>Phil Knight    </td> <td>United States</td> <td>37043632390 </td> <td>Consumer       </td> <td>North America</td> <td>Nike Inc              </td> <td>200  </td> <td>20000      </td> <td>5.39904e-07  </td>\n",
       "        </tr>\n",
       "        <tr>\n",
       "            <td>Howard Schultz </td> <td>United States</td> <td>4875359022  </td> <td>Food & Beverage</td> <td>North America</td> <td>starbucks             </td> <td>200  </td> <td>19500      </td> <td>3.99971e-06  </td>\n",
       "        </tr>\n",
       "        <tr>\n",
       "            <td>John Brown     </td> <td>United States</td> <td>4463648749  </td> <td>Technology     </td> <td>North America</td> <td>St. Jude Medical Inc  </td> <td>200  </td> <td>18000      </td> <td>4.03258e-06  </td>\n",
       "        </tr>\n",
       "        <tr>\n",
       "            <td>Thomas Frist   </td> <td>United States</td> <td>13899392370 </td> <td>Health Care    </td> <td>North America</td> <td>HCA Holdings Inc      </td> <td>200  </td> <td>15000      </td> <td>1.07918e-06  </td>\n",
       "        </tr>\n",
       "        <tr>\n",
       "            <td>Rupert Murdoch </td> <td>United States</td> <td>7787753846  </td> <td>Media & Telecom</td> <td>North America</td> <td>News Corp             </td> <td>200  </td> <td>14900      </td> <td>1.91326e-06  </td>\n",
       "        </tr>\n",
       "        <tr>\n",
       "            <td>Les Wexner     </td> <td>United States</td> <td>6802731859  </td> <td>Retail         </td> <td>North America</td> <td>Limited Brance        </td> <td>200  </td> <td>12500      </td> <td>1.8375e-06   </td>\n",
       "        </tr>\n",
       "        <tr>\n",
       "            <td>Reed Hastings  </td> <td>United States</td> <td>4569628489  </td> <td>Technology     </td> <td>North America</td> <td>Facebook              </td> <td>200  </td> <td>11000      </td> <td>2.4072e-06   </td>\n",
       "        </tr>\n",
       "        <tr>\n",
       "            <td>Steve Ballmer  </td> <td>United States</td> <td>60550361299 </td> <td>Technology     </td> <td>North America</td> <td>Microsoft Corp        </td> <td>100  </td> <td>10000      </td> <td>1.65152e-07  </td>\n",
       "        </tr>\n",
       "        <tr>\n",
       "            <td>Henry Kravis   </td> <td>United States</td> <td>7280344087  </td> <td>Finance        </td> <td>North America</td> <td>First Data Corporation</td> <td>100  </td> <td>8300       </td> <td>1.14006e-06  </td>\n",
       "        </tr>\n",
       "        <tr>\n",
       "            <td>Jane Lauder    </td> <td>United States</td> <td>4449133938  </td> <td>Consumer       </td> <td>North America</td> <td>Estee Lauder          </td> <td>200  </td> <td>7500       </td> <td>1.68572e-06  </td>\n",
       "        </tr>\n",
       "        <tr>\n",
       "            <td>Dick Schulze   </td> <td>United States</td> <td>4919301393  </td> <td>Retail         </td> <td>North America</td> <td>Best Buy Co Inc       </td> <td>200  </td> <td>7200       </td> <td>1.46362e-06  </td>\n",
       "        </tr>\n",
       "        <tr>\n",
       "            <td>Kelcy Warren   </td> <td>United States</td> <td>4595072119  </td> <td>Energy         </td> <td>North America</td> <td>Energy Transfer       </td> <td>100  </td> <td>7200       </td> <td>1.5669e-06   </td>\n",
       "        </tr>\n",
       "        <tr>\n",
       "            <td>Warren Buffett </td> <td>United States</td> <td>89408278188 </td> <td>Diversified    </td> <td>North America</td> <td>Berkshire Hatahway    </td> <td>200  </td> <td>5100       </td> <td>5.70417e-08  </td>\n",
       "        </tr>\n",
       "        <tr>\n",
       "            <td>Gordon Moore   </td> <td>United States</td> <td>13054676683 </td> <td>Technology     </td> <td>North America</td> <td>Gilead Sciences Inc   </td> <td>200  </td> <td>4800       </td> <td>3.67684e-07  </td>\n",
       "        </tr>\n",
       "        <tr>\n",
       "            <td>Ronda Stryker  </td> <td>United States</td> <td>6645102614  </td> <td>Health Care    </td> <td>North America</td> <td>Stryker               </td> <td>200  </td> <td>3400       </td> <td>5.11655e-07  </td>\n",
       "        </tr>\n",
       "        <tr>\n",
       "            <td>Carl Icahn     </td> <td>United States</td> <td>20515698449 </td> <td>Diversified    </td> <td>North America</td> <td>CVR Energy            </td> <td>100  </td> <td>3000       </td> <td>1.46229e-07  </td>\n",
       "        </tr>\n",
       "        <tr>\n",
       "            <td>Steve Ballmer  </td> <td>United States</td> <td>60550361299 </td> <td>Technology     </td> <td>North America</td> <td>Microsoft Corp        </td> <td>200  </td> <td>3000       </td> <td>4.95455e-08  </td>\n",
       "        </tr>\n",
       "        <tr>\n",
       "            <td>John Brown     </td> <td>United States</td> <td>4463648749  </td> <td>Technology     </td> <td>North America</td> <td>Amazon.com Inc        </td> <td>100  </td> <td>2812       </td> <td>6.29978e-07  </td>\n",
       "        </tr>\n",
       "        <tr>\n",
       "            <td>Rupert Murdoch </td> <td>United States</td> <td>7787753846  </td> <td>Media & Telecom</td> <td>North America</td> <td>News Corp             </td> <td>100  </td> <td>2500       </td> <td>3.21017e-07  </td>\n",
       "        </tr>\n",
       "        <tr>\n",
       "            <td>Walter Scott   </td> <td>United States</td> <td>5253083416  </td> <td>Energy         </td> <td>North America</td> <td>Berkshire Hathaway Inc</td> <td>100  </td> <td>2500       </td> <td>4.75911e-07  </td>\n",
       "        </tr>\n",
       "        <tr>\n",
       "            <td>Thomas Frist   </td> <td>United States</td> <td>13899392370 </td> <td>Health Care    </td> <td>North America</td> <td>HCA Holdings Inc      </td> <td>100  </td> <td>2400       </td> <td>1.72669e-07  </td>\n",
       "        </tr>\n",
       "        <tr>\n",
       "            <td>Charles Schwab </td> <td>United States</td> <td>9063879795  </td> <td>Finance        </td> <td>North America</td> <td>Charles Schwab Corp   </td> <td>100  </td> <td>1800       </td> <td>1.9859e-07   </td>\n",
       "        </tr>\n",
       "        <tr>\n",
       "            <td>Jeff Bezos     </td> <td>United States</td> <td>115739645754</td> <td>Technology     </td> <td>North America</td> <td>Amazon.com Inc        </td> <td>100  </td> <td>1800       </td> <td>1.55521e-08  </td>\n",
       "        </tr>\n",
       "        <tr>\n",
       "            <td>Charles Koch   </td> <td>United States</td> <td>61046822719 </td> <td>Industrial     </td> <td>North America</td> <td>Assurant              </td> <td>100  </td> <td>1500       </td> <td>2.45713e-08  </td>\n",
       "        </tr>\n",
       "        <tr>\n",
       "            <td>Richard Kinder </td> <td>United States</td> <td>8398076785  </td> <td>Energy         </td> <td>North America</td> <td>Kinder Morgan         </td> <td>100  </td> <td>1000       </td> <td>1.19075e-07  </td>\n",
       "        </tr>\n",
       "        <tr>\n",
       "            <td>Lakshmi Mittal </td> <td>India        </td> <td>12192105414 </td> <td>Commodities    </td> <td>Asia         </td> <td>Goldman Sachs Group   </td> <td>100  </td> <td>200        </td> <td>1.64041e-08  </td>\n",
       "        </tr>\n",
       "    </tbody>\n",
       "</table>"
      ],
      "text/plain": [
       "<IPython.core.display.HTML object>"
      ]
     },
     "metadata": {},
     "output_type": "display_data"
    }
   ],
   "source": [
    "b_donations = Table.read_table(\"billionaire donations.csv\")\n",
    "b_donations.show()"
   ]
  },
  {
   "cell_type": "code",
   "execution_count": 105,
   "metadata": {},
   "outputs": [
    {
     "data": {
      "image/png": "[encoded data removed]",
      "text/plain": [
       "<Figure size 432x288 with 1 Axes>"
      ]
     },
     "metadata": {},
     "output_type": "display_data"
    }
   ],
   "source": [
    "b_donations.hist('amount')"
   ]
  },
  {
   "cell_type": "code",
   "execution_count": 72,
   "metadata": {},
   "outputs": [
    {
     "data": {
      "text/html": [
       "<table border=\"1\" class=\"dataframe\">\n",
       "    <thead>\n",
       "        <tr>\n",
       "            <th>company</th> <th>name</th> <th>party</th> <th>amount</th>\n",
       "        </tr>\n",
       "    </thead>\n",
       "    <tbody>\n",
       "        <tr>\n",
       "            <td>Las Vegas Sands    </td> <td>Sheldon Adelson</td> <td>200  </td> <td>6.20425e+06</td>\n",
       "        </tr>\n",
       "        <tr>\n",
       "            <td>Charles Schwab Corp</td> <td>Charles Schwab </td> <td>200  </td> <td>1.2364e+06 </td>\n",
       "        </tr>\n",
       "        <tr>\n",
       "            <td>Franklin Resources </td> <td>Charles Johnson</td> <td>200  </td> <td>858000     </td>\n",
       "        </tr>\n",
       "        <tr>\n",
       "            <td>Energy Transfer    </td> <td>Kelcy Warren   </td> <td>200  </td> <td>529886     </td>\n",
       "        </tr>\n",
       "        <tr>\n",
       "            <td>Wal-Mart Stores Inc</td> <td>Jim Walton     </td> <td>200  </td> <td>444700     </td>\n",
       "        </tr>\n",
       "        <tr>\n",
       "            <td>PepsiCo Inc        </td> <td>Ray Hunt       </td> <td>200  </td> <td>442364     </td>\n",
       "        </tr>\n",
       "        <tr>\n",
       "            <td>Kinder Morgan      </td> <td>Richard Kinder </td> <td>200  </td> <td>368000     </td>\n",
       "        </tr>\n",
       "        <tr>\n",
       "            <td>Liberty Global     </td> <td>John Malone    </td> <td>200  </td> <td>280050     </td>\n",
       "        </tr>\n",
       "        <tr>\n",
       "            <td>google             </td> <td>Eric Schmidt   </td> <td>100  </td> <td>257300     </td>\n",
       "        </tr>\n",
       "        <tr>\n",
       "            <td>Facebook           </td> <td>Reed Hastings  </td> <td>100  </td> <td>241700     </td>\n",
       "        </tr>\n",
       "    </tbody>\n",
       "</table>\n",
       "<p>... (46 rows omitted)</p>"
      ],
      "text/plain": [
       "company             | name            | party | amount\n",
       "Las Vegas Sands     | Sheldon Adelson | 200   | 6.20425e+06\n",
       "Charles Schwab Corp | Charles Schwab  | 200   | 1.2364e+06\n",
       "Franklin Resources  | Charles Johnson | 200   | 858000\n",
       "Energy Transfer     | Kelcy Warren    | 200   | 529886\n",
       "Wal-Mart Stores Inc | Jim Walton      | 200   | 444700\n",
       "PepsiCo Inc         | Ray Hunt        | 200   | 442364\n",
       "Kinder Morgan       | Richard Kinder  | 200   | 368000\n",
       "Liberty Global      | John Malone     | 200   | 280050\n",
       "google              | Eric Schmidt    | 100   | 257300\n",
       "Facebook            | Reed Hastings   | 100   | 241700\n",
       "... (46 rows omitted)"
      ]
     },
     "execution_count": 72,
     "metadata": {},
     "output_type": "execute_result"
    }
   ],
   "source": [
    "ceos = b_donations.select(\"company\", \"name\", \"party\", \"amount\")\n",
    "\n",
    "ceos.sort('amount', descending=True)"
   ]
  },
  {
   "cell_type": "code",
   "execution_count": 73,
   "metadata": {},
   "outputs": [
    {
     "data": {
      "text/html": [
       "<table border=\"1\" class=\"dataframe\">\n",
       "    <thead>\n",
       "        <tr>\n",
       "            <th>company</th> <th>name</th> <th>party</th> <th>amount</th>\n",
       "        </tr>\n",
       "    </thead>\n",
       "    <tbody>\n",
       "        <tr>\n",
       "            <td>Goldman Sachs Group   </td> <td>Lakshmi Mittal</td> <td>100  </td> <td>200   </td>\n",
       "        </tr>\n",
       "        <tr>\n",
       "            <td>Kinder Morgan         </td> <td>Richard Kinder</td> <td>100  </td> <td>1000  </td>\n",
       "        </tr>\n",
       "        <tr>\n",
       "            <td>Assurant              </td> <td>Charles Koch  </td> <td>100  </td> <td>1500  </td>\n",
       "        </tr>\n",
       "        <tr>\n",
       "            <td>Charles Schwab Corp   </td> <td>Charles Schwab</td> <td>100  </td> <td>1800  </td>\n",
       "        </tr>\n",
       "        <tr>\n",
       "            <td>Amazon.com Inc        </td> <td>Jeff Bezos    </td> <td>100  </td> <td>1800  </td>\n",
       "        </tr>\n",
       "        <tr>\n",
       "            <td>HCA Holdings Inc      </td> <td>Thomas Frist  </td> <td>100  </td> <td>2400  </td>\n",
       "        </tr>\n",
       "        <tr>\n",
       "            <td>News Corp             </td> <td>Rupert Murdoch</td> <td>100  </td> <td>2500  </td>\n",
       "        </tr>\n",
       "        <tr>\n",
       "            <td>Berkshire Hathaway Inc</td> <td>Walter Scott  </td> <td>100  </td> <td>2500  </td>\n",
       "        </tr>\n",
       "        <tr>\n",
       "            <td>Amazon.com Inc        </td> <td>John Brown    </td> <td>100  </td> <td>2812  </td>\n",
       "        </tr>\n",
       "        <tr>\n",
       "            <td>CVR Energy            </td> <td>Carl Icahn    </td> <td>100  </td> <td>3000  </td>\n",
       "        </tr>\n",
       "    </tbody>\n",
       "</table>\n",
       "<p>... (46 rows omitted)</p>"
      ],
      "text/plain": [
       "company                | name           | party | amount\n",
       "Goldman Sachs Group    | Lakshmi Mittal | 100   | 200\n",
       "Kinder Morgan          | Richard Kinder | 100   | 1000\n",
       "Assurant               | Charles Koch   | 100   | 1500\n",
       "Charles Schwab Corp    | Charles Schwab | 100   | 1800\n",
       "Amazon.com Inc         | Jeff Bezos     | 100   | 1800\n",
       "HCA Holdings Inc       | Thomas Frist   | 100   | 2400\n",
       "News Corp              | Rupert Murdoch | 100   | 2500\n",
       "Berkshire Hathaway Inc | Walter Scott   | 100   | 2500\n",
       "Amazon.com Inc         | John Brown     | 100   | 2812\n",
       "CVR Energy             | Carl Icahn     | 100   | 3000\n",
       "... (46 rows omitted)"
      ]
     },
     "execution_count": 73,
     "metadata": {},
     "output_type": "execute_result"
    }
   ],
   "source": [
    "ceos.sort('amount', descending=False)"
   ]
  },
  {
   "cell_type": "code",
   "execution_count": 104,
   "metadata": {},
   "outputs": [
    {
     "data": {
      "image/png": "[encoded data removed]",
      "text/plain": [
       "<Figure size 432x288 with 1 Axes>"
      ]
     },
     "metadata": {},
     "output_type": "display_data"
    }
   ],
   "source": [
    "ceos.hist('amount', bins=np.arange(0, 1e5, 1e3), unit='$1000')"
   ]
  },
  {
   "cell_type": "code",
   "execution_count": 60,
   "metadata": {},
   "outputs": [
    {
     "data": {
      "image/png": "[encoded data removed]",
      "text/plain": [
       "<Figure size 360x360 with 1 Axes>"
      ]
     },
     "metadata": {},
     "output_type": "display_data"
    }
   ],
   "source": [
    "b_donations.where('amount', are.below(6e6)).scatter('net worth', 'amount')"
   ]
  },
  {
   "cell_type": "code",
   "execution_count": 61,
   "metadata": {},
   "outputs": [
    {
     "data": {
      "text/html": [
       "<table border=\"1\" class=\"dataframe\">\n",
       "    <thead>\n",
       "        <tr>\n",
       "            <th>name</th> <th>citizenship</th> <th>net worth</th> <th>industry</th> <th>Continent</th> <th>company</th> <th>party</th> <th>amount</th> <th>Contribution%</th>\n",
       "        </tr>\n",
       "    </thead>\n",
       "    <tbody>\n",
       "        <tr>\n",
       "            <td>Sheldon Adelson</td> <td>United States</td> <td>38008857087</td> <td>Entertainment  </td> <td>North America</td> <td>Las Vegas Sands       </td> <td>200  </td> <td>6.20425e+06</td> <td>0.02%        </td>\n",
       "        </tr>\n",
       "        <tr>\n",
       "            <td>Charles Schwab </td> <td>United States</td> <td>9063879795 </td> <td>Finance        </td> <td>North America</td> <td>Charles Schwab Corp   </td> <td>200  </td> <td>1.2364e+06 </td> <td>0.01%        </td>\n",
       "        </tr>\n",
       "        <tr>\n",
       "            <td>Charles Johnson</td> <td>United States</td> <td>4587892463 </td> <td>Finance        </td> <td>North America</td> <td>Franklin Resources    </td> <td>200  </td> <td>858000     </td> <td>0.02%        </td>\n",
       "        </tr>\n",
       "        <tr>\n",
       "            <td>Kelcy Warren   </td> <td>United States</td> <td>4595072119 </td> <td>Energy         </td> <td>North America</td> <td>Energy Transfer       </td> <td>200  </td> <td>529886     </td> <td>0.01%        </td>\n",
       "        </tr>\n",
       "        <tr>\n",
       "            <td>Jim Walton     </td> <td>United States</td> <td>52493506006</td> <td>Retail         </td> <td>North America</td> <td>Wal-Mart Stores Inc   </td> <td>200  </td> <td>444700     </td> <td>0.00%        </td>\n",
       "        </tr>\n",
       "        <tr>\n",
       "            <td>Ray Hunt       </td> <td>United States</td> <td>5421192714 </td> <td>Energy         </td> <td>North America</td> <td>PepsiCo Inc           </td> <td>200  </td> <td>442364     </td> <td>0.01%        </td>\n",
       "        </tr>\n",
       "        <tr>\n",
       "            <td>Richard Kinder </td> <td>United States</td> <td>8398076785 </td> <td>Energy         </td> <td>North America</td> <td>Kinder Morgan         </td> <td>200  </td> <td>368000     </td> <td>0.00%        </td>\n",
       "        </tr>\n",
       "        <tr>\n",
       "            <td>John Malone    </td> <td>United States</td> <td>8069296402 </td> <td>Media & Telecom</td> <td>North America</td> <td>Liberty Global        </td> <td>200  </td> <td>280050     </td> <td>0.00%        </td>\n",
       "        </tr>\n",
       "        <tr>\n",
       "            <td>Eric Schmidt   </td> <td>United States</td> <td>16579148665</td> <td>Technology     </td> <td>North America</td> <td>google                </td> <td>100  </td> <td>257300     </td> <td>0.00%        </td>\n",
       "        </tr>\n",
       "        <tr>\n",
       "            <td>Reed Hastings  </td> <td>United States</td> <td>4569628489 </td> <td>Technology     </td> <td>North America</td> <td>Facebook              </td> <td>100  </td> <td>241700     </td> <td>0.01%        </td>\n",
       "        </tr>\n",
       "        <tr>\n",
       "            <td>Carl Icahn     </td> <td>United States</td> <td>20515698449</td> <td>Diversified    </td> <td>North America</td> <td>CVR Energy            </td> <td>200  </td> <td>225900     </td> <td>0.00%        </td>\n",
       "        </tr>\n",
       "        <tr>\n",
       "            <td>Warren Buffett </td> <td>United States</td> <td>89408278188</td> <td>Diversified    </td> <td>North America</td> <td>Berkshire Hatahway    </td> <td>100  </td> <td>208700     </td> <td>0.00%        </td>\n",
       "        </tr>\n",
       "        <tr>\n",
       "            <td>Henry Kravis   </td> <td>United States</td> <td>7280344087 </td> <td>Finance        </td> <td>North America</td> <td>First Data Corporation</td> <td>200  </td> <td>206349     </td> <td>0.00%        </td>\n",
       "        </tr>\n",
       "        <tr>\n",
       "            <td>Walter Scott   </td> <td>United States</td> <td>5253083416 </td> <td>Energy         </td> <td>North America</td> <td>Berkshire Hathaway Inc</td> <td>200  </td> <td>138400     </td> <td>0.00%        </td>\n",
       "        </tr>\n",
       "        <tr>\n",
       "            <td>Barry Diller   </td> <td>United States</td> <td>5479965153 </td> <td>Technology     </td> <td>North America</td> <td>Coca-Cola Co          </td> <td>100  </td> <td>107500     </td> <td>0.00%        </td>\n",
       "        </tr>\n",
       "        <tr>\n",
       "            <td>Charles Dolan  </td> <td>United States</td> <td>5387774353 </td> <td>Media & Telecom</td> <td>North America</td> <td>Cablevision           </td> <td>200  </td> <td>107000     </td> <td>0.00%        </td>\n",
       "        </tr>\n",
       "        <tr>\n",
       "            <td>Howard Schultz </td> <td>United States</td> <td>4875359022 </td> <td>Food & Beverage</td> <td>North America</td> <td>starbucks             </td> <td>100  </td> <td>79050      </td> <td>0.00%        </td>\n",
       "        </tr>\n",
       "        <tr>\n",
       "            <td>John Brown     </td> <td>United States</td> <td>4463648749 </td> <td>Technology     </td> <td>North America</td> <td>St. Jude Medical Inc  </td> <td>100  </td> <td>77900      </td> <td>0.00%        </td>\n",
       "        </tr>\n",
       "        <tr>\n",
       "            <td>Ralph Lauren   </td> <td>United States</td> <td>7243211707 </td> <td>Consumer       </td> <td>North America</td> <td>Ralph Lauren          </td> <td>100  </td> <td>71600      </td> <td>0.00%        </td>\n",
       "        </tr>\n",
       "        <tr>\n",
       "            <td>Sergey Brin    </td> <td>United States</td> <td>67825250468</td> <td>Technology     </td> <td>North America</td> <td>google                </td> <td>100  </td> <td>71600      </td> <td>0.00%        </td>\n",
       "        </tr>\n",
       "    </tbody>\n",
       "</table>\n",
       "<p>... (36 rows omitted)</p>"
      ],
      "text/plain": [
       "<IPython.core.display.HTML object>"
      ]
     },
     "metadata": {},
     "output_type": "display_data"
    }
   ],
   "source": [
    "donation_prop = b_donations.column('amount') / b_donations.column('net worth')\n",
    "b_donations = b_donations.with_column('Contribution%', donation_prop)\n",
    "b_donations = b_donations.sort('amount', descending=True)\n",
    "b_donations.set_format('Contribution%', PercentFormatter)\n",
    "b_donations.show(20)"
   ]
  },
  {
   "cell_type": "code",
   "execution_count": null,
   "metadata": {},
   "outputs": [],
   "source": []
  }
 ],
 "metadata": {
  "kernelspec": {
   "display_name": "Python 3",
   "language": "python",
   "name": "python3"
  },
  "language_info": {
   "codemirror_mode": {
    "name": "ipython",
    "version": 3
   },
   "file_extension": ".py",
   "mimetype": "text/x-python",
   "name": "python",
   "nbconvert_exporter": "python",
   "pygments_lexer": "ipython3",
   "version": "3.6.5"
  }
 },
 "nbformat": 4,
 "nbformat_minor": 2
}
