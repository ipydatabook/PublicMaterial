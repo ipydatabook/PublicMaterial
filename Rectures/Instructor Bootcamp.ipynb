{
 "cells": [
  {
   "cell_type": "markdown",
   "metadata": {
    "editible": false
   },
   "source": [
    "# Instructors Bootcamp\n",
    "\n",
    "## Congratulations!\n",
    "\n",
    "If you're viewing this on your own computer, then you've found your way into the UNG Datahub.  \n",
    "\n",
    "The first thing we're going to do is take you on a little tour of the hub itself.  We know you're computer savvy people, you can click on things that have labels like File, Open, Download As, Insert, Cell, and so on, and then figure out what they do on your own, but to hurry things along, we'll show you some of the features that we've found most useful. Mainly, we'll try to answer these particular questions.  \n",
    "\n",
    "+ Opps, I clicked the wrong link, can I open the right file faster from here?  \n",
    "\n",
    "    + Yes!\n",
    "    \n",
    "+ Can I see what parent director I'm in?  And what .csv files are available for classroom examples?  \n",
    "\n",
    "    + Yes, and Yes.\n",
    "\n",
    "+ Can I open a blank notebook from here?\n",
    "\n",
    "    + Yes.\n",
    "    \n",
    "+ Can I download my work as HTML or pdf?\n",
    "    + Yes, we'll show you how.\n",
    "\n",
    "+ This is my personal hub.  Can anyone else see it?  \n",
    "\n",
    "    + If you're an instructor, except for our IT guy, Lance, No, probably not.\n",
    "\n",
    "+ If I'm an instructor, can I invade one of my student's personal hub? \n",
    "\n",
    "    + Yes, Dr. Sinn will explain how.  \n",
    "\n",
    "+ Some of the cells below look different from each other.  How do I tell if a cell is a Python code cell or a Markdown cell?  And how do I switch between them?  \n",
    "\n",
    "    + Yeah, we'll explain that by way of example as we go through the rest of this notebook.  \n",
    "\n",
    "+ Can I use simple LaTeX in a Markdown cell?  Can I use some basic HTML?  Can I create tables?\n",
    "\n",
    "    + Let me answer that the geekiest way possible.\n",
    "    \n",
    "|Thing                                      | Can I do it?|    \n",
    "|-------------------------------------------|-------|\n",
    "|LaTeX                                      |$Y^{e^s}$  |\n",
    "|<span style=\"color:#AA22FF\"> HTML </span>  |<span style=\"color:red\"> <i>Yes</i> </span>  |\n",
    "|Tables                                     | <b>Clearly, yes</b>   |\n",
    "\n",
    "If you want to know how, double click on this cell to open it as an editable Markdown cell and look at the code. \n",
    "\n",
    "## Getting started with Python code\n",
    "\n",
    "In the cell below, we place some code.\n",
    "\n",
    "+ This code will appear at the top or near the top of nearly every homework, lab and lecture notebook you and your students open. \n",
    "\n",
    "+ There is very little need to know what this code does.\n",
    "\n",
    "+ BUT, what this code does is import modules that we will constantly use, and setup the formatting for graphs we make.  \n",
    "\n",
    "+ If creating a new file starting with a blank notebook, remember CUT-N-PASTE."
   ]
  },
  {
   "cell_type": "code",
   "execution_count": 1,
   "metadata": {
    "editible": false
   },
   "outputs": [],
   "source": [
    "# Stuff that will appear at the top of notebooks;\n",
    "# You don't have to understand how this works or change it for now.\n",
    "\n",
    "from datascience import *\n",
    "import numpy as np\n",
    "%matplotlib inline\n",
    "import matplotlib.pyplot as plots\n",
    "plots.style.use('fivethirtyeight')\n",
    "import warnings\n",
    "warnings.simplefilter(action=\"ignore\", category=FutureWarning)\n",
    "\n",
    "import scipy.stats as stats\n",
    "\n",
    "\n",
    "def favstats(table, data):\n",
    "    ### This function will find all the major descriptive stats you need ###\n",
    "    ### Copy this function, past it in new notebooks and use it          ###\n",
    "    cut = table.column(data)\n",
    "    favstats = Table().with_column('mean', np.average(cut))\n",
    "    favstats = favstats.with_column('std', stats.tstd(cut))\n",
    "    favstats = favstats.with_column('min', min(cut))\n",
    "    favstats = favstats.with_column('Q1', np.percentile(cut, 25))\n",
    "    favstats = favstats.with_column('median', np.median(cut))\n",
    "    favstats = favstats.with_column('Q3', np.percentile(cut, 75))\n",
    "    favstats = favstats.with_column('max', max(cut))\n",
    "    favstats = favstats.with_column('IQR', stats.iqr(cut))\n",
    "    favstats = favstats.with_column('n', len(cut))\n",
    "    return favstats\n"
   ]
  },
  {
   "cell_type": "markdown",
   "metadata": {},
   "source": [
    "## Running cells\n",
    "\n",
    "To run a cell of Python code, you can do several different things.  Here's my three favorite options (there are others I'm not mentioning).  First, place your cursor in the cell you want to run, then either:\n",
    "\n",
    "\n",
    "+ Hit `CTRL` + `Enter` (at the same time) on the keyboard,\n",
    "\n",
    "+ Use the mouse to click the button at the top of the screen that looks ▶ Run, or\n",
    "\n",
    "+ Hit `Shift` + `Enter` (at the same time) on the keyboard\n",
    "\n",
    "\n",
    "If you haven't already, go to the cell above this one and run it, please, otherwise none of what we do below will work. "
   ]
  },
  {
   "cell_type": "markdown",
   "metadata": {},
   "source": [
    "## Creating data tables from .csv files"
   ]
  },
  {
   "cell_type": "code",
   "execution_count": 2,
   "metadata": {},
   "outputs": [
    {
     "data": {
      "text/html": [
       "<table border=\"1\" class=\"dataframe\">\n",
       "    <thead>\n",
       "        <tr>\n",
       "            <th>Birth Weight</th> <th>Gestational Days</th> <th>Maternal Age</th> <th>Maternal Height</th> <th>Maternal Pregnancy Weight</th> <th>Maternal Smoker</th>\n",
       "        </tr>\n",
       "    </thead>\n",
       "    <tbody>\n",
       "        <tr>\n",
       "            <td>120         </td> <td>284             </td> <td>27          </td> <td>62             </td> <td>100                      </td> <td>False          </td>\n",
       "        </tr>\n",
       "        <tr>\n",
       "            <td>113         </td> <td>282             </td> <td>33          </td> <td>64             </td> <td>135                      </td> <td>False          </td>\n",
       "        </tr>\n",
       "        <tr>\n",
       "            <td>128         </td> <td>279             </td> <td>28          </td> <td>64             </td> <td>115                      </td> <td>True           </td>\n",
       "        </tr>\n",
       "        <tr>\n",
       "            <td>108         </td> <td>282             </td> <td>23          </td> <td>67             </td> <td>125                      </td> <td>True           </td>\n",
       "        </tr>\n",
       "        <tr>\n",
       "            <td>136         </td> <td>286             </td> <td>25          </td> <td>62             </td> <td>93                       </td> <td>False          </td>\n",
       "        </tr>\n",
       "        <tr>\n",
       "            <td>138         </td> <td>244             </td> <td>33          </td> <td>62             </td> <td>178                      </td> <td>False          </td>\n",
       "        </tr>\n",
       "        <tr>\n",
       "            <td>132         </td> <td>245             </td> <td>23          </td> <td>65             </td> <td>140                      </td> <td>False          </td>\n",
       "        </tr>\n",
       "        <tr>\n",
       "            <td>120         </td> <td>289             </td> <td>25          </td> <td>62             </td> <td>125                      </td> <td>False          </td>\n",
       "        </tr>\n",
       "        <tr>\n",
       "            <td>143         </td> <td>299             </td> <td>30          </td> <td>66             </td> <td>136                      </td> <td>True           </td>\n",
       "        </tr>\n",
       "        <tr>\n",
       "            <td>140         </td> <td>351             </td> <td>27          </td> <td>68             </td> <td>120                      </td> <td>False          </td>\n",
       "        </tr>\n",
       "    </tbody>\n",
       "</table>\n",
       "<p>... (1164 rows omitted)</p>"
      ],
      "text/plain": [
       "Birth Weight | Gestational Days | Maternal Age | Maternal Height | Maternal Pregnancy Weight | Maternal Smoker\n",
       "120          | 284              | 27           | 62              | 100                       | False\n",
       "113          | 282              | 33           | 64              | 135                       | False\n",
       "128          | 279              | 28           | 64              | 115                       | True\n",
       "108          | 282              | 23           | 67              | 125                       | True\n",
       "136          | 286              | 25           | 62              | 93                        | False\n",
       "138          | 244              | 33           | 62              | 178                       | False\n",
       "132          | 245              | 23           | 65              | 140                       | False\n",
       "120          | 289              | 25           | 62              | 125                       | False\n",
       "143          | 299              | 30           | 66              | 136                       | True\n",
       "140          | 351              | 27           | 68              | 120                       | False\n",
       "... (1164 rows omitted)"
      ]
     },
     "execution_count": 2,
     "metadata": {},
     "output_type": "execute_result"
    }
   ],
   "source": [
    "## This is the code that reads in a .csv file, but this isn't quite perfect\n",
    "\n",
    "Table.read_table(\"baby.csv\")"
   ]
  },
  {
   "cell_type": "code",
   "execution_count": 3,
   "metadata": {},
   "outputs": [],
   "source": [
    "## The above cell shows us the data, but we can't use it yet\n",
    "\n",
    "## Must give it a local name\n",
    "\n",
    "baby = Table.read_table(\"baby.csv\")"
   ]
  },
  {
   "cell_type": "code",
   "execution_count": 4,
   "metadata": {},
   "outputs": [
    {
     "data": {
      "text/html": [
       "<table border=\"1\" class=\"dataframe\">\n",
       "    <thead>\n",
       "        <tr>\n",
       "            <th>Birth Weight</th> <th>Gestational Days</th> <th>Maternal Age</th> <th>Maternal Height</th> <th>Maternal Pregnancy Weight</th> <th>Maternal Smoker</th>\n",
       "        </tr>\n",
       "    </thead>\n",
       "    <tbody>\n",
       "        <tr>\n",
       "            <td>120         </td> <td>284             </td> <td>27          </td> <td>62             </td> <td>100                      </td> <td>False          </td>\n",
       "        </tr>\n",
       "        <tr>\n",
       "            <td>113         </td> <td>282             </td> <td>33          </td> <td>64             </td> <td>135                      </td> <td>False          </td>\n",
       "        </tr>\n",
       "        <tr>\n",
       "            <td>128         </td> <td>279             </td> <td>28          </td> <td>64             </td> <td>115                      </td> <td>True           </td>\n",
       "        </tr>\n",
       "        <tr>\n",
       "            <td>108         </td> <td>282             </td> <td>23          </td> <td>67             </td> <td>125                      </td> <td>True           </td>\n",
       "        </tr>\n",
       "        <tr>\n",
       "            <td>136         </td> <td>286             </td> <td>25          </td> <td>62             </td> <td>93                       </td> <td>False          </td>\n",
       "        </tr>\n",
       "        <tr>\n",
       "            <td>138         </td> <td>244             </td> <td>33          </td> <td>62             </td> <td>178                      </td> <td>False          </td>\n",
       "        </tr>\n",
       "        <tr>\n",
       "            <td>132         </td> <td>245             </td> <td>23          </td> <td>65             </td> <td>140                      </td> <td>False          </td>\n",
       "        </tr>\n",
       "        <tr>\n",
       "            <td>120         </td> <td>289             </td> <td>25          </td> <td>62             </td> <td>125                      </td> <td>False          </td>\n",
       "        </tr>\n",
       "        <tr>\n",
       "            <td>143         </td> <td>299             </td> <td>30          </td> <td>66             </td> <td>136                      </td> <td>True           </td>\n",
       "        </tr>\n",
       "        <tr>\n",
       "            <td>140         </td> <td>351             </td> <td>27          </td> <td>68             </td> <td>120                      </td> <td>False          </td>\n",
       "        </tr>\n",
       "    </tbody>\n",
       "</table>\n",
       "<p>... (1164 rows omitted)</p>"
      ],
      "text/plain": [
       "Birth Weight | Gestational Days | Maternal Age | Maternal Height | Maternal Pregnancy Weight | Maternal Smoker\n",
       "120          | 284              | 27           | 62              | 100                       | False\n",
       "113          | 282              | 33           | 64              | 135                       | False\n",
       "128          | 279              | 28           | 64              | 115                       | True\n",
       "108          | 282              | 23           | 67              | 125                       | True\n",
       "136          | 286              | 25           | 62              | 93                        | False\n",
       "138          | 244              | 33           | 62              | 178                       | False\n",
       "132          | 245              | 23           | 65              | 140                       | False\n",
       "120          | 289              | 25           | 62              | 125                       | False\n",
       "143          | 299              | 30           | 66              | 136                       | True\n",
       "140          | 351              | 27           | 68              | 120                       | False\n",
       "... (1164 rows omitted)"
      ]
     },
     "execution_count": 4,
     "metadata": {},
     "output_type": "execute_result"
    }
   ],
   "source": [
    "## The cell above doesn't produce any output because the last line didn't actually request any output\n",
    "## to see the baby data, now ask for it by name here\n",
    "\n",
    "baby"
   ]
  },
  {
   "cell_type": "markdown",
   "metadata": {},
   "source": [
    "## Subsetting data tables\n",
    "\n",
    "+ Choosing columns (.select or .drop)\n",
    "\n",
    "+ Choosing rows (.where)"
   ]
  },
  {
   "cell_type": "markdown",
   "metadata": {},
   "source": [
    "### First, columns (.select and .drop)\n",
    "\n",
    "Suppose we don't care at all about the mothers age or weight.  To make a smaller data set without those variables, we can either SELECT the ones we want or DROP the ones we don't want, which ever is more efficient.  "
   ]
  },
  {
   "cell_type": "code",
   "execution_count": 5,
   "metadata": {},
   "outputs": [
    {
     "data": {
      "text/html": [
       "<table border=\"1\" class=\"dataframe\">\n",
       "    <thead>\n",
       "        <tr>\n",
       "            <th>Birth Weight</th> <th>Gestational Days</th> <th>Maternal Height</th> <th>Maternal Pregnancy Weight</th> <th>Maternal Smoker</th>\n",
       "        </tr>\n",
       "    </thead>\n",
       "    <tbody>\n",
       "        <tr>\n",
       "            <td>120         </td> <td>284             </td> <td>62             </td> <td>100                      </td> <td>False          </td>\n",
       "        </tr>\n",
       "        <tr>\n",
       "            <td>113         </td> <td>282             </td> <td>64             </td> <td>135                      </td> <td>False          </td>\n",
       "        </tr>\n",
       "        <tr>\n",
       "            <td>128         </td> <td>279             </td> <td>64             </td> <td>115                      </td> <td>True           </td>\n",
       "        </tr>\n",
       "        <tr>\n",
       "            <td>108         </td> <td>282             </td> <td>67             </td> <td>125                      </td> <td>True           </td>\n",
       "        </tr>\n",
       "        <tr>\n",
       "            <td>136         </td> <td>286             </td> <td>62             </td> <td>93                       </td> <td>False          </td>\n",
       "        </tr>\n",
       "        <tr>\n",
       "            <td>138         </td> <td>244             </td> <td>62             </td> <td>178                      </td> <td>False          </td>\n",
       "        </tr>\n",
       "        <tr>\n",
       "            <td>132         </td> <td>245             </td> <td>65             </td> <td>140                      </td> <td>False          </td>\n",
       "        </tr>\n",
       "        <tr>\n",
       "            <td>120         </td> <td>289             </td> <td>62             </td> <td>125                      </td> <td>False          </td>\n",
       "        </tr>\n",
       "        <tr>\n",
       "            <td>143         </td> <td>299             </td> <td>66             </td> <td>136                      </td> <td>True           </td>\n",
       "        </tr>\n",
       "        <tr>\n",
       "            <td>140         </td> <td>351             </td> <td>68             </td> <td>120                      </td> <td>False          </td>\n",
       "        </tr>\n",
       "    </tbody>\n",
       "</table>\n",
       "<p>... (1164 rows omitted)</p>"
      ],
      "text/plain": [
       "Birth Weight | Gestational Days | Maternal Height | Maternal Pregnancy Weight | Maternal Smoker\n",
       "120          | 284              | 62              | 100                       | False\n",
       "113          | 282              | 64              | 135                       | False\n",
       "128          | 279              | 64              | 115                       | True\n",
       "108          | 282              | 67              | 125                       | True\n",
       "136          | 286              | 62              | 93                        | False\n",
       "138          | 244              | 62              | 178                       | False\n",
       "132          | 245              | 65              | 140                       | False\n",
       "120          | 289              | 62              | 125                       | False\n",
       "143          | 299              | 66              | 136                       | True\n",
       "140          | 351              | 68              | 120                       | False\n",
       "... (1164 rows omitted)"
      ]
     },
     "execution_count": 5,
     "metadata": {},
     "output_type": "execute_result"
    }
   ],
   "source": [
    "baby2 = baby.drop(\"Maternal Age\", \"Maternal Pregancy Weight\")\n",
    "\n",
    "baby2"
   ]
  },
  {
   "cell_type": "code",
   "execution_count": 6,
   "metadata": {},
   "outputs": [
    {
     "data": {
      "text/html": [
       "<table border=\"1\" class=\"dataframe\">\n",
       "    <thead>\n",
       "        <tr>\n",
       "            <th>Birth Weight</th> <th>Gestational Days</th> <th>Maternal Height</th> <th>Maternal Smoker</th>\n",
       "        </tr>\n",
       "    </thead>\n",
       "    <tbody>\n",
       "        <tr>\n",
       "            <td>120         </td> <td>284             </td> <td>62             </td> <td>False          </td>\n",
       "        </tr>\n",
       "        <tr>\n",
       "            <td>113         </td> <td>282             </td> <td>64             </td> <td>False          </td>\n",
       "        </tr>\n",
       "        <tr>\n",
       "            <td>128         </td> <td>279             </td> <td>64             </td> <td>True           </td>\n",
       "        </tr>\n",
       "        <tr>\n",
       "            <td>108         </td> <td>282             </td> <td>67             </td> <td>True           </td>\n",
       "        </tr>\n",
       "        <tr>\n",
       "            <td>136         </td> <td>286             </td> <td>62             </td> <td>False          </td>\n",
       "        </tr>\n",
       "        <tr>\n",
       "            <td>138         </td> <td>244             </td> <td>62             </td> <td>False          </td>\n",
       "        </tr>\n",
       "        <tr>\n",
       "            <td>132         </td> <td>245             </td> <td>65             </td> <td>False          </td>\n",
       "        </tr>\n",
       "        <tr>\n",
       "            <td>120         </td> <td>289             </td> <td>62             </td> <td>False          </td>\n",
       "        </tr>\n",
       "        <tr>\n",
       "            <td>143         </td> <td>299             </td> <td>66             </td> <td>True           </td>\n",
       "        </tr>\n",
       "        <tr>\n",
       "            <td>140         </td> <td>351             </td> <td>68             </td> <td>False          </td>\n",
       "        </tr>\n",
       "    </tbody>\n",
       "</table>\n",
       "<p>... (1164 rows omitted)</p>"
      ],
      "text/plain": [
       "Birth Weight | Gestational Days | Maternal Height | Maternal Smoker\n",
       "120          | 284              | 62              | False\n",
       "113          | 282              | 64              | False\n",
       "128          | 279              | 64              | True\n",
       "108          | 282              | 67              | True\n",
       "136          | 286              | 62              | False\n",
       "138          | 244              | 62              | False\n",
       "132          | 245              | 65              | False\n",
       "120          | 289              | 62              | False\n",
       "143          | 299              | 66              | True\n",
       "140          | 351              | 68              | False\n",
       "... (1164 rows omitted)"
      ]
     },
     "execution_count": 6,
     "metadata": {},
     "output_type": "execute_result"
    }
   ],
   "source": [
    "## Since we are keeping more than half the variables/columns in this table\n",
    "## select is less efficient than drop, but here's an example of it anyway\n",
    "\n",
    "baby2 = baby.select(\"Birth Weight\", \"Gestational Days\", \"Maternal Height\", \"Maternal Smoker\")\n",
    "\n",
    "baby2"
   ]
  },
  {
   "cell_type": "code",
   "execution_count": 7,
   "metadata": {},
   "outputs": [
    {
     "data": {
      "text/html": [
       "<table border=\"1\" class=\"dataframe\">\n",
       "    <thead>\n",
       "        <tr>\n",
       "            <th>Maternal Smoker</th> <th>Birth Weight</th> <th>Maternal Height</th> <th>Gestational Days</th>\n",
       "        </tr>\n",
       "    </thead>\n",
       "    <tbody>\n",
       "        <tr>\n",
       "            <td>False          </td> <td>120         </td> <td>62             </td> <td>284             </td>\n",
       "        </tr>\n",
       "        <tr>\n",
       "            <td>False          </td> <td>113         </td> <td>64             </td> <td>282             </td>\n",
       "        </tr>\n",
       "        <tr>\n",
       "            <td>True           </td> <td>128         </td> <td>64             </td> <td>279             </td>\n",
       "        </tr>\n",
       "        <tr>\n",
       "            <td>True           </td> <td>108         </td> <td>67             </td> <td>282             </td>\n",
       "        </tr>\n",
       "        <tr>\n",
       "            <td>False          </td> <td>136         </td> <td>62             </td> <td>286             </td>\n",
       "        </tr>\n",
       "        <tr>\n",
       "            <td>False          </td> <td>138         </td> <td>62             </td> <td>244             </td>\n",
       "        </tr>\n",
       "        <tr>\n",
       "            <td>False          </td> <td>132         </td> <td>65             </td> <td>245             </td>\n",
       "        </tr>\n",
       "        <tr>\n",
       "            <td>False          </td> <td>120         </td> <td>62             </td> <td>289             </td>\n",
       "        </tr>\n",
       "        <tr>\n",
       "            <td>True           </td> <td>143         </td> <td>66             </td> <td>299             </td>\n",
       "        </tr>\n",
       "        <tr>\n",
       "            <td>False          </td> <td>140         </td> <td>68             </td> <td>351             </td>\n",
       "        </tr>\n",
       "    </tbody>\n",
       "</table>\n",
       "<p>... (1164 rows omitted)</p>"
      ],
      "text/plain": [
       "Maternal Smoker | Birth Weight | Maternal Height | Gestational Days\n",
       "False           | 120          | 62              | 284\n",
       "False           | 113          | 64              | 282\n",
       "True            | 128          | 64              | 279\n",
       "True            | 108          | 67              | 282\n",
       "False           | 136          | 62              | 286\n",
       "False           | 138          | 62              | 244\n",
       "False           | 132          | 65              | 245\n",
       "False           | 120          | 62              | 289\n",
       "True            | 143          | 66              | 299\n",
       "False           | 140          | 68              | 351\n",
       "... (1164 rows omitted)"
      ]
     },
     "execution_count": 7,
     "metadata": {},
     "output_type": "execute_result"
    }
   ],
   "source": [
    "## .select can also be used to reorder the columns\n",
    "\n",
    "baby3 = baby.select(\"Maternal Smoker\", \"Birth Weight\", \"Maternal Height\", \"Gestational Days\")\n",
    "\n",
    "baby3"
   ]
  },
  {
   "cell_type": "markdown",
   "metadata": {},
   "source": [
    "## Apply what we've learned so far!\n",
    "\n",
    "There is a dataset in the parent directory (so you don't need to do anything technical to reach it) called skyscapers.csv\n",
    "                                            \n",
    "1. Use the Table.read_table function to read this dataset in and name it `sky`.\n",
    "\n",
    "2. View the `sky` table.\n",
    "\n",
    "3. Create a table called `sky2`, that contains all the columns and rows of `sky` EXCEPT the `name` column"
   ]
  },
  {
   "cell_type": "code",
   "execution_count": null,
   "metadata": {},
   "outputs": [],
   "source": [
    "\n"
   ]
  },
  {
   "cell_type": "code",
   "execution_count": null,
   "metadata": {},
   "outputs": [],
   "source": []
  },
  {
   "cell_type": "markdown",
   "metadata": {},
   "source": [
    "### Now rows, .where\n",
    "\n",
    "The .where method requires two things (at least), first the column/variable to choose rows based on and what are we looking for.  \n",
    "\n",
    "The easiest use of the .where method is when we're looking for an exact match, like in the next two examples."
   ]
  },
  {
   "cell_type": "code",
   "execution_count": 8,
   "metadata": {},
   "outputs": [
    {
     "data": {
      "text/html": [
       "<table border=\"1\" class=\"dataframe\">\n",
       "    <thead>\n",
       "        <tr>\n",
       "            <th>Birth Weight</th> <th>Gestational Days</th> <th>Maternal Age</th> <th>Maternal Height</th> <th>Maternal Pregnancy Weight</th> <th>Maternal Smoker</th>\n",
       "        </tr>\n",
       "    </thead>\n",
       "    <tbody>\n",
       "        <tr>\n",
       "            <td>128         </td> <td>279             </td> <td>28          </td> <td>64             </td> <td>115                      </td> <td>True           </td>\n",
       "        </tr>\n",
       "        <tr>\n",
       "            <td>108         </td> <td>282             </td> <td>23          </td> <td>67             </td> <td>125                      </td> <td>True           </td>\n",
       "        </tr>\n",
       "        <tr>\n",
       "            <td>143         </td> <td>299             </td> <td>30          </td> <td>66             </td> <td>136                      </td> <td>True           </td>\n",
       "        </tr>\n",
       "        <tr>\n",
       "            <td>144         </td> <td>282             </td> <td>32          </td> <td>64             </td> <td>124                      </td> <td>True           </td>\n",
       "        </tr>\n",
       "        <tr>\n",
       "            <td>141         </td> <td>279             </td> <td>23          </td> <td>63             </td> <td>128                      </td> <td>True           </td>\n",
       "        </tr>\n",
       "        <tr>\n",
       "            <td>110         </td> <td>281             </td> <td>36          </td> <td>61             </td> <td>99                       </td> <td>True           </td>\n",
       "        </tr>\n",
       "        <tr>\n",
       "            <td>92          </td> <td>255             </td> <td>25          </td> <td>65             </td> <td>125                      </td> <td>True           </td>\n",
       "        </tr>\n",
       "        <tr>\n",
       "            <td>115         </td> <td>261             </td> <td>33          </td> <td>60             </td> <td>125                      </td> <td>True           </td>\n",
       "        </tr>\n",
       "        <tr>\n",
       "            <td>119         </td> <td>288             </td> <td>43          </td> <td>66             </td> <td>142                      </td> <td>True           </td>\n",
       "        </tr>\n",
       "        <tr>\n",
       "            <td>115         </td> <td>274             </td> <td>27          </td> <td>67             </td> <td>175                      </td> <td>True           </td>\n",
       "        </tr>\n",
       "    </tbody>\n",
       "</table>\n",
       "<p>... (449 rows omitted)</p>"
      ],
      "text/plain": [
       "Birth Weight | Gestational Days | Maternal Age | Maternal Height | Maternal Pregnancy Weight | Maternal Smoker\n",
       "128          | 279              | 28           | 64              | 115                       | True\n",
       "108          | 282              | 23           | 67              | 125                       | True\n",
       "143          | 299              | 30           | 66              | 136                       | True\n",
       "144          | 282              | 32           | 64              | 124                       | True\n",
       "141          | 279              | 23           | 63              | 128                       | True\n",
       "110          | 281              | 36           | 61              | 99                        | True\n",
       "92           | 255              | 25           | 65              | 125                       | True\n",
       "115          | 261              | 33           | 60              | 125                       | True\n",
       "119          | 288              | 43           | 66              | 142                       | True\n",
       "115          | 274              | 27           | 67              | 175                       | True\n",
       "... (449 rows omitted)"
      ]
     },
     "execution_count": 8,
     "metadata": {},
     "output_type": "execute_result"
    }
   ],
   "source": [
    "Smoking_Moms = baby.where(\"Maternal Smoker\", True)\n",
    "\n",
    "Smoking_Moms"
   ]
  },
  {
   "cell_type": "code",
   "execution_count": 9,
   "metadata": {},
   "outputs": [
    {
     "data": {
      "text/html": [
       "<table border=\"1\" class=\"dataframe\">\n",
       "    <thead>\n",
       "        <tr>\n",
       "            <th>Birth Weight</th> <th>Gestational Days</th> <th>Maternal Age</th> <th>Maternal Height</th> <th>Maternal Pregnancy Weight</th> <th>Maternal Smoker</th>\n",
       "        </tr>\n",
       "    </thead>\n",
       "    <tbody>\n",
       "        <tr>\n",
       "            <td>120         </td> <td>284             </td> <td>27          </td> <td>62             </td> <td>100                      </td> <td>False          </td>\n",
       "        </tr>\n",
       "        <tr>\n",
       "            <td>113         </td> <td>282             </td> <td>33          </td> <td>64             </td> <td>135                      </td> <td>False          </td>\n",
       "        </tr>\n",
       "        <tr>\n",
       "            <td>136         </td> <td>286             </td> <td>25          </td> <td>62             </td> <td>93                       </td> <td>False          </td>\n",
       "        </tr>\n",
       "        <tr>\n",
       "            <td>138         </td> <td>244             </td> <td>33          </td> <td>62             </td> <td>178                      </td> <td>False          </td>\n",
       "        </tr>\n",
       "        <tr>\n",
       "            <td>132         </td> <td>245             </td> <td>23          </td> <td>65             </td> <td>140                      </td> <td>False          </td>\n",
       "        </tr>\n",
       "        <tr>\n",
       "            <td>120         </td> <td>289             </td> <td>25          </td> <td>62             </td> <td>125                      </td> <td>False          </td>\n",
       "        </tr>\n",
       "        <tr>\n",
       "            <td>140         </td> <td>351             </td> <td>27          </td> <td>68             </td> <td>120                      </td> <td>False          </td>\n",
       "        </tr>\n",
       "        <tr>\n",
       "            <td>114         </td> <td>273             </td> <td>30          </td> <td>63             </td> <td>154                      </td> <td>False          </td>\n",
       "        </tr>\n",
       "        <tr>\n",
       "            <td>115         </td> <td>285             </td> <td>38          </td> <td>63             </td> <td>130                      </td> <td>False          </td>\n",
       "        </tr>\n",
       "        <tr>\n",
       "            <td>144         </td> <td>261             </td> <td>33          </td> <td>68             </td> <td>170                      </td> <td>False          </td>\n",
       "        </tr>\n",
       "    </tbody>\n",
       "</table>\n",
       "<p>... (705 rows omitted)</p>"
      ],
      "text/plain": [
       "Birth Weight | Gestational Days | Maternal Age | Maternal Height | Maternal Pregnancy Weight | Maternal Smoker\n",
       "120          | 284              | 27           | 62              | 100                       | False\n",
       "113          | 282              | 33           | 64              | 135                       | False\n",
       "136          | 286              | 25           | 62              | 93                        | False\n",
       "138          | 244              | 33           | 62              | 178                       | False\n",
       "132          | 245              | 23           | 65              | 140                       | False\n",
       "120          | 289              | 25           | 62              | 125                       | False\n",
       "140          | 351              | 27           | 68              | 120                       | False\n",
       "114          | 273              | 30           | 63              | 154                       | False\n",
       "115          | 285              | 38           | 63              | 130                       | False\n",
       "144          | 261              | 33           | 68              | 170                       | False\n",
       "... (705 rows omitted)"
      ]
     },
     "execution_count": 9,
     "metadata": {},
     "output_type": "execute_result"
    }
   ],
   "source": [
    "Non_Smoking_Moms = baby.where(\"Maternal Smoker\", False)\n",
    "\n",
    "Non_Smoking_Moms"
   ]
  },
  {
   "cell_type": "markdown",
   "metadata": {},
   "source": [
    "If you'll explore the lecture notebooks ahead of your students, you'll discover that there are many different ways to use the `.where` method to select rows from a table.  \n",
    "\n",
    "\n",
    "What if I wanted just the babies born to adult aged mothers (18 years old or older, that is)."
   ]
  },
  {
   "cell_type": "code",
   "execution_count": 25,
   "metadata": {},
   "outputs": [
    {
     "data": {
      "text/html": [
       "<table border=\"1\" class=\"dataframe\">\n",
       "    <thead>\n",
       "        <tr>\n",
       "            <th>Birth Weight</th> <th>Gestational Days</th> <th>Maternal Age</th> <th>Maternal Height</th> <th>Maternal Pregnancy Weight</th> <th>Maternal Smoker</th>\n",
       "        </tr>\n",
       "    </thead>\n",
       "    <tbody>\n",
       "        <tr>\n",
       "            <td>120         </td> <td>284             </td> <td>27          </td> <td>62             </td> <td>100                      </td> <td>False          </td>\n",
       "        </tr>\n",
       "        <tr>\n",
       "            <td>113         </td> <td>282             </td> <td>33          </td> <td>64             </td> <td>135                      </td> <td>False          </td>\n",
       "        </tr>\n",
       "        <tr>\n",
       "            <td>128         </td> <td>279             </td> <td>28          </td> <td>64             </td> <td>115                      </td> <td>True           </td>\n",
       "        </tr>\n",
       "        <tr>\n",
       "            <td>108         </td> <td>282             </td> <td>23          </td> <td>67             </td> <td>125                      </td> <td>True           </td>\n",
       "        </tr>\n",
       "        <tr>\n",
       "            <td>136         </td> <td>286             </td> <td>25          </td> <td>62             </td> <td>93                       </td> <td>False          </td>\n",
       "        </tr>\n",
       "        <tr>\n",
       "            <td>138         </td> <td>244             </td> <td>33          </td> <td>62             </td> <td>178                      </td> <td>False          </td>\n",
       "        </tr>\n",
       "        <tr>\n",
       "            <td>132         </td> <td>245             </td> <td>23          </td> <td>65             </td> <td>140                      </td> <td>False          </td>\n",
       "        </tr>\n",
       "        <tr>\n",
       "            <td>120         </td> <td>289             </td> <td>25          </td> <td>62             </td> <td>125                      </td> <td>False          </td>\n",
       "        </tr>\n",
       "        <tr>\n",
       "            <td>143         </td> <td>299             </td> <td>30          </td> <td>66             </td> <td>136                      </td> <td>True           </td>\n",
       "        </tr>\n",
       "        <tr>\n",
       "            <td>140         </td> <td>351             </td> <td>27          </td> <td>68             </td> <td>120                      </td> <td>False          </td>\n",
       "        </tr>\n",
       "    </tbody>\n",
       "</table>\n",
       "<p>... (1156 rows omitted)</p>"
      ],
      "text/plain": [
       "Birth Weight | Gestational Days | Maternal Age | Maternal Height | Maternal Pregnancy Weight | Maternal Smoker\n",
       "120          | 284              | 27           | 62              | 100                       | False\n",
       "113          | 282              | 33           | 64              | 135                       | False\n",
       "128          | 279              | 28           | 64              | 115                       | True\n",
       "108          | 282              | 23           | 67              | 125                       | True\n",
       "136          | 286              | 25           | 62              | 93                        | False\n",
       "138          | 244              | 33           | 62              | 178                       | False\n",
       "132          | 245              | 23           | 65              | 140                       | False\n",
       "120          | 289              | 25           | 62              | 125                       | False\n",
       "143          | 299              | 30           | 66              | 136                       | True\n",
       "140          | 351              | 27           | 68              | 120                       | False\n",
       "... (1156 rows omitted)"
      ]
     },
     "execution_count": 25,
     "metadata": {},
     "output_type": "execute_result"
    }
   ],
   "source": [
    "Adult_Moms = baby.where(\"Maternal Age\", are.above_or_equal_to(18))\n",
    "\n",
    "Adult_Moms\n",
    "\n",
    "## Running this cell you'll notice that number of rows not shown changes from 1164 to 1156\n",
    "## so 8 underaged mothers were omitted from this new data table.  "
   ]
  },
  {
   "cell_type": "markdown",
   "metadata": {},
   "source": [
    "## Apply what we've learned\n",
    "\n",
    "1. Start with the `sky` data table and make a new table by subsetting to only the skyscrapers where the material used to build it is steel.  Call this new data table, `steel`.  \n",
    "\n",
    "2. Start with the `sky` data table and make a new table called `concrete` where all the skyscrapers in `concrete` are built using concrete.  \n",
    "\n",
    "3. Make a table called `older_scrapers` by subsetting the `sky` table to include only the skyscrapers that were finished in 1963 or before.  \n",
    "\n",
    "*Hint for 3: inside the* .where *use* are.below_or_equal_to"
   ]
  },
  {
   "cell_type": "code",
   "execution_count": null,
   "metadata": {},
   "outputs": [],
   "source": []
  },
  {
   "cell_type": "code",
   "execution_count": null,
   "metadata": {},
   "outputs": [],
   "source": []
  },
  {
   "cell_type": "code",
   "execution_count": null,
   "metadata": {},
   "outputs": [],
   "source": []
  },
  {
   "cell_type": "markdown",
   "metadata": {},
   "source": [
    "## This is cute.  Umm, how do I do STATISTICS in this?\n",
    "\n",
    "First, one more little lesson.  \n",
    "\n",
    "We have to pull data from our tables in the form of an array, which is nothing more than an list of numbers in a set order.    \n",
    "\n",
    "The `.column` method will do that for us.  "
   ]
  },
  {
   "cell_type": "code",
   "execution_count": 10,
   "metadata": {},
   "outputs": [
    {
     "data": {
      "text/plain": [
       "array([128, 108, 143, 144, 141, 110,  92, 115, 119, 115, 103, 114, 114,\n",
       "       134, 122,  87, 143, 145, 108, 124, 122, 101, 128, 104, 137, 103,\n",
       "       133,  91, 153,  99, 114, 125,  85,  87, 120, 107, 119,  91,  95,\n",
       "       141, 100, 115,  94, 101, 112, 128,  93, 100, 105, 160, 113, 118,\n",
       "       133, 116, 113, 131, 121, 122, 101, 113,  96, 142,  75, 104, 118,\n",
       "        98, 150, 119, 101, 113,  97, 115, 121, 117, 110, 130, 140, 154,\n",
       "       122, 144, 114, 154, 150,  99, 117, 130,  81, 124, 125, 115, 104,\n",
       "       119, 123, 141, 129, 119, 109, 104, 110,  98, 136, 121,  91,  85,\n",
       "       106, 109,  98, 101,  71, 124, 101, 100, 104, 117, 117, 117, 109,\n",
       "       120, 103, 123, 104, 122, 116, 129, 133, 122, 133, 130, 106, 140,\n",
       "       120, 127,  71, 129, 145, 102, 129, 135, 104, 126, 127,  98, 131,\n",
       "        99, 115, 102, 143,  87, 130, 123, 116, 144, 120, 112, 132, 146,\n",
       "       119, 100, 129, 122, 117, 144, 115,  99,  68, 102, 109, 102,  99,\n",
       "       128, 101, 109, 117,  88,  95, 127, 107, 126,  98,  96,  93, 101,\n",
       "       130, 125, 132,  69, 114, 123, 129, 114, 119, 131, 114, 110, 103,\n",
       "       117, 126, 132, 101, 114, 108, 123, 113,  93, 130, 111,  97, 107,\n",
       "       105, 133, 161, 115, 127, 128, 117, 119,  91, 116, 126,  98, 103,\n",
       "       117, 115, 118, 144,  85, 130, 117, 135, 115, 123, 154, 110, 104,\n",
       "       123, 129, 108, 103, 127, 107, 106, 152, 136, 123,  93, 129, 125,\n",
       "        96, 138, 114, 127, 113,  99,  97, 126, 119, 117, 131, 118, 109,\n",
       "       131, 134, 128,  86, 115, 100, 120,  95,  90, 131, 103, 144,  86,\n",
       "       136,  92, 129, 105, 125, 115, 143, 116, 110,  87, 132, 123, 104,\n",
       "        96,  83,  86, 110,  84, 123,  96, 117, 125, 114,  96, 107,  98,\n",
       "       107, 144, 136, 125, 100,  88,  77,  93, 109, 145,  92, 111, 100,\n",
       "       134, 145, 126, 119, 103, 116, 102, 121, 100,  86,  87,  88,  96,\n",
       "       112, 115, 122, 127,  90,  58, 109, 142, 115, 163,  77, 124, 102,\n",
       "        94, 112, 119,  97, 115, 144,  99, 106, 121, 123, 139, 105, 146,\n",
       "       122, 138, 120, 119, 105, 123, 103, 105, 139, 104, 118,  99, 121,\n",
       "       125, 100, 117, 122, 118, 137, 120, 108, 131, 105,  78, 111,  75,\n",
       "        94, 145, 109, 115, 120,  96, 102,  91, 155, 109,  80,  94, 148,\n",
       "       123,  65, 108, 103, 105, 100, 115,  91, 112, 119, 126, 100,  96,\n",
       "       131, 108, 113, 133, 127, 102, 120,  98, 104, 122,  99, 117, 106,\n",
       "       156,  72,  75,  97,  91, 117, 130, 114, 160,  84, 130,  71,  82,\n",
       "       124, 138,  88,  82,  97, 116, 132, 119, 106, 103, 112,  96, 102,\n",
       "       120,  97,  97, 127,  87, 141, 116,  75,  81, 114, 124, 115, 143,\n",
       "       113, 109, 103, 130])"
      ]
     },
     "execution_count": 10,
     "metadata": {},
     "output_type": "execute_result"
    }
   ],
   "source": [
    "Smoking_moms_baby_weight = Smoking_Moms.column(\"Birth Weight\")\n",
    "\n",
    "Smoking_moms_baby_weight"
   ]
  },
  {
   "cell_type": "code",
   "execution_count": 11,
   "metadata": {},
   "outputs": [],
   "source": [
    "Non_smoking_moms_baby_weight = Non_Smoking_Moms.column(\"Birth Weight\")"
   ]
  },
  {
   "cell_type": "code",
   "execution_count": 12,
   "metadata": {},
   "outputs": [
    {
     "data": {
      "text/plain": [
       "113.81917211328977"
      ]
     },
     "execution_count": 12,
     "metadata": {},
     "output_type": "execute_result"
    }
   ],
   "source": [
    "## Finding the mean of an array of data\n",
    "\n",
    "np.mean(Smoking_moms_baby_weight)"
   ]
  },
  {
   "cell_type": "code",
   "execution_count": 13,
   "metadata": {},
   "outputs": [
    {
     "data": {
      "text/plain": [
       "18.295010373139494"
      ]
     },
     "execution_count": 13,
     "metadata": {},
     "output_type": "execute_result"
    }
   ],
   "source": [
    "## Finding the standard deviation of an array of numbers\n",
    "\n",
    "stats.tstd(Smoking_moms_baby_weight)"
   ]
  },
  {
   "cell_type": "code",
   "execution_count": 14,
   "metadata": {},
   "outputs": [
    {
     "data": {
      "text/html": [
       "<table border=\"1\" class=\"dataframe\">\n",
       "    <thead>\n",
       "        <tr>\n",
       "            <th>mean</th> <th>std</th> <th>min</th> <th>Q1</th> <th>median</th> <th>Q3</th> <th>max</th> <th>IQR</th> <th>n</th>\n",
       "        </tr>\n",
       "    </thead>\n",
       "    <tbody>\n",
       "        <tr>\n",
       "            <td>113.819</td> <td>18.295</td> <td>58  </td> <td>101 </td> <td>115   </td> <td>126 </td> <td>163 </td> <td>25  </td> <td>459 </td>\n",
       "        </tr>\n",
       "    </tbody>\n",
       "</table>"
      ],
      "text/plain": [
       "mean    | std    | min  | Q1   | median | Q3   | max  | IQR  | n\n",
       "113.819 | 18.295 | 58   | 101  | 115    | 126  | 163  | 25   | 459"
      ]
     },
     "execution_count": 14,
     "metadata": {},
     "output_type": "execute_result"
    }
   ],
   "source": [
    "## One function to create a table with all the summary stats usually needed\n",
    "\n",
    "favstats(Smoking_Moms, \"Birth Weight\")"
   ]
  },
  {
   "cell_type": "markdown",
   "metadata": {},
   "source": [
    "## Hypothesis tests?\n",
    "\n",
    "Most hypothesis tests can be run in between 1 and 3 lines of code.  \n",
    "\n"
   ]
  },
  {
   "cell_type": "code",
   "execution_count": 15,
   "metadata": {},
   "outputs": [
    {
     "data": {
      "text/plain": [
       "Ttest_indResult(statistic=-8.718755502379533, pvalue=9.461067881089321e-18)"
      ]
     },
     "execution_count": 15,
     "metadata": {},
     "output_type": "execute_result"
    }
   ],
   "source": [
    "## The following line of code runs a two-sample t-test\n",
    "\n",
    "stats.ttest_ind(Smoking_moms_baby_weight, Non_smoking_moms_baby_weight)"
   ]
  },
  {
   "cell_type": "markdown",
   "metadata": {},
   "source": [
    "## Apply it!\n",
    "\n",
    "Earlier, you created two data tables by subsetting the `sky` data table on skyscrapers.  One was called `steel` and the other `concrete`.  \n",
    "\n",
    "1. Use the .column method to pull the height from the `steel` data table as an array and call it `steel_height`.\n",
    "\n",
    "2. Use the .column method to pull the height from the `concrete` data table as an array and call it `concrete_height`.\n",
    "\n",
    "3. Run a two-sample t-test to determine if there is a significant difference in the heights of these steel and concrete buildings.  \n"
   ]
  },
  {
   "cell_type": "code",
   "execution_count": null,
   "metadata": {},
   "outputs": [],
   "source": []
  },
  {
   "cell_type": "code",
   "execution_count": null,
   "metadata": {},
   "outputs": [],
   "source": []
  },
  {
   "cell_type": "code",
   "execution_count": null,
   "metadata": {},
   "outputs": [],
   "source": []
  },
  {
   "cell_type": "markdown",
   "metadata": {},
   "source": [
    "Are all the usual hypothesis tests this easy?  Yes, here's the code for them.  "
   ]
  },
  {
   "cell_type": "code",
   "execution_count": 16,
   "metadata": {},
   "outputs": [],
   "source": [
    "## 1-sample t-test\n",
    "\n",
    "# stats.ttest_1samp()\n",
    "\n",
    "\n",
    "\n",
    "## matched pairs t-test\n",
    "\n",
    "# stats.ttest_rel()\n",
    "\n",
    "\n",
    "\n",
    "## Chi-squared test for independence\n",
    "\n",
    "# stats.chi2_contingency()\n",
    "\n",
    "\n",
    "\n",
    "## Linear regression and correlation\n",
    "\n",
    "# stats.linregress()\n",
    "\n",
    "\n",
    "## ANOVA\n",
    "\n",
    "#stats.f_oneway()"
   ]
  },
  {
   "cell_type": "markdown",
   "metadata": {},
   "source": [
    "## Wait, what about histograms, boxplots, scatterplots, etc?\n",
    "\n",
    "Those are actually super easy to create directly from the tables.  \n",
    "\n",
    "In the appropriate lecture notebooks covering those topics there are many examples of how to create those things.  But here are some examples, that we can discuss.  \n"
   ]
  },
  {
   "cell_type": "code",
   "execution_count": 17,
   "metadata": {},
   "outputs": [
    {
     "data": {
      "image/png": "[encoded data removed]",
      "text/plain": [
       "<Figure size 432x288 with 1 Axes>"
      ]
     },
     "metadata": {},
     "output_type": "display_data"
    }
   ],
   "source": [
    "baby.hist(\"Birth Weight\")"
   ]
  },
  {
   "cell_type": "code",
   "execution_count": 18,
   "metadata": {},
   "outputs": [
    {
     "data": {
      "image/png": "[encoded data removed]",
      "text/plain": [
       "<Figure size 432x288 with 1 Axes>"
      ]
     },
     "metadata": {},
     "output_type": "display_data"
    }
   ],
   "source": [
    "baby.hist(\"Birth Weight\", left_end = 160)"
   ]
  },
  {
   "cell_type": "code",
   "execution_count": 19,
   "metadata": {},
   "outputs": [
    {
     "data": {
      "image/png": "[encoded data removed]",
      "text/plain": [
       "<Figure size 432x288 with 1 Axes>"
      ]
     },
     "metadata": {},
     "output_type": "display_data"
    }
   ],
   "source": [
    "baby.select(\"Maternal Height\").boxplot()"
   ]
  },
  {
   "cell_type": "code",
   "execution_count": 20,
   "metadata": {},
   "outputs": [
    {
     "data": {
      "image/png": "[encoded data removed]",
      "text/plain": [
       "<Figure size 432x288 with 1 Axes>"
      ]
     },
     "metadata": {},
     "output_type": "display_data"
    }
   ],
   "source": [
    "labels = make_array(\"Non-Smokers\", \"Smokers\")  # Change to appropriate labels\n",
    "my_title = \"Birth Weights By Mothers Smoking Status\"  # Change to your title\n",
    "ticks=make_array(2.5, 3.5)  \n",
    "\n",
    "\n",
    "plots.boxplot(Non_smoking_moms_baby_weight, positions = make_array( ticks.item(0)))\n",
    "plots.boxplot(Smoking_moms_baby_weight, positions = make_array(ticks.item(1)))\n",
    "plots.xticks(ticks, labels)\n",
    "plots.title(\"Baby Weights of \\nSmoking/Non-Smoking Mothers\");"
   ]
  },
  {
   "cell_type": "code",
   "execution_count": 21,
   "metadata": {},
   "outputs": [
    {
     "data": {
      "image/png": "[encoded data removed]",
      "text/plain": [
       "<Figure size 360x360 with 1 Axes>"
      ]
     },
     "metadata": {},
     "output_type": "display_data"
    }
   ],
   "source": [
    "baby.scatter(\"Maternal Pregnancy Weight\", \"Birth Weight\", fit_line= True)"
   ]
  },
  {
   "cell_type": "markdown",
   "metadata": {},
   "source": [
    "## That can't be everything!\n",
    "\n",
    "+ Your right, it's not.  But it's a start.\n",
    "\n",
    "+ Be sure to go through the lecture notebooks *before* you go over them with your students.\n",
    "\n",
    "+ You'll learn a lot more as you do this.\n",
    "\n",
    "### What if I have more questions?\n",
    "\n",
    "+ Ask Brad, Gregg or Robb.  \n",
    "\n",
    "+ If you don't have time to find one of us, then try the `help` function in Python.  All you need to know is the name of the function and (if applicable) the name of the module it comes from.  \n",
    "\n",
    "    + You can actually apply the help function to an entire module, but it returns a document that in some cases is like 90 pages long, because it contains documentation for every function in the module.  I've done this (when I was trying to teach myself the scipy module).  Viewing it through Juypyter was a nightmare, so I cut and pasted it into Microsoft Word, which gave me a document that was both searchable and overall easier to view, just FYI.  \n",
    "\n",
    "+ In a real emergency, try Google.  "
   ]
  },
  {
   "cell_type": "code",
   "execution_count": 22,
   "metadata": {},
   "outputs": [
    {
     "name": "stdout",
     "output_type": "stream",
     "text": [
      "Help on function boxplot in module datascience.tables:\n",
      "\n",
      "boxplot(self, **vargs)\n",
      "    Plots a boxplot for the table.\n",
      "    \n",
      "    Every column must be numerical.\n",
      "    \n",
      "    Kwargs:\n",
      "        vargs: Additional arguments that get passed into `plt.boxplot`.\n",
      "            See http://matplotlib.org/api/pyplot_api.html#matplotlib.pyplot.boxplot\n",
      "            for additional arguments that can be passed into vargs. These include\n",
      "            `vert` and `showmeans`.\n",
      "    \n",
      "    Returns:\n",
      "        None\n",
      "    \n",
      "    Raises:\n",
      "        ValueError: The Table contains columns with non-numerical values.\n",
      "    \n",
      "    >>> table = Table().with_columns(\n",
      "    ...     'test1', make_array(92.5, 88, 72, 71, 99, 100, 95, 83, 94, 93),\n",
      "    ...     'test2', make_array(89, 84, 74, 66, 92, 99, 88, 81, 95, 94))\n",
      "    >>> table\n",
      "    test1 | test2\n",
      "    92.5  | 89\n",
      "    88    | 84\n",
      "    72    | 74\n",
      "    71    | 66\n",
      "    99    | 92\n",
      "    100   | 99\n",
      "    95    | 88\n",
      "    83    | 81\n",
      "    94    | 95\n",
      "    93    | 94\n",
      "    >>> table.boxplot() # doctest: +SKIP\n",
      "    <boxplot of test1 and boxplot of test2 side-by-side on the same figure>\n",
      "\n"
     ]
    }
   ],
   "source": [
    "help(Table.boxplot)"
   ]
  },
  {
   "cell_type": "code",
   "execution_count": 23,
   "metadata": {},
   "outputs": [
    {
     "name": "stdout",
     "output_type": "stream",
     "text": [
      "Help on function mean in module numpy:\n",
      "\n",
      "mean(a, axis=None, dtype=None, out=None, keepdims=<no value>)\n",
      "    Compute the arithmetic mean along the specified axis.\n",
      "    \n",
      "    Returns the average of the array elements.  The average is taken over\n",
      "    the flattened array by default, otherwise over the specified axis.\n",
      "    `float64` intermediate and return values are used for integer inputs.\n",
      "    \n",
      "    Parameters\n",
      "    ----------\n",
      "    a : array_like\n",
      "        Array containing numbers whose mean is desired. If `a` is not an\n",
      "        array, a conversion is attempted.\n",
      "    axis : None or int or tuple of ints, optional\n",
      "        Axis or axes along which the means are computed. The default is to\n",
      "        compute the mean of the flattened array.\n",
      "    \n",
      "        .. versionadded:: 1.7.0\n",
      "    \n",
      "        If this is a tuple of ints, a mean is performed over multiple axes,\n",
      "        instead of a single axis or all the axes as before.\n",
      "    dtype : data-type, optional\n",
      "        Type to use in computing the mean.  For integer inputs, the default\n",
      "        is `float64`; for floating point inputs, it is the same as the\n",
      "        input dtype.\n",
      "    out : ndarray, optional\n",
      "        Alternate output array in which to place the result.  The default\n",
      "        is ``None``; if provided, it must have the same shape as the\n",
      "        expected output, but the type will be cast if necessary.\n",
      "        See `ufuncs-output-type` for more details.\n",
      "    \n",
      "    keepdims : bool, optional\n",
      "        If this is set to True, the axes which are reduced are left\n",
      "        in the result as dimensions with size one. With this option,\n",
      "        the result will broadcast correctly against the input array.\n",
      "    \n",
      "        If the default value is passed, then `keepdims` will not be\n",
      "        passed through to the `mean` method of sub-classes of\n",
      "        `ndarray`, however any non-default value will be.  If the\n",
      "        sub-class' method does not implement `keepdims` any\n",
      "        exceptions will be raised.\n",
      "    \n",
      "    Returns\n",
      "    -------\n",
      "    m : ndarray, see dtype parameter above\n",
      "        If `out=None`, returns a new array containing the mean values,\n",
      "        otherwise a reference to the output array is returned.\n",
      "    \n",
      "    See Also\n",
      "    --------\n",
      "    average : Weighted average\n",
      "    std, var, nanmean, nanstd, nanvar\n",
      "    \n",
      "    Notes\n",
      "    -----\n",
      "    The arithmetic mean is the sum of the elements along the axis divided\n",
      "    by the number of elements.\n",
      "    \n",
      "    Note that for floating-point input, the mean is computed using the\n",
      "    same precision the input has.  Depending on the input data, this can\n",
      "    cause the results to be inaccurate, especially for `float32` (see\n",
      "    example below).  Specifying a higher-precision accumulator using the\n",
      "    `dtype` keyword can alleviate this issue.\n",
      "    \n",
      "    By default, `float16` results are computed using `float32` intermediates\n",
      "    for extra precision.\n",
      "    \n",
      "    Examples\n",
      "    --------\n",
      "    >>> a = np.array([[1, 2], [3, 4]])\n",
      "    >>> np.mean(a)\n",
      "    2.5\n",
      "    >>> np.mean(a, axis=0)\n",
      "    array([2., 3.])\n",
      "    >>> np.mean(a, axis=1)\n",
      "    array([1.5, 3.5])\n",
      "    \n",
      "    In single precision, `mean` can be inaccurate:\n",
      "    \n",
      "    >>> a = np.zeros((2, 512*512), dtype=np.float32)\n",
      "    >>> a[0, :] = 1.0\n",
      "    >>> a[1, :] = 0.1\n",
      "    >>> np.mean(a)\n",
      "    0.54999924\n",
      "    \n",
      "    Computing the mean in float64 is more accurate:\n",
      "    \n",
      "    >>> np.mean(a, dtype=np.float64)\n",
      "    0.55000000074505806 # may vary\n",
      "\n"
     ]
    }
   ],
   "source": [
    "help(np.mean)"
   ]
  },
  {
   "cell_type": "code",
   "execution_count": 24,
   "metadata": {},
   "outputs": [
    {
     "name": "stdout",
     "output_type": "stream",
     "text": [
      "Help on function tstd in module scipy.stats.stats:\n",
      "\n",
      "tstd(a, limits=None, inclusive=(True, True), axis=0, ddof=1)\n",
      "    Compute the trimmed sample standard deviation.\n",
      "    \n",
      "    This function finds the sample standard deviation of given values,\n",
      "    ignoring values outside the given `limits`.\n",
      "    \n",
      "    Parameters\n",
      "    ----------\n",
      "    a : array_like\n",
      "        array of values\n",
      "    limits : None or (lower limit, upper limit), optional\n",
      "        Values in the input array less than the lower limit or greater than the\n",
      "        upper limit will be ignored. When limits is None, then all values are\n",
      "        used. Either of the limit values in the tuple can also be None\n",
      "        representing a half-open interval.  The default value is None.\n",
      "    inclusive : (bool, bool), optional\n",
      "        A tuple consisting of the (lower flag, upper flag).  These flags\n",
      "        determine whether values exactly equal to the lower or upper limits\n",
      "        are included.  The default value is (True, True).\n",
      "    axis : int or None, optional\n",
      "        Axis along which to operate. Default is 0. If None, compute over the\n",
      "        whole array `a`.\n",
      "    ddof : int, optional\n",
      "        Delta degrees of freedom.  Default is 1.\n",
      "    \n",
      "    Returns\n",
      "    -------\n",
      "    tstd : float\n",
      "    \n",
      "    Notes\n",
      "    -----\n",
      "    `tstd` computes the unbiased sample standard deviation, i.e. it uses a\n",
      "    correction factor ``n / (n - 1)``.\n",
      "    \n",
      "    Examples\n",
      "    --------\n",
      "    >>> from scipy import stats\n",
      "    >>> x = np.arange(20)\n",
      "    >>> stats.tstd(x)\n",
      "    5.9160797830996161\n",
      "    >>> stats.tstd(x, (3,17))\n",
      "    4.4721359549995796\n",
      "\n"
     ]
    }
   ],
   "source": [
    "help(stats.tstd)"
   ]
  }
 ],
 "metadata": {
  "celltoolbar": "Edit Metadata",
  "kernelspec": {
   "display_name": "Python 3",
   "language": "python",
   "name": "python3"
  },
  "language_info": {
   "codemirror_mode": {
    "name": "ipython",
    "version": 3
   },
   "file_extension": ".py",
   "mimetype": "text/x-python",
   "name": "python",
   "nbconvert_exporter": "python",
   "pygments_lexer": "ipython3",
   "version": "3.6.5"
  }
 },
 "nbformat": 4,
 "nbformat_minor": 5
}
