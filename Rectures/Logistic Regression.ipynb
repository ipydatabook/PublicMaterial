{
 "cells": [
  {
   "cell_type": "markdown",
   "metadata": {},
   "source": [
    "# Logistic Regression\n",
    "\n",
    "In this notebook we will learn:\n",
    "\n",
    "- What is logistic regression\n",
    "- How to run a logistic regression in Python\n",
    "- How to interpret a logistic regression\n",
    "- What are the assumptions of logistic regression\n",
    "\n"
   ]
  },
  {
   "cell_type": "code",
   "execution_count": 1,
   "metadata": {},
   "outputs": [],
   "source": [
    "from datascience import *\n",
    "import numpy as np\n",
    "import math\n",
    "\n",
    "%matplotlib inline\n",
    "import matplotlib.pyplot as plots\n",
    "plots.style.use('fivethirtyeight')\n",
    "from scipy import stats\n",
    "\n",
    "import pandas\n",
    "\n",
    "np.warnings.filterwarnings('ignore', category=np.VisibleDeprecationWarning)"
   ]
  },
  {
   "cell_type": "markdown",
   "metadata": {},
   "source": [
    "## Logistic Regression\n",
    "\n",
    "Suppose we have a binary response (like Survives or Dies, Male or Female, Smoker or Non-Smoker), then we have a numeric predictor.  How can we use this type of data to make predictions about the response.\n",
    "\n",
    "First, turn your binary response into a 0-1 variable.  Which one should you make 0 and which one should be 1?  It literally doesn't matter, just pick one.  A common thing to do is to use the alphabetical order.  So Dead = 0 and Survived = 1, Female = 0 and Male = 1, so on.  But seriously, other than one response must be coded as a 0 and the other as a 1, there's no set rule here.  \n",
    "\n",
    "Before getting to the analysis, let's discuss the mathematics.\n",
    "\n",
    "First, it is used to \"predict\" the **probability** of one of two outcomes.\n",
    "\n",
    "Why is it called \"logistic\" regression?  It's because it uses the logistical unit or  \"logit\" function:\n",
    "\n",
    "$$ \\ln\\left(\\frac{p}{1-p}\\right)$$\n",
    "\n",
    "\n",
    "If $\\displaystyle p = \\frac{1}{3}$ then the odds of $p$ are $\\displaystyle \\frac{\\frac{1}{3}}{\\frac{2}{3}} = \\frac{1}{2} = 1:2$\n",
    "\n",
    "\n",
    "If $p$ is the probability of event E occurring, then $\\displaystyle \\frac{p}{1-p}$ are the odds of E.  So the logit function is also called the log-odds.  \n",
    "\n",
    "If $\\displaystyle f(x) = \\ln\\left(\\frac{x}{1-x}\\right) $, what is $\\displaystyle f^{-1}(x)$?\n",
    "\n",
    "$$ \\displaystyle  f(x)   = \\ln\\left(\\frac{x}{1-x}\\right) $$\n",
    "\n",
    "$$y  \\displaystyle = \\ln\\left(\\frac{x}{1-x}\\right) $$\n",
    "\n",
    "$$ e^y  \\displaystyle = \\frac{x}{1-x} $$\n",
    "\n",
    "$$ \\displaystyle e^y - x e^y = x $$\n",
    "\n",
    "$$ e^y  = x + x e^y $$\n",
    "\n",
    "$$\\displaystyle \\frac{e^y}{1+e^y}  =  x $$\n",
    "\n",
    "$$\\displaystyle f^{-1}(x) = \\frac{e^x}{1+e^x}$$\n",
    "\n",
    "The model is:\n",
    "\n",
    "$$\\beta_0 + \\beta_1 x = \\ln\\left(\\frac{\\hat{p}}{1-\\hat{p}}\\right)$$\n",
    "\n",
    "\n",
    "This puts the logit function into a linear equation with the predictor.  \n",
    "\n",
    "Why did we care what $\\displaystyle f^{-1}(x) was?  Because the equation is usually rearranged when we make the graph for logistic regression.  \n",
    "\n",
    "$$ \\hat{p} = \\frac{e^{\\beta_0 + \\beta_1 x}}{1+ e^{\\beta_0 + \\beta_1 x}} $$\n",
    "\n",
    "In this form, the $y$-axis is $\\hat{p}$ which makes interpretation easier.  "
   ]
  },
  {
   "cell_type": "code",
   "execution_count": 2,
   "metadata": {},
   "outputs": [
    {
     "data": {
      "image/png": "[encoded data removed]",
      "text/plain": [
       "<Figure size 432x288 with 1 Axes>"
      ]
     },
     "metadata": {},
     "output_type": "display_data"
    }
   ],
   "source": [
    "X = np.arange(-10, 10.001, 0.001)\n",
    "\n",
    "def logit(x):\n",
    "    return math.e**x/(1+math.e**x)\n",
    "\n",
    "Y = logit(X)\n",
    "\n",
    "plots.plot(X, Y)\n",
    "plots.title(r\"The logit function with $\\beta_1 = 1$ and $\\beta_0 = 0$\")\n",
    "plots.ylabel(\"Probability\");"
   ]
  },
  {
   "cell_type": "markdown",
   "metadata": {},
   "source": [
    "How do the values of $\\beta_0$ and $\\beta_1$ change the shape of the graph above?  Use the sliders below to investigate that.  "
   ]
  },
  {
   "cell_type": "code",
   "execution_count": 3,
   "metadata": {},
   "outputs": [
    {
     "data": {
      "application/vnd.jupyter.widget-view+json": {
       "model_id": "e535ccb7ffd74c9eb76c1f518e6f74ab",
       "version_major": 2,
       "version_minor": 0
      },
      "text/plain": [
       "interactive(children=(FloatSlider(value=1.0, description='slope', max=4.0, min=-4.0, step=0.01), FloatSlider(v…"
      ]
     },
     "metadata": {},
     "output_type": "display_data"
    }
   ],
   "source": [
    "import ipywidgets as widgets\n",
    "\n",
    "from ipywidgets import interact, interactive, fixed, interact_manual\n",
    "import ipywidgets as widgets\n",
    "\n",
    "import matplotlib.pyplot as plt\n",
    "%matplotlib inline\n",
    "\n",
    "import numpy as np\n",
    "\n",
    "def plot_func(slope, intercept):\n",
    "    x = np.linspace(-10, 10)\n",
    "    y = math.e**(x*slope + intercept)/(1 +  math.e**(x*slope + intercept))\n",
    "    plt.plot(x,y,  color=\"green\")\n",
    "    plt.ylim(-0.1,1.1)\n",
    "    plt.xlim(-10,10) \n",
    "    #rmse = np.round((sum((yy - correlation*xx - intercept)**2)/(len(xx)-2))**0.5,2)\n",
    "    #plt.plot(x, y)\n",
    "    #plt.text(-1.5,1, f\"RMSE = {rmse}\", color=\"red\", size='large')\n",
    "    #plt.ylabel(\"Duration\")\n",
    "    #plt.xlabel(\"Wait\")\n",
    "\n",
    "interact(plot_func, slope = widgets.FloatSlider(value=1, min=-4, max=4, step=0.01), \n",
    "\n",
    "         intercept=widgets.FloatSlider(value=0, min=-8, max=8, step=0.050));\n",
    "\n"
   ]
  },
  {
   "cell_type": "markdown",
   "metadata": {},
   "source": [
    "Using the births data set that we've used before, let's use the birth weight of the baby to try to predict if the mother smoked.  \n",
    "\n",
    "\n",
    "First, the original births data set does contain a variable that indicates if the mother smoked, but it's Boolean.  We need it to be binary, meaning 0-1.  We already fixed this problem before when we created a so-called dummy variable for Smoker, we'll do that again. "
   ]
  },
  {
   "cell_type": "code",
   "execution_count": 4,
   "metadata": {},
   "outputs": [
    {
     "data": {
      "text/html": [
       "<table border=\"1\" class=\"dataframe\">\n",
       "    <thead>\n",
       "        <tr>\n",
       "            <th>Birth Weight</th> <th>Gestational Days</th> <th>Maternal Age</th> <th>Maternal Height</th> <th>Maternal Pregnancy Weight</th> <th>Maternal Smoker</th>\n",
       "        </tr>\n",
       "    </thead>\n",
       "    <tbody>\n",
       "        <tr>\n",
       "            <td>120         </td> <td>284             </td> <td>27          </td> <td>62             </td> <td>100                      </td> <td>False          </td>\n",
       "        </tr>\n",
       "        <tr>\n",
       "            <td>113         </td> <td>282             </td> <td>33          </td> <td>64             </td> <td>135                      </td> <td>False          </td>\n",
       "        </tr>\n",
       "        <tr>\n",
       "            <td>128         </td> <td>279             </td> <td>28          </td> <td>64             </td> <td>115                      </td> <td>True           </td>\n",
       "        </tr>\n",
       "    </tbody>\n",
       "</table>\n",
       "<p>... (1171 rows omitted)</p>"
      ],
      "text/plain": [
       "<IPython.core.display.HTML object>"
      ]
     },
     "metadata": {},
     "output_type": "display_data"
    },
    {
     "data": {
      "text/html": [
       "<table border=\"1\" class=\"dataframe\">\n",
       "    <thead>\n",
       "        <tr>\n",
       "            <th>Birth Weight</th> <th>Gestational Days</th> <th>Maternal Age</th> <th>Maternal Height</th> <th>Maternal Pregnancy Weight</th> <th>Maternal Smoker</th> <th>Smoker Binary</th>\n",
       "        </tr>\n",
       "    </thead>\n",
       "    <tbody>\n",
       "        <tr>\n",
       "            <td>120         </td> <td>284             </td> <td>27          </td> <td>62             </td> <td>100                      </td> <td>False          </td> <td>0            </td>\n",
       "        </tr>\n",
       "        <tr>\n",
       "            <td>113         </td> <td>282             </td> <td>33          </td> <td>64             </td> <td>135                      </td> <td>False          </td> <td>0            </td>\n",
       "        </tr>\n",
       "        <tr>\n",
       "            <td>128         </td> <td>279             </td> <td>28          </td> <td>64             </td> <td>115                      </td> <td>True           </td> <td>1            </td>\n",
       "        </tr>\n",
       "        <tr>\n",
       "            <td>108         </td> <td>282             </td> <td>23          </td> <td>67             </td> <td>125                      </td> <td>True           </td> <td>1            </td>\n",
       "        </tr>\n",
       "        <tr>\n",
       "            <td>136         </td> <td>286             </td> <td>25          </td> <td>62             </td> <td>93                       </td> <td>False          </td> <td>0            </td>\n",
       "        </tr>\n",
       "        <tr>\n",
       "            <td>138         </td> <td>244             </td> <td>33          </td> <td>62             </td> <td>178                      </td> <td>False          </td> <td>0            </td>\n",
       "        </tr>\n",
       "        <tr>\n",
       "            <td>132         </td> <td>245             </td> <td>23          </td> <td>65             </td> <td>140                      </td> <td>False          </td> <td>0            </td>\n",
       "        </tr>\n",
       "        <tr>\n",
       "            <td>120         </td> <td>289             </td> <td>25          </td> <td>62             </td> <td>125                      </td> <td>False          </td> <td>0            </td>\n",
       "        </tr>\n",
       "        <tr>\n",
       "            <td>143         </td> <td>299             </td> <td>30          </td> <td>66             </td> <td>136                      </td> <td>True           </td> <td>1            </td>\n",
       "        </tr>\n",
       "        <tr>\n",
       "            <td>140         </td> <td>351             </td> <td>27          </td> <td>68             </td> <td>120                      </td> <td>False          </td> <td>0            </td>\n",
       "        </tr>\n",
       "    </tbody>\n",
       "</table>\n",
       "<p>... (1164 rows omitted)</p>"
      ],
      "text/plain": [
       "Birth Weight | Gestational Days | Maternal Age | Maternal Height | Maternal Pregnancy Weight | Maternal Smoker | Smoker Binary\n",
       "120          | 284              | 27           | 62              | 100                       | False           | 0\n",
       "113          | 282              | 33           | 64              | 135                       | False           | 0\n",
       "128          | 279              | 28           | 64              | 115                       | True            | 1\n",
       "108          | 282              | 23           | 67              | 125                       | True            | 1\n",
       "136          | 286              | 25           | 62              | 93                        | False           | 0\n",
       "138          | 244              | 33           | 62              | 178                       | False           | 0\n",
       "132          | 245              | 23           | 65              | 140                       | False           | 0\n",
       "120          | 289              | 25           | 62              | 125                       | False           | 0\n",
       "143          | 299              | 30           | 66              | 136                       | True            | 1\n",
       "140          | 351              | 27           | 68              | 120                       | False           | 0\n",
       "... (1164 rows omitted)"
      ]
     },
     "execution_count": 4,
     "metadata": {},
     "output_type": "execute_result"
    }
   ],
   "source": [
    "births = Table.read_table('baby.csv')\n",
    "\n",
    "births.show(3)\n",
    "\n",
    "def my_to_binary(x):\n",
    "    ### converts an array of Trues and Falses to 1's and 0's ###\n",
    "    return int(x)\n",
    "    \n",
    "births = births.with_column(\"Smoker Binary\", births.apply(my_to_binary, \"Maternal Smoker\"))\n",
    "births = births.where(\"Smoker Binary\", are.contained_in(make_array(0,1)))\n",
    "\n",
    "births"
   ]
  },
  {
   "cell_type": "code",
   "execution_count": 5,
   "metadata": {},
   "outputs": [
    {
     "name": "stdout",
     "output_type": "stream",
     "text": [
      "Optimization terminated successfully.\n",
      "         Current function value: 0.637774\n",
      "         Iterations 5\n",
      "                           Logit Regression Results                           \n",
      "==============================================================================\n",
      "Dep. Variable:                 Smoker   No. Observations:                 1174\n",
      "Model:                          Logit   Df Residuals:                     1172\n",
      "Method:                           MLE   Df Model:                            1\n",
      "Date:                Thu, 30 Dec 2021   Pseudo R-squ.:                 0.04693\n",
      "Time:                        08:47:00   Log-Likelihood:                -748.75\n",
      "converged:                       True   LL-Null:                       -785.62\n",
      "                                        LLR p-value:                 8.900e-18\n",
      "===============================================================================\n",
      "                  coef    std err          z      P>|z|      [0.025      0.975]\n",
      "-------------------------------------------------------------------------------\n",
      "Intercept       3.0468      0.429      7.105      0.000       2.206       3.887\n",
      "Baby_Weight    -0.0294      0.004     -8.170      0.000      -0.037      -0.022\n",
      "===============================================================================\n"
     ]
    }
   ],
   "source": [
    "import statsmodels.formula.api as smf\n",
    "# Analysis of Variance (ANOVA) on linear models\n",
    "#from statsmodels.stats.anova import anova_lm\n",
    "\n",
    "## Prepare the data in the necessary format over the next few lines\n",
    "\n",
    "Baby_weight = births.column(\"Birth Weight\")\n",
    "Smoker = births.column(\"Smoker Binary\")\n",
    "\n",
    "\n",
    "## On the next few lines, only edit the names of the arrays and variables\n",
    "logistic_model_data = pandas.DataFrame({'Baby_Weight': Baby_weight, \"Smoker\": Smoker})\n",
    "logistic_model = smf.logit(\"Smoker~Baby_Weight\", data = logistic_model_data).fit()\n",
    "\n",
    "# Print the summary\n",
    "print(logistic_model.summary())"
   ]
  },
  {
   "cell_type": "code",
   "execution_count": 6,
   "metadata": {},
   "outputs": [
    {
     "data": {
      "text/plain": [
       "array([0.38056237, 0.43020496, 0.32678585, ..., 0.31396275, 0.34651132,\n",
       "       0.40159751])"
      ]
     },
     "execution_count": 6,
     "metadata": {},
     "output_type": "execute_result"
    }
   ],
   "source": [
    "logistic_model.predict()"
   ]
  },
  {
   "cell_type": "code",
   "execution_count": 7,
   "metadata": {},
   "outputs": [
    {
     "data": {
      "image/png": "[encoded data removed]",
      "text/plain": [
       "<Figure size 432x288 with 1 Axes>"
      ]
     },
     "metadata": {},
     "output_type": "display_data"
    }
   ],
   "source": [
    "plots.scatter(Baby_weight, logistic_model.predict())\n",
    "plots.xlabel(\"Baby Weight\")\n",
    "plots.ylabel(\"Probability Mother Smoked\")\n",
    "plots.title(\"Predicting Smoking from Baby Weight\")\n",
    "plots.text(122, 0.41, r\"$\\hat{p}$\");"
   ]
  },
  {
   "cell_type": "code",
   "execution_count": 8,
   "metadata": {},
   "outputs": [
    {
     "data": {
      "image/png": "[encoded data removed]",
      "text/plain": [
       "<Figure size 432x288 with 1 Axes>"
      ]
     },
     "metadata": {},
     "output_type": "display_data"
    }
   ],
   "source": [
    "plots.scatter(Baby_weight, logistic_model.predict())\n",
    "plots.scatter(Baby_weight, Smoker, color=\"green\")\n",
    "plots.quiver(160, 0.8, 0, 1, scale = 9)\n",
    "plots.text(145, 0.75,\"Are Smokers\")\n",
    "plots.quiver(70, 0.2, 0, -1, scale = 9)\n",
    "plots.text(55, 0.21,\"Are NOT Smokers\")\n",
    "plots.xlabel(\"Baby Weight\")\n",
    "plots.ylabel(\"Probability Mother Smoked\")\n",
    "plots.title(\"Predicting Smoking from Baby Weight\")\n",
    "plots.text(122, 0.41, r\"$\\hat{p}$\");"
   ]
  },
  {
   "cell_type": "code",
   "execution_count": null,
   "metadata": {},
   "outputs": [],
   "source": []
  },
  {
   "cell_type": "markdown",
   "metadata": {},
   "source": [
    "## Using the predictions\n",
    "\n",
    "How do we use the predictions?  Recall, the $\\hat{p}$ that is model produces is an estimated probability of a whichever outcome is coded as a 1.  \n",
    "\n",
    "Suppose we decide to classify a prediction as a 1 whenever $\\hat{p} \\geq 0.5$.  "
   ]
  },
  {
   "cell_type": "code",
   "execution_count": 9,
   "metadata": {},
   "outputs": [
    {
     "data": {
      "image/png": "[encoded data removed]",
      "text/plain": [
       "<Figure size 360x360 with 1 Axes>"
      ]
     },
     "metadata": {},
     "output_type": "display_data"
    }
   ],
   "source": [
    "births = births.with_column(\"Boolean Prediction\", logistic_model.predict() >=0.5)\n",
    "births = births.with_column(\"Prediction\", births.apply(my_to_binary, \"Boolean Prediction\"))\n",
    "births = births.with_column(\"Agreement\", births.column(\"Smoker Binary\") == births.column(\"Prediction\"))\n",
    "\n",
    "\n",
    "#births.show(3)\n",
    "\n",
    "\n",
    "births.where(\"Agreement\", True).scatter(\"Birth Weight\", \"Smoker Binary\", color=\"blue\")\n",
    "plots.scatter(births.where(\"Agreement\", False).column(\"Birth Weight\"), \n",
    "              births.where(\"Agreement\", False).column(\"Smoker Binary\"), color=\"red\")\n",
    "plots.scatter(Baby_weight, logistic_model.predict())\n",
    "plots.plot([60, 180], [0.5, 0.5], color = \"black\")\n",
    "plots.xlabel(\"Baby Weight\")\n",
    "plots.ylabel(\"Probability Mother Smoked\")\n",
    "plots.title(\"Predicting Smoking from Baby Weight\")\n",
    "plots.text(120, 0.9, \"Correct Prediction\", color = \"blue\")\n",
    "plots.text(120, 0.8, \"Incorrect Prediction\", color = \"red\");"
   ]
  },
  {
   "cell_type": "markdown",
   "metadata": {},
   "source": [
    "### Threshold \n",
    "\n",
    "The use of 0.5 as a cutoff for the classification is often referred to as a *threshold*.  We don't have to stick with 0.5, in some circumstances it makes sense to change the threshold.  Toward the end of this document, we'll consider the effects of changing the threshold.  "
   ]
  },
  {
   "cell_type": "code",
   "execution_count": 10,
   "metadata": {},
   "outputs": [
    {
     "name": "stderr",
     "output_type": "stream",
     "text": [
      "C:\\Users\\bbailey\\AppData\\Local\\Continuum\\anaconda3\\lib\\site-packages\\datascience\\tables.py:920: VisibleDeprecationWarning: Creating an ndarray from ragged nested sequences (which is a list-or-tuple of lists-or-tuples-or ndarrays with different lengths or shapes) is deprecated. If you meant to do this, you must specify 'dtype=object' when creating the ndarray\n",
      "  values = np.array(tuple(values))\n",
      "C:\\Users\\bbailey\\AppData\\Local\\Continuum\\anaconda3\\lib\\site-packages\\datascience\\tables.py:920: VisibleDeprecationWarning: Creating an ndarray from ragged nested sequences (which is a list-or-tuple of lists-or-tuples-or ndarrays with different lengths or shapes) is deprecated. If you meant to do this, you must specify 'dtype=object' when creating the ndarray\n",
      "  values = np.array(tuple(values))\n"
     ]
    },
    {
     "data": {
      "text/html": [
       "<table border=\"1\" class=\"dataframe\">\n",
       "    <thead>\n",
       "        <tr>\n",
       "            <th>Boolean Prediction</th> <th>False</th> <th>True</th>\n",
       "        </tr>\n",
       "    </thead>\n",
       "    <tbody>\n",
       "        <tr>\n",
       "            <td>False             </td> <td>635  </td> <td>319 </td>\n",
       "        </tr>\n",
       "        <tr>\n",
       "            <td>True              </td> <td>80   </td> <td>140 </td>\n",
       "        </tr>\n",
       "    </tbody>\n",
       "</table>"
      ],
      "text/plain": [
       "Boolean Prediction | False | True\n",
       "False              | 635   | 319\n",
       "True               | 80    | 140"
      ]
     },
     "execution_count": 10,
     "metadata": {},
     "output_type": "execute_result"
    }
   ],
   "source": [
    "births.select(\"Maternal Smoker\", \"Boolean Prediction\").pivot(\"Maternal Smoker\", \"Boolean Prediction\")"
   ]
  },
  {
   "cell_type": "markdown",
   "metadata": {},
   "source": [
    "## Accessing the Model & The Confusion Matrix\n",
    "\n",
    "There are a number of ways that a predictive model can be evaluated for desirable qualities.\n",
    "\n",
    "First, we usually create a *confusion matrix*.  The output of the cell above is that *confusion matrix*.  From it we can start making the simpler calculations, such as the true positives, false positives, true negatives and false negatives.  \n",
    "\n",
    "\n",
    "The number of **True Positives** is 140; this is the number of predicted True's that really are True.\n",
    "\n",
    "The number of **False Positives** is 80; this is the number of predicted True's that are in fact False.\n",
    "\n",
    "The number of **True Negatives** is 635; this is the number of False predictions that are really False.  \n",
    "\n",
    "The number of **False Negatives** is 319; this is the number of False predictions that are really True.  \n",
    "\n",
    "*Sensitivity* is the true positive rate.  $$Sensitivity = \\frac{True\\ Positives}{All\\ Real\\  Positives} $$\n",
    "\n",
    "So in this case, $\\displaystyle Sens = \\frac{140}{140+319} \\approx 0.305$.\n",
    "\n",
    "\n",
    "*Specificity* is the true negative rate.  $$Specificity = \\frac{True\\ Negatives}{All\\ Real\\  Negatives} $$\n",
    "\n",
    "In this case, $\\displaystyle Spec = \\frac{635}{635 + 80} \\approx 0.888$.\n",
    "\n",
    "So this model has better Specificity than Sensitivity.  In general, there is usually a trade-off between these two.  It's rare to have a model with both Specificity and Sensitivity being high.  \n"
   ]
  },
  {
   "cell_type": "code",
   "execution_count": 11,
   "metadata": {},
   "outputs": [
    {
     "data": {
      "text/html": [
       "<table border=\"1\" class=\"dataframe\">\n",
       "    <thead>\n",
       "        <tr>\n",
       "            <th>Gender</th> <th>Height</th>\n",
       "        </tr>\n",
       "    </thead>\n",
       "    <tbody>\n",
       "        <tr>\n",
       "            <td>f     </td> <td>160   </td>\n",
       "        </tr>\n",
       "        <tr>\n",
       "            <td>f     </td> <td>171.25</td>\n",
       "        </tr>\n",
       "        <tr>\n",
       "            <td>f     </td> <td>127   </td>\n",
       "        </tr>\n",
       "    </tbody>\n",
       "</table>\n",
       "<p>... (116 rows omitted)</p>"
      ],
      "text/plain": [
       "<IPython.core.display.HTML object>"
      ]
     },
     "metadata": {},
     "output_type": "display_data"
    },
    {
     "data": {
      "text/html": [
       "<table border=\"1\" class=\"dataframe\">\n",
       "    <thead>\n",
       "        <tr>\n",
       "            <th>Gender</th> <th>Height</th> <th>Binary Gender</th>\n",
       "        </tr>\n",
       "    </thead>\n",
       "    <tbody>\n",
       "        <tr>\n",
       "            <td>f     </td> <td>160   </td> <td>0            </td>\n",
       "        </tr>\n",
       "        <tr>\n",
       "            <td>f     </td> <td>171.25</td> <td>0            </td>\n",
       "        </tr>\n",
       "        <tr>\n",
       "            <td>f     </td> <td>127   </td> <td>0            </td>\n",
       "        </tr>\n",
       "    </tbody>\n",
       "</table>\n",
       "<p>... (116 rows omitted)</p>"
      ],
      "text/plain": [
       "<IPython.core.display.HTML object>"
      ]
     },
     "metadata": {},
     "output_type": "display_data"
    }
   ],
   "source": [
    "survey = Table.read_table(\"LogEx.csv\")\n",
    "\n",
    "survey.show(3)\n",
    "\n",
    "boolean_gender = survey.column(\"Gender\") == \"m\"\n",
    "\n",
    "survey = survey.with_column(\"Boolean Gender\", boolean_gender)\n",
    "\n",
    "survey = survey.with_column(\"Binary Gender\", survey.apply(my_to_binary, \"Boolean Gender\"))\n",
    "\n",
    "survey = survey.drop(\"Boolean Gender\")\n",
    "\n",
    "survey.show(3)"
   ]
  },
  {
   "cell_type": "code",
   "execution_count": 12,
   "metadata": {},
   "outputs": [
    {
     "name": "stdout",
     "output_type": "stream",
     "text": [
      "Optimization terminated successfully.\n",
      "         Current function value: 0.410577\n",
      "         Iterations 7\n",
      "                           Logit Regression Results                           \n",
      "==============================================================================\n",
      "Dep. Variable:                 Gender   No. Observations:                  119\n",
      "Model:                          Logit   Df Residuals:                      117\n",
      "Method:                           MLE   Df Model:                            1\n",
      "Date:                Thu, 30 Dec 2021   Pseudo R-squ.:                  0.3376\n",
      "Time:                        08:47:01   Log-Likelihood:                -48.859\n",
      "converged:                       True   LL-Null:                       -73.761\n",
      "                                        LLR p-value:                 1.699e-12\n",
      "==============================================================================\n",
      "                 coef    std err          z      P>|z|      [0.025      0.975]\n",
      "------------------------------------------------------------------------------\n",
      "Intercept    -30.8946      5.804     -5.323      0.000     -42.271     -19.518\n",
      "Height         0.1747      0.033      5.238      0.000       0.109       0.240\n",
      "==============================================================================\n"
     ]
    }
   ],
   "source": [
    "import statsmodels.formula.api as smf\n",
    "# Analysis of Variance (ANOVA) on linear models\n",
    "from statsmodels.stats.anova import anova_lm\n",
    "\n",
    "## Prepare the data in the necessary format over the next few lines\n",
    "\n",
    "Height = survey.column(\"Height\")\n",
    "Gender = survey.column(\"Binary Gender\")\n",
    "\n",
    "\n",
    "## On the next few lines, only edit the names of the arrays and variables\n",
    "logistic_model_data = pandas.DataFrame({'Height': Height, \"Gender\": Gender})\n",
    "logistic_model = smf.logit(\"Gender~Height\", data = logistic_model_data).fit()\n",
    "\n",
    "# Print the summary\n",
    "print(logistic_model.summary())"
   ]
  },
  {
   "cell_type": "code",
   "execution_count": 13,
   "metadata": {},
   "outputs": [
    {
     "data": {
      "image/png": "[encoded data removed]",
      "text/plain": [
       "<Figure size 432x288 with 1 Axes>"
      ]
     },
     "metadata": {},
     "output_type": "display_data"
    }
   ],
   "source": [
    "plots.scatter(Height, logistic_model.predict())\n",
    "plots.scatter(Height, Gender, color = \"red\")\n",
    "plots.ylabel(\"Probability Male\")\n",
    "plots.xlabel(\"Height\");"
   ]
  },
  {
   "cell_type": "code",
   "execution_count": 14,
   "metadata": {},
   "outputs": [
    {
     "data": {
      "image/png": "[encoded data removed]",
      "text/plain": [
       "<Figure size 432x288 with 1 Axes>"
      ]
     },
     "metadata": {},
     "output_type": "display_data"
    }
   ],
   "source": [
    "plots.scatter(Height, logistic_model.predict())\n",
    "plots.scatter(Height, Gender, color = \"red\")\n",
    "plots.ylabel(\"Probability Male\")\n",
    "plots.xlabel(\"Height\")\n",
    "plots.plot([120, 200], [0.5, 0.5], color=\"black\");"
   ]
  },
  {
   "cell_type": "code",
   "execution_count": 15,
   "metadata": {},
   "outputs": [
    {
     "name": "stderr",
     "output_type": "stream",
     "text": [
      "C:\\Users\\bbailey\\AppData\\Local\\Continuum\\anaconda3\\lib\\site-packages\\datascience\\tables.py:920: VisibleDeprecationWarning: Creating an ndarray from ragged nested sequences (which is a list-or-tuple of lists-or-tuples-or ndarrays with different lengths or shapes) is deprecated. If you meant to do this, you must specify 'dtype=object' when creating the ndarray\n",
      "  values = np.array(tuple(values))\n",
      "C:\\Users\\bbailey\\AppData\\Local\\Continuum\\anaconda3\\lib\\site-packages\\datascience\\tables.py:920: VisibleDeprecationWarning: Creating an ndarray from ragged nested sequences (which is a list-or-tuple of lists-or-tuples-or ndarrays with different lengths or shapes) is deprecated. If you meant to do this, you must specify 'dtype=object' when creating the ndarray\n",
      "  values = np.array(tuple(values))\n"
     ]
    },
    {
     "data": {
      "text/html": [
       "<table border=\"1\" class=\"dataframe\">\n",
       "    <thead>\n",
       "        <tr>\n",
       "            <th>Predictions</th> <th>0</th> <th>1</th>\n",
       "        </tr>\n",
       "    </thead>\n",
       "    <tbody>\n",
       "        <tr>\n",
       "            <td>0          </td> <td>75  </td> <td>12  </td>\n",
       "        </tr>\n",
       "        <tr>\n",
       "            <td>1          </td> <td>7   </td> <td>25  </td>\n",
       "        </tr>\n",
       "    </tbody>\n",
       "</table>"
      ],
      "text/plain": [
       "Predictions | 0    | 1\n",
       "0           | 75   | 12\n",
       "1           | 7    | 25"
      ]
     },
     "execution_count": 15,
     "metadata": {},
     "output_type": "execute_result"
    }
   ],
   "source": [
    "survey = survey.with_column(\"Boolean Predictions\", logistic_model.predict() >=0.5)\n",
    "survey = survey.with_column(\"Predictions\", survey.apply(my_to_binary, \"Boolean Predictions\"))\n",
    "survey.select(\"Binary Gender\", \"Predictions\").pivot(\"Binary Gender\", \"Predictions\")"
   ]
  },
  {
   "cell_type": "markdown",
   "metadata": {},
   "source": [
    "The number of **True Positives** is 25.\n",
    "\n",
    "The number of **False Positives** is 7.\n",
    "\n",
    "The number of **True Negatives** is 75.  \n",
    "\n",
    "The number of **False Negatives** is 12.  \n",
    "\n",
    "*Sensitivity* is the true positive rate.  $$Sensitivity = \\frac{True\\ Positives}{All\\ Real\\ Positives} $$\n",
    "\n",
    "So in this case, $\\displaystyle Sens = \\frac{25}{25+12} \\approx 0.676$.\n",
    "\n",
    "\n",
    "*Specificity* is the true negative rate.  $$Specificity = \\frac{True\\ Negatives}{All\\ Real\\ Negatives} $$\n",
    "\n",
    "In this case, $\\displaystyle Spec = \\frac{75}{75+7} \\approx 0.915$."
   ]
  },
  {
   "cell_type": "markdown",
   "metadata": {},
   "source": [
    "## Multiple Logistic Regression \n",
    "\n",
    "We can also do *multiple* logistic regression.  "
   ]
  },
  {
   "cell_type": "code",
   "execution_count": 16,
   "metadata": {},
   "outputs": [
    {
     "name": "stdout",
     "output_type": "stream",
     "text": [
      "Optimization terminated successfully.\n",
      "         Current function value: 0.630950\n",
      "         Iterations 5\n",
      "                           Logit Regression Results                           \n",
      "==============================================================================\n",
      "Dep. Variable:                 Smoker   No. Observations:                 1174\n",
      "Model:                          Logit   Df Residuals:                     1168\n",
      "Method:                           MLE   Df Model:                            5\n",
      "Date:                Thu, 30 Dec 2021   Pseudo R-squ.:                 0.05713\n",
      "Time:                        08:47:01   Log-Likelihood:                -740.74\n",
      "converged:                       True   LL-Null:                       -785.62\n",
      "                                        LLR p-value:                 7.526e-18\n",
      "===============================================================================\n",
      "                  coef    std err          z      P>|z|      [0.025      0.975]\n",
      "-------------------------------------------------------------------------------\n",
      "Intercept      -2.2807      1.978     -1.153      0.249      -6.158       1.596\n",
      "Baby_Weight    -0.0334      0.004     -8.190      0.000      -0.041      -0.025\n",
      "Mom_weight     -0.0059      0.004     -1.677      0.094      -0.013       0.001\n",
      "Mom_height      0.0829      0.028      2.914      0.004       0.027       0.139\n",
      "Days            0.0063      0.004      1.480      0.139      -0.002       0.015\n",
      "Age            -0.0197      0.011     -1.789      0.074      -0.041       0.002\n",
      "===============================================================================\n"
     ]
    }
   ],
   "source": [
    "import statsmodels.formula.api as sm\n",
    "# Analysis of Variance (ANOVA) on linear models\n",
    "from statsmodels.stats.anova import anova_lm\n",
    "\n",
    "## Prepare the data in the necessary format over the next few lines\n",
    "\n",
    "Height = births.column(\"Maternal Height\")\n",
    "Weight = births.column(\"Maternal Pregnancy Weight\")\n",
    "Baby_weight = births.column(\"Birth Weight\")\n",
    "Days = births.column(\"Gestational Days\")\n",
    "Age = births.column(\"Maternal Age\")\n",
    "Smoker = births.column(\"Smoker Binary\")\n",
    "\n",
    "\n",
    "## On the next few lines, only edit the names of the arrays and variables\n",
    "logistic_model_data = pandas.DataFrame({'Baby_Weight': Baby_weight, 'Mom_weight':Weight,\n",
    "                                       \"Mom_height\": Height, \"Days\":Days, \"Age\":Age,\n",
    "                                       \"Smoker\": Smoker})\n",
    "model1 = smf.logit(formula = \"Smoker~Baby_Weight + Mom_weight + Mom_height + Days + Age\", data = logistic_model_data).fit()\n",
    "\n",
    "# Print the summary\n",
    "print(model1.summary())"
   ]
  },
  {
   "cell_type": "code",
   "execution_count": 17,
   "metadata": {},
   "outputs": [
    {
     "name": "stdout",
     "output_type": "stream",
     "text": [
      "Optimization terminated successfully.\n",
      "         Current function value: 0.631893\n",
      "         Iterations 5\n",
      "                           Logit Regression Results                           \n",
      "==============================================================================\n",
      "Dep. Variable:                 Smoker   No. Observations:                 1174\n",
      "Model:                          Logit   Df Residuals:                     1169\n",
      "Method:                           MLE   Df Model:                            4\n",
      "Date:                Thu, 30 Dec 2021   Pseudo R-squ.:                 0.05572\n",
      "Time:                        08:47:01   Log-Likelihood:                -741.84\n",
      "converged:                       True   LL-Null:                       -785.62\n",
      "                                        LLR p-value:                 4.363e-18\n",
      "===============================================================================\n",
      "                  coef    std err          z      P>|z|      [0.025      0.975]\n",
      "-------------------------------------------------------------------------------\n",
      "Intercept      -0.7298      1.675     -0.436      0.663      -4.013       2.553\n",
      "Baby_Weight    -0.0310      0.004     -8.313      0.000      -0.038      -0.024\n",
      "Mom_weight     -0.0060      0.003     -1.705      0.088      -0.013       0.001\n",
      "Mom_height      0.0825      0.028      2.904      0.004       0.027       0.138\n",
      "Age            -0.0207      0.011     -1.885      0.059      -0.042       0.001\n",
      "===============================================================================\n"
     ]
    }
   ],
   "source": [
    "model2 = smf.logit(formula = \"Smoker~Baby_Weight + Mom_weight + Mom_height +  Age\", data = logistic_model_data).fit()\n",
    "\n",
    "# Print the summary\n",
    "print(model2.summary())"
   ]
  },
  {
   "cell_type": "code",
   "execution_count": 18,
   "metadata": {},
   "outputs": [
    {
     "name": "stdout",
     "output_type": "stream",
     "text": [
      "Optimization terminated successfully.\n",
      "         Current function value: 0.633156\n",
      "         Iterations 5\n",
      "                           Logit Regression Results                           \n",
      "==============================================================================\n",
      "Dep. Variable:                 Smoker   No. Observations:                 1174\n",
      "Model:                          Logit   Df Residuals:                     1170\n",
      "Method:                           MLE   Df Model:                            3\n",
      "Date:                Thu, 30 Dec 2021   Pseudo R-squ.:                 0.05383\n",
      "Time:                        08:47:01   Log-Likelihood:                -743.33\n",
      "converged:                       True   LL-Null:                       -785.62\n",
      "                                        LLR p-value:                 3.187e-18\n",
      "===============================================================================\n",
      "                  coef    std err          z      P>|z|      [0.025      0.975]\n",
      "-------------------------------------------------------------------------------\n",
      "Intercept      -0.0133      1.618     -0.008      0.993      -3.184       3.158\n",
      "Baby_Weight    -0.0313      0.004     -8.413      0.000      -0.039      -0.024\n",
      "Mom_height      0.0613      0.025      2.411      0.016       0.011       0.111\n",
      "Age            -0.0237      0.011     -2.192      0.028      -0.045      -0.003\n",
      "===============================================================================\n"
     ]
    }
   ],
   "source": [
    "model3 = smf.logit(formula = \"Smoker~Baby_Weight + Mom_height +  Age\", data = logistic_model_data).fit()\n",
    "\n",
    "# Print the summary\n",
    "print(model3.summary())"
   ]
  },
  {
   "cell_type": "code",
   "execution_count": 19,
   "metadata": {},
   "outputs": [
    {
     "data": {
      "text/plain": [
       "array([False, False, False, ..., False, False, False])"
      ]
     },
     "execution_count": 19,
     "metadata": {},
     "output_type": "execute_result"
    }
   ],
   "source": [
    "model3.predict() >=0.5"
   ]
  },
  {
   "cell_type": "code",
   "execution_count": 20,
   "metadata": {},
   "outputs": [
    {
     "name": "stderr",
     "output_type": "stream",
     "text": [
      "C:\\Users\\bbailey\\AppData\\Local\\Continuum\\anaconda3\\lib\\site-packages\\datascience\\tables.py:920: VisibleDeprecationWarning: Creating an ndarray from ragged nested sequences (which is a list-or-tuple of lists-or-tuples-or ndarrays with different lengths or shapes) is deprecated. If you meant to do this, you must specify 'dtype=object' when creating the ndarray\n",
      "  values = np.array(tuple(values))\n",
      "C:\\Users\\bbailey\\AppData\\Local\\Continuum\\anaconda3\\lib\\site-packages\\datascience\\tables.py:920: VisibleDeprecationWarning: Creating an ndarray from ragged nested sequences (which is a list-or-tuple of lists-or-tuples-or ndarrays with different lengths or shapes) is deprecated. If you meant to do this, you must specify 'dtype=object' when creating the ndarray\n",
      "  values = np.array(tuple(values))\n"
     ]
    },
    {
     "data": {
      "text/html": [
       "<table border=\"1\" class=\"dataframe\">\n",
       "    <thead>\n",
       "        <tr>\n",
       "            <th>Predictions</th> <th>False</th> <th>True</th>\n",
       "        </tr>\n",
       "    </thead>\n",
       "    <tbody>\n",
       "        <tr>\n",
       "            <td>False      </td> <td>630  </td> <td>323 </td>\n",
       "        </tr>\n",
       "        <tr>\n",
       "            <td>True       </td> <td>85   </td> <td>136 </td>\n",
       "        </tr>\n",
       "    </tbody>\n",
       "</table>"
      ],
      "text/plain": [
       "Predictions | False | True\n",
       "False       | 630   | 323\n",
       "True        | 85    | 136"
      ]
     },
     "execution_count": 20,
     "metadata": {},
     "output_type": "execute_result"
    }
   ],
   "source": [
    "births = births.with_column(\"Predictions\", model3.predict() >=0.5)\n",
    "births.select(\"Maternal Smoker\", \"Predictions\").pivot(\"Maternal Smoker\", \"Predictions\")"
   ]
  },
  {
   "cell_type": "markdown",
   "metadata": {},
   "source": [
    "The number of **True Positives** is 136; remember,  this is the number of predicted True's that really are True.\n",
    "\n",
    "The number of **False Positives** is 85; this is the number of predicted True's that are in fact False.\n",
    "\n",
    "The number of **True Negatives** is 630; this is the number of False predictions that are really False.  \n",
    "\n",
    "The number of **False Negatives** is 323; this is the number of False predictions that are really True.  \n",
    "\n",
    "*Sensitivity* is the true positive rate.  $$Sensitivity = \\frac{True\\ Positives}{All\\ Real\\ Positives} $$\n",
    "\n",
    "So in this case, $\\displaystyle Sens = \\frac{136}{136+323} \\approx 0.296$.\n",
    "\n",
    "\n",
    "*Specificity* is the true negative rate.  $$Specificity = \\frac{True\\ Negatives}{All\\ Real\\ Negatives} $$\n",
    "\n",
    "In this case, $\\displaystyle Spec = \\frac{630}{630 + 85} \\approx 0.881$.\n",
    "\n",
    "So this model has better Specificity than Sensitivity.  In general, there is usually a trade-off between these two.  It's rare to have a model with both Specificity and Sensitivity being high.  "
   ]
  },
  {
   "cell_type": "markdown",
   "metadata": {},
   "source": [
    "## Beyond Sensitivity and Specificity\n",
    "\n",
    "Sensitivity and Specificity are interesting but they are not the only things people might care about.  \n",
    "\n",
    "There's also:\n",
    "\n",
    "*Positive Predictive Value* If a prediction is positive, what is the probability the observation is really positive. \n",
    "\n",
    "$$PPV = \\frac{True\\ Positives}{True\\ Positives\\ + \\ False\\ Positives}$$\n",
    "\n",
    "*Negative Predictive Value* If a prediction is negative, what is the probability the observation is really negative.\n",
    "\n",
    "$$NPV = \\frac{True\\ Negatives}{True\\ Negatives\\ + \\ False\\ Negatives}$$\n",
    "\n",
    "There are even other measures that can be used to evaluate the quality of a predictive model, but for now, let's leave it with just these four.  \n",
    "\n",
    "\n",
    "## Discussion Questions\n",
    "\n",
    "Thinking about Sensitivity, Specificity, Positive Predictive Value and Negative Predictive Value, let's consider a medical test that is supposed to detect the presence of a disease.  Suppose the test isn't exactly perfect, like a logistic regression model, it looks at several factors and uses probability to determine if the test is positive (meaning the disease is present) or negative (meaning the disease is not present).  \n",
    "\n",
    "1.  Suppose the disease was extremely deadly, if left untreated, but is easy to treat once detected.  What's more important, a high Sensitivity or high Specificity?\n",
    "\n",
    "\n",
    "2.  Again, same disease: deadly when untreated, but easily treated.  What's more important, a high Positive Predictive Value or a Negative Predictive Value?\n",
    "\n",
    "\n",
    "3.  Suppose the disease isn't very deadly at all and if left untreated the patient could get better without medical intervention, and even if the patient doesn't recover on his or her own at some time in the future, the symptoms will become more obvious, at which point the medical professionals will recognize the disease and begin the treatment.  Furthermore, the treatment is either very painful or extremely expensive.  Now what's more important,  a high Sensitivity or high Specificity?\n",
    "\n",
    "\n",
    "4.  Same set up as 3, but this time what's more important, a high Positive Predictive Value or a Negative Predictive Value?\n",
    "\n",
    "\n",
    "5.  Suppose the disease is extremely rare, say it only effects 1 in 100,000 people.  But *if* a patient has the disease it's important that the patient know it and seek treatment.  Of these four qualities that a test may have which is the most important?\n",
    "\n",
    "## Changing the threshold\n",
    "\n",
    "Besides systematically including or excluding predictors from the logistic model, another way we can optimize the model is to change the threshold for classification as a \"1\".  \n",
    "\n",
    "Revisit the last model that we built to predict whether the mother was a smoker, and change the threshold first to 0.8, then to 0.2 and for both new thresholds:\n",
    "\n",
    "- recompute the confusion matrix\n",
    "- recompute Sensitivity and Specificity\n",
    "- recompute the Positive Predictive Value and the Negative Predictive Value\n",
    "\n"
   ]
  },
  {
   "cell_type": "markdown",
   "metadata": {},
   "source": [
    "## Assumptions of Logistic Regression\n",
    "\n",
    "Before getting into the assumptions, first let me explain something else that will make the assumption seem more obvious.  That is, what is a Generalized Linear Model?\n",
    "\n",
    "In its simplest form a generalized linear model (glm) is used in a situation where the outcome does not initially have a linear relationship with its predictors, *but* if we apply some function or transformation to the outcome variable, *then* it does. Logistic regression is a form of generalized linear models.  \n",
    "\n",
    "Recall, that the relationship between $\\hat{p}$ and $x$ in a logistic model is this:\n",
    "\n",
    "$$ \\hat{p} = \\frac{e^{\\beta_0 + \\beta_1 x}}{1+ e^{\\beta_0 + \\beta_1 x}} $$\n",
    "\n",
    "The right side of that equation is NOT linear at all.  But the right side of this is:\n",
    "\n",
    "$$\\ln\\left(\\frac{\\hat{p}}{1-\\hat{p}}\\right) = \\beta_0 + \\beta_1 x $$\n",
    "\n",
    "Generalized linear models utilize what is known as a link function, to turn the outcome into something that is linearly related to the assumed predictors.  In the case of logistic regression, that link function is the logit, $\\displaystyle \\ln\\left(\\frac{x}{1-x}\\right)$; other glm's use other link functions.  Any discussion of this topic beyond what has been mentioned thus far is beyond the scope of this course, but if your interested and want to learn more you could later take an advanced course in regression. \n",
    "\n",
    "However, having explained the above, we can now simply state that the assumptions of logistic regression are essentially the same as the assumptions of linear regression, however, those assumptions are applied to $\\displaystyle \\ln\\left(\\frac{\\hat{p}}{1-\\hat{p}}\\right) = \\beta_0 + \\beta_1 x $ instead of $\\displaystyle \\hat{y} = \\beta_0 + \\beta_1 x $.\n",
    "\n",
    "   1. Linear relationship, but between $\\displaystyle \\ln\\left(\\frac{p}{1-p}\\right) $ and predictors\n",
    "    \n",
    "   2. Residuals are normal with constant variance\n",
    "    \n",
    "   3. Independence between observations (no autocorrelation)"
   ]
  },
  {
   "cell_type": "code",
   "execution_count": null,
   "metadata": {},
   "outputs": [],
   "source": []
  }
 ],
 "metadata": {
  "kernelspec": {
   "display_name": "Python 3",
   "language": "python",
   "name": "python3"
  },
  "language_info": {
   "codemirror_mode": {
    "name": "ipython",
    "version": 3
   },
   "file_extension": ".py",
   "mimetype": "text/x-python",
   "name": "python",
   "nbconvert_exporter": "python",
   "pygments_lexer": "ipython3",
   "version": "3.6.5"
  }
 },
 "nbformat": 4,
 "nbformat_minor": 2
}
