{
 "cells": [
  {
   "cell_type": "markdown",
   "metadata": {},
   "source": [
    "#                        Traditional Hypothesis Tests\n",
    "##                             And How to Run Them in Python"
   ]
  },
  {
   "cell_type": "markdown",
   "metadata": {},
   "source": [
    "Below you will find examples of the traditional hypothesis tests and analyses typically taught in an Intro Stat course.  Each cell is self-contained, which means that I reload the modules necessary for each test over and over again.  However, it also means that you can simply copy & paste an entire cell when you try to replicate something that is demonstrated here.  \n",
    "\n",
    "This is just a guide with some code for you to copy.  No explanations are given here."
   ]
  },
  {
   "cell_type": "code",
   "execution_count": 2,
   "metadata": {},
   "outputs": [],
   "source": [
    "from datascience import *\n",
    "import numpy as np\n",
    "import scipy.stats\n",
    "%matplotlib inline\n",
    "import matplotlib.pyplot as plots\n",
    "plots.style.use('fivethirtyeight')\n",
    "\n",
    "## Need some data to use in examples\n",
    "\n",
    "births = Table.read_table('baby.csv')\n",
    "counties = Table.read_table('counties.csv')\n",
    "crime = Table.read_table('crime_rates.csv')"
   ]
  },
  {
   "cell_type": "markdown",
   "metadata": {},
   "source": [
    "# Two Sample T-test\n",
    "\n",
    "Used to compare means of two samples.\n",
    "\n",
    "Accepts directed alternatives.  "
   ]
  },
  {
   "cell_type": "code",
   "execution_count": 2,
   "metadata": {},
   "outputs": [
    {
     "name": "stdout",
     "output_type": "stream",
     "text": [
      "Results of 2-Sample T-test\n",
      "The test statistic is t = -8.626464445756927, and p-value = 2.6564639952299482e-17.\n"
     ]
    }
   ],
   "source": [
    "# Two Sample T-test\n",
    "\n",
    "group1 = births.where(\"Maternal Smoker\", True).column(\"Birth Weight\")\n",
    "group2 = births.where(\"Maternal Smoker\", False).column(\"Birth Weight\")\n",
    "\n",
    "Results = scipy.stats.ttest_ind(group1, group2, equal_var = False)  # Default is two-tailed test\n",
    "\n",
    "# For a directed alternative, uncomment the one below with the correct direction.\n",
    "\n",
    "#Results = scipy.stats.ttest_ind(group1, group2, equal_var = False, alternative =\"greater\")\n",
    "\n",
    "#Results = scipy.stats.ttest_ind(group1, group2, equal_var = False, alternative =\"less\")\n",
    "\n",
    "print(\"Results of 2-Sample T-test\")\n",
    "\n",
    "print(f\"The test statistic is t = {Results[0]}, and p-value = {Results[1]}.\")\n"
   ]
  },
  {
   "cell_type": "markdown",
   "metadata": {},
   "source": [
    "# Matched Pairs T-test\n",
    "\n",
    "Used to look for differences when sampling the same group twice.\n",
    "\n",
    "Accepts a directed alternative."
   ]
  },
  {
   "cell_type": "code",
   "execution_count": 3,
   "metadata": {},
   "outputs": [
    {
     "name": "stdout",
     "output_type": "stream",
     "text": [
      "Results of Matched Pairs T-test\n",
      "The test statistic is t = 1.8652219662926406, and p-value = 0.06898323125568474.\n"
     ]
    }
   ],
   "source": [
    "# Matched Pairs T-test\n",
    "\n",
    "GA = crime.where(\"State\", \"Georgia\").sort(\"Year\").column(\"Murder Rate\")  ## In this example\n",
    "AL = crime.where(\"State\", \"Alabama\").sort(\"Year\").column(\"Murder Rate\")  ## they are matched by year\n",
    "\n",
    "import scipy.stats\n",
    "Results = scipy.stats.ttest_rel(GA, AL)  # Change to groups defined above\n",
    "\n",
    "# For a directed alternative, uncomment the one below with the correct direction.\n",
    "\n",
    "#Results = scipy.stats.ttest_rel(GA, AL, alternative = \"greater\")\n",
    "\n",
    "#Results = scipy.stats.ttest_rel(GA, AL, alternative = \"less\")\n",
    "\n",
    "\n",
    "print(\"Results of Matched Pairs T-test\")\n",
    "\n",
    "print(f\"The test statistic is t = {Results[0]}, and p-value = {Results[1]}.\")"
   ]
  },
  {
   "cell_type": "markdown",
   "metadata": {},
   "source": [
    "# Chi-squared test for Independence\n",
    "\n",
    "Used to look for associations between categorical data.  Data must be arranged in an array, as a two-way table.  \n",
    "\n",
    "Suppose you wanted to run a $\\chi^2$ test for independence on this table:\n",
    " \n",
    " <table> \n",
    "    <tr>\n",
    "        <th>14 </th>\n",
    "        <th>2 </th>\n",
    "    </tr>\n",
    "    <tr>\n",
    "        <th>6 </th>\n",
    "        <th>9 </th>\n",
    "    </tr>\n",
    "        </table>\n",
    " "
   ]
  },
  {
   "cell_type": "code",
   "execution_count": 4,
   "metadata": {},
   "outputs": [
    {
     "name": "stdout",
     "output_type": "stream",
     "text": [
      "Chi-Square =  5.696396780303031\n",
      "p-value =  0.016999777502603477\n",
      "degrees of freedom =  1\n",
      "Expected Table = \n",
      "[[10.32258065  5.67741935]\n",
      " [ 9.67741935  5.32258065]]\n",
      "Reminder: No zero cells, and not more than 20% with counts below 5 in Expected Table.\n"
     ]
    }
   ],
   "source": [
    "# Chi-squared test for independence\n",
    "import numpy as np\n",
    "obs = np.array([[14, 2], [6,9]])  # Put data into array structure\n",
    "\n",
    "import scipy.stats\n",
    "Results = scipy.stats.chi2_contingency(obs)\n",
    "\n",
    "## Don't change anything below this line\n",
    "\n",
    "print(\"Chi-Square = \", Results[0])\n",
    "print(\"p-value = \", Results[1])\n",
    "print(\"degrees of freedom = \", Results[2])\n",
    "print(\"Expected Table = \")\n",
    "print(Results[3])\n",
    "\n",
    "print(\"Reminder: No zero cells, and not more than 20% with counts below 5 in Expected Table.\")\n",
    "\n"
   ]
  },
  {
   "cell_type": "markdown",
   "metadata": {},
   "source": [
    "# Chi-squared Test for Goodness-of-Fit\n",
    "\n",
    "Used to test is sample counts fit an expected count based on assumed population proportions.  \n"
   ]
  },
  {
   "cell_type": "code",
   "execution_count": 5,
   "metadata": {},
   "outputs": [
    {
     "name": "stdout",
     "output_type": "stream",
     "text": [
      "Results of Chi-squared GoF Test\n",
      "The test statistic is Chi^2 = 12.823076923076922, and p-value = 0.025094358777833156.\n"
     ]
    }
   ],
   "source": [
    "# Chi-squared goodness-of-fit\n",
    "\n",
    "obs_counts = make_array(24, 20, 18, 5, 7, 1)  # Test is expecting COUNTS!\n",
    "total = sum(obs_counts)\n",
    "\n",
    "pred_counts = make_array(.24, .20, .15, .13, .13, .05)*total  # Turn proportions into COUNTS!\n",
    "\n",
    "import scipy.stats\n",
    "Results = scipy.stats.chisquare(obs_counts, pred_counts)\n",
    "\n",
    "print(\"Results of Chi-squared GoF Test\")\n",
    "\n",
    "print(f\"The test statistic is Chi^2 = {Results[0]}, and p-value = {Results[1]}.\")\n"
   ]
  },
  {
   "cell_type": "markdown",
   "metadata": {},
   "source": [
    "# Binomial Test\n",
    "\n",
    "Used to test for differences in proportions with two groups.\n",
    "\n",
    "To run this test, you designate one group \"success\" and count successes as well as trials.  \n",
    "\n",
    "Accepts a directed alternative."
   ]
  },
  {
   "cell_type": "code",
   "execution_count": 6,
   "metadata": {},
   "outputs": [
    {
     "name": "stdout",
     "output_type": "stream",
     "text": [
      "Binomial Test Results: The p-value = 0.14233173709397484\n"
     ]
    }
   ],
   "source": [
    "import scipy.stats\n",
    "\n",
    "successes = 150\n",
    "\n",
    "trials = 200\n",
    "\n",
    "null_probability = 0.7\n",
    "\n",
    "pval = scipy.stats.binom_test(successes, trials, null_probability)\n",
    "\n",
    "# For a directed alternative, uncomment the one below with the correct direction.\n",
    "\n",
    "#pval = scipy.stats.binom_test(successes, trials, null_probability, alternative = \"greater\")\n",
    "\n",
    "#pval = scipy.stats.binom_test(successes, trials, null_probability, alternative = \"less\")\n",
    "\n",
    "\n",
    "print(f\"Binomial Test Results: The p-value = {pval}\")"
   ]
  },
  {
   "cell_type": "markdown",
   "metadata": {},
   "source": [
    "# Correlation and Linear Regression\n"
   ]
  },
  {
   "cell_type": "code",
   "execution_count": 7,
   "metadata": {},
   "outputs": [
    {
     "name": "stdout",
     "output_type": "stream",
     "text": [
      "Correlation = 0.15592327018706933\n"
     ]
    }
   ],
   "source": [
    "# Correlation\n",
    "\n",
    "mom_weight = births.column(\"Maternal Pregnancy Weight\")  # Make two arrays of numbers\n",
    "baby_weight = births.column(\"Birth Weight\")              # one for x and one for y\n",
    "\n",
    "import scipy.stats\n",
    "Results = scipy.stats.pearsonr(mom_weight, baby_weight)\n",
    "\n",
    "print(f\"Correlation = {Results[0]}\")"
   ]
  },
  {
   "cell_type": "code",
   "execution_count": 8,
   "metadata": {},
   "outputs": [
    {
     "name": "stdout",
     "output_type": "stream",
     "text": [
      "Intercept = 101.75392786147968 and slope = 0.1378329069747063\n",
      "P-value for Slope =7.887284473933167e-08\n",
      "Correlation = 0.15592327018706933\n"
     ]
    }
   ],
   "source": [
    "# Linear Regression\n",
    "\n",
    "mom_weight = births.column(\"Maternal Pregnancy Weight\")  # Make two arrays of numbers\n",
    "baby_weight = births.column(\"Birth Weight\")              # one for x and one for y\n",
    "\n",
    "import scipy.stats\n",
    "Results = scipy.stats.linregress(mom_weight, baby_weight)\n",
    "\n",
    "print(f\"Intercept = {Results[1]} and slope = {Results[0]}\")\n",
    "print(f\"P-value for Slope ={Results[3]}\")\n",
    "print(f\"Correlation = {Results[2]}\")"
   ]
  },
  {
   "cell_type": "markdown",
   "metadata": {},
   "source": [
    "A scatterplot featuring the linear regression line is often included with linear regression analysis. "
   ]
  },
  {
   "cell_type": "code",
   "execution_count": 9,
   "metadata": {},
   "outputs": [
    {
     "data": {
      "image/png": "[encoded data removed]",
      "text/plain": [
       "<Figure size 360x360 with 1 Axes>"
      ]
     },
     "metadata": {},
     "output_type": "display_data"
    }
   ],
   "source": [
    "mom_weight = births.column(\"Maternal Pregnancy Weight\")  # Make two arrays of numbers\n",
    "baby_weight = births.column(\"Birth Weight\")              # one for x and one for y\n",
    "\n",
    "%matplotlib inline\n",
    "import matplotlib.pyplot as plots\n",
    "plots.style.use('fivethirtyeight')\n",
    "from datascience import *\n",
    "\n",
    "Weights = Table().with_columns(\"Mothers Weight\", mom_weight, \"Babys Weight\", baby_weight)\n",
    "\n",
    "Weights.scatter(\"Mothers Weight\", fit_line=True)"
   ]
  },
  {
   "cell_type": "markdown",
   "metadata": {},
   "source": [
    "# One Sample T-test\n",
    "\n",
    "Used to compare the mean of a single sample to an assumed population mean."
   ]
  },
  {
   "cell_type": "code",
   "execution_count": 10,
   "metadata": {},
   "outputs": [
    {
     "name": "stdout",
     "output_type": "stream",
     "text": [
      "Results of 1-Sample T-test\n",
      "The test statistic is t = -1.004764597798588, and p-value = 0.31521743438725197.\n"
     ]
    }
   ],
   "source": [
    "# One Sample T-test\n",
    "\n",
    "sample = births.column(\"Birth Weight\")\n",
    "null_mean = 120\n",
    "\n",
    "import scipy.stats\n",
    "Results = scipy.stats.ttest_1samp(sample, null_mean)\n",
    "\n",
    "# For a directed alternative uncomment the appropriate line below\n",
    "\n",
    "#Results = scipy.stats.ttest_1samp(sample, null_mean, alternative =\"greater\")\n",
    "\n",
    "#Results = scipy.stats.ttest_1samp(sample, null_mean, alternative =\"less\")\n",
    "\n",
    "print(\"Results of 1-Sample T-test\")\n",
    "print(f\"The test statistic is t = {Results[0]}, and p-value = {Results[1]}.\")\n",
    "\n"
   ]
  },
  {
   "cell_type": "markdown",
   "metadata": {},
   "source": [
    "# Multiple Regression"
   ]
  },
  {
   "cell_type": "code",
   "execution_count": 12,
   "metadata": {},
   "outputs": [
    {
     "data": {
      "text/plain": [
       "array([284, 282, 279, ..., 291, 281, 297])"
      ]
     },
     "execution_count": 12,
     "metadata": {},
     "output_type": "execute_result"
    }
   ],
   "source": [
    "days = births.column('Gestational Days')\n",
    "\n",
    "days"
   ]
  },
  {
   "cell_type": "code",
   "execution_count": 15,
   "metadata": {},
   "outputs": [
    {
     "data": {
      "text/plain": [
       "array([[  1, 100, 284],\n",
       "       [  1, 135, 282],\n",
       "       [  1, 115, 279],\n",
       "       ...,\n",
       "       [  1, 150, 291],\n",
       "       [  1, 110, 281],\n",
       "       [  1, 129, 297]])"
      ]
     },
     "execution_count": 15,
     "metadata": {},
     "output_type": "execute_result"
    }
   ],
   "source": [
    "ones = np.repeat(([1]), len(mom_weight))\n",
    "X = np.transpose(np.concatenate([ones, mom_weight, days]).reshape(3, len(mom_weight)))\n",
    "X"
   ]
  },
  {
   "cell_type": "code",
   "execution_count": 22,
   "metadata": {},
   "outputs": [
    {
     "name": "stderr",
     "output_type": "stream",
     "text": [
      "<ipython-input-22-5a6616b37dc8>:1: FutureWarning: `rcond` parameter will change to the default of machine precision times ``max(M, N)`` where M and N are the input matrix dimensions.\n",
      "To use the future default and silence this warning we advise to pass `rcond=None`, to keep using the old, explicitly pass `rcond=-1`.\n",
      "  results = np.linalg.lstsq(X, baby_weight);\n"
     ]
    }
   ],
   "source": [
    "results = np.linalg.lstsq(X, baby_weight);"
   ]
  },
  {
   "cell_type": "code",
   "execution_count": 17,
   "metadata": {},
   "outputs": [
    {
     "data": {
      "text/plain": [
       "array([-26.27090399,   0.12938339,   0.46259328])"
      ]
     },
     "execution_count": 17,
     "metadata": {},
     "output_type": "execute_result"
    }
   ],
   "source": [
    "results[0]"
   ]
  },
  {
   "cell_type": "code",
   "execution_count": 18,
   "metadata": {},
   "outputs": [
    {
     "data": {
      "text/plain": [
       "array([320171.29951082])"
      ]
     },
     "execution_count": 18,
     "metadata": {},
     "output_type": "execute_result"
    }
   ],
   "source": [
    "results[1]"
   ]
  },
  {
   "cell_type": "code",
   "execution_count": 19,
   "metadata": {},
   "outputs": [
    {
     "data": {
      "text/plain": [
       "3"
      ]
     },
     "execution_count": 19,
     "metadata": {},
     "output_type": "execute_result"
    }
   ],
   "source": [
    "results[2]"
   ]
  },
  {
   "cell_type": "code",
   "execution_count": 20,
   "metadata": {},
   "outputs": [
    {
     "data": {
      "text/plain": [
       "array([1.05439657e+04, 6.79428706e+02, 1.86187817e+00])"
      ]
     },
     "execution_count": 20,
     "metadata": {},
     "output_type": "execute_result"
    }
   ],
   "source": [
    "results[3]"
   ]
  },
  {
   "cell_type": "code",
   "execution_count": 28,
   "metadata": {},
   "outputs": [
    {
     "data": {
      "text/plain": [
       "(array([-26.27090399,   0.12938339,   0.46259328]),\n",
       " array([320171.29951082]),\n",
       " 3,\n",
       " array([1.05439657e+04, 6.79428706e+02, 1.86187817e+00]))"
      ]
     },
     "execution_count": 28,
     "metadata": {},
     "output_type": "execute_result"
    }
   ],
   "source": [
    "results"
   ]
  },
  {
   "cell_type": "code",
   "execution_count": 25,
   "metadata": {},
   "outputs": [],
   "source": [
    "#help(np.linalg.lstsq)"
   ]
  },
  {
   "cell_type": "code",
   "execution_count": 27,
   "metadata": {},
   "outputs": [
    {
     "data": {
      "text/plain": [
       "(array([-26.27090399,   0.12938339,   0.46259328]),\n",
       " 320171.2995108162,\n",
       " 3,\n",
       " array([1.05439657e+04, 6.79428706e+02, 1.86187817e+00]))"
      ]
     },
     "execution_count": 27,
     "metadata": {},
     "output_type": "execute_result"
    }
   ],
   "source": [
    "scipy.linalg.lstsq(X, baby_weight)"
   ]
  },
  {
   "cell_type": "code",
   "execution_count": 29,
   "metadata": {},
   "outputs": [],
   "source": [
    "def f(x1, x2):\n",
    "    return -26.27090399 + 0.12938339*x1 + 0.46259328*x2"
   ]
  },
  {
   "cell_type": "code",
   "execution_count": 31,
   "metadata": {},
   "outputs": [
    {
     "data": {
      "text/plain": [
       "array([ -1.95607347,   8.64715862, -10.32828902, ...,  -2.24875101,\n",
       "        -7.05001941,  10.80975748])"
      ]
     },
     "execution_count": 31,
     "metadata": {},
     "output_type": "execute_result"
    }
   ],
   "source": [
    "f(mom_weight, days)- baby_weight"
   ]
  },
  {
   "cell_type": "code",
   "execution_count": 32,
   "metadata": {},
   "outputs": [
    {
     "data": {
      "image/png": "[encoded data removed]",
      "text/plain": [
       "<Figure size 432x288 with 1 Axes>"
      ]
     },
     "metadata": {},
     "output_type": "display_data"
    }
   ],
   "source": [
    "Table().with_column(\"Residuals\", f(mom_weight, days)- baby_weight).hist()"
   ]
  },
  {
   "cell_type": "markdown",
   "metadata": {},
   "source": [
    "# Polynomial Regression"
   ]
  },
  {
   "cell_type": "code",
   "execution_count": 46,
   "metadata": {},
   "outputs": [
    {
     "data": {
      "image/png": "[encoded data removed]",
      "text/plain": [
       "<Figure size 360x360 with 1 Axes>"
      ]
     },
     "metadata": {},
     "output_type": "display_data"
    }
   ],
   "source": [
    "X2 = np.arange(-5, 10, .2)\n",
    "\n",
    "Y = 10 + 3*X2 + 5*X2**2\n",
    "\n",
    "Table().with_columns(\"X\",X2,\"Y\",Y).scatter(\"X\")\n"
   ]
  },
  {
   "cell_type": "code",
   "execution_count": 47,
   "metadata": {},
   "outputs": [],
   "source": [
    "ones = np.repeat(([1]), len(X2))\n",
    "Xgroup = np.transpose(np.concatenate([ones, X2, X2**2]).reshape(3, len(X2)))\n",
    "#Xgroup"
   ]
  },
  {
   "cell_type": "code",
   "execution_count": 48,
   "metadata": {},
   "outputs": [
    {
     "data": {
      "text/plain": [
       "(array([10.,  3.,  5.]),\n",
       " 4.796642468041478e-26,\n",
       " 3,\n",
       " array([315.9402711 ,  23.83373803,   6.2605136 ]))"
      ]
     },
     "execution_count": 48,
     "metadata": {},
     "output_type": "execute_result"
    }
   ],
   "source": [
    "scipy.linalg.lstsq(Xgroup, Y)"
   ]
  },
  {
   "cell_type": "code",
   "execution_count": 49,
   "metadata": {},
   "outputs": [],
   "source": [
    "def f(x1, x2):\n",
    "    return 10 + 3*x1 +5*x2"
   ]
  },
  {
   "cell_type": "code",
   "execution_count": 53,
   "metadata": {},
   "outputs": [
    {
     "data": {
      "text/plain": [
       "<matplotlib.collections.PathCollection at 0x7eff5d4effd0>"
      ]
     },
     "execution_count": 53,
     "metadata": {},
     "output_type": "execute_result"
    },
    {
     "data": {
      "image/png": "[encoded data removed]",
      "text/plain": [
       "<Figure size 432x432 with 1 Axes>"
      ]
     },
     "metadata": {},
     "output_type": "display_data"
    }
   ],
   "source": [
    "Table().with_columns(\"X\",X2, \"Pred_Y\", f(X2, X2**2)).plot(\"X\")\n",
    "plots.scatter(X2, Y, color=\"r\")"
   ]
  },
  {
   "cell_type": "code",
   "execution_count": 21,
   "metadata": {},
   "outputs": [
    {
     "data": {
      "text/plain": [
       "array([2.66, 2.19, 2.8 , 2.71, 2.21, 2.99, 2.65, 2.81, 2.46, 2.22, 2.5 ,\n",
       "       3.1 , 2.16, 2.19, 2.55, 2.62, 3.18, 3.05, 2.19, 2.22, 2.64, 1.82,\n",
       "       2.56, 1.42, 2.18, 3.19, 2.76, 3.06, 2.87, 1.87, 2.46, 1.95, 2.21,\n",
       "       2.82, 3.01, 2.53, 2.57, 3.39, 3.1 , 2.58, 2.19, 2.9 , 2.62, 1.87,\n",
       "       2.8 , 2.25, 2.45, 3.08, 2.35, 2.23, 3.77, 2.23, 1.23, 2.8 , 3.48,\n",
       "       2.32, 2.54, 3.04, 2.41, 3.16, 2.35, 3.21, 2.35, 2.84, 2.84, 2.68,\n",
       "       2.74, 2.7 , 3.44, 3.08, 1.86, 3.06, 2.28, 2.7 , 1.64, 2.85, 2.88,\n",
       "       2.38, 1.87, 2.03, 3.69, 1.91, 2.71, 2.9 , 2.95, 2.1 , 3.14, 3.16,\n",
       "       2.1 , 1.58, 3.01, 2.98, 2.32, 2.9 , 2.81, 2.43, 2.64, 2.81, 2.89,\n",
       "       3.11, 2.59, 3.04, 2.99, 2.13, 2.96, 2.23, 3.63, 2.53, 3.29, 2.14,\n",
       "       2.45, 2.25, 2.69, 2.18, 2.32, 3.04, 3.29, 2.7 , 2.75, 3.09, 1.84,\n",
       "       2.78, 2.48, 3.  , 2.28])"
      ]
     },
     "execution_count": 21,
     "metadata": {},
     "output_type": "execute_result"
    }
   ],
   "source": [
    "#help(np.random.normal)\n",
    "\n",
    "College_GPA  = np.round(np.random.normal(2.6, 0.5, 125), 2)\n",
    "College_GPA"
   ]
  },
  {
   "cell_type": "code",
   "execution_count": 17,
   "metadata": {},
   "outputs": [
    {
     "data": {
      "text/plain": [
       "array([3.06, 4.  , 2.8 , 2.83, 3.14, 2.97, 2.72, 2.52, 3.86, 3.6 , 3.57,\n",
       "       3.26, 2.97, 2.54, 2.97, 3.34, 2.6 , 2.83, 2.8 , 3.8 , 2.06, 3.37,\n",
       "       3.23, 3.57, 2.23, 3.52, 3.03, 3.26, 2.63, 3.03, 3.57, 2.97, 2.6 ,\n",
       "       2.66, 2.46, 2.86, 2.77, 2.92, 3.09, 2.8 , 3.37, 2.69, 2.8 , 3.57,\n",
       "       2.83, 3.92, 3.12, 3.06, 3.06, 3.29, 3.  , 3.54, 2.89, 2.63, 2.86,\n",
       "       2.74, 2.6 , 3.57, 2.66, 2.69, 2.86, 2.92, 3.23, 3.4 , 3.14, 2.66,\n",
       "       3.09, 3.6 , 3.43, 3.17, 2.57, 3.4 , 3.69, 3.14, 3.23, 2.66, 2.72,\n",
       "       3.29, 3.34, 2.77, 2.77, 3.57, 3.  , 3.49, 3.2 , 3.46, 3.12, 3.43,\n",
       "       3.32, 2.74, 3.72, 2.94, 3.6 , 2.92, 3.12, 2.8 , 3.17, 2.37, 3.34,\n",
       "       2.74, 3.09, 2.69, 3.09, 2.43, 2.6 , 2.57, 2.83, 2.83, 3.03, 2.92,\n",
       "       3.14, 3.14, 2.77, 3.83, 3.8 , 3.26, 2.8 , 2.49, 2.8 , 3.37, 2.46,\n",
       "       3.34, 3.32, 3.03, 2.23])"
      ]
     },
     "execution_count": 17,
     "metadata": {},
     "output_type": "execute_result"
    }
   ],
   "source": [
    "GPA = np.round(IQ/35, 2)\n",
    "GPA = 4.0 - max(GPA)+GPA\n",
    "GPA"
   ]
  },
  {
   "cell_type": "code",
   "execution_count": 1,
   "metadata": {},
   "outputs": [
    {
     "ename": "NameError",
     "evalue": "name 'percentile' is not defined",
     "output_type": "error",
     "traceback": [
      "\u001b[0;31m---------------------------------------------------------------------------\u001b[0m",
      "\u001b[0;31mNameError\u001b[0m                                 Traceback (most recent call last)",
      "\u001b[0;32m<ipython-input-1-4791a2374a46>\u001b[0m in \u001b[0;36m<module>\u001b[0;34m\u001b[0m\n\u001b[0;32m----> 1\u001b[0;31m \u001b[0mhelp\u001b[0m\u001b[0;34m(\u001b[0m\u001b[0mpercentile\u001b[0m\u001b[0;34m)\u001b[0m\u001b[0;34m\u001b[0m\u001b[0;34m\u001b[0m\u001b[0m\n\u001b[0m",
      "\u001b[0;31mNameError\u001b[0m: name 'percentile' is not defined"
     ]
    }
   ],
   "source": [
    "help(percentile)"
   ]
  },
  {
   "cell_type": "code",
   "execution_count": null,
   "metadata": {},
   "outputs": [],
   "source": [
    "orig_sample = Table().read_table(\"Sample.csv\")\n",
    "\n",
    "new_means = make_array()\n",
    "\n",
    "for i in np.arange(1000):\n",
    "    new_mean = np.average(new_means.sample().column(\"Weight\"))\n",
    "    new_means = np.append(new_means, new_mean)\n",
    "\n",
    "Lower_bd = percentile(2.5, new_means)\n",
    "Upper_bd = percentile(97.5, new_means)\n",
    "\n",
    "print(f\"The 95% confidence interval is from {Lower_bd} to {Upper_bd}\")\n"
   ]
  }
 ],
 "metadata": {
  "kernelspec": {
   "display_name": "Python 3",
   "language": "python",
   "name": "python3"
  },
  "language_info": {
   "codemirror_mode": {
    "name": "ipython",
    "version": 3
   },
   "file_extension": ".py",
   "mimetype": "text/x-python",
   "name": "python",
   "nbconvert_exporter": "python",
   "pygments_lexer": "ipython3",
   "version": "3.8.6"
  }
 },
 "nbformat": 4,
 "nbformat_minor": 4
}
