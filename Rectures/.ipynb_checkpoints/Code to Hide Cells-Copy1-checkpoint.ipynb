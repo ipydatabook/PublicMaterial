{
 "cells": [
  {
   "cell_type": "code",
   "execution_count": 1,
   "metadata": {},
   "outputs": [
    {
     "data": {
      "text/html": [
       "<table border=\"1\" class=\"dataframe\">\n",
       "    <thead>\n",
       "        <tr>\n",
       "            <th>vehicle</th> <th>year</th> <th>msrp</th> <th>acceleration</th> <th>mpg</th> <th>class</th>\n",
       "        </tr>\n",
       "    </thead>\n",
       "    <tbody>\n",
       "        <tr>\n",
       "            <td>Prius (1st Gen)</td> <td>1997</td> <td>24509.7</td> <td>7.46        </td> <td>41.26</td> <td>Compact</td>\n",
       "        </tr>\n",
       "        <tr>\n",
       "            <td>Tino           </td> <td>2000</td> <td>35355  </td> <td>8.2         </td> <td>54.1 </td> <td>Compact</td>\n",
       "        </tr>\n",
       "        <tr>\n",
       "            <td>Prius (2nd Gen)</td> <td>2000</td> <td>26832.2</td> <td>7.97        </td> <td>45.23</td> <td>Compact</td>\n",
       "        </tr>\n",
       "        <tr>\n",
       "            <td>Civic (1st Gen)</td> <td>2001</td> <td>25833.4</td> <td>7.04        </td> <td>47.04</td> <td>Compact</td>\n",
       "        </tr>\n",
       "        <tr>\n",
       "            <td>Alphard        </td> <td>2003</td> <td>38084.8</td> <td>8.33        </td> <td>40.46</td> <td>Minivan</td>\n",
       "        </tr>\n",
       "        <tr>\n",
       "            <td>Civic          </td> <td>2003</td> <td>14071.9</td> <td>8.62        </td> <td>41   </td> <td>Compact</td>\n",
       "        </tr>\n",
       "        <tr>\n",
       "            <td>Escape         </td> <td>2004</td> <td>36676.1</td> <td>10.32       </td> <td>31.99</td> <td>SUV    </td>\n",
       "        </tr>\n",
       "        <tr>\n",
       "            <td>Lexus RX400h   </td> <td>2005</td> <td>58521.1</td> <td>12.76       </td> <td>28.23</td> <td>SUV    </td>\n",
       "        </tr>\n",
       "        <tr>\n",
       "            <td>Civic (2nd Gen)</td> <td>2005</td> <td>26354.4</td> <td>7.63        </td> <td>39.99</td> <td>Compact</td>\n",
       "        </tr>\n",
       "        <tr>\n",
       "            <td>Highlander     </td> <td>2005</td> <td>29186.2</td> <td>12.76       </td> <td>29.4 </td> <td>SUV    </td>\n",
       "        </tr>\n",
       "    </tbody>\n",
       "</table>\n",
       "<p>... (65 rows omitted)</p>"
      ],
      "text/plain": [
       "vehicle         | year | msrp    | acceleration | mpg   | class\n",
       "Prius (1st Gen) | 1997 | 24509.7 | 7.46         | 41.26 | Compact\n",
       "Tino            | 2000 | 35355   | 8.2          | 54.1  | Compact\n",
       "Prius (2nd Gen) | 2000 | 26832.2 | 7.97         | 45.23 | Compact\n",
       "Civic (1st Gen) | 2001 | 25833.4 | 7.04         | 47.04 | Compact\n",
       "Alphard         | 2003 | 38084.8 | 8.33         | 40.46 | Minivan\n",
       "Civic           | 2003 | 14071.9 | 8.62         | 41    | Compact\n",
       "Escape          | 2004 | 36676.1 | 10.32        | 31.99 | SUV\n",
       "Lexus RX400h    | 2005 | 58521.1 | 12.76        | 28.23 | SUV\n",
       "Civic (2nd Gen) | 2005 | 26354.4 | 7.63         | 39.99 | Compact\n",
       "Highlander      | 2005 | 29186.2 | 12.76        | 29.4  | SUV\n",
       "... (65 rows omitted)"
      ]
     },
     "execution_count": 1,
     "metadata": {},
     "output_type": "execute_result"
    }
   ],
   "source": [
    "from datascience import *\n",
    "import numpy as np\n",
    "\n",
    "%matplotlib inline\n",
    "import matplotlib.pyplot as plots\n",
    "plots.style.use('fivethirtyeight')\n",
    "\n",
    "cars = Table.read_table('hybrid.csv')\n",
    "\n",
    "cars = cars.where('class', are.contained_in(\"Compact SUV Minivan\"))\n",
    "cars"
   ]
  },
  {
   "cell_type": "code",
   "execution_count": 16,
   "metadata": {},
   "outputs": [
    {
     "data": {
      "text/html": [
       "<script>\n",
       "$('div.cell.code_cell.rendered.selected div.input').show();\n",
       "\n",
       "code_show=true; \n",
       "function code_toggle() {\n",
       "    if (code_show){\n",
       "        $('div.cell.code_cell.rendered.selected div.input').hide();\n",
       "    } else {\n",
       "        $('div.cell.code_cell.rendered.selected div.input').show();\n",
       "    }\n",
       "    code_show = !code_show\n",
       "} \n",
       "$( document ).ready(code_toggle);\n",
       "</script>\n",
       "To show/hide this cell's raw code input, click <a href=\"javascript:code_toggle()\">here</a>."
      ],
      "text/plain": [
       "<IPython.core.display.HTML object>"
      ]
     },
     "metadata": {},
     "output_type": "display_data"
    },
    {
     "data": {
      "image/png": "[encoded data removed]",
      "text/plain": [
       "<Figure size 360x360 with 1 Axes>"
      ]
     },
     "metadata": {},
     "output_type": "display_data"
    }
   ],
   "source": [
    "from IPython.display import HTML\n",
    "from IPython.display import display\n",
    "\n",
    "# Taken from https://stackoverflow.com/questions/31517194/how-to-hide-one-specific-cell-input-or-output-in-ipython-notebook\n",
    "tag1 = HTML('''<script>\n",
    "$('div.cell.code_cell.rendered.selected div.input').hide();\n",
    "</script>''')\n",
    "\n",
    "\n",
    "\n",
    "tag = HTML('''<script>\n",
    "$('div.cell.code_cell.rendered.selected div.input').show();\n",
    "\n",
    "code_show=true; \n",
    "function code_toggle() {\n",
    "    if (code_show){\n",
    "        $('div.cell.code_cell.rendered.selected div.input').hide();\n",
    "    } else {\n",
    "        $('div.cell.code_cell.rendered.selected div.input').show();\n",
    "    }\n",
    "    code_show = !code_show\n",
    "} \n",
    "$( document ).ready(code_toggle);\n",
    "</script>\n",
    "To show/hide this cell's raw code input, click <a href=\"javascript:code_toggle()\">here</a>.''')\n",
    "\n",
    "#display(tag1)\n",
    "\n",
    "display(tag)\n",
    "\n",
    "\n",
    "#exec('display(tag)')\n",
    "\n",
    "############### Write code below ##################\n",
    "\n",
    "cars.scatter('msrp','mpg')\n",
    "plots.title(\"1\");\n",
    "\n"
   ]
  },
  {
   "cell_type": "code",
   "execution_count": 8,
   "metadata": {},
   "outputs": [
    {
     "data": {
      "text/html": [
       "\n",
       "\n",
       "<script>\n",
       "$('div.cell.code_cell.rendered.selected div.input').hide();\n",
       "code_show=false; \n",
       "function code_toggle() {\n",
       "    if (code_show){\n",
       "        $('div.cell.code_cell.rendered.selected div.input').hide();\n",
       "    } else {\n",
       "        $('div.cell.code_cell.rendered.selected div.input').show();\n",
       "    }\n",
       "    code_show = !code_show\n",
       "} \n",
       "$( document ).ready(code_toggle);\n",
       "</script>\n",
       "To show/hide this cell's raw code input, click <a href=\"javascript:code_toggle()\">here</a>."
      ],
      "text/plain": [
       "<IPython.core.display.HTML object>"
      ]
     },
     "metadata": {},
     "output_type": "display_data"
    },
    {
     "data": {
      "image/png": "[encoded data removed]",
      "text/plain": [
       "<Figure size 360x360 with 1 Axes>"
      ]
     },
     "metadata": {},
     "output_type": "display_data"
    }
   ],
   "source": [
    "from IPython.display import HTML\n",
    "from IPython.display import display\n",
    "\n",
    "# Taken from https://stackoverflow.com/questions/31517194/how-to-hide-one-specific-cell-input-or-output-in-ipython-notebook\n",
    "tag = HTML('''\n",
    "\n",
    "<script>\n",
    "$('div.cell.code_cell.rendered.selected div.input').hide();\n",
    "code_show=false; \n",
    "function code_toggle() {\n",
    "    if (code_show){\n",
    "        $('div.cell.code_cell.rendered.selected div.input').hide();\n",
    "    } else {\n",
    "        $('div.cell.code_cell.rendered.selected div.input').show();\n",
    "    }\n",
    "    code_show = !code_show\n",
    "} \n",
    "$( document ).ready(code_toggle);\n",
    "</script>\n",
    "To show/hide this cell's raw code input, click <a href=\"javascript:code_toggle()\">here</a>.''')\n",
    "\n",
    "display(tag)\n",
    "\n",
    "\n",
    "\n",
    "############### Write code below ##################\n",
    "\n",
    "cars.scatter('msrp','mpg')\n",
    "\n"
   ]
  },
  {
   "cell_type": "code",
   "execution_count": 6,
   "metadata": {},
   "outputs": [
    {
     "data": {
      "text/html": [
       "<script>\n",
       "$('div.cell.code_cell.rendered.selected div.input').hide();\n",
       "code_show=false; \n",
       "function code_toggle() {\n",
       "    if (code_show){\n",
       "        $('div.cell.code_cell.rendered.selected div.input').hide();\n",
       "    } else {\n",
       "        $('div.cell.code_cell.rendered.selected div.input').show();\n",
       "    }\n",
       "    code_show = !code_show\n",
       "} \n",
       "$( document ).ready(code_toggle);\n",
       "</script>\n",
       "To show/hide this cell's raw code input, click <a href=\"javascript:code_toggle()\">here</a>."
      ],
      "text/plain": [
       "<IPython.core.display.HTML object>"
      ]
     },
     "metadata": {},
     "output_type": "display_data"
    },
    {
     "data": {
      "image/png": "[encoded data removed]",
      "text/plain": [
       "<Figure size 360x360 with 1 Axes>"
      ]
     },
     "metadata": {},
     "output_type": "display_data"
    }
   ],
   "source": [
    "\n",
    "display(tag)\n",
    "\n",
    "\n",
    "############### Write code below ##################\n",
    "\n",
    "cars.scatter('msrp','mpg')\n"
   ]
  },
  {
   "cell_type": "code",
   "execution_count": 5,
   "metadata": {},
   "outputs": [
    {
     "name": "stdout",
     "output_type": "stream",
     "text": [
      "Help on built-in function exec in module builtins:\n",
      "\n",
      "exec(source, globals=None, locals=None, /)\n",
      "    Execute the given source in the context of globals and locals.\n",
      "    \n",
      "    The source may be a string representing one or more Python statements\n",
      "    or a code object as returned by compile().\n",
      "    The globals must be a dictionary and locals can be any mapping,\n",
      "    defaulting to the current globals and locals.\n",
      "    If only globals is given, locals defaults to it.\n",
      "\n"
     ]
    }
   ],
   "source": []
  },
  {
   "cell_type": "code",
   "execution_count": null,
   "metadata": {},
   "outputs": [],
   "source": []
  },
  {
   "cell_type": "code",
   "execution_count": null,
   "metadata": {},
   "outputs": [],
   "source": []
  }
 ],
 "metadata": {
  "kernelspec": {
   "display_name": "Python 3",
   "language": "python",
   "name": "python3"
  },
  "language_info": {
   "codemirror_mode": {
    "name": "ipython",
    "version": 3
   },
   "file_extension": ".py",
   "mimetype": "text/x-python",
   "name": "python",
   "nbconvert_exporter": "python",
   "pygments_lexer": "ipython3",
   "version": "3.6.5"
  }
 },
 "nbformat": 4,
 "nbformat_minor": 2
}
