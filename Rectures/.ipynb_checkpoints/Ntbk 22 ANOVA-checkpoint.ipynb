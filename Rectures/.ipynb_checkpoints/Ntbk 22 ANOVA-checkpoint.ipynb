{
 "cells": [
  {
   "cell_type": "markdown",
   "metadata": {},
   "source": [
    "# ANOVA #\n",
    "\n",
    "In this notebook we will learn:\n",
    "\n",
    "- When and how to conduct an ANOVA test using `scipy.stats.f_oneway`\n",
    "- How to interpret and report the results\n",
    "\n",
    "\n",
    "### Analysis of Variance ###\n",
    "\n",
    "Recall that we learned about the 2-sample t-test.  This was a test that allowed us to compare the average of a numeric variable between two groups or populations.\n",
    "\n",
    "What if there are more than 2 groups or populations?\n",
    "\n",
    "The <u>An</u>alysis <u>o</u>f <u>Va</u>riance Test will handle this situation.  \n",
    "\n",
    "$H_o:$ All groups have the same mean\n",
    "\n",
    "$H_a:$ At least one group has a different mean"
   ]
  },
  {
   "cell_type": "code",
   "execution_count": 29,
   "metadata": {},
   "outputs": [
    {
     "data": {
      "text/html": [
       "\n",
       "    <script>\n",
       "    function code_toggle() {\n",
       "        if ($('div.cell.code_cell.rendered.selected div.input').css('display')!='none'){\n",
       "            $('div.cell.code_cell.rendered.selected div.input').hide();\n",
       "        } else {\n",
       "            $('div.cell.code_cell.rendered.selected div.input').show();\n",
       "        }\n",
       "    }\n",
       "    </script>\n",
       "\n",
       "\n",
       "<form action=\"javascript:code_toggle()\"><input type=\"submit\" id=\"toggleButton\" value=\"Figure 1:\"></form>\n"
      ],
      "text/plain": [
       "<IPython.core.display.HTML object>"
      ]
     },
     "metadata": {},
     "output_type": "display_data"
    },
    {
     "data": {
      "text/html": [
       "\n",
       "    <script>\n",
       "    function code_toggle() {\n",
       "        if ($('div.cell.code_cell.rendered.selected div.input').css('display')!='none'){\n",
       "            $('div.cell.code_cell.rendered.selected div.input').hide();\n",
       "        } else {\n",
       "            $('div.cell.code_cell.rendered.selected div.input').show();\n",
       "        }\n",
       "    }\n",
       "    </script>\n",
       "\n",
       "\n",
       "<form action=\"javascript:code_toggle()\"><input type=\"submit\" id=\"toggleButton\" value=\"Figure Code\"></form>\n"
      ],
      "text/plain": [
       "<IPython.core.display.HTML object>"
      ]
     },
     "metadata": {},
     "output_type": "display_data"
    }
   ],
   "source": [
    "from datascience import *\n",
    "import numpy as np\n",
    "\n",
    "%matplotlib inline\n",
    "import matplotlib.pyplot as plots\n",
    "plots.style.use('fivethirtyeight')\n",
    "\n",
    "from scipy.stats import ttest_ind as ttest2\n",
    "from scipy.stats import t\n",
    "import scipy.stats as stats\n",
    "import scipy.stats\n",
    "\n",
    "def groupstats(table, group, data):\n",
    "    ### This function will find all the major descriptive stats you need ###\n",
    "    cut = table.select(group, data).sort(group)\n",
    "    favstats = cut.group(group, np.mean).sort(group)\n",
    "    words = [data, 'mean']\n",
    "    favstats = favstats.relabeled(' '.join(words), \"mean\")\n",
    "    groups = favstats.column(0)\n",
    "    q1=make_array()\n",
    "    for i in np.arange(len(groups)):\n",
    "        q1 = np.append(q1, np.percentile(table.where(group, groups.item(i)).column(data), 25))\n",
    "    q3=make_array()\n",
    "    for i in np.arange(len(groups)):\n",
    "        q3 = np.append(q3, np.percentile(table.where(group, groups.item(i)).column(data), 75))\n",
    "    favstats = favstats.with_column('std', cut.group(group, stats.tstd).sort(group).column(1) )\n",
    "    favstats = favstats.with_column('min', cut.group(group, min).sort(group).column(1) )\n",
    "    favstats = favstats.with_column('Q1', q1 )\n",
    "    favstats = favstats.with_column('median', cut.group(group, np.median).sort(group).column(1) )\n",
    "    favstats = favstats.with_column('Q3', q3 )\n",
    "    favstats = favstats.with_column('max', cut.group(group, max).sort(group).column(1) )\n",
    "    favstats = favstats.with_column('IQR', cut.group(group, stats.iqr).sort(group).column(1) )\n",
    "    favstats = favstats.with_column('n', cut.group(group ).sort(group).column(1) )\n",
    "    return favstats\n",
    "\n",
    "\n",
    "from IPython.core.display import display, HTML\n",
    "toggle_code_str2 = '''\n",
    "<form action=\"javascript:code_toggle()\"><input type=\"submit\" id=\"toggleButton\" value=\"Figure 1:\"></form>\n",
    "'''\n",
    "\n",
    "toggle_code_prepare_str2 = '''\n",
    "    <script>\n",
    "    function code_toggle() {\n",
    "        if ($('div.cell.code_cell.rendered.selected div.input').css('display')!='none'){\n",
    "            $('div.cell.code_cell.rendered.selected div.input').hide();\n",
    "        } else {\n",
    "            $('div.cell.code_cell.rendered.selected div.input').show();\n",
    "        }\n",
    "    }\n",
    "    </script>\n",
    "\n",
    "'''\n",
    "\n",
    "display(HTML(toggle_code_prepare_str2 + toggle_code_str2))\n",
    "\n",
    "def hide_code_figure():\n",
    "    display(HTML(toggle_code_str2))\n",
    "    \n",
    "from IPython.core.display import display, HTML\n",
    "toggle_code_str3 = '''\n",
    "<form action=\"javascript:code_toggle()\"><input type=\"submit\" id=\"toggleButton\" value=\"Figure Code\"></form>\n",
    "'''\n",
    "\n",
    "toggle_code_prepare_str3 = '''\n",
    "    <script>\n",
    "    function code_toggle() {\n",
    "        if ($('div.cell.code_cell.rendered.selected div.input').css('display')!='none'){\n",
    "            $('div.cell.code_cell.rendered.selected div.input').hide();\n",
    "        } else {\n",
    "            $('div.cell.code_cell.rendered.selected div.input').show();\n",
    "        }\n",
    "    }\n",
    "    </script>\n",
    "\n",
    "'''\n",
    "\n",
    "display(HTML(toggle_code_prepare_str3 + toggle_code_str3))\n",
    "\n",
    "def hide_code_figure2():\n",
    "    display(HTML(toggle_code_str3))\n"
   ]
  },
  {
   "cell_type": "code",
   "execution_count": 6,
   "metadata": {},
   "outputs": [],
   "source": [
    "cars = Table.read_table('hybrid.csv')\n"
   ]
  },
  {
   "cell_type": "code",
   "execution_count": 7,
   "metadata": {},
   "outputs": [
    {
     "data": {
      "text/html": [
       "<table border=\"1\" class=\"dataframe\">\n",
       "    <thead>\n",
       "        <tr>\n",
       "            <th>class</th> <th>mean</th> <th>std</th> <th>min</th> <th>Q1</th> <th>median</th> <th>Q3</th> <th>max</th> <th>IQR</th> <th>n</th>\n",
       "        </tr>\n",
       "    </thead>\n",
       "    <tbody>\n",
       "        <tr>\n",
       "            <td>Compact</td> <td>43.5406</td> <td>8.21232</td> <td>28   </td> <td>39.4925</td> <td>42    </td> <td>47.275 </td> <td>68.21</td> <td>7.7825</td> <td>32  </td>\n",
       "        </tr>\n",
       "        <tr>\n",
       "            <td>Minivan</td> <td>49.2775</td> <td>7.65466</td> <td>40.46</td> <td>45.395 </td> <td>48.925</td> <td>52.8075</td> <td>58.8 </td> <td>7.4125</td> <td>4   </td>\n",
       "        </tr>\n",
       "        <tr>\n",
       "            <td>SUV    </td> <td>26.0077</td> <td>4.59883</td> <td>18.82</td> <td>21     </td> <td>26    </td> <td>29.7   </td> <td>33.64</td> <td>8.7   </td> <td>39  </td>\n",
       "        </tr>\n",
       "    </tbody>\n",
       "</table>"
      ],
      "text/plain": [
       "class   | mean    | std     | min   | Q1      | median | Q3      | max   | IQR    | n\n",
       "Compact | 43.5406 | 8.21232 | 28    | 39.4925 | 42     | 47.275  | 68.21 | 7.7825 | 32\n",
       "Minivan | 49.2775 | 7.65466 | 40.46 | 45.395  | 48.925 | 52.8075 | 58.8  | 7.4125 | 4\n",
       "SUV     | 26.0077 | 4.59883 | 18.82 | 21      | 26     | 29.7    | 33.64 | 8.7    | 39"
      ]
     },
     "execution_count": 7,
     "metadata": {},
     "output_type": "execute_result"
    }
   ],
   "source": [
    "cars = cars.where('class', are.contained_in(\"Compact SUV Minivan\"))\n",
    "cars\n",
    "\n",
    "groupstats(cars, 'class', 'mpg')"
   ]
  },
  {
   "cell_type": "code",
   "execution_count": 8,
   "metadata": {},
   "outputs": [
    {
     "data": {
      "text/plain": [
       "F_onewayResult(statistic=73.84486417520357, pvalue=3.620918961160387e-18)"
      ]
     },
     "execution_count": 8,
     "metadata": {},
     "output_type": "execute_result"
    }
   ],
   "source": [
    "Compact = cars.where('class','Compact').column('mpg')\n",
    "Minivan = cars.where('class','Minivan').column('mpg')\n",
    "SUV = cars.where('class', 'SUV').column('mpg')\n",
    "\n",
    "stats.f_oneway(Compact, Minivan, SUV)"
   ]
  },
  {
   "cell_type": "markdown",
   "metadata": {},
   "source": [
    "Since we got a small p-value from the ANOVA, it is appropriate to run a series of 2-sample t-tests to sort out which groups are similar and which are different.  "
   ]
  },
  {
   "cell_type": "code",
   "execution_count": 9,
   "metadata": {},
   "outputs": [
    {
     "data": {
      "text/plain": [
       "Ttest_indResult(statistic=-1.324926964514407, pvalue=0.1940314035362671)"
      ]
     },
     "execution_count": 9,
     "metadata": {},
     "output_type": "execute_result"
    }
   ],
   "source": [
    "stats.ttest_ind(Compact, Minivan)"
   ]
  },
  {
   "cell_type": "code",
   "execution_count": 10,
   "metadata": {},
   "outputs": [
    {
     "data": {
      "text/plain": [
       "Ttest_indResult(statistic=11.349573822100403, pvalue=1.951579004185359e-17)"
      ]
     },
     "execution_count": 10,
     "metadata": {},
     "output_type": "execute_result"
    }
   ],
   "source": [
    "stats.ttest_ind(Compact, SUV)"
   ]
  },
  {
   "cell_type": "code",
   "execution_count": 11,
   "metadata": {},
   "outputs": [
    {
     "data": {
      "text/plain": [
       "Ttest_indResult(statistic=-9.06819350857345, pvalue=2.3881687587046566e-11)"
      ]
     },
     "execution_count": 11,
     "metadata": {},
     "output_type": "execute_result"
    }
   ],
   "source": [
    "stats.ttest_ind(SUV, Minivan)"
   ]
  },
  {
   "cell_type": "markdown",
   "metadata": {},
   "source": [
    "### Reporting Out ###\n",
    "\n",
    "#### With a mean of 26 mpg SUV's have the lowest average mpg, while the minivans have the highest average mpg with a mean of 49.  The Compact vehicles and the SUV's have similar mpg's.  This difference is statistically significant (F = 73.844, p < 0.001).  See Table 1 and Figure 1 below.  ####\n",
    "\n",
    "\n",
    "<table>\n",
    "    <tr> \n",
    "        <th> Class </th>\n",
    "        <th> Mean MPG </th>\n",
    "        <th> StD of MPG </th>\n",
    "    </tr>\n",
    "    <tr> \n",
    "        <th> Compact </th>\n",
    "        <th> 43.5 </th>\n",
    "        <th> 8.2 </th>\n",
    "    </tr>        \n",
    "    <tr> \n",
    "        <th> Minivan </th>\n",
    "        <th> 49.3 </th>\n",
    "        <th> 7.7 </th>\n",
    "    </tr>\n",
    "    <tr> \n",
    "        <th> SUV </th>\n",
    "        <th> 26.0 </th>\n",
    "        <th> 4.6 </th>\n",
    "    </tr>\n",
    "    <center> <caption> Table 1 </caption></center>\n",
    "</table>"
   ]
  },
  {
   "cell_type": "code",
   "execution_count": 12,
   "metadata": {},
   "outputs": [
    {
     "data": {
      "text/html": [
       "\n",
       "<form action=\"javascript:code_toggle()\"><input type=\"submit\" id=\"toggleButton\" value=\"Figure 1:\"></form>\n"
      ],
      "text/plain": [
       "<IPython.core.display.HTML object>"
      ]
     },
     "metadata": {},
     "output_type": "display_data"
    },
    {
     "data": {
      "image/png": "[encoded data removed]",
      "text/plain": [
       "<Figure size 432x432 with 1 Axes>"
      ]
     },
     "metadata": {},
     "output_type": "display_data"
    }
   ],
   "source": [
    "ticks = make_array(1,2,3)\n",
    "labels = make_array(\"Compact\",\"Minivan\",\"SUV\")\n",
    "\n",
    "plots.figure(figsize=(6, 6))\n",
    "plots.boxplot(Compact, widths=.5, positions=make_array(ticks.item(0)), showmeans=True)\n",
    "plots.boxplot(Minivan, widths=.5, positions=make_array(ticks.item(1)), showmeans=True)\n",
    "plots.boxplot(SUV, widths=.5, positions=make_array(ticks.item(2)), showmeans=True)\n",
    "plots.xticks(ticks, labels)\n",
    "plots.title(\"Comparing MPG of Classes of Cars\")\n",
    "plots.text(2,10,'Figure 1', ha='center'); \n",
    "\n",
    "hide_code_figure()"
   ]
  },
  {
   "cell_type": "markdown",
   "metadata": {},
   "source": [
    "## What does an ANOVA do? ##\n",
    "\n",
    "The grand mean is the mean of all the data lumped together, ignoring the groups, we denote it by $\\displaystyle \\overline{X}_{GM}$.\n",
    "\n",
    "Then assume there are $k$ groups.  For group $j$ ( $1\\leq j \\leq k$) the value $x_{ji}$ refers to the $i^{\\mathrm{th}}$ observation in the $j^{\\mathrm{th}}$ group.  Also, $\\overline{x}_j$ refers to the mean of the group $j$.  \n",
    "\n",
    "\n",
    "\n",
    "Then:\n",
    "\n",
    "$$n = \\sum_{j=1}^k n_j$$\n",
    "\n",
    "$$SS_{Total} = \\sum_{j=1}^k \\sum_{i = 1}^{n_j} (x_{ji} - \\overline{X}_{GM})^2$$\n",
    "\n",
    "$$SS_{Between} = \\sum_{j=1}^k n_j(\\overline{x}_j - \\overline{X}_{GM})^2$$\n",
    "\n",
    "$$SS_{Within} = \\sum_{j = 1}^k \\sum_{i=1}^{n_j} (x_{ji} - \\overline{x}_j)^2$$\n",
    "\n",
    "\n",
    "$$SS_{Within} = SS_{Total} - SS_{Between}$$\n",
    "\n",
    "\n",
    "$$MS_{Between} = \\frac{SS_{Between}}{n - k}$$\n",
    "\n",
    "$$MS_{Within} = \\frac{SS_{Within}}{k-1}$$\n",
    "\n",
    "Finally:\n",
    "\n",
    "$$F = \\frac{MS_{Between}}{MS_{Within}}$$\n",
    "\n",
    "Then the p-value is determined by finding the area under the appropriate F-distribution beyond this test statistic.  The F-distribution is determined by two different degrees of freedom; the degrees of freedom in the nomimator $n - k$, and the degress of freedom in the denominator, $k-1$.  These are also referred to as the degrees of freedom between groups and the degrees of freedom within groups.  \n"
   ]
  },
  {
   "cell_type": "code",
   "execution_count": null,
   "metadata": {},
   "outputs": [],
   "source": []
  },
  {
   "cell_type": "code",
   "execution_count": 30,
   "metadata": {},
   "outputs": [
    {
     "data": {
      "text/html": [
       "\n",
       "<form action=\"javascript:code_toggle()\"><input type=\"submit\" id=\"toggleButton\" value=\"Figure Code\"></form>\n"
      ],
      "text/plain": [
       "<IPython.core.display.HTML object>"
      ]
     },
     "metadata": {},
     "output_type": "display_data"
    },
    {
     "data": {
      "image/png": "[encoded data removed]",
      "text/plain": [
       "<Figure size 432x288 with 1 Axes>"
      ]
     },
     "metadata": {},
     "output_type": "display_data"
    }
   ],
   "source": [
    "x = np.arange(0.01,9,0.01)\n",
    "y = stats.f.pdf(x, 72, 2)\n",
    "\n",
    "plots.xlim(0,9)\n",
    "plots.plot(x,y)\n",
    "plots.title(\"F-Distribution with 72 and 2 df\")\n",
    "plots.text(5, 0.2, \"$F = 73.844$\\np too small to see\");\n",
    "\n",
    "hide_code_figure2()"
   ]
  },
  {
   "cell_type": "code",
   "execution_count": 17,
   "metadata": {},
   "outputs": [
    {
     "data": {
      "text/html": [
       "<table border=\"1\" class=\"dataframe\">\n",
       "    <thead>\n",
       "        <tr>\n",
       "            <th>CollegeYear</th> <th>SleepHours</th> <th>FavSport</th> <th>NumCourses</th> <th>ComputerType</th> <th>LunchAmt</th>\n",
       "        </tr>\n",
       "    </thead>\n",
       "    <tbody>\n",
       "        <tr>\n",
       "            <td>Second     </td> <td>8         </td> <td>Basketball</td> <td>6         </td> <td>Mac         </td> <td>11      </td>\n",
       "        </tr>\n",
       "        <tr>\n",
       "            <td>Second     </td> <td>7         </td> <td>Tennis    </td> <td>5         </td> <td>Mac         </td> <td>10      </td>\n",
       "        </tr>\n",
       "        <tr>\n",
       "            <td>Second     </td> <td>8         </td> <td>Soccer    </td> <td>5         </td> <td>Mac         </td> <td>10      </td>\n",
       "        </tr>\n",
       "        <tr>\n",
       "            <td>First      </td> <td>9         </td> <td>Basketball</td> <td>5         </td> <td>Mac         </td> <td>4       </td>\n",
       "        </tr>\n",
       "        <tr>\n",
       "            <td>Second     </td> <td>4         </td> <td>Basketball</td> <td>6         </td> <td>PC          </td> <td>0       </td>\n",
       "        </tr>\n",
       "        <tr>\n",
       "            <td>Third      </td> <td>7         </td> <td>None      </td> <td>4         </td> <td>PC          </td> <td>11      </td>\n",
       "        </tr>\n",
       "        <tr>\n",
       "            <td>Second     </td> <td>7         </td> <td>Basketball</td> <td>5         </td> <td>Mac         </td> <td>7       </td>\n",
       "        </tr>\n",
       "        <tr>\n",
       "            <td>First      </td> <td>7         </td> <td>Basketball</td> <td>6         </td> <td>PC          </td> <td>0       </td>\n",
       "        </tr>\n",
       "        <tr>\n",
       "            <td>Third      </td> <td>8.5       </td> <td>Basketball</td> <td>4         </td> <td>Mac         </td> <td>10      </td>\n",
       "        </tr>\n",
       "        <tr>\n",
       "            <td>Third      </td> <td>7         </td> <td>Basketball</td> <td>6         </td> <td>PC          </td> <td>7       </td>\n",
       "        </tr>\n",
       "    </tbody>\n",
       "</table>\n",
       "<p>... (288 rows omitted)</p>"
      ],
      "text/plain": [
       "CollegeYear | SleepHours | FavSport   | NumCourses | ComputerType | LunchAmt\n",
       "Second      | 8          | Basketball | 6          | Mac          | 11\n",
       "Second      | 7          | Tennis     | 5          | Mac          | 10\n",
       "Second      | 8          | Soccer     | 5          | Mac          | 10\n",
       "First       | 9          | Basketball | 5          | Mac          | 4\n",
       "Second      | 4          | Basketball | 6          | PC           | 0\n",
       "Third       | 7          | None       | 4          | PC           | 11\n",
       "Second      | 7          | Basketball | 5          | Mac          | 7\n",
       "First       | 7          | Basketball | 6          | PC           | 0\n",
       "Third       | 8.5        | Basketball | 4          | Mac          | 10\n",
       "Third       | 7          | Basketball | 6          | PC           | 7\n",
       "... (288 rows omitted)"
      ]
     },
     "execution_count": 17,
     "metadata": {},
     "output_type": "execute_result"
    }
   ],
   "source": [
    "students = Table.read_table(\"ClassData.csv\")\n",
    "students"
   ]
  },
  {
   "cell_type": "code",
   "execution_count": 18,
   "metadata": {},
   "outputs": [
    {
     "data": {
      "text/html": [
       "<table border=\"1\" class=\"dataframe\">\n",
       "    <thead>\n",
       "        <tr>\n",
       "            <th>CollegeYear</th> <th>mean</th> <th>std</th> <th>min</th> <th>Q1</th> <th>median</th> <th>Q3</th> <th>max</th> <th>IQR</th> <th>n</th>\n",
       "        </tr>\n",
       "    </thead>\n",
       "    <tbody>\n",
       "        <tr>\n",
       "            <td>First      </td> <td>7.4012 </td> <td>1.53706</td> <td>0   </td> <td>7    </td> <td>8     </td> <td>8   </td> <td>10  </td> <td>1    </td> <td>83  </td>\n",
       "        </tr>\n",
       "        <tr>\n",
       "            <td>Fourth     </td> <td>7.15   </td> <td>1.33358</td> <td>4   </td> <td>6.125</td> <td>7     </td> <td>8   </td> <td>11  </td> <td>1.875</td> <td>30  </td>\n",
       "        </tr>\n",
       "        <tr>\n",
       "            <td>Second     </td> <td>7.37266</td> <td>1.24655</td> <td>3.5 </td> <td>7    </td> <td>7.5   </td> <td>8   </td> <td>11  </td> <td>1    </td> <td>139 </td>\n",
       "        </tr>\n",
       "        <tr>\n",
       "            <td>Third      </td> <td>7.38043</td> <td>1.20731</td> <td>5   </td> <td>6.625</td> <td>7     </td> <td>8   </td> <td>10  </td> <td>1.375</td> <td>46  </td>\n",
       "        </tr>\n",
       "    </tbody>\n",
       "</table>"
      ],
      "text/plain": [
       "CollegeYear | mean    | std     | min  | Q1    | median | Q3   | max  | IQR   | n\n",
       "First       | 7.4012  | 1.53706 | 0    | 7     | 8      | 8    | 10   | 1     | 83\n",
       "Fourth      | 7.15    | 1.33358 | 4    | 6.125 | 7      | 8    | 11   | 1.875 | 30\n",
       "Second      | 7.37266 | 1.24655 | 3.5  | 7     | 7.5    | 8    | 11   | 1     | 139\n",
       "Third       | 7.38043 | 1.20731 | 5    | 6.625 | 7      | 8    | 10   | 1.375 | 46"
      ]
     },
     "execution_count": 18,
     "metadata": {},
     "output_type": "execute_result"
    }
   ],
   "source": [
    "groupstats(students, 'CollegeYear','SleepHours')"
   ]
  },
  {
   "cell_type": "code",
   "execution_count": 19,
   "metadata": {},
   "outputs": [
    {
     "data": {
      "text/plain": [
       "F_onewayResult(statistic=0.28081200956319047, pvalue=0.839238515252598)"
      ]
     },
     "execution_count": 19,
     "metadata": {},
     "output_type": "execute_result"
    }
   ],
   "source": [
    "Freshmen = students.where('CollegeYear','First').column('SleepHours')\n",
    "Sophomores = students.where('CollegeYear','Second').column('SleepHours')\n",
    "Juniors = students.where('CollegeYear','Third').column('SleepHours')\n",
    "Seniors =  students.where('CollegeYear','Fourth').column('SleepHours')\n",
    "\n",
    "stats.f_oneway(Freshmen, Sophomores, Juniors, Seniors)"
   ]
  },
  {
   "cell_type": "code",
   "execution_count": 31,
   "metadata": {},
   "outputs": [
    {
     "data": {
      "text/html": [
       "\n",
       "<form action=\"javascript:code_toggle()\"><input type=\"submit\" id=\"toggleButton\" value=\"Figure Code\"></form>\n"
      ],
      "text/plain": [
       "<IPython.core.display.HTML object>"
      ]
     },
     "metadata": {},
     "output_type": "display_data"
    },
    {
     "data": {
      "image/png": "[encoded data removed]",
      "text/plain": [
       "<Figure size 432x288 with 1 Axes>"
      ]
     },
     "metadata": {},
     "output_type": "display_data"
    }
   ],
   "source": [
    "x = np.arange(0.01,9,0.01)\n",
    "y = stats.f.pdf(x, 294, 3)\n",
    "\n",
    "plots.xlim(0,9)\n",
    "plots.plot(x,y)\n",
    "plots.fill_between(x,y, where = x>0.28, color='red')\n",
    "plots.text(4, 0.1, \"$F = 0.28$\\n$p = 0.839$\", size=\"medium\")\n",
    "plots.title(\"F-Distribution with 294 and 3 df\");\n",
    "\n",
    "hide_code_figure2()"
   ]
  },
  {
   "cell_type": "markdown",
   "metadata": {},
   "source": [
    "Since the p-value from the ANOVA is large, there is NO need to run any post-hoc t-tests.  \n",
    "\n",
    "\n",
    "### Reporting Out ###\n",
    "\n",
    "#### With all four groups have mean sleep hours between 7.15 and 7.40 hours per night, these differences are not statistically significant (F = 0.281, p = 0.839); see Figure 1 below."
   ]
  },
  {
   "cell_type": "code",
   "execution_count": 32,
   "metadata": {},
   "outputs": [
    {
     "data": {
      "text/html": [
       "\n",
       "<form action=\"javascript:code_toggle()\"><input type=\"submit\" id=\"toggleButton\" value=\"Figure 1:\"></form>\n"
      ],
      "text/plain": [
       "<IPython.core.display.HTML object>"
      ]
     },
     "metadata": {},
     "output_type": "display_data"
    },
    {
     "data": {
      "image/png": "[encoded data removed]",
      "text/plain": [
       "<Figure size 432x432 with 1 Axes>"
      ]
     },
     "metadata": {},
     "output_type": "display_data"
    }
   ],
   "source": [
    "ticks = make_array(1,2,3,4)\n",
    "labels = make_array(\"Freshmen\",\"Sophomores\",\"Juniors\",\"Seniors\")\n",
    "\n",
    "plots.figure(figsize=(6, 6))\n",
    "plots.boxplot(Freshmen, widths=.5, positions=make_array(ticks.item(0)), showmeans=True)\n",
    "plots.boxplot(Sophomores, widths=.5, positions=make_array(ticks.item(1)), showmeans=True)\n",
    "plots.boxplot(Juniors, widths=.5, positions=make_array(ticks.item(2)), showmeans=True)\n",
    "plots.boxplot(Seniors, widths=.5, positions=make_array(ticks.item(3)), showmeans=True)\n",
    "plots.xticks(ticks, labels)\n",
    "plots.title(\"Comparing Sleep Hours by Class\")\n",
    "plots.text(2.5,-2,'Figure 1', ha='center'); \n",
    "\n",
    "hide_code_figure()"
   ]
  },
  {
   "cell_type": "code",
   "execution_count": 33,
   "metadata": {},
   "outputs": [
    {
     "data": {
      "text/html": [
       "<table border=\"1\" class=\"dataframe\">\n",
       "    <thead>\n",
       "        <tr>\n",
       "            <th>class</th> <th>mean</th> <th>std</th> <th>min</th> <th>Q1</th> <th>median</th> <th>Q3</th> <th>max</th> <th>IQR</th> <th>n</th>\n",
       "        </tr>\n",
       "    </thead>\n",
       "    <tbody>\n",
       "        <tr>\n",
       "            <td>Large       </td> <td>26.0562</td> <td>7.14365</td> <td>21   </td> <td>21.8325</td> <td>25    </td> <td>25.335</td> <td>43   </td> <td>3.5025</td> <td>8   </td>\n",
       "        </tr>\n",
       "        <tr>\n",
       "            <td>Pickup Truck</td> <td>19.1667</td> <td>2.40139</td> <td>17   </td> <td>17     </td> <td>19    </td> <td>21    </td> <td>22   </td> <td>4     </td> <td>6   </td>\n",
       "        </tr>\n",
       "        <tr>\n",
       "            <td>SUV         </td> <td>26.0077</td> <td>4.59883</td> <td>18.82</td> <td>21     </td> <td>26    </td> <td>29.7  </td> <td>33.64</td> <td>8.7   </td> <td>39  </td>\n",
       "        </tr>\n",
       "    </tbody>\n",
       "</table>"
      ],
      "text/plain": [
       "class        | mean    | std     | min   | Q1      | median | Q3     | max   | IQR    | n\n",
       "Large        | 26.0562 | 7.14365 | 21    | 21.8325 | 25     | 25.335 | 43    | 3.5025 | 8\n",
       "Pickup Truck | 19.1667 | 2.40139 | 17    | 17      | 19     | 21     | 22    | 4      | 6\n",
       "SUV          | 26.0077 | 4.59883 | 18.82 | 21      | 26     | 29.7   | 33.64 | 8.7    | 39"
      ]
     },
     "execution_count": 33,
     "metadata": {},
     "output_type": "execute_result"
    }
   ],
   "source": [
    "cars = Table.read_table('hybrid.csv')\n",
    "\n",
    "cars = cars.where('class', are.contained_in('Large SUV Pickup Truck'))\n",
    "\n",
    "groupstats(cars, 'class', 'mpg')"
   ]
  },
  {
   "cell_type": "code",
   "execution_count": 34,
   "metadata": {},
   "outputs": [
    {
     "data": {
      "text/plain": [
       "F_onewayResult(statistic=5.245463315841908, pvalue=0.008550552456814839)"
      ]
     },
     "execution_count": 34,
     "metadata": {},
     "output_type": "execute_result"
    }
   ],
   "source": [
    "Compact = cars.where('class','Compact').column('mpg')\n",
    "Minivan = cars.where('class','Minivan').column('mpg')\n",
    "TwoSeater = cars.where('class', 'Two Seater').column('mpg')\n",
    "Truck = cars.where('class', 'Pickup Truck').column('mpg')\n",
    "Midsize = cars.where('class', 'Midsize').column('mpg')\n",
    "Large = cars.where('class', 'Large').column('mpg')\n",
    "\n",
    "stats.f_oneway(Truck, SUV, Large)"
   ]
  },
  {
   "cell_type": "code",
   "execution_count": 35,
   "metadata": {},
   "outputs": [
    {
     "data": {
      "text/html": [
       "\n",
       "<form action=\"javascript:code_toggle()\"><input type=\"submit\" id=\"toggleButton\" value=\"Figure Code\"></form>\n"
      ],
      "text/plain": [
       "<IPython.core.display.HTML object>"
      ]
     },
     "metadata": {},
     "output_type": "display_data"
    },
    {
     "data": {
      "image/png": "[encoded data removed]",
      "text/plain": [
       "<Figure size 432x288 with 1 Axes>"
      ]
     },
     "metadata": {},
     "output_type": "display_data"
    }
   ],
   "source": [
    "x = np.arange(0.01,9,0.01)\n",
    "y = stats.f.pdf(x, 50, 2)\n",
    "\n",
    "plots.xlim(0,9)\n",
    "plots.plot(x,y)\n",
    "plots.fill_between(x,y, where = x>5.25, color='red', zorder=4)\n",
    "plots.text(4, 0.1, \"$p = 0.009$\", size=\"medium\")\n",
    "plots.title(\"F-Distribution with 50 and 2 df\");\n",
    "\n",
    "hide_code_figure2()"
   ]
  },
  {
   "cell_type": "markdown",
   "metadata": {},
   "source": [
    "### Reporting Out ###\n",
    "\n",
    "#### The trucks have the lowest mpg on average while the Large and SUV vehicles have approximately the same average; this difference is statistically significant (F = 5.245, p = 0.009).  See Table 1 and Figure 1 below.\n",
    "\n",
    "<table>\n",
    "    <tr> \n",
    "        <th> Class </th>\n",
    "        <th> Mean MPG </th>\n",
    "        <th> StD of MPG </th>\n",
    "    </tr>\n",
    "    <tr> \n",
    "        <th> Truck </th>\n",
    "        <th> 19.2 </th>\n",
    "        <th> 2.4 </th>\n",
    "    </tr>        \n",
    "    <tr> \n",
    "        <th> SUV </th>\n",
    "        <th> 26.0 </th>\n",
    "        <th> 4.6 </th>\n",
    "    </tr>\n",
    "    <tr> \n",
    "        <th> Large </th>\n",
    "        <th> 26.1 </th>\n",
    "        <th> 7.1 </th>\n",
    "    </tr>\n",
    "    <center> <caption> Table 1 </caption></center>\n",
    "</table>"
   ]
  },
  {
   "cell_type": "code",
   "execution_count": 36,
   "metadata": {},
   "outputs": [
    {
     "data": {
      "text/html": [
       "\n",
       "<form action=\"javascript:code_toggle()\"><input type=\"submit\" id=\"toggleButton\" value=\"Figure 1:\"></form>\n"
      ],
      "text/plain": [
       "<IPython.core.display.HTML object>"
      ]
     },
     "metadata": {},
     "output_type": "display_data"
    },
    {
     "data": {
      "image/png": "[encoded data removed]",
      "text/plain": [
       "<Figure size 432x432 with 1 Axes>"
      ]
     },
     "metadata": {},
     "output_type": "display_data"
    }
   ],
   "source": [
    "ticks = make_array(1,2,3)\n",
    "labels = make_array(\"Truck\",\"Large\",\"SUV\")\n",
    "\n",
    "plots.figure(figsize=(6, 6))\n",
    "plots.boxplot(Truck, widths=.5, positions=make_array(ticks.item(0)), showmeans=True)\n",
    "plots.boxplot(Large, widths=.5, positions=make_array(ticks.item(1)), showmeans=True)\n",
    "plots.boxplot(SUV, widths=.5, positions=make_array(ticks.item(2)), showmeans=True)\n",
    "plots.xticks(ticks, labels)\n",
    "plots.title(\"Comparing MPG of Classes of Cars\")\n",
    "plots.text(2,12,'Figure 1', ha='center'); \n",
    "\n",
    "hide_code_figure()"
   ]
  },
  {
   "cell_type": "code",
   "execution_count": null,
   "metadata": {},
   "outputs": [],
   "source": []
  },
  {
   "cell_type": "code",
   "execution_count": null,
   "metadata": {},
   "outputs": [],
   "source": []
  },
  {
   "cell_type": "code",
   "execution_count": null,
   "metadata": {},
   "outputs": [],
   "source": []
  }
 ],
 "metadata": {
  "kernelspec": {
   "display_name": "Python 3",
   "language": "python",
   "name": "python3"
  },
  "language_info": {
   "codemirror_mode": {
    "name": "ipython",
    "version": 3
   },
   "file_extension": ".py",
   "mimetype": "text/x-python",
   "name": "python",
   "nbconvert_exporter": "python",
   "pygments_lexer": "ipython3",
   "version": "3.6.5"
  }
 },
 "nbformat": 4,
 "nbformat_minor": 2
}
