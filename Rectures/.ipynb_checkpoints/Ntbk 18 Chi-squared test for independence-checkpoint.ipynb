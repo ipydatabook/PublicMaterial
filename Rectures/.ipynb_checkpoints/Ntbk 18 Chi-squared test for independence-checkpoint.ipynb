{
 "cells": [
  {
   "cell_type": "markdown",
   "metadata": {},
   "source": [
    "# Chi-Squared Test for Independence #\n",
    "\n",
    "In this notebook we will learn:\n",
    "\n",
    "- How to organize categorical data into a two-way table\n",
    "- How to understand a two-way table\n",
    "- How to run and interpret a Chi-squared test for independence, using `scipy.stats.chi2` command\n",
    "\n"
   ]
  },
  {
   "cell_type": "code",
   "execution_count": 7,
   "metadata": {},
   "outputs": [],
   "source": [
    "from datascience import *\n",
    "import numpy as np\n",
    "\n",
    "%matplotlib inline\n",
    "import matplotlib.pyplot as plots\n",
    "plots.style.use('fivethirtyeight')\n",
    "\n",
    "import scipy.stats\n",
    "\n",
    "from IPython.core.display import display, HTML\n",
    "toggle_code_str = '''\n",
    "<form action=\"javascript:code_toggle()\"><input type=\"submit\" id=\"toggleButton\" value=\"Hide Code (Too Advanced or Not the Point)\"></form>\n",
    "'''\n",
    "\n",
    "toggle_code_prepare_str = '''\n",
    "    <script>\n",
    "    function code_toggle() {\n",
    "        if ($('div.cell.code_cell.rendered.selected div.input').css('display')!='none'){\n",
    "            $('div.cell.code_cell.rendered.selected div.input').hide();\n",
    "        } else {\n",
    "            $('div.cell.code_cell.rendered.selected div.input').show();\n",
    "        }\n",
    "    }\n",
    "    </script>\n",
    "\n",
    "'''\n",
    "\n",
    "display(HTML(toggle_code_prepare_str + toggle_code_str))\n",
    "\n",
    "def hide_code():\n",
    "    display(HTML(toggle_code_str))\n"
   ]
  },
  {
   "cell_type": "markdown",
   "metadata": {},
   "source": [
    "## Randomized Control Experiment ##\n",
    "\n",
    "An experiment was conducted to determine if the use of botox could reduce migraines.  There was a control group that did not receive botox and a treatment group that did.  A result of 1 indicates that the patient indicated a reduction of pain due to migraines.\n"
   ]
  },
  {
   "cell_type": "code",
   "execution_count": 8,
   "metadata": {},
   "outputs": [
    {
     "data": {
      "text/html": [
       "<table border=\"1\" class=\"dataframe\">\n",
       "    <thead>\n",
       "        <tr>\n",
       "            <th>Group</th> <th>Result</th>\n",
       "        </tr>\n",
       "    </thead>\n",
       "    <tbody>\n",
       "        <tr>\n",
       "            <td>Control  </td> <td>1     </td>\n",
       "        </tr>\n",
       "        <tr>\n",
       "            <td>Control  </td> <td>1     </td>\n",
       "        </tr>\n",
       "        <tr>\n",
       "            <td>Control  </td> <td>0     </td>\n",
       "        </tr>\n",
       "        <tr>\n",
       "            <td>Control  </td> <td>0     </td>\n",
       "        </tr>\n",
       "        <tr>\n",
       "            <td>Control  </td> <td>0     </td>\n",
       "        </tr>\n",
       "        <tr>\n",
       "            <td>Control  </td> <td>0     </td>\n",
       "        </tr>\n",
       "        <tr>\n",
       "            <td>Control  </td> <td>0     </td>\n",
       "        </tr>\n",
       "        <tr>\n",
       "            <td>Control  </td> <td>0     </td>\n",
       "        </tr>\n",
       "        <tr>\n",
       "            <td>Control  </td> <td>0     </td>\n",
       "        </tr>\n",
       "        <tr>\n",
       "            <td>Control  </td> <td>0     </td>\n",
       "        </tr>\n",
       "        <tr>\n",
       "            <td>Control  </td> <td>0     </td>\n",
       "        </tr>\n",
       "        <tr>\n",
       "            <td>Control  </td> <td>0     </td>\n",
       "        </tr>\n",
       "        <tr>\n",
       "            <td>Control  </td> <td>0     </td>\n",
       "        </tr>\n",
       "        <tr>\n",
       "            <td>Control  </td> <td>0     </td>\n",
       "        </tr>\n",
       "        <tr>\n",
       "            <td>Control  </td> <td>0     </td>\n",
       "        </tr>\n",
       "        <tr>\n",
       "            <td>Control  </td> <td>0     </td>\n",
       "        </tr>\n",
       "        <tr>\n",
       "            <td>Treatment</td> <td>1     </td>\n",
       "        </tr>\n",
       "        <tr>\n",
       "            <td>Treatment</td> <td>1     </td>\n",
       "        </tr>\n",
       "        <tr>\n",
       "            <td>Treatment</td> <td>1     </td>\n",
       "        </tr>\n",
       "        <tr>\n",
       "            <td>Treatment</td> <td>1     </td>\n",
       "        </tr>\n",
       "        <tr>\n",
       "            <td>Treatment</td> <td>1     </td>\n",
       "        </tr>\n",
       "        <tr>\n",
       "            <td>Treatment</td> <td>1     </td>\n",
       "        </tr>\n",
       "        <tr>\n",
       "            <td>Treatment</td> <td>1     </td>\n",
       "        </tr>\n",
       "        <tr>\n",
       "            <td>Treatment</td> <td>1     </td>\n",
       "        </tr>\n",
       "        <tr>\n",
       "            <td>Treatment</td> <td>1     </td>\n",
       "        </tr>\n",
       "        <tr>\n",
       "            <td>Treatment</td> <td>0     </td>\n",
       "        </tr>\n",
       "        <tr>\n",
       "            <td>Treatment</td> <td>0     </td>\n",
       "        </tr>\n",
       "        <tr>\n",
       "            <td>Treatment</td> <td>0     </td>\n",
       "        </tr>\n",
       "        <tr>\n",
       "            <td>Treatment</td> <td>0     </td>\n",
       "        </tr>\n",
       "        <tr>\n",
       "            <td>Treatment</td> <td>0     </td>\n",
       "        </tr>\n",
       "        <tr>\n",
       "            <td>Treatment</td> <td>0     </td>\n",
       "        </tr>\n",
       "    </tbody>\n",
       "</table>"
      ],
      "text/plain": [
       "<IPython.core.display.HTML object>"
      ]
     },
     "metadata": {},
     "output_type": "display_data"
    }
   ],
   "source": [
    "botox = Table.read_table('bta.csv')\n",
    "botox.show()"
   ]
  },
  {
   "cell_type": "code",
   "execution_count": 77,
   "metadata": {},
   "outputs": [
    {
     "name": "stderr",
     "output_type": "stream",
     "text": [
      "C:\\Users\\bbailey\\AppData\\Local\\Continuum\\anaconda3\\lib\\site-packages\\datascience\\tables.py:920: VisibleDeprecationWarning: Creating an ndarray from ragged nested sequences (which is a list-or-tuple of lists-or-tuples-or ndarrays with different lengths or shapes) is deprecated. If you meant to do this, you must specify 'dtype=object' when creating the ndarray\n",
      "  values = np.array(tuple(values))\n"
     ]
    },
    {
     "data": {
      "text/html": [
       "<table border=\"1\" class=\"dataframe\">\n",
       "    <thead>\n",
       "        <tr>\n",
       "            <th>Group</th> <th>0.0</th> <th>1.0</th>\n",
       "        </tr>\n",
       "    </thead>\n",
       "    <tbody>\n",
       "        <tr>\n",
       "            <td>Control  </td> <td>14  </td> <td>2   </td>\n",
       "        </tr>\n",
       "        <tr>\n",
       "            <td>Treatment</td> <td>6   </td> <td>9   </td>\n",
       "        </tr>\n",
       "    </tbody>\n",
       "</table>"
      ],
      "text/plain": [
       "Group     | 0.0  | 1.0\n",
       "Control   | 14   | 2\n",
       "Treatment | 6    | 9"
      ]
     },
     "execution_count": 77,
     "metadata": {},
     "output_type": "execute_result"
    }
   ],
   "source": [
    "tab = botox.pivot('Result', 'Group')\n",
    "tab"
   ]
  },
  {
   "cell_type": "code",
   "execution_count": 10,
   "metadata": {},
   "outputs": [
    {
     "data": {
      "image/png": "[encoded data removed]",
      "text/plain": [
       "<Figure size 432x288 with 1 Axes>"
      ]
     },
     "metadata": {},
     "output_type": "display_data"
    }
   ],
   "source": [
    "tab.barh(\"Group\")"
   ]
  },
  {
   "cell_type": "code",
   "execution_count": 11,
   "metadata": {},
   "outputs": [],
   "source": [
    "from scipy.stats import chi2_contingency as chisq"
   ]
  },
  {
   "cell_type": "markdown",
   "metadata": {},
   "source": [
    "$H_o$: There is no difference between groups (the distribution of 1's and 0's is about the same in each group)\n",
    "\n",
    "$H_a$: There is a difference between groups\n",
    "\n",
    "With p < 0.05, we conclude that there is a difference between groups.   "
   ]
  },
  {
   "cell_type": "code",
   "execution_count": 54,
   "metadata": {},
   "outputs": [
    {
     "name": "stdout",
     "output_type": "stream",
     "text": [
      "Chi-Square =  5.696396780303031\n",
      "p-value =  0.016999777502603477\n",
      "degrees of freedom =  1 (Rows - 1)*(Columns - 1)\n",
      "Expected Table = \n",
      "[[10.32258065  5.67741935]\n",
      " [ 9.67741935  5.32258065]]\n",
      "Reminder: No zero cells, and not more than 20% with counts below 5.\n"
     ]
    }
   ],
   "source": [
    "## To run a chi-squared test, copy this cell and change the\n",
    "## observed table.\n",
    "\n",
    "\n",
    "obs = np.array([[14, 2], [6,9]])\n",
    "Results  = chisq(obs)\n",
    "\n",
    "## Don't change anything below this line\n",
    "\n",
    "print(\"Chi-Square = \", Results[0])\n",
    "print(\"p-value = \", Results[1])\n",
    "print(\"degrees of freedom = \", Results[2])\n",
    "print(\"Expected Table = \")\n",
    "print(Results[3])\n",
    "\n",
    "print(\"Reminder: No zero cells, and not more than 20% with counts below 5.\")\n"
   ]
  },
  {
   "cell_type": "code",
   "execution_count": 55,
   "metadata": {},
   "outputs": [
    {
     "data": {
      "image/png": "[encoded data removed]",
      "text/plain": [
       "<Figure size 432x288 with 1 Axes>"
      ]
     },
     "metadata": {},
     "output_type": "display_data"
    }
   ],
   "source": [
    "from scipy.stats import chi2\n",
    "\n",
    "rv = chi2(df=1)     #, loc=0, scale=1\n",
    "x = np.arange(0.1, 6.5, 0.1)\n",
    "y = rv.pdf(x) \n",
    "\n",
    "plots.xlim(-1,6.5)\n",
    "#plots.ylim(-.01, 0.3)\n",
    "plots.plot(x,y)\n",
    "plots.fill_between(x, y, where = abs(x) > 5.696, color=\"r\",zorder=4)\n",
    "plots.title(\"Chi^2 w/ df = 1 and p-value in red\");\n",
    "\n",
    "hide_code()"
   ]
  },
  {
   "cell_type": "code",
   "execution_count": 1,
   "metadata": {},
   "outputs": [
    {
     "data": {
      "text/plain": [
       "0.6"
      ]
     },
     "execution_count": 1,
     "metadata": {},
     "output_type": "execute_result"
    }
   ],
   "source": [
    "9/15"
   ]
  },
  {
   "cell_type": "code",
   "execution_count": 2,
   "metadata": {},
   "outputs": [
    {
     "data": {
      "text/plain": [
       "0.125"
      ]
     },
     "execution_count": 2,
     "metadata": {},
     "output_type": "execute_result"
    }
   ],
   "source": [
    "2/16"
   ]
  },
  {
   "cell_type": "code",
   "execution_count": 47,
   "metadata": {},
   "outputs": [
    {
     "data": {
      "text/html": [
       "<table border=\"1\" class=\"dataframe\">\n",
       "    <thead>\n",
       "        <tr>\n",
       "            <th>Group</th> <th>Result average</th>\n",
       "        </tr>\n",
       "    </thead>\n",
       "    <tbody>\n",
       "        <tr>\n",
       "            <td>Control  </td> <td>0.125         </td>\n",
       "        </tr>\n",
       "        <tr>\n",
       "            <td>Treatment</td> <td>0.6           </td>\n",
       "        </tr>\n",
       "    </tbody>\n",
       "</table>"
      ],
      "text/plain": [
       "Group     | Result average\n",
       "Control   | 0.125\n",
       "Treatment | 0.6"
      ]
     },
     "execution_count": 47,
     "metadata": {},
     "output_type": "execute_result"
    }
   ],
   "source": [
    "botox.group('Group', np.average)"
   ]
  },
  {
   "cell_type": "markdown",
   "metadata": {},
   "source": [
    "### Reporting out ###\n",
    "\n",
    "#### We find that 60% of patients in the treatment group reported positive results is 60%, while 12.5% of those in the control group reported positive results; these results are statistically significant ($\\chi^2$ = 5.696, p = 0.017).  ####\n",
    "\n",
    "\n",
    "The $\\chi^2$ test for independence finds its test statistic the same way as the Goodness of Fit test:\n",
    "\n",
    "$$\\chi^2 = \\sum \\frac{(Observed - Expected)^2}{Expected}$$\n",
    "\n",
    "But the expected results are calculated from the observed results assuming that the variables are independent.  \n",
    "\n",
    "If $R$ is the number of rows and $C$ is the number of columns, then the degrees of freedom are $df = (R - 1)(C-1)$.  \n",
    "\n",
    "Then the p-value is the shaded region under the appropriate $\\chi^2$-graph beyond the value of the test statistic.  \n",
    "\n",
    "\n",
    "## Titanic Data ##\n",
    "\n",
    "Consider this data showing the distribution of those that survived the sinking of the Titanic by gender.\n",
    "\n",
    "Was there any significant difference in the probability of members of the different genders surviving?\n"
   ]
  },
  {
   "cell_type": "code",
   "execution_count": 36,
   "metadata": {},
   "outputs": [
    {
     "data": {
      "text/html": [
       "<table border=\"1\" class=\"dataframe\">\n",
       "    <thead>\n",
       "        <tr>\n",
       "            <th>Gender</th> <th>Died</th> <th>Lived</th>\n",
       "        </tr>\n",
       "    </thead>\n",
       "    <tbody>\n",
       "        <tr>\n",
       "            <td>M     </td> <td>1364</td> <td>367  </td>\n",
       "        </tr>\n",
       "        <tr>\n",
       "            <td>F     </td> <td>126 </td> <td>344  </td>\n",
       "        </tr>\n",
       "    </tbody>\n",
       "</table>"
      ],
      "text/plain": [
       "Gender | Died | Lived\n",
       "M      | 1364 | 367\n",
       "F      | 126  | 344"
      ]
     },
     "execution_count": 36,
     "metadata": {},
     "output_type": "execute_result"
    },
    {
     "data": {
      "image/png": "[encoded data removed]",
      "text/plain": [
       "<Figure size 432x288 with 1 Axes>"
      ]
     },
     "metadata": {},
     "output_type": "display_data"
    }
   ],
   "source": [
    "T_gender = Table().with_columns(\"Gender\", make_array(\"M\", \"F\"), \"Died\", make_array(1364, 126), \"Lived\", make_array(367,344))\n",
    "T_gender.barh(\"Gender\")\n",
    "\n",
    "T_gender"
   ]
  },
  {
   "cell_type": "code",
   "execution_count": 37,
   "metadata": {},
   "outputs": [
    {
     "data": {
      "text/plain": [
       "array([[1364,  367],\n",
       "       [ 126,  344]])"
      ]
     },
     "execution_count": 37,
     "metadata": {},
     "output_type": "execute_result"
    }
   ],
   "source": [
    "titanic_gender = np.array([[1364, 367], [126, 344]])\n",
    "\n",
    "titanic_gender"
   ]
  },
  {
   "cell_type": "code",
   "execution_count": 38,
   "metadata": {},
   "outputs": [
    {
     "name": "stdout",
     "output_type": "stream",
     "text": [
      "Chi-Square =  454.4998451882265\n",
      "p-value =  7.565461964935766e-101\n",
      "degrees of freedom =  1\n",
      "Expected Table = \n"
     ]
    },
    {
     "data": {
      "text/plain": [
       "array([[1171.82644253,  559.17355747],\n",
       "       [ 318.17355747,  151.82644253]])"
      ]
     },
     "execution_count": 38,
     "metadata": {},
     "output_type": "execute_result"
    }
   ],
   "source": [
    "titanic_gender = np.array([[1364, 367], [126, 344]])\n",
    "Results  = chisq(titanic_gender)\n",
    "\n",
    "print(\"Chi-Square = \", Results[0])\n",
    "print(\"p-value = \", Results[1])\n",
    "print(\"degrees of freedom = \", Results[2])\n",
    "print(\"Expected Table = \")\n",
    "Results[3]"
   ]
  },
  {
   "cell_type": "code",
   "execution_count": 39,
   "metadata": {},
   "outputs": [
    {
     "data": {
      "text/plain": [
       "0.7879838243789717"
      ]
     },
     "execution_count": 39,
     "metadata": {},
     "output_type": "execute_result"
    }
   ],
   "source": [
    "Percent_men_died = 1364/(1364+367)\n",
    "Percent_men_died"
   ]
  },
  {
   "cell_type": "code",
   "execution_count": 40,
   "metadata": {},
   "outputs": [
    {
     "data": {
      "text/plain": [
       "0.2680851063829787"
      ]
     },
     "execution_count": 40,
     "metadata": {},
     "output_type": "execute_result"
    }
   ],
   "source": [
    "Percent_women_died = 126/(126+344)\n",
    "Percent_women_died"
   ]
  },
  {
   "cell_type": "code",
   "execution_count": 41,
   "metadata": {},
   "outputs": [
    {
     "data": {
      "text/plain": [
       "0.08456375838926175"
      ]
     },
     "execution_count": 41,
     "metadata": {},
     "output_type": "execute_result"
    }
   ],
   "source": [
    "Percent_died_were_women = 126/(1364+126)\n",
    "\n",
    "Percent_died_were_women"
   ]
  },
  {
   "cell_type": "code",
   "execution_count": 42,
   "metadata": {},
   "outputs": [
    {
     "data": {
      "text/plain": [
       "0.4838255977496484"
      ]
     },
     "execution_count": 42,
     "metadata": {},
     "output_type": "execute_result"
    }
   ],
   "source": [
    "Percent_lived_were_women = 344/(367+344)\n",
    "Percent_lived_were_women"
   ]
  },
  {
   "cell_type": "markdown",
   "metadata": {},
   "source": [
    "### Reporting Out ###\n",
    "\n",
    "#### The Chi-squared analysis reveals that there is some relationship between a person's gender and whether that person survived the sinking of the Titanic ($\\chi^2$ = 454.500, p <0.001); 79% of the men onboard died while only 27% of the women onboard died.  ####\n",
    "\n",
    "<table>\n",
    "    <caption> Percent Survived by Gender </caption>\n",
    "    <tr> \n",
    "        <th> Gender </th>\n",
    "        <th> % Died </th>\n",
    "        <th> % Lived </th>\n",
    "    </tr>\n",
    "    <tr>\n",
    "        <td> Male </td>\n",
    "        <td> 78.9 </td>\n",
    "        <td> 21.1 </td>\n",
    "    </tr>\n",
    "    <tr>\n",
    "        <td> Female </td>\n",
    "        <td> 26.8 </td>\n",
    "        <td> 73.2 </td>\n",
    "    </tr>   \n",
    "</table>"
   ]
  },
  {
   "cell_type": "code",
   "execution_count": 43,
   "metadata": {},
   "outputs": [
    {
     "data": {
      "image/png": "[encoded data removed]",
      "text/plain": [
       "<Figure size 432x288 with 1 Axes>"
      ]
     },
     "metadata": {},
     "output_type": "display_data"
    }
   ],
   "source": [
    "T_gender.barh(\"Gender\")"
   ]
  },
  {
   "cell_type": "markdown",
   "metadata": {},
   "source": [
    "### On the other hand, the distribution of genders amongst the survivors was 48.4% female and 51.5% male.  So this warrants further investigation. ###\n",
    "\n",
    "Since we're looking more closely at this data, let's consider the impact of class on survivorship."
   ]
  },
  {
   "cell_type": "code",
   "execution_count": 56,
   "metadata": {},
   "outputs": [
    {
     "data": {
      "text/html": [
       "<table border=\"1\" class=\"dataframe\">\n",
       "    <thead>\n",
       "        <tr>\n",
       "            <th>Class</th> <th>Died</th> <th>Lived</th> <th>% Lived</th>\n",
       "        </tr>\n",
       "    </thead>\n",
       "    <tbody>\n",
       "        <tr>\n",
       "            <td>1st  </td> <td>122 </td> <td>203  </td> <td>0.624615</td>\n",
       "        </tr>\n",
       "        <tr>\n",
       "            <td>2nd  </td> <td>167 </td> <td>118  </td> <td>0.414035</td>\n",
       "        </tr>\n",
       "        <tr>\n",
       "            <td>3rd  </td> <td>528 </td> <td>178  </td> <td>0.252125</td>\n",
       "        </tr>\n",
       "        <tr>\n",
       "            <td>Crew </td> <td>673 </td> <td>212  </td> <td>0.239548</td>\n",
       "        </tr>\n",
       "    </tbody>\n",
       "</table>"
      ],
      "text/plain": [
       "Class | Died | Lived | % Lived\n",
       "1st   | 122  | 203   | 0.624615\n",
       "2nd   | 167  | 118   | 0.414035\n",
       "3rd   | 528  | 178   | 0.252125\n",
       "Crew  | 673  | 212   | 0.239548"
      ]
     },
     "execution_count": 56,
     "metadata": {},
     "output_type": "execute_result"
    }
   ],
   "source": [
    "titanic_class = np.array([[122,203],[167,118],[528,178],[673,212]])\n",
    "\n",
    "T_class = Table().with_columns(\"Class\", make_array(\"1st\", \"2nd\", \"3rd\", \"Crew\"), \"Died\", make_array(122, 167, 528, 673), \"Lived\", make_array(203, 118, 178, 212  ))\n",
    "\n",
    "T_class\n",
    "\n",
    "percent_lived = T_class.column(2)/(T_class.column(2) +T_class.column(1) )\n",
    "\n",
    "T_class = T_class.with_column(\"% Lived\", percent_lived)\n",
    "\n",
    "T_class"
   ]
  },
  {
   "cell_type": "code",
   "execution_count": 57,
   "metadata": {},
   "outputs": [
    {
     "name": "stdout",
     "output_type": "stream",
     "text": [
      "Chi-Square =  190.40110361683327\n",
      "p-value =  4.999927529868003e-41\n",
      "degrees of freedom =  3\n",
      "Expected Table = \n"
     ]
    },
    {
     "data": {
      "text/plain": [
       "array([[220.01363017, 104.98636983],\n",
       "       [192.93502953,  92.06497047],\n",
       "       [477.93730123, 228.06269877],\n",
       "       [599.11403907, 285.88596093]])"
      ]
     },
     "execution_count": 57,
     "metadata": {},
     "output_type": "execute_result"
    }
   ],
   "source": [
    "titanic_class = np.array([[122,203],[167,118],[528,178],[673,212]])\n",
    "Results  = chisq(titanic_class)\n",
    "\n",
    "print(\"Chi-Square = \", Results[0])\n",
    "print(\"p-value = \", Results[1])\n",
    "print(\"degrees of freedom = \", Results[2])\n",
    "print(\"Expected Table = \")\n",
    "Results[3]"
   ]
  },
  {
   "cell_type": "markdown",
   "metadata": {},
   "source": [
    "### Reporting Out ###\n",
    "\n",
    "#### The Chi-squared analysis reveals that there is some relationship between a person's class and whether that person survived the sinking of the Titanic ($\\chi^2$ = 190.4, p <0.001); 62% of the passengers in First Class survived, 41% of those in Second Class survived, while 25% of those in Third Class survived and only 24% of the Crew survived.  See Table and Figure below.  ####\n",
    "\n",
    "<table>\n",
    "    <caption> Percent Survived by Class </caption>\n",
    "    <tr> \n",
    "        <th> Class </th>\n",
    "        <th> Suvived % </th>\n",
    "    </tr>\n",
    "    <tr>\n",
    "        <td> First </td>\n",
    "        <td> 62.5 </td>\n",
    "    </tr>\n",
    "    <tr>\n",
    "        <td> Second </td>\n",
    "        <td> 41.1 </td>\n",
    "    </tr>\n",
    "    <tr>\n",
    "        <td> Third </td>\n",
    "        <td> 25.2 </td>\n",
    "    </tr>        \n",
    "    <tr>\n",
    "        <td> Crew </td>\n",
    "        <td> 24.0 </td>\n",
    "    </tr>\n",
    "    \n",
    "</table>\n",
    "\n"
   ]
  },
  {
   "cell_type": "code",
   "execution_count": 58,
   "metadata": {},
   "outputs": [
    {
     "data": {
      "image/png": "[encoded data removed]",
      "text/plain": [
       "<Figure size 432x288 with 1 Axes>"
      ]
     },
     "metadata": {},
     "output_type": "display_data"
    }
   ],
   "source": [
    "T_class.drop('% Lived').barh(\"Class\")"
   ]
  },
  {
   "cell_type": "markdown",
   "metadata": {},
   "source": [
    "### If Class had an impact on who survived, and Gender did as well, could there also be a relationship between Gender and Class? ###\n"
   ]
  },
  {
   "cell_type": "code",
   "execution_count": 59,
   "metadata": {},
   "outputs": [
    {
     "name": "stdout",
     "output_type": "stream",
     "text": [
      "Chi-Square =  349.9145062386271\n",
      "p-value =  1.5566368378932688e-75\n",
      "degrees of freedom =  3\n",
      "Expected Table = \n"
     ]
    },
    {
     "data": {
      "text/plain": [
       "array([[255.5997274 ,  69.4002726 ],\n",
       "       [224.14129941,  60.85870059],\n",
       "       [555.24125398, 150.75874602],\n",
       "       [696.01771922, 188.98228078]])"
      ]
     },
     "execution_count": 59,
     "metadata": {},
     "output_type": "execute_result"
    }
   ],
   "source": [
    "titanic_gend_class = np.array([[180,145],[179,106],[510,196],[862,23]])\n",
    "\n",
    "T_gend_class = Table().with_columns(\"Class\", make_array(\"1st\", \"2nd\", \"3rd\", \"Crew\"), \"Male\", make_array(180, 179, 510, 862), \"Female\", make_array(145, 106, 196, 23))\n",
    "\n",
    "Results = chisq(titanic_gend_class)\n",
    "\n",
    "print(\"Chi-Square = \", Results[0])\n",
    "print(\"p-value = \", Results[1])\n",
    "print(\"degrees of freedom = \", Results[2])\n",
    "print(\"Expected Table = \")\n",
    "Results[3]"
   ]
  },
  {
   "cell_type": "code",
   "execution_count": 60,
   "metadata": {},
   "outputs": [
    {
     "data": {
      "text/html": [
       "<table border=\"1\" class=\"dataframe\">\n",
       "    <thead>\n",
       "        <tr>\n",
       "            <th>Class</th> <th>Male</th> <th>Female</th> <th>% Female</th> <th>% Male</th>\n",
       "        </tr>\n",
       "    </thead>\n",
       "    <tbody>\n",
       "        <tr>\n",
       "            <td>1st  </td> <td>180 </td> <td>145   </td> <td>0.446154 </td> <td>0.553846</td>\n",
       "        </tr>\n",
       "        <tr>\n",
       "            <td>2nd  </td> <td>179 </td> <td>106   </td> <td>0.37193  </td> <td>0.62807 </td>\n",
       "        </tr>\n",
       "        <tr>\n",
       "            <td>3rd  </td> <td>510 </td> <td>196   </td> <td>0.27762  </td> <td>0.72238 </td>\n",
       "        </tr>\n",
       "        <tr>\n",
       "            <td>Crew </td> <td>862 </td> <td>23    </td> <td>0.0259887</td> <td>0.974011</td>\n",
       "        </tr>\n",
       "    </tbody>\n",
       "</table>"
      ],
      "text/plain": [
       "Class | Male | Female | % Female  | % Male\n",
       "1st   | 180  | 145    | 0.446154  | 0.553846\n",
       "2nd   | 179  | 106    | 0.37193   | 0.62807\n",
       "3rd   | 510  | 196    | 0.27762   | 0.72238\n",
       "Crew  | 862  | 23     | 0.0259887 | 0.974011"
      ]
     },
     "execution_count": 60,
     "metadata": {},
     "output_type": "execute_result"
    }
   ],
   "source": [
    "percent_female = T_gend_class.column(2)/(T_gend_class.column(2) +T_gend_class.column(1)  )\n",
    "\n",
    "T_gend_class = T_gend_class.with_columns(\"% Female\", percent_female, \"% Male\", 1-percent_female)\n",
    "\n",
    "T_gend_class "
   ]
  },
  {
   "cell_type": "markdown",
   "metadata": {},
   "source": [
    "### Reporting Out ###\n",
    "\n",
    "#### The Chi-squared analysis reveals that there is some relationship between a person's class and whether that person survived the sinking of the Titanic ($\\chi^2$ = 349.915, p <0.001); see Table and Figure below.  ####\n",
    "\n",
    "<table>\n",
    "    <caption> Percent Gender by Class </caption>\n",
    "    <tr> \n",
    "        <th> Class </th>\n",
    "        <th> Female % </th>\n",
    "        <th> Male % </th>\n",
    "    </tr>\n",
    "    <tr>\n",
    "        <td> First </td>\n",
    "        <td> 44.6 </td>\n",
    "        <td> 55.4 </td>\n",
    "    </tr>\n",
    "    <tr>\n",
    "        <td> Second </td>\n",
    "        <td> 37.2 </td>\n",
    "        <td> 62.8 </td>\n",
    "    </tr>\n",
    "    <tr>\n",
    "        <td> Third </td>\n",
    "        <td> 27.8 </td>\n",
    "        <td> 72.2 </td>\n",
    "    </tr>        \n",
    "    <tr>\n",
    "        <td> Crew </td>\n",
    "        <td> 2.6 </td>\n",
    "        <td> 97.4 </td>\n",
    "    </tr>\n",
    "    \n",
    "</table>"
   ]
  },
  {
   "cell_type": "code",
   "execution_count": 61,
   "metadata": {},
   "outputs": [
    {
     "data": {
      "image/png": "[encoded data removed]",
      "text/plain": [
       "<Figure size 432x288 with 1 Axes>"
      ]
     },
     "metadata": {},
     "output_type": "display_data"
    }
   ],
   "source": [
    "T_gend_class.drop(\"Male\", \"Female\").barh(\"Class\")"
   ]
  },
  {
   "cell_type": "markdown",
   "metadata": {},
   "source": [
    "## Recall what it means for variables to confound ##\n",
    "\n",
    "Is that going on here?"
   ]
  },
  {
   "cell_type": "markdown",
   "metadata": {},
   "source": [
    "# Testing the Hypothesis with Simulations"
   ]
  },
  {
   "cell_type": "code",
   "execution_count": 62,
   "metadata": {},
   "outputs": [],
   "source": [
    "def difference_of_props(table, numeric_label, group_label):\n",
    "    \"\"\"\n",
    "    Takes: name of table, column label of numerical variable,\n",
    "    column label of group-label variable\n",
    "    \n",
    "    Returns: Difference of proportions of the two groups\n",
    "    \"\"\"\n",
    "    \n",
    "    #table with the two relevant columns\n",
    "    reduced = table.select(numeric_label, group_label)  \n",
    "    \n",
    "    # table containing group means\n",
    "    count_table = reduced.group(group_label)\n",
    "    \n",
    "    success_table = reduced.group(group_label, sum)\n",
    "    \n",
    "    # array of group means\n",
    "    props = success_table.column(1)/count_table.column(1)\n",
    "    \n",
    "    return props.item(1) - props.item(0)"
   ]
  },
  {
   "cell_type": "code",
   "execution_count": 63,
   "metadata": {},
   "outputs": [],
   "source": [
    "def one_simulated_difference(table, numeric_label, group_label):\n",
    "    \"\"\"\n",
    "    Takes: name of table, column label of numerical variable,\n",
    "    column label of group-label variable\n",
    "    \n",
    "    Returns: Difference of props of the two groups after shuffling labels\n",
    "    \"\"\"\n",
    "    \n",
    "    # array of shuffled labels\n",
    "    shuffled_labels = table.sample(\n",
    "        with_replacement = False).column(group_label)\n",
    "    \n",
    "    # table of numerical variable and shuffled labels\n",
    "    shuffled_table = table.select(numeric_label).with_column(\n",
    "        'Shuffled Label', shuffled_labels)\n",
    "    \n",
    "    return difference_of_props(\n",
    "        shuffled_table, numeric_label, 'Shuffled Label')   "
   ]
  },
  {
   "cell_type": "code",
   "execution_count": 64,
   "metadata": {},
   "outputs": [
    {
     "data": {
      "text/plain": [
       "0.475"
      ]
     },
     "execution_count": 64,
     "metadata": {},
     "output_type": "execute_result"
    }
   ],
   "source": [
    "observed_diff = difference_of_props(botox, 'Result', 'Group')\n",
    "observed_diff"
   ]
  },
  {
   "cell_type": "code",
   "execution_count": 65,
   "metadata": {},
   "outputs": [
    {
     "data": {
      "text/plain": [
       "0.08750000000000002"
      ]
     },
     "execution_count": 65,
     "metadata": {},
     "output_type": "execute_result"
    }
   ],
   "source": [
    "one_simulated_difference(botox, 'Result', 'Group')"
   ]
  },
  {
   "cell_type": "code",
   "execution_count": 66,
   "metadata": {},
   "outputs": [],
   "source": [
    "simulated_diffs = make_array()\n",
    "\n",
    "for i in np.arange(10000):\n",
    "    sim_diff = one_simulated_difference(botox, 'Result', 'Group')\n",
    "    simulated_diffs = np.append(simulated_diffs, sim_diff)"
   ]
  },
  {
   "cell_type": "code",
   "execution_count": 67,
   "metadata": {},
   "outputs": [
    {
     "data": {
      "image/png": "[encoded data removed]",
      "text/plain": [
       "<Figure size 432x288 with 1 Axes>"
      ]
     },
     "metadata": {},
     "output_type": "display_data"
    }
   ],
   "source": [
    "col_name = 'Distances between groups'\n",
    "Table().with_column(col_name, simulated_diffs).hist(col_name,  left_end=observed_diff)"
   ]
  },
  {
   "cell_type": "code",
   "execution_count": 68,
   "metadata": {},
   "outputs": [
    {
     "data": {
      "text/plain": [
       "0.0078"
      ]
     },
     "execution_count": 68,
     "metadata": {},
     "output_type": "execute_result"
    }
   ],
   "source": [
    "# p-value\n",
    "sum(simulated_diffs >= observed_diff)/len(simulated_diffs)"
   ]
  },
  {
   "cell_type": "code",
   "execution_count": 69,
   "metadata": {},
   "outputs": [
    {
     "data": {
      "text/html": [
       "<table border=\"1\" class=\"dataframe\">\n",
       "    <thead>\n",
       "        <tr>\n",
       "            <th>Gender</th> <th>Survived</th>\n",
       "        </tr>\n",
       "    </thead>\n",
       "    <tbody>\n",
       "        <tr>\n",
       "            <td>M     </td> <td>1       </td>\n",
       "        </tr>\n",
       "        <tr>\n",
       "            <td>M     </td> <td>1       </td>\n",
       "        </tr>\n",
       "        <tr>\n",
       "            <td>M     </td> <td>1       </td>\n",
       "        </tr>\n",
       "        <tr>\n",
       "            <td>M     </td> <td>1       </td>\n",
       "        </tr>\n",
       "        <tr>\n",
       "            <td>M     </td> <td>1       </td>\n",
       "        </tr>\n",
       "    </tbody>\n",
       "</table>\n",
       "<p>... (2196 rows omitted)</p>"
      ],
      "text/plain": [
       "<IPython.core.display.HTML object>"
      ]
     },
     "metadata": {},
     "output_type": "display_data"
    }
   ],
   "source": [
    "G1 = make_array(\"M\", \"F\")\n",
    "\n",
    "Gender = np.repeat(G1, [1731, 470])\n",
    "\n",
    "S1 = make_array(1, 0, 1, 0)\n",
    "\n",
    "Survived = np.repeat(S1, [367, 1364, 344, 126])\n",
    "Survived\n",
    "\n",
    "Long_Titanic = Table().with_columns(\"Gender\", Gender, \"Survived\", Survived)\n",
    "\n",
    "Long_Titanic.show(5)"
   ]
  },
  {
   "cell_type": "code",
   "execution_count": 70,
   "metadata": {},
   "outputs": [
    {
     "data": {
      "text/plain": [
       "-0.5198987179959929"
      ]
     },
     "execution_count": 70,
     "metadata": {},
     "output_type": "execute_result"
    }
   ],
   "source": [
    "observed_diff = difference_of_props(Long_Titanic, 'Survived', 'Gender')\n",
    "observed_diff"
   ]
  },
  {
   "cell_type": "code",
   "execution_count": 71,
   "metadata": {},
   "outputs": [],
   "source": [
    "simulated_diffs = make_array()\n",
    "\n",
    "for i in np.arange(500):\n",
    "    sim_diff = np.round(one_simulated_difference(Long_Titanic, 'Survived', 'Gender'), 3)\n",
    "    simulated_diffs = np.append(simulated_diffs, sim_diff)"
   ]
  },
  {
   "cell_type": "code",
   "execution_count": 73,
   "metadata": {},
   "outputs": [
    {
     "name": "stderr",
     "output_type": "stream",
     "text": [
      "C:\\Users\\bbailey\\AppData\\Local\\Continuum\\anaconda3\\lib\\site-packages\\datascience\\tables.py:5206: UserWarning: FixedFormatter should only be used together with FixedLocator\n",
      "  axis.set_xticklabels(ticks, rotation='vertical')\n"
     ]
    },
    {
     "data": {
      "image/png": "[encoded data removed]",
      "text/plain": [
       "<Figure size 432x288 with 1 Axes>"
      ]
     },
     "metadata": {},
     "output_type": "display_data"
    }
   ],
   "source": [
    "col_name = 'Distances between genders'\n",
    "Table().with_column(col_name, simulated_diffs).hist(col_name, bins = np.arange(-0.08, 0.08, 0.01))\n",
    "plots.xticks(make_array(-0.075, -0.05, -0.025, 0, 0.025,0.05, 0.075), make_array(-0.075, -0.05, -0.025, 0, 0.025,0.05, 0.075) );\n",
    "\n"
   ]
  },
  {
   "cell_type": "code",
   "execution_count": 74,
   "metadata": {},
   "outputs": [
    {
     "data": {
      "text/plain": [
       "0.0"
      ]
     },
     "execution_count": 74,
     "metadata": {},
     "output_type": "execute_result"
    }
   ],
   "source": [
    "# p-value\n",
    "sum(simulated_diffs <= observed_diff)/len(simulated_diffs)"
   ]
  },
  {
   "cell_type": "markdown",
   "metadata": {},
   "source": [
    "### Reporting Out ###\n",
    "\n",
    "#### Of the men onboard, 79% died while only 27% of the women onboard died; this difference in percentage, 52%, never occurred in our simulation.  Therefore, our simulated p-value is 0 and we conclude that gender had some relationship with whether someone survived.  ####"
   ]
  },
  {
   "cell_type": "code",
   "execution_count": null,
   "metadata": {},
   "outputs": [],
   "source": []
  }
 ],
 "metadata": {
  "celltoolbar": "Edit Metadata",
  "kernelspec": {
   "display_name": "Python 3",
   "language": "python",
   "name": "python3"
  },
  "language_info": {
   "codemirror_mode": {
    "name": "ipython",
    "version": 3
   },
   "file_extension": ".py",
   "mimetype": "text/x-python",
   "name": "python",
   "nbconvert_exporter": "python",
   "pygments_lexer": "ipython3",
   "version": "3.6.5"
  }
 },
 "nbformat": 4,
 "nbformat_minor": 2
}
