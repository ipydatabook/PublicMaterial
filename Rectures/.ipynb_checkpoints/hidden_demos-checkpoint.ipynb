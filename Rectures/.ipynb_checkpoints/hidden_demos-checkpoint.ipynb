{
 "cells": [
  {
   "cell_type": "code",
   "execution_count": null,
   "metadata": {},
   "outputs": [],
   "source": [
    "def biasdemo1():\n",
    "    \n",
    "    import numpy\n",
    "    import scipy.stats as stats\n",
    "    from datascience import *\n",
    "    %matplotlib inline\n",
    "    import matplotlib.pyplot as plots\n",
    "    plots.style.use('fivethirtyeight')\n",
    "    import numpy as np\n",
    "    import scipy.stats as stats\n",
    "    \n",
    "    numpy.random.seed(15)\n",
    "    Population = np.random.normal(15000,500,100000)\n",
    "    PopSigma = np.round(np.std(Population),0)\n",
    "\n",
    "    Biased = make_array()\n",
    "    Unbiased=make_array()\n",
    "\n",
    "    reps = 200000\n",
    "\n",
    "    for i in np.arange(reps):\n",
    "        Sample = np.random.choice(Population, 3)\n",
    "        Biased = np.append(Biased, np.std(Sample))\n",
    "        Unbiased = np.append(Unbiased, stats.tstd(Sample))\n",
    "\n",
    "    biasedmean = np.round(np.mean(Biased),0)\n",
    "    unbiasedmean = np.round(np.mean(Unbiased),0)\n",
    "    \n",
    "    plots.figure(figsize=(12,6))\n",
    "    plots.suptitle(\"Biased = Bad, Unbiased = Good\")\n",
    "\n",
    "    plots.subplot(1,2,1)\n",
    "    plots.hist(Biased)\n",
    "    plots.scatter(PopSigma, -3, marker=\"^\", zorder=5, s=80, color='green')\n",
    "    plots.scatter(np.mean(Biased),-3, marker = \"s\", zorder=5, s=80, color='red')\n",
    "    plots.title(\"Biased Estimator of Sigma\")\n",
    "    plots.text(710, 0.1*reps, f\"Estimator = {biasedmean}\", color='red')\n",
    "    plots.text(710, 0.085*reps,f\"True Value = {PopSigma}\", color='green');\n",
    "\n",
    "    plots.subplot(1,2,2)\n",
    "    plots.hist(Unbiased)\n",
    "    plots.scatter(PopSigma, -3, marker=\"^\", zorder=5, s=80, color='green')\n",
    "    plots.scatter(np.mean(Unbiased),-3, marker = \"s\", zorder=5, s=80, color='red')\n",
    "    plots.title(\"Unbiased Estimator of Sigma\")\n",
    "    plots.text(710,  0.1*reps, f\"Estimator = {unbiasedmean}\", color='red')\n",
    "    plots.text(710,  0.085*reps,f\"True Value = {PopSigma}\", color='green');"
   ]
  }
 ],
 "metadata": {
  "kernelspec": {
   "display_name": "Python 3",
   "language": "python",
   "name": "python3"
  },
  "language_info": {
   "codemirror_mode": {
    "name": "ipython",
    "version": 3
   },
   "file_extension": ".py",
   "mimetype": "text/x-python",
   "name": "python",
   "nbconvert_exporter": "python",
   "pygments_lexer": "ipython3",
   "version": "3.6.5"
  }
 },
 "nbformat": 4,
 "nbformat_minor": 2
}
