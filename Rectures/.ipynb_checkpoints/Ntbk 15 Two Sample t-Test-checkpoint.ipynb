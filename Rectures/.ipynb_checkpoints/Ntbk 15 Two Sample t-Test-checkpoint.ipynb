{
 "cells": [
  {
   "cell_type": "markdown",
   "metadata": {},
   "source": [
    "# Two Sample t-Test #\n",
    "\n",
    "This is also known as the **Independent Samples t-test**\n",
    "\n",
    "In this notebook we will:\n",
    "\n",
    "- Go over the mathematics of a 2-sample t-test\n",
    "- See how to use the `ttest_ind` command in the `scipy.stats` module to run a 2-sample t-test\n",
    "- Learn how to interpret the results of this hypothesis test.\n",
    "- Learn how to report the results so as to convey the information to someone not interested in statistics"
   ]
  },
  {
   "cell_type": "code",
   "execution_count": 1,
   "metadata": {},
   "outputs": [
    {
     "data": {
      "text/html": [
       "\n",
       "    <script>\n",
       "    function code_toggle() {\n",
       "        if ($('div.cell.code_cell.rendered.selected div.input').css('display')!='none'){\n",
       "            $('div.cell.code_cell.rendered.selected div.input').hide();\n",
       "        } else {\n",
       "            $('div.cell.code_cell.rendered.selected div.input').show();\n",
       "        }\n",
       "    }\n",
       "    </script>\n",
       "\n",
       "\n",
       "<form action=\"javascript:code_toggle()\"><input type=\"submit\" id=\"toggleButton\" value=\"Hide/Show Code (Too Advanced or Not the Point)\"></form>\n"
      ],
      "text/plain": [
       "<IPython.core.display.HTML object>"
      ]
     },
     "metadata": {},
     "output_type": "display_data"
    }
   ],
   "source": [
    "from datascience import *\n",
    "%matplotlib inline\n",
    "import matplotlib.pyplot as plots\n",
    "plots.style.use('fivethirtyeight')\n",
    "import numpy as np\n",
    "import scipy.stats as stats\n",
    "\n",
    "from IPython.core.display import display, HTML\n",
    "toggle_code_str = '''\n",
    "<form action=\"javascript:code_toggle()\"><input type=\"submit\" id=\"toggleButton\" value=\"Hide/Show Code (Too Advanced or Not the Point)\"></form>\n",
    "'''\n",
    "\n",
    "toggle_code_prepare_str = '''\n",
    "    <script>\n",
    "    function code_toggle() {\n",
    "        if ($('div.cell.code_cell.rendered.selected div.input').css('display')!='none'){\n",
    "            $('div.cell.code_cell.rendered.selected div.input').hide();\n",
    "        } else {\n",
    "            $('div.cell.code_cell.rendered.selected div.input').show();\n",
    "        }\n",
    "    }\n",
    "    </script>\n",
    "\n",
    "'''\n",
    "\n",
    "display(HTML(toggle_code_prepare_str + toggle_code_str))\n",
    "\n",
    "def hide_code():\n",
    "    display(HTML(toggle_code_str))\n",
    "    "
   ]
  },
  {
   "cell_type": "code",
   "execution_count": 2,
   "metadata": {},
   "outputs": [
    {
     "data": {
      "text/html": [
       "\n",
       "<form action=\"javascript:code_toggle()\"><input type=\"submit\" id=\"toggleButton\" value=\"Hide/Show Code (Too Advanced or Not the Point)\"></form>\n"
      ],
      "text/plain": [
       "<IPython.core.display.HTML object>"
      ]
     },
     "metadata": {},
     "output_type": "display_data"
    }
   ],
   "source": [
    "from scipy.stats import ttest_ind as ttest2\n",
    "from scipy.stats import t\n",
    "import scipy.stats as stats\n",
    "import scipy.stats\n",
    "\n",
    "def groupstats(table, group, data):\n",
    "    ### This function will find all the major descriptive stats you need ###\n",
    "    cut = table.select(group, data).sort(group)\n",
    "    favstats = cut.group(group, np.mean).sort(group)\n",
    "    words = [data, 'mean']\n",
    "    favstats = favstats.relabeled(' '.join(words), \"mean\")\n",
    "    groups = favstats.column(0)\n",
    "    q1=make_array()\n",
    "    for i in np.arange(len(groups)):\n",
    "        q1 = np.append(q1, np.percentile(table.where(group, groups.item(i)).column(data), 25))\n",
    "    q3=make_array()\n",
    "    for i in np.arange(len(groups)):\n",
    "        q3 = np.append(q3, np.percentile(table.where(group, groups.item(i)).column(data), 75))\n",
    "    favstats = favstats.with_column('std', cut.group(group, stats.tstd).sort(group).column(1) )\n",
    "    favstats = favstats.with_column('min', cut.group(group, min).sort(group).column(1) )\n",
    "    favstats = favstats.with_column('Q1', q1 )\n",
    "    favstats = favstats.with_column('median', cut.group(group, np.median).sort(group).column(1) )\n",
    "    favstats = favstats.with_column('Q3', q3 )\n",
    "    favstats = favstats.with_column('max', cut.group(group, max).sort(group).column(1) )\n",
    "    favstats = favstats.with_column('IQR', cut.group(group, stats.iqr).sort(group).column(1) )\n",
    "    favstats = favstats.with_column('n', cut.group(group ).sort(group).column(1) )\n",
    "    return favstats\n",
    "\n",
    "\n",
    "from hide_code3 import hide_code\n",
    "\n",
    "hide_code()"
   ]
  },
  {
   "cell_type": "markdown",
   "metadata": {},
   "source": [
    "# Comparing Two Samples\n",
    "\n",
    "For this test, the samples must be independent.  "
   ]
  },
  {
   "cell_type": "code",
   "execution_count": 3,
   "metadata": {},
   "outputs": [],
   "source": [
    "births = Table.read_table('baby.csv')"
   ]
  },
  {
   "cell_type": "code",
   "execution_count": 4,
   "metadata": {},
   "outputs": [
    {
     "data": {
      "text/html": [
       "<table border=\"1\" class=\"dataframe\">\n",
       "    <thead>\n",
       "        <tr>\n",
       "            <th>Birth Weight</th> <th>Gestational Days</th> <th>Maternal Age</th> <th>Maternal Height</th> <th>Maternal Pregnancy Weight</th> <th>Maternal Smoker</th>\n",
       "        </tr>\n",
       "    </thead>\n",
       "    <tbody>\n",
       "        <tr>\n",
       "            <td>120         </td> <td>284             </td> <td>27          </td> <td>62             </td> <td>100                      </td> <td>False          </td>\n",
       "        </tr>\n",
       "        <tr>\n",
       "            <td>113         </td> <td>282             </td> <td>33          </td> <td>64             </td> <td>135                      </td> <td>False          </td>\n",
       "        </tr>\n",
       "        <tr>\n",
       "            <td>128         </td> <td>279             </td> <td>28          </td> <td>64             </td> <td>115                      </td> <td>True           </td>\n",
       "        </tr>\n",
       "        <tr>\n",
       "            <td>108         </td> <td>282             </td> <td>23          </td> <td>67             </td> <td>125                      </td> <td>True           </td>\n",
       "        </tr>\n",
       "        <tr>\n",
       "            <td>136         </td> <td>286             </td> <td>25          </td> <td>62             </td> <td>93                       </td> <td>False          </td>\n",
       "        </tr>\n",
       "        <tr>\n",
       "            <td>138         </td> <td>244             </td> <td>33          </td> <td>62             </td> <td>178                      </td> <td>False          </td>\n",
       "        </tr>\n",
       "        <tr>\n",
       "            <td>132         </td> <td>245             </td> <td>23          </td> <td>65             </td> <td>140                      </td> <td>False          </td>\n",
       "        </tr>\n",
       "        <tr>\n",
       "            <td>120         </td> <td>289             </td> <td>25          </td> <td>62             </td> <td>125                      </td> <td>False          </td>\n",
       "        </tr>\n",
       "        <tr>\n",
       "            <td>143         </td> <td>299             </td> <td>30          </td> <td>66             </td> <td>136                      </td> <td>True           </td>\n",
       "        </tr>\n",
       "        <tr>\n",
       "            <td>140         </td> <td>351             </td> <td>27          </td> <td>68             </td> <td>120                      </td> <td>False          </td>\n",
       "        </tr>\n",
       "    </tbody>\n",
       "</table>\n",
       "<p>... (1164 rows omitted)</p>"
      ],
      "text/plain": [
       "Birth Weight | Gestational Days | Maternal Age | Maternal Height | Maternal Pregnancy Weight | Maternal Smoker\n",
       "120          | 284              | 27           | 62              | 100                       | False\n",
       "113          | 282              | 33           | 64              | 135                       | False\n",
       "128          | 279              | 28           | 64              | 115                       | True\n",
       "108          | 282              | 23           | 67              | 125                       | True\n",
       "136          | 286              | 25           | 62              | 93                        | False\n",
       "138          | 244              | 33           | 62              | 178                       | False\n",
       "132          | 245              | 23           | 65              | 140                       | False\n",
       "120          | 289              | 25           | 62              | 125                       | False\n",
       "143          | 299              | 30           | 66              | 136                       | True\n",
       "140          | 351              | 27           | 68              | 120                       | False\n",
       "... (1164 rows omitted)"
      ]
     },
     "execution_count": 4,
     "metadata": {},
     "output_type": "execute_result"
    }
   ],
   "source": [
    "births"
   ]
  },
  {
   "cell_type": "code",
   "execution_count": 5,
   "metadata": {},
   "outputs": [
    {
     "data": {
      "text/html": [
       "<table border=\"1\" class=\"dataframe\">\n",
       "    <thead>\n",
       "        <tr>\n",
       "            <th>Maternal Smoker</th> <th>Birth Weight</th>\n",
       "        </tr>\n",
       "    </thead>\n",
       "    <tbody>\n",
       "        <tr>\n",
       "            <td>False          </td> <td>120         </td>\n",
       "        </tr>\n",
       "        <tr>\n",
       "            <td>False          </td> <td>113         </td>\n",
       "        </tr>\n",
       "        <tr>\n",
       "            <td>True           </td> <td>128         </td>\n",
       "        </tr>\n",
       "        <tr>\n",
       "            <td>True           </td> <td>108         </td>\n",
       "        </tr>\n",
       "        <tr>\n",
       "            <td>False          </td> <td>136         </td>\n",
       "        </tr>\n",
       "        <tr>\n",
       "            <td>False          </td> <td>138         </td>\n",
       "        </tr>\n",
       "        <tr>\n",
       "            <td>False          </td> <td>132         </td>\n",
       "        </tr>\n",
       "        <tr>\n",
       "            <td>False          </td> <td>120         </td>\n",
       "        </tr>\n",
       "        <tr>\n",
       "            <td>True           </td> <td>143         </td>\n",
       "        </tr>\n",
       "        <tr>\n",
       "            <td>False          </td> <td>140         </td>\n",
       "        </tr>\n",
       "    </tbody>\n",
       "</table>\n",
       "<p>... (1164 rows omitted)</p>"
      ],
      "text/plain": [
       "Maternal Smoker | Birth Weight\n",
       "False           | 120\n",
       "False           | 113\n",
       "True            | 128\n",
       "True            | 108\n",
       "False           | 136\n",
       "False           | 138\n",
       "False           | 132\n",
       "False           | 120\n",
       "True            | 143\n",
       "False           | 140\n",
       "... (1164 rows omitted)"
      ]
     },
     "execution_count": 5,
     "metadata": {},
     "output_type": "execute_result"
    }
   ],
   "source": [
    "smoking_and_birthweight = births.select('Maternal Smoker', 'Birth Weight')\n",
    "smoking_and_birthweight"
   ]
  },
  {
   "cell_type": "code",
   "execution_count": 6,
   "metadata": {},
   "outputs": [
    {
     "data": {
      "text/html": [
       "<table border=\"1\" class=\"dataframe\">\n",
       "    <thead>\n",
       "        <tr>\n",
       "            <th>Maternal Smoker</th> <th>count</th>\n",
       "        </tr>\n",
       "    </thead>\n",
       "    <tbody>\n",
       "        <tr>\n",
       "            <td>False          </td> <td>715  </td>\n",
       "        </tr>\n",
       "        <tr>\n",
       "            <td>True           </td> <td>459  </td>\n",
       "        </tr>\n",
       "    </tbody>\n",
       "</table>"
      ],
      "text/plain": [
       "Maternal Smoker | count\n",
       "False           | 715\n",
       "True            | 459"
      ]
     },
     "execution_count": 6,
     "metadata": {},
     "output_type": "execute_result"
    }
   ],
   "source": [
    "smoking_and_birthweight.group('Maternal Smoker')"
   ]
  },
  {
   "cell_type": "code",
   "execution_count": 7,
   "metadata": {},
   "outputs": [
    {
     "ename": "NameError",
     "evalue": "name 'groupstats' is not defined",
     "output_type": "error",
     "traceback": [
      "\u001b[1;31m---------------------------------------------------------------------------\u001b[0m",
      "\u001b[1;31mNameError\u001b[0m                                 Traceback (most recent call last)",
      "\u001b[1;32m<ipython-input-7-37e20e40d21a>\u001b[0m in \u001b[0;36m<module>\u001b[1;34m()\u001b[0m\n\u001b[1;32m----> 1\u001b[1;33m \u001b[0mgroupstats\u001b[0m\u001b[1;33m(\u001b[0m\u001b[0msmoking_and_birthweight\u001b[0m\u001b[1;33m,\u001b[0m \u001b[1;34m\"Maternal Smoker\"\u001b[0m\u001b[1;33m,\u001b[0m \u001b[1;34m\"Birth Weight\"\u001b[0m\u001b[1;33m)\u001b[0m\u001b[1;33m\u001b[0m\u001b[0m\n\u001b[0m",
      "\u001b[1;31mNameError\u001b[0m: name 'groupstats' is not defined"
     ]
    }
   ],
   "source": [
    "groupstats(smoking_and_birthweight, \"Maternal Smoker\", \"Birth Weight\")"
   ]
  },
  {
   "cell_type": "markdown",
   "metadata": {},
   "source": [
    "# Preparing the Data\n",
    "\n",
    "First, we have to put the two groups in separate arrays.  This is necessary to make the side-by-side boxplots that are the traditional way of examining differences between two groups when running tests like the 2-sample t-test.  However, doing this will also make running the test easier in the next step.  "
   ]
  },
  {
   "cell_type": "code",
   "execution_count": 9,
   "metadata": {},
   "outputs": [
    {
     "data": {
      "image/png": "[encoded data removed]",
      "text/plain": [
       "<Figure size 432x432 with 1 Axes>"
      ]
     },
     "metadata": {},
     "output_type": "display_data"
    }
   ],
   "source": [
    "# To make side-by-side boxplots for two groups, \n",
    "# copy this cell and only change the next four lines\n",
    "\n",
    "group1 = smoking_and_birthweight.where('Maternal Smoker', False).column(1)  # Change to data for first group\n",
    "group2 = smoking_and_birthweight.where('Maternal Smoker', True).column(1) # Change to data for second group\n",
    "labels = make_array(\"Non-Smokers\", \"Smokers\")  # Change to appropriate labels\n",
    "my_title = \"Birth Weights By Mothers Smoking Status\"  # Change to your title\n",
    "\n",
    "## Make no changes below here but do copy\n",
    "\n",
    "ticks=make_array(2.5, 3.5)  \n",
    "plots.figure(figsize=(6, 6))\n",
    "plots.boxplot(group1, widths=.5, positions=make_array(ticks.item(0)), showmeans=True)\n",
    "plots.boxplot(group2, widths=.5, positions=make_array(ticks.item(1)), showmeans=True)\n",
    "plots.xticks(ticks, labels)\n",
    "plots.title(my_title); \n"
   ]
  },
  {
   "cell_type": "markdown",
   "metadata": {},
   "source": [
    "# 2-Sample t-Test\n",
    "\n",
    "Since we went throught the effort of naming the two groups to make the boxplots, we can use those names again to make the running the t-test easier.  Notice that we imported `scipy.stats.ttest_ind` as simply `ttest2`, we use this shorter command in the cell below.  "
   ]
  },
  {
   "cell_type": "code",
   "execution_count": 8,
   "metadata": {},
   "outputs": [
    {
     "data": {
      "text/plain": [
       "Ttest_indResult(statistic=8.626464445756927, pvalue=2.6564639952299482e-17)"
      ]
     },
     "execution_count": 8,
     "metadata": {},
     "output_type": "execute_result"
    }
   ],
   "source": [
    "ttest2(group1, group2, equal_var=False)"
   ]
  },
  {
   "cell_type": "markdown",
   "metadata": {},
   "source": [
    "The p-value shown here is extremely small.  Therefore, we conclude that there is a significant difference in weights for babies based on whether their mothers smoked.  From the boxplots, we can tell that the Non-Smoker mothers had babies with higher birth weights.  "
   ]
  },
  {
   "cell_type": "code",
   "execution_count": 9,
   "metadata": {},
   "outputs": [
    {
     "data": {
      "text/plain": [
       "Ttest_indResult(statistic=8.718755502379533, pvalue=9.461067881089321e-18)"
      ]
     },
     "execution_count": 9,
     "metadata": {},
     "output_type": "execute_result"
    }
   ],
   "source": [
    "ttest2(group1, group2)"
   ]
  },
  {
   "cell_type": "code",
   "execution_count": 10,
   "metadata": {},
   "outputs": [
    {
     "data": {
      "text/plain": [
       "9.266142572024918"
      ]
     },
     "execution_count": 10,
     "metadata": {},
     "output_type": "execute_result"
    }
   ],
   "source": [
    "np.mean(group1)-np.mean(group2)"
   ]
  },
  {
   "cell_type": "markdown",
   "metadata": {},
   "source": [
    "## Reporting out ##\n",
    "\n",
    "When reporting this to a client or supervisor, you may write something like this:\n",
    "\n",
    "### The difference in average birthweights of babies between mothers that smoke and those that do not is about 9.3 oz, with Non-Smokers having the greater average birthweight.  See Table and Figure 1 below.  This difference was statistically significant (t = 8.63, p <0.001). ###\n",
    "\n",
    "<table>\n",
    "    <tr>\n",
    "        <th> Group </th>\n",
    "        <th> Mean </th>\n",
    "        <th> St. Dev </th>\n",
    "    </tr>\n",
    "    <tr>\n",
    "        <td> Smokers</td>\n",
    "        <td> 113.8 </td>\n",
    "        <td> 18.3 </td>\n",
    "    </tr>\n",
    "    <tr>\n",
    "        <td> Non-Smokers</td>\n",
    "        <td> 123.1 </td>\n",
    "        <td> 17.4 </td>\n",
    "    </tr>\n",
    "    \n",
    "</table>\n",
    "\n",
    "\n",
    "Also, in many situations, you would include the side-by-side boxplot we generated above.\n"
   ]
  },
  {
   "cell_type": "code",
   "execution_count": 11,
   "metadata": {},
   "outputs": [
    {
     "data": {
      "text/html": [
       "\n",
       "<form action=\"javascript:code_toggle()\"><input type=\"submit\" id=\"toggleButton\" value=\"Hide/Show Code (Too Advanced or Not the Point)\"></form>\n"
      ],
      "text/plain": [
       "<IPython.core.display.HTML object>"
      ]
     },
     "metadata": {},
     "output_type": "display_data"
    },
    {
     "data": {
      "image/png": "[encoded data removed]",
      "text/plain": [
       "<Figure size 432x432 with 1 Axes>"
      ]
     },
     "metadata": {},
     "output_type": "display_data"
    }
   ],
   "source": [
    "# To make side-by-side boxplots for two groups, \n",
    "# copy this cell and only change the next four lines\n",
    "\n",
    "group1 = smoking_and_birthweight.where('Maternal Smoker', False).column(1)  # Change to data for first group\n",
    "group2 = smoking_and_birthweight.where('Maternal Smoker', True).column(1) # Change to data for second group\n",
    "labels = make_array(\"Non-Smokers\", \"Smokers\")  # Change to appropriate labels\n",
    "my_title = \"Birth Weights By Mothers Smoking Status\"  # Change to your title\n",
    "\n",
    "## Make no changes below here but do copy\n",
    "\n",
    "ticks=make_array(2.5, 3.5)  \n",
    "plots.figure(figsize=(6, 6))\n",
    "plots.boxplot(group1, widths=.5, positions=make_array(ticks.item(0)), showmeans=True)\n",
    "plots.boxplot(group2, widths=.5, positions=make_array(ticks.item(1)), showmeans=True)\n",
    "plots.xticks(ticks, labels)\n",
    "plots.title(my_title)\n",
    "plots.text(3, 30,\"Figure 1\", ha='center'); \n",
    "\n",
    "hide_code()"
   ]
  },
  {
   "cell_type": "markdown",
   "metadata": {},
   "source": [
    "# What is this test doing?\n",
    "\n",
    "Full disclosure:  No one will ever ask you to do this in this way.  People just to remember how to run the ttest2 command and how to interpret the results.  The second part is why we're looking at this part; knowing what the test is doing and how the values are calculated make it easier to appropriately interpret the results.  \n",
    "\n",
    "## Step 1: Determine the hypotheses\n",
    "\n",
    "The null hypothesis for a 2-sample t-test is typically:\n",
    "\n",
    "$H_o: \\mu_1 = \\mu_2$\n",
    "\n",
    "While the alternative or research hypothesis is one of the following three options:\n",
    "\n",
    "$H_a: \\mu_1 \\not= \\mu_2$\n",
    "\n",
    "$H_a: \\mu_1 > \\mu_2$\n",
    "\n",
    "$H_a: \\mu_1 < \\mu_2$\n",
    "\n",
    "\n",
    "\n",
    "\n",
    "## Step 2: Find the Test Statistic\n",
    "\n",
    "The test statistic for a 2-sample t-test (assuming unequal variances) is:\n",
    "\n",
    "$$  t = \\frac{ \\overline{x}_1 -\\overline{x}_2}{\\sqrt{\\frac{S_1^2}{n_1} +\\frac{S_2^2}{n_2}}}$$\n",
    "\n",
    "\n",
    "## Step 3: Find the degrees of freedom\n",
    "\n",
    "What are the degrees of freedom?  To explain that, we need to look at some graphs."
   ]
  },
  {
   "cell_type": "code",
   "execution_count": 12,
   "metadata": {},
   "outputs": [
    {
     "data": {
      "image/png": "[encoded data removed]",
      "text/plain": [
       "<Figure size 432x288 with 1 Axes>"
      ]
     },
     "metadata": {},
     "output_type": "display_data"
    }
   ],
   "source": [
    "rv = t(df=35, loc=0, scale=1)\n",
    "x = np.linspace(rv.ppf(0.0001), rv.ppf(0.9999), 100)\n",
    "y = rv.pdf(x) \n",
    "\n",
    "plots.xlim(-5,5)\n",
    "plots.plot(x,y);\n",
    "\n",
    "\n",
    "rv = t(df=5, loc=0, scale=1)\n",
    "x = np.linspace(rv.ppf(0.0001), rv.ppf(0.9999), 100)\n",
    "y = rv.pdf(x) \n",
    "\n",
    "plots.xlim(-5,5)\n",
    "plots.plot(x,y)\n",
    "plots.title(\"T-Distributions with 5 and 35 df\");"
   ]
  },
  {
   "cell_type": "code",
   "execution_count": 13,
   "metadata": {},
   "outputs": [
    {
     "data": {
      "text/html": [
       "<iframe src=Tdist.gif width=530 height=450></iframe>"
      ],
      "text/plain": [
       "<IPython.core.display.HTML object>"
      ]
     },
     "execution_count": 13,
     "metadata": {},
     "output_type": "execute_result"
    }
   ],
   "source": [
    "import IPython\n",
    "#url = \"https://public.flourish.studio/visualisation/1631776/\"\n",
    "#url = \"C:/Users/bbailey/Desktop/Jupyter Lectures/Tdist.gif\"\n",
    "url = \"Tdist.gif\"\n",
    "iframe = '<iframe src=' + url + ' width=530 height=450></iframe>'\n",
    "IPython.display.HTML(iframe)"
   ]
  },
  {
   "cell_type": "markdown",
   "metadata": {},
   "source": [
    "# T-distribution graphs\n",
    "\n",
    "There isn't just one t-distribution.  There is a different t-distribution for every value of the degrees of freedom; that is to say that the degrees of freedom change the shape of the graph.  The graph above just illustrates two possible t-distribution graphs.  \n",
    "\n",
    "\n",
    "## Do NOT memorize this formula; not important\n",
    "\n",
    "$$ df = \\frac{\\left[ \\frac{S_1^2}{n_1}+ \\frac{S_2^2}{n_2} \\right]^2}{\\frac{\\left(\\frac{S_1^2}{n_1}\\right)^2 }{n_1-1} + \\frac{\\left(\\frac{S_2^2}{n_2}\\right)^2 }{n_2-1}  }$$"
   ]
  },
  {
   "cell_type": "code",
   "execution_count": null,
   "metadata": {},
   "outputs": [],
   "source": []
  },
  {
   "cell_type": "markdown",
   "metadata": {},
   "source": [
    "## Step 4: Find the p-value\n",
    "\n",
    "The p-value is computed by looking at the area under the appropriate t-distribution.  "
   ]
  },
  {
   "cell_type": "code",
   "execution_count": 14,
   "metadata": {},
   "outputs": [
    {
     "data": {
      "image/png": "[encoded data removed]",
      "text/plain": [
       "<Figure size 432x288 with 1 Axes>"
      ]
     },
     "metadata": {},
     "output_type": "display_data"
    }
   ],
   "source": [
    "rv = t(df=5, loc=0, scale=1)\n",
    "x = np.linspace(rv.ppf(0.0001), rv.ppf(0.9999), 100)\n",
    "y = rv.pdf(x) \n",
    "\n",
    "plots.xlim(-5,5)\n",
    "plots.plot(x,y)\n",
    "plots.fill_between(x, y, where = abs(x) > 0.5, color=\"r\")\n",
    "plots.title(\"P-value for Two-tailed Test\");\n"
   ]
  },
  {
   "cell_type": "code",
   "execution_count": 15,
   "metadata": {},
   "outputs": [
    {
     "data": {
      "image/png": "[encoded data removed]",
      "text/plain": [
       "<Figure size 432x288 with 1 Axes>"
      ]
     },
     "metadata": {},
     "output_type": "display_data"
    }
   ],
   "source": [
    "rv = t(df=5, loc=0, scale=1)\n",
    "x = np.linspace(rv.ppf(0.0001), rv.ppf(0.9999), 100)\n",
    "y = rv.pdf(x) \n",
    "\n",
    "plots.xlim(-5,5)\n",
    "plots.plot(x,y)\n",
    "plots.fill_between(x, y, where = (x) > 2.5, color=\"r\")\n",
    "plots.title(\"P-value for One-tailed Test (greater)\");"
   ]
  },
  {
   "cell_type": "code",
   "execution_count": 16,
   "metadata": {},
   "outputs": [
    {
     "data": {
      "image/png": "[encoded data removed]",
      "text/plain": [
       "<Figure size 432x288 with 1 Axes>"
      ]
     },
     "metadata": {},
     "output_type": "display_data"
    }
   ],
   "source": [
    "plots.xlim(-5,5)\n",
    "plots.plot(x,y)\n",
    "plots.fill_between(x, y, where = (x) < -2.5, color=\"r\")\n",
    "plots.title(\"P-value for One-tailed Test (less)\");"
   ]
  },
  {
   "cell_type": "markdown",
   "metadata": {},
   "source": [
    "## Recall the hypotheses\n",
    "\n",
    "The null hypothesis:\n",
    "\n",
    "$H_o: \\mu_1 = \\mu_2$\n",
    "\n",
    "While the alternative or research hypothesis is **one** of the following three options:\n",
    "\n",
    "$H_a: \\mu_1 \\not= \\mu_2$\n",
    "\n",
    "$H_a: \\mu_1 > \\mu_2$\n",
    "\n",
    "$H_a: \\mu_1 < \\mu_2$\n",
    "\n",
    "\n",
    "## Final Step: Interpretting p-value in Context\n",
    "\n",
    "If your p-value is _small_, typically less than 0.05, then you reject the null hypothesis, and instead believe the alternative hypothesis.\n",
    "\n",
    "If your p-value is _large_, we do not reject the null hypothesis.  That is not the same as saying we accept or believe the null hypothesis; what it means is that we don't have evidence enough to reject it."
   ]
  },
  {
   "cell_type": "code",
   "execution_count": 17,
   "metadata": {},
   "outputs": [
    {
     "data": {
      "text/html": [
       "<table border=\"1\" class=\"dataframe\">\n",
       "    <thead>\n",
       "        <tr>\n",
       "            <th>Maternal Smoker</th> <th>Birth Weight average</th>\n",
       "        </tr>\n",
       "    </thead>\n",
       "    <tbody>\n",
       "        <tr>\n",
       "            <td>False          </td> <td>123.085             </td>\n",
       "        </tr>\n",
       "        <tr>\n",
       "            <td>True           </td> <td>113.819             </td>\n",
       "        </tr>\n",
       "    </tbody>\n",
       "</table>"
      ],
      "text/plain": [
       "Maternal Smoker | Birth Weight average\n",
       "False           | 123.085\n",
       "True            | 113.819"
      ]
     },
     "execution_count": 17,
     "metadata": {},
     "output_type": "execute_result"
    }
   ],
   "source": [
    "means_table = smoking_and_birthweight.group('Maternal Smoker', np.average)\n",
    "means_table"
   ]
  },
  {
   "cell_type": "code",
   "execution_count": 18,
   "metadata": {},
   "outputs": [
    {
     "data": {
      "text/html": [
       "<table border=\"1\" class=\"dataframe\">\n",
       "    <thead>\n",
       "        <tr>\n",
       "            <th>Maternal Smoker</th> <th>Birth Weight std</th>\n",
       "        </tr>\n",
       "    </thead>\n",
       "    <tbody>\n",
       "        <tr>\n",
       "            <td>False          </td> <td>17.4115         </td>\n",
       "        </tr>\n",
       "        <tr>\n",
       "            <td>True           </td> <td>18.2751         </td>\n",
       "        </tr>\n",
       "    </tbody>\n",
       "</table>"
      ],
      "text/plain": [
       "Maternal Smoker | Birth Weight std\n",
       "False           | 17.4115\n",
       "True            | 18.2751"
      ]
     },
     "execution_count": 18,
     "metadata": {},
     "output_type": "execute_result"
    }
   ],
   "source": [
    "std_table = smoking_and_birthweight.group('Maternal Smoker', np.std)\n",
    "std_table"
   ]
  },
  {
   "cell_type": "code",
   "execution_count": 19,
   "metadata": {},
   "outputs": [
    {
     "data": {
      "text/html": [
       "<table border=\"1\" class=\"dataframe\">\n",
       "    <thead>\n",
       "        <tr>\n",
       "            <th>Maternal Smoker</th> <th>count</th>\n",
       "        </tr>\n",
       "    </thead>\n",
       "    <tbody>\n",
       "        <tr>\n",
       "            <td>False          </td> <td>715  </td>\n",
       "        </tr>\n",
       "        <tr>\n",
       "            <td>True           </td> <td>459  </td>\n",
       "        </tr>\n",
       "    </tbody>\n",
       "</table>"
      ],
      "text/plain": [
       "Maternal Smoker | count\n",
       "False           | 715\n",
       "True            | 459"
      ]
     },
     "execution_count": 19,
     "metadata": {},
     "output_type": "execute_result"
    }
   ],
   "source": [
    "size_table = smoking_and_birthweight.group('Maternal Smoker')\n",
    "size_table"
   ]
  },
  {
   "cell_type": "code",
   "execution_count": 20,
   "metadata": {},
   "outputs": [
    {
     "data": {
      "text/plain": [
       "8.634634929032464"
      ]
     },
     "execution_count": 20,
     "metadata": {},
     "output_type": "execute_result"
    }
   ],
   "source": [
    "diff_in_means = means_table.column(1).item(0) - means_table.column(1).item(1)\n",
    "st_error = np.sqrt(std_table.column(1).item(0)**2/size_table.column(1).item(0) + std_table.column(1).item(1)**2/size_table.column(1).item(1))\n",
    "\n",
    "t_stat = diff_in_means/st_error\n",
    "\n",
    "t_stat"
   ]
  },
  {
   "cell_type": "code",
   "execution_count": 21,
   "metadata": {},
   "outputs": [
    {
     "data": {
      "text/plain": [
       "942.0912087904698"
      ]
     },
     "execution_count": 21,
     "metadata": {},
     "output_type": "execute_result"
    }
   ],
   "source": [
    "#df = (std_table.column(1).item(0)**2/size_table.column(1).item(0) + std_table.column(1).item(1)**2/size_table.column(1).item(1))**2/((std_table.column(1).item(0)**4/size_table.column(1).item(0)**2/(size_table.column(1).item(0)-1) + std_table.column(1).item(1)**4/size_table.column(1).item(1)**2/(size_table.column(1).item(1)-1)))\n",
    "\n",
    "df_top = (std_table.column(1).item(0)**2/size_table.column(1).item(0) + std_table.column(1).item(1)**2/size_table.column(1).item(1))**2\n",
    "\n",
    "df_bottom = ((std_table.column(1).item(0)**4/size_table.column(1).item(0)**2/(size_table.column(1).item(0)-1) + std_table.column(1).item(1)**4/size_table.column(1).item(1)**2/(size_table.column(1).item(1)-1)))\n",
    "\n",
    "df = df_top/df_bottom\n",
    "\n",
    "df"
   ]
  },
  {
   "cell_type": "code",
   "execution_count": 22,
   "metadata": {},
   "outputs": [
    {
     "data": {
      "image/png": "[encoded data removed]",
      "text/plain": [
       "<Figure size 432x288 with 1 Axes>"
      ]
     },
     "metadata": {},
     "output_type": "display_data"
    }
   ],
   "source": [
    "rv = t(df=df, loc=0, scale=1)\n",
    "x = np.linspace(rv.ppf(0.0001), rv.ppf(0.9999), 1000)\n",
    "y = rv.pdf(x) \n",
    "\n",
    "plots.xlim(-5,9)\n",
    "plots.plot(x,y)\n",
    "plots.fill_between(x, y, where = x > t_stat, color=\"r\");"
   ]
  },
  {
   "cell_type": "code",
   "execution_count": 23,
   "metadata": {},
   "outputs": [
    {
     "data": {
      "text/plain": [
       "0.0"
      ]
     },
     "execution_count": 23,
     "metadata": {},
     "output_type": "execute_result"
    }
   ],
   "source": [
    "1-t.cdf(t_stat, df)"
   ]
  },
  {
   "cell_type": "markdown",
   "metadata": {},
   "source": [
    "# Random Permutation (Shuffling)"
   ]
  },
  {
   "cell_type": "code",
   "execution_count": 24,
   "metadata": {},
   "outputs": [],
   "source": [
    "letters = Table().with_column('Letter', make_array('a', 'b', 'c', 'd', 'e'))"
   ]
  },
  {
   "cell_type": "code",
   "execution_count": 25,
   "metadata": {},
   "outputs": [
    {
     "data": {
      "text/html": [
       "<table border=\"1\" class=\"dataframe\">\n",
       "    <thead>\n",
       "        <tr>\n",
       "            <th>Letter</th>\n",
       "        </tr>\n",
       "    </thead>\n",
       "    <tbody>\n",
       "        <tr>\n",
       "            <td>a     </td>\n",
       "        </tr>\n",
       "        <tr>\n",
       "            <td>a     </td>\n",
       "        </tr>\n",
       "        <tr>\n",
       "            <td>e     </td>\n",
       "        </tr>\n",
       "        <tr>\n",
       "            <td>e     </td>\n",
       "        </tr>\n",
       "        <tr>\n",
       "            <td>e     </td>\n",
       "        </tr>\n",
       "    </tbody>\n",
       "</table>"
      ],
      "text/plain": [
       "Letter\n",
       "a\n",
       "a\n",
       "e\n",
       "e\n",
       "e"
      ]
     },
     "execution_count": 25,
     "metadata": {},
     "output_type": "execute_result"
    }
   ],
   "source": [
    "letters.sample()"
   ]
  },
  {
   "cell_type": "code",
   "execution_count": 26,
   "metadata": {},
   "outputs": [
    {
     "data": {
      "text/html": [
       "<table border=\"1\" class=\"dataframe\">\n",
       "    <thead>\n",
       "        <tr>\n",
       "            <th>Letter</th>\n",
       "        </tr>\n",
       "    </thead>\n",
       "    <tbody>\n",
       "        <tr>\n",
       "            <td>d     </td>\n",
       "        </tr>\n",
       "        <tr>\n",
       "            <td>c     </td>\n",
       "        </tr>\n",
       "        <tr>\n",
       "            <td>b     </td>\n",
       "        </tr>\n",
       "        <tr>\n",
       "            <td>a     </td>\n",
       "        </tr>\n",
       "        <tr>\n",
       "            <td>e     </td>\n",
       "        </tr>\n",
       "    </tbody>\n",
       "</table>"
      ],
      "text/plain": [
       "Letter\n",
       "d\n",
       "c\n",
       "b\n",
       "a\n",
       "e"
      ]
     },
     "execution_count": 26,
     "metadata": {},
     "output_type": "execute_result"
    }
   ],
   "source": [
    "letters.sample(with_replacement = False)"
   ]
  },
  {
   "cell_type": "code",
   "execution_count": 27,
   "metadata": {},
   "outputs": [
    {
     "data": {
      "text/html": [
       "<table border=\"1\" class=\"dataframe\">\n",
       "    <thead>\n",
       "        <tr>\n",
       "            <th>Letter</th> <th>Shuffled</th>\n",
       "        </tr>\n",
       "    </thead>\n",
       "    <tbody>\n",
       "        <tr>\n",
       "            <td>a     </td> <td>a       </td>\n",
       "        </tr>\n",
       "        <tr>\n",
       "            <td>b     </td> <td>e       </td>\n",
       "        </tr>\n",
       "        <tr>\n",
       "            <td>c     </td> <td>c       </td>\n",
       "        </tr>\n",
       "        <tr>\n",
       "            <td>d     </td> <td>d       </td>\n",
       "        </tr>\n",
       "        <tr>\n",
       "            <td>e     </td> <td>b       </td>\n",
       "        </tr>\n",
       "    </tbody>\n",
       "</table>"
      ],
      "text/plain": [
       "Letter | Shuffled\n",
       "a      | a\n",
       "b      | e\n",
       "c      | c\n",
       "d      | d\n",
       "e      | b"
      ]
     },
     "execution_count": 27,
     "metadata": {},
     "output_type": "execute_result"
    }
   ],
   "source": [
    "letters.with_column('Shuffled', letters.sample(with_replacement = False).column(0))"
   ]
  },
  {
   "cell_type": "markdown",
   "metadata": {},
   "source": [
    "# Simulation Under Null Hypothesis"
   ]
  },
  {
   "cell_type": "code",
   "execution_count": 28,
   "metadata": {},
   "outputs": [],
   "source": [
    "def difference_of_means(table, label, group_label):\n",
    "    \"\"\"Takes: name of table, column label of numerical variable,\n",
    "    column label of group-label variable\n",
    "    Returns: Difference of means of the two groups\"\"\"\n",
    "    \n",
    "    #table with the two relevant columns\n",
    "    reduced = table.select(label, group_label)  \n",
    "    \n",
    "    # table containing group means\n",
    "    means_table = reduced.group(group_label, np.average)\n",
    "    # array of group means\n",
    "    means = means_table.column(1)\n",
    "    \n",
    "    return means.item(1) - means.item(0)"
   ]
  },
  {
   "cell_type": "code",
   "execution_count": 29,
   "metadata": {},
   "outputs": [
    {
     "data": {
      "text/plain": [
       "-9.266142572024918"
      ]
     },
     "execution_count": 29,
     "metadata": {},
     "output_type": "execute_result"
    }
   ],
   "source": [
    "difference_of_means(births, 'Birth Weight', 'Maternal Smoker')"
   ]
  },
  {
   "cell_type": "code",
   "execution_count": 30,
   "metadata": {},
   "outputs": [
    {
     "data": {
      "text/html": [
       "<table border=\"1\" class=\"dataframe\">\n",
       "    <thead>\n",
       "        <tr>\n",
       "            <th>Maternal Smoker</th> <th>Birth Weight</th>\n",
       "        </tr>\n",
       "    </thead>\n",
       "    <tbody>\n",
       "        <tr>\n",
       "            <td>False          </td> <td>120         </td>\n",
       "        </tr>\n",
       "        <tr>\n",
       "            <td>False          </td> <td>113         </td>\n",
       "        </tr>\n",
       "        <tr>\n",
       "            <td>True           </td> <td>128         </td>\n",
       "        </tr>\n",
       "        <tr>\n",
       "            <td>True           </td> <td>108         </td>\n",
       "        </tr>\n",
       "        <tr>\n",
       "            <td>False          </td> <td>136         </td>\n",
       "        </tr>\n",
       "        <tr>\n",
       "            <td>False          </td> <td>138         </td>\n",
       "        </tr>\n",
       "        <tr>\n",
       "            <td>False          </td> <td>132         </td>\n",
       "        </tr>\n",
       "        <tr>\n",
       "            <td>False          </td> <td>120         </td>\n",
       "        </tr>\n",
       "        <tr>\n",
       "            <td>True           </td> <td>143         </td>\n",
       "        </tr>\n",
       "        <tr>\n",
       "            <td>False          </td> <td>140         </td>\n",
       "        </tr>\n",
       "    </tbody>\n",
       "</table>\n",
       "<p>... (1164 rows omitted)</p>"
      ],
      "text/plain": [
       "Maternal Smoker | Birth Weight\n",
       "False           | 120\n",
       "False           | 113\n",
       "True            | 128\n",
       "True            | 108\n",
       "False           | 136\n",
       "False           | 138\n",
       "False           | 132\n",
       "False           | 120\n",
       "True            | 143\n",
       "False           | 140\n",
       "... (1164 rows omitted)"
      ]
     },
     "execution_count": 30,
     "metadata": {},
     "output_type": "execute_result"
    }
   ],
   "source": [
    "smoking_and_birthweight"
   ]
  },
  {
   "cell_type": "code",
   "execution_count": 31,
   "metadata": {},
   "outputs": [
    {
     "data": {
      "text/plain": [
       "array([False, False,  True, ...,  True,  True, False])"
      ]
     },
     "execution_count": 31,
     "metadata": {},
     "output_type": "execute_result"
    }
   ],
   "source": [
    "shuffled_labels = smoking_and_birthweight.sample(with_replacement=False\n",
    "                                                ).column('Maternal Smoker')\n",
    "\n",
    "shuffled_labels"
   ]
  },
  {
   "cell_type": "code",
   "execution_count": 32,
   "metadata": {},
   "outputs": [],
   "source": [
    "original_and_shuffled = smoking_and_birthweight.with_column(\n",
    "    'Shuffled Label', shuffled_labels\n",
    ")"
   ]
  },
  {
   "cell_type": "code",
   "execution_count": 33,
   "metadata": {},
   "outputs": [
    {
     "data": {
      "text/html": [
       "<table border=\"1\" class=\"dataframe\">\n",
       "    <thead>\n",
       "        <tr>\n",
       "            <th>Maternal Smoker</th> <th>Birth Weight</th> <th>Shuffled Label</th>\n",
       "        </tr>\n",
       "    </thead>\n",
       "    <tbody>\n",
       "        <tr>\n",
       "            <td>False          </td> <td>120         </td> <td>False         </td>\n",
       "        </tr>\n",
       "        <tr>\n",
       "            <td>False          </td> <td>113         </td> <td>False         </td>\n",
       "        </tr>\n",
       "        <tr>\n",
       "            <td>True           </td> <td>128         </td> <td>True          </td>\n",
       "        </tr>\n",
       "        <tr>\n",
       "            <td>True           </td> <td>108         </td> <td>False         </td>\n",
       "        </tr>\n",
       "        <tr>\n",
       "            <td>False          </td> <td>136         </td> <td>True          </td>\n",
       "        </tr>\n",
       "        <tr>\n",
       "            <td>False          </td> <td>138         </td> <td>False         </td>\n",
       "        </tr>\n",
       "        <tr>\n",
       "            <td>False          </td> <td>132         </td> <td>True          </td>\n",
       "        </tr>\n",
       "        <tr>\n",
       "            <td>False          </td> <td>120         </td> <td>False         </td>\n",
       "        </tr>\n",
       "        <tr>\n",
       "            <td>True           </td> <td>143         </td> <td>True          </td>\n",
       "        </tr>\n",
       "        <tr>\n",
       "            <td>False          </td> <td>140         </td> <td>False         </td>\n",
       "        </tr>\n",
       "    </tbody>\n",
       "</table>\n",
       "<p>... (1164 rows omitted)</p>"
      ],
      "text/plain": [
       "Maternal Smoker | Birth Weight | Shuffled Label\n",
       "False           | 120          | False\n",
       "False           | 113          | False\n",
       "True            | 128          | True\n",
       "True            | 108          | False\n",
       "False           | 136          | True\n",
       "False           | 138          | False\n",
       "False           | 132          | True\n",
       "False           | 120          | False\n",
       "True            | 143          | True\n",
       "False           | 140          | False\n",
       "... (1164 rows omitted)"
      ]
     },
     "execution_count": 33,
     "metadata": {},
     "output_type": "execute_result"
    }
   ],
   "source": [
    "original_and_shuffled"
   ]
  },
  {
   "cell_type": "code",
   "execution_count": 34,
   "metadata": {},
   "outputs": [
    {
     "data": {
      "text/plain": [
       "1.1150387738623095"
      ]
     },
     "execution_count": 34,
     "metadata": {},
     "output_type": "execute_result"
    }
   ],
   "source": [
    "difference_of_means(original_and_shuffled, 'Birth Weight', 'Shuffled Label')"
   ]
  },
  {
   "cell_type": "code",
   "execution_count": 35,
   "metadata": {},
   "outputs": [
    {
     "data": {
      "text/plain": [
       "-9.266142572024918"
      ]
     },
     "execution_count": 35,
     "metadata": {},
     "output_type": "execute_result"
    }
   ],
   "source": [
    "observed_difference = difference_of_means(original_and_shuffled, 'Birth Weight', 'Maternal Smoker')\n",
    "observed_difference"
   ]
  },
  {
   "cell_type": "markdown",
   "metadata": {},
   "source": [
    "# Permutation Test"
   ]
  },
  {
   "cell_type": "code",
   "execution_count": 36,
   "metadata": {},
   "outputs": [],
   "source": [
    "def one_simulated_difference(table, label, group_label):\n",
    "    \"\"\"Takes: name of table, column label of numerical variable,\n",
    "    column label of group-label variable\n",
    "    Returns: Difference of means of the two groups after shuffling labels\"\"\"\n",
    "    \n",
    "    # array of shuffled labels\n",
    "    shuffled_labels = table.sample(with_replacement = False\n",
    "                                                    ).column(group_label)\n",
    "    \n",
    "    # table of numerical variable and shuffled labels\n",
    "    shuffled_table = table.select(label).with_column(\n",
    "        'Shuffled Label', shuffled_labels)\n",
    "    \n",
    "    return difference_of_means(shuffled_table, label, 'Shuffled Label')   "
   ]
  },
  {
   "cell_type": "code",
   "execution_count": 37,
   "metadata": {},
   "outputs": [
    {
     "data": {
      "text/plain": [
       "0.09552234258117664"
      ]
     },
     "execution_count": 37,
     "metadata": {},
     "output_type": "execute_result"
    }
   ],
   "source": [
    "one_simulated_difference(births, 'Birth Weight', 'Maternal Smoker')"
   ]
  },
  {
   "cell_type": "code",
   "execution_count": 38,
   "metadata": {},
   "outputs": [],
   "source": [
    "differences = make_array()\n",
    "\n",
    "for i in np.arange(2500):\n",
    "    new_difference = one_simulated_difference(births, 'Birth Weight', 'Maternal Smoker')\n",
    "    differences = np.append(differences, new_difference)"
   ]
  },
  {
   "cell_type": "code",
   "execution_count": 39,
   "metadata": {},
   "outputs": [
    {
     "name": "stdout",
     "output_type": "stream",
     "text": [
      "Observed Difference: -9.266142572024918\n"
     ]
    },
    {
     "data": {
      "image/png": "[encoded data removed]",
      "text/plain": [
       "<Figure size 432x288 with 1 Axes>"
      ]
     },
     "metadata": {},
     "output_type": "display_data"
    }
   ],
   "source": [
    "Table().with_column('Difference Between Group Means', differences).hist()\n",
    "print('Observed Difference:', observed_difference)\n",
    "plots.title('Prediction Under the Null Hypothesis');"
   ]
  },
  {
   "cell_type": "code",
   "execution_count": 40,
   "metadata": {},
   "outputs": [
    {
     "data": {
      "text/plain": [
       "0.0"
      ]
     },
     "execution_count": 40,
     "metadata": {},
     "output_type": "execute_result"
    }
   ],
   "source": [
    "pvalue = sum(differences <= -9.2661 )/2500\n",
    "pvalue"
   ]
  },
  {
   "cell_type": "code",
   "execution_count": 41,
   "metadata": {},
   "outputs": [],
   "source": [
    "NonSmokers = births.where('Maternal Smoker', False).select(\"Gestational Days\", \"Birth Weight\")\n",
    "Smokers = births.where('Maternal Smoker', True ).select(\"Gestational Days\", \"Birth Weight\")"
   ]
  },
  {
   "cell_type": "code",
   "execution_count": 42,
   "metadata": {},
   "outputs": [
    {
     "data": {
      "image/png": "[encoded data removed]",
      "text/plain": [
       "<Figure size 360x360 with 1 Axes>"
      ]
     },
     "metadata": {},
     "output_type": "display_data"
    }
   ],
   "source": [
    "Smokers.scatter(\"Gestational Days\", fit_line=True)"
   ]
  },
  {
   "cell_type": "code",
   "execution_count": 43,
   "metadata": {},
   "outputs": [
    {
     "data": {
      "text/html": [
       "<table border=\"1\" class=\"dataframe\">\n",
       "    <thead>\n",
       "        <tr>\n",
       "            <th>Maternal Smoker</th> <th>mean</th> <th>std</th> <th>min</th> <th>Q1</th> <th>median</th> <th>Q3</th> <th>max</th> <th>IQR</th> <th>n</th>\n",
       "        </tr>\n",
       "    </thead>\n",
       "    <tbody>\n",
       "        <tr>\n",
       "            <td>False          </td> <td>279.874</td> <td>16.4728</td> <td>148 </td> <td>273 </td> <td>281   </td> <td>289 </td> <td>353 </td> <td>16  </td> <td>715 </td>\n",
       "        </tr>\n",
       "        <tr>\n",
       "            <td>True           </td> <td>277.898</td> <td>15.2014</td> <td>223 </td> <td>271 </td> <td>278   </td> <td>286 </td> <td>330 </td> <td>15  </td> <td>459 </td>\n",
       "        </tr>\n",
       "    </tbody>\n",
       "</table>"
      ],
      "text/plain": [
       "Maternal Smoker | mean    | std     | min  | Q1   | median | Q3   | max  | IQR  | n\n",
       "False           | 279.874 | 16.4728 | 148  | 273  | 281    | 289  | 353  | 16   | 715\n",
       "True            | 277.898 | 15.2014 | 223  | 271  | 278    | 286  | 330  | 15   | 459"
      ]
     },
     "execution_count": 43,
     "metadata": {},
     "output_type": "execute_result"
    }
   ],
   "source": [
    "groupstats(births, 'Maternal Smoker', 'Gestational Days')"
   ]
  },
  {
   "cell_type": "code",
   "execution_count": null,
   "metadata": {},
   "outputs": [],
   "source": []
  },
  {
   "cell_type": "code",
   "execution_count": 44,
   "metadata": {},
   "outputs": [
    {
     "data": {
      "text/plain": [
       "Ttest_indResult(statistic=2.1034386984694016, pvalue=0.03566890676328473)"
      ]
     },
     "execution_count": 44,
     "metadata": {},
     "output_type": "execute_result"
    }
   ],
   "source": [
    "smokers_days = births.where(\"Maternal Smoker\", True).column(\"Gestational Days\") \n",
    "\n",
    "nonsmokers_days = births.where(\"Maternal Smoker\", False).column(\"Gestational Days\") \n",
    "\n",
    "ttest2(nonsmokers_days, smokers_days, equal_var=False)"
   ]
  },
  {
   "cell_type": "markdown",
   "metadata": {},
   "source": [
    "### Reporting Out ###\n",
    "\n",
    "#### The mean number of gestational days for smokers is 277.9 while for non-smokers it is 279.9, a difference of 2 days on average;  see the Table and Figure 1 below.  This difference is statistically significant (t = 2.103, p = 0.036).  ####\n",
    "\n",
    "\n",
    "<table>\n",
    "    <tr>\n",
    "        <th> Group </th>\n",
    "        <th> Mean Days </th>\n",
    "        <th> St. Dev </th>\n",
    "    </tr>\n",
    "    <tr>\n",
    "        <td> Smokers</td>\n",
    "        <td> 277.9 </td>\n",
    "        <td> 15.2 </td>\n",
    "    </tr>\n",
    "    <tr>\n",
    "        <td> Non-Smokers</td>\n",
    "        <td> 279.9 </td>\n",
    "        <td> 16.5 </td>\n",
    "    </tr>\n",
    "    \n",
    "</table>\n",
    "\n"
   ]
  },
  {
   "cell_type": "code",
   "execution_count": 10,
   "metadata": {},
   "outputs": [
    {
     "data": {
      "text/html": [
       "\n",
       "<form action=\"javascript:code_toggle()\"><input type=\"submit\" id=\"toggleButton\" value=\"Hide/Show Code (Too Advanced or Not the Point)\"></form>\n"
      ],
      "text/plain": [
       "<IPython.core.display.HTML object>"
      ]
     },
     "metadata": {},
     "output_type": "display_data"
    },
    {
     "data": {
      "image/png": "[encoded data removed]",
      "text/plain": [
       "<Figure size 432x432 with 1 Axes>"
      ]
     },
     "metadata": {},
     "output_type": "display_data"
    }
   ],
   "source": [
    "# To make side-by-side boxplots for two groups, \n",
    "# copy this cell and only change the next four lines\n",
    "\n",
    "group1 = births.where('Maternal Smoker', False).column(\"Gestational Days\")  # Change to data for first group\n",
    "group2 = births.where('Maternal Smoker', True).column(\"Gestational Days\") # Change to data for second group\n",
    "labels = make_array(\"Non-Smokers\", \"Smokers\")  # Change to appropriate labels\n",
    "my_title = \"Gestational Days By Mothers Smoking Status\"  # Change to your title\n",
    "\n",
    "## Make no changes below here but do copy\n",
    "\n",
    "ticks=make_array(2.5, 3.5)  \n",
    "plots.figure(figsize=(6, 6))\n",
    "plots.boxplot(group1, widths=.5, positions=make_array(ticks.item(0)), showmeans=True)\n",
    "plots.boxplot(group2, widths=.5, positions=make_array(ticks.item(1)), showmeans=True)\n",
    "plots.xticks(ticks, labels)\n",
    "plots.title(my_title)\n",
    "plots.text(3, 110,\"Figure 1\", ha='center'); \n",
    "\n",
    "hide_code()"
   ]
  },
  {
   "cell_type": "code",
   "execution_count": null,
   "metadata": {},
   "outputs": [],
   "source": [
    "differences = make_array()\n",
    "\n",
    "for i in np.arange(2500):\n",
    "    new_difference = one_simulated_difference(births, 'Gestational Days', 'Maternal Smoker')\n",
    "    differences = np.append(differences, new_difference)"
   ]
  },
  {
   "cell_type": "code",
   "execution_count": null,
   "metadata": {},
   "outputs": [],
   "source": [
    "observed_difference = np.average(smokers_days) - np.average(nonsmokers_days)"
   ]
  },
  {
   "cell_type": "code",
   "execution_count": null,
   "metadata": {},
   "outputs": [],
   "source": [
    "Table().with_column('Difference Between Group Means', differences).hist('Difference Between Group Means', right_end = -1.97)\n",
    "print('Observed Difference:', observed_difference)\n",
    "plots.title('Prediction Under the Null Hypothesis');"
   ]
  },
  {
   "cell_type": "code",
   "execution_count": null,
   "metadata": {},
   "outputs": [],
   "source": [
    "pvalue = 2*sum(differences <= observed_difference)/2500\n",
    "pvalue"
   ]
  },
  {
   "cell_type": "markdown",
   "metadata": {},
   "source": [
    "## Assumptions of t-test ##\n",
    "\n",
    "- First, the data must be true numeric data (not just categorical variable that have been relabelled with numbers)\n",
    "- Approximately normal data in each group (take a look at the histograms)\n",
    "- Approximately equal variance in both groups (the if half the larger standard deviation is still more than the smaller, then this assumption is violated).\n",
    "\n",
    "If the sample size (sizes) are large, these issues are not usually a problem."
   ]
  },
  {
   "cell_type": "code",
   "execution_count": null,
   "metadata": {},
   "outputs": [],
   "source": []
  }
 ],
 "metadata": {
  "kernelspec": {
   "display_name": "Python 3",
   "language": "python",
   "name": "python3"
  },
  "language_info": {
   "codemirror_mode": {
    "name": "ipython",
    "version": 3
   },
   "file_extension": ".py",
   "mimetype": "text/x-python",
   "name": "python",
   "nbconvert_exporter": "python",
   "pygments_lexer": "ipython3",
   "version": "3.6.5"
  }
 },
 "nbformat": 4,
 "nbformat_minor": 2
}
