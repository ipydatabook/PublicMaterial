{
 "cells": [
  {
   "cell_type": "markdown",
   "metadata": {},
   "source": [
    "# Analyzing One Categorical Variable #\n",
    "\n",
    "In this notebook we will learn:\n",
    "\n",
    "- How to analyze a single (binary) categorical variable using the binomial test function\n",
    "- About and how to use the 1-sample z-proportion test\n",
    "- How to analyze a single categorical variable using a Goodness-of-fit test\n",
    "- How we could use simulations to do the above"
   ]
  },
  {
   "cell_type": "code",
   "execution_count": 1,
   "metadata": {},
   "outputs": [
    {
     "data": {
      "text/html": [
       "\n",
       "    <script>\n",
       "    function code_toggle() {\n",
       "        if ($('div.cell.code_cell.rendered.selected div.input').css('display')!='none'){\n",
       "            $('div.cell.code_cell.rendered.selected div.input').hide();\n",
       "        } else {\n",
       "            $('div.cell.code_cell.rendered.selected div.input').show();\n",
       "        }\n",
       "    }\n",
       "    </script>\n",
       "\n",
       "\n",
       "<form action=\"javascript:code_toggle()\"><input type=\"submit\" id=\"toggleButton\" value=\"Hide Code (Too Advanced or Not the Point)\"></form>\n"
      ],
      "text/plain": [
       "<IPython.core.display.HTML object>"
      ]
     },
     "metadata": {},
     "output_type": "display_data"
    }
   ],
   "source": [
    "from datascience import *\n",
    "import numpy as np\n",
    "\n",
    "%matplotlib inline\n",
    "import matplotlib.pyplot as plots\n",
    "plots.style.use('fivethirtyeight')\n",
    "from scipy import stats\n",
    "\n",
    "from IPython.core.display import display, HTML\n",
    "toggle_code_str = '''\n",
    "<form action=\"javascript:code_toggle()\"><input type=\"submit\" id=\"toggleButton\" value=\"Hide Code (Too Advanced or Not the Point)\"></form>\n",
    "'''\n",
    "\n",
    "toggle_code_prepare_str = '''\n",
    "    <script>\n",
    "    function code_toggle() {\n",
    "        if ($('div.cell.code_cell.rendered.selected div.input').css('display')!='none'){\n",
    "            $('div.cell.code_cell.rendered.selected div.input').hide();\n",
    "        } else {\n",
    "            $('div.cell.code_cell.rendered.selected div.input').show();\n",
    "        }\n",
    "    }\n",
    "    </script>\n",
    "\n",
    "'''\n",
    "\n",
    "display(HTML(toggle_code_prepare_str + toggle_code_str))\n",
    "\n",
    "def hide_code():\n",
    "    display(HTML(toggle_code_str))\n",
    "    "
   ]
  },
  {
   "cell_type": "markdown",
   "metadata": {},
   "source": [
    "# Hypothesis Testing #"
   ]
  },
  {
   "cell_type": "markdown",
   "metadata": {},
   "source": [
    "## Sample in Two Categories ##"
   ]
  },
  {
   "cell_type": "markdown",
   "metadata": {},
   "source": [
    "## Example 1 ##\n",
    "Jo: Every single day this bus has chance 70% of being late, regardless of other days.\n",
    "\n",
    "Mo: Are you kidding? It's late more often than that!\n",
    "\n",
    "Data: Watch bus for 200 days, note whether late or not\n",
    "\n",
    "Null: Every single day this bus has chance 70% of being late, regardless of other days.\n",
    "\n",
    "Alternative: Chance of \"late\" is more than 70%\n",
    "\n",
    "$H_o : \\pi = 0.7$\n",
    "\n",
    "$H_a: \\pi > 0.7$\n",
    "\n",
    "\n",
    "## Example 2 ##\n",
    "Jo: Every single day this bus has chance 70% of being late, regardless of other days.\n",
    "\n",
    "Po: Jo, stop whining. It's not late that often.\n",
    "\n",
    "Data: Watch bus for 200 days, note whether late or not\n",
    "\n",
    "Null: Every single day this bus has chance 70% of being late, regardless of other days.\n",
    "\n",
    "Alternative: Chance of late < 70%\n",
    "\n",
    "$H_o : \\pi = 0.7$\n",
    "\n",
    "$H_a: \\pi < 0.7$\n",
    "\n",
    "\n",
    "## Example 3 ##\n",
    "Jo: Every single day this bus has chance 70% of being late, regardless of other days.\n",
    "\n",
    "Bo: Jo, that's just not true.\n",
    "\n",
    "Data: Watch bus for 200 days, note whether late or not\n",
    "\n",
    "Null: Every single day this bus has chance 70% of being late, regardless of other days.\n",
    "\n",
    "Alternative: Chance of late is not 70%\n",
    "\n",
    "$H_o : \\pi = 0.7$\n",
    "\n",
    "$H_a: \\pi \\not= 0.7$\n",
    "\n",
    "\n",
    "## Example 1 Simulated ##\n",
    "\n",
    "Let's use a simulation to work example 1.  \n"
   ]
  },
  {
   "cell_type": "code",
   "execution_count": 3,
   "metadata": {},
   "outputs": [],
   "source": [
    "# The simulation will be under the null hypothesis.\n",
    "\n",
    "null_proportions = make_array(0.7, 0.3)"
   ]
  },
  {
   "cell_type": "code",
   "execution_count": 4,
   "metadata": {},
   "outputs": [],
   "source": [
    "# Define a function that simulates ONE value of the difference between the sample proportion and the null\n",
    "\n",
    "# This code depends on the null hypothesis and the choice of statistic.\n",
    "\n",
    "def distance_under_null():\n",
    "    proportion_late = sample_proportions(200, null_proportions).item(0)\n",
    "    return (proportion_late - 0.7)\n",
    "\n",
    "# Note: If you want to use counts instead of proportions, multiply by sample size\n",
    "# If you want to use percents instead of proportions, multiply by 100"
   ]
  },
  {
   "cell_type": "code",
   "execution_count": 5,
   "metadata": {},
   "outputs": [],
   "source": [
    "# Simulate 10,000 values of the test statistic\n",
    "# and collect them in an array.\n",
    "# This code always looks the same.\n",
    "\n",
    "np.random.seed(3)\n",
    "\n",
    "distances = make_array()\n",
    "for i in np.arange(10000):\n",
    "    distances = np.append(distances, distance_under_null())"
   ]
  },
  {
   "cell_type": "code",
   "execution_count": 6,
   "metadata": {},
   "outputs": [
    {
     "data": {
      "image/png": "[encoded data removed]",
      "text/plain": [
       "<Figure size 432x288 with 1 Axes>"
      ]
     },
     "metadata": {},
     "output_type": "display_data"
    }
   ],
   "source": [
    "# If the null is true, this is how the statistic should behave\n",
    "\n",
    "distance_tbl = Table().with_column('Distance', distances)\n",
    "distance_tbl.hist(bins=np.arange(-0.14, 0.14, 0.01))"
   ]
  },
  {
   "cell_type": "code",
   "execution_count": 7,
   "metadata": {},
   "outputs": [
    {
     "data": {
      "text/plain": [
       "0.050000000000000044"
      ]
     },
     "execution_count": 7,
     "metadata": {},
     "output_type": "execute_result"
    }
   ],
   "source": [
    "# Until now, we haven't needed to use what was actually observed.\n",
    "# But at this point we have to compare the null prediction with the observed statistic.\n",
    "\n",
    "# Suppose the data are 150 times late out of 200 times\n",
    "\n",
    "observed_statistic = abs(150/200 - .7)\n",
    "observed_statistic"
   ]
  },
  {
   "cell_type": "code",
   "execution_count": 8,
   "metadata": {},
   "outputs": [
    {
     "data": {
      "text/plain": [
       "0.0659"
      ]
     },
     "execution_count": 8,
     "metadata": {},
     "output_type": "execute_result"
    }
   ],
   "source": [
    "empirical_p = np.count_nonzero(distances >= observed_statistic) / 10000\n",
    "empirical_p"
   ]
  },
  {
   "cell_type": "code",
   "execution_count": 9,
   "metadata": {},
   "outputs": [
    {
     "data": {
      "image/png": "[encoded data removed]",
      "text/plain": [
       "<Figure size 432x288 with 1 Axes>"
      ]
     },
     "metadata": {},
     "output_type": "display_data"
    }
   ],
   "source": [
    "distance_tbl.hist(bins=np.arange(-0.14, 0.14, 0.01), left_end = observed_statistic)"
   ]
  },
  {
   "cell_type": "markdown",
   "metadata": {},
   "source": [
    "Interpreting the P-value:\n",
    "It is the chance, assuming that the bus is late 70% of the time, that we get a statistic that is 0.05 or greater.\n",
    "\n",
    "That chance is 6.6%, which is greater than the $\\alpha$ of 5% that we usually use. So if the null is true there is a decent chance of getting the statistic that was actually observed or one that looks even more like the alternative. So the data are consistent with the null.\n",
    "\n",
    "### Reporting out ###\n",
    "\n",
    "#### With a simulated p-value of 0.0659, we conclude that the bus is not late greater than 70% of the time. ###"
   ]
  },
  {
   "cell_type": "markdown",
   "metadata": {},
   "source": [
    "## Binomial Test\n",
    "\n",
    "There are tests in the scipy.stats module that does the same thing, only much faster.  \n",
    "\n",
    "One of those tests is the binomial test.\n",
    "\n",
    "When you have two groups, you pick one group and consider it \"success\".  Then the test needs to know how many successes you observed, in how many trials and what the null hypothesis believes the probability of success is.  You also have the opportunity to set an alternative hypothesis with a direction.  If you don't, the test will default to a two-tailed alternative.  "
   ]
  },
  {
   "cell_type": "code",
   "execution_count": 10,
   "metadata": {},
   "outputs": [
    {
     "data": {
      "text/plain": [
       "0.06954527985344319"
      ]
     },
     "execution_count": 10,
     "metadata": {},
     "output_type": "execute_result"
    }
   ],
   "source": [
    "import scipy.stats\n",
    "\n",
    "scipy.stats.binom_test(150, 200, p = 0.7, alternative=\"greater\")"
   ]
  },
  {
   "cell_type": "markdown",
   "metadata": {},
   "source": [
    "Let $\\pi$ refer to the true population proportion of times the bus is late.  Then we have the following.\n",
    "\n",
    "$H_o: \\pi = 0.7$\n",
    "\n",
    "$H_a: \\pi > 0.7$\n",
    "\n",
    "With $p \\approx 0.069$, this test does not lead to rejecting the null hypothesis.  "
   ]
  },
  {
   "cell_type": "markdown",
   "metadata": {},
   "source": [
    "### Change the data to make a new example ###\n",
    "\n",
    "What if the bus was late 155 out of 200 times?  Would that be enough evidence to reject the null that the proportion is 70%?"
   ]
  },
  {
   "cell_type": "code",
   "execution_count": 11,
   "metadata": {},
   "outputs": [
    {
     "data": {
      "text/plain": [
       "0.07500000000000007"
      ]
     },
     "execution_count": 11,
     "metadata": {},
     "output_type": "execute_result"
    }
   ],
   "source": [
    "observed_statistic = 155/200 - 0.7\n",
    "\n",
    "observed_statistic"
   ]
  },
  {
   "cell_type": "code",
   "execution_count": 12,
   "metadata": {},
   "outputs": [
    {
     "data": {
      "text/plain": [
       "0.0101"
      ]
     },
     "execution_count": 12,
     "metadata": {},
     "output_type": "execute_result"
    }
   ],
   "source": [
    "np.count_nonzero(distances >= observed_statistic) / 10000"
   ]
  },
  {
   "cell_type": "code",
   "execution_count": 13,
   "metadata": {},
   "outputs": [
    {
     "data": {
      "text/plain": [
       "0.011127316096936513"
      ]
     },
     "execution_count": 13,
     "metadata": {},
     "output_type": "execute_result"
    }
   ],
   "source": [
    "import scipy.stats\n",
    "\n",
    "scipy.stats.binom_test(155, 200, p=0.7, alternative = \"greater\")"
   ]
  },
  {
   "cell_type": "markdown",
   "metadata": {},
   "source": [
    "Since the p-values are not exactly the same, we must naturally wonder when do the tradtional hypothesis test (the binomial test) and the simulation approach agree or disagree.  Let's run a series of tests both ways and see when they agree and how.  \n",
    "\n",
    "We'll keep the number of trials fixed at 200 and vary the number of successes (a late bus), and record the p-values for both types of tests.  "
   ]
  },
  {
   "cell_type": "code",
   "execution_count": 14,
   "metadata": {},
   "outputs": [
    {
     "name": "stdout",
     "output_type": "stream",
     "text": [
      "Both tests significant at  170 :  emp_p = 0.0 and theoretic_p = 6.51696901405308e-07\n",
      "Both tests significant at  169 :  emp_p = 0.0 and theoretic_p = 1.5718528891338772e-06\n",
      "Both tests significant at  168 :  emp_p = 0.0 and theoretic_p = 3.654527379215966e-06\n",
      "Both tests significant at  167 :  emp_p = 0.0 and theoretic_p = 8.198544448485e-06\n",
      "Both tests significant at  166 :  emp_p = 0.0 and theoretic_p = 1.7763891304384996e-05\n",
      "Both tests significant at  165 :  emp_p = 0.0 and theoretic_p = 3.72069228727048e-05\n",
      "Both tests significant at  164 :  emp_p = 0.0001 and theoretic_p = 7.539859202475822e-05\n",
      "Both tests significant at  163 :  emp_p = 0.0003 and theoretic_p = 0.00014794801759545164\n",
      "Both tests significant at  162 :  emp_p = 0.0003 and theoretic_p = 0.0002813189540769543\n",
      "Both tests significant at  161 :  emp_p = 0.0004 and theoretic_p = 0.0005187485333077091\n",
      "Both tests significant at  160 :  emp_p = 0.0008 and theoretic_p = 0.0009283145574807869\n",
      "Both tests significant at  159 :  emp_p = 0.0015 and theoretic_p = 0.001613303029965206\n",
      "Both tests significant at  158 :  emp_p = 0.0018 and theoretic_p = 0.0027246618781797947\n",
      "Both tests significant at  157 :  emp_p = 0.0032 and theoretic_p = 0.00447477514746203\n",
      "Both tests significant at  156 :  emp_p = 0.0055 and theoretic_p = 0.007151084724837279\n",
      "Both tests significant at  155 :  emp_p = 0.0101 and theoretic_p = 0.011127316096936513\n",
      "Both tests significant at  154 :  emp_p = 0.0155 and theoretic_p = 0.01686938935167852\n",
      "Both tests significant at  153 :  emp_p = 0.0237 and theoretic_p = 0.024932726262592308\n",
      "Both tests significant at  152 :  emp_p = 0.0341 and theoretic_p = 0.035947820435536126\n",
      "Both tests INsignificant at  151 :  emp_p = 0.0501 and theoretic_p = 0.05059179402988613\n"
     ]
    }
   ],
   "source": [
    "for i in np.arange(20):\n",
    "    observed_statistic = ((170-i)/200 - .7)\n",
    "    emp_p = np.count_nonzero(distances >= observed_statistic) / 10000\n",
    "    the_p = scipy.stats.binom_test(170-i, 200, p=0.7, alternative = \"greater\")\n",
    "    if emp_p < 0.05 and the_p < 0.05:\n",
    "        print(\"Both tests significant at \", 170-i, \":  emp_p =\", emp_p, \"and theoretic_p =\", the_p)\n",
    "    elif emp_p < .05 and the_p >0.05:\n",
    "        print(\"Simulation Test only significant at\", 170-i, \":  emp_p =\", emp_p, \"and theoretic_p =\", the_p)\n",
    "    elif emp_p > 0.05 and the_p > 0.05:\n",
    "        print(\"Both tests INsignificant at \", 170-i, \":  emp_p =\", emp_p, \"and theoretic_p =\", the_p)\n",
    "    elif emp_p >0.05 and the_p <0.05:\n",
    "        print(\"Binomial Test only significant\", 170-i, \":  emp_p =\", emp_p, \"and theoretic_p =\", the_p)\n",
    "        \n"
   ]
  },
  {
   "cell_type": "markdown",
   "metadata": {},
   "source": [
    "# What does the binomial test do?\n",
    "\n",
    "The binomial distribution allows people to compute probabilities directly from a formula\n",
    "\n",
    "That is, if the probability of success is supposed to be $p$ and you conduct $n$ trials, the probability of exactly $k$ successes is given by:\n",
    "\n",
    "$$Pr(X = k) = \\left( \\begin{array}{c} n \\\\ k \\end{array} \\right) p^k (1-p)^{n-k}$$\n",
    "\n",
    "So if the null hypothesis is $\\pi = 0.7$ and then you collect a sample of 200 and 160 \"successes\", then the alternative hypothesis is that that the true value of $\\pi$ is greater than 0.7.  The p-value for this would be\n",
    "\n",
    "\n",
    "$$ \\sum_{k = 160}^{200} \\left( \\begin{array}{c} 200 \\\\ k \\end{array} \\right) 0.7^k (1-0.7)^{200-k} $$\n",
    "\n",
    "This might be a complicated formula for us to compute by hand, but it's a simple computation for Python (or any statistical program, really).  In fact, there are several approximation techniques that yield very accurate approximations to the p-value for the binomial test; these allow the computer to make the compuation even faster.  "
   ]
  },
  {
   "cell_type": "markdown",
   "metadata": {},
   "source": [
    "## Example 2 ##\n",
    "Jo: Every single day this bus has chance 70% of being late, regardless of other days.\n",
    "\n",
    "Po: Jo, stop whining. It's not late that often.\n",
    "\n",
    "Data: Watch bus for 200 days, note whether late or not\n",
    "\n",
    "Null: Every single day this bus has chance 70% of being late, regardless of other days.\n",
    "\n",
    "Alternative: Chance of late < 70%\n",
    "\n",
    "$H_o : \\pi = 0.7$\n",
    "\n",
    "$H_a: \\pi < 0.7$\n",
    "\n",
    "\n"
   ]
  },
  {
   "cell_type": "code",
   "execution_count": 15,
   "metadata": {},
   "outputs": [
    {
     "data": {
      "text/plain": [
       "0.9494082059701139"
      ]
     },
     "execution_count": 15,
     "metadata": {},
     "output_type": "execute_result"
    }
   ],
   "source": [
    "scipy.stats.binom_test(150, 200, p=0.7, alternative = \"less\")"
   ]
  },
  {
   "cell_type": "markdown",
   "metadata": {},
   "source": [
    "## Example 3 ##\n",
    "Jo: Every single day this bus has chance 70% of being late, regardless of other days.\n",
    "\n",
    "Bo: Jo, that's just not true.\n",
    "\n",
    "Data: Watch bus for 200 days, note whether late or not\n",
    "\n",
    "Null: Every single day this bus has chance 70% of being late, regardless of other days.\n",
    "\n",
    "Alternative: Chance of late is not 70%\n",
    "\n",
    "$H_o : \\pi = 0.7$\n",
    "\n",
    "$H_a: \\pi \\not= 0.7$"
   ]
  },
  {
   "cell_type": "code",
   "execution_count": 16,
   "metadata": {},
   "outputs": [
    {
     "data": {
      "text/plain": [
       "0.14233173709397484"
      ]
     },
     "execution_count": 16,
     "metadata": {},
     "output_type": "execute_result"
    }
   ],
   "source": [
    "scipy.stats.binom_test(150, 200, p=0.7)"
   ]
  },
  {
   "cell_type": "markdown",
   "metadata": {},
   "source": [
    "## Samples with Multiple Categories ##"
   ]
  },
  {
   "cell_type": "markdown",
   "metadata": {},
   "source": [
    "Jo: Every single day this bus has a 50% chance of being a bit late, a 20% chance of being very late, and a 30% chance of being on time, regardless of other days.\n",
    "\n",
    "Po: No it doesn't.\n",
    "\n",
    "Data: Watch bus for 200 days, note arrivals in the three categories\n",
    "\n",
    "Null: Every single day this bus has a 50% chance of being a bit late, a 20% chance of being very late, and a 30% chance of being on time, regardless of other days.\n",
    "\n",
    "Alternative: The null model is wrong.\n",
    "\n",
    "Suppose the observed data is that the bus is only a bit late 90 times, very late 55 times and on time 55 times, out of the next 200 times they catch the bus.  "
   ]
  },
  {
   "cell_type": "markdown",
   "metadata": {},
   "source": [
    "## Chi-square goodness-of-fit \n",
    "\n",
    "As usual, there is a test for this, it's called the Chi-squared goodness-of-fit test.  It's in the scipy.stats module and the command is just chisquare.  \n",
    "\n",
    "Chi is the Greek letter, $\\chi$, so you will often see this test referred to as the $\\chi^2$ test.  "
   ]
  },
  {
   "cell_type": "code",
   "execution_count": 17,
   "metadata": {},
   "outputs": [
    {
     "data": {
      "text/plain": [
       "Power_divergenceResult(statistic=7.041666666666667, pvalue=0.02957477924664611)"
      ]
     },
     "execution_count": 17,
     "metadata": {},
     "output_type": "execute_result"
    }
   ],
   "source": [
    "observed = make_array(90, 55, 55)\n",
    "null_count = make_array(0.5, 0.2, 0.3)*200\n",
    "\n",
    "scipy.stats.chisquare(observed, null_count)"
   ]
  },
  {
   "cell_type": "code",
   "execution_count": 18,
   "metadata": {},
   "outputs": [
    {
     "name": "stdout",
     "output_type": "stream",
     "text": [
      "0.45\n"
     ]
    },
    {
     "data": {
      "text/plain": [
       "0.275"
      ]
     },
     "execution_count": 18,
     "metadata": {},
     "output_type": "execute_result"
    }
   ],
   "source": [
    "print(90/200)\n",
    "55/200\n"
   ]
  },
  {
   "cell_type": "markdown",
   "metadata": {},
   "source": [
    "### Reporting Out ###\n",
    "\n",
    "#### Since it is \"a little late\" 45% of the time, but \"a lot late\" 27.5% of the time and on time also 27.5% of the time, we could conclude that it is \"a lot late\" more often than predicted/believed and on time less often than predicted/believed, these results are statistically significant ($\\chi^2$ = 7.042, p = 0.030).  See Figure 1 below.  ####\n",
    "\n",
    "\n",
    "\n"
   ]
  },
  {
   "cell_type": "code",
   "execution_count": 44,
   "metadata": {},
   "outputs": [
    {
     "data": {
      "image/png": "[encoded data removed]",
      "text/plain": [
       "<Figure size 432x288 with 1 Axes>"
      ]
     },
     "metadata": {},
     "output_type": "display_data"
    }
   ],
   "source": [
    "Table().with_columns(\"Status\", make_array(\"A little late\", \"A lot late\",\"On Time\"), \"Count\", make_array(90,55,55)).barh(\"Status\")\n",
    "plots.text(50,-.8, \"Figure 1\", ha='center');"
   ]
  },
  {
   "cell_type": "markdown",
   "metadata": {},
   "source": [
    "Could we have used the $\\chi^2$ test on the previous example?  Yes, but since this test is designed for three or more groups, it does not accept an alternative hypothesis with a direction.  Thus, we lose some precision.  See, the p-values are slightly different with this test.  "
   ]
  },
  {
   "cell_type": "code",
   "execution_count": 19,
   "metadata": {},
   "outputs": [
    {
     "name": "stdout",
     "output_type": "stream",
     "text": [
      "0.14233173709397484\n"
     ]
    },
    {
     "data": {
      "text/plain": [
       "Power_divergenceResult(statistic=2.380952380952381, pvalue=0.12282264810139186)"
      ]
     },
     "execution_count": 19,
     "metadata": {},
     "output_type": "execute_result"
    }
   ],
   "source": [
    "observed = make_array(150, 50)\n",
    "null_count = make_array(0.7, 0.3)*200\n",
    "\n",
    "print(scipy.stats.binom_test(150,200,0.7))\n",
    "\n",
    "scipy.stats.chisquare(observed, null_count)"
   ]
  },
  {
   "cell_type": "markdown",
   "metadata": {},
   "source": [
    "## What does a $\\chi^2$ test do?\n",
    "\n",
    "$$\\chi^2 = \\sum \\frac{(Observed - Expected)^2}{Expected}$$\n",
    "\n",
    "Then it finds the appropriate $\\chi^2$ graph, based on the degrees of freedom.  For a goodness-of-fit test, the degrees of freedom are the number of groups minus 1."
   ]
  },
  {
   "cell_type": "code",
   "execution_count": 2,
   "metadata": {},
   "outputs": [
    {
     "data": {
      "text/html": [
       "\n",
       "<form action=\"javascript:code_toggle()\"><input type=\"submit\" id=\"toggleButton\" value=\"Hide Code (Too Advanced or Not the Point)\"></form>\n"
      ],
      "text/plain": [
       "<IPython.core.display.HTML object>"
      ]
     },
     "metadata": {},
     "output_type": "display_data"
    },
    {
     "data": {
      "image/png": "[encoded data removed]",
      "text/plain": [
       "<Figure size 432x288 with 1 Axes>"
      ]
     },
     "metadata": {},
     "output_type": "display_data"
    }
   ],
   "source": [
    "import scipy.stats\n",
    "\n",
    "from scipy.stats import chi2\n",
    "\n",
    "rv = chi2(df=5)     #, loc=0, scale=1\n",
    "x = np.linspace(rv.ppf(0.0001), rv.ppf(0.9999), 100)\n",
    "y = rv.pdf(x) \n",
    "\n",
    "plots.xlim(-1,50)\n",
    "plots.plot(x,y);\n",
    "\n",
    "\n",
    "rv = chi2(df=10)\n",
    "x = np.linspace(rv.ppf(0.0001), rv.ppf(0.9999), 100)\n",
    "y = rv.pdf(x) \n",
    "plots.plot(x,y)\n",
    "\n",
    "rv = chi2(df=15)\n",
    "x = np.linspace(rv.ppf(0.0001), rv.ppf(0.9999), 100)\n",
    "y = rv.pdf(x) \n",
    "plots.plot(x,y)\n",
    "\n",
    "\n",
    "plots.title(\"Chi^2 Dist's with 5, 10 and 15 df\");\n",
    "\n",
    "hide_code()"
   ]
  },
  {
   "cell_type": "code",
   "execution_count": 5,
   "metadata": {},
   "outputs": [
    {
     "data": {
      "text/html": [
       "\n",
       "<form action=\"javascript:code_toggle()\"><input type=\"submit\" id=\"toggleButton\" value=\"Hide Code (Too Advanced or Not the Point)\"></form>\n"
      ],
      "text/plain": [
       "<IPython.core.display.HTML object>"
      ]
     },
     "metadata": {},
     "output_type": "display_data"
    },
    {
     "data": {
      "text/html": [
       "<iframe src=ChiSqr.gif width=680 height=450></iframe>"
      ],
      "text/plain": [
       "<IPython.core.display.HTML object>"
      ]
     },
     "execution_count": 5,
     "metadata": {},
     "output_type": "execute_result"
    }
   ],
   "source": [
    "hide_code()\n",
    "\n",
    "import IPython\n",
    "url = \"ChiSqr.gif\"\n",
    "iframe = '<iframe src=' + url + ' width=680 height=450></iframe>'\n",
    "IPython.display.HTML(iframe)"
   ]
  },
  {
   "cell_type": "markdown",
   "metadata": {},
   "source": [
    "In this case, our degrees of freedom are 2."
   ]
  },
  {
   "cell_type": "code",
   "execution_count": 22,
   "metadata": {},
   "outputs": [
    {
     "data": {
      "image/png": "[encoded data removed]",
      "text/plain": [
       "<Figure size 432x288 with 1 Axes>"
      ]
     },
     "metadata": {},
     "output_type": "display_data"
    }
   ],
   "source": [
    "import scipy.stats\n",
    "\n",
    "from scipy.stats import chi2\n",
    "\n",
    "rv = chi2(df=2)     #, loc=0, scale=1\n",
    "x = np.linspace(rv.ppf(0.0001), rv.ppf(0.9999), 100)\n",
    "y = rv.pdf(x) \n",
    "\n",
    "plots.xlim(-1,20)\n",
    "#plots.ylim(-.01, 0.3)\n",
    "plots.plot(x,y)\n",
    "plots.fill_between(x, y, where = abs(x) > 7.04, color=\"r\")\n",
    "plots.title(\"Chi^2 w/ df = 2 and p-value in red\");\n",
    "\n",
    "hide_code()"
   ]
  },
  {
   "cell_type": "markdown",
   "metadata": {},
   "source": [
    "## Example: Benfords Law ##\n",
    "\n",
    "Benfords law describes the real-world distribution of first digits in large data sets.  To generalize it, Benford's Law is the idea that the majority of the first digits will be small and that only a few should be larger.  The model is that the proportion of times the digit $k$ should occur is given by $\\displaystyle P(k) = \\log \\left( 1 + \\frac{1}{k}\\right)$.\n",
    "\n",
    "It has been successfully used to detect fraud in large data sets.  \n",
    "\n",
    "Let's use Benford's Law and examine the populations of the counties in the United States.\n"
   ]
  },
  {
   "cell_type": "code",
   "execution_count": 23,
   "metadata": {},
   "outputs": [
    {
     "data": {
      "text/html": [
       "<table border=\"1\" class=\"dataframe\">\n",
       "    <thead>\n",
       "        <tr>\n",
       "            <th>State</th> <th>County</th> <th>Population</th>\n",
       "        </tr>\n",
       "    </thead>\n",
       "    <tbody>\n",
       "        <tr>\n",
       "            <td>Alabama</td> <td>Autauga County</td> <td>54684     </td>\n",
       "        </tr>\n",
       "        <tr>\n",
       "            <td>Alabama</td> <td>Baldwin County</td> <td>183216    </td>\n",
       "        </tr>\n",
       "        <tr>\n",
       "            <td>Alabama</td> <td>Barbour County</td> <td>27336     </td>\n",
       "        </tr>\n",
       "    </tbody>\n",
       "</table>\n",
       "<p>... (3139 rows omitted)</p>"
      ],
      "text/plain": [
       "<IPython.core.display.HTML object>"
      ]
     },
     "metadata": {},
     "output_type": "display_data"
    }
   ],
   "source": [
    "# County populations from the census data\n",
    "counties = Table.read_table('counties.csv')\n",
    "counties = counties.where('SUMLEV', 50).select(5,6,9).relabeled(0,'State').relabeled(1,'County').relabeled(2,'Population')\n",
    "counties.show(3)"
   ]
  },
  {
   "cell_type": "code",
   "execution_count": 24,
   "metadata": {},
   "outputs": [],
   "source": [
    "digits = np.arange(1, 10)\n",
    "benford_model = np.log10(1 + 1/digits)"
   ]
  },
  {
   "cell_type": "code",
   "execution_count": 25,
   "metadata": {},
   "outputs": [
    {
     "data": {
      "image/png": "[encoded data removed]",
      "text/plain": [
       "<Figure size 432x324 with 1 Axes>"
      ]
     },
     "metadata": {},
     "output_type": "display_data"
    }
   ],
   "source": [
    "benford = Table().with_columns(\n",
    "    'First digit', digits,\n",
    "    'Benford model prob', benford_model)\n",
    "benford.barh('First digit')"
   ]
  },
  {
   "cell_type": "code",
   "execution_count": 26,
   "metadata": {},
   "outputs": [],
   "source": [
    "# You don't have to understand how this function works, since it uses Python features from beyond Data 8.\n",
    "def first_digit(num):\n",
    "    return int(str(num)[0])"
   ]
  },
  {
   "cell_type": "code",
   "execution_count": 27,
   "metadata": {},
   "outputs": [
    {
     "data": {
      "text/plain": [
       "3"
      ]
     },
     "execution_count": 27,
     "metadata": {},
     "output_type": "execute_result"
    }
   ],
   "source": [
    "first_digit(32)"
   ]
  },
  {
   "cell_type": "code",
   "execution_count": 28,
   "metadata": {},
   "outputs": [
    {
     "data": {
      "text/plain": [
       "1"
      ]
     },
     "execution_count": 28,
     "metadata": {},
     "output_type": "execute_result"
    }
   ],
   "source": [
    "first_digit(17719087)"
   ]
  },
  {
   "cell_type": "code",
   "execution_count": 29,
   "metadata": {},
   "outputs": [
    {
     "data": {
      "text/html": [
       "<table border=\"1\" class=\"dataframe\">\n",
       "    <thead>\n",
       "        <tr>\n",
       "            <th>State</th> <th>County</th> <th>Population</th> <th>First digit</th>\n",
       "        </tr>\n",
       "    </thead>\n",
       "    <tbody>\n",
       "        <tr>\n",
       "            <td>Alabama</td> <td>Autauga County</td> <td>54684     </td> <td>5          </td>\n",
       "        </tr>\n",
       "        <tr>\n",
       "            <td>Alabama</td> <td>Baldwin County</td> <td>183216    </td> <td>1          </td>\n",
       "        </tr>\n",
       "        <tr>\n",
       "            <td>Alabama</td> <td>Barbour County</td> <td>27336     </td> <td>2          </td>\n",
       "        </tr>\n",
       "    </tbody>\n",
       "</table>\n",
       "<p>... (3139 rows omitted)</p>"
      ],
      "text/plain": [
       "<IPython.core.display.HTML object>"
      ]
     },
     "metadata": {},
     "output_type": "display_data"
    }
   ],
   "source": [
    "first_digits = counties.apply(first_digit, 'Population')\n",
    "counties = counties.with_column('First digit', first_digits)\n",
    "counties.show(3)"
   ]
  },
  {
   "cell_type": "code",
   "execution_count": 30,
   "metadata": {},
   "outputs": [
    {
     "data": {
      "text/plain": [
       "3142"
      ]
     },
     "execution_count": 30,
     "metadata": {},
     "output_type": "execute_result"
    }
   ],
   "source": [
    "num_counties = counties.num_rows\n",
    "num_counties"
   ]
  },
  {
   "cell_type": "code",
   "execution_count": 31,
   "metadata": {},
   "outputs": [
    {
     "data": {
      "image/png": "[encoded data removed]",
      "text/plain": [
       "<Figure size 432x324 with 1 Axes>"
      ]
     },
     "metadata": {},
     "output_type": "display_data"
    }
   ],
   "source": [
    "by_digit = counties.group('First digit')\n",
    "proportions = by_digit.column('count')/num_counties\n",
    "by_digit = by_digit.with_columns(\n",
    "    'Proportion', proportions,\n",
    "    'Benford proportion', benford_model\n",
    ")\n",
    "by_digit.drop('count').barh('First digit')"
   ]
  },
  {
   "cell_type": "code",
   "execution_count": 32,
   "metadata": {},
   "outputs": [
    {
     "data": {
      "text/plain": [
       "Power_divergenceResult(statistic=8.225732468787427, pvalue=0.4117364624405265)"
      ]
     },
     "execution_count": 32,
     "metadata": {},
     "output_type": "execute_result"
    }
   ],
   "source": [
    "import scipy.stats\n",
    "\n",
    "counts = by_digit.column('count')\n",
    "digits = np.arange(1, 10)\n",
    "benford_prediction = np.log10(1 + 1/digits)*num_counties\n",
    "\n",
    "scipy.stats.chisquare(counts, benford_prediction)"
   ]
  },
  {
   "cell_type": "code",
   "execution_count": 6,
   "metadata": {},
   "outputs": [
    {
     "data": {
      "text/html": [
       "\n",
       "<form action=\"javascript:code_toggle()\"><input type=\"submit\" id=\"toggleButton\" value=\"Hide Code (Too Advanced or Not the Point)\"></form>\n"
      ],
      "text/plain": [
       "<IPython.core.display.HTML object>"
      ]
     },
     "metadata": {},
     "output_type": "display_data"
    },
    {
     "data": {
      "image/png": "[encoded data removed]",
      "text/plain": [
       "<Figure size 432x288 with 1 Axes>"
      ]
     },
     "metadata": {},
     "output_type": "display_data"
    }
   ],
   "source": [
    "hide_code()\n",
    "\n",
    "import scipy.stats\n",
    "\n",
    "from scipy.stats import chi2\n",
    "\n",
    "rv = chi2(df=8)     #, loc=0, scale=1\n",
    "x = np.linspace(rv.ppf(0.0001), rv.ppf(0.9999), 100)\n",
    "y = rv.pdf(x) \n",
    "\n",
    "plots.xlim(-1,29)\n",
    "#plots.ylim(-.01, 0.3)\n",
    "plots.plot(x,y)\n",
    "plots.fill_between(x, y, where = abs(x) > 8.23, color=\"r\")\n",
    "plots.title(\"Chi^2 w/ df = 8 and p-value in red\");"
   ]
  },
  {
   "cell_type": "markdown",
   "metadata": {},
   "source": [
    "### Reporting Out ###\n",
    "\n",
    "#### The populations by county in the United States do conform to Benfords Law ($\\chi^2$ = 8.226, p = 0.412), see Figure 1 below. ####"
   ]
  },
  {
   "cell_type": "code",
   "execution_count": 52,
   "metadata": {},
   "outputs": [
    {
     "data": {
      "image/png": "[encoded data removed]",
      "text/plain": [
       "<Figure size 432x324 with 1 Axes>"
      ]
     },
     "metadata": {},
     "output_type": "display_data"
    }
   ],
   "source": [
    "by_digit.drop('count').barh('First digit')\n",
    "plots.text(0.15, -2, \"Figure 1\", ha='center')\n",
    "plots.title(\"Actual vs Predicted Distribution\\nof First Digits in Populations\");"
   ]
  },
  {
   "cell_type": "markdown",
   "metadata": {},
   "source": [
    "## 1-Sample z-test for proportions ##\n",
    "\n",
    "There was a long period of time when statisticians did their work without the aid of a computer.  At that time computations like \n",
    "\n",
    "$$ \\sum_{k = 160}^{200} \\left( \\begin{array}{c} 200 \\\\ k \\end{array} \\right) 0.7^k (1-0.7)^{200-k} $$\n",
    "\n",
    "would have taken a **very** long time.  \n",
    "\n",
    "The statisticians of that time period realized that under certain conditions, the binomial distribution could be closely approximated by the normal distribution.  This approximation gave rise to what we know as the z-test for population proportions.  It serves the same purpose as the binomial test. \n",
    "\n",
    "How is it done?  First, find $\\displaystyle \\hat{p} = \\frac{\\mathrm{successes}}{\\mathrm{trials}}$.\n",
    "\n",
    "Then find $\\displaystyle z = \\frac{\\hat{p} - p_o}{\\sqrt{\\frac{p_o(1-p_o)}{n}}}$.\n",
    "\n",
    "This value of $z$ is from the standard normal distribution, $N(0, 1)$, so find the p-value from that.\n",
    "\n",
    "\n",
    "### Why discuss this when we already have the binomial test? ##\n",
    "\n",
    "There are at least two good reasons to discuss this test.\n",
    "\n",
    "1. The wheels of change can turn very slowly in some fields.  If you go on to use statistics in another academic area, you may encounter people who have not heard of the binomial test, and instead *prefer* the less exact z-test.  Don't argue with them, just use the z-test.\n",
    "\n",
    "2. As our computers are improving, that also means that the data sets we may be asked to analyze are getting bigger.  When you have a data set with millions of entries in it, we can run into essentially the same problem the statisticians had before computers were being used.  That is, it's still possible to have numbers involved are too big for a binomial test.  When they are that large, the z-test is faster and just as accurate.  \n",
    "\n",
    "Unfortunately, the scipy.stats module that houses most of the statistical functions we're using does not have a traditional 1-sample z-test for proportions, so we'll just have to write our own.  \n"
   ]
  },
  {
   "cell_type": "code",
   "execution_count": 34,
   "metadata": {},
   "outputs": [],
   "source": [
    "def z_prop_test(x, n, p, alternative =\"not equal\"):\n",
    "    \"\"\"x = successes, n = trials, p = null proportion\"\"\"\n",
    "    z = (x/n - p)/(p*(1-p)/n)**0.5\n",
    "    prob = scipy.stats.norm.sf(z)\n",
    "    \n",
    "    if alternative == \"greater\":\n",
    "        p_val = prob\n",
    "    elif alternative == \"less\":\n",
    "        p_val = 1 - prob\n",
    "    else:\n",
    "        p_val = 2 * min(prob, 1-prob)\n",
    "    \n",
    "    print(\"The test stat is z = {} with a p-value of {}.\".format(np.round(z,5), np.round(p_val, 8)))\n",
    "    "
   ]
  },
  {
   "cell_type": "markdown",
   "metadata": {},
   "source": [
    "Let's revisit Examples 1 and 3, re-doing the tests with the z-procedure and comparing the results to the binomial test.  \n",
    "\n",
    "## Example 1 ##\n",
    "Jo: Every single day this bus has chance 70% of being late, regardless of other days.\n",
    "\n",
    "Mo: Are you kidding? It's late more often than that!\n",
    "\n",
    "Data: Watch bus for 200 days, note whether late or not\n",
    "\n",
    "Null: Every single day this bus has chance 70% of being late, regardless of other days.\n",
    "\n",
    "Alternative: Chance of \"late\" is more than 70%\n",
    "\n",
    "$H_o : \\pi = 0.7$\n",
    "\n",
    "$H_a: \\pi > 0.7$\n",
    "\n",
    "\n",
    "\n",
    "## Example 3 ##\n",
    "Jo: Every single day this bus has chance 70% of being late, regardless of other days.\n",
    "\n",
    "Bo: Jo, that's just not true.\n",
    "\n",
    "Data: Watch bus for 200 days, note whether late or not\n",
    "\n",
    "Null: Every single day this bus has chance 70% of being late, regardless of other days.\n",
    "\n",
    "Alternative: Chance of late is not 70%\n",
    "\n",
    "$H_o : \\pi = 0.7$\n",
    "\n",
    "$H_a: \\pi \\not= 0.7$"
   ]
  },
  {
   "cell_type": "code",
   "execution_count": 35,
   "metadata": {},
   "outputs": [
    {
     "name": "stdout",
     "output_type": "stream",
     "text": [
      "The test stat is z = 1.54303 with a p-value of 0.06141132.\n"
     ]
    }
   ],
   "source": [
    "z_prop_test(150, 200, 0.7, \"greater\")"
   ]
  },
  {
   "cell_type": "code",
   "execution_count": 36,
   "metadata": {},
   "outputs": [
    {
     "data": {
      "text/plain": [
       "0.06954527985344319"
      ]
     },
     "execution_count": 36,
     "metadata": {},
     "output_type": "execute_result"
    }
   ],
   "source": [
    "scipy.stats.binom_test(150, 200, p = 0.7, alternative=\"greater\")"
   ]
  },
  {
   "cell_type": "code",
   "execution_count": 37,
   "metadata": {},
   "outputs": [
    {
     "name": "stdout",
     "output_type": "stream",
     "text": [
      "The test stat is z = 1.54303 with a p-value of 0.12282265.\n"
     ]
    }
   ],
   "source": [
    "z_prop_test(150, 200, 0.7)"
   ]
  },
  {
   "cell_type": "code",
   "execution_count": 38,
   "metadata": {},
   "outputs": [
    {
     "data": {
      "text/plain": [
       "0.14233173709397484"
      ]
     },
     "execution_count": 38,
     "metadata": {},
     "output_type": "execute_result"
    }
   ],
   "source": [
    "scipy.stats.binom_test(150, 200, p = 0.7)"
   ]
  },
  {
   "cell_type": "markdown",
   "metadata": {},
   "source": [
    "## Optional: Continuity Correction ##\n",
    "\n",
    "It is possible to slightly improve the accuracy of the z-test.  \n",
    "\n",
    "When $\\displaystyle \\frac{\\mathrm{successes}}{\\mathrm{trials}} > p_o$, let $\\displaystyle \\hat{p} = \\frac{\\mathrm{successes-0.5}}{\\mathrm{trials}}$ instead.\n",
    "\n",
    "When $\\displaystyle \\frac{\\mathrm{successes}}{\\mathrm{trials}} < p_o$, let $\\displaystyle \\hat{p} = \\frac{\\mathrm{successes+0.5}}{\\mathrm{trials}}$."
   ]
  },
  {
   "cell_type": "code",
   "execution_count": 39,
   "metadata": {},
   "outputs": [
    {
     "name": "stdout",
     "output_type": "stream",
     "text": [
      "The test stat is z = 1.46588 with a p-value of 0.07134024.\n"
     ]
    }
   ],
   "source": [
    "z_prop_test(149.5, 200, 0.7, \"greater\")"
   ]
  },
  {
   "cell_type": "code",
   "execution_count": 40,
   "metadata": {},
   "outputs": [
    {
     "name": "stdout",
     "output_type": "stream",
     "text": [
      "The test stat is z = 1.46588 with a p-value of 0.14268048.\n"
     ]
    }
   ],
   "source": [
    "z_prop_test(149.5, 200, 0.7)"
   ]
  },
  {
   "cell_type": "code",
   "execution_count": null,
   "metadata": {},
   "outputs": [],
   "source": []
  }
 ],
 "metadata": {
  "kernelspec": {
   "display_name": "Python 3",
   "language": "python",
   "name": "python3"
  },
  "language_info": {
   "codemirror_mode": {
    "name": "ipython",
    "version": 3
   },
   "file_extension": ".py",
   "mimetype": "text/x-python",
   "name": "python",
   "nbconvert_exporter": "python",
   "pygments_lexer": "ipython3",
   "version": "3.6.5"
  }
 },
 "nbformat": 4,
 "nbformat_minor": 2
}
