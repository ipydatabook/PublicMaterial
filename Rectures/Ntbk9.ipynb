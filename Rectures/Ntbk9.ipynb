{
 "cells": [
  {
   "cell_type": "markdown",
   "metadata": {},
   "source": [
    "# Descriptive Statistics #\n",
    "\n",
    "In this notebook we will learn about:\n",
    "    \n",
    "- The mean\n",
    "- The standard deviation\n",
    "- The percentile function and how to use it to find the Five Number Summary\n",
    "- The use of `group` table function with statistical functions\n",
    "- The definition of an outlier and how to detect outliers\n",
    "\n",
    "Some of these functions have been used before in this class, but this time we'll also discuss what they mean and how they are computed.  \n",
    "\n",
    "In this notebook we'll be using:\n",
    "\n",
    "- `np.mean` and `np.average`\n",
    "- `scipy.stats.tstd`\n",
    "- `np.percentile`\n",
    "- `np.median`\n",
    "\n",
    "We will also define custom functions called favstats and groupstats, which we recommend you copy for future use.\n"
   ]
  },
  {
   "cell_type": "code",
   "execution_count": 70,
   "metadata": {},
   "outputs": [
    {
     "data": {
      "text/html": [
       "\n",
       "<form action=\"javascript:code_toggle()\"><input type=\"submit\" id=\"toggleButton\" value=\"Hide/Show Code (Too Advanced or Not the Point)\"></form>\n"
      ],
      "text/plain": [
       "<IPython.core.display.HTML object>"
      ]
     },
     "metadata": {},
     "output_type": "display_data"
    }
   ],
   "source": [
    "from datascience import *\n",
    "%matplotlib inline\n",
    "import matplotlib.pyplot as plots\n",
    "plots.style.use('fivethirtyeight')\n",
    "import numpy as np\n",
    "import scipy.stats as stats\n",
    "\n",
    "from hide_code3 import hide_code\n",
    "hide_code()"
   ]
  },
  {
   "cell_type": "markdown",
   "metadata": {},
   "source": [
    "## Average (Mean) ##\n",
    "\n",
    "The mean is often denoted by $\\overline{x}$.\n",
    "\n",
    "$$\\overline{x} = \\frac{x_1+x_2+x_3+ \\cdots +x_n}{n} = \\frac{1}{n} \\sum_{i=1}^n x_i$$\n",
    "\n",
    "If you have a named variable, like $Height$, you can use $\\overline{Height}$ to refer to the average height.\n",
    "\n",
    "\n",
    "The mean of a dataset can be visualized as the balancing point; see the gif below.\n",
    "\n",
    "*Note to Instructors: Which gif do you prefer?*\n",
    "\n",
    "*The one with axes shown...*\n",
    "\n",
    "![Mean](Mean2.gif)\n",
    "\n",
    "*Or the one without?*\n",
    "\n",
    "![Mean](Mean1.gif)\n",
    "\n",
    "\n",
    "To find a mean `np.mean` and `np.average` will both work, as long as your data exists as a single array.  \n"
   ]
  },
  {
   "cell_type": "code",
   "execution_count": 2,
   "metadata": {},
   "outputs": [],
   "source": [
    "values = make_array(2, 3, 3, 9)"
   ]
  },
  {
   "cell_type": "code",
   "execution_count": 3,
   "metadata": {},
   "outputs": [
    {
     "data": {
      "text/plain": [
       "4.25"
      ]
     },
     "execution_count": 3,
     "metadata": {},
     "output_type": "execute_result"
    }
   ],
   "source": [
    "(2 + 3 + 3 + 9)/4"
   ]
  },
  {
   "cell_type": "code",
   "execution_count": 4,
   "metadata": {},
   "outputs": [
    {
     "data": {
      "text/plain": [
       "4.25"
      ]
     },
     "execution_count": 4,
     "metadata": {},
     "output_type": "execute_result"
    }
   ],
   "source": [
    "sum(values)/len(values)"
   ]
  },
  {
   "cell_type": "code",
   "execution_count": 5,
   "metadata": {},
   "outputs": [
    {
     "data": {
      "text/plain": [
       "4.25"
      ]
     },
     "execution_count": 5,
     "metadata": {},
     "output_type": "execute_result"
    }
   ],
   "source": [
    "np.average(values)"
   ]
  },
  {
   "cell_type": "code",
   "execution_count": 6,
   "metadata": {},
   "outputs": [
    {
     "data": {
      "text/plain": [
       "4.25"
      ]
     },
     "execution_count": 6,
     "metadata": {},
     "output_type": "execute_result"
    }
   ],
   "source": [
    "np.mean(values)"
   ]
  },
  {
   "cell_type": "code",
   "execution_count": 7,
   "metadata": {},
   "outputs": [],
   "source": [
    "new_vals = make_array(2, 2, 2, 2, 2, 2, 2, 2, 2, 2,\n",
    "                      3, 3, 3, 3, 3, 3, 3, 3, 3, 3, 3, 3, 3, 3, 3, 3, 3, 3, 3, 3,\n",
    "                      9, 9, 9, 9, 9, 9, 9, 9, 9, 9)"
   ]
  },
  {
   "cell_type": "code",
   "execution_count": 8,
   "metadata": {},
   "outputs": [
    {
     "data": {
      "image/png": "[encoded data removed]",
      "text/plain": [
       "<Figure size 432x288 with 1 Axes>"
      ]
     },
     "metadata": {},
     "output_type": "display_data"
    }
   ],
   "source": [
    "bins_for_display = np.arange(0.5, 10.6, 1)\n",
    "Table().with_column('value', new_vals).hist(bins = bins_for_display)"
   ]
  },
  {
   "cell_type": "code",
   "execution_count": 9,
   "metadata": {},
   "outputs": [
    {
     "data": {
      "text/plain": [
       "4.25"
      ]
     },
     "execution_count": 9,
     "metadata": {},
     "output_type": "execute_result"
    }
   ],
   "source": [
    "np.mean(new_vals)"
   ]
  },
  {
   "cell_type": "markdown",
   "metadata": {},
   "source": [
    "## <u>Sample</u> Standard Deviation ##\n",
    "\n",
    "The sample standard deviation is usually denoted with one of these $S_x$, $s_x$ or just $S$.  Some people use the abbreviation $SD$.  \n",
    "\n",
    "$$S_x = \\sqrt{\\frac{1}{n-1}\\sum_{i=1}^n(\\,x_i - \\overline{x}\\,)^2}$$\n",
    "\n",
    "This is a measure of spread *around* the mean.\n"
   ]
  },
  {
   "cell_type": "code",
   "execution_count": 10,
   "metadata": {},
   "outputs": [
    {
     "data": {
      "text/html": [
       "<table border=\"1\" class=\"dataframe\">\n",
       "    <thead>\n",
       "        <tr>\n",
       "            <th>Value</th>\n",
       "        </tr>\n",
       "    </thead>\n",
       "    <tbody>\n",
       "        <tr>\n",
       "            <td>2    </td>\n",
       "        </tr>\n",
       "        <tr>\n",
       "            <td>3    </td>\n",
       "        </tr>\n",
       "        <tr>\n",
       "            <td>3    </td>\n",
       "        </tr>\n",
       "        <tr>\n",
       "            <td>9    </td>\n",
       "        </tr>\n",
       "    </tbody>\n",
       "</table>"
      ],
      "text/plain": [
       "Value\n",
       "2\n",
       "3\n",
       "3\n",
       "9"
      ]
     },
     "execution_count": 10,
     "metadata": {},
     "output_type": "execute_result"
    }
   ],
   "source": [
    "sd_table = Table().with_columns('Value', values)\n",
    "sd_table"
   ]
  },
  {
   "cell_type": "code",
   "execution_count": 11,
   "metadata": {},
   "outputs": [
    {
     "data": {
      "text/plain": [
       "4.25"
      ]
     },
     "execution_count": 11,
     "metadata": {},
     "output_type": "execute_result"
    }
   ],
   "source": [
    "average_value = np.average(sd_table.column(0))\n",
    "average_value"
   ]
  },
  {
   "cell_type": "code",
   "execution_count": 12,
   "metadata": {},
   "outputs": [
    {
     "data": {
      "text/html": [
       "<table border=\"1\" class=\"dataframe\">\n",
       "    <thead>\n",
       "        <tr>\n",
       "            <th>Value</th> <th>Deviation</th>\n",
       "        </tr>\n",
       "    </thead>\n",
       "    <tbody>\n",
       "        <tr>\n",
       "            <td>2    </td> <td>-2.25    </td>\n",
       "        </tr>\n",
       "        <tr>\n",
       "            <td>3    </td> <td>-1.25    </td>\n",
       "        </tr>\n",
       "        <tr>\n",
       "            <td>3    </td> <td>-1.25    </td>\n",
       "        </tr>\n",
       "        <tr>\n",
       "            <td>9    </td> <td>4.75     </td>\n",
       "        </tr>\n",
       "    </tbody>\n",
       "</table>"
      ],
      "text/plain": [
       "Value | Deviation\n",
       "2     | -2.25\n",
       "3     | -1.25\n",
       "3     | -1.25\n",
       "9     | 4.75"
      ]
     },
     "execution_count": 12,
     "metadata": {},
     "output_type": "execute_result"
    }
   ],
   "source": [
    "deviations = values - average_value\n",
    "sd_table = sd_table.with_column('Deviation', deviations)\n",
    "sd_table"
   ]
  },
  {
   "cell_type": "code",
   "execution_count": 13,
   "metadata": {},
   "outputs": [
    {
     "data": {
      "text/plain": [
       "0.0"
      ]
     },
     "execution_count": 13,
     "metadata": {},
     "output_type": "execute_result"
    }
   ],
   "source": [
    "sum(deviations)"
   ]
  },
  {
   "cell_type": "code",
   "execution_count": 14,
   "metadata": {},
   "outputs": [
    {
     "data": {
      "text/html": [
       "<table border=\"1\" class=\"dataframe\">\n",
       "    <thead>\n",
       "        <tr>\n",
       "            <th>Value</th> <th>Deviation</th> <th>Squared Deviation</th>\n",
       "        </tr>\n",
       "    </thead>\n",
       "    <tbody>\n",
       "        <tr>\n",
       "            <td>2    </td> <td>-2.25    </td> <td>5.0625           </td>\n",
       "        </tr>\n",
       "        <tr>\n",
       "            <td>3    </td> <td>-1.25    </td> <td>1.5625           </td>\n",
       "        </tr>\n",
       "        <tr>\n",
       "            <td>3    </td> <td>-1.25    </td> <td>1.5625           </td>\n",
       "        </tr>\n",
       "        <tr>\n",
       "            <td>9    </td> <td>4.75     </td> <td>22.5625          </td>\n",
       "        </tr>\n",
       "    </tbody>\n",
       "</table>"
      ],
      "text/plain": [
       "Value | Deviation | Squared Deviation\n",
       "2     | -2.25     | 5.0625\n",
       "3     | -1.25     | 1.5625\n",
       "3     | -1.25     | 1.5625\n",
       "9     | 4.75      | 22.5625"
      ]
     },
     "execution_count": 14,
     "metadata": {},
     "output_type": "execute_result"
    }
   ],
   "source": [
    "sd_table = sd_table.with_columns('Squared Deviation', deviations ** 2)\n",
    "sd_table"
   ]
  },
  {
   "cell_type": "code",
   "execution_count": 15,
   "metadata": {},
   "outputs": [
    {
     "data": {
      "text/plain": [
       "10.25"
      ]
     },
     "execution_count": 15,
     "metadata": {},
     "output_type": "execute_result"
    }
   ],
   "source": [
    "# Variance of the data\n",
    "\n",
    "variance = sum(sd_table.column('Squared Deviation'))/(len(sd_table.column('Squared Deviation'))-1)\n",
    "variance"
   ]
  },
  {
   "cell_type": "code",
   "execution_count": 16,
   "metadata": {},
   "outputs": [
    {
     "data": {
      "text/plain": [
       "3.2015621187164243"
      ]
     },
     "execution_count": 16,
     "metadata": {},
     "output_type": "execute_result"
    }
   ],
   "source": [
    "# Standard Deviation (SD) is the square root of the variance\n",
    "\n",
    "sd = variance ** 0.5\n",
    "sd"
   ]
  },
  {
   "cell_type": "markdown",
   "metadata": {},
   "source": [
    "In practice, no one would do all that when the same could be done in a single line of code.\n",
    "\n",
    "`scipy.stats.tstd` is the command for this.  Recall, we imported `scipy.stats` as `stats`.\n",
    "\n",
    "See:"
   ]
  },
  {
   "cell_type": "code",
   "execution_count": 17,
   "metadata": {},
   "outputs": [
    {
     "data": {
      "text/plain": [
       "3.2015621187164243"
      ]
     },
     "execution_count": 17,
     "metadata": {},
     "output_type": "execute_result"
    }
   ],
   "source": [
    "stats.tstd(values)"
   ]
  },
  {
   "cell_type": "code",
   "execution_count": 18,
   "metadata": {},
   "outputs": [
    {
     "data": {
      "text/plain": [
       "2.7726341266023544"
      ]
     },
     "execution_count": 18,
     "metadata": {},
     "output_type": "execute_result"
    }
   ],
   "source": [
    "## Don't use this! ##\n",
    "np.std(values)"
   ]
  },
  {
   "cell_type": "markdown",
   "metadata": {},
   "source": [
    "## Warning ##\n",
    "\n",
    "The command **np.std** computes the population standard deviation, not the sample standard deviation.  \n",
    "\n",
    "$$\\sigma = \\sqrt{\\frac{1}{n}\\sum_{i=1}^n(x_i - \\mu)^2}$$\n",
    "\n",
    "(In this formula the computer assumes $\\mu = \\overline{x}$.)\n",
    "\n",
    "For very large samples, they are most likely close enough that we couldn't tell the difference, but for small samples, they are usually noticeably different.  \n",
    "\n",
    "\n",
    "The <u>sample</u> standard deviation is an unbiased estimator of the population standard deviation.  The definition of biased or unbiased estimators is a topic beyond the scope of this class, however, to get a general idea about what the difference may be take a look at the graphs that result from the two simulations below.  Beyond that, we'll let it suffice to say we want to use the <u>unbiased</u> estimate not the biased one.  Which is why, especially when the size of the data is small, it's really important that we used the correct command for finding the standard deviation.\n",
    "\n",
    "\n"
   ]
  },
  {
   "cell_type": "code",
   "execution_count": 19,
   "metadata": {},
   "outputs": [
    {
     "data": {
      "image/png": "[encoded data removed]",
      "text/plain": [
       "<Figure size 864x432 with 2 Axes>"
      ]
     },
     "metadata": {},
     "output_type": "display_data"
    }
   ],
   "source": [
    "from hidden_demos import biasdemo1\n",
    "\n",
    "biasdemo1()"
   ]
  },
  {
   "cell_type": "code",
   "execution_count": 20,
   "metadata": {},
   "outputs": [
    {
     "data": {
      "image/png": "[encoded data removed]",
      "text/plain": [
       "<Figure size 864x432 with 2 Axes>"
      ]
     },
     "metadata": {},
     "output_type": "display_data"
    }
   ],
   "source": [
    "from hidden_demos import biasdemo2\n",
    "\n",
    "biasdemo2()"
   ]
  },
  {
   "cell_type": "markdown",
   "metadata": {},
   "source": [
    "## Chebyshev's Bound ##\n",
    "\n",
    "What does a standard deviation tell us?\n",
    "\n",
    "To start with, here's a little mathematical fact known as Chebyshev's Inequality:\n",
    "\n",
    "$$Pr\\left(\\left|\\ x - \\overline{x}\\ \\right| \\geq c \\cdot S_x\\right) \\leq \\frac{1}{c^2}$$\n",
    "\n",
    "What does it mean??\n",
    "\n",
    "First, if we let a *standard deviation* be the unit we use to measure how far an observation is from the average.  Then, it says the more standard deviations we go away from the mean, the less likely we are to find any observations.  \n",
    "\n",
    "Another way of stating the same thing is like this:\n",
    "\n",
    "The proportion of any population that is within $c \\cdot S_x$ of $\\overline{x}$ is <u> at least</u> $\\displaystyle 1 - \\frac{1}{c^2}$.\n",
    "\n",
    "\n",
    "In fact, most of the time, the proportion that is within $c \\cdot S_x$ of $\\overline{x}$ is actually much more than\n",
    "$\\displaystyle 1 - \\frac{1}{c^2}$.\n",
    "\n",
    "### Let's see an example of this ###"
   ]
  },
  {
   "cell_type": "code",
   "execution_count": 21,
   "metadata": {},
   "outputs": [
    {
     "data": {
      "text/html": [
       "<table border=\"1\" class=\"dataframe\">\n",
       "    <thead>\n",
       "        <tr>\n",
       "            <th>Birth Weight</th> <th>Gestational Days</th> <th>Maternal Age</th> <th>Maternal Height</th> <th>Maternal Pregnancy Weight</th> <th>Maternal Smoker</th>\n",
       "        </tr>\n",
       "    </thead>\n",
       "    <tbody>\n",
       "        <tr>\n",
       "            <td>120         </td> <td>284             </td> <td>27          </td> <td>62             </td> <td>100                      </td> <td>False          </td>\n",
       "        </tr>\n",
       "        <tr>\n",
       "            <td>113         </td> <td>282             </td> <td>33          </td> <td>64             </td> <td>135                      </td> <td>False          </td>\n",
       "        </tr>\n",
       "        <tr>\n",
       "            <td>128         </td> <td>279             </td> <td>28          </td> <td>64             </td> <td>115                      </td> <td>True           </td>\n",
       "        </tr>\n",
       "    </tbody>\n",
       "</table>\n",
       "<p>... (1171 rows omitted)</p>"
      ],
      "text/plain": [
       "<IPython.core.display.HTML object>"
      ]
     },
     "metadata": {},
     "output_type": "display_data"
    },
    {
     "data": {
      "text/plain": [
       "(128.4787052810903, 20.73428219976096)"
      ]
     },
     "execution_count": 21,
     "metadata": {},
     "output_type": "execute_result"
    }
   ],
   "source": [
    "births = Table.read_table('baby.csv')\n",
    "births.show(3)\n",
    "mpw = births.column('Maternal Pregnancy Weight')\n",
    "mean = np.mean(mpw)\n",
    "sd = stats.tstd(mpw)\n",
    "mean, sd"
   ]
  },
  {
   "cell_type": "code",
   "execution_count": 22,
   "metadata": {},
   "outputs": [
    {
     "data": {
      "text/plain": [
       "0.9505962521294719"
      ]
     },
     "execution_count": 22,
     "metadata": {},
     "output_type": "execute_result"
    }
   ],
   "source": [
    "within_2_SDs = births.where('Maternal Pregnancy Weight', are.between(mean - 2*sd, mean + 2*sd))\n",
    "\n",
    "Actual_prop = within_2_SDs.num_rows / births.num_rows\n",
    "\n",
    "Actual_prop"
   ]
  },
  {
   "cell_type": "code",
   "execution_count": 23,
   "metadata": {},
   "outputs": [],
   "source": [
    "def Cheby_pred(c):\n",
    "    ### Computes the amount Chebyshev predicts is within cS_x of x-bar ###\n",
    "    return 1 -c**(-2)\n",
    "\n",
    "def Actual_prop(c):\n",
    "    ### Goes through the table and find the actual prop within cS_x of x-bar ###\n",
    "    mean = np.mean(births.column('Maternal Pregnancy Weight'))\n",
    "    sd = stats.tstd(births.column('Maternal Pregnancy Weight'))\n",
    "    return births.where('Maternal Pregnancy Weight', are.between(mean - c*sd, mean + c*sd)).num_rows/births.num_rows"
   ]
  },
  {
   "cell_type": "code",
   "execution_count": 24,
   "metadata": {},
   "outputs": [
    {
     "data": {
      "text/html": [
       "<table border=\"1\" class=\"dataframe\">\n",
       "    <thead>\n",
       "        <tr>\n",
       "            <th>c</th> <th>Cheby Prediction</th> <th>Actual Proportion</th>\n",
       "        </tr>\n",
       "    </thead>\n",
       "    <tbody>\n",
       "        <tr>\n",
       "            <td>1.5 </td> <td>0.555556        </td> <td>0.900341         </td>\n",
       "        </tr>\n",
       "        <tr>\n",
       "            <td>1.75</td> <td>0.673469        </td> <td>0.935264         </td>\n",
       "        </tr>\n",
       "        <tr>\n",
       "            <td>2   </td> <td>0.75            </td> <td>0.950596         </td>\n",
       "        </tr>\n",
       "        <tr>\n",
       "            <td>2.25</td> <td>0.802469        </td> <td>0.967632         </td>\n",
       "        </tr>\n",
       "        <tr>\n",
       "            <td>2.5 </td> <td>0.84            </td> <td>0.977853         </td>\n",
       "        </tr>\n",
       "        <tr>\n",
       "            <td>2.75</td> <td>0.867769        </td> <td>0.982964         </td>\n",
       "        </tr>\n",
       "        <tr>\n",
       "            <td>3   </td> <td>0.888889        </td> <td>0.986371         </td>\n",
       "        </tr>\n",
       "        <tr>\n",
       "            <td>3.25</td> <td>0.905325        </td> <td>0.988075         </td>\n",
       "        </tr>\n",
       "    </tbody>\n",
       "</table>"
      ],
      "text/plain": [
       "c    | Cheby Prediction | Actual Proportion\n",
       "1.5  | 0.555556         | 0.900341\n",
       "1.75 | 0.673469         | 0.935264\n",
       "2    | 0.75             | 0.950596\n",
       "2.25 | 0.802469         | 0.967632\n",
       "2.5  | 0.84             | 0.977853\n",
       "2.75 | 0.867769         | 0.982964\n",
       "3    | 0.888889         | 0.986371\n",
       "3.25 | 0.905325         | 0.988075"
      ]
     },
     "execution_count": 24,
     "metadata": {},
     "output_type": "execute_result"
    }
   ],
   "source": [
    "Cheby_table = Table().with_column(\"c\", np.arange(1.5, 3.5,0.25))\n",
    "Cheby_table = Cheby_table.with_column(\"Cheby Prediction\", Cheby_table.apply(Cheby_pred, \"c\"))\n",
    "Cheby_table = Cheby_table.with_column(\"Actual Proportion\", Cheby_table.apply(Actual_prop, \"c\"))\n",
    "\n",
    "Cheby_table"
   ]
  },
  {
   "cell_type": "markdown",
   "metadata": {},
   "source": [
    "## \"Normal\" data ##\n",
    "\n",
    "Later, we'll learn about what we call normal data.  When we are studying normal data, usually *almost all* that data is within 3 standard deviations of its mean.  "
   ]
  },
  {
   "cell_type": "markdown",
   "metadata": {},
   "source": [
    "## The Median ##\n",
    "\n",
    "Let's use the `np.percentile` command to find the $50^{th}$ percentile (the **median**) of a short data set.  But first, let's discuss how we'd do it by hand.\n"
   ]
  },
  {
   "cell_type": "code",
   "execution_count": 25,
   "metadata": {},
   "outputs": [],
   "source": [
    "# Manually compute the 50th percentile.\n",
    "x = make_array(43, 20, 51, 7, 28, 34, 72)"
   ]
  },
  {
   "cell_type": "code",
   "execution_count": 26,
   "metadata": {},
   "outputs": [
    {
     "data": {
      "text/plain": [
       "array([ 7, 20, 28, 34, 43, 51, 72], dtype=int64)"
      ]
     },
     "execution_count": 26,
     "metadata": {},
     "output_type": "execute_result"
    }
   ],
   "source": [
    "# Step 1. Sort the data\n",
    "np.sort(x)"
   ]
  },
  {
   "cell_type": "code",
   "execution_count": 27,
   "metadata": {},
   "outputs": [],
   "source": [
    "# Step 2. Figure out where 50th percentile would be."
   ]
  },
  {
   "cell_type": "code",
   "execution_count": 28,
   "metadata": {},
   "outputs": [
    {
     "data": {
      "text/plain": [
       "34.0"
      ]
     },
     "execution_count": 28,
     "metadata": {},
     "output_type": "execute_result"
    }
   ],
   "source": [
    "# OR: 1 Line of Code\n",
    "np.percentile(x, 50)"
   ]
  },
  {
   "cell_type": "markdown",
   "metadata": {},
   "source": [
    "What if there are an *even* number of values in your data?  That means there wouldn't be a middle value.  \n",
    "\n",
    "In that case, the average of the middle two."
   ]
  },
  {
   "cell_type": "code",
   "execution_count": 29,
   "metadata": {},
   "outputs": [],
   "source": [
    "x2 = make_array(43, 20, 51, 7, 28, 34, 72, 73)"
   ]
  },
  {
   "cell_type": "code",
   "execution_count": 30,
   "metadata": {},
   "outputs": [
    {
     "data": {
      "text/plain": [
       "38.5"
      ]
     },
     "execution_count": 30,
     "metadata": {},
     "output_type": "execute_result"
    }
   ],
   "source": [
    "np.percentile(x2, 50)"
   ]
  },
  {
   "cell_type": "code",
   "execution_count": 31,
   "metadata": {},
   "outputs": [
    {
     "data": {
      "text/plain": [
       "array([ 7, 20, 28, 34, 43, 51, 72, 73], dtype=int64)"
      ]
     },
     "execution_count": 31,
     "metadata": {},
     "output_type": "execute_result"
    }
   ],
   "source": [
    "np.sort(x2)"
   ]
  },
  {
   "cell_type": "code",
   "execution_count": 32,
   "metadata": {},
   "outputs": [
    {
     "data": {
      "text/plain": [
       "38.5"
      ]
     },
     "execution_count": 32,
     "metadata": {},
     "output_type": "execute_result"
    }
   ],
   "source": [
    "(34+43)/2"
   ]
  },
  {
   "cell_type": "markdown",
   "metadata": {},
   "source": [
    "## Another Warning ##\n",
    "\n",
    "Some of you will realize that there is a `percentile` command and wonder why we aren't using this to compute medians instead.  Simple, it provides the wrong answer about half the time on average.  See:"
   ]
  },
  {
   "cell_type": "code",
   "execution_count": 33,
   "metadata": {},
   "outputs": [
    {
     "data": {
      "text/plain": [
       "34"
      ]
     },
     "execution_count": 33,
     "metadata": {},
     "output_type": "execute_result"
    }
   ],
   "source": [
    "percentile(50, x2)"
   ]
  },
  {
   "cell_type": "markdown",
   "metadata": {},
   "source": [
    "If you're looking for the median, that's the wrong answer.\n",
    "\n",
    "Why?  This command picks the number from **the dataset** that is closest to the actual percentile without going over (function must have been written by a fan of *The Price is Right*).  \n",
    "\n",
    "![bobbarker](bobbarker.gif)\n",
    "\n",
    "Anyway, cool and all, but that isn't standard practice in statistics when finding the median, $Q_1$, or $Q_3$.  So don't use it for those purposes, in general."
   ]
  },
  {
   "cell_type": "markdown",
   "metadata": {},
   "source": [
    "## There's also a **median** function##\n",
    "\n",
    "\n",
    "Use `np.median` to find the median of a larger data set."
   ]
  },
  {
   "cell_type": "code",
   "execution_count": 34,
   "metadata": {},
   "outputs": [
    {
     "data": {
      "text/plain": [
       "34.0"
      ]
     },
     "execution_count": 34,
     "metadata": {},
     "output_type": "execute_result"
    }
   ],
   "source": [
    "np.median(x)"
   ]
  },
  {
   "cell_type": "code",
   "execution_count": 35,
   "metadata": {},
   "outputs": [
    {
     "data": {
      "text/plain": [
       "38.5"
      ]
     },
     "execution_count": 35,
     "metadata": {},
     "output_type": "execute_result"
    }
   ],
   "source": [
    "np.median(x2)"
   ]
  },
  {
   "cell_type": "markdown",
   "metadata": {},
   "source": [
    "## Five Number Summary##\n",
    "\n",
    "Five Number Summary is as follows\n",
    "\n",
    "- The minimum\n",
    "- The $25^{th}$ percentile, $Q_1$\n",
    "- The $50^{th}$ percentile, the median\n",
    "- The $75^{th}$ percentile, $Q_3$\n",
    "- The maximum\n",
    "\n",
    "We can find all of these in one shot by using an array as the second argument of `np.percentile`."
   ]
  },
  {
   "cell_type": "code",
   "execution_count": 36,
   "metadata": {},
   "outputs": [
    {
     "data": {
      "text/plain": [
       "array([ 7., 24., 34., 47., 72.])"
      ]
     },
     "execution_count": 36,
     "metadata": {},
     "output_type": "execute_result"
    }
   ],
   "source": [
    "np.percentile(x,  make_array(0, 25, 50, 75, 100))"
   ]
  },
  {
   "cell_type": "code",
   "execution_count": 37,
   "metadata": {},
   "outputs": [
    {
     "data": {
      "text/plain": [
       "array([ 7.  , 26.  , 38.5 , 56.25, 73.  ])"
      ]
     },
     "execution_count": 37,
     "metadata": {},
     "output_type": "execute_result"
    }
   ],
   "source": [
    "np.percentile(x2, make_array(0, 25, 50, 75, 100))"
   ]
  },
  {
   "cell_type": "code",
   "execution_count": 38,
   "metadata": {},
   "outputs": [
    {
     "data": {
      "image/png": "[encoded data removed]",
      "text/plain": [
       "<Figure size 432x288 with 1 Axes>"
      ]
     },
     "metadata": {},
     "output_type": "display_data"
    }
   ],
   "source": [
    "plots.boxplot(x2)\n",
    "plots.title(\"Distribution of x2\")\n",
    "plots.xticks(make_array(1), make_array(\"x2\"));"
   ]
  },
  {
   "cell_type": "code",
   "execution_count": 39,
   "metadata": {},
   "outputs": [
    {
     "data": {
      "text/html": [
       "\n",
       "<form action=\"javascript:code_toggle()\"><input type=\"submit\" id=\"toggleButton\" value=\"Hide Code (Too Advanced or Not the Point)\"></form>\n"
      ],
      "text/plain": [
       "<IPython.core.display.HTML object>"
      ]
     },
     "metadata": {},
     "output_type": "display_data"
    },
    {
     "data": {
      "image/png": "[encoded data removed]",
      "text/plain": [
       "<Figure size 432x288 with 1 Axes>"
      ]
     },
     "metadata": {},
     "output_type": "display_data"
    }
   ],
   "source": [
    "plots.boxplot(x2)\n",
    "plots.title(\"Distribution of x2\")\n",
    "plots.xticks(make_array(1), make_array(\"x2\"))\n",
    "\n",
    "plots.quiver(1.17,73, -1,0, scale=8)\n",
    "plots.text(1.18, 71,\"Max\")\n",
    "plots.quiver(1.17,7, -1,0, scale=8)\n",
    "plots.text(1.18, 5,\"Min\")\n",
    "\n",
    "plots.quiver(1.21,38.5, -1,0, scale=8)\n",
    "plots.text(1.22,36.5,\"Median\")\n",
    "\n",
    "plots.quiver(1.21,56.25, -1,0, scale=8)\n",
    "plots.text(1.22,54.25,\"Q3\")\n",
    "\n",
    "plots.quiver(1.21,26, -1,0, scale=8)\n",
    "plots.text(1.22,24,\"Q1\");\n",
    "\n",
    "hide_code()"
   ]
  },
  {
   "cell_type": "markdown",
   "metadata": {},
   "source": [
    "## The Interquartile Range ##\n",
    "\n",
    "The $IQR = Q_3 - Q_1$.  "
   ]
  },
  {
   "cell_type": "code",
   "execution_count": 40,
   "metadata": {},
   "outputs": [
    {
     "data": {
      "text/plain": [
       "30.25"
      ]
     },
     "execution_count": 40,
     "metadata": {},
     "output_type": "execute_result"
    }
   ],
   "source": [
    "np.percentile(x2, 75) - np.percentile(x2, 25)"
   ]
  },
  {
   "cell_type": "code",
   "execution_count": 41,
   "metadata": {},
   "outputs": [
    {
     "data": {
      "text/plain": [
       "30.25"
      ]
     },
     "execution_count": 41,
     "metadata": {},
     "output_type": "execute_result"
    }
   ],
   "source": [
    "stats.iqr(x2)"
   ]
  },
  {
   "cell_type": "code",
   "execution_count": 42,
   "metadata": {},
   "outputs": [
    {
     "data": {
      "text/html": [
       "\n",
       "<form action=\"javascript:code_toggle()\"><input type=\"submit\" id=\"toggleButton\" value=\"Hide Code (Too Advanced or Not the Point)\"></form>\n"
      ],
      "text/plain": [
       "<IPython.core.display.HTML object>"
      ]
     },
     "metadata": {},
     "output_type": "display_data"
    },
    {
     "data": {
      "image/png": "[encoded data removed]",
      "text/plain": [
       "<Figure size 432x288 with 1 Axes>"
      ]
     },
     "metadata": {},
     "output_type": "display_data"
    }
   ],
   "source": [
    "plots.boxplot(x2)\n",
    "plots.title(\"Distribution of x2\")\n",
    "plots.xticks(make_array(1), make_array(\"x2\"))\n",
    "\n",
    "plots.quiver(1.17,73, -1,0, scale=8)\n",
    "plots.text(1.18, 71,\"Max\")\n",
    "plots.quiver(1.17,7, -1,0, scale=8)\n",
    "plots.text(1.18, 5,\"Min\")\n",
    "\n",
    "plots.quiver(1.21,38.5, -1,0, scale=8)\n",
    "plots.text(1.22,36.5,\"Median\")\n",
    "\n",
    "plots.quiver(1.21,56.25, -1,0, scale=8)\n",
    "plots.text(1.22,54.25,\"Q3\")\n",
    "\n",
    "plots.quiver(1.21,26, -1,0, scale=8)\n",
    "plots.text(1.22,24,\"Q1\")\n",
    "\n",
    "plots.text(.645, 40, \"Q3 - Q1 = IQR\")\n",
    "plots.quiver(.865,45, 0,1, scale=10.5)\n",
    "plots.quiver(.865,38, 0,-1, scale=10.25)\n",
    ";\n",
    "\n",
    "hide_code()"
   ]
  },
  {
   "cell_type": "code",
   "execution_count": null,
   "metadata": {},
   "outputs": [],
   "source": []
  },
  {
   "cell_type": "code",
   "execution_count": 43,
   "metadata": {},
   "outputs": [
    {
     "data": {
      "text/html": [
       "<table border=\"1\" class=\"dataframe\">\n",
       "    <thead>\n",
       "        <tr>\n",
       "            <th>mean</th> <th>std</th> <th>min</th> <th>Q1</th> <th>median</th> <th>Q3</th> <th>max</th> <th>IQR</th> <th>n</th>\n",
       "        </tr>\n",
       "    </thead>\n",
       "    <tbody>\n",
       "        <tr>\n",
       "            <td>4.25</td> <td>3.20156</td> <td>2   </td> <td>2.75</td> <td>3     </td> <td>4.5 </td> <td>9   </td> <td>1.75</td> <td>4   </td>\n",
       "        </tr>\n",
       "    </tbody>\n",
       "</table>"
      ],
      "text/plain": [
       "mean | std     | min  | Q1   | median | Q3   | max  | IQR  | n\n",
       "4.25 | 3.20156 | 2    | 2.75 | 3      | 4.5  | 9    | 1.75 | 4"
      ]
     },
     "execution_count": 43,
     "metadata": {},
     "output_type": "execute_result"
    }
   ],
   "source": [
    "def favstats(table, data):\n",
    "    ### This function will find all the major descriptive stats you need ###\n",
    "    ### Copy this function and use it                                    ###\n",
    "    cut = table.column(data)\n",
    "    favstats = Table().with_column('mean', np.average(cut))\n",
    "    favstats = favstats.with_column('std', stats.tstd(cut))\n",
    "    favstats = favstats.with_column('min', min(cut))\n",
    "    favstats = favstats.with_column('Q1', np.percentile(cut, 25))\n",
    "    favstats = favstats.with_column('median', np.median(cut))\n",
    "    favstats = favstats.with_column('Q3', np.percentile(cut, 75))\n",
    "    favstats = favstats.with_column('max', max(cut))\n",
    "    favstats = favstats.with_column('IQR', stats.iqr(cut))\n",
    "    favstats = favstats.with_column('n', len(cut))\n",
    "    return favstats\n",
    "\n",
    "favstats(Table().with_column(\"Values\", values), 'Values' )"
   ]
  },
  {
   "cell_type": "markdown",
   "metadata": {},
   "source": [
    "### A Much Larger Data Set ###\n",
    "\n",
    "Let's do all this again with a larger data set"
   ]
  },
  {
   "cell_type": "code",
   "execution_count": 44,
   "metadata": {},
   "outputs": [
    {
     "data": {
      "image/png": "[encoded data removed]",
      "text/plain": [
       "<Figure size 432x288 with 1 Axes>"
      ]
     },
     "metadata": {},
     "output_type": "display_data"
    }
   ],
   "source": [
    "sf = Table.read_table('san_francisco_2015.csv')\n",
    "min_salary = 10 * 20 * 52\n",
    "sf = sf.where('Total Compensation', are.above(min_salary))\n",
    "\n",
    "favstats(sf, 'Total Compensation' )\n",
    "\n",
    "plots.boxplot(sf.column('Total Compensation'))\n",
    "plots.title(\"Distribution of Compensations\")\n",
    "plots.xticks(make_array(1), make_array(\"San Francisco\"))\n",
    "plots.ylabel(\"Dollars\");"
   ]
  },
  {
   "cell_type": "markdown",
   "metadata": {},
   "source": [
    "**Example** Find the average Total Compensation per Organization Group.\n",
    "\n",
    "Then go on and find the values for all the major descriptive statistics we've learned in this notebook, split by Organization Group.  "
   ]
  },
  {
   "cell_type": "code",
   "execution_count": 45,
   "metadata": {},
   "outputs": [
    {
     "data": {
      "text/html": [
       "<table border=\"1\" class=\"dataframe\">\n",
       "    <thead>\n",
       "        <tr>\n",
       "            <th>Organization Group</th> <th>Total Compensation mean</th>\n",
       "        </tr>\n",
       "    </thead>\n",
       "    <tbody>\n",
       "        <tr>\n",
       "            <td>Community Health                        </td> <td>107225                 </td>\n",
       "        </tr>\n",
       "        <tr>\n",
       "            <td>Culture & Recreation                    </td> <td>72898.3                </td>\n",
       "        </tr>\n",
       "        <tr>\n",
       "            <td>General Administration & Finance        </td> <td>106667                 </td>\n",
       "        </tr>\n",
       "        <tr>\n",
       "            <td>General City Responsibilities           </td> <td>10536.9                </td>\n",
       "        </tr>\n",
       "        <tr>\n",
       "            <td>Human Welfare & Neighborhood Development</td> <td>84367.2                </td>\n",
       "        </tr>\n",
       "        <tr>\n",
       "            <td>Public Protection                       </td> <td>148059                 </td>\n",
       "        </tr>\n",
       "        <tr>\n",
       "            <td>Public Works, Transportation & Commerce </td> <td>105856                 </td>\n",
       "        </tr>\n",
       "    </tbody>\n",
       "</table>"
      ],
      "text/plain": [
       "Organization Group                       | Total Compensation mean\n",
       "Community Health                         | 107225\n",
       "Culture & Recreation                     | 72898.3\n",
       "General Administration & Finance         | 106667\n",
       "General City Responsibilities            | 10536.9\n",
       "Human Welfare & Neighborhood Development | 84367.2\n",
       "Public Protection                        | 148059\n",
       "Public Works, Transportation & Commerce  | 105856"
      ]
     },
     "execution_count": 45,
     "metadata": {},
     "output_type": "execute_result"
    }
   ],
   "source": [
    "sf.select('Organization Group', 'Total Compensation').group('Organization Group', np.mean)"
   ]
  },
  {
   "cell_type": "code",
   "execution_count": 46,
   "metadata": {},
   "outputs": [
    {
     "data": {
      "text/html": [
       "<table border=\"1\" class=\"dataframe\">\n",
       "    <thead>\n",
       "        <tr>\n",
       "            <th>Organization Group</th> <th>Total Compensation mean</th>\n",
       "        </tr>\n",
       "    </thead>\n",
       "    <tbody>\n",
       "        <tr>\n",
       "            <td>Public Protection                       </td> <td>148059                 </td>\n",
       "        </tr>\n",
       "        <tr>\n",
       "            <td>Community Health                        </td> <td>107225                 </td>\n",
       "        </tr>\n",
       "        <tr>\n",
       "            <td>General Administration & Finance        </td> <td>106667                 </td>\n",
       "        </tr>\n",
       "        <tr>\n",
       "            <td>Public Works, Transportation & Commerce </td> <td>105856                 </td>\n",
       "        </tr>\n",
       "        <tr>\n",
       "            <td>Human Welfare & Neighborhood Development</td> <td>84367.2                </td>\n",
       "        </tr>\n",
       "        <tr>\n",
       "            <td>Culture & Recreation                    </td> <td>72898.3                </td>\n",
       "        </tr>\n",
       "        <tr>\n",
       "            <td>General City Responsibilities           </td> <td>10536.9                </td>\n",
       "        </tr>\n",
       "    </tbody>\n",
       "</table>"
      ],
      "text/plain": [
       "Organization Group                       | Total Compensation mean\n",
       "Public Protection                        | 148059\n",
       "Community Health                         | 107225\n",
       "General Administration & Finance         | 106667\n",
       "Public Works, Transportation & Commerce  | 105856\n",
       "Human Welfare & Neighborhood Development | 84367.2\n",
       "Culture & Recreation                     | 72898.3\n",
       "General City Responsibilities            | 10536.9"
      ]
     },
     "execution_count": 46,
     "metadata": {},
     "output_type": "execute_result"
    }
   ],
   "source": [
    "sf.select('Organization Group', 'Total Compensation').group('Organization Group', np.mean).sort('Total Compensation mean', descending=True)"
   ]
  },
  {
   "cell_type": "code",
   "execution_count": 47,
   "metadata": {},
   "outputs": [
    {
     "name": "stderr",
     "output_type": "stream",
     "text": [
      "C:\\Users\\bbailey\\AppData\\Local\\Continuum\\anaconda3\\lib\\site-packages\\scipy\\stats\\stats.py:598: RuntimeWarning: invalid value encountered in double_scalars\n",
      "  return a.var() * n / (n - 1.)\n"
     ]
    },
    {
     "data": {
      "text/html": [
       "<table border=\"1\" class=\"dataframe\">\n",
       "    <thead>\n",
       "        <tr>\n",
       "            <th>Organization Group</th> <th>Total Compensation tstd</th>\n",
       "        </tr>\n",
       "    </thead>\n",
       "    <tbody>\n",
       "        <tr>\n",
       "            <td>Community Health                        </td> <td>63171.3                </td>\n",
       "        </tr>\n",
       "        <tr>\n",
       "            <td>Culture & Recreation                    </td> <td>47448.9                </td>\n",
       "        </tr>\n",
       "        <tr>\n",
       "            <td>General Administration & Finance        </td> <td>64870.3                </td>\n",
       "        </tr>\n",
       "        <tr>\n",
       "            <td>General City Responsibilities           </td> <td>nan                    </td>\n",
       "        </tr>\n",
       "        <tr>\n",
       "            <td>Human Welfare & Neighborhood Development</td> <td>50646.9                </td>\n",
       "        </tr>\n",
       "        <tr>\n",
       "            <td>Public Protection                       </td> <td>67146.5                </td>\n",
       "        </tr>\n",
       "        <tr>\n",
       "            <td>Public Works, Transportation & Commerce </td> <td>53867.4                </td>\n",
       "        </tr>\n",
       "    </tbody>\n",
       "</table>"
      ],
      "text/plain": [
       "Organization Group                       | Total Compensation tstd\n",
       "Community Health                         | 63171.3\n",
       "Culture & Recreation                     | 47448.9\n",
       "General Administration & Finance         | 64870.3\n",
       "General City Responsibilities            | nan\n",
       "Human Welfare & Neighborhood Development | 50646.9\n",
       "Public Protection                        | 67146.5\n",
       "Public Works, Transportation & Commerce  | 53867.4"
      ]
     },
     "execution_count": 47,
     "metadata": {},
     "output_type": "execute_result"
    }
   ],
   "source": [
    "sf.select('Organization Group', 'Total Compensation').group('Organization Group', stats.tstd)"
   ]
  },
  {
   "cell_type": "code",
   "execution_count": 48,
   "metadata": {},
   "outputs": [
    {
     "data": {
      "text/html": [
       "<table border=\"1\" class=\"dataframe\">\n",
       "    <thead>\n",
       "        <tr>\n",
       "            <th>Organization Group</th> <th>count</th>\n",
       "        </tr>\n",
       "    </thead>\n",
       "    <tbody>\n",
       "        <tr>\n",
       "            <td>Community Health                        </td> <td>8311 </td>\n",
       "        </tr>\n",
       "        <tr>\n",
       "            <td>Culture & Recreation                    </td> <td>2601 </td>\n",
       "        </tr>\n",
       "        <tr>\n",
       "            <td>General Administration & Finance        </td> <td>3377 </td>\n",
       "        </tr>\n",
       "        <tr>\n",
       "            <td>General City Responsibilities           </td> <td>1    </td>\n",
       "        </tr>\n",
       "        <tr>\n",
       "            <td>Human Welfare & Neighborhood Development</td> <td>3193 </td>\n",
       "        </tr>\n",
       "        <tr>\n",
       "            <td>Public Protection                       </td> <td>7710 </td>\n",
       "        </tr>\n",
       "        <tr>\n",
       "            <td>Public Works, Transportation & Commerce </td> <td>12897</td>\n",
       "        </tr>\n",
       "    </tbody>\n",
       "</table>"
      ],
      "text/plain": [
       "Organization Group                       | count\n",
       "Community Health                         | 8311\n",
       "Culture & Recreation                     | 2601\n",
       "General Administration & Finance         | 3377\n",
       "General City Responsibilities            | 1\n",
       "Human Welfare & Neighborhood Development | 3193\n",
       "Public Protection                        | 7710\n",
       "Public Works, Transportation & Commerce  | 12897"
      ]
     },
     "execution_count": 48,
     "metadata": {},
     "output_type": "execute_result"
    }
   ],
   "source": [
    "sf.select('Organization Group', 'Total Compensation').group('Organization Group')"
   ]
  },
  {
   "cell_type": "code",
   "execution_count": 49,
   "metadata": {},
   "outputs": [
    {
     "data": {
      "text/html": [
       "<table border=\"1\" class=\"dataframe\">\n",
       "    <thead>\n",
       "        <tr>\n",
       "            <th>Organization Group</th> <th>Total Compensation max</th>\n",
       "        </tr>\n",
       "    </thead>\n",
       "    <tbody>\n",
       "        <tr>\n",
       "            <td>General Administration & Finance        </td> <td>648875                </td>\n",
       "        </tr>\n",
       "        <tr>\n",
       "            <td>Public Works, Transportation & Commerce </td> <td>426686                </td>\n",
       "        </tr>\n",
       "        <tr>\n",
       "            <td>Community Health                        </td> <td>422800                </td>\n",
       "        </tr>\n",
       "        <tr>\n",
       "            <td>Public Protection                       </td> <td>418844                </td>\n",
       "        </tr>\n",
       "        <tr>\n",
       "            <td>Human Welfare & Neighborhood Development</td> <td>367902                </td>\n",
       "        </tr>\n",
       "        <tr>\n",
       "            <td>Culture & Recreation                    </td> <td>315370                </td>\n",
       "        </tr>\n",
       "        <tr>\n",
       "            <td>General City Responsibilities           </td> <td>10536.9               </td>\n",
       "        </tr>\n",
       "    </tbody>\n",
       "</table>"
      ],
      "text/plain": [
       "Organization Group                       | Total Compensation max\n",
       "General Administration & Finance         | 648875\n",
       "Public Works, Transportation & Commerce  | 426686\n",
       "Community Health                         | 422800\n",
       "Public Protection                        | 418844\n",
       "Human Welfare & Neighborhood Development | 367902\n",
       "Culture & Recreation                     | 315370\n",
       "General City Responsibilities            | 10536.9"
      ]
     },
     "execution_count": 49,
     "metadata": {},
     "output_type": "execute_result"
    }
   ],
   "source": [
    "# Who is making the most money\n",
    "sf.select('Organization Group', 'Total Compensation').group('Organization Group', max).sort('Total Compensation max', descending=True)"
   ]
  },
  {
   "cell_type": "code",
   "execution_count": 50,
   "metadata": {},
   "outputs": [
    {
     "data": {
      "text/html": [
       "<table border=\"1\" class=\"dataframe\">\n",
       "    <thead>\n",
       "        <tr>\n",
       "            <th>Organization Group</th> <th>Total Compensation min</th>\n",
       "        </tr>\n",
       "    </thead>\n",
       "    <tbody>\n",
       "        <tr>\n",
       "            <td>General City Responsibilities           </td> <td>10536.9               </td>\n",
       "        </tr>\n",
       "        <tr>\n",
       "            <td>Human Welfare & Neighborhood Development</td> <td>10428.9               </td>\n",
       "        </tr>\n",
       "        <tr>\n",
       "            <td>Public Protection                       </td> <td>10425.8               </td>\n",
       "        </tr>\n",
       "        <tr>\n",
       "            <td>General Administration & Finance        </td> <td>10412.9               </td>\n",
       "        </tr>\n",
       "        <tr>\n",
       "            <td>Community Health                        </td> <td>10409.8               </td>\n",
       "        </tr>\n",
       "        <tr>\n",
       "            <td>Public Works, Transportation & Commerce </td> <td>10407.7               </td>\n",
       "        </tr>\n",
       "        <tr>\n",
       "            <td>Culture & Recreation                    </td> <td>10403.1               </td>\n",
       "        </tr>\n",
       "    </tbody>\n",
       "</table>"
      ],
      "text/plain": [
       "Organization Group                       | Total Compensation min\n",
       "General City Responsibilities            | 10536.9\n",
       "Human Welfare & Neighborhood Development | 10428.9\n",
       "Public Protection                        | 10425.8\n",
       "General Administration & Finance         | 10412.9\n",
       "Community Health                         | 10409.8\n",
       "Public Works, Transportation & Commerce  | 10407.7\n",
       "Culture & Recreation                     | 10403.1"
      ]
     },
     "execution_count": 50,
     "metadata": {},
     "output_type": "execute_result"
    }
   ],
   "source": [
    "# Who is making the least money\n",
    "sf.select('Organization Group', 'Total Compensation').group('Organization Group', min).sort('Total Compensation min', descending=True)"
   ]
  },
  {
   "cell_type": "code",
   "execution_count": null,
   "metadata": {},
   "outputs": [],
   "source": []
  },
  {
   "cell_type": "code",
   "execution_count": 51,
   "metadata": {},
   "outputs": [
    {
     "name": "stderr",
     "output_type": "stream",
     "text": [
      "C:\\Users\\bbailey\\AppData\\Local\\Continuum\\anaconda3\\lib\\site-packages\\scipy\\stats\\stats.py:598: RuntimeWarning: invalid value encountered in double_scalars\n",
      "  return a.var() * n / (n - 1.)\n"
     ]
    },
    {
     "data": {
      "text/html": [
       "<table border=\"1\" class=\"dataframe\">\n",
       "    <thead>\n",
       "        <tr>\n",
       "            <th>Organization Group</th> <th>mean</th> <th>std</th> <th>min</th> <th>Q1</th> <th>median</th> <th>Q3</th> <th>max</th> <th>IQR</th> <th>n</th>\n",
       "        </tr>\n",
       "    </thead>\n",
       "    <tbody>\n",
       "        <tr>\n",
       "            <td>Community Health                        </td> <td>107225 </td> <td>63171.3</td> <td>10409.8</td> <td>63365.4</td> <td>97587.8</td> <td>142281 </td> <td>422800 </td> <td>78915.6</td> <td>8311 </td>\n",
       "        </tr>\n",
       "        <tr>\n",
       "            <td>Culture & Recreation                    </td> <td>72898.3</td> <td>47448.9</td> <td>10403.1</td> <td>25771.1</td> <td>75930.4</td> <td>106002 </td> <td>315370 </td> <td>80230.6</td> <td>2601 </td>\n",
       "        </tr>\n",
       "        <tr>\n",
       "            <td>General Administration & Finance        </td> <td>106667 </td> <td>64870.3</td> <td>10412.9</td> <td>54387.7</td> <td>103675 </td> <td>144388 </td> <td>648875 </td> <td>90000.2</td> <td>3377 </td>\n",
       "        </tr>\n",
       "        <tr>\n",
       "            <td>General City Responsibilities           </td> <td>10536.9</td> <td>nan    </td> <td>10536.9</td> <td>10536.9</td> <td>10536.9</td> <td>10536.9</td> <td>10536.9</td> <td>0      </td> <td>1    </td>\n",
       "        </tr>\n",
       "        <tr>\n",
       "            <td>Human Welfare & Neighborhood Development</td> <td>84367.2</td> <td>50646.9</td> <td>10428.9</td> <td>31543.4</td> <td>92051.8</td> <td>117956 </td> <td>367902 </td> <td>86412.1</td> <td>3193 </td>\n",
       "        </tr>\n",
       "        <tr>\n",
       "            <td>Public Protection                       </td> <td>148059 </td> <td>67146.5</td> <td>10425.8</td> <td>103689 </td> <td>156074 </td> <td>194784 </td> <td>418844 </td> <td>91095.2</td> <td>7710 </td>\n",
       "        </tr>\n",
       "        <tr>\n",
       "            <td>Public Works, Transportation & Commerce </td> <td>105856 </td> <td>53867.4</td> <td>10407.7</td> <td>68575  </td> <td>107569 </td> <td>140052 </td> <td>426686 </td> <td>71476.9</td> <td>12897</td>\n",
       "        </tr>\n",
       "    </tbody>\n",
       "</table>"
      ],
      "text/plain": [
       "Organization Group                       | mean    | std     | min     | Q1      | median  | Q3      | max     | IQR     | n\n",
       "Community Health                         | 107225  | 63171.3 | 10409.8 | 63365.4 | 97587.8 | 142281  | 422800  | 78915.6 | 8311\n",
       "Culture & Recreation                     | 72898.3 | 47448.9 | 10403.1 | 25771.1 | 75930.4 | 106002  | 315370  | 80230.6 | 2601\n",
       "General Administration & Finance         | 106667  | 64870.3 | 10412.9 | 54387.7 | 103675  | 144388  | 648875  | 90000.2 | 3377\n",
       "General City Responsibilities            | 10536.9 | nan     | 10536.9 | 10536.9 | 10536.9 | 10536.9 | 10536.9 | 0       | 1\n",
       "Human Welfare & Neighborhood Development | 84367.2 | 50646.9 | 10428.9 | 31543.4 | 92051.8 | 117956  | 367902  | 86412.1 | 3193\n",
       "Public Protection                        | 148059  | 67146.5 | 10425.8 | 103689  | 156074  | 194784  | 418844  | 91095.2 | 7710\n",
       "Public Works, Transportation & Commerce  | 105856  | 53867.4 | 10407.7 | 68575   | 107569  | 140052  | 426686  | 71476.9 | 12897"
      ]
     },
     "execution_count": 51,
     "metadata": {},
     "output_type": "execute_result"
    }
   ],
   "source": [
    "def groupstats(table, group, data):\n",
    "    ### This function will find all the major descriptive stats you need split by group ###\n",
    "    ### Copy it and use it                                                              ###\n",
    "    cut = table.select(group, data).sort(group)\n",
    "    favstats = cut.group(group, np.mean).sort(group)\n",
    "    words = [data, 'mean']\n",
    "    favstats = favstats.relabeled(' '.join(words), \"mean\")\n",
    "    groups = favstats.column(0)\n",
    "    q1=make_array()\n",
    "    for i in np.arange(len(groups)):\n",
    "        q1 = np.append(q1, np.percentile(table.where(group, groups.item(i)).column(data), 25))\n",
    "    q3=make_array()\n",
    "    for i in np.arange(len(groups)):\n",
    "        q3 = np.append(q3, np.percentile(table.where(group, groups.item(i)).column(data), 75))\n",
    "    favstats = favstats.with_column('std', cut.group(group, stats.tstd).sort(group).column(1) )\n",
    "    favstats = favstats.with_column('min', cut.group(group, min).sort(group).column(1) )\n",
    "    favstats = favstats.with_column('Q1', q1 )\n",
    "    favstats = favstats.with_column('median', cut.group(group, np.median).sort(group).column(1) )\n",
    "    favstats = favstats.with_column('Q3', q3 )\n",
    "    favstats = favstats.with_column('max', cut.group(group, max).sort(group).column(1) )\n",
    "    favstats = favstats.with_column('IQR', cut.group(group, stats.iqr).sort(group).column(1) )\n",
    "    favstats = favstats.with_column('n', cut.group(group ).sort(group).column(1) )\n",
    "    return favstats\n",
    "\n",
    "\n",
    "groupstats(sf,'Organization Group', 'Total Compensation' )"
   ]
  },
  {
   "cell_type": "code",
   "execution_count": 52,
   "metadata": {},
   "outputs": [
    {
     "data": {
      "text/html": [
       "<table border=\"1\" class=\"dataframe\">\n",
       "    <thead>\n",
       "        <tr>\n",
       "            <th>Date</th> <th>Flight Number</th> <th>Destination</th> <th>Delay</th>\n",
       "        </tr>\n",
       "    </thead>\n",
       "    <tbody>\n",
       "        <tr>\n",
       "            <td>6/1/15</td> <td>73           </td> <td>HNL        </td> <td>257  </td>\n",
       "        </tr>\n",
       "        <tr>\n",
       "            <td>6/1/15</td> <td>217          </td> <td>EWR        </td> <td>28   </td>\n",
       "        </tr>\n",
       "        <tr>\n",
       "            <td>6/1/15</td> <td>237          </td> <td>STL        </td> <td>-3   </td>\n",
       "        </tr>\n",
       "        <tr>\n",
       "            <td>6/1/15</td> <td>250          </td> <td>SAN        </td> <td>0    </td>\n",
       "        </tr>\n",
       "        <tr>\n",
       "            <td>6/1/15</td> <td>267          </td> <td>PHL        </td> <td>64   </td>\n",
       "        </tr>\n",
       "        <tr>\n",
       "            <td>6/1/15</td> <td>273          </td> <td>SEA        </td> <td>-6   </td>\n",
       "        </tr>\n",
       "        <tr>\n",
       "            <td>6/1/15</td> <td>278          </td> <td>SEA        </td> <td>-8   </td>\n",
       "        </tr>\n",
       "        <tr>\n",
       "            <td>6/1/15</td> <td>292          </td> <td>EWR        </td> <td>12   </td>\n",
       "        </tr>\n",
       "        <tr>\n",
       "            <td>6/1/15</td> <td>300          </td> <td>HNL        </td> <td>20   </td>\n",
       "        </tr>\n",
       "        <tr>\n",
       "            <td>6/1/15</td> <td>317          </td> <td>IND        </td> <td>-10  </td>\n",
       "        </tr>\n",
       "    </tbody>\n",
       "</table>\n",
       "<p>... (13815 rows omitted)</p>"
      ],
      "text/plain": [
       "Date   | Flight Number | Destination | Delay\n",
       "6/1/15 | 73            | HNL         | 257\n",
       "6/1/15 | 217           | EWR         | 28\n",
       "6/1/15 | 237           | STL         | -3\n",
       "6/1/15 | 250           | SAN         | 0\n",
       "6/1/15 | 267           | PHL         | 64\n",
       "6/1/15 | 273           | SEA         | -6\n",
       "6/1/15 | 278           | SEA         | -8\n",
       "6/1/15 | 292           | EWR         | 12\n",
       "6/1/15 | 300           | HNL         | 20\n",
       "6/1/15 | 317           | IND         | -10\n",
       "... (13815 rows omitted)"
      ]
     },
     "execution_count": 52,
     "metadata": {},
     "output_type": "execute_result"
    }
   ],
   "source": [
    "united = Table.read_table(\"united.csv\")\n",
    "united"
   ]
  },
  {
   "cell_type": "code",
   "execution_count": 53,
   "metadata": {},
   "outputs": [
    {
     "data": {
      "text/html": [
       "<table border=\"1\" class=\"dataframe\">\n",
       "    <thead>\n",
       "        <tr>\n",
       "            <th>mean</th> <th>std</th> <th>min</th> <th>Q1</th> <th>median</th> <th>Q3</th> <th>max</th> <th>IQR</th> <th>n</th>\n",
       "        </tr>\n",
       "    </thead>\n",
       "    <tbody>\n",
       "        <tr>\n",
       "            <td>16.6582</td> <td>39.4816</td> <td>-16 </td> <td>-2  </td> <td>2     </td> <td>18  </td> <td>580 </td> <td>20  </td> <td>13825</td>\n",
       "        </tr>\n",
       "    </tbody>\n",
       "</table>"
      ],
      "text/plain": [
       "mean    | std     | min  | Q1   | median | Q3   | max  | IQR  | n\n",
       "16.6582 | 39.4816 | -16  | -2   | 2      | 18   | 580  | 20   | 13825"
      ]
     },
     "execution_count": 53,
     "metadata": {},
     "output_type": "execute_result"
    }
   ],
   "source": [
    "favstats(united, 'Delay')"
   ]
  },
  {
   "cell_type": "code",
   "execution_count": 54,
   "metadata": {},
   "outputs": [
    {
     "data": {
      "text/html": [
       "<table border=\"1\" class=\"dataframe\">\n",
       "    <thead>\n",
       "        <tr>\n",
       "            <th>Destination</th> <th>mean</th> <th>std</th> <th>min</th> <th>Q1</th> <th>median</th> <th>Q3</th> <th>max</th> <th>IQR</th> <th>n</th>\n",
       "        </tr>\n",
       "    </thead>\n",
       "    <tbody>\n",
       "        <tr>\n",
       "            <td>MSN        </td> <td>13     </td> <td>28.2843</td> <td>-7  </td> <td>3    </td> <td>13    </td> <td>23   </td> <td>33  </td> <td>20   </td> <td>2   </td>\n",
       "        </tr>\n",
       "        <tr>\n",
       "            <td>MSY        </td> <td>37     </td> <td>50.2693</td> <td>6   </td> <td>8    </td> <td>10    </td> <td>52.5 </td> <td>95  </td> <td>44.5 </td> <td>3   </td>\n",
       "        </tr>\n",
       "        <tr>\n",
       "            <td>SAT        </td> <td>-3.625 </td> <td>3.6492 </td> <td>-11 </td> <td>-6   </td> <td>-3.5  </td> <td>-1   </td> <td>3   </td> <td>5    </td> <td>16  </td>\n",
       "        </tr>\n",
       "        <tr>\n",
       "            <td>SLC        </td> <td>10.1429</td> <td>31.2767</td> <td>-11 </td> <td>-4.25</td> <td>-2.5  </td> <td>3.25 </td> <td>121 </td> <td>7.5  </td> <td>56  </td>\n",
       "        </tr>\n",
       "        <tr>\n",
       "            <td>STL        </td> <td>23.75  </td> <td>53.4101</td> <td>-9  </td> <td>-2   </td> <td>2     </td> <td>25   </td> <td>332 </td> <td>27   </td> <td>72  </td>\n",
       "        </tr>\n",
       "        <tr>\n",
       "            <td>FLL        </td> <td>22.8182</td> <td>32.8552</td> <td>-7  </td> <td>1    </td> <td>9     </td> <td>33   </td> <td>165 </td> <td>32   </td> <td>77  </td>\n",
       "        </tr>\n",
       "        <tr>\n",
       "            <td>IND        </td> <td>18.5444</td> <td>45.2141</td> <td>-12 </td> <td>-4   </td> <td>2.5   </td> <td>20.75</td> <td>312 </td> <td>24.75</td> <td>90  </td>\n",
       "        </tr>\n",
       "        <tr>\n",
       "            <td>ANC        </td> <td>15.337 </td> <td>32.5331</td> <td>-9  </td> <td>-2   </td> <td>3.5   </td> <td>14   </td> <td>185 </td> <td>16   </td> <td>92  </td>\n",
       "        </tr>\n",
       "        <tr>\n",
       "            <td>BWI        </td> <td>18.0978</td> <td>31.414 </td> <td>-9  </td> <td>-0.25</td> <td>5     </td> <td>22.5 </td> <td>157 </td> <td>22.75</td> <td>92  </td>\n",
       "        </tr>\n",
       "        <tr>\n",
       "            <td>DCA        </td> <td>24.3804</td> <td>40.3708</td> <td>-8  </td> <td>-2   </td> <td>9     </td> <td>32.25</td> <td>208 </td> <td>34.25</td> <td>92  </td>\n",
       "        </tr>\n",
       "        <tr>\n",
       "            <td>PIT        </td> <td>9.80435</td> <td>27.2885</td> <td>-10 </td> <td>-5   </td> <td>-1    </td> <td>14   </td> <td>144 </td> <td>19   </td> <td>92  </td>\n",
       "        </tr>\n",
       "        <tr>\n",
       "            <td>RNO        </td> <td>16.5417</td> <td>39.8608</td> <td>-10 </td> <td>-4   </td> <td>-1    </td> <td>16.25</td> <td>223 </td> <td>20.25</td> <td>96  </td>\n",
       "        </tr>\n",
       "        <tr>\n",
       "            <td>MSP        </td> <td>18.955 </td> <td>29.498 </td> <td>-8  </td> <td>-1   </td> <td>6     </td> <td>29.5 </td> <td>133 </td> <td>30.5 </td> <td>111 </td>\n",
       "        </tr>\n",
       "        <tr>\n",
       "            <td>PHX        </td> <td>16.761 </td> <td>37.0964</td> <td>-13 </td> <td>-4   </td> <td>0     </td> <td>19   </td> <td>209 </td> <td>23   </td> <td>159 </td>\n",
       "        </tr>\n",
       "        <tr>\n",
       "            <td>DFW        </td> <td>19.6211</td> <td>38.6916</td> <td>-8  </td> <td>-3   </td> <td>3     </td> <td>27   </td> <td>209 </td> <td>30   </td> <td>161 </td>\n",
       "        </tr>\n",
       "        <tr>\n",
       "            <td>CLE        </td> <td>21.2515</td> <td>38.2425</td> <td>-9  </td> <td>-2   </td> <td>5     </td> <td>32   </td> <td>299 </td> <td>34   </td> <td>163 </td>\n",
       "        </tr>\n",
       "        <tr>\n",
       "            <td>ATL        </td> <td>15.4118</td> <td>27.7351</td> <td>-9  </td> <td>0    </td> <td>6     </td> <td>21   </td> <td>227 </td> <td>21   </td> <td>170 </td>\n",
       "        </tr>\n",
       "        <tr>\n",
       "            <td>LIH        </td> <td>13.4033</td> <td>31.4105</td> <td>-9  </td> <td>-3   </td> <td>1     </td> <td>17   </td> <td>191 </td> <td>20   </td> <td>181 </td>\n",
       "        </tr>\n",
       "        <tr>\n",
       "            <td>RDU        </td> <td>14.4011</td> <td>36.9998</td> <td>-9  </td> <td>-3   </td> <td>2     </td> <td>17.5 </td> <td>339 </td> <td>20.5 </td> <td>182 </td>\n",
       "        </tr>\n",
       "        <tr>\n",
       "            <td>PHL        </td> <td>16.8251</td> <td>30.5915</td> <td>-12 </td> <td>-1.5 </td> <td>6     </td> <td>22.5 </td> <td>170 </td> <td>24   </td> <td>183 </td>\n",
       "        </tr>\n",
       "        <tr>\n",
       "            <td>KOA        </td> <td>13.9655</td> <td>38.5314</td> <td>-14 </td> <td>-3   </td> <td>2     </td> <td>12   </td> <td>313 </td> <td>15   </td> <td>203 </td>\n",
       "        </tr>\n",
       "        <tr>\n",
       "            <td>SNA        </td> <td>10.034 </td> <td>29.3827</td> <td>-13 </td> <td>-4.75</td> <td>-1.5  </td> <td>11   </td> <td>194 </td> <td>15.75</td> <td>206 </td>\n",
       "        </tr>\n",
       "        <tr>\n",
       "            <td>MCO        </td> <td>18.4771</td> <td>40.1807</td> <td>-11 </td> <td>-1   </td> <td>4     </td> <td>20   </td> <td>331 </td> <td>21   </td> <td>262 </td>\n",
       "        </tr>\n",
       "        <tr>\n",
       "            <td>AUS        </td> <td>15.2254</td> <td>39.8567</td> <td>-13 </td> <td>-4   </td> <td>0     </td> <td>17   </td> <td>382 </td> <td>21   </td> <td>284 </td>\n",
       "        </tr>\n",
       "        <tr>\n",
       "            <td>OGG        </td> <td>17.2389</td> <td>41.0811</td> <td>-11 </td> <td>-2   </td> <td>3     </td> <td>17.75</td> <td>275 </td> <td>19.75</td> <td>314 </td>\n",
       "        </tr>\n",
       "        <tr>\n",
       "            <td>HNL        </td> <td>25.6839</td> <td>56.6364</td> <td>-10 </td> <td>1    </td> <td>7     </td> <td>22   </td> <td>537 </td> <td>21   </td> <td>465 </td>\n",
       "        </tr>\n",
       "        <tr>\n",
       "            <td>PDX        </td> <td>16.0717</td> <td>39.631 </td> <td>-16 </td> <td>-4   </td> <td>1     </td> <td>18   </td> <td>288 </td> <td>22   </td> <td>488 </td>\n",
       "        </tr>\n",
       "        <tr>\n",
       "            <td>SAN        </td> <td>13.7801</td> <td>33.6956</td> <td>-13 </td> <td>-3   </td> <td>1     </td> <td>14   </td> <td>306 </td> <td>17   </td> <td>523 </td>\n",
       "        </tr>\n",
       "        <tr>\n",
       "            <td>JFK        </td> <td>18.4527</td> <td>47.9833</td> <td>-11 </td> <td>-3   </td> <td>1     </td> <td>16   </td> <td>353 </td> <td>19   </td> <td>603 </td>\n",
       "        </tr>\n",
       "        <tr>\n",
       "            <td>BOS        </td> <td>16.8092</td> <td>38.258 </td> <td>-11 </td> <td>-2   </td> <td>2     </td> <td>18   </td> <td>315 </td> <td>20   </td> <td>697 </td>\n",
       "        </tr>\n",
       "        <tr>\n",
       "            <td>LAS        </td> <td>12.0361</td> <td>32.8565</td> <td>-12 </td> <td>-4   </td> <td>0     </td> <td>11   </td> <td>302 </td> <td>15   </td> <td>720 </td>\n",
       "        </tr>\n",
       "        <tr>\n",
       "            <td>SEA        </td> <td>16.9001</td> <td>39.5379</td> <td>-13 </td> <td>-3   </td> <td>2     </td> <td>21   </td> <td>580 </td> <td>24   </td> <td>771 </td>\n",
       "        </tr>\n",
       "        <tr>\n",
       "            <td>IAD        </td> <td>15.6619</td> <td>38.4888</td> <td>-16 </td> <td>-2   </td> <td>3     </td> <td>16   </td> <td>508 </td> <td>18   </td> <td>840 </td>\n",
       "        </tr>\n",
       "        <tr>\n",
       "            <td>DEN        </td> <td>13.7183</td> <td>34.3058</td> <td>-13 </td> <td>-3   </td> <td>1     </td> <td>14   </td> <td>324 </td> <td>17   </td> <td>845 </td>\n",
       "        </tr>\n",
       "        <tr>\n",
       "            <td>IAH        </td> <td>14.2659</td> <td>33.1764</td> <td>-11 </td> <td>-1   </td> <td>3     </td> <td>16   </td> <td>310 </td> <td>17   </td> <td>895 </td>\n",
       "        </tr>\n",
       "        <tr>\n",
       "            <td>LAX        </td> <td>17.4123</td> <td>42.9469</td> <td>-10 </td> <td>-3   </td> <td>2     </td> <td>19   </td> <td>438 </td> <td>22   </td> <td>929 </td>\n",
       "        </tr>\n",
       "        <tr>\n",
       "            <td>EWR        </td> <td>18.5522</td> <td>41.2069</td> <td>-13 </td> <td>-2   </td> <td>4     </td> <td>18.75</td> <td>370 </td> <td>20.75</td> <td>1322</td>\n",
       "        </tr>\n",
       "        <tr>\n",
       "            <td>ORD        </td> <td>18.5227</td> <td>43.1188</td> <td>-12 </td> <td>-2   </td> <td>4     </td> <td>21   </td> <td>505 </td> <td>23   </td> <td>1368</td>\n",
       "        </tr>\n",
       "    </tbody>\n",
       "</table>"
      ],
      "text/plain": [
       "<IPython.core.display.HTML object>"
      ]
     },
     "metadata": {},
     "output_type": "display_data"
    }
   ],
   "source": [
    "groupstats(united, 'Destination','Delay').sort('n').show()"
   ]
  },
  {
   "cell_type": "code",
   "execution_count": 55,
   "metadata": {},
   "outputs": [
    {
     "data": {
      "text/html": [
       "<table border=\"1\" class=\"dataframe\">\n",
       "    <thead>\n",
       "        <tr>\n",
       "            <th>Destination</th> <th>mean</th> <th>std</th> <th>min</th> <th>Q1</th> <th>median</th> <th>Q3</th> <th>max</th> <th>IQR</th> <th>n</th>\n",
       "        </tr>\n",
       "    </thead>\n",
       "    <tbody>\n",
       "        <tr>\n",
       "            <td>SAT        </td> <td>-3.625 </td> <td>3.6492 </td> <td>-11 </td> <td>-6   </td> <td>-3.5  </td> <td>-1   </td> <td>3   </td> <td>5    </td> <td>16  </td>\n",
       "        </tr>\n",
       "        <tr>\n",
       "            <td>PIT        </td> <td>9.80435</td> <td>27.2885</td> <td>-10 </td> <td>-5   </td> <td>-1    </td> <td>14   </td> <td>144 </td> <td>19   </td> <td>92  </td>\n",
       "        </tr>\n",
       "        <tr>\n",
       "            <td>SNA        </td> <td>10.034 </td> <td>29.3827</td> <td>-13 </td> <td>-4.75</td> <td>-1.5  </td> <td>11   </td> <td>194 </td> <td>15.75</td> <td>206 </td>\n",
       "        </tr>\n",
       "        <tr>\n",
       "            <td>SLC        </td> <td>10.1429</td> <td>31.2767</td> <td>-11 </td> <td>-4.25</td> <td>-2.5  </td> <td>3.25 </td> <td>121 </td> <td>7.5  </td> <td>56  </td>\n",
       "        </tr>\n",
       "        <tr>\n",
       "            <td>LAS        </td> <td>12.0361</td> <td>32.8565</td> <td>-12 </td> <td>-4   </td> <td>0     </td> <td>11   </td> <td>302 </td> <td>15   </td> <td>720 </td>\n",
       "        </tr>\n",
       "        <tr>\n",
       "            <td>MSN        </td> <td>13     </td> <td>28.2843</td> <td>-7  </td> <td>3    </td> <td>13    </td> <td>23   </td> <td>33  </td> <td>20   </td> <td>2   </td>\n",
       "        </tr>\n",
       "        <tr>\n",
       "            <td>LIH        </td> <td>13.4033</td> <td>31.4105</td> <td>-9  </td> <td>-3   </td> <td>1     </td> <td>17   </td> <td>191 </td> <td>20   </td> <td>181 </td>\n",
       "        </tr>\n",
       "        <tr>\n",
       "            <td>DEN        </td> <td>13.7183</td> <td>34.3058</td> <td>-13 </td> <td>-3   </td> <td>1     </td> <td>14   </td> <td>324 </td> <td>17   </td> <td>845 </td>\n",
       "        </tr>\n",
       "        <tr>\n",
       "            <td>SAN        </td> <td>13.7801</td> <td>33.6956</td> <td>-13 </td> <td>-3   </td> <td>1     </td> <td>14   </td> <td>306 </td> <td>17   </td> <td>523 </td>\n",
       "        </tr>\n",
       "        <tr>\n",
       "            <td>KOA        </td> <td>13.9655</td> <td>38.5314</td> <td>-14 </td> <td>-3   </td> <td>2     </td> <td>12   </td> <td>313 </td> <td>15   </td> <td>203 </td>\n",
       "        </tr>\n",
       "        <tr>\n",
       "            <td>IAH        </td> <td>14.2659</td> <td>33.1764</td> <td>-11 </td> <td>-1   </td> <td>3     </td> <td>16   </td> <td>310 </td> <td>17   </td> <td>895 </td>\n",
       "        </tr>\n",
       "        <tr>\n",
       "            <td>RDU        </td> <td>14.4011</td> <td>36.9998</td> <td>-9  </td> <td>-3   </td> <td>2     </td> <td>17.5 </td> <td>339 </td> <td>20.5 </td> <td>182 </td>\n",
       "        </tr>\n",
       "        <tr>\n",
       "            <td>AUS        </td> <td>15.2254</td> <td>39.8567</td> <td>-13 </td> <td>-4   </td> <td>0     </td> <td>17   </td> <td>382 </td> <td>21   </td> <td>284 </td>\n",
       "        </tr>\n",
       "        <tr>\n",
       "            <td>ANC        </td> <td>15.337 </td> <td>32.5331</td> <td>-9  </td> <td>-2   </td> <td>3.5   </td> <td>14   </td> <td>185 </td> <td>16   </td> <td>92  </td>\n",
       "        </tr>\n",
       "        <tr>\n",
       "            <td>ATL        </td> <td>15.4118</td> <td>27.7351</td> <td>-9  </td> <td>0    </td> <td>6     </td> <td>21   </td> <td>227 </td> <td>21   </td> <td>170 </td>\n",
       "        </tr>\n",
       "        <tr>\n",
       "            <td>IAD        </td> <td>15.6619</td> <td>38.4888</td> <td>-16 </td> <td>-2   </td> <td>3     </td> <td>16   </td> <td>508 </td> <td>18   </td> <td>840 </td>\n",
       "        </tr>\n",
       "        <tr>\n",
       "            <td>PDX        </td> <td>16.0717</td> <td>39.631 </td> <td>-16 </td> <td>-4   </td> <td>1     </td> <td>18   </td> <td>288 </td> <td>22   </td> <td>488 </td>\n",
       "        </tr>\n",
       "        <tr>\n",
       "            <td>RNO        </td> <td>16.5417</td> <td>39.8608</td> <td>-10 </td> <td>-4   </td> <td>-1    </td> <td>16.25</td> <td>223 </td> <td>20.25</td> <td>96  </td>\n",
       "        </tr>\n",
       "        <tr>\n",
       "            <td>PHX        </td> <td>16.761 </td> <td>37.0964</td> <td>-13 </td> <td>-4   </td> <td>0     </td> <td>19   </td> <td>209 </td> <td>23   </td> <td>159 </td>\n",
       "        </tr>\n",
       "        <tr>\n",
       "            <td>BOS        </td> <td>16.8092</td> <td>38.258 </td> <td>-11 </td> <td>-2   </td> <td>2     </td> <td>18   </td> <td>315 </td> <td>20   </td> <td>697 </td>\n",
       "        </tr>\n",
       "        <tr>\n",
       "            <td>PHL        </td> <td>16.8251</td> <td>30.5915</td> <td>-12 </td> <td>-1.5 </td> <td>6     </td> <td>22.5 </td> <td>170 </td> <td>24   </td> <td>183 </td>\n",
       "        </tr>\n",
       "        <tr>\n",
       "            <td>SEA        </td> <td>16.9001</td> <td>39.5379</td> <td>-13 </td> <td>-3   </td> <td>2     </td> <td>21   </td> <td>580 </td> <td>24   </td> <td>771 </td>\n",
       "        </tr>\n",
       "        <tr>\n",
       "            <td>OGG        </td> <td>17.2389</td> <td>41.0811</td> <td>-11 </td> <td>-2   </td> <td>3     </td> <td>17.75</td> <td>275 </td> <td>19.75</td> <td>314 </td>\n",
       "        </tr>\n",
       "        <tr>\n",
       "            <td>LAX        </td> <td>17.4123</td> <td>42.9469</td> <td>-10 </td> <td>-3   </td> <td>2     </td> <td>19   </td> <td>438 </td> <td>22   </td> <td>929 </td>\n",
       "        </tr>\n",
       "        <tr>\n",
       "            <td>BWI        </td> <td>18.0978</td> <td>31.414 </td> <td>-9  </td> <td>-0.25</td> <td>5     </td> <td>22.5 </td> <td>157 </td> <td>22.75</td> <td>92  </td>\n",
       "        </tr>\n",
       "        <tr>\n",
       "            <td>JFK        </td> <td>18.4527</td> <td>47.9833</td> <td>-11 </td> <td>-3   </td> <td>1     </td> <td>16   </td> <td>353 </td> <td>19   </td> <td>603 </td>\n",
       "        </tr>\n",
       "        <tr>\n",
       "            <td>MCO        </td> <td>18.4771</td> <td>40.1807</td> <td>-11 </td> <td>-1   </td> <td>4     </td> <td>20   </td> <td>331 </td> <td>21   </td> <td>262 </td>\n",
       "        </tr>\n",
       "        <tr>\n",
       "            <td>ORD        </td> <td>18.5227</td> <td>43.1188</td> <td>-12 </td> <td>-2   </td> <td>4     </td> <td>21   </td> <td>505 </td> <td>23   </td> <td>1368</td>\n",
       "        </tr>\n",
       "        <tr>\n",
       "            <td>IND        </td> <td>18.5444</td> <td>45.2141</td> <td>-12 </td> <td>-4   </td> <td>2.5   </td> <td>20.75</td> <td>312 </td> <td>24.75</td> <td>90  </td>\n",
       "        </tr>\n",
       "        <tr>\n",
       "            <td>EWR        </td> <td>18.5522</td> <td>41.2069</td> <td>-13 </td> <td>-2   </td> <td>4     </td> <td>18.75</td> <td>370 </td> <td>20.75</td> <td>1322</td>\n",
       "        </tr>\n",
       "        <tr>\n",
       "            <td>MSP        </td> <td>18.955 </td> <td>29.498 </td> <td>-8  </td> <td>-1   </td> <td>6     </td> <td>29.5 </td> <td>133 </td> <td>30.5 </td> <td>111 </td>\n",
       "        </tr>\n",
       "        <tr>\n",
       "            <td>DFW        </td> <td>19.6211</td> <td>38.6916</td> <td>-8  </td> <td>-3   </td> <td>3     </td> <td>27   </td> <td>209 </td> <td>30   </td> <td>161 </td>\n",
       "        </tr>\n",
       "        <tr>\n",
       "            <td>CLE        </td> <td>21.2515</td> <td>38.2425</td> <td>-9  </td> <td>-2   </td> <td>5     </td> <td>32   </td> <td>299 </td> <td>34   </td> <td>163 </td>\n",
       "        </tr>\n",
       "        <tr>\n",
       "            <td>FLL        </td> <td>22.8182</td> <td>32.8552</td> <td>-7  </td> <td>1    </td> <td>9     </td> <td>33   </td> <td>165 </td> <td>32   </td> <td>77  </td>\n",
       "        </tr>\n",
       "        <tr>\n",
       "            <td>STL        </td> <td>23.75  </td> <td>53.4101</td> <td>-9  </td> <td>-2   </td> <td>2     </td> <td>25   </td> <td>332 </td> <td>27   </td> <td>72  </td>\n",
       "        </tr>\n",
       "        <tr>\n",
       "            <td>DCA        </td> <td>24.3804</td> <td>40.3708</td> <td>-8  </td> <td>-2   </td> <td>9     </td> <td>32.25</td> <td>208 </td> <td>34.25</td> <td>92  </td>\n",
       "        </tr>\n",
       "        <tr>\n",
       "            <td>HNL        </td> <td>25.6839</td> <td>56.6364</td> <td>-10 </td> <td>1    </td> <td>7     </td> <td>22   </td> <td>537 </td> <td>21   </td> <td>465 </td>\n",
       "        </tr>\n",
       "        <tr>\n",
       "            <td>MSY        </td> <td>37     </td> <td>50.2693</td> <td>6   </td> <td>8    </td> <td>10    </td> <td>52.5 </td> <td>95  </td> <td>44.5 </td> <td>3   </td>\n",
       "        </tr>\n",
       "    </tbody>\n",
       "</table>"
      ],
      "text/plain": [
       "<IPython.core.display.HTML object>"
      ]
     },
     "metadata": {},
     "output_type": "display_data"
    }
   ],
   "source": [
    "groupstats(united, 'Destination','Delay').sort('mean').show()"
   ]
  },
  {
   "cell_type": "markdown",
   "metadata": {},
   "source": [
    "## Outliers ##\n",
    "\n",
    "An outlier is a datum that falls outside the trend set by the rest of the data.  There are two common methods for outlier detection.\n",
    "\n",
    "\n",
    "### Method 1 ###\n",
    "\n",
    "Mean and standard deviation\n",
    "\n",
    "*Potential Outliers*\n",
    "\n",
    "Any data that fall outside the range of $\\overline{x} \\pm 2S_x$ are regarded as potential outliers.\n",
    "\n",
    "*Probable Outliers, or simply Outliers*\n",
    "\n",
    "Any data that fall outside the range of $\\overline{x} \\pm 3S_x$ are sometimes regarded as probable outliers, but most often it's simply said that these are outliers.  \n",
    "\n",
    "\n",
    "### Method 2 ###\n",
    "\n",
    "Quartiles and IQR\n",
    "\n",
    "Any data that are above $Q_3 + 1.5\\cdot IQR$ or below $Q_1 - 1.5\\cdot IQR$ are regarded as outliers.  \n",
    "\n",
    "\n",
    "Since boxplots are graphical displays that include the quartile, Python automatically identifies any data that is regarded as outlying on a boxplot by NOT connected it to the main body of the plot.\n"
   ]
  },
  {
   "cell_type": "code",
   "execution_count": 56,
   "metadata": {},
   "outputs": [
    {
     "data": {
      "text/html": [
       "\n",
       "<form action=\"javascript:code_toggle()\"><input type=\"submit\" id=\"toggleButton\" value=\"Hide Code (Too Advanced or Not the Point)\"></form>\n"
      ],
      "text/plain": [
       "<IPython.core.display.HTML object>"
      ]
     },
     "metadata": {},
     "output_type": "display_data"
    },
    {
     "data": {
      "image/png": "[encoded data removed]",
      "text/plain": [
       "<Figure size 432x288 with 1 Axes>"
      ]
     },
     "metadata": {},
     "output_type": "display_data"
    }
   ],
   "source": [
    "plots.boxplot(sf.column('Total Compensation'))\n",
    "plots.title(\"Distribution of Compensations\")\n",
    "plots.xticks(make_array(1), make_array(\"San Francisco\"))\n",
    "plots.ylabel(\"Dollars\")\n",
    "plots.text(1.2, 450000, \" All Outliers\\n by Method 2\")\n",
    "plots.quiver(1.2, 430000, -1.4, -1, scale = 8)\n",
    "plots.quiver(1.2, 525000, -1.6, .95, scale = 9);\n",
    "\n",
    "hide_code()"
   ]
  },
  {
   "cell_type": "markdown",
   "metadata": {},
   "source": [
    "In the SF Total Compensation data, what are the cut-off values for outliers by the two different methods?"
   ]
  },
  {
   "cell_type": "code",
   "execution_count": 57,
   "metadata": {},
   "outputs": [
    {
     "data": {
      "text/html": [
       "<table border=\"1\" class=\"dataframe\">\n",
       "    <thead>\n",
       "        <tr>\n",
       "            <th>mean</th> <th>std</th> <th>min</th> <th>Q1</th> <th>median</th> <th>Q3</th> <th>max</th> <th>IQR</th> <th>n</th>\n",
       "        </tr>\n",
       "    </thead>\n",
       "    <tbody>\n",
       "        <tr>\n",
       "            <td>110715</td> <td>62910.8</td> <td>10403.1</td> <td>64837.7</td> <td>107519</td> <td>149769</td> <td>648875</td> <td>84931.1</td> <td>38090</td>\n",
       "        </tr>\n",
       "    </tbody>\n",
       "</table>"
      ],
      "text/plain": [
       "mean   | std     | min     | Q1      | median | Q3     | max    | IQR     | n\n",
       "110715 | 62910.8 | 10403.1 | 64837.7 | 107519 | 149769 | 648875 | 84931.1 | 38090"
      ]
     },
     "execution_count": 57,
     "metadata": {},
     "output_type": "execute_result"
    }
   ],
   "source": [
    "favstats(sf,'Total Compensation')"
   ]
  },
  {
   "cell_type": "code",
   "execution_count": 58,
   "metadata": {},
   "outputs": [
    {
     "data": {
      "text/plain": [
       "-78017.40000000002"
      ]
     },
     "execution_count": 58,
     "metadata": {},
     "output_type": "execute_result"
    }
   ],
   "source": [
    "## Method 1 ##\n",
    "\n",
    "### Lower bound ###\n",
    "\n",
    "110715 - 3*62910.8\n"
   ]
  },
  {
   "cell_type": "code",
   "execution_count": 59,
   "metadata": {},
   "outputs": [
    {
     "data": {
      "text/plain": [
       "299447.4"
      ]
     },
     "execution_count": 59,
     "metadata": {},
     "output_type": "execute_result"
    }
   ],
   "source": [
    "## Method 1 ##\n",
    "\n",
    "### Upper bound ###\n",
    "\n",
    "110715 + 3*62910.8"
   ]
  },
  {
   "cell_type": "code",
   "execution_count": 60,
   "metadata": {},
   "outputs": [
    {
     "data": {
      "text/plain": [
       "-62558.95000000001"
      ]
     },
     "execution_count": 60,
     "metadata": {},
     "output_type": "execute_result"
    }
   ],
   "source": [
    "## Method 2 ##\n",
    "\n",
    "### Lower bound ###\n",
    "\n",
    "64837.7 - 1.5*84931.1"
   ]
  },
  {
   "cell_type": "code",
   "execution_count": 61,
   "metadata": {},
   "outputs": [
    {
     "data": {
      "text/plain": [
       "277165.65"
      ]
     },
     "execution_count": 61,
     "metadata": {},
     "output_type": "execute_result"
    }
   ],
   "source": [
    "## Method 2 ##\n",
    "\n",
    "### Upper bound ###\n",
    "\n",
    "149769 + 1.5*84931.1"
   ]
  },
  {
   "cell_type": "markdown",
   "metadata": {},
   "source": [
    "Method 1 is less likely to identify a datum as an outlier than Method 2, in general.  Let's look at 5000 samples drawn from the same right skewed population (which means they are likely to contain a high outlier), and see how many outliers are detected in each sample using both methods.  "
   ]
  },
  {
   "cell_type": "code",
   "execution_count": 65,
   "metadata": {},
   "outputs": [
    {
     "data": {
      "text/html": [
       "\n",
       "<form action=\"javascript:code_toggle()\"><input type=\"submit\" id=\"toggleButton\" value=\"Hide Code (Too Advanced or Not the Point)\"></form>\n"
      ],
      "text/plain": [
       "<IPython.core.display.HTML object>"
      ]
     },
     "metadata": {},
     "output_type": "display_data"
    },
    {
     "data": {
      "image/png": "[encoded data removed]",
      "text/plain": [
       "<Figure size 432x288 with 1 Axes>"
      ]
     },
     "metadata": {},
     "output_type": "display_data"
    }
   ],
   "source": [
    "method1 = make_array()\n",
    "method2 = make_array()\n",
    "\n",
    "\n",
    "reps = 5000\n",
    "\n",
    "for i in np.arange(reps):\n",
    "    samp = np.random.geometric(0.5, 30)\n",
    "    mean = np.mean(samp)\n",
    "    std = stats.tstd(samp)\n",
    "    q1 = np.percentile(samp, 25)\n",
    "    q3 = np.percentile(samp, 75)\n",
    "    rod = 1.5*(q3-q1)\n",
    "    method1 = np.append(method1, sum(abs(samp - mean)> 3*std))\n",
    "    method2 = np.append(method2, sum(samp > q3+rod)+ sum(samp < q1-rod))\n",
    "    \n",
    "Outliers = Table().with_columns(\"Method 1\", method1, \"Method 2\", method2)\n",
    "tot1 = sum(method1)\n",
    "tot2 = sum(method2)\n",
    "\n",
    "Outliers.hist()\n",
    "plots.text(3, .6, f\"Total in Method 1: {tot1}\")\n",
    "plots.text(3, .5, f\"Total in Method 2: {tot2}\", weight=\"bold\");\n",
    "\n",
    "hide_code()"
   ]
  },
  {
   "cell_type": "markdown",
   "metadata": {},
   "source": [
    "See, Method 2 shows more outliers per sample and more outliers overall.  \n",
    "\n",
    "Let's do it one more time, but this time, we'll also randomly select the population they are drawn from.  Each population will still be geometric, thus inherently right skewed, but the parameter that determines the shape of the distribution will also be randomly selected.  \n"
   ]
  },
  {
   "cell_type": "code",
   "execution_count": 66,
   "metadata": {},
   "outputs": [
    {
     "data": {
      "text/html": [
       "\n",
       "<form action=\"javascript:code_toggle()\"><input type=\"submit\" id=\"toggleButton\" value=\"Hide Code (Too Advanced or Not the Point)\"></form>\n"
      ],
      "text/plain": [
       "<IPython.core.display.HTML object>"
      ]
     },
     "metadata": {},
     "output_type": "display_data"
    },
    {
     "data": {
      "image/png": "[encoded data removed]",
      "text/plain": [
       "<Figure size 432x288 with 1 Axes>"
      ]
     },
     "metadata": {},
     "output_type": "display_data"
    }
   ],
   "source": [
    "method1 = make_array()\n",
    "method2 = make_array()\n",
    "\n",
    "\n",
    "reps = 5000\n",
    "\n",
    "for i in np.arange(reps):\n",
    "    prop = np.random.uniform(0,1)\n",
    "    samp = np.random.geometric(prop, 30)\n",
    "    mean = np.mean(samp)\n",
    "    std = stats.tstd(samp)\n",
    "    q1 = np.percentile(samp, 25)\n",
    "    q3 = np.percentile(samp, 75)\n",
    "    rod = 1.5*(q3-q1)\n",
    "    method1 = np.append(method1, sum(abs(samp - mean)> 3*std))\n",
    "    method2 = np.append(method2, sum(samp > q3+rod)+ sum(samp < q1-rod))\n",
    "    \n",
    "Outliers = Table().with_columns(\"Method 1\", method1, \"Method 2\", method2)\n",
    "tot1 = sum(method1)\n",
    "tot2 = sum(method2)\n",
    "\n",
    "Outliers.hist()\n",
    "plots.text(3, .6, f\"Total in Method 1: {tot1}\")\n",
    "plots.text(3, .5, f\"Total in Method 2: {tot2}\", weight=\"bold\");\n",
    "\n",
    "hide_code()"
   ]
  },
  {
   "cell_type": "markdown",
   "metadata": {},
   "source": [
    "Method 1 is more popular with researchers.  This may have to do with the fact that the presence of outliers in data sets can sometimes invalidate statistical analyses, so researchers prefer to use a method of outlier detection that is less likely to detect outliers."
   ]
  },
  {
   "cell_type": "code",
   "execution_count": null,
   "metadata": {},
   "outputs": [],
   "source": []
  }
 ],
 "metadata": {
  "anaconda-cloud": {},
  "kernelspec": {
   "display_name": "Python 3",
   "language": "python",
   "name": "python3"
  },
  "language_info": {
   "codemirror_mode": {
    "name": "ipython",
    "version": 3
   },
   "file_extension": ".py",
   "mimetype": "text/x-python",
   "name": "python",
   "nbconvert_exporter": "python",
   "pygments_lexer": "ipython3",
   "version": "3.6.5"
  }
 },
 "nbformat": 4,
 "nbformat_minor": 1
}
