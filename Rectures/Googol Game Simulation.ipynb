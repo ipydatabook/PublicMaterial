{
 "cells": [
  {
   "cell_type": "markdown",
   "metadata": {},
   "source": [
    "# Googol Game "
   ]
  },
  {
   "cell_type": "markdown",
   "metadata": {},
   "source": [
    "**Set Up:**\n",
    "\n",
    "In the game [Googol](https://johncarlosbaez.wordpress.com/2015/07/20/the-game-of-googol/), 100 cards are laid face down.  On the downward side of each card, a positive integer is printed, and that number can be pretty much as large as we choose.  Actually, the top bound is often set at $1 \\times 10^{100}$, a quantity known as a Googol, which inspires the name of the game, but that's such a ridiculously large number that it's as if there is no upper bound.  \n",
    "\n",
    "**Goal:** Find the highest card.\n",
    "\n",
    "**Rules:**\n",
    "\n",
    "*  You may turn over one card at a time\n",
    "\n",
    "*  If you believe the card you see is the highest, say so and stop playing\n",
    "\n",
    "*  Once you have seen a card and moved on to examine another card, you can NOT go back to it.  \n",
    "\n",
    "*  If you find the highest card in this way, you win, otherwise you lose.\n",
    "\n",
    "\n",
    "    \n",
    "\n",
    "Now you play, but with only 10 cards.  Choose a partner, and one of you come and pick just 10 cards.  One of you can know the highest card, and the other one can't, the one who doesn't know is the player. \n",
    "\n",
    "\n",
    "\n",
    "## There is a known strategy that supposedly gives the player at least a 36% chance of winning this game.  Here's the strategy:\n",
    "\n",
    "* Divide the number of cards you're playing with by $e \\approx 2.71828$, then go up to the next whole number.\n",
    "\n",
    "* This number is your initial sample; you draw the FIRST that many cards and remember only the highest among those, call it Sample Max.\n",
    "\n",
    "* Then continue drawing cards until the first time you see a number that exceeds Sample Max.\n",
    "\n",
    "* Stop and make that card your choice.\n",
    "\n",
    "The ceiling of $\\displaystyle \\frac{10}{e}$ is 4.  So you should randomly choose 4 of the 10, and remember the highest of those.  Then go through the remaining cards just until you see a number higher than the one you're remembering.  \n",
    "\n",
    "For an explanation of this strategy, see this [video](https://www.youtube.com/watch?v=OeJobV4jJG0).\n",
    "\n",
    "\n",
    "\n",
    "\n",
    "## Does this strategy really work? Meaning, does it really give you at least a 36% chance of winning?\n",
    "\n",
    "Let's place an upper bound on the numbers of 1000, and write a simulation that plays with this strategy.  Then we can test how often it wins.  \n"
   ]
  },
  {
   "cell_type": "code",
   "execution_count": 141,
   "metadata": {},
   "outputs": [],
   "source": [
    "from datascience import *\n",
    "import numpy as np\n",
    "\n",
    "import pandas as pd\n",
    "\n",
    "%matplotlib inline\n",
    "import matplotlib.pyplot as plots\n",
    "plots.style.use('fivethirtyeight')\n",
    "from scipy import stats\n",
    "\n",
    "import math"
   ]
  },
  {
   "cell_type": "code",
   "execution_count": 142,
   "metadata": {},
   "outputs": [
    {
     "name": "stdout",
     "output_type": "stream",
     "text": [
      "Lost\n",
      "Lost\n"
     ]
    }
   ],
   "source": [
    "cards = np.random.choice(np.arange(1,1001), 100, replace = False)\n",
    "\n",
    "real_max = max(cards)\n",
    "\n",
    "sample_size = int(100/math.e) + 1\n",
    "\n",
    "sample = make_array()\n",
    "\n",
    "for i in np.arange(sample_size):\n",
    "    sample = np.append(sample, cards.item(i))\n",
    "\n",
    "sample_max = max(sample)\n",
    "\n",
    "if sample_max == real_max:\n",
    "    print(\"Lost\")\n",
    "\n",
    "choice = 0\n",
    "place = sample_size-1\n",
    "\n",
    "while choice == 0:\n",
    "    place = place + 1\n",
    "    if place == num_cards-1:\n",
    "        choice = cards.item(place)\n",
    "    if cards.item(place) > sample_max:\n",
    "        choice = cards.item(place)\n",
    "if choice == real_max:\n",
    "    print(\"Win\")\n",
    "else:\n",
    "    print(\"Lost\")\n",
    "    "
   ]
  },
  {
   "cell_type": "code",
   "execution_count": 144,
   "metadata": {},
   "outputs": [],
   "source": [
    "def googol():\n",
    "    \n",
    "    cards = np.random.choice(np.arange(1, 1001), 100, replace = False)\n",
    "\n",
    "    real_max = max(cards)\n",
    "\n",
    "    sample_size = int(100/math.e) + 1\n",
    "\n",
    "    sample = make_array()\n",
    "\n",
    "    for i in np.arange(sample_size):\n",
    "        sample = np.append(sample, cards.item(i))\n",
    "\n",
    "    sample_max = max(sample)\n",
    "\n",
    "    if sample_max == real_max:\n",
    "        return \"Lost\"\n",
    "\n",
    "    choice = 0\n",
    "    place = sample_size-1\n",
    "\n",
    "    while choice == 0:\n",
    "        place = place + 1\n",
    "        if cards.item(place) > sample_max:\n",
    "            choice = cards.item(place)\n",
    "    if choice == real_max:\n",
    "        return \"Win\"\n",
    "    else:\n",
    "        return \"Lost\""
   ]
  },
  {
   "cell_type": "code",
   "execution_count": 145,
   "metadata": {},
   "outputs": [
    {
     "data": {
      "text/plain": [
       "0.3753"
      ]
     },
     "execution_count": 145,
     "metadata": {},
     "output_type": "execute_result"
    }
   ],
   "source": [
    "wins = 0\n",
    "reps = 10000\n",
    "\n",
    "for i in np.arange(reps):\n",
    "    if googol() == \"Win\":\n",
    "        wins = wins + 1\n",
    "        \n",
    "wins/reps"
   ]
  },
  {
   "cell_type": "code",
   "execution_count": null,
   "metadata": {},
   "outputs": [],
   "source": []
  },
  {
   "cell_type": "markdown",
   "metadata": {},
   "source": [
    "Let's make the code more flexible so that we don't always have to draw 100 cards, and so the maximum value could be greater than 1000.  "
   ]
  },
  {
   "cell_type": "code",
   "execution_count": 136,
   "metadata": {},
   "outputs": [
    {
     "name": "stdout",
     "output_type": "stream",
     "text": [
      "Win\n"
     ]
    }
   ],
   "source": [
    "num_cards = 100\n",
    "\n",
    "card_max = 1000\n",
    "\n",
    "cards = np.random.choice(np.arange(1, card_max+1), num_cards, replace = False)\n",
    "\n",
    "real_max = max(cards)\n",
    "\n",
    "sample_size = int(num_cards/math.e) + 1\n",
    "\n",
    "sample = make_array()\n",
    "\n",
    "for i in np.arange(sample_size):\n",
    "    sample = np.append(sample, cards.item(i))\n",
    "\n",
    "sample_max = max(sample)\n",
    "\n",
    "if sample_max == real_max:\n",
    "    print(\"Lost\")\n",
    "\n",
    "choice = 0\n",
    "place = sample_size-1\n",
    "\n",
    "while choice == 0:\n",
    "    place = place + 1\n",
    "    if place == num_cards-1:\n",
    "        choice = cards.item(place)\n",
    "    if cards.item(place) > sample_max:\n",
    "        choice = cards.item(place)\n",
    "if choice == real_max:\n",
    "    print(\"Win\")\n",
    "else:\n",
    "    print(\"Lost\")\n",
    "    \n"
   ]
  },
  {
   "cell_type": "code",
   "execution_count": 147,
   "metadata": {},
   "outputs": [],
   "source": [
    "def googol(num_cards, card_max):\n",
    "    num_cards = num_cards\n",
    "\n",
    "    card_max = card_max\n",
    "\n",
    "    cards = np.random.choice(np.arange(1, card_max+1), num_cards, replace = False)\n",
    "\n",
    "    real_max = max(cards)\n",
    "\n",
    "    sample_size = int(num_cards/math.e) + 1\n",
    "\n",
    "    sample = make_array()\n",
    "\n",
    "    for i in np.arange(sample_size):\n",
    "        sample = np.append(sample, cards.item(i))\n",
    "\n",
    "    sample_max = max(sample)\n",
    "\n",
    "    if sample_max == real_max:\n",
    "        return \"Lost\"\n",
    "\n",
    "    choice = 0\n",
    "    place = sample_size-1\n",
    "\n",
    "    while choice == 0:\n",
    "        place = place + 1\n",
    "        if cards.item(place) > sample_max:\n",
    "            choice = cards.item(place)\n",
    "    if choice == real_max:\n",
    "        return \"Win\"\n",
    "    else:\n",
    "        return \"Lost\""
   ]
  },
  {
   "cell_type": "code",
   "execution_count": 148,
   "metadata": {},
   "outputs": [
    {
     "data": {
      "text/plain": [
       "'Lost'"
      ]
     },
     "execution_count": 148,
     "metadata": {},
     "output_type": "execute_result"
    }
   ],
   "source": [
    "googol(100, 1000)"
   ]
  },
  {
   "cell_type": "code",
   "execution_count": 149,
   "metadata": {},
   "outputs": [
    {
     "data": {
      "text/plain": [
       "0.3706"
      ]
     },
     "execution_count": 149,
     "metadata": {},
     "output_type": "execute_result"
    }
   ],
   "source": [
    "wins = 0\n",
    "reps = 10000\n",
    "\n",
    "for i in np.arange(reps):\n",
    "    if googol(100,1000) == \"Win\":\n",
    "        wins = wins + 1\n",
    "        \n",
    "wins/reps\n"
   ]
  },
  {
   "cell_type": "markdown",
   "metadata": {},
   "source": [
    "The theory is that playing with this strategy gives the player a probability of winning that is *at least* as big as $\\displaystyle \\frac{1}{e} \\approx 0.3679$.\n",
    "\n",
    "Does our simulation agree with this claim?"
   ]
  },
  {
   "cell_type": "markdown",
   "metadata": {},
   "source": [
    "Did the fact that we were using 100 cards matter?  Should this strategy apply equally well to our situation with only 10 cards?  Now that our googol function allows us to change those features of the game, we can find out pretty quickly.  "
   ]
  },
  {
   "cell_type": "code",
   "execution_count": 151,
   "metadata": {},
   "outputs": [
    {
     "data": {
      "text/plain": [
       "0.397"
      ]
     },
     "execution_count": 151,
     "metadata": {},
     "output_type": "execute_result"
    }
   ],
   "source": [
    "wins = 0\n",
    "reps = 10000\n",
    "\n",
    "for i in np.arange(reps):\n",
    "    if googol(10,200) == \"Win\":\n",
    "        wins = wins + 1\n",
    "        \n",
    "wins/reps"
   ]
  },
  {
   "cell_type": "code",
   "execution_count": 156,
   "metadata": {},
   "outputs": [
    {
     "data": {
      "text/plain": [
       "0.4431"
      ]
     },
     "execution_count": 156,
     "metadata": {},
     "output_type": "execute_result"
    }
   ],
   "source": [
    "wins = 0\n",
    "reps = 10000\n",
    "\n",
    "for i in np.arange(reps):\n",
    "    if googol(5,200) == \"Win\":\n",
    "        wins = wins + 1\n",
    "        \n",
    "wins/reps"
   ]
  },
  {
   "cell_type": "code",
   "execution_count": null,
   "metadata": {},
   "outputs": [],
   "source": []
  }
 ],
 "metadata": {
  "kernelspec": {
   "display_name": "Python 3",
   "language": "python",
   "name": "python3"
  },
  "language_info": {
   "codemirror_mode": {
    "name": "ipython",
    "version": 3
   },
   "file_extension": ".py",
   "mimetype": "text/x-python",
   "name": "python",
   "nbconvert_exporter": "python",
   "pygments_lexer": "ipython3",
   "version": "3.6.5"
  }
 },
 "nbformat": 4,
 "nbformat_minor": 2
}
