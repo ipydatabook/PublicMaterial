{
 "cells": [
  {
   "cell_type": "markdown",
   "metadata": {},
   "source": [
    "# Linear Regression #\n",
    "\n",
    "In this notebook we will:\n",
    "\n",
    "- Use nearest neighbors prediction as stepping stone toward regression\n",
    "- Learn how to use the `scipy.stats.linregress` to run a linear regression\n",
    "- Learn how to interpret and report the results of a linear regression\n",
    "\n",
    "We will delve into the mathematics involved in defining the linear regression line in another notebook. "
   ]
  },
  {
   "cell_type": "code",
   "execution_count": null,
   "metadata": {},
   "outputs": [],
   "source": [
    "# HIDDEN\n",
    "from datascience import *\n",
    "import numpy as np\n",
    "%matplotlib inline\n",
    "import matplotlib.pyplot as plots\n",
    "plots.style.use('fivethirtyeight')\n",
    "\n",
    "import scipy.stats as stats\n",
    "\n",
    "import scipy.stats\n",
    "\n",
    "import warnings\n",
    "warnings.simplefilter(action=\"ignore\", category=FutureWarning)\n",
    "warnings.simplefilter(action=\"ignore\", category=np.VisibleDeprecationWarning)\n",
    "    "
   ]
  },
  {
   "cell_type": "markdown",
   "metadata": {},
   "source": [
    "## Linear Regression Equation ##\n",
    "\n",
    "Throughout this class we have routinely added the regression line to our scatterplots using the <span style =\"background:#eff0f1\"> <span style = \"font:monospace\"> fit_line </span> <span style=\"color:#AA22FF\"> = </span> <span style=\"color:#008000\" style=\"font:bold\"><b>True</b></span></span> option inside our scatterplots.  \n",
    "\n",
    "But how can we determine the equation for this line?  That method is known as linear regression.  "
   ]
  },
  {
   "cell_type": "code",
   "execution_count": null,
   "metadata": {},
   "outputs": [],
   "source": [
    "sat2014 = Table.read_table('sat2014.csv').sort('State')\n",
    "sat2014.scatter(\"Critical Reading\", \"Math\", fit_line = True)"
   ]
  },
  {
   "cell_type": "markdown",
   "metadata": {},
   "source": [
    "## Linear regression: cutting to the end\n",
    "\n",
    "In a separate notebook we'll go through the theory behind linear regression.  For now, let's just cut the end of that discussion and give the formula for the regression line.  \n",
    "\n",
    "If the following equation is used to predict values of $y$ from values of $x$\n",
    "\n",
    "$$\\hat{y} = b_1x +b_0$$ \n",
    "\n",
    "\n",
    "Then $$b_1 = r \\frac{S_y}{S_x}$$\n",
    "\n",
    "\n",
    "\n",
    "Also this line always passes through the point $(\\overline{x}, \\overline{y})$.\n",
    "\n",
    "From the two facts above we can determine that:\n",
    "\n",
    "$$ \\begin{array}{rl}b_0&= \\overline{y} - b_1\\overline{x} \\\\ &\\displaystyle = \\overline{y} - r \\frac{S_y}{S_x}\\overline{x} \\end{array}$$\n",
    "\n",
    "Naturally, there is a command that gives us all that plus more information:  `linregress` in the `scipy.stats` module.\n"
   ]
  },
  {
   "cell_type": "code",
   "execution_count": null,
   "metadata": {},
   "outputs": [],
   "source": [
    "sat2014 = Table.read_table('sat2014.csv').sort('State')\n",
    "sat2014.show(5)"
   ]
  },
  {
   "cell_type": "code",
   "execution_count": null,
   "metadata": {},
   "outputs": [],
   "source": [
    "scipy.stats.linregress(sat2014.column(\"Critical Reading\"), sat2014.column(\"Math\"))"
   ]
  },
  {
   "cell_type": "markdown",
   "metadata": {},
   "source": [
    "Does this match the formula above?"
   ]
  },
  {
   "cell_type": "code",
   "execution_count": null,
   "metadata": {},
   "outputs": [],
   "source": [
    "print(np.mean(sat2014.column(\"Critical Reading\")))\n",
    "print(stats.tstd(sat2014.column(\"Critical Reading\")))\n",
    "print(np.mean(sat2014.column(\"Math\")))\n",
    "print(stats.tstd(sat2014.column(\"Math\")))\n",
    "print(stats.pearsonr(sat2014.column(\"Math\"), sat2014.column(\"Critical Reading\")))"
   ]
  },
  {
   "cell_type": "code",
   "execution_count": null,
   "metadata": {},
   "outputs": [],
   "source": [
    "0.984755*48.26207/47.9030966"
   ]
  },
  {
   "cell_type": "code",
   "execution_count": null,
   "metadata": {},
   "outputs": [],
   "source": [
    "slope = stats.pearsonr(sat2014.column(\"Math\"), sat2014.column(\"Critical Reading\"))[0] * stats.tstd(sat2014.column(\"Math\"))/stats.tstd(sat2014.column(\"Critical Reading\"))\n",
    "slope"
   ]
  },
  {
   "cell_type": "code",
   "execution_count": null,
   "metadata": {},
   "outputs": [],
   "source": [
    "intercept = np.mean(sat2014.column(\"Math\")) - slope * np.mean(sat2014.column(\"Critical Reading\"))\n",
    "intercept"
   ]
  },
  {
   "cell_type": "code",
   "execution_count": null,
   "metadata": {},
   "outputs": [],
   "source": []
  },
  {
   "cell_type": "code",
   "execution_count": null,
   "metadata": {},
   "outputs": [],
   "source": [
    "scipy.stats.pearsonr(sat2014.column(\"Critical Reading\"), sat2014.column(\"Math\"))"
   ]
  },
  {
   "cell_type": "markdown",
   "metadata": {},
   "source": [
    "The equation is $\\hat{y} = 0.99 x + 7.36$\n",
    "\n",
    "Or  $$ \\hat{Math} = 0.99 \\cdot Reading + 7.36$$\n",
    "\n"
   ]
  },
  {
   "cell_type": "code",
   "execution_count": null,
   "metadata": {},
   "outputs": [],
   "source": [
    "def reg_line(x):\n",
    "    return 0.99*x + 7.36\n",
    "\n",
    "sat2014.scatter(\"Critical Reading\", \"Math\")\n",
    "plots.plot([440, 612],[reg_line(440),reg_line(612)])\n",
    "plots.title(\"SATs in 2014\");"
   ]
  },
  {
   "cell_type": "markdown",
   "metadata": {},
   "source": [
    "#### Changing parts of graphs\n",
    "\n",
    "Just about every part of these graphs can be modified.  You can look up how to change things by looking at the [matplotlib documentation](https://www.cureus.com/articles/93826-correlation-between-mask-compliance-and-covid-19-outcomes-in-europe).\n",
    "\n",
    "In this example, we change a number of features of this graph, just to show you how.  This graph is too garrish to be considered professional, though it is nicely patriotic.  "
   ]
  },
  {
   "cell_type": "code",
   "execution_count": null,
   "metadata": {},
   "outputs": [],
   "source": [
    "sat2014.scatter(\"Critical Reading\", \"Math\", edgecolor=\"blue\", facecolor=\"white\",  fit_line=True, color=\"red\", marker = \"*\", s=250)\n",
    "plots.ylabel(\"Math\", color = \"red\")\n",
    "plots.xlabel(\"Critical Reading\", color = \"blue\")\n",
    "plots.title(\"SATs in 2014\", c =\"gold\", size=50);"
   ]
  },
  {
   "cell_type": "markdown",
   "metadata": {},
   "source": [
    "Recall that `scipy.stats.pearsonr` includes a p-value for a hypothesis test with hypotheses\n",
    "\n",
    "$H_o: \\rho = 0$\n",
    "\n",
    "$H_a: \\rho \\not = 0$\n",
    "\n",
    "This is **equivalent** to a test with these hypotheses\n",
    "\n",
    "$H_o: \\beta_1 = 0$\n",
    "\n",
    "$H_a: \\beta_1 \\not = 0$\n",
    "\n",
    "Furthermore, the `scipy.stats.linregress` command runs this equivalent hypothesis test.  That's what the p-value reported with the linregress output is.  \n",
    "\n",
    "Remember that the slope of the regression line is $\\displaystyle b_1 = r \\frac{S_y}{S_x}$.  So if we assume $r= 0$ then $b_1 = 0$, too.  \n",
    "\n",
    "If we assume that $b_1 = 0$, that means that either $r = 0$ or $S_y = 0$.  The only way $S_y = 0$ is if the data forms a horizontal line, which we'd see in the scatterplot, and we already discussed that makes $r$ undefined.    \n",
    "\n",
    "### Reporting Out ###\n",
    "\n",
    "#### The regression equation is that $\\hat{Math} = 0.99 \\cdot \\mathrm{Reading} + 7.36$; the correlation is 0.985, both the correlation and the slope of the regression line are significantly different from 0 (*p* <0.001).  See Figure 1 below.  ###\n"
   ]
  },
  {
   "cell_type": "code",
   "execution_count": null,
   "metadata": {},
   "outputs": [],
   "source": [
    "sat2014.scatter(\"Critical Reading\", \"Math\", fit_line=True)\n",
    "plots.title(\"SAT Section Scores\")\n",
    "plots.text(450, 575, \"$\\hat{Math} = 0.99\\cdot Reading + 7.36$\\n$r = 0.985$, $p  <0.001$\")\n",
    "plots.text(525, 390, \"Figure 1\", ha='center');"
   ]
  },
  {
   "cell_type": "markdown",
   "metadata": {},
   "source": [
    "### Is mask compliance linked to *higher* COVID-19 death rates in Europe?\n",
    "\n",
    "The data is found [here](https://www.cureus.com/articles/93826-correlation-between-mask-compliance-and-covid-19-outcomes-in-europe).\n",
    "\n",
    "If $\\beta_1$ refers to the slope of the regression line then the null and alternative hypotheses are:\n",
    "\n",
    "$H_o: \\beta_1 = 0$\n",
    "\n",
    "$H_a: \\beta_1 > 0$\n",
    "\n",
    "Equivalently, we could state these referring to the correlation, $\\rho$.  \n",
    "\n",
    "$H_o: \\rho = 0$\n",
    "\n",
    "$H_a: \\rho > 0$\n",
    "\n",
    "Recall, that the `linregress` function will run this hypothesis test, but by default it run a two-tailed test.  By a two-tailed test we mean the alternative hypothesis is $\\beta_1 \\not= 0$.  "
   ]
  },
  {
   "cell_type": "code",
   "execution_count": null,
   "metadata": {},
   "outputs": [],
   "source": [
    "mask = Table().read_table(\"mask_data.csv\")\n",
    "\n",
    "mask.show(10)"
   ]
  },
  {
   "cell_type": "code",
   "execution_count": null,
   "metadata": {},
   "outputs": [],
   "source": [
    "mask.drop(\"Country\", \"Cases\").scatter(\"Compliance\", fit_line=True)"
   ]
  },
  {
   "cell_type": "code",
   "execution_count": null,
   "metadata": {},
   "outputs": [],
   "source": [
    "results = stats.linregress(mask.column(\"Compliance\"), mask.column(\"Deaths\"))\n",
    "results"
   ]
  },
  {
   "cell_type": "markdown",
   "metadata": {},
   "source": [
    "Since our alternative hypothesis had a direction, it is appropriate to half our p-value.  "
   ]
  },
  {
   "cell_type": "code",
   "execution_count": null,
   "metadata": {},
   "outputs": [],
   "source": [
    "p_value = results[3]/2\n",
    "p_value"
   ]
  },
  {
   "cell_type": "markdown",
   "metadata": {},
   "source": [
    "### Reporting Out ###\n",
    "#### The regression equation is that $\\hat{Deaths} = 837.6 \\cdot \\mathrm{Compliance} + 540.9$; the correlation is 0.302, both the correlation and the slope of the regression line are significantly greater than 0 (*p* = 0.039).  See Figure 1 below.  ###"
   ]
  },
  {
   "cell_type": "code",
   "execution_count": null,
   "metadata": {},
   "outputs": [],
   "source": [
    "mask.drop(\"Country\", \"Cases\").scatter(\"Compliance\", fit_line=True)\n",
    "plots.title(\"Deaths vs Percent Mask \\nCompliance\")\n",
    "plots.text(0.1, 2100, \"Deaths = 838 Comp. + 541\")\n",
    "plots.text(.5, -550, \"Figure 1\", ha='center');"
   ]
  },
  {
   "cell_type": "markdown",
   "metadata": {},
   "source": [
    "## Correlation is not the same as causation\n",
    "\n",
    "Just because two things are correlation, does not necessarily mean that one causes the other (in either direction).  It would be irresponsible to state that wearing masks caused the death rates to increase.  But what we can responsibly state is that, *in Europe*, compliance with the mask mandates did not lower the death rates (since the correlation implies that as compliance increased so did the death rates).  \n",
    "\n",
    "This video gives some interesting examples.  In the video, she states that before a correlation can be considered to imply causation, it is important that the researchers know how and why one thing caused the other.  I'd add to that causation can also be implied by the results of carefully designed randomized controlled experiment; but those are not the types of studies we hear about most often.  They are rare because they are expensive and difficult to run.  "
   ]
  },
  {
   "cell_type": "code",
   "execution_count": null,
   "metadata": {},
   "outputs": [],
   "source": [
    "from IPython.display import YouTubeVideo\n",
    "\n",
    "YouTubeVideo(\"8B271L3NtAw\")"
   ]
  },
  {
   "cell_type": "markdown",
   "metadata": {},
   "source": [
    "## More Examples of Linear Regression"
   ]
  },
  {
   "cell_type": "code",
   "execution_count": null,
   "metadata": {},
   "outputs": [],
   "source": [
    "births = Table.read_table('baby.csv')\n",
    "births.relabel(\"Maternal Pregnancy Weight\", \"Mother Weight\")\n",
    "births.show(5)"
   ]
  },
  {
   "cell_type": "code",
   "execution_count": null,
   "metadata": {},
   "outputs": [],
   "source": [
    "births.scatter(\"Mother Weight\", \"Birth Weight\", fit_line=True)"
   ]
  },
  {
   "cell_type": "code",
   "execution_count": null,
   "metadata": {},
   "outputs": [],
   "source": [
    "stats.stats.linregress(births.column(\"Mother Weight\"), births.column(\"Birth Weight\"))"
   ]
  },
  {
   "cell_type": "code",
   "execution_count": null,
   "metadata": {},
   "outputs": [],
   "source": [
    "births.scatter(\"Mother Weight\", \"Birth Weight\", fit_line=True)\n",
    "plots.text(140, 55, \"Baby = 0.14 Mother + 101.8\", color = \"red\");"
   ]
  },
  {
   "cell_type": "markdown",
   "metadata": {},
   "source": [
    "## Galton height data"
   ]
  },
  {
   "cell_type": "code",
   "execution_count": null,
   "metadata": {},
   "outputs": [],
   "source": [
    "galton = Table.read_table('galton.csv')\n",
    "\n",
    "heights = Table().with_columns(\n",
    "    'MidParent', galton.column('midparentHeight'),\n",
    "    'Child', galton.column('childHeight'))\n",
    "heights\n",
    "\n",
    "#galton.show(5)"
   ]
  },
  {
   "cell_type": "code",
   "execution_count": null,
   "metadata": {},
   "outputs": [],
   "source": [
    "stats.linregress(heights.column('MidParent'), heights.column('Child'))"
   ]
  },
  {
   "cell_type": "markdown",
   "metadata": {},
   "source": [
    "### Reporting Out ###\n",
    "\n",
    "#### The predicted childs height is given by $\\hat{Child} = 0.64\\cdot MidParent + 22.64$ and the correlation between child height and midparent height is 0.32.  At the 5% level, the slope and the correlation are significantly different from 0 with p <0.001.  See Figure 1 below.  ####"
   ]
  },
  {
   "cell_type": "code",
   "execution_count": null,
   "metadata": {},
   "outputs": [],
   "source": [
    "heights.scatter('MidParent', fit_line=True, color=\"blue\", facecolor=\"black\")\n",
    "plots.text(65, 75, \"$\\hat{Child} = 0.64\\cdot MidParent + 22.64$\\n$r=0.32$, $p <0.001$\", color=\"blue\")\n",
    "plots.title(\"Galton Heights Data\");\n",
    "#plots.text(69,50,\"Figure 1\");\n",
    "\n"
   ]
  },
  {
   "cell_type": "code",
   "execution_count": null,
   "metadata": {},
   "outputs": [],
   "source": []
  },
  {
   "cell_type": "code",
   "execution_count": null,
   "metadata": {},
   "outputs": [],
   "source": []
  },
  {
   "cell_type": "code",
   "execution_count": null,
   "metadata": {},
   "outputs": [],
   "source": []
  },
  {
   "cell_type": "markdown",
   "metadata": {},
   "source": [
    "## Example of a time when linear regression is not appropriate and how to fix it.\n",
    "\n",
    "Suppose we are trying to predict horsepower from mpg for cars.  "
   ]
  },
  {
   "cell_type": "code",
   "execution_count": null,
   "metadata": {},
   "outputs": [],
   "source": [
    "auto = Table.read_table(\"Auto_Data_Set_963_49.csv\")\n",
    "auto = auto.select(\"name\", \"year\", \"mpg\", \"horsepower\")\n",
    "auto.show(4)"
   ]
  },
  {
   "cell_type": "code",
   "execution_count": null,
   "metadata": {},
   "outputs": [],
   "source": [
    "scipy.stats.linregress(auto.column(\"mpg\"), auto.column(\"horsepower\"))"
   ]
  },
  {
   "cell_type": "markdown",
   "metadata": {},
   "source": [
    "### Be careful with rounding too early.  "
   ]
  },
  {
   "cell_type": "code",
   "execution_count": null,
   "metadata": {},
   "outputs": [],
   "source": [
    "print(\"Mean mpg is\", round(np.mean(auto.column(\"mpg\"))))\n",
    "print(\"St. dev. of mpg is\", round(stats.tstd(auto.column(\"mpg\")),1))\n",
    "print(\"Mean hp is\", round(np.mean(auto.column(\"horsepower\"))))\n",
    "print(\"St. dev. of hp is\", round(stats.tstd(auto.column(\"horsepower\"))))\n",
    "print(\"The correlation is\", round(stats.pearsonr(auto.column(\"mpg\"), auto.column(\"horsepower\"))[0],1))"
   ]
  },
  {
   "cell_type": "code",
   "execution_count": null,
   "metadata": {},
   "outputs": [],
   "source": [
    "slope = -0.8*38/7.8\n",
    "slope"
   ]
  },
  {
   "cell_type": "code",
   "execution_count": null,
   "metadata": {},
   "outputs": [],
   "source": [
    "print(\"Mean mpg is\", round(np.mean(auto.column(\"mpg\")), 6))\n",
    "print(\"St. dev. of mpg is\", round(stats.tstd(auto.column(\"mpg\")),6))\n",
    "print(\"Mean hp is\", round(np.mean(auto.column(\"horsepower\")),6))\n",
    "print(\"St. dev. of hp is\", round(stats.tstd(auto.column(\"horsepower\")),6))\n",
    "print(\"The correlation is\", round(stats.pearsonr(auto.column(\"mpg\"), auto.column(\"horsepower\"))[0],6))"
   ]
  },
  {
   "cell_type": "code",
   "execution_count": null,
   "metadata": {},
   "outputs": [],
   "source": [
    "slope = -0.778427 * 38.49116 / 7.805007\n",
    "slope"
   ]
  },
  {
   "cell_type": "code",
   "execution_count": null,
   "metadata": {},
   "outputs": [],
   "source": [
    "auto.scatter(\"mpg\", \"horsepower\")"
   ]
  },
  {
   "cell_type": "markdown",
   "metadata": {},
   "source": [
    "$$ \\hat{hp} = -3.83 \\cdot mpg + 194.48 $$\n",
    "\n",
    "This relationship is clearly not linear!  We shouldn't have performed a linear regression.  This is why we should always check the scatterplots first.  This is only a waste of our time, if we haven't learned our lesson about checking the scatterplots.  \n",
    "\n",
    "Anyway, it turns out that if we \"transform\" the mpg variable by taking it's reciprocal, the resulting variable has a linear relationship with hp.  "
   ]
  },
  {
   "cell_type": "code",
   "execution_count": null,
   "metadata": {},
   "outputs": [],
   "source": [
    "def recip(x):\n",
    "    return x**-1\n",
    "\n",
    "auto = auto.with_column(\"mpg_inv\", auto.apply(recip, \"mpg\"))\n",
    "\n",
    "auto.scatter(\"mpg_inv\", \"horsepower\")"
   ]
  },
  {
   "cell_type": "code",
   "execution_count": null,
   "metadata": {},
   "outputs": [],
   "source": [
    "scipy.stats.linregress(auto.column(\"mpg_inv\"), auto.column(\"horsepower\"))"
   ]
  },
  {
   "cell_type": "code",
   "execution_count": null,
   "metadata": {},
   "outputs": [],
   "source": [
    "print(\"Mean mpg_inv is\", round(np.mean(auto.column(\"mpg_inv\")),5))\n",
    "print(\"St. dev. of mpg is\", round(stats.tstd(auto.column(\"mpg_inv\")),5))\n",
    "print(\"Mean hp is\", round(np.mean(auto.column(\"horsepower\")),5))\n",
    "print(\"St. dev. of hp is\", round(stats.tstd(auto.column(\"horsepower\")),5))\n",
    "print(\"The correlation is\", round(stats.pearsonr(auto.column(\"mpg_inv\"), auto.column(\"horsepower\"))[0],5))"
   ]
  },
  {
   "cell_type": "code",
   "execution_count": null,
   "metadata": {},
   "outputs": [],
   "source": [
    "Slope = 0.85481*38.49116/0.01664\n",
    "Slope"
   ]
  },
  {
   "cell_type": "code",
   "execution_count": null,
   "metadata": {},
   "outputs": [],
   "source": [
    "Intercept = 104.46939 - Slope * 0.04782\n",
    "Intercept"
   ]
  },
  {
   "cell_type": "markdown",
   "metadata": {},
   "source": [
    "**Reporting Out**\n",
    "\n",
    "It turns out that the horsepower is linearly related to the recripocal of the MPG.  That linear relationship is $$\\hat{hp} = 1977.38 \\cdot \\frac{1}{mpg} + 9.91$$\n",
    "\n",
    "The correlation between horsepower and the reciprocal of MPG is 0.855, with a p-value less than 0.001.  "
   ]
  },
  {
   "cell_type": "code",
   "execution_count": null,
   "metadata": {},
   "outputs": [],
   "source": [
    "auto.scatter(\"mpg\", \"horsepower\")\n",
    "plots.text(25, 200, \"$\\hat{hp} = 1977.38 \\cdot mpg^{-1} + 9.91$\" )\n",
    "plots.text(25, 180, \"$r = 0.855, p<0.001$\")\n",
    "plots.title(\"Relationship Between\\nHorsepower & MPG\");"
   ]
  }
 ],
 "metadata": {
  "anaconda-cloud": {},
  "kernelspec": {
   "display_name": "Python 3",
   "language": "python",
   "name": "python3"
  },
  "language_info": {
   "codemirror_mode": {
    "name": "ipython",
    "version": 3
   },
   "file_extension": ".py",
   "mimetype": "text/x-python",
   "name": "python",
   "nbconvert_exporter": "python",
   "pygments_lexer": "ipython3",
   "version": "3.6.5"
  }
 },
 "nbformat": 4,
 "nbformat_minor": 1
}
