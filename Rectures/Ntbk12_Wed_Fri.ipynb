{
 "cells": [
  {
   "cell_type": "markdown",
   "metadata": {},
   "source": [
    "# Sampling Distributions and Central Limit Theorem #\n",
    "\n",
    "In this notebook, we will learn about:\n",
    "\n",
    "- Sampling Distributions for both mean and median\n",
    "- The Central Limit Theorem"
   ]
  },
  {
   "cell_type": "code",
   "execution_count": null,
   "metadata": {},
   "outputs": [],
   "source": [
    "import numpy as np\n",
    "import matplotlib.pyplot as plt\n",
    "from datascience import *\n",
    "\n",
    "import scipy.stats\n",
    "\n",
    "from hide_code3 import hide_code\n",
    "\n",
    "hide_code()"
   ]
  },
  {
   "cell_type": "markdown",
   "metadata": {},
   "source": [
    "## Variation in Samples ##\n",
    "\n",
    "If you have a large population, it's very likely that everytime you draw a sample, it will be a different sample.\n",
    "\n",
    "\n",
    "Then if you compute a statistics from that sample (mean, median, standard deviation, etc), it could be slightly different from sample to sample.  \n",
    "\n",
    "Run and re-run the next few cells to see what I mean.\n"
   ]
  },
  {
   "cell_type": "code",
   "execution_count": null,
   "metadata": {},
   "outputs": [],
   "source": [
    "united = Table.read_table('united.csv')\n",
    "#united\n",
    "# mybins = np.arange(-15, 175, 25)\n",
    "# united.hist(\"Delay\", bins = mybins)\n",
    "np.mean(united.column('Delay'))\n",
    "np.std(united.column(\"Delay\"))"
   ]
  },
  {
   "cell_type": "code",
   "execution_count": null,
   "metadata": {},
   "outputs": [],
   "source": [
    "x = united.sample(100).column('Delay')\n",
    "x"
   ]
  },
  {
   "cell_type": "code",
   "execution_count": null,
   "metadata": {},
   "outputs": [],
   "source": [
    "np.mean(x)"
   ]
  },
  {
   "cell_type": "code",
   "execution_count": null,
   "metadata": {},
   "outputs": [],
   "source": [
    "np.mean(united.sample(100).column('Delay'))"
   ]
  },
  {
   "cell_type": "markdown",
   "metadata": {},
   "source": [
    "## Sampling Distribution ##\n",
    "\n",
    "For a fixed population and fixed sample size, and for a particular statistic (most often the mean), the collection of all possible values of that statistic over all possible samples of that size, forms what we call the sampling distribution.\n",
    "\n",
    "The graphs below show a fixed population and (partial) sampling distributions for various sample sizes. "
   ]
  },
  {
   "cell_type": "markdown",
   "metadata": {},
   "source": [
    "### Uniform Population ###"
   ]
  },
  {
   "cell_type": "code",
   "execution_count": null,
   "metadata": {},
   "outputs": [],
   "source": [
    "from hidden_demos import sampling_distribution_demo1\n",
    "sampling_distribution_demo1()\n"
   ]
  },
  {
   "cell_type": "code",
   "execution_count": null,
   "metadata": {},
   "outputs": [],
   "source": []
  },
  {
   "cell_type": "markdown",
   "metadata": {},
   "source": [
    "\n",
    "### Symmetric but non-uniform population ###"
   ]
  },
  {
   "cell_type": "code",
   "execution_count": null,
   "metadata": {},
   "outputs": [],
   "source": [
    "from hidden_demos import sampling_distribution_demo2\n",
    "\n",
    "sampling_distribution_demo2()"
   ]
  },
  {
   "cell_type": "markdown",
   "metadata": {},
   "source": [
    "### Non-symmetric population ###"
   ]
  },
  {
   "cell_type": "code",
   "execution_count": null,
   "metadata": {},
   "outputs": [],
   "source": [
    "from hidden_demos import sampling_distribution_demo3\n",
    "\n",
    "sampling_distribution_demo3()"
   ]
  },
  {
   "cell_type": "markdown",
   "metadata": {},
   "source": [
    "### Normal population ###"
   ]
  },
  {
   "cell_type": "code",
   "execution_count": null,
   "metadata": {},
   "outputs": [],
   "source": [
    "from hidden_demos import sampling_distribution_demo4\n",
    "\n",
    "sampling_distribution_demo4()"
   ]
  },
  {
   "cell_type": "markdown",
   "metadata": {},
   "source": [
    "## What were we supposed to observe in these graphs above? ##\n",
    "\n",
    "1. As the sample size increased, all the sampling distributions began to approach normal distributions.  Did you notice the normal curve superimposed on most graphs?\n",
    "\n",
    "2. For the example where the population was normal to start with, the sampling distribution *always* looked normal.\n",
    "\n",
    "3. Did you notice that the scaling on the x-axis kept changing?  Go back and look again.\n",
    "\n",
    "    As the sample size *increased* the spread along the x-axis *decreased*.  That's not just a coincidence or a trick.  The standard deviations are shrinking as the sample size increases, and there's even a formula that predicts what the sampling distributions standard deviation should be.  \n",
    "\n",
    "\n",
    "\n",
    "### Law of Large Numbers ###\n",
    "\n",
    "If $\\overline{X}_n$ is the average of $n$ many $x_i$ all drawn from the same population/distribution with mean $\\mu$ then as $n$ increases, $\\overline{X}_n$ will approach $\\mu$.  \n",
    "\n",
    "That is, when your sample size is very large, you can have some confidence that the sample average is \"pretty close\" to the population average.  Later, when we study confidence intervals, we'll be able to quantify what counts as \"pretty close\".\n",
    "\n",
    "\n",
    "### Central Limit Theorem ###\n",
    "\n",
    "Assume $\\overline{X}_n$ is the average of $n$ many $x_i$ all drawn from the same population/distribution with mean $\\mu$ and population standard deviation $\\sigma$.  Then $\\overline{X}_n$ is a member of a sampling distribution.  For large values of $n$, this sampling distribution can be assumed approximately normal.  Specifically, the sampling distribution can be assumed to be $\\displaystyle N\\left(\\mu, \\frac{\\sigma}{\\sqrt{n}} \\right)$.  \n",
    "\n",
    "*Recall N(m, s) refers to a normal distribution with a mean of m and a standard deviation of s.*\n",
    "\n",
    "What counts as a large sample size?  Generally, above 32 is considered large enough that most sampling distributions are at least approximately normal.  We saw with our Non-Symmetric Original Population example that sometimes it can take much larger samples before the graph appears normal; fortunately, such strongly skewed original populations don't come up often, and when they do, it's easy to detect.  \n",
    "\n",
    "\n",
    "### Normal populations don't need CLT ###\n",
    "\n",
    "If the original population is already normal, the sampling distribution for literally any size will automatically be normal and will follow $\\displaystyle N\\left(\\mu, \\frac{\\sigma}{\\sqrt{n}} \\right)$.  \n",
    "\n",
    "\n"
   ]
  },
  {
   "cell_type": "markdown",
   "metadata": {},
   "source": [
    "## Large Random Samples ##"
   ]
  },
  {
   "cell_type": "code",
   "execution_count": null,
   "metadata": {},
   "outputs": [],
   "source": [
    "#Download the united table again\n",
    "\n",
    "united = Table.read_table('united.csv')\n",
    "united"
   ]
  },
  {
   "cell_type": "code",
   "execution_count": null,
   "metadata": {},
   "outputs": [],
   "source": [
    "united_bins = np.arange(-20, 201, 5)\n",
    "united.hist('Delay', bins = united_bins)\n",
    "\n",
    "#Think about what this code is producing. It is creating a histogram of all the delay times (recall that negative times\n",
    "#mean they arrived early). Pay attention to the bins."
   ]
  },
  {
   "cell_type": "code",
   "execution_count": null,
   "metadata": {},
   "outputs": [],
   "source": [
    "#This is the actual average of delay times, just like we computed in class.\n",
    "\n",
    "np.average(united.column('Delay'))"
   ]
  },
  {
   "cell_type": "code",
   "execution_count": null,
   "metadata": {},
   "outputs": [],
   "source": [
    "#Now let's find the average of a sample of size 10 of delay times. Run this a few times to see the different\n",
    "#averages you get. Notice the variation in the results. What's the greatest average you get? The least? How close to the \n",
    "#real average of 16.658155515370705 are they?\n",
    "\n",
    "np.average(united.sample(10).column('Delay'))"
   ]
  },
  {
   "cell_type": "code",
   "execution_count": null,
   "metadata": {},
   "outputs": [],
   "source": [
    "#Let's create a function that will allow us to do the above with whatever sample size we choose.\n",
    "\n",
    "def sample_mean(size):\n",
    "    return np.average(united.sample(size).column('Delay'))"
   ]
  },
  {
   "cell_type": "code",
   "execution_count": null,
   "metadata": {},
   "outputs": [],
   "source": [
    "sample_means = make_array()\n",
    "\n",
    "for i in np.arange(1000):\n",
    "    new_mean = sample_mean(10)\n",
    "    sample_means = np.append(sample_means, new_mean)\n",
    "    \n",
    "print(sample_means)\n",
    "\n",
    "#Decipher this code before running. You are first making an empty array. Then, you are finding the mean of a sample of 10 \n",
    "#delay times. Notice you are using the function you defined, \"sample_mean\", to accomplish this. You repeat this 1000 times.\n",
    "#That is what the 'for loop' accomplishes. Each time, you are entering the result into the array called sample_means. \n",
    "#Look at the first number in your array. Python took a random sample of 10 delay times and found the mean. \n",
    "#That first number is the mean it found. There are 1000 results in the array!"
   ]
  },
  {
   "cell_type": "code",
   "execution_count": null,
   "metadata": {},
   "outputs": [],
   "source": [
    "#Let's make a histogram of these means. Note that the histogram will change each time you run this cell because your array\n",
    "#will change based on the samples. Run it a few times to see.\n",
    "\n",
    "sample_means = make_array()\n",
    "\n",
    "for i in np.arange(1000):\n",
    "    new_mean = sample_mean(10)\n",
    "    sample_means = np.append(sample_means, new_mean)\n",
    "\n",
    "Table().with_column('Sample means', sample_means).hist()\n"
   ]
  },
  {
   "cell_type": "code",
   "execution_count": null,
   "metadata": {},
   "outputs": [],
   "source": [
    "#Let's find the average of all these means. We're going to take the 1000 numbers from the array and calculate their mean.\n",
    "#How close is the average of the array to the actual average of flight delays? Run it a few times to see the different results.\n",
    "\n",
    "sample_means = make_array()\n",
    "\n",
    "for i in np.arange(1000):\n",
    "    new_mean = sample_mean(10)\n",
    "    sample_means = np.append(sample_means, new_mean)\n",
    "\n",
    "np.average(sample_means)\n"
   ]
  },
  {
   "cell_type": "code",
   "execution_count": null,
   "metadata": {},
   "outputs": [],
   "source": [
    "#This code does all of the above in one step.\n",
    "\n",
    "sample_means = make_array()\n",
    "\n",
    "for i in np.arange(1000):\n",
    "    new_mean = sample_mean(10)\n",
    "    sample_means = np.append(sample_means, new_mean)\n",
    "\n",
    "print(np.average(sample_means))\n",
    "\n",
    "Table().with_column('Sample means', sample_means).hist()\n"
   ]
  },
  {
   "cell_type": "code",
   "execution_count": null,
   "metadata": {},
   "outputs": [],
   "source": [
    "#Let's do the same thing, but this time the sample size will be 25. Study the code below and see how it makes sense. \n",
    "\n",
    "sam_size = 25\n",
    "\n",
    "sample_means = make_array()\n",
    "\n",
    "for i in np.arange(1000):\n",
    "    new_mean = sample_mean(sam_size)\n",
    "    sample_means = np.append(sample_means, new_mean)\n",
    "    \n",
    "print(np.average(sample_means))\n",
    "    \n",
    "Table().with_column('Sample means', sample_means).hist()"
   ]
  },
  {
   "cell_type": "markdown",
   "metadata": {},
   "source": [
    "Compare the variation, or spread, of the histograms from samples of size 10 and samples of size 25. Which has the larger spread? Is one a better predictor of the actual mean of united flight delays? Recall the actual mean is 16.658155515370705."
   ]
  },
  {
   "cell_type": "code",
   "execution_count": null,
   "metadata": {},
   "outputs": [],
   "source": [
    "#Predict the histogram you will get if you do the same thing with samples of size 50. Predict the how close the mean will \n",
    "#be to the true average of flight delays and also how spread out the histogram will be. Look at the scale at the bottom.\n",
    "\n",
    "sam_size = 50\n",
    "\n",
    "sample_means = make_array()\n",
    "\n",
    "for i in np.arange(1000):\n",
    "    new_mean = sample_mean(sam_size)\n",
    "    sample_means = np.append(sample_means, new_mean)\n",
    "    \n",
    "print(np.average(sample_means))\n",
    "    \n",
    "Table().with_column('Sample means', sample_means).hist()"
   ]
  },
  {
   "cell_type": "code",
   "execution_count": null,
   "metadata": {},
   "outputs": [],
   "source": [
    "#What will a histogram of means from samples of size 4000 look like? Make a prediction before running. It may take awhile\n",
    "#for Python to perform this. Try it at least a couple of times to see how close to the true average it gets. Also notice\n",
    "#how spread out the data is.\n",
    "\n",
    "sam_size = 4000\n",
    "\n",
    "sample_means = make_array()\n",
    "\n",
    "for i in np.arange(1000):\n",
    "    new_mean = sample_mean(sam_size)\n",
    "    sample_means = np.append(sample_means, new_mean)\n",
    "    \n",
    "print(np.average(sample_means))\n",
    "    \n",
    "Table().with_column('Sample means', sample_means).hist()"
   ]
  },
  {
   "cell_type": "markdown",
   "metadata": {},
   "source": [
    "## Sampling Distributions with Medians ##\n",
    "\n",
    "A sampling distribution exists (in theory) for any statistic you can compute from a sample.  Another common statistic to work with is the median.  \n",
    "\n",
    "It's not a common to work with the median, and it doesn't work out as nicely, because the Central Limit Theorem does not necessarily apply to the median, like it does with the mean.\n"
   ]
  },
  {
   "cell_type": "code",
   "execution_count": null,
   "metadata": {},
   "outputs": [],
   "source": [
    "np.median(united.column('Delay'))"
   ]
  },
  {
   "cell_type": "code",
   "execution_count": null,
   "metadata": {},
   "outputs": [],
   "source": [
    "np.median(united.sample(10).column('Delay'))"
   ]
  },
  {
   "cell_type": "code",
   "execution_count": null,
   "metadata": {},
   "outputs": [],
   "source": [
    "def sample_median(size):\n",
    "    return np.median(united.sample(size).column('Delay'))"
   ]
  },
  {
   "cell_type": "code",
   "execution_count": null,
   "metadata": {},
   "outputs": [],
   "source": [
    "sample_median(10)"
   ]
  },
  {
   "cell_type": "code",
   "execution_count": null,
   "metadata": {},
   "outputs": [],
   "source": [
    "sample_medians = make_array()\n",
    "\n",
    "for i in np.arange(1000):\n",
    "    new_median = sample_median(10)\n",
    "    sample_medians = np.append(sample_medians, new_median)"
   ]
  },
  {
   "cell_type": "code",
   "execution_count": null,
   "metadata": {},
   "outputs": [],
   "source": [
    "Table().with_column('Sample medians', sample_medians).hist(bins = np.arange(-10,31))"
   ]
  },
  {
   "cell_type": "code",
   "execution_count": null,
   "metadata": {},
   "outputs": [],
   "source": []
  },
  {
   "cell_type": "code",
   "execution_count": null,
   "metadata": {},
   "outputs": [],
   "source": [
    "sample_medians = make_array()\n",
    "\n",
    "for i in np.arange(1000):\n",
    "    new_median = sample_median(1000)\n",
    "    sample_medians = np.append(sample_medians, new_median)\n",
    "\n",
    "\n",
    "Table().with_column('Sample medians', sample_medians).hist(bins = np.arange(-10,31))"
   ]
  },
  {
   "cell_type": "code",
   "execution_count": null,
   "metadata": {},
   "outputs": [],
   "source": [
    "Table().with_column('Sample medians', sample_medians).hist(bins = np.arange(-10,31))"
   ]
  },
  {
   "cell_type": "code",
   "execution_count": null,
   "metadata": {},
   "outputs": [],
   "source": []
  }
 ],
 "metadata": {
  "kernelspec": {
   "display_name": "Python 3",
   "language": "python",
   "name": "python3"
  },
  "language_info": {
   "codemirror_mode": {
    "name": "ipython",
    "version": 3
   },
   "file_extension": ".py",
   "mimetype": "text/x-python",
   "name": "python",
   "nbconvert_exporter": "python",
   "pygments_lexer": "ipython3",
   "version": "3.8.6"
  }
 },
 "nbformat": 4,
 "nbformat_minor": 4
}
